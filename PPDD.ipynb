{
  "nbformat": 4,
  "nbformat_minor": 0,
  "metadata": {
    "colab": {
      "name": "PPDD.ipynb",
      "provenance": [],
      "collapsed_sections": [],
      "machine_shape": "hm",
      "mount_file_id": "1vCXwudXUZpUmzLdlfBoJ0LU7XlCbKpgG",
      "authorship_tag": "ABX9TyMsQ+FNGoxO4EQSn8ujkODg",
      "include_colab_link": true
    },
    "kernelspec": {
      "name": "python3",
      "display_name": "Python 3"
    },
    "accelerator": "GPU"
  },
  "cells": [
    {
      "cell_type": "markdown",
      "metadata": {
        "id": "view-in-github",
        "colab_type": "text"
      },
      "source": [
        "<a href=\"https://colab.research.google.com/github/slslslrhfem/FLAGnet/blob/master/PPDD.ipynb\" target=\"_parent\"><img src=\"https://colab.research.google.com/assets/colab-badge.svg\" alt=\"Open In Colab\"/></a>"
      ]
    },
    {
      "cell_type": "code",
      "metadata": {
        "id": "MxEabHuzyjFE",
        "colab_type": "code",
        "colab": {
          "base_uri": "https://localhost:8080/",
          "height": 104
        },
        "outputId": "5b2b7c54-5658-45de-9a7d-36ba1cf3bb91"
      },
      "source": [
        "pip install mido"
      ],
      "execution_count": null,
      "outputs": [
        {
          "output_type": "stream",
          "text": [
            "Collecting mido\n",
            "\u001b[?25l  Downloading https://files.pythonhosted.org/packages/20/0a/81beb587b1ae832ea6a1901dc7c6faa380e8dd154e0a862f0a9f3d2afab9/mido-1.2.9-py2.py3-none-any.whl (52kB)\n",
            "\r\u001b[K     |██████▎                         | 10kB 25.9MB/s eta 0:00:01\r\u001b[K     |████████████▌                   | 20kB 2.9MB/s eta 0:00:01\r\u001b[K     |██████████████████▊             | 30kB 3.9MB/s eta 0:00:01\r\u001b[K     |█████████████████████████       | 40kB 4.2MB/s eta 0:00:01\r\u001b[K     |███████████████████████████████▏| 51kB 3.4MB/s eta 0:00:01\r\u001b[K     |████████████████████████████████| 61kB 2.2MB/s \n",
            "\u001b[?25hInstalling collected packages: mido\n",
            "Successfully installed mido-1.2.9\n"
          ],
          "name": "stdout"
        }
      ]
    },
    {
      "cell_type": "code",
      "metadata": {
        "id": "bJ3x-FF_4XGK",
        "colab_type": "code",
        "colab": {
          "base_uri": "https://localhost:8080/",
          "height": 244
        },
        "outputId": "74bbc0df-1ab5-47c7-b128-5f6484dbdf4c"
      },
      "source": [
        "pip install pretty_midi"
      ],
      "execution_count": null,
      "outputs": [
        {
          "output_type": "stream",
          "text": [
            "Collecting pretty_midi\n",
            "\u001b[?25l  Downloading https://files.pythonhosted.org/packages/bc/8e/63c6e39a7a64623a9cd6aec530070c70827f6f8f40deec938f323d7b1e15/pretty_midi-0.2.9.tar.gz (5.6MB)\n",
            "\u001b[K     |████████████████████████████████| 5.6MB 4.5MB/s \n",
            "\u001b[?25hRequirement already satisfied: numpy>=1.7.0 in /usr/local/lib/python3.6/dist-packages (from pretty_midi) (1.18.5)\n",
            "Requirement already satisfied: mido>=1.1.16 in /usr/local/lib/python3.6/dist-packages (from pretty_midi) (1.2.9)\n",
            "Requirement already satisfied: six in /usr/local/lib/python3.6/dist-packages (from pretty_midi) (1.15.0)\n",
            "Building wheels for collected packages: pretty-midi\n",
            "  Building wheel for pretty-midi (setup.py) ... \u001b[?25l\u001b[?25hdone\n",
            "  Created wheel for pretty-midi: filename=pretty_midi-0.2.9-cp36-none-any.whl size=5591954 sha256=85ea4f965e57fce387e4852f111f8473d34ec911e88cb38368da8ae31c3da432\n",
            "  Stored in directory: /root/.cache/pip/wheels/4c/a1/c6/b5697841db1112c6e5866d75a6b6bf1bef73b874782556ba66\n",
            "Successfully built pretty-midi\n",
            "Installing collected packages: pretty-midi\n",
            "Successfully installed pretty-midi-0.2.9\n"
          ],
          "name": "stdout"
        }
      ]
    },
    {
      "cell_type": "code",
      "metadata": {
        "id": "5kljETrpXyFX",
        "colab_type": "code",
        "colab": {
          "base_uri": "https://localhost:8080/",
          "height": 944
        },
        "outputId": "9a8a4bee-e81c-4ec8-de24-f5c54019435a"
      },
      "source": [
        "pip install tensorflow==1.15.0"
      ],
      "execution_count": null,
      "outputs": [
        {
          "output_type": "stream",
          "text": [
            "Collecting tensorflow==1.15.0\n",
            "\u001b[?25l  Downloading https://files.pythonhosted.org/packages/3f/98/5a99af92fb911d7a88a0005ad55005f35b4c1ba8d75fba02df726cd936e6/tensorflow-1.15.0-cp36-cp36m-manylinux2010_x86_64.whl (412.3MB)\n",
            "\u001b[K     |████████████████████████████████| 412.3MB 37kB/s \n",
            "\u001b[?25hRequirement already satisfied: absl-py>=0.7.0 in /usr/local/lib/python3.6/dist-packages (from tensorflow==1.15.0) (0.8.1)\n",
            "Collecting keras-applications>=1.0.8\n",
            "\u001b[?25l  Downloading https://files.pythonhosted.org/packages/71/e3/19762fdfc62877ae9102edf6342d71b28fbfd9dea3d2f96a882ce099b03f/Keras_Applications-1.0.8-py3-none-any.whl (50kB)\n",
            "\u001b[K     |████████████████████████████████| 51kB 6.4MB/s \n",
            "\u001b[?25hRequirement already satisfied: astor>=0.6.0 in /usr/local/lib/python3.6/dist-packages (from tensorflow==1.15.0) (0.8.1)\n",
            "Requirement already satisfied: google-pasta>=0.1.6 in /usr/local/lib/python3.6/dist-packages (from tensorflow==1.15.0) (0.2.0)\n",
            "Requirement already satisfied: numpy<2.0,>=1.16.0 in /usr/local/lib/python3.6/dist-packages (from tensorflow==1.15.0) (1.18.5)\n",
            "Requirement already satisfied: protobuf>=3.6.1 in /usr/local/lib/python3.6/dist-packages (from tensorflow==1.15.0) (3.12.4)\n",
            "Requirement already satisfied: six>=1.10.0 in /usr/local/lib/python3.6/dist-packages (from tensorflow==1.15.0) (1.15.0)\n",
            "Requirement already satisfied: wrapt>=1.11.1 in /usr/local/lib/python3.6/dist-packages (from tensorflow==1.15.0) (1.12.1)\n",
            "Requirement already satisfied: wheel>=0.26 in /usr/local/lib/python3.6/dist-packages (from tensorflow==1.15.0) (0.35.1)\n",
            "Collecting gast==0.2.2\n",
            "  Downloading https://files.pythonhosted.org/packages/4e/35/11749bf99b2d4e3cceb4d55ca22590b0d7c2c62b9de38ac4a4a7f4687421/gast-0.2.2.tar.gz\n",
            "Requirement already satisfied: keras-preprocessing>=1.0.5 in /usr/local/lib/python3.6/dist-packages (from tensorflow==1.15.0) (1.1.2)\n",
            "Requirement already satisfied: grpcio>=1.8.6 in /usr/local/lib/python3.6/dist-packages (from tensorflow==1.15.0) (1.31.0)\n",
            "Requirement already satisfied: opt-einsum>=2.3.2 in /usr/local/lib/python3.6/dist-packages (from tensorflow==1.15.0) (3.3.0)\n",
            "Collecting tensorflow-estimator==1.15.1\n",
            "\u001b[?25l  Downloading https://files.pythonhosted.org/packages/de/62/2ee9cd74c9fa2fa450877847ba560b260f5d0fb70ee0595203082dafcc9d/tensorflow_estimator-1.15.1-py2.py3-none-any.whl (503kB)\n",
            "\u001b[K     |████████████████████████████████| 512kB 45.1MB/s \n",
            "\u001b[?25hRequirement already satisfied: termcolor>=1.1.0 in /usr/local/lib/python3.6/dist-packages (from tensorflow==1.15.0) (1.1.0)\n",
            "Collecting tensorboard<1.16.0,>=1.15.0\n",
            "\u001b[?25l  Downloading https://files.pythonhosted.org/packages/1e/e9/d3d747a97f7188f48aa5eda486907f3b345cd409f0a0850468ba867db246/tensorboard-1.15.0-py3-none-any.whl (3.8MB)\n",
            "\u001b[K     |████████████████████████████████| 3.8MB 48.8MB/s \n",
            "\u001b[?25hRequirement already satisfied: h5py in /usr/local/lib/python3.6/dist-packages (from keras-applications>=1.0.8->tensorflow==1.15.0) (2.10.0)\n",
            "Requirement already satisfied: setuptools in /usr/local/lib/python3.6/dist-packages (from protobuf>=3.6.1->tensorflow==1.15.0) (49.6.0)\n",
            "Requirement already satisfied: markdown>=2.6.8 in /usr/local/lib/python3.6/dist-packages (from tensorboard<1.16.0,>=1.15.0->tensorflow==1.15.0) (3.2.2)\n",
            "Requirement already satisfied: werkzeug>=0.11.15 in /usr/local/lib/python3.6/dist-packages (from tensorboard<1.16.0,>=1.15.0->tensorflow==1.15.0) (1.0.1)\n",
            "Requirement already satisfied: importlib-metadata; python_version < \"3.8\" in /usr/local/lib/python3.6/dist-packages (from markdown>=2.6.8->tensorboard<1.16.0,>=1.15.0->tensorflow==1.15.0) (1.7.0)\n",
            "Requirement already satisfied: zipp>=0.5 in /usr/local/lib/python3.6/dist-packages (from importlib-metadata; python_version < \"3.8\"->markdown>=2.6.8->tensorboard<1.16.0,>=1.15.0->tensorflow==1.15.0) (3.1.0)\n",
            "Building wheels for collected packages: gast\n",
            "  Building wheel for gast (setup.py) ... \u001b[?25l\u001b[?25hdone\n",
            "  Created wheel for gast: filename=gast-0.2.2-cp36-none-any.whl size=7542 sha256=fdae800ce0ac7eccbcbdeb327cfa5f0351a628e277878012481a9c85f88b53ed\n",
            "  Stored in directory: /root/.cache/pip/wheels/5c/2e/7e/a1d4d4fcebe6c381f378ce7743a3ced3699feb89bcfbdadadd\n",
            "Successfully built gast\n",
            "\u001b[31mERROR: tensorflow-probability 0.11.0 has requirement gast>=0.3.2, but you'll have gast 0.2.2 which is incompatible.\u001b[0m\n",
            "Installing collected packages: keras-applications, gast, tensorflow-estimator, tensorboard, tensorflow\n",
            "  Found existing installation: gast 0.3.3\n",
            "    Uninstalling gast-0.3.3:\n",
            "      Successfully uninstalled gast-0.3.3\n",
            "  Found existing installation: tensorflow-estimator 2.3.0\n",
            "    Uninstalling tensorflow-estimator-2.3.0:\n",
            "      Successfully uninstalled tensorflow-estimator-2.3.0\n",
            "  Found existing installation: tensorboard 2.3.0\n",
            "    Uninstalling tensorboard-2.3.0:\n",
            "      Successfully uninstalled tensorboard-2.3.0\n",
            "  Found existing installation: tensorflow 2.3.0\n",
            "    Uninstalling tensorflow-2.3.0:\n",
            "      Successfully uninstalled tensorflow-2.3.0\n",
            "Successfully installed gast-0.2.2 keras-applications-1.0.8 tensorboard-1.15.0 tensorflow-1.15.0 tensorflow-estimator-1.15.1\n"
          ],
          "name": "stdout"
        }
      ]
    },
    {
      "cell_type": "code",
      "metadata": {
        "id": "YP5JOsojTLIE",
        "colab_type": "code",
        "colab": {
          "base_uri": "https://localhost:8080/",
          "height": 278
        },
        "outputId": "026d4029-ad43-4996-9d4c-e93684a4c6bb"
      },
      "source": [
        "pip install keras==2.3.1"
      ],
      "execution_count": null,
      "outputs": [
        {
          "output_type": "stream",
          "text": [
            "Collecting keras==2.3.1\n",
            "\u001b[?25l  Downloading https://files.pythonhosted.org/packages/ad/fd/6bfe87920d7f4fd475acd28500a42482b6b84479832bdc0fe9e589a60ceb/Keras-2.3.1-py2.py3-none-any.whl (377kB)\n",
            "\u001b[K     |████████████████████████████████| 378kB 4.5MB/s \n",
            "\u001b[?25hRequirement already satisfied: scipy>=0.14 in /usr/local/lib/python3.6/dist-packages (from keras==2.3.1) (1.4.1)\n",
            "Requirement already satisfied: numpy>=1.9.1 in /usr/local/lib/python3.6/dist-packages (from keras==2.3.1) (1.18.5)\n",
            "Requirement already satisfied: h5py in /usr/local/lib/python3.6/dist-packages (from keras==2.3.1) (2.10.0)\n",
            "Requirement already satisfied: six>=1.9.0 in /usr/local/lib/python3.6/dist-packages (from keras==2.3.1) (1.15.0)\n",
            "Requirement already satisfied: pyyaml in /usr/local/lib/python3.6/dist-packages (from keras==2.3.1) (3.13)\n",
            "Requirement already satisfied: keras-applications>=1.0.6 in /usr/local/lib/python3.6/dist-packages (from keras==2.3.1) (1.0.8)\n",
            "Requirement already satisfied: keras-preprocessing>=1.0.5 in /usr/local/lib/python3.6/dist-packages (from keras==2.3.1) (1.1.2)\n",
            "Installing collected packages: keras\n",
            "  Found existing installation: Keras 2.4.3\n",
            "    Uninstalling Keras-2.4.3:\n",
            "      Successfully uninstalled Keras-2.4.3\n",
            "Successfully installed keras-2.3.1\n"
          ],
          "name": "stdout"
        }
      ]
    },
    {
      "cell_type": "code",
      "metadata": {
        "id": "upkZgrqruxem",
        "colab_type": "code",
        "colab": {
          "base_uri": "https://localhost:8080/",
          "height": 34
        },
        "outputId": "68aed6fd-0b96-4883-e140-121436786d7a"
      },
      "source": [
        "import keras\n",
        "import os\n",
        "import json\n",
        "import pandas\n",
        "import tensorflow as tf\n",
        "import numpy as np\n",
        "from keras.layers import Dense\n",
        "from keras import layers\n",
        "from keras import optimizers\n",
        "from keras.models import Sequential\n",
        "import pickle\n",
        "import pretty_midi\n",
        "import mido\n",
        "from tqdm import tqdm\n",
        "import pickle\n",
        "import copy"
      ],
      "execution_count": null,
      "outputs": [
        {
          "output_type": "stream",
          "text": [
            "Using TensorFlow backend.\n"
          ],
          "name": "stderr"
        }
      ]
    },
    {
      "cell_type": "code",
      "metadata": {
        "id": "Nt3ElGb47kOE",
        "colab_type": "code",
        "colab": {
          "base_uri": "https://localhost:8080/",
          "height": 35
        },
        "outputId": "227bc379-7c89-4e4c-d9dd-32182d8945a7"
      },
      "source": [
        "\"\"\"\n",
        "midifilenames=sorted(midifilenames)\n",
        "csvfilenames=sorted(csvfilenames)\n",
        "jsonfilenames=sorted(jsonfilenames)\n",
        "\"\"\""
      ],
      "execution_count": null,
      "outputs": [
        {
          "output_type": "execute_result",
          "data": {
            "application/vnd.google.colaboratory.intrinsic+json": {
              "type": "string"
            },
            "text/plain": [
              "'\\nmidifilenames=sorted(midifilenames)\\ncsvfilenames=sorted(csvfilenames)\\njsonfilenames=sorted(jsonfilenames)\\n'"
            ]
          },
          "metadata": {
            "tags": []
          },
          "execution_count": 6
        }
      ]
    },
    {
      "cell_type": "code",
      "metadata": {
        "id": "KOjmQZTO0TtC",
        "colab_type": "code",
        "colab": {}
      },
      "source": [
        "def get_meta(filename):\n",
        "  with open('/content/drive/My Drive/MARG/PPDD-Sep2018_sym_mono_large/PPDD-Sep2018_sym_mono_large/descriptor/'+filename) as json_file:\n",
        "    meta_data = json.load(json_file)\n",
        "  return meta_data"
      ],
      "execution_count": null,
      "outputs": []
    },
    {
      "cell_type": "code",
      "metadata": {
        "id": "JdprhNM2Y2qy",
        "colab_type": "code",
        "colab": {
          "base_uri": "https://localhost:8080/",
          "height": 70
        },
        "outputId": "90a5696c-e5d7-4492-f4fb-d288c73e8b12"
      },
      "source": [
        "\"\"\"\n",
        "csvfilenames=os.listdir('/content/drive/My Drive/MARG/PPDD-Sep2018_sym_mono_large/PPDD-Sep2018_sym_mono_large/prime_csv')\n",
        "jsonfilenames=os.listdir('/content/drive/My Drive/MARG/PPDD-Sep2018_sym_mono_large/PPDD-Sep2018_sym_mono_large/descriptor')\n",
        "midifilenames=os.listdir('/content/drive/My Drive/MARG/PPDD-Sep2018_sym_mono_large/PPDD-Sep2018_sym_mono_large/prime_midi')\n",
        "\"\"\""
      ],
      "execution_count": null,
      "outputs": [
        {
          "output_type": "execute_result",
          "data": {
            "application/vnd.google.colaboratory.intrinsic+json": {
              "type": "string"
            },
            "text/plain": [
              "\"\\ncsvfilenames=os.listdir('/content/drive/My Drive/MARG/PPDD-Sep2018_sym_mono_large/PPDD-Sep2018_sym_mono_large/prime_csv')\\njsonfilenames=os.listdir('/content/drive/My Drive/MARG/PPDD-Sep2018_sym_mono_large/PPDD-Sep2018_sym_mono_large/descriptor')\\nmidifilenames=os.listdir('/content/drive/My Drive/MARG/PPDD-Sep2018_sym_mono_large/PPDD-Sep2018_sym_mono_large/prime_midi')\\n\""
            ]
          },
          "metadata": {
            "tags": []
          },
          "execution_count": 8
        }
      ]
    },
    {
      "cell_type": "code",
      "metadata": {
        "id": "0lpgz0bAYHsj",
        "colab_type": "code",
        "colab": {
          "base_uri": "https://localhost:8080/",
          "height": 52
        },
        "outputId": "6dfa1466-91b2-407b-d4f5-a0b7f101d511"
      },
      "source": [
        "\n",
        "\n",
        "\"\"\"\n",
        "with open('/content/drive/My Drive/MARG/PPDDlist/csvnamelist.txt', 'wb') as f:\n",
        "  pickle.dump(csvfilenames, f)\n",
        "with open('/content/drive/My Drive/MARG/PPDDlist/jsonnamelist.txt', 'wb') as f:\n",
        "  pickle.dump(jsonfilenames, f)\n",
        "with open('/content/drive/My Drive/MARG/PPDDlist/midinamelist.txt', 'wb') as f:\n",
        "  pickle.dump(midifilenames, f)\n",
        "\"\"\""
      ],
      "execution_count": null,
      "outputs": [
        {
          "output_type": "execute_result",
          "data": {
            "application/vnd.google.colaboratory.intrinsic+json": {
              "type": "string"
            },
            "text/plain": [
              "\"\\nwith open('/content/drive/My Drive/MARG/PPDDlist/csvnamelist.txt', 'wb') as f:\\n  pickle.dump(csvfilenames, f)\\nwith open('/content/drive/My Drive/MARG/PPDDlist/jsonnamelist.txt', 'wb') as f:\\n  pickle.dump(jsonfilenames, f)\\nwith open('/content/drive/My Drive/MARG/PPDDlist/midinamelist.txt', 'wb') as f:\\n  pickle.dump(midifilenames, f)\\n\""
            ]
          },
          "metadata": {
            "tags": []
          },
          "execution_count": 9
        }
      ]
    },
    {
      "cell_type": "code",
      "metadata": {
        "id": "QoAxt13seNi-",
        "colab_type": "code",
        "colab": {}
      },
      "source": [
        "\n",
        "with open('/content/drive/My Drive/MARG/PPDDlist/midilist.txt', 'rb') as f:\n",
        "  midilist=pickle.load(f)\n",
        "with open('/content/drive/My Drive/MARG/PPDDlist/csvlist.txt', 'rb') as f2:\n",
        "  csvlist=pickle.load(f2)\n",
        "with open('/content/drive/My Drive/MARG/PPDDlist/jsonlist.txt', 'rb') as f3:\n",
        "  jsonlist=pickle.load(f3)\n",
        "with open('/content/drive/My Drive/MARG/PPDDlist/prettymidilist.txt', 'rb') as f4:\n",
        "  prettymidilist=pickle.load(f4)"
      ],
      "execution_count": null,
      "outputs": []
    },
    {
      "cell_type": "code",
      "metadata": {
        "id": "Yc57uuAq2gx9",
        "colab_type": "code",
        "colab": {
          "base_uri": "https://localhost:8080/",
          "height": 105
        },
        "outputId": "f5f532a1-1377-47a8-c523-51cdf4ad3609"
      },
      "source": [
        "\"\"\"\n",
        "import pretty_midi\n",
        "import mido\n",
        "from tqdm import tqdm\n",
        "midilist=[]\n",
        "csvlist=[]\n",
        "jsonlist=[]\n",
        "prettymidilist=[]\n",
        "for filenames in tqdm(midifilenames,position=0):\n",
        "  midi_path='/content/drive/My Drive/MARG/PPDD-Sep2018_sym_mono_large/PPDD-Sep2018_sym_mono_large/prime_midi/'+filenames\n",
        "  mid = mido.MidiFile(midi_path, clip=True)\n",
        "  midilist.append(mid)\n",
        "  prettymid=pretty_midi.PrettyMIDI(midi_path)\n",
        "  prettymidilist.append(prettymid)\n",
        "\n",
        "for filenames in tqdm(csvfilenames,position=0):\n",
        "  csv_path='/content/drive/My Drive/MARG/PPDD-Sep2018_sym_mono_large/PPDD-Sep2018_sym_mono_large/prime_csv/'+filenames\n",
        "  csv = pandas.read_csv(csv_path)\n",
        "  csvlist.append(csv)\n",
        "for filenames in tqdm(jsonfilenames,position=0):\n",
        "  jsonlist.append(get_meta(filenames))\n",
        "\n",
        "#midifilenames와 list들의 순서는 같다고 생각하고 코드 작성\n",
        "\"\"\""
      ],
      "execution_count": null,
      "outputs": [
        {
          "output_type": "execute_result",
          "data": {
            "application/vnd.google.colaboratory.intrinsic+json": {
              "type": "string"
            },
            "text/plain": [
              "\"\\nimport pretty_midi\\nimport mido\\nfrom tqdm import tqdm\\nmidilist=[]\\ncsvlist=[]\\njsonlist=[]\\nprettymidilist=[]\\nfor filenames in tqdm(midifilenames,position=0):\\n  midi_path='/content/drive/My Drive/MARG/PPDD-Sep2018_sym_mono_large/PPDD-Sep2018_sym_mono_large/prime_midi/'+filenames\\n  mid = mido.MidiFile(midi_path, clip=True)\\n  midilist.append(mid)\\n  prettymid=pretty_midi.PrettyMIDI(midi_path)\\n  prettymidilist.append(prettymid)\\n\\nfor filenames in tqdm(csvfilenames,position=0):\\n  csv_path='/content/drive/My Drive/MARG/PPDD-Sep2018_sym_mono_large/PPDD-Sep2018_sym_mono_large/prime_csv/'+filenames\\n  csv = pandas.read_csv(csv_path)\\n  csvlist.append(csv)\\nfor filenames in tqdm(jsonfilenames,position=0):\\n  jsonlist.append(get_meta(filenames))\\n\\n#midifilenames와 list들의 순서는 같다고 생각하고 코드 작성\\n\""
            ]
          },
          "metadata": {
            "tags": []
          },
          "execution_count": 11
        }
      ]
    },
    {
      "cell_type": "code",
      "metadata": {
        "id": "czIsThWnDhqF",
        "colab_type": "code",
        "colab": {
          "base_uri": "https://localhost:8080/",
          "height": 70
        },
        "outputId": "b49ee697-c1c9-49a8-fbcb-c208b749f246"
      },
      "source": [
        "\"\"\"\n",
        "import pickle\n",
        "with open('/content/drive/My Drive/MARG/PPDDlist/midilist.txt', 'wb') as f:\n",
        "  pickle.dump(midilist, f)\n",
        "with open('/content/drive/My Drive/MARG/PPDDlist/csvlist.txt', 'wb') as f:\n",
        "  pickle.dump(csvlist, f)\n",
        "with open('/content/drive/My Drive/MARG/PPDDlist/jsonlist.txt', 'wb') as f:\n",
        "  pickle.dump(jsonlist, f)\n",
        "with open('/content/drive/My Drive/MARG/PPDDlist/prettymidilist.txt', 'wb') as f:\n",
        "  pickle.dump(prettymidilist, f)\n",
        "\"\"\""
      ],
      "execution_count": null,
      "outputs": [
        {
          "output_type": "execute_result",
          "data": {
            "application/vnd.google.colaboratory.intrinsic+json": {
              "type": "string"
            },
            "text/plain": [
              "\"\\nimport pickle\\nwith open('/content/drive/My Drive/MARG/PPDDlist/midilist.txt', 'wb') as f:\\n  pickle.dump(midilist, f)\\nwith open('/content/drive/My Drive/MARG/PPDDlist/csvlist.txt', 'wb') as f:\\n  pickle.dump(csvlist, f)\\nwith open('/content/drive/My Drive/MARG/PPDDlist/jsonlist.txt', 'wb') as f:\\n  pickle.dump(jsonlist, f)\\nwith open('/content/drive/My Drive/MARG/PPDDlist/prettymidilist.txt', 'wb') as f:\\n  pickle.dump(prettymidilist, f)\\n\""
            ]
          },
          "metadata": {
            "tags": []
          },
          "execution_count": 12
        }
      ]
    },
    {
      "cell_type": "markdown",
      "metadata": {
        "id": "rOttPVfF_yuk",
        "colab_type": "text"
      },
      "source": [
        "아래의 코드는 csv기반의 Processing을 진행한다. \n",
        "MIDI 기반의 Processing은 다음 블록에 작성되어 있으며, 둘 중 하나만 굴리면 된다."
      ]
    },
    {
      "cell_type": "code",
      "metadata": {
        "id": "q_pieqXw_Yq0",
        "colab_type": "code",
        "colab": {
          "base_uri": "https://localhost:8080/",
          "height": 105
        },
        "outputId": "7df88975-fe9a-479b-8666-96570dd1e2cc"
      },
      "source": [
        "#현재 CSV dataset에 문제가 있어보인다..\n",
        "\"\"\"\n",
        "bar_list=[]\n",
        "one_bar_number_list=[]\n",
        "starting_number_list=[]\n",
        "import numpy as np\n",
        "for i,csvs in enumerate(tqdm(csvlist)):\n",
        "  a=np.array([list(map(float,csvs.columns))])#column에도 숫자가 들어가 있어서.. 경우에 따라 조절한다\n",
        "  b=np.array(csvs.values)\n",
        "  csvarray=np.concatenate((a,b),axis=0)\n",
        "  if('timeSignature' not in jsonlist[i]):\n",
        "    jsonlist[i]['timeSignature']=[4,4]\n",
        "  one_bar_number=jsonlist[i]['timeSignature'][0]\n",
        "  bar_number=(csvarray[-1][0]-csvarray[0][0])//one_bar_number+1\n",
        "  bar_info_list=[]\n",
        "  for i in range(int(bar_number)):\n",
        "    starting_bar_time=csvarray[0][0]+i*one_bar_number\n",
        "    bar_info_list.append(csvarray[np.where( (starting_bar_time<=csvarray[:,0]) & (csvarray[:,0]<starting_bar_time+one_bar_number) )])\n",
        "  bar_list.append(bar_info_list)\n",
        "  one_bar_number_list.append(one_bar_number)\n",
        "  starting_number_list.append(csvarray[0][0])\n",
        "\"\"\""
      ],
      "execution_count": null,
      "outputs": [
        {
          "output_type": "execute_result",
          "data": {
            "application/vnd.google.colaboratory.intrinsic+json": {
              "type": "string"
            },
            "text/plain": [
              "\"\\nbar_list=[]\\none_bar_number_list=[]\\nstarting_number_list=[]\\nimport numpy as np\\nfor i,csvs in enumerate(tqdm(csvlist)):\\n  a=np.array([list(map(float,csvs.columns))])#column에도 숫자가 들어가 있어서.. 경우에 따라 조절한다\\n  b=np.array(csvs.values)\\n  csvarray=np.concatenate((a,b),axis=0)\\n  if('timeSignature' not in jsonlist[i]):\\n    jsonlist[i]['timeSignature']=[4,4]\\n  one_bar_number=jsonlist[i]['timeSignature'][0]\\n  bar_number=(csvarray[-1][0]-csvarray[0][0])//one_bar_number+1\\n  bar_info_list=[]\\n  for i in range(int(bar_number)):\\n    starting_bar_time=csvarray[0][0]+i*one_bar_number\\n    bar_info_list.append(csvarray[np.where( (starting_bar_time<=csvarray[:,0]) & (csvarray[:,0]<starting_bar_time+one_bar_number) )])\\n  bar_list.append(bar_info_list)\\n  one_bar_number_list.append(one_bar_number)\\n  starting_number_list.append(csvarray[0][0])\\n\""
            ]
          },
          "metadata": {
            "tags": []
          },
          "execution_count": 13
        }
      ]
    },
    {
      "cell_type": "code",
      "metadata": {
        "id": "IeRQyawg_8tO",
        "colab_type": "code",
        "colab": {
          "base_uri": "https://localhost:8080/",
          "height": 1000
        },
        "outputId": "1259e375-4034-4717-e829-8e68d379b190"
      },
      "source": [
        "#이게 이제 input을 midi로 받는 코드.\n",
        "bar_list=[]\n",
        "one_bar_number_list=[]\n",
        "starting_number_list=[]\n",
        "for i,songs in enumerate(prettymidilist):#곡마다.\n",
        "  if('timeSignature' not in jsonlist[i]):\n",
        "    jsonlist[i]['timeSignature']=[4,4]\n",
        "  if(jsonlist[i]['timeSignature']!=[4,4]):#여기부터 3줄의 코드를 삭제하면 3박자 등의 data도 고려한다.\n",
        "    print(jsonlist[i]['timeSignature'])\n",
        "    pass\n",
        "  else:\n",
        "    for instrument in songs.instruments: #2. 어차피 instrument하나\n",
        "      csvarray=[]\n",
        "      for note in instrument.notes: #3\n",
        "        row=[note.start*2, note.pitch, note.pitch, (note.end - note.start)*2, 0] #*2를 해줘야 제대로 하나의 bar가 하나의 단위가 된다.\n",
        "        csvarray.append(row)\n",
        "    csvarray=np.array(csvarray)\n",
        "    one_bar_number=jsonlist[i]['timeSignature'][0]\n",
        "    bar_number=(csvarray[-1][0]-csvarray[0][0])//one_bar_number+1\n",
        "    bar_info_list=[]\n",
        "    for i in range(int(bar_number)):\n",
        "      starting_bar_time=csvarray[0][0]+i*one_bar_number\n",
        "      bar_info_list.append(csvarray[np.where( (starting_bar_time<=csvarray[:,0]) & (csvarray[:,0]<starting_bar_time+one_bar_number) )])\n",
        "    bar_list.append(bar_info_list)# bar info list가 bar마다 csv내용들 담겨져 있는거다.\n",
        "    one_bar_number_list.append(one_bar_number)\n",
        "    starting_number_list.append(csvarray[0][0])"
      ],
      "execution_count": null,
      "outputs": [
        {
          "output_type": "stream",
          "text": [
            "[5, 4]\n",
            "[2, 4]\n",
            "[2, 4]\n",
            "[2, 4]\n",
            "[3, 4]\n",
            "[3, 4]\n",
            "[2, 4]\n",
            "[2, 4]\n",
            "[3, 8]\n",
            "[6, 8]\n",
            "[7, 8]\n",
            "[3, 4]\n",
            "[2, 4]\n",
            "[4, 8]\n",
            "[6, 8]\n",
            "[3, 4]\n",
            "[5, 8]\n",
            "[3, 4]\n",
            "[6, 8]\n",
            "[3, 4]\n",
            "[3, 4]\n",
            "[3, 4]\n",
            "[2, 4]\n",
            "[3, 4]\n",
            "[3, 4]\n",
            "[2, 4]\n",
            "[3, 4]\n",
            "[2, 4]\n",
            "[5, 8]\n",
            "[3, 4]\n",
            "[3, 4]\n",
            "[3, 4]\n",
            "[3, 4]\n",
            "[12, 16]\n",
            "[3, 4]\n",
            "[2, 4]\n",
            "[2, 4]\n",
            "[3, 8]\n",
            "[1, 4]\n",
            "[3, 8]\n",
            "[3, 4]\n",
            "[2, 4]\n",
            "[6, 8]\n",
            "[3, 4]\n",
            "[6, 4]\n",
            "[2, 4]\n",
            "[2, 4]\n",
            "[2, 4]\n",
            "[2, 4]\n",
            "[2, 4]\n",
            "[6, 8]\n",
            "[6, 8]\n",
            "[6, 8]\n",
            "[6, 8]\n",
            "[2, 4]\n",
            "[8, 4]\n",
            "[2, 4]\n",
            "[2, 4]\n",
            "[6, 8]\n",
            "[3, 4]\n",
            "[3, 8]\n",
            "[3, 4]\n",
            "[3, 4]\n",
            "[2, 4]\n",
            "[9, 8]\n",
            "[2, 4]\n",
            "[6, 8]\n",
            "[2, 4]\n",
            "[2, 2]\n",
            "[3, 4]\n",
            "[2, 2]\n",
            "[3, 4]\n",
            "[3, 4]\n",
            "[2, 4]\n",
            "[2, 4]\n",
            "[6, 8]\n",
            "[3, 4]\n",
            "[6, 8]\n",
            "[1, 4]\n",
            "[2, 4]\n",
            "[3, 4]\n",
            "[3, 8]\n",
            "[2, 4]\n",
            "[1, 8]\n",
            "[2, 4]\n",
            "[3, 4]\n",
            "[6, 8]\n",
            "[3, 4]\n",
            "[2, 4]\n",
            "[3, 4]\n",
            "[3, 4]\n",
            "[2, 4]\n",
            "[3, 4]\n",
            "[12, 8]\n",
            "[2, 4]\n",
            "[6, 8]\n",
            "[3, 4]\n",
            "[2, 4]\n",
            "[3, 4]\n",
            "[3, 4]\n",
            "[2, 4]\n",
            "[2, 4]\n",
            "[2, 4]\n",
            "[3, 4]\n",
            "[3, 4]\n",
            "[3, 4]\n",
            "[6, 8]\n",
            "[3, 4]\n",
            "[3, 4]\n",
            "[3, 4]\n",
            "[2, 4]\n",
            "[2, 4]\n",
            "[6, 8]\n",
            "[3, 4]\n",
            "[3, 4]\n",
            "[6, 8]\n",
            "[3, 8]\n",
            "[2, 4]\n",
            "[3, 4]\n",
            "[3, 4]\n",
            "[2, 4]\n",
            "[2, 4]\n",
            "[3, 4]\n",
            "[12, 8]\n",
            "[6, 8]\n",
            "[3, 4]\n",
            "[6, 8]\n",
            "[12, 8]\n",
            "[3, 4]\n",
            "[6, 8]\n",
            "[3, 4]\n",
            "[6, 8]\n",
            "[3, 4]\n",
            "[3, 4]\n",
            "[4, 8]\n",
            "[3, 4]\n",
            "[6, 8]\n",
            "[2, 4]\n",
            "[5, 4]\n",
            "[2, 4]\n",
            "[3, 4]\n",
            "[1, 4]\n",
            "[1, 4]\n",
            "[3, 4]\n",
            "[2, 4]\n",
            "[3, 8]\n",
            "[6, 8]\n",
            "[3, 8]\n",
            "[2, 2]\n",
            "[3, 4]\n",
            "[2, 4]\n",
            "[6, 8]\n",
            "[1, 4]\n",
            "[9, 8]\n",
            "[2, 4]\n",
            "[7, 8]\n",
            "[3, 4]\n",
            "[3, 4]\n",
            "[2, 2]\n",
            "[3, 8]\n",
            "[9, 8]\n",
            "[2, 4]\n",
            "[2, 4]\n",
            "[6, 8]\n",
            "[9, 4]\n",
            "[2, 4]\n",
            "[6, 8]\n",
            "[6, 8]\n",
            "[2, 4]\n",
            "[3, 4]\n",
            "[12, 8]\n",
            "[2, 4]\n",
            "[2, 4]\n",
            "[6, 8]\n",
            "[3, 4]\n",
            "[2, 4]\n",
            "[6, 8]\n",
            "[2, 4]\n",
            "[2, 4]\n",
            "[6, 8]\n",
            "[2, 4]\n",
            "[2, 4]\n",
            "[9, 8]\n",
            "[6, 8]\n",
            "[2, 4]\n",
            "[2, 4]\n",
            "[6, 8]\n",
            "[2, 4]\n",
            "[3, 4]\n",
            "[3, 4]\n",
            "[3, 4]\n",
            "[2, 4]\n",
            "[6, 8]\n",
            "[2, 4]\n",
            "[2, 8]\n",
            "[4, 8]\n",
            "[2, 4]\n",
            "[2, 4]\n",
            "[3, 4]\n",
            "[6, 4]\n",
            "[6, 4]\n",
            "[2, 4]\n",
            "[2, 4]\n",
            "[2, 4]\n",
            "[3, 4]\n",
            "[3, 4]\n",
            "[12, 8]\n",
            "[2, 4]\n",
            "[3, 4]\n",
            "[2, 4]\n",
            "[2, 4]\n",
            "[6, 4]\n",
            "[1, 4]\n",
            "[3, 4]\n",
            "[6, 8]\n",
            "[3, 4]\n",
            "[3, 4]\n",
            "[6, 8]\n",
            "[2, 4]\n",
            "[2, 8]\n",
            "[3, 8]\n",
            "[12, 8]\n",
            "[2, 4]\n",
            "[2, 4]\n",
            "[3, 4]\n",
            "[6, 8]\n",
            "[3, 4]\n",
            "[2, 4]\n",
            "[6, 8]\n",
            "[2, 4]\n",
            "[6, 8]\n",
            "[3, 8]\n",
            "[2, 4]\n",
            "[3, 4]\n",
            "[6, 8]\n",
            "[6, 8]\n",
            "[2, 4]\n",
            "[2, 4]\n",
            "[7, 8]\n",
            "[5, 4]\n",
            "[2, 4]\n",
            "[2, 4]\n",
            "[2, 4]\n",
            "[3, 4]\n",
            "[6, 8]\n",
            "[3, 4]\n",
            "[2, 4]\n",
            "[6, 8]\n",
            "[8, 8]\n",
            "[3, 4]\n",
            "[2, 4]\n",
            "[3, 4]\n",
            "[3, 4]\n",
            "[5, 8]\n",
            "[2, 4]\n",
            "[2, 4]\n",
            "[3, 8]\n",
            "[2, 4]\n",
            "[3, 4]\n",
            "[5, 8]\n",
            "[3, 8]\n",
            "[3, 4]\n",
            "[6, 8]\n",
            "[6, 8]\n",
            "[6, 8]\n",
            "[5, 4]\n",
            "[12, 8]\n",
            "[3, 4]\n",
            "[3, 8]\n",
            "[6, 8]\n",
            "[2, 4]\n",
            "[6, 8]\n",
            "[3, 8]\n",
            "[2, 4]\n",
            "[2, 4]\n",
            "[7, 4]\n",
            "[3, 4]\n",
            "[2, 4]\n",
            "[1, 2]\n",
            "[1, 4]\n",
            "[8, 8]\n",
            "[2, 4]\n",
            "[3, 4]\n",
            "[3, 4]\n",
            "[3, 4]\n",
            "[2, 4]\n",
            "[6, 8]\n",
            "[4, 8]\n",
            "[6, 8]\n",
            "[2, 4]\n",
            "[6, 8]\n",
            "[2, 4]\n",
            "[3, 4]\n",
            "[7, 8]\n",
            "[3, 4]\n",
            "[3, 4]\n",
            "[2, 4]\n",
            "[12, 8]\n",
            "[6, 8]\n",
            "[3, 4]\n",
            "[6, 4]\n",
            "[6, 8]\n",
            "[3, 4]\n",
            "[6, 8]\n",
            "[3, 8]\n",
            "[6, 8]\n",
            "[3, 8]\n",
            "[6, 8]\n",
            "[6, 8]\n",
            "[5, 4]\n",
            "[5, 8]\n",
            "[2, 4]\n",
            "[3, 4]\n",
            "[12, 16]\n",
            "[5, 8]\n",
            "[6, 8]\n",
            "[2, 4]\n",
            "[3, 8]\n",
            "[2, 4]\n",
            "[2, 4]\n",
            "[3, 4]\n",
            "[2, 4]\n",
            "[3, 4]\n",
            "[2, 4]\n",
            "[2, 8]\n",
            "[2, 2]\n",
            "[6, 8]\n",
            "[2, 4]\n",
            "[2, 4]\n",
            "[2, 4]\n",
            "[3, 8]\n",
            "[9, 4]\n",
            "[9, 8]\n",
            "[3, 4]\n",
            "[2, 4]\n",
            "[3, 8]\n",
            "[9, 8]\n",
            "[3, 8]\n",
            "[2, 4]\n",
            "[3, 4]\n",
            "[2, 4]\n",
            "[3, 4]\n",
            "[10, 8]\n",
            "[6, 8]\n",
            "[6, 8]\n",
            "[6, 8]\n",
            "[3, 4]\n",
            "[2, 4]\n",
            "[2, 4]\n",
            "[3, 4]\n",
            "[5, 8]\n",
            "[6, 8]\n",
            "[6, 8]\n",
            "[2, 4]\n",
            "[2, 4]\n",
            "[3, 4]\n",
            "[3, 4]\n",
            "[2, 4]\n",
            "[15, 16]\n",
            "[3, 4]\n",
            "[2, 4]\n",
            "[2, 4]\n",
            "[1, 4]\n",
            "[6, 8]\n",
            "[3, 4]\n",
            "[2, 4]\n",
            "[6, 8]\n",
            "[3, 4]\n",
            "[3, 4]\n",
            "[5, 8]\n",
            "[6, 8]\n",
            "[6, 8]\n",
            "[3, 4]\n",
            "[3, 8]\n",
            "[2, 4]\n",
            "[2, 4]\n",
            "[3, 8]\n",
            "[2, 4]\n",
            "[2, 4]\n",
            "[5, 4]\n",
            "[3, 4]\n",
            "[2, 2]\n",
            "[3, 4]\n",
            "[3, 4]\n",
            "[3, 4]\n",
            "[12, 8]\n",
            "[3, 8]\n",
            "[3, 4]\n",
            "[3, 8]\n",
            "[6, 4]\n",
            "[12, 8]\n",
            "[3, 4]\n",
            "[3, 4]\n",
            "[3, 8]\n",
            "[3, 4]\n",
            "[8, 4]\n",
            "[2, 4]\n",
            "[2, 4]\n",
            "[7, 4]\n",
            "[3, 4]\n",
            "[3, 4]\n",
            "[2, 4]\n",
            "[2, 4]\n",
            "[2, 4]\n",
            "[2, 4]\n",
            "[6, 8]\n",
            "[2, 4]\n",
            "[6, 8]\n",
            "[3, 4]\n",
            "[4, 8]\n",
            "[3, 2]\n",
            "[2, 4]\n",
            "[6, 8]\n",
            "[6, 4]\n",
            "[6, 4]\n",
            "[6, 8]\n",
            "[2, 4]\n",
            "[3, 4]\n",
            "[3, 4]\n",
            "[12, 8]\n",
            "[6, 8]\n",
            "[3, 4]\n",
            "[6, 8]\n",
            "[3, 8]\n",
            "[1, 4]\n",
            "[3, 4]\n",
            "[3, 8]\n",
            "[3, 4]\n",
            "[2, 4]\n",
            "[3, 4]\n",
            "[3, 8]\n",
            "[3, 4]\n",
            "[3, 8]\n",
            "[2, 4]\n",
            "[2, 4]\n",
            "[3, 8]\n",
            "[2, 4]\n",
            "[6, 8]\n",
            "[2, 4]\n",
            "[3, 4]\n",
            "[12, 8]\n",
            "[2, 2]\n",
            "[3, 8]\n",
            "[3, 4]\n",
            "[3, 4]\n",
            "[2, 4]\n",
            "[2, 4]\n",
            "[3, 4]\n",
            "[3, 4]\n",
            "[12, 8]\n",
            "[2, 4]\n",
            "[3, 8]\n",
            "[2, 4]\n",
            "[3, 4]\n",
            "[12, 8]\n",
            "[3, 4]\n",
            "[2, 4]\n",
            "[6, 8]\n",
            "[8, 4]\n",
            "[6, 8]\n",
            "[2, 4]\n",
            "[6, 8]\n",
            "[5, 8]\n",
            "[12, 8]\n",
            "[6, 8]\n",
            "[3, 4]\n",
            "[2, 4]\n",
            "[2, 4]\n",
            "[6, 8]\n",
            "[6, 8]\n",
            "[6, 8]\n",
            "[2, 4]\n",
            "[6, 8]\n",
            "[2, 2]\n",
            "[2, 4]\n",
            "[12, 8]\n",
            "[12, 8]\n",
            "[3, 4]\n",
            "[6, 8]\n",
            "[3, 4]\n",
            "[6, 8]\n",
            "[6, 8]\n",
            "[6, 8]\n",
            "[3, 4]\n",
            "[3, 4]\n",
            "[6, 8]\n",
            "[5, 4]\n",
            "[3, 4]\n",
            "[2, 4]\n",
            "[2, 4]\n",
            "[6, 8]\n",
            "[6, 8]\n",
            "[7, 8]\n",
            "[6, 8]\n",
            "[2, 4]\n",
            "[2, 4]\n",
            "[3, 8]\n",
            "[6, 8]\n",
            "[4, 8]\n",
            "[2, 4]\n",
            "[6, 8]\n",
            "[3, 4]\n",
            "[3, 8]\n",
            "[2, 4]\n",
            "[6, 8]\n",
            "[6, 8]\n",
            "[6, 4]\n",
            "[8, 8]\n",
            "[2, 2]\n",
            "[3, 4]\n",
            "[2, 4]\n",
            "[2, 4]\n",
            "[7, 4]\n",
            "[7, 8]\n",
            "[2, 4]\n",
            "[6, 8]\n",
            "[3, 4]\n",
            "[6, 8]\n",
            "[2, 4]\n",
            "[3, 4]\n",
            "[2, 4]\n",
            "[3, 4]\n",
            "[2, 4]\n",
            "[3, 8]\n",
            "[2, 4]\n",
            "[3, 4]\n",
            "[9, 16]\n",
            "[2, 4]\n",
            "[6, 4]\n",
            "[3, 8]\n",
            "[2, 4]\n",
            "[3, 4]\n",
            "[6, 8]\n",
            "[2, 4]\n",
            "[3, 4]\n",
            "[2, 4]\n",
            "[3, 4]\n",
            "[12, 8]\n",
            "[2, 4]\n",
            "[3, 4]\n",
            "[3, 4]\n",
            "[2, 4]\n",
            "[5, 4]\n",
            "[2, 4]\n",
            "[6, 8]\n",
            "[2, 4]\n",
            "[2, 4]\n",
            "[9, 8]\n",
            "[3, 8]\n",
            "[3, 4]\n",
            "[3, 8]\n",
            "[3, 4]\n",
            "[12, 8]\n",
            "[2, 4]\n",
            "[6, 8]\n",
            "[2, 4]\n",
            "[2, 8]\n",
            "[3, 4]\n",
            "[12, 8]\n",
            "[8, 4]\n",
            "[3, 4]\n",
            "[2, 4]\n",
            "[3, 4]\n",
            "[3, 8]\n",
            "[3, 4]\n",
            "[6, 8]\n",
            "[2, 4]\n",
            "[3, 4]\n",
            "[3, 4]\n",
            "[1, 4]\n",
            "[2, 4]\n",
            "[3, 4]\n",
            "[2, 4]\n",
            "[3, 4]\n",
            "[6, 8]\n",
            "[2, 4]\n",
            "[2, 4]\n",
            "[3, 4]\n",
            "[9, 8]\n",
            "[3, 8]\n",
            "[3, 4]\n",
            "[6, 4]\n",
            "[3, 8]\n",
            "[3, 4]\n",
            "[3, 4]\n",
            "[3, 4]\n",
            "[4, 16]\n",
            "[3, 8]\n",
            "[3, 4]\n",
            "[3, 4]\n",
            "[3, 4]\n",
            "[2, 4]\n",
            "[3, 4]\n",
            "[2, 4]\n",
            "[3, 4]\n",
            "[2, 4]\n",
            "[2, 4]\n",
            "[2, 4]\n",
            "[1, 4]\n",
            "[2, 4]\n",
            "[2, 4]\n",
            "[3, 4]\n",
            "[3, 4]\n",
            "[3, 4]\n",
            "[5, 8]\n",
            "[2, 2]\n",
            "[6, 8]\n",
            "[2, 4]\n",
            "[2, 4]\n",
            "[3, 4]\n",
            "[3, 8]\n",
            "[3, 4]\n",
            "[6, 8]\n",
            "[6, 8]\n",
            "[3, 4]\n",
            "[6, 8]\n",
            "[6, 8]\n",
            "[2, 4]\n",
            "[2, 4]\n",
            "[3, 4]\n",
            "[6, 8]\n",
            "[2, 4]\n",
            "[2, 4]\n",
            "[3, 4]\n",
            "[1, 4]\n",
            "[2, 4]\n",
            "[2, 4]\n",
            "[2, 4]\n",
            "[2, 4]\n",
            "[2, 4]\n",
            "[3, 4]\n",
            "[12, 8]\n",
            "[3, 8]\n",
            "[3, 4]\n",
            "[6, 8]\n",
            "[3, 4]\n",
            "[2, 4]\n",
            "[2, 8]\n",
            "[2, 4]\n",
            "[3, 4]\n",
            "[3, 8]\n",
            "[6, 8]\n",
            "[5, 4]\n",
            "[6, 8]\n",
            "[3, 4]\n",
            "[2, 4]\n",
            "[3, 4]\n",
            "[3, 4]\n",
            "[2, 4]\n",
            "[2, 4]\n",
            "[9, 8]\n",
            "[2, 4]\n",
            "[4, 16]\n",
            "[6, 8]\n",
            "[3, 4]\n",
            "[2, 4]\n",
            "[5, 8]\n",
            "[2, 4]\n",
            "[3, 4]\n",
            "[2, 2]\n",
            "[2, 4]\n",
            "[6, 8]\n",
            "[3, 4]\n",
            "[3, 4]\n",
            "[3, 4]\n",
            "[2, 4]\n",
            "[12, 8]\n",
            "[12, 8]\n",
            "[2, 4]\n",
            "[3, 4]\n",
            "[6, 8]\n",
            "[12, 16]\n",
            "[3, 4]\n",
            "[2, 4]\n",
            "[3, 8]\n",
            "[3, 4]\n",
            "[8, 8]\n",
            "[6, 8]\n",
            "[2, 4]\n",
            "[12, 8]\n",
            "[3, 8]\n",
            "[9, 8]\n",
            "[3, 8]\n",
            "[3, 4]\n",
            "[12, 8]\n",
            "[5, 8]\n",
            "[3, 4]\n",
            "[5, 8]\n",
            "[2, 4]\n",
            "[5, 8]\n",
            "[2, 4]\n",
            "[3, 4]\n",
            "[2, 4]\n",
            "[3, 4]\n",
            "[2, 4]\n",
            "[7, 8]\n",
            "[2, 4]\n",
            "[3, 4]\n",
            "[2, 4]\n",
            "[6, 8]\n",
            "[3, 4]\n",
            "[3, 4]\n",
            "[3, 4]\n",
            "[12, 8]\n",
            "[3, 4]\n",
            "[7, 8]\n",
            "[2, 4]\n",
            "[2, 4]\n",
            "[6, 8]\n",
            "[2, 4]\n",
            "[3, 4]\n",
            "[3, 4]\n",
            "[3, 4]\n",
            "[6, 8]\n",
            "[3, 4]\n",
            "[3, 4]\n",
            "[8, 8]\n",
            "[2, 4]\n",
            "[3, 4]\n",
            "[6, 8]\n",
            "[6, 8]\n",
            "[3, 8]\n",
            "[3, 4]\n",
            "[3, 4]\n",
            "[2, 4]\n",
            "[3, 4]\n",
            "[2, 4]\n",
            "[3, 4]\n",
            "[5, 8]\n",
            "[7, 8]\n",
            "[2, 4]\n",
            "[3, 4]\n",
            "[3, 4]\n",
            "[2, 4]\n",
            "[3, 4]\n",
            "[2, 4]\n",
            "[1, 4]\n",
            "[2, 4]\n",
            "[2, 4]\n",
            "[3, 4]\n",
            "[2, 4]\n",
            "[2, 4]\n",
            "[2, 4]\n",
            "[2, 4]\n",
            "[2, 4]\n",
            "[2, 4]\n",
            "[2, 4]\n",
            "[3, 4]\n",
            "[2, 4]\n",
            "[3, 4]\n",
            "[2, 2]\n",
            "[2, 4]\n",
            "[3, 8]\n",
            "[6, 8]\n",
            "[6, 8]\n",
            "[4, 8]\n",
            "[2, 4]\n",
            "[12, 8]\n",
            "[9, 4]\n",
            "[12, 8]\n",
            "[2, 4]\n",
            "[6, 8]\n",
            "[3, 4]\n",
            "[2, 4]\n",
            "[3, 4]\n",
            "[1, 4]\n",
            "[6, 8]\n",
            "[6, 8]\n",
            "[12, 8]\n",
            "[3, 4]\n",
            "[2, 4]\n",
            "[3, 4]\n",
            "[3, 4]\n",
            "[3, 4]\n",
            "[6, 8]\n",
            "[6, 8]\n",
            "[2, 4]\n",
            "[12, 8]\n",
            "[2, 2]\n",
            "[2, 4]\n",
            "[5, 8]\n",
            "[2, 4]\n",
            "[8, 8]\n",
            "[6, 8]\n",
            "[3, 4]\n",
            "[3, 8]\n",
            "[2, 4]\n",
            "[2, 4]\n",
            "[3, 4]\n",
            "[8, 4]\n",
            "[2, 4]\n",
            "[2, 4]\n",
            "[3, 4]\n",
            "[12, 8]\n",
            "[2, 4]\n",
            "[2, 4]\n",
            "[5, 4]\n",
            "[6, 8]\n",
            "[6, 8]\n",
            "[6, 8]\n",
            "[12, 8]\n",
            "[5, 4]\n",
            "[2, 4]\n",
            "[2, 4]\n",
            "[2, 4]\n",
            "[2, 4]\n",
            "[6, 8]\n",
            "[6, 8]\n",
            "[2, 4]\n",
            "[2, 4]\n",
            "[2, 4]\n",
            "[2, 4]\n",
            "[2, 4]\n",
            "[6, 8]\n",
            "[6, 8]\n",
            "[6, 8]\n",
            "[6, 8]\n",
            "[2, 4]\n",
            "[6, 8]\n",
            "[3, 4]\n",
            "[3, 4]\n",
            "[3, 4]\n",
            "[2, 4]\n",
            "[3, 8]\n",
            "[3, 4]\n",
            "[8, 8]\n",
            "[3, 4]\n",
            "[3, 4]\n",
            "[2, 4]\n",
            "[3, 4]\n",
            "[6, 4]\n",
            "[2, 4]\n",
            "[3, 4]\n",
            "[6, 8]\n",
            "[2, 4]\n",
            "[3, 8]\n",
            "[2, 4]\n",
            "[2, 4]\n",
            "[2, 4]\n",
            "[3, 8]\n",
            "[3, 4]\n",
            "[2, 2]\n",
            "[2, 4]\n",
            "[2, 4]\n",
            "[2, 4]\n",
            "[2, 4]\n",
            "[6, 8]\n",
            "[2, 4]\n",
            "[5, 8]\n",
            "[2, 4]\n",
            "[1, 4]\n",
            "[3, 4]\n",
            "[3, 4]\n",
            "[6, 8]\n",
            "[2, 4]\n",
            "[13, 8]\n",
            "[5, 8]\n",
            "[2, 4]\n",
            "[3, 8]\n",
            "[3, 4]\n",
            "[2, 2]\n",
            "[3, 4]\n",
            "[2, 4]\n",
            "[3, 4]\n",
            "[3, 4]\n",
            "[5, 8]\n",
            "[3, 4]\n",
            "[3, 8]\n",
            "[4, 8]\n",
            "[3, 4]\n",
            "[3, 4]\n",
            "[3, 4]\n",
            "[12, 8]\n",
            "[2, 4]\n",
            "[6, 8]\n",
            "[2, 4]\n",
            "[5, 8]\n",
            "[2, 4]\n",
            "[2, 4]\n",
            "[3, 4]\n",
            "[2, 4]\n",
            "[12, 8]\n",
            "[6, 8]\n",
            "[3, 8]\n",
            "[6, 8]\n",
            "[12, 8]\n",
            "[3, 4]\n",
            "[3, 4]\n",
            "[2, 4]\n",
            "[2, 4]\n",
            "[2, 4]\n",
            "[3, 4]\n",
            "[3, 8]\n",
            "[2, 4]\n",
            "[2, 4]\n",
            "[2, 2]\n",
            "[6, 8]\n",
            "[9, 8]\n",
            "[2, 4]\n",
            "[2, 4]\n",
            "[3, 4]\n",
            "[12, 8]\n",
            "[6, 8]\n",
            "[3, 4]\n",
            "[2, 2]\n",
            "[6, 8]\n",
            "[2, 4]\n",
            "[2, 4]\n",
            "[2, 4]\n",
            "[14, 8]\n",
            "[3, 4]\n",
            "[2, 4]\n",
            "[3, 4]\n",
            "[3, 4]\n",
            "[3, 4]\n",
            "[2, 4]\n",
            "[3, 4]\n",
            "[3, 4]\n",
            "[6, 8]\n",
            "[3, 4]\n",
            "[3, 4]\n",
            "[2, 4]\n",
            "[6, 8]\n",
            "[2, 4]\n",
            "[3, 8]\n",
            "[2, 4]\n",
            "[3, 4]\n",
            "[2, 4]\n",
            "[2, 4]\n",
            "[3, 4]\n",
            "[2, 4]\n",
            "[5, 8]\n",
            "[8, 4]\n",
            "[3, 8]\n",
            "[2, 4]\n",
            "[18, 4]\n",
            "[3, 4]\n",
            "[3, 4]\n",
            "[3, 4]\n",
            "[3, 4]\n",
            "[2, 4]\n",
            "[2, 4]\n",
            "[2, 4]\n",
            "[6, 8]\n",
            "[2, 4]\n",
            "[4, 16]\n",
            "[6, 8]\n",
            "[3, 4]\n",
            "[2, 4]\n",
            "[6, 8]\n",
            "[2, 4]\n",
            "[3, 8]\n",
            "[6, 8]\n",
            "[3, 4]\n",
            "[3, 8]\n",
            "[3, 4]\n",
            "[2, 4]\n",
            "[7, 8]\n",
            "[3, 4]\n",
            "[3, 8]\n",
            "[9, 8]\n",
            "[2, 4]\n",
            "[2, 4]\n",
            "[3, 8]\n",
            "[2, 4]\n",
            "[2, 4]\n",
            "[5, 4]\n",
            "[2, 4]\n",
            "[2, 4]\n",
            "[3, 4]\n",
            "[3, 4]\n",
            "[3, 8]\n",
            "[3, 4]\n",
            "[3, 8]\n",
            "[1, 4]\n",
            "[3, 4]\n",
            "[3, 4]\n",
            "[3, 4]\n",
            "[2, 4]\n",
            "[2, 4]\n",
            "[9, 8]\n",
            "[3, 4]\n",
            "[2, 4]\n",
            "[3, 4]\n",
            "[3, 4]\n",
            "[6, 8]\n",
            "[2, 4]\n",
            "[8, 8]\n",
            "[6, 4]\n",
            "[6, 8]\n",
            "[6, 8]\n",
            "[2, 4]\n",
            "[2, 4]\n",
            "[2, 4]\n",
            "[2, 4]\n",
            "[3, 4]\n",
            "[2, 4]\n",
            "[2, 4]\n",
            "[6, 8]\n",
            "[6, 8]\n",
            "[2, 2]\n",
            "[12, 8]\n",
            "[2, 2]\n",
            "[2, 4]\n",
            "[2, 4]\n",
            "[3, 4]\n",
            "[6, 8]\n",
            "[6, 8]\n",
            "[3, 4]\n",
            "[2, 2]\n",
            "[3, 8]\n",
            "[3, 4]\n",
            "[5, 4]\n",
            "[6, 8]\n",
            "[3, 4]\n",
            "[3, 4]\n",
            "[5, 8]\n",
            "[2, 4]\n",
            "[2, 4]\n",
            "[3, 8]\n",
            "[2, 4]\n",
            "[3, 4]\n",
            "[5, 4]\n",
            "[3, 4]\n",
            "[6, 8]\n",
            "[3, 4]\n",
            "[3, 8]\n",
            "[8, 4]\n",
            "[2, 4]\n",
            "[3, 8]\n",
            "[2, 4]\n",
            "[6, 8]\n",
            "[2, 2]\n",
            "[9, 8]\n",
            "[6, 8]\n",
            "[2, 4]\n",
            "[6, 8]\n",
            "[8, 4]\n",
            "[2, 4]\n",
            "[2, 4]\n",
            "[3, 4]\n",
            "[7, 8]\n",
            "[2, 4]\n",
            "[2, 4]\n",
            "[12, 8]\n",
            "[2, 4]\n",
            "[3, 4]\n",
            "[2, 4]\n",
            "[2, 2]\n",
            "[2, 4]\n",
            "[3, 4]\n",
            "[6, 8]\n",
            "[2, 4]\n",
            "[2, 4]\n",
            "[3, 4]\n",
            "[12, 16]\n",
            "[2, 4]\n",
            "[6, 8]\n",
            "[2, 4]\n",
            "[9, 8]\n",
            "[6, 8]\n",
            "[2, 4]\n",
            "[6, 8]\n",
            "[2, 4]\n",
            "[2, 4]\n",
            "[2, 4]\n",
            "[2, 4]\n",
            "[3, 4]\n",
            "[2, 4]\n",
            "[3, 8]\n",
            "[2, 4]\n",
            "[4, 8]\n",
            "[2, 4]\n",
            "[3, 4]\n",
            "[6, 8]\n",
            "[3, 4]\n",
            "[12, 8]\n",
            "[2, 4]\n",
            "[2, 4]\n",
            "[2, 4]\n",
            "[3, 8]\n",
            "[2, 4]\n",
            "[2, 4]\n",
            "[2, 4]\n",
            "[2, 4]\n",
            "[2, 4]\n",
            "[6, 4]\n",
            "[3, 4]\n",
            "[3, 4]\n",
            "[2, 4]\n",
            "[3, 4]\n",
            "[12, 8]\n",
            "[3, 4]\n",
            "[6, 8]\n",
            "[6, 8]\n",
            "[6, 8]\n",
            "[2, 4]\n",
            "[9, 8]\n",
            "[2, 4]\n",
            "[5, 8]\n",
            "[5, 8]\n",
            "[2, 4]\n",
            "[3, 4]\n",
            "[6, 8]\n",
            "[2, 4]\n",
            "[3, 4]\n",
            "[2, 4]\n",
            "[2, 4]\n",
            "[6, 8]\n",
            "[6, 8]\n",
            "[2, 4]\n",
            "[3, 4]\n",
            "[12, 8]\n",
            "[2, 4]\n",
            "[7, 16]\n",
            "[3, 4]\n",
            "[12, 8]\n",
            "[3, 4]\n",
            "[2, 4]\n",
            "[2, 4]\n",
            "[2, 4]\n",
            "[3, 4]\n",
            "[6, 8]\n",
            "[2, 4]\n",
            "[6, 8]\n",
            "[6, 8]\n",
            "[6, 8]\n",
            "[6, 8]\n",
            "[3, 8]\n",
            "[2, 4]\n",
            "[3, 4]\n",
            "[3, 4]\n",
            "[3, 4]\n",
            "[2, 4]\n",
            "[3, 4]\n",
            "[3, 4]\n",
            "[3, 8]\n",
            "[5, 8]\n",
            "[9, 8]\n",
            "[2, 4]\n",
            "[6, 8]\n",
            "[3, 4]\n",
            "[2, 4]\n",
            "[2, 4]\n",
            "[4, 8]\n",
            "[3, 4]\n",
            "[6, 8]\n",
            "[5, 8]\n",
            "[5, 8]\n",
            "[2, 4]\n",
            "[6, 4]\n",
            "[2, 4]\n",
            "[6, 8]\n",
            "[2, 4]\n",
            "[3, 4]\n",
            "[4, 8]\n",
            "[3, 4]\n",
            "[2, 4]\n",
            "[2, 4]\n",
            "[3, 4]\n",
            "[5, 8]\n",
            "[3, 4]\n",
            "[2, 4]\n",
            "[2, 4]\n",
            "[3, 4]\n",
            "[2, 4]\n",
            "[3, 4]\n",
            "[2, 4]\n",
            "[2, 4]\n",
            "[3, 4]\n",
            "[1, 4]\n",
            "[3, 2]\n",
            "[12, 8]\n",
            "[2, 4]\n",
            "[5, 16]\n",
            "[6, 4]\n",
            "[3, 4]\n",
            "[2, 4]\n",
            "[6, 8]\n",
            "[12, 8]\n",
            "[3, 8]\n",
            "[3, 4]\n",
            "[3, 8]\n",
            "[3, 8]\n",
            "[6, 8]\n",
            "[2, 4]\n",
            "[2, 4]\n",
            "[3, 4]\n",
            "[3, 4]\n",
            "[3, 4]\n",
            "[2, 4]\n",
            "[3, 4]\n",
            "[5, 8]\n",
            "[2, 4]\n",
            "[3, 4]\n",
            "[3, 4]\n",
            "[2, 4]\n",
            "[2, 4]\n",
            "[3, 4]\n",
            "[3, 4]\n",
            "[12, 8]\n",
            "[3, 4]\n",
            "[6, 8]\n",
            "[12, 8]\n",
            "[7, 8]\n",
            "[6, 8]\n",
            "[2, 4]\n",
            "[3, 4]\n",
            "[6, 8]\n",
            "[2, 4]\n",
            "[3, 8]\n",
            "[3, 4]\n",
            "[2, 4]\n",
            "[2, 4]\n",
            "[13, 8]\n",
            "[3, 8]\n",
            "[1, 4]\n",
            "[12, 8]\n",
            "[3, 4]\n",
            "[3, 4]\n",
            "[3, 4]\n",
            "[9, 8]\n",
            "[3, 4]\n",
            "[2, 4]\n",
            "[6, 8]\n",
            "[3, 4]\n",
            "[7, 8]\n",
            "[3, 4]\n",
            "[6, 4]\n",
            "[3, 4]\n",
            "[2, 4]\n",
            "[2, 4]\n",
            "[3, 4]\n",
            "[12, 8]\n",
            "[3, 4]\n",
            "[3, 4]\n",
            "[2, 4]\n",
            "[2, 4]\n",
            "[3, 8]\n",
            "[6, 8]\n",
            "[3, 4]\n",
            "[2, 4]\n",
            "[5, 8]\n",
            "[3, 4]\n",
            "[132, 4]\n",
            "[2, 4]\n",
            "[2, 4]\n",
            "[5, 8]\n",
            "[6, 8]\n",
            "[2, 4]\n",
            "[3, 4]\n",
            "[6, 8]\n",
            "[2, 4]\n",
            "[2, 4]\n",
            "[2, 4]\n",
            "[6, 8]\n",
            "[6, 8]\n",
            "[2, 4]\n",
            "[3, 4]\n",
            "[3, 4]\n",
            "[2, 4]\n",
            "[3, 4]\n",
            "[2, 4]\n",
            "[9, 8]\n",
            "[2, 4]\n",
            "[3, 4]\n",
            "[3, 8]\n",
            "[12, 8]\n",
            "[6, 8]\n",
            "[2, 4]\n",
            "[6, 8]\n",
            "[3, 4]\n",
            "[3, 4]\n",
            "[6, 8]\n",
            "[9, 8]\n",
            "[3, 4]\n",
            "[2, 4]\n",
            "[5, 8]\n",
            "[3, 8]\n",
            "[3, 4]\n",
            "[6, 8]\n",
            "[6, 8]\n",
            "[5, 8]\n",
            "[3, 8]\n",
            "[3, 4]\n",
            "[3, 2]\n",
            "[3, 4]\n",
            "[8, 4]\n",
            "[3, 4]\n",
            "[3, 4]\n",
            "[6, 8]\n",
            "[2, 4]\n",
            "[2, 4]\n",
            "[2, 4]\n",
            "[2, 4]\n",
            "[2, 4]\n",
            "[2, 4]\n",
            "[3, 4]\n",
            "[10, 8]\n",
            "[2, 2]\n",
            "[2, 4]\n",
            "[2, 4]\n",
            "[2, 4]\n",
            "[3, 4]\n",
            "[3, 4]\n",
            "[4, 8]\n",
            "[2, 2]\n",
            "[2, 4]\n",
            "[2, 4]\n",
            "[2, 2]\n",
            "[2, 4]\n",
            "[2, 4]\n",
            "[6, 8]\n",
            "[2, 4]\n",
            "[5, 8]\n",
            "[2, 4]\n",
            "[8, 8]\n",
            "[3, 4]\n",
            "[3, 4]\n",
            "[3, 4]\n",
            "[7, 8]\n",
            "[3, 4]\n",
            "[2, 4]\n",
            "[2, 4]\n",
            "[3, 4]\n",
            "[2, 4]\n",
            "[3, 8]\n",
            "[2, 4]\n",
            "[3, 4]\n",
            "[2, 2]\n",
            "[12, 8]\n",
            "[6, 8]\n",
            "[3, 4]\n",
            "[4, 8]\n",
            "[3, 4]\n",
            "[2, 2]\n",
            "[3, 4]\n",
            "[3, 4]\n",
            "[3, 4]\n",
            "[2, 4]\n",
            "[6, 8]\n",
            "[2, 4]\n",
            "[2, 4]\n",
            "[1, 4]\n",
            "[6, 8]\n",
            "[3, 2]\n",
            "[3, 8]\n",
            "[2, 4]\n",
            "[3, 8]\n",
            "[3, 4]\n",
            "[3, 4]\n",
            "[2, 4]\n",
            "[5, 4]\n",
            "[6, 8]\n",
            "[2, 4]\n",
            "[2, 4]\n",
            "[6, 8]\n",
            "[5, 4]\n",
            "[5, 8]\n",
            "[3, 4]\n",
            "[2, 4]\n",
            "[2, 4]\n",
            "[2, 4]\n",
            "[2, 4]\n",
            "[6, 8]\n",
            "[12, 8]\n",
            "[2, 4]\n",
            "[4, 2]\n",
            "[3, 2]\n",
            "[2, 4]\n",
            "[3, 4]\n",
            "[6, 8]\n",
            "[3, 4]\n",
            "[3, 4]\n",
            "[3, 4]\n",
            "[6, 4]\n",
            "[3, 4]\n",
            "[6, 8]\n",
            "[3, 4]\n",
            "[3, 4]\n",
            "[3, 4]\n",
            "[3, 4]\n",
            "[3, 4]\n",
            "[2, 4]\n",
            "[6, 8]\n",
            "[3, 4]\n",
            "[9, 4]\n",
            "[6, 8]\n",
            "[3, 4]\n",
            "[3, 4]\n",
            "[6, 8]\n",
            "[2, 4]\n",
            "[3, 8]\n",
            "[3, 4]\n",
            "[2, 4]\n",
            "[6, 8]\n",
            "[6, 8]\n",
            "[6, 8]\n",
            "[2, 4]\n",
            "[132, 4]\n",
            "[9, 16]\n",
            "[2, 4]\n",
            "[3, 8]\n",
            "[6, 8]\n",
            "[2, 4]\n",
            "[3, 8]\n",
            "[2, 4]\n",
            "[5, 8]\n",
            "[1, 8]\n",
            "[3, 4]\n",
            "[3, 4]\n",
            "[3, 4]\n",
            "[2, 2]\n",
            "[3, 4]\n",
            "[6, 8]\n",
            "[3, 8]\n",
            "[2, 4]\n",
            "[2, 4]\n",
            "[2, 4]\n",
            "[3, 4]\n",
            "[2, 4]\n",
            "[2, 4]\n",
            "[2, 4]\n",
            "[2, 4]\n",
            "[6, 8]\n",
            "[3, 4]\n",
            "[3, 4]\n",
            "[2, 4]\n",
            "[6, 4]\n",
            "[6, 8]\n",
            "[3, 4]\n",
            "[6, 8]\n",
            "[2, 2]\n",
            "[3, 8]\n",
            "[2, 4]\n",
            "[3, 4]\n",
            "[2, 4]\n",
            "[6, 8]\n",
            "[3, 8]\n",
            "[3, 4]\n",
            "[3, 4]\n",
            "[2, 4]\n",
            "[2, 8]\n",
            "[2, 4]\n",
            "[6, 8]\n",
            "[1, 4]\n",
            "[2, 4]\n",
            "[2, 4]\n",
            "[2, 4]\n",
            "[3, 8]\n",
            "[3, 4]\n",
            "[2, 4]\n",
            "[3, 4]\n",
            "[3, 4]\n",
            "[2, 4]\n",
            "[2, 4]\n",
            "[2, 4]\n",
            "[3, 8]\n",
            "[2, 4]\n",
            "[3, 4]\n",
            "[2, 4]\n",
            "[2, 4]\n",
            "[2, 4]\n",
            "[12, 8]\n",
            "[3, 8]\n",
            "[2, 4]\n",
            "[6, 8]\n",
            "[2, 8]\n",
            "[3, 4]\n",
            "[3, 4]\n",
            "[2, 4]\n",
            "[2, 4]\n",
            "[3, 4]\n",
            "[3, 4]\n",
            "[6, 8]\n",
            "[3, 4]\n",
            "[3, 4]\n",
            "[9, 8]\n",
            "[2, 4]\n",
            "[6, 8]\n",
            "[9, 8]\n",
            "[6, 8]\n",
            "[3, 4]\n",
            "[2, 4]\n",
            "[3, 4]\n",
            "[2, 4]\n",
            "[3, 4]\n",
            "[6, 8]\n",
            "[2, 4]\n",
            "[3, 4]\n",
            "[3, 4]\n",
            "[3, 4]\n",
            "[6, 8]\n",
            "[2, 4]\n",
            "[2, 4]\n",
            "[2, 4]\n",
            "[2, 4]\n",
            "[2, 4]\n",
            "[5, 8]\n",
            "[2, 4]\n",
            "[2, 4]\n",
            "[2, 4]\n",
            "[3, 4]\n",
            "[2, 4]\n",
            "[12, 8]\n",
            "[3, 8]\n",
            "[2, 4]\n",
            "[3, 4]\n",
            "[3, 4]\n",
            "[2, 4]\n",
            "[6, 8]\n",
            "[3, 8]\n",
            "[2, 4]\n",
            "[2, 4]\n",
            "[3, 4]\n",
            "[3, 4]\n",
            "[9, 8]\n",
            "[3, 4]\n",
            "[2, 4]\n",
            "[3, 4]\n",
            "[2, 4]\n",
            "[3, 4]\n",
            "[3, 4]\n",
            "[2, 4]\n",
            "[5, 8]\n",
            "[3, 8]\n",
            "[3, 4]\n",
            "[3, 8]\n",
            "[2, 4]\n",
            "[2, 4]\n",
            "[3, 4]\n",
            "[3, 4]\n",
            "[2, 4]\n",
            "[7, 4]\n",
            "[6, 8]\n",
            "[6, 8]\n",
            "[3, 4]\n",
            "[2, 4]\n",
            "[6, 8]\n",
            "[5, 8]\n",
            "[3, 4]\n",
            "[3, 8]\n",
            "[2, 4]\n",
            "[3, 8]\n",
            "[3, 4]\n",
            "[12, 8]\n",
            "[3, 4]\n",
            "[2, 4]\n",
            "[12, 8]\n",
            "[6, 8]\n",
            "[2, 16]\n",
            "[12, 8]\n",
            "[2, 4]\n",
            "[6, 8]\n",
            "[3, 8]\n",
            "[2, 4]\n",
            "[6, 8]\n",
            "[2, 4]\n",
            "[2, 4]\n",
            "[2, 2]\n",
            "[5, 8]\n",
            "[6, 8]\n",
            "[5, 4]\n",
            "[2, 4]\n",
            "[3, 4]\n",
            "[6, 8]\n",
            "[3, 4]\n",
            "[3, 4]\n",
            "[3, 8]\n",
            "[6, 8]\n",
            "[6, 8]\n",
            "[2, 4]\n",
            "[2, 4]\n",
            "[3, 4]\n",
            "[2, 4]\n",
            "[6, 8]\n",
            "[6, 8]\n",
            "[2, 4]\n",
            "[12, 8]\n",
            "[3, 4]\n",
            "[6, 8]\n",
            "[2, 4]\n",
            "[3, 4]\n",
            "[6, 8]\n",
            "[6, 8]\n",
            "[3, 4]\n",
            "[3, 4]\n",
            "[2, 4]\n",
            "[3, 4]\n",
            "[9, 16]\n",
            "[12, 8]\n",
            "[2, 4]\n",
            "[7, 8]\n",
            "[3, 4]\n",
            "[2, 4]\n",
            "[3, 4]\n",
            "[2, 4]\n",
            "[3, 4]\n",
            "[6, 8]\n",
            "[2, 4]\n",
            "[3, 8]\n",
            "[3, 4]\n",
            "[2, 4]\n",
            "[3, 4]\n",
            "[2, 2]\n",
            "[5, 8]\n",
            "[3, 4]\n",
            "[6, 8]\n",
            "[2, 4]\n",
            "[2, 4]\n",
            "[3, 4]\n",
            "[2, 4]\n",
            "[2, 4]\n",
            "[3, 4]\n",
            "[1, 4]\n",
            "[8, 4]\n",
            "[6, 8]\n",
            "[3, 4]\n",
            "[2, 4]\n",
            "[7, 4]\n",
            "[6, 8]\n",
            "[2, 4]\n",
            "[6, 8]\n",
            "[3, 4]\n",
            "[3, 4]\n",
            "[3, 4]\n",
            "[3, 4]\n",
            "[3, 8]\n",
            "[6, 8]\n",
            "[6, 8]\n",
            "[5, 8]\n",
            "[2, 4]\n",
            "[3, 4]\n",
            "[3, 4]\n",
            "[3, 4]\n",
            "[3, 4]\n",
            "[3, 4]\n",
            "[6, 8]\n",
            "[6, 8]\n",
            "[2, 4]\n",
            "[3, 4]\n",
            "[3, 4]\n",
            "[9, 8]\n",
            "[6, 4]\n",
            "[5, 8]\n",
            "[3, 4]\n",
            "[6, 8]\n",
            "[3, 4]\n",
            "[2, 4]\n",
            "[3, 4]\n",
            "[5, 8]\n",
            "[3, 4]\n",
            "[3, 8]\n",
            "[3, 4]\n",
            "[2, 4]\n",
            "[3, 4]\n",
            "[6, 8]\n",
            "[2, 4]\n",
            "[6, 8]\n",
            "[2, 4]\n",
            "[2, 4]\n",
            "[3, 4]\n",
            "[6, 8]\n",
            "[3, 4]\n",
            "[3, 4]\n",
            "[2, 4]\n",
            "[3, 4]\n",
            "[12, 8]\n",
            "[2, 4]\n",
            "[3, 4]\n",
            "[3, 4]\n",
            "[6, 8]\n",
            "[5, 8]\n",
            "[2, 4]\n",
            "[6, 8]\n",
            "[6, 8]\n",
            "[3, 4]\n",
            "[12, 8]\n",
            "[2, 4]\n",
            "[2, 4]\n",
            "[3, 4]\n",
            "[2, 4]\n",
            "[3, 4]\n",
            "[3, 4]\n",
            "[7, 8]\n",
            "[3, 4]\n",
            "[6, 8]\n",
            "[6, 8]\n",
            "[3, 4]\n",
            "[3, 4]\n",
            "[2, 4]\n",
            "[2, 4]\n",
            "[2, 4]\n",
            "[6, 8]\n",
            "[2, 4]\n",
            "[3, 16]\n",
            "[3, 4]\n",
            "[3, 4]\n",
            "[2, 4]\n",
            "[3, 4]\n",
            "[2, 4]\n",
            "[3, 8]\n",
            "[3, 4]\n",
            "[3, 4]\n",
            "[5, 8]\n",
            "[3, 4]\n",
            "[3, 4]\n",
            "[6, 4]\n",
            "[2, 4]\n",
            "[2, 4]\n",
            "[132, 4]\n",
            "[2, 4]\n",
            "[6, 8]\n",
            "[2, 4]\n",
            "[4, 64]\n",
            "[6, 8]\n",
            "[8, 4]\n",
            "[7, 8]\n",
            "[9, 8]\n",
            "[2, 4]\n",
            "[2, 4]\n",
            "[2, 2]\n",
            "[7, 4]\n",
            "[3, 4]\n",
            "[2, 4]\n",
            "[5, 8]\n",
            "[2, 2]\n",
            "[3, 8]\n",
            "[2, 4]\n",
            "[8, 8]\n",
            "[3, 4]\n",
            "[23, 16]\n",
            "[6, 4]\n",
            "[3, 4]\n",
            "[2, 4]\n",
            "[4, 16]\n",
            "[3, 4]\n",
            "[3, 4]\n",
            "[2, 4]\n",
            "[2, 2]\n",
            "[3, 4]\n",
            "[3, 8]\n",
            "[3, 4]\n",
            "[6, 8]\n",
            "[3, 4]\n",
            "[2, 4]\n",
            "[2, 4]\n",
            "[2, 4]\n",
            "[3, 8]\n",
            "[2, 4]\n",
            "[2, 4]\n",
            "[6, 8]\n",
            "[3, 4]\n",
            "[2, 4]\n",
            "[6, 8]\n",
            "[2, 4]\n",
            "[2, 4]\n",
            "[2, 4]\n",
            "[2, 4]\n",
            "[2, 4]\n",
            "[2, 4]\n",
            "[3, 4]\n",
            "[2, 4]\n",
            "[2, 4]\n",
            "[2, 4]\n",
            "[3, 4]\n",
            "[2, 4]\n",
            "[3, 4]\n",
            "[3, 4]\n",
            "[2, 4]\n",
            "[6, 8]\n",
            "[6, 4]\n",
            "[7, 8]\n",
            "[6, 8]\n",
            "[6, 8]\n",
            "[2, 4]\n",
            "[2, 4]\n",
            "[12, 8]\n",
            "[2, 4]\n",
            "[3, 4]\n",
            "[2, 4]\n",
            "[2, 8]\n",
            "[2, 4]\n",
            "[3, 4]\n",
            "[3, 4]\n",
            "[3, 4]\n"
          ],
          "name": "stdout"
        }
      ]
    },
    {
      "cell_type": "code",
      "metadata": {
        "id": "7ubPcKmPBXQH",
        "colab_type": "code",
        "colab": {
          "base_uri": "https://localhost:8080/",
          "height": 52
        },
        "outputId": "4336ba47-a358-4d2a-ea69-b2edad5bbc7d"
      },
      "source": [
        "\"\"\"\n",
        "for bars in bar_list:\n",
        "  #print(len(bars))결과 보면 다 다르다. 따라서 정해진 Shape가 없음\n",
        "  for matrix in bars:\n",
        "    for lists in matrix:\n",
        "      if (lists[1]<24):\n",
        "        print(lists[1])#Small Data기준 95가 최대, 25가 Minimum. Big Data로 바꾸면 추가적인 조절 가능할듯\n",
        "\"\"\""
      ],
      "execution_count": null,
      "outputs": [
        {
          "output_type": "execute_result",
          "data": {
            "application/vnd.google.colaboratory.intrinsic+json": {
              "type": "string"
            },
            "text/plain": [
              "'\\nfor bars in bar_list:\\n  #print(len(bars))결과 보면 다 다르다. 따라서 정해진 Shape가 없음\\n  for matrix in bars:\\n    for lists in matrix:\\n      if (lists[1]<24):\\n        print(lists[1])#Small Data기준 95가 최대, 25가 Minimum. Big Data로 바꾸면 추가적인 조절 가능할듯\\n'"
            ]
          },
          "metadata": {
            "tags": []
          },
          "execution_count": 45
        }
      ]
    },
    {
      "cell_type": "code",
      "metadata": {
        "id": "ioRp4dJDCtUK",
        "colab_type": "code",
        "colab": {
          "base_uri": "https://localhost:8080/",
          "height": 104
        },
        "outputId": "981a3b0f-365b-428b-8658-678d79bf5046"
      },
      "source": [
        "print(bar_list[0][0])#1번째 곡의 1번째 bar.\n",
        "print(jsonlist[0])"
      ],
      "execution_count": null,
      "outputs": [
        {
          "output_type": "stream",
          "text": [
            "[[ 0.         42.         42.          1.16666667  0.        ]\n",
            " [ 1.5        42.         42.          0.33333333  0.        ]\n",
            " [ 2.         42.         42.          1.16666667  0.        ]\n",
            " [ 3.5        42.         42.          0.33333333  0.        ]]\n",
            "{'id': '0000ee22-8e62-47c3-aca3-49b7999f8cf7', 'idLakh': '86545d15b5b9dda20268c47d827f072d', 'bpm': 145, 'timeSignature': [5, 4], 'keyEstimate': 'C major'}\n"
          ],
          "name": "stdout"
        }
      ]
    },
    {
      "cell_type": "code",
      "metadata": {
        "id": "aK7G2wiA4fgg",
        "colab_type": "code",
        "colab": {}
      },
      "source": [
        "def nearest_time(time,minimum_size):\n",
        "  #혹시나 값이 조금 벗어나는 엇박 음을 가까운 최소단위로 Shifting한다.\n",
        "  #다만 엇박 관련 Skill Detecting을 따로 고려할시 코드를 수정할 수 있다.\n",
        "  num_to_multiply=time/minimum_size\n",
        "  num_to_multiply=int(num_to_multiply)\n",
        "  left_time=num_to_multiply*minimum_size\n",
        "  right_time=left_time+minimum_size\n",
        "  if (time-left_time>=right_time-time):\n",
        "    return right_time\n",
        "  return left_time\n",
        "def bar_to_matrix1(bar,one_bar_number,starting_number,i):\n",
        "  #그냥 점만 남긴다.\n",
        "  #8/6박이면 one_bar_number가 8이다. 그러면 바 1개당 무조건 12개 처리하는거로 한다.\n",
        "  #lists[0]은 시간, lists[1]은 Note 높이, lists[3]은 Duration. \n",
        "  init=np.zeros((112,96))#112는 Note의 수(감으로 써둠.. 나중에 전체 데이터로 할때 수정 가능성 있음 그런데 Shift를 잘 이용하면 96*96도 가능해보임.)\n",
        "  minimum_size=one_bar_number/96\n",
        "  zero_time=starting_number+one_bar_number*i    \n",
        "  for j,lists in enumerate(bar):\n",
        "    \n",
        "    point=int((nearest_time(lists[0],minimum_size)-zero_time)/minimum_size)\n",
        "    if(point==96):\n",
        "      point=92\n",
        "    \n",
        "    init[111-int(lists[1])][point]=lists[3]#111-int(list[1])형태로 해야 직관적인 PianoRoll 형태가 ㅏ온다.\n",
        "  return init\n",
        "def bar_to_matrix2(bar,one_bar_number,starting_number,i):\n",
        "  #Duration에 따라 Ploting한다.\n",
        "  #8/6박이면 one_bar_number가 8이다. 그러면 바 1개당 무조건 12개 처리하는거로 한다.\n",
        "\n",
        "  init=np.zeros((112,96))#112는 Note의 수(감으로 써둠.. 나중에 전체 데이터로 할때 수정 가능성 있음 그런데 Shift를 잘 이용하면 96*96도 가능해보임.)\n",
        "  minimum_size=one_bar_number/96\n",
        "  zero_time=starting_number+one_bar_number*i    \n",
        "  for j,lists in enumerate(bar):\n",
        "    #lists[0]은 시간, lists[1]은 Note 높이, lists[3]은 Duration. \n",
        "    point=int((nearest_time(lists[0],minimum_size)-zero_time)/minimum_size)\n",
        "    length=int(round(lists[3]/minimum_size))\n",
        "    if (length>3):\n",
        "      length=length-1#여러번 두두두 치는 음을 구별하기 위함\n",
        "    if (point+length>95):\n",
        "      length=95-point # 한 음이 2Bar에 걸쳐있는 경우 Bar 뒤쪽의 음을 무시한다.\n",
        "    init[111-int(lists[1])][point:point+length]+=1\n",
        "  return init\n",
        "\n",
        "def bar_to_matrix3(bar,one_bar_number,starting_number,i):\n",
        "  #Duration에 따라 Ploting한다.\n",
        "  #size를 상당히 작게 잡는다.\n",
        "  #8/6박이면 one_bar_number가 8이다. 그러면 바 1개당 무조건 12개 처리하는거로 한다.\n",
        "\n",
        "  init=np.zeros((24,24))#112는 Note의 수(감으로 써둠.. 나중에 전체 데이터로 할때 수정 가능성 있음 그런데 Shift를 잘 이용하면 96*96도 가능해보임.)\n",
        "  minimum_size=one_bar_number/24\n",
        "  zero_time=starting_number+one_bar_number*i\n",
        "  min_height=500\n",
        "  for lists in bar:\n",
        "    if min_height>lists[1]:\n",
        "      min_height=lists[1]    \n",
        "  for j,lists in enumerate(bar):\n",
        "    #lists[0]은 시간, lists[1]은 Note 높이, lists[3]은 Duration. \n",
        "    point=int((nearest_time(lists[0],minimum_size)-zero_time)/minimum_size)\n",
        "    length=int(round(lists[3]/minimum_size))\n",
        "    if (length>3):\n",
        "      length=length-1#여러번 두두두 치는 음을 구별하기 위함\n",
        "    if (point+length>23):\n",
        "      length=23-point # 한 음이 2Bar에 걸쳐있는 경우 Bar 뒤쪽의 음을 무시한다.\n",
        "    height=lists[1]-min_height\n",
        "    while(height>23):\n",
        "      height=height-12\n",
        "    init[23-int(height)][point:point+length]+=1\n",
        "  return init"
      ],
      "execution_count": null,
      "outputs": []
    },
    {
      "cell_type": "code",
      "metadata": {
        "id": "t34eVSFIT6M-",
        "colab_type": "code",
        "colab": {}
      },
      "source": [
        "#bar_list to bar_matrix_list\n",
        "#bar_matrix_list=copy.deepcopy(bar_list)\n",
        "#bar_matrix_list2=copy.deepcopy(bar_list)\n",
        "bar_matrix_list3=copy.deepcopy(bar_list)\n",
        "for i,songs in enumerate(bar_matrix_list3):\n",
        "  for j,bar in enumerate(songs):\n",
        "    #print(one_bar_number_list[i],starting_number_list[i])\n",
        "    #matrix=bar_to_matrix1(bar,one_bar_number_list[i],starting_number_list[i],j)\n",
        "    #matrix2=bar_to_matrix2(bar,one_bar_number_list[i],starting_number_list[i],j)\n",
        "    matrix3=bar_to_matrix3(bar,one_bar_number_list[i],starting_number_list[i],j)\n",
        "    #bar_matrix_list[i][j]=matrix\n",
        "    #bar_matrix_list2[i][j]=matrix2\n",
        "    bar_matrix_list3[i][j]=matrix3"
      ],
      "execution_count": null,
      "outputs": []
    },
    {
      "cell_type": "code",
      "metadata": {
        "id": "VJUSzyDlbQ3R",
        "colab_type": "code",
        "colab": {}
      },
      "source": [
        "bar_updown_list=copy.deepcopy(bar_list)\n",
        "for i,songs in enumerate(bar_list):\n",
        "  for j,bar in enumerate(songs):\n",
        "    if (j==len(songs)-1):\n",
        "      updown_label='final'\n",
        "    elif(len(bar_list[i][j])==0 or len(bar_list[i][j+1])==0):\n",
        "      updown_label='meanless'\n",
        "    else:\n",
        "      if(bar_list[i][j][len(bar_list[i][j])-1][1]<=bar_list[i][j+1][0][1]):\n",
        "        updown_label='up'\n",
        "      else:\n",
        "        updown_label='down'\n",
        "    bar_updown_list[i][j]=updown_label"
      ],
      "execution_count": null,
      "outputs": []
    },
    {
      "cell_type": "code",
      "metadata": {
        "id": "AO6-SYCu29qF",
        "colab_type": "code",
        "colab": {
          "base_uri": "https://localhost:8080/",
          "height": 238
        },
        "outputId": "b4858a0a-aede-43fa-9b6f-96b81062a6fc"
      },
      "source": [
        "#print(bar_list[0][0],bar_matrix_list[0][0],bar_matrix_list2[0][0]) 큰 의미 없다\n",
        "import numpy as np\n",
        "import matplotlib.pyplot as plt\n",
        "\n",
        "H = bar_matrix_list3[0][0]\n",
        "\n",
        "fig = plt.figure(figsize=(6, 3.2))\n",
        "\n",
        "ax = fig.add_subplot(111)\n",
        "ax.set_title('colorMap')\n",
        "plt.imshow(H)\n",
        "ax.set_aspect('equal')\n",
        "\n",
        "cax = fig.add_axes([0.12, 0.1, 0.78, 0.8])\n",
        "cax.get_xaxis().set_visible(False)\n",
        "cax.get_yaxis().set_visible(False)\n",
        "cax.patch.set_alpha(0)\n",
        "cax.set_frame_on(False)\n",
        "plt.colorbar(orientation='vertical')\n",
        "plt.show()"
      ],
      "execution_count": null,
      "outputs": [
        {
          "output_type": "display_data",
          "data": {
            "image/png": "[encoded data removed]",
            "text/plain": [
              "<Figure size 432x230.4 with 3 Axes>"
            ]
          },
          "metadata": {
            "tags": [],
            "needs_background": "light"
          }
        }
      ]
    },
    {
      "cell_type": "code",
      "metadata": {
        "id": "IV-em-Jo4I8H",
        "colab_type": "code",
        "colab": {
          "base_uri": "https://localhost:8080/",
          "height": 198
        },
        "outputId": "d6dd06a5-b08a-426a-ffbf-5b66db6467ee"
      },
      "source": [
        "tot=bar_matrix_list3[2]\n",
        "H=bar_matrix_list3[2][0]\n",
        "for i in range(1,len(tot)):\n",
        "  a=bar_matrix_list3[2][i]\n",
        "  H=np.concatenate((H,a),axis=1)\n",
        "  \n",
        "fig = plt.figure(figsize=(30, 3.2))\n",
        "\n",
        "ax = fig.add_subplot(111)\n",
        "ax.set_title('colorMap')\n",
        "plt.imshow(H)\n",
        "ax.set_aspect('equal')\n",
        "\n",
        "cax = fig.add_axes([0.12, 0.1, 0.78, 0.8])\n",
        "cax.get_xaxis().set_visible(False)\n",
        "cax.get_yaxis().set_visible(False)\n",
        "cax.patch.set_alpha(0)\n",
        "cax.set_frame_on(False)\n",
        "plt.colorbar(orientation='vertical')\n",
        "plt.show()\n",
        "#위 for문 없이 돌리면 1 bar만 나옴"
      ],
      "execution_count": null,
      "outputs": [
        {
          "output_type": "display_data",
          "data": {
            "image/png": "[encoded data removed]",
            "text/plain": [
              "<Figure size 2160x230.4 with 3 Axes>"
            ]
          },
          "metadata": {
            "tags": [],
            "needs_background": "light"
          }
        }
      ]
    },
    {
      "cell_type": "code",
      "metadata": {
        "id": "QhslYmbJdSba",
        "colab_type": "code",
        "colab": {}
      },
      "source": [
        "def bar_to_contour(bar,one_bar_number,starting_number,j):\n",
        "  contour=[]\n",
        "  pitch_change_list=[]\n",
        "  duration_list=[]\n",
        "  real_pitch_list=[]\n",
        "  real_time_list=[]\n",
        "  real_duration_list=[]\n",
        "  now_pitch=1000\n",
        "  first_time=starting_number+one_bar_number*j\n",
        "  a=0\n",
        "  for lists in bar:\n",
        "    if(a!=0): \n",
        "      real_time_list.append(lists[0]-now_rhythm)\n",
        "    now_rhythm=lists[0]\n",
        "    a+=1\n",
        "    if (first_time*1.001<lists[0]):#smoothing for case like first time=5.00001, lists[0]=5.0000..\n",
        "      resting_time=lists[0]-first_time\n",
        "      duration_list.append(resting_time)\n",
        "      first_time=lists[0]\n",
        "      pitch_change_list.append('Rest')\n",
        "    if (now_pitch==1000):\n",
        "      pitch_change_list.append('Starting_Point')\n",
        "      real_pitch_list.append('Starting_Point')\n",
        "      real_duration_list.append(lists[3])\n",
        "      duration_list.append(lists[3])\n",
        "      first_time=first_time+lists[3]\n",
        "      now_pitch=lists[1]\n",
        "      a+=1\n",
        "    else:\n",
        "      pitch_change=lists[1]-now_pitch\n",
        "      pitch_change_list.append(str(pitch_change))#나중에 int로 바꿔쓸 것. 자료형 터지는거 때문에 우선 스트링.\n",
        "      duration_list.append(lists[3])\n",
        "      real_duration_list.append(lists[3])\n",
        "      first_time=first_time+lists[3]\n",
        "      now_pitch=lists[1]\n",
        "      real_pitch_list.append(str(pitch_change))\n",
        "  if (first_time*1.001<starting_number+one_bar_number*(j+1)):\n",
        "    pitch_change_list.append('Rest')#마지막 Rest\n",
        "    duration_list.append(starting_number+one_bar_number*(j+1)-first_time)\n",
        "  if(len(bar)!=0):\n",
        "    real_time_list.append(starting_number+one_bar_number*(j+1)-now_rhythm)\n",
        "  contour.append(pitch_change_list)\n",
        "  contour.append(duration_list)\n",
        "  contour.append(real_pitch_list)\n",
        "  contour.append(real_time_list)\n",
        "  contour.append(real_duration_list)\n",
        "  #something\n",
        "  return contour\n",
        "\n"
      ],
      "execution_count": null,
      "outputs": []
    },
    {
      "cell_type": "markdown",
      "metadata": {
        "id": "nkt16alDXVFp",
        "colab_type": "text"
      },
      "source": [
        "Plot에서 중요한것은 Y-Axis의 0~112의 숫자가 Note의 반대 성향을 가진다는 것이다.(숫자가 커질수록 Note의 높이가 낮아진다.) 이는 PianoRoll을 이미지 처럼 사용하는 과정에서, 직관적인 학습이 가능하도록 이와 같이 구현한 것이다."
      ]
    },
    {
      "cell_type": "code",
      "metadata": {
        "id": "9DB6np0r4pr0",
        "colab_type": "code",
        "colab": {}
      },
      "source": [
        "bar_contour_list=copy.deepcopy(bar_list)\n",
        "for i,songs in enumerate(bar_list):\n",
        "  for j,bar in enumerate(songs):\n",
        "    contour=bar_to_contour(bar,one_bar_number_list[i],starting_number_list[i],j)\n",
        "    bar_contour_list[i][j]=contour\n"
      ],
      "execution_count": null,
      "outputs": []
    },
    {
      "cell_type": "markdown",
      "metadata": {
        "id": "FFxmPmNCVpBD",
        "colab_type": "text"
      },
      "source": [
        "bar_contour_list : 중간과정\n",
        "bar_matrix_list2 : 아마 학습에 사용하게 될 Matrix의 List\n",
        "bar_label_list : 학습에 사용하게 될 Label의 List"
      ]
    },
    {
      "cell_type": "code",
      "metadata": {
        "id": "PO49MM20Lth1",
        "colab_type": "code",
        "colab": {
          "base_uri": "https://localhost:8080/",
          "height": 54
        },
        "outputId": "68fbb537-276d-47c6-8f7f-467d5eb1753d"
      },
      "source": [
        "print(bar_contour_list[0][0])\n"
      ],
      "execution_count": null,
      "outputs": [
        {
          "output_type": "stream",
          "text": [
            "[['Starting_Point', 'Rest', '0.0', 'Rest', '0.0', 'Rest', '0.0', 'Rest'], [1.1666666666666665, 0.3333333333333335, 0.33333333333333326, 0.16666666666666674, 1.1666666666666665, 0.3333333333333335, 0.33333333333333304, 0.16666666666666696], ['Starting_Point', '0.0', '0.0', '0.0'], [1.5, 0.5, 1.5, 0.5], [1.1666666666666665, 0.33333333333333326, 1.1666666666666665, 0.33333333333333304]]\n"
          ],
          "name": "stdout"
        }
      ]
    },
    {
      "cell_type": "code",
      "metadata": {
        "id": "cqJXy8Wqv1od",
        "colab_type": "code",
        "colab": {
          "base_uri": "https://localhost:8080/",
          "height": 211
        },
        "outputId": "fada3918-61d3-4a2f-eccf-fb761f14d795"
      },
      "source": [
        "for contours in bar_contour_list[11]:\n",
        "  print(contours)"
      ],
      "execution_count": null,
      "outputs": [
        {
          "output_type": "stream",
          "text": [
            "[['Starting_Point', 'Rest', '0.0', '-2.0', '-1.0', '1.0', '2.0'], [0.33333333333333326, 0.16666666666666674, 0.5, 0.25, 0.75, 0.5, 1.75], ['Starting_Point', '0.0', '-2.0', '-1.0', '1.0', '2.0'], [0.5, 0.5, 0.25, 0.75, 0.5, 1.5], [0.33333333333333326, 0.5, 0.25, 0.75, 0.5, 1.75]]\n",
            "[['Rest', 'Starting_Point', '-2.0', '-1.0', '-2.0', '0.0', 'Rest', '2.0'], [0.5, 0.5, 0.25, 0.75, 0.5, 0.16666666666666607, 0.8333333333333339, 0.5], ['Starting_Point', '-2.0', '-1.0', '-2.0', '0.0', '2.0'], [0.5, 0.25, 0.75, 0.5, 1.0, 0.5], [0.5, 0.25, 0.75, 0.5, 0.16666666666666607, 0.5]]\n",
            "[['Starting_Point', '-3.0', 'Rest', '0.0'], [2.0, 0.33333333333333215, 0.16666666666666785, 1.5], ['Starting_Point', '-3.0', '0.0'], [2.0, 0.5, 1.5], [2.0, 0.33333333333333215, 1.5]]\n",
            "[['Starting_Point', 'Rest'], [1.5, 2.5], ['Starting_Point'], [4.0], [1.5]]\n",
            "[['Starting_Point', 'Rest', '0.0', '-2.0', '-1.0', '1.0', '2.0', 'Rest'], [0.33333333333333215, 0.16666666666666785, 0.5, 0.25, 0.75, 0.25, 0.1666666666666643, 1.5833333333333357], ['Starting_Point', '0.0', '-2.0', '-1.0', '1.0', '2.0'], [0.5, 0.5, 0.25, 0.75, 0.25, 1.75], [0.33333333333333215, 0.5, 0.25, 0.75, 0.25, 0.1666666666666643]]\n",
            "[['Rest', 'Starting_Point', '-2.0', '-1.0', '-2.0', '0.0', 'Rest', '2.0'], [0.5, 0.5, 0.25, 0.75, 0.5, 0.1666666666666643, 0.8333333333333357, 0.5], ['Starting_Point', '-2.0', '-1.0', '-2.0', '0.0', '2.0'], [0.5, 0.25, 0.75, 0.5, 1.0, 0.5], [0.5, 0.25, 0.75, 0.5, 0.1666666666666643, 0.5]]\n",
            "[['Starting_Point', 'Rest', '0.0', '2.0', '2.0', 'Rest', '1.0'], [1.3333333333333321, 0.16666666666666785, 0.5, 0.5, 0.1666666666666643, 0.8333333333333357, 0.5], ['Starting_Point', '0.0', '2.0', '2.0', '1.0'], [1.5, 0.5, 0.5, 1.0, 0.5], [1.3333333333333321, 0.5, 0.5, 0.1666666666666643, 0.5]]\n",
            "[['Starting_Point', 'Rest', '3.0', '0.0'], [1.5, 1.5, 0.5, 0.5], ['Starting_Point', '3.0', '0.0'], [3.0, 0.5, 0.5], [1.5, 0.5, 0.5]]\n",
            "[['Starting_Point', '2.0', '-2.0', '-1.0', '-2.0'], [0.5, 1.5, 0.5, 0.5, 1.5], ['Starting_Point', '2.0', '-2.0', '-1.0', '-2.0'], [0.5, 1.5, 0.5, 0.5, 1.0], [0.5, 1.5, 0.5, 0.5, 1.5]]\n",
            "[['Rest', 'Starting_Point', 'Rest'], [1.5, 0.5, 2.0], ['Starting_Point'], [2.5], [0.5]]\n"
          ],
          "name": "stdout"
        }
      ]
    },
    {
      "cell_type": "code",
      "metadata": {
        "id": "MThJLfY0V6F2",
        "colab_type": "code",
        "colab": {}
      },
      "source": [
        "#최대한 많고 깔끔한 조건문을 사용하여 Skill들을 정의해볼 것. Multilabel Classification의 가능성이 있다.\n",
        "\"\"\"\n",
        "Skill들의 음악학적인 특성 & 계산적인 특성을 적는 곳\n",
        "'resting' : 포함하는 음이 0 또는 1개인 경우 resting으로 정의. 다른 Skill들은 겹칠 수 있으나 이 skill이 Label될 경우 그냥 resting 고정이다.\n",
        "즉, Skilling Labeling은 'resting'이 아닌 경우에 진행된다.(삭제)\n",
        "'repeating' : 전체 음 중 n% 이상 또는 n개를 제외한 경우가 전부 같은 음일 경우 repeating으로 정의\n",
        "'up_steping' : 전체 음 중 n% 이상 또는 n개를 제외한 경우가 steping up 또는 같은 음, 즉 반음기준 3Note 이하로 상승하는 형태일 경우 up_steping으로 정의\n",
        "'down_steping' : 전체 음 중 n% 이상 또는 n개를 제외한 경우가 steping down 또는 같은 음, 즉 반음기준 3Note 이하로 하강하는 형태일 경우 down_steping으로 정의\n",
        "'up_leaping' : 전체 음 중 n% 이상 또는 n개를 제외한 경우가 leaping up, 즉 반음기준 3Note 이상으로 상승하는 형태일 경우 up_leaping으로 정의\n",
        "'down_leaping' : 전체 음 중 n% 이상 또는 n개를 제외한 경우가 leaping down, 즉 반음기준 3Note 이상으로 하강하는 형태일 경우 down_leaping으로 정의\n",
        "3Note에서 겹치는게 맞다. Multilabel Classification을 고안 중이기 때문.\n",
        "'steping_twisting' : 음이 4개 이상이고, n개를 제외한 경우가 2Note 이하의 상승과 하강을 반복하는 형태일 경우 steping_twisting으로 정의\n",
        "'leaping_twisting' : 음이 4개 이상이고, n개를 제외한 경우가 3Note 이상의 상승과 하강을 반복하는 형태일 경우 leaping_twisting으로 정의\n",
        "'fast_rhythm' : 1 bar 내에 음이 9개 이상인 경우 fast_rhythm으로 정의.\n",
        "'One_rhythm' :  모든 음이 지닌 연주의 real_time, 즉 음이 울리고 다음 음이 나올때 까지의 시간이 같으면 One_rhythm으로 정의\n",
        "'triplet' : real_time기반해서 triplet이 존재하면(Note 3개) triplet으로 정의\n",
        "'Staccato' : real_Duration_Time 기반해서 n% 이상의 음의 Duration이 0.16667(최소단위*4임)보다 작으면(매우 짧으면) Staccato로 정의\n",
        "'continuing_rhythm' : pitch_change_list에서 'Rest'의 비율이 25퍼센트 이하면 continuing_rhythm으로 정의\n",
        "첫 음 제외 실 음의 75%를 기준으로 잡는다.\n",
        "5개 이상의 음이 있다면 1개를 제외하고 전부 조건에 맞아야하고,\n",
        "9개 이상의 음이 있다면 2개를 제외하고 전부 조건에 맞아야하고...\n",
        "4개 이하는 다 맞아야 한다.\n",
        "ex) CDEF -> up_steping, CDED -> None, CDEFD-> up_steping.\n",
        "다만 Leaping에 대해서는 많이 후해질 것 같다. 거의 50%가까이..?  \n",
        "\"\"\"\n",
        "\n",
        "\"\"\"\n",
        "예시로는..\n",
        "contour[0] = ['Starting_Point', 'Rest', '4.0', '1.0', 'Rest', '2.0', 'Rest', '-7.0', 'Rest'] Note pitch의 변화를 쉼표를 포함하여 의미한다.\n",
        "contour[1] = [0.83333, 0.16666999999999987, 0.5, 0.33333, 0.16666999999999987, 0.8333299999999999, 0.16666999999999987, 0.75, 0.25] Duration을 쉼표를 포함하여 의미한다.\n",
        "contour[2] = ['Starting_Point', '4.0', '1.0', '2.0', '-7.0'] note pitch의 변화를 의미한다.\n",
        "contour[3] = [1.0, 0.5, 0.5, 1.0, 1.0] 한 음의 실 연주시간을 의미한다.(다음 음이 나올때 까지의 시간)\n",
        "contour[4] = [0.83333, 0.5, 0.33333, 0.8333299999999999, 0.75] Duration을 의미한다.\n",
        "\"\"\"\n",
        "def is_repeating(contour_list,exception_range):\n",
        "  boolean_repeating=0\n",
        "  non_repeat=0\n",
        "  for elements in contour_list:\n",
        "    if (elements is not 'Starting_Point'):\n",
        "      if(elements != '0.0'):\n",
        "        non_repeat+=1\n",
        "  if (non_repeat<=exception_range):\n",
        "    boolean_repeating=1\n",
        "  return boolean_repeating\n",
        "\n",
        "def is_up_steping(contour_list,exception_range):\n",
        "  balancing_param=1\n",
        "  boolean_up_steping=0\n",
        "  non_step_up=0\n",
        "  now_step_up=0\n",
        "  for elements in contour_list:\n",
        "    if (elements is not 'Starting_Point'):\n",
        "      if (now_step_up==0):\n",
        "        if (float(elements)<0.5 or float(elements)>4.5):\n",
        "          now_step_up=0\n",
        "          non_step_up+=1\n",
        "        else:\n",
        "          now_step_up=1\n",
        "      else:\n",
        "        if(float(elements)<-0.5 or float(elements)>4.5):\n",
        "          now_step_up=0\n",
        "          non_step_up+=1\n",
        "        else:\n",
        "          now_step_up=1\n",
        "  if(non_step_up<=exception_range+balancing_param):\n",
        "    boolean_up_steping=1\n",
        "  return boolean_up_steping\n",
        "\n",
        "def is_down_steping(contour_list,exception_range):\n",
        "  boolean_down_steping=0\n",
        "  balancing_param=0\n",
        "  non_step_down=0\n",
        "  now_step_down=0\n",
        "  for elements in contour_list:\n",
        "    if (elements is not 'Starting_Point'):\n",
        "      if (now_step_down==0):\n",
        "        if (float(elements)>-0.5 or float(elements)<-4.5):\n",
        "          now_step_down=0\n",
        "          non_step_down+=1\n",
        "        else:\n",
        "          now_step_down=1\n",
        "      else:\n",
        "        if(float(elements)>0.5 or float(elements)<-4.5):\n",
        "          now_step_down=0\n",
        "          non_step_down+=1\n",
        "        else:\n",
        "          now_step_down=1\n",
        "  if(non_step_down<=exception_range+balancing_param):\n",
        "    boolean_down_steping=1\n",
        "  return boolean_down_steping\n",
        "\n",
        "def is_up_leaping(contour_list,exception_range):\n",
        "  boolean_up_leaping=0\n",
        "  non_leap_up=0\n",
        "  for elements in contour_list:\n",
        "    if (elements is not 'Starting_Point'):\n",
        "      if (float(elements)<3.5):\n",
        "        non_leap_up+=1\n",
        "  if (non_leap_up<=exception_range+1):\n",
        "    boolean_up_leaping=1\n",
        "  return boolean_up_leaping\n",
        "\n",
        "def is_down_leaping(contour_list,exception_range):\n",
        "  boolean_down_leaping=0\n",
        "  non_leap_down=0\n",
        "  for elements in contour_list:\n",
        "    if (elements is not 'Starting_Point'):\n",
        "      if (float(elements)>-3.5):\n",
        "        non_leap_down+=1\n",
        "  if (non_leap_down<=exception_range+1):\n",
        "    boolean_down_leaping=1\n",
        "  return boolean_down_leaping\n",
        "\n",
        "def is_leaping_twisting(contour_list,exception_range):\n",
        "  boolean_leaping_twisting=0\n",
        "  non_leap_twist=0\n",
        "  balancing_param=1\n",
        "  now_dir=0 #1for up, -1 for down\n",
        "  for elements in contour_list:\n",
        "    if (elements is not 'Starting_Point'):\n",
        "      if (now_dir==0):\n",
        "        if (3.5<float(elements)):\n",
        "          now_dir=1\n",
        "        elif (float(elements) <-3.5):\n",
        "          now_dir=-1\n",
        "        else:\n",
        "          non_leap_twist+=1\n",
        "      elif (now_dir==1):\n",
        "        if (float(elements) <-3.5):\n",
        "          now_dir=-1\n",
        "        else:\n",
        "          now_dir=0\n",
        "          non_leap_twist+=1\n",
        "      elif (now_dir==-1):\n",
        "        if (3.5<float(elements)):\n",
        "          now_dir=1\n",
        "        else:\n",
        "          now_dir=0\n",
        "          non_leap_twist+=1\n",
        "  if(non_leap_twist<=exception_range+balancing_param):\n",
        "    boolean_leaping_twisting=1\n",
        "  return boolean_leaping_twisting\n",
        "\n",
        "def is_steping_twisting(contour_list,exception_range):\n",
        "  boolean_steping_twisting=0\n",
        "  non_step_twist=0\n",
        "  now_dir=0 #1for up, -1 for down\n",
        "  for elements in contour_list:\n",
        "    if (elements is not 'Starting_Point'):\n",
        "      if (now_dir==0):\n",
        "        if (0<float(elements) and float(elements) <2.5):\n",
        "          now_dir=1\n",
        "        elif (-2.5<float(elements) and float(elements) <0):\n",
        "          now_dir=-1\n",
        "        else:\n",
        "          non_step_twist+=1\n",
        "      elif (now_dir==1):\n",
        "        if (-2.5<float(elements) and float(elements) <0):\n",
        "          now_dir=-1\n",
        "        else:\n",
        "          now_dir=0\n",
        "          non_step_twist+=1\n",
        "      elif (now_dir==-1):\n",
        "        if (0<float(elements) and float(elements) <2.5):\n",
        "          now_dir=1\n",
        "        else:\n",
        "          now_dir=0\n",
        "          non_step_twist+=1\n",
        "  if(non_step_twist<=exception_range):\n",
        "    boolean_steping_twisting=1\n",
        "  return boolean_steping_twisting\n",
        "\n",
        "def is_one_rhythm(contour_list,exception_range):\n",
        "  boolean_one_rhythm=0\n",
        "  non_same_rhythm=0\n",
        "\n",
        "  first_rhythm=contour_list[0]\n",
        "  for rhythms in contour_list:\n",
        "    if (rhythms != first_rhythm):\n",
        "      non_same_rhythm=1\n",
        "  boolean_one_rhythm=1-non_same_rhythm\n",
        "  return boolean_one_rhythm\n",
        "\n",
        "def is_triplet(contour_list,exception_range):\n",
        "  boolean_triplet=0\n",
        "  now_triplet=0\n",
        "  for rhythms in contour_list:\n",
        "    rhythms=float(rhythms)\n",
        "    if (rhythms%0.015625>0.001):\n",
        "      if(now_triplet==1):\n",
        "        boolean_triplet=1\n",
        "      now_triplet+=1\n",
        "    else:\n",
        "      now_triplet=0\n",
        "      \n",
        "  return boolean_triplet\n",
        "\n",
        "def is_staccato(contour_list,exception_range):\n",
        "  boolean_staccato=0\n",
        "  ranges=len(contour_list)//2\n",
        "  staccato_num=0\n",
        "  for times in contour_list:\n",
        "    if (times<0.2):\n",
        "      staccato_num+=1\n",
        "  if (staccato_num>=ranges):\n",
        "    boolean_staccato=1\n",
        "  return boolean_staccato\n",
        "\n",
        "def is_continuing_rhythm(contour_list):\n",
        "  boolean_continuing_rhythm=0\n",
        "  length=len(contour_list)\n",
        "  rest_num=0\n",
        "  for elements in contour_list:\n",
        "    if (elements=='Rest'):\n",
        "      rest_num+=1\n",
        "  if (rest_num<=0.5):\n",
        "    boolean_continuing_rhythm=1\n",
        "  return boolean_continuing_rhythm\n",
        "\n",
        "def contour_to_label(contour):\n",
        "  labels=[]\n",
        "  totnum=len(contour[2]) #실 음의 갯수이다.\n",
        "  exception_range=(totnum-1)//4\n",
        "  exception_range2=(totnum-1)//3\n",
        "  if (len(contour[2])<2.5):\n",
        "    pass#원래는 resting이라는 Label을 append했으나 Control이 까다롭다\n",
        "  else:\n",
        "    if (is_repeating(contour[2],exception_range2)):\n",
        "      labels.append('repeating')\n",
        "\n",
        "    if (is_up_steping(contour[2],exception_range)):\n",
        "      if (len(contour[2])>3):\n",
        "        labels.append('up_steping')\n",
        "\n",
        "    if (is_down_steping(contour[2],exception_range)):\n",
        "      if (len(contour[2])>3):\n",
        "        labels.append('down_steping')\n",
        "\n",
        "    if (is_up_leaping(contour[2],exception_range2)):\n",
        "      labels.append('up_leaping')\n",
        "    \n",
        "    if (is_down_leaping(contour[2],exception_range2)):\n",
        "      labels.append('down_leaping')\n",
        "\n",
        "    if (is_steping_twisting(contour[2],exception_range2)):\n",
        "      if (len(contour[2])>3):\n",
        "        labels.append('steping_twisting')\n",
        "\n",
        "    if (is_leaping_twisting(contour[2],exception_range2)):\n",
        "      if (len(contour[2])>3):\n",
        "        labels.append('leaping_twisting')\n",
        "\n",
        "    if (len(contour[2])>8.5):\n",
        "      labels.append('fast_rhythm')\n",
        "\n",
        "    if (is_one_rhythm(contour[3],exception_range)):\n",
        "      labels.append('One_rhythm')\n",
        "\n",
        "    if (is_triplet(contour[3],exception_range2)):\n",
        "      labels.append('triplet')\n",
        "\n",
        "    if (is_staccato(contour[4],exception_range2)):\n",
        "      labels.append('staccato')  \n",
        "\n",
        "    if (is_continuing_rhythm(contour[0])):\n",
        "      labels.append('continuing_rhythm')  \n",
        "\n",
        "  if (len(labels)==0):\n",
        "    labels.append('no skills')#classifier과 cGan에서 사용은 하되, 추후 음원 제작에서 사용을 안한다.\n",
        "\n",
        "\n",
        "  return labels"
      ],
      "execution_count": null,
      "outputs": []
    },
    {
      "cell_type": "code",
      "metadata": {
        "id": "ez9WMZruqLA0",
        "colab_type": "code",
        "colab": {}
      },
      "source": [
        "bar_label_list=copy.deepcopy(bar_contour_list)\n",
        "for i,songs in enumerate(bar_contour_list):\n",
        "  for j,contour in enumerate(songs):\n",
        "    label=contour_to_label(contour) \n",
        "    bar_label_list[i][j]=label"
      ],
      "execution_count": null,
      "outputs": []
    },
    {
      "cell_type": "code",
      "metadata": {
        "id": "sqUWmjlproso",
        "colab_type": "code",
        "colab": {
          "base_uri": "https://localhost:8080/",
          "height": 665
        },
        "outputId": "b5d1d8ac-5d97-4453-c68f-5728d9bd9dc5"
      },
      "source": [
        "for j in range(len(bar_label_list[0])):\n",
        "  print(bar_label_list[0][j])\n",
        "  print(bar_contour_list[0][j])"
      ],
      "execution_count": null,
      "outputs": [
        {
          "output_type": "stream",
          "text": [
            "['repeating']\n",
            "[['Starting_Point', 'Rest', '0.0', 'Rest', '0.0', 'Rest', '0.0', 'Rest'], [1.1666666666666665, 0.3333333333333335, 0.33333333333333326, 0.16666666666666674, 1.1666666666666665, 0.3333333333333335, 0.33333333333333304, 0.16666666666666696], ['Starting_Point', '0.0', '0.0', '0.0'], [1.5, 0.5, 1.5, 0.5], [1.1666666666666665, 0.33333333333333326, 1.1666666666666665, 0.33333333333333304]]\n",
            "['repeating']\n",
            "[['Starting_Point', 'Rest', '0.0', 'Rest', '0.0', 'Rest', '0.0', 'Rest'], [1.166666666666666, 0.3333333333333339, 0.33333333333333304, 0.16666666666666696, 1.166666666666666, 0.3333333333333339, 0.33333333333333304, 0.16666666666666696], ['Starting_Point', '0.0', '0.0', '0.0'], [1.5, 0.5, 1.5, 0.5], [1.166666666666666, 0.33333333333333304, 1.166666666666666, 0.33333333333333304]]\n",
            "['repeating']\n",
            "[['Starting_Point', 'Rest', '0.0', 'Rest', '0.0', 'Rest', '0.0', 'Rest'], [1.166666666666666, 0.3333333333333339, 0.33333333333333215, 0.16666666666666785, 1.166666666666666, 0.3333333333333339, 0.33333333333333215, 0.16666666666666785], ['Starting_Point', '0.0', '0.0', '0.0'], [1.5, 0.5, 1.5, 0.5], [1.166666666666666, 0.33333333333333215, 1.166666666666666, 0.33333333333333215]]\n",
            "['repeating']\n",
            "[['Starting_Point', 'Rest', '0.0', 'Rest', '-1.0', 'Rest', '0.0', 'Rest'], [1.166666666666666, 0.3333333333333339, 0.33333333333333215, 0.16666666666666785, 1.166666666666666, 0.3333333333333339, 0.33333333333333215, 0.16666666666666785], ['Starting_Point', '0.0', '-1.0', '0.0'], [1.5, 0.5, 1.5, 0.5], [1.166666666666666, 0.33333333333333215, 1.166666666666666, 0.33333333333333215]]\n",
            "['repeating']\n",
            "[['Starting_Point', 'Rest', '0.0', 'Rest', '-3.0', 'Rest', '0.0', 'Rest'], [1.1666666666666643, 0.3333333333333357, 0.33333333333333215, 0.16666666666666785, 1.1666666666666643, 0.3333333333333357, 0.33333333333333215, 0.16666666666666785], ['Starting_Point', '0.0', '-3.0', '0.0'], [1.5, 0.5, 1.5, 0.5], [1.1666666666666643, 0.33333333333333215, 1.1666666666666643, 0.33333333333333215]]\n",
            "['repeating', 'up_steping']\n",
            "[['Starting_Point', 'Rest', '0.0', 'Rest', '2.0', 'Rest', '0.0', 'Rest'], [1.1666666666666643, 0.3333333333333357, 0.33333333333333215, 0.16666666666666785, 1.1666666666666643, 0.3333333333333357, 0.33333333333333215, 0.16666666666666785], ['Starting_Point', '0.0', '2.0', '0.0'], [1.5, 0.5, 1.5, 0.5], [1.1666666666666643, 0.33333333333333215, 1.1666666666666643, 0.33333333333333215]]\n",
            "['repeating']\n",
            "[['Starting_Point', 'Rest', '0.0', 'Rest', '-3.0', 'Rest', '0.0', 'Rest'], [1.1666666666666643, 0.3333333333333357, 0.33333333333333215, 0.16666666666666785, 0.75, 0.25, 0.75, 0.25], ['Starting_Point', '0.0', '-3.0', '0.0'], [1.5, 0.5, 1.0, 1.0], [1.1666666666666643, 0.33333333333333215, 0.75, 0.75]]\n",
            "['repeating']\n",
            "[['Starting_Point', 'Rest', '0.0', 'Rest', '-1.0', 'Rest', '0.0', 'Rest'], [1.1666666666666643, 0.3333333333333357, 0.33333333333333215, 0.16666666666666785, 1.1666666666666643, 0.3333333333333357, 0.33333333333333215, 0.16666666666666785], ['Starting_Point', '0.0', '-1.0', '0.0'], [1.5, 0.5, 1.5, 0.5], [1.1666666666666643, 0.33333333333333215, 1.1666666666666643, 0.33333333333333215]]\n",
            "['repeating', 'down_leaping', 'leaping_twisting']\n",
            "[['Starting_Point', 'Rest', '0.0', 'Rest', '-5.0', 'Rest', '0.0', 'Rest'], [1.1666666666666643, 0.3333333333333357, 0.3333333333333286, 0.1666666666666714, 1.1666666666666643, 0.3333333333333357, 0.3333333333333286, 0.1666666666666714], ['Starting_Point', '0.0', '-5.0', '0.0'], [1.5, 0.5, 1.5, 0.5], [1.1666666666666643, 0.3333333333333286, 1.1666666666666643, 0.3333333333333286]]\n",
            "['repeating', 'down_leaping', 'leaping_twisting']\n",
            "[['Starting_Point', 'Rest', '0.0', 'Rest', '-5.0', 'Rest', '0.0', 'Rest'], [1.1666666666666643, 0.3333333333333357, 0.3333333333333286, 0.1666666666666714, 1.1666666666666643, 0.3333333333333357, 0.3333333333333286, 0.1666666666666714], ['Starting_Point', '0.0', '-5.0', '0.0'], [1.5, 0.5, 1.5, 0.5], [1.1666666666666643, 0.3333333333333286, 1.1666666666666643, 0.3333333333333286]]\n",
            "['repeating']\n",
            "[['Starting_Point', 'Rest', '0.0', 'Rest', '0.0', 'Rest', '0.0', 'Rest'], [1.1666666666666643, 0.3333333333333357, 0.3333333333333286, 0.1666666666666714, 1.1666666666666643, 0.3333333333333357, 0.3333333333333286, 0.1666666666666714], ['Starting_Point', '0.0', '0.0', '0.0'], [1.5, 0.5, 1.5, 0.5], [1.1666666666666643, 0.3333333333333286, 1.1666666666666643, 0.3333333333333286]]\n",
            "['repeating']\n",
            "[['Starting_Point', 'Rest', '0.0', 'Rest', '0.0', 'Rest', '0.0', 'Rest'], [1.1666666666666643, 0.3333333333333357, 0.3333333333333286, 0.1666666666666714, 1.1666666666666643, 0.3333333333333357, 0.3333333333333286, 0.1666666666666714], ['Starting_Point', '0.0', '0.0', '0.0'], [1.5, 0.5, 1.5, 0.5], [1.1666666666666643, 0.3333333333333286, 1.1666666666666643, 0.3333333333333286]]\n",
            "['repeating']\n",
            "[['Starting_Point', 'Rest', '0.0', 'Rest', '0.0', 'Rest', '0.0', 'Rest'], [1.1666666666666643, 0.3333333333333357, 0.3333333333333286, 0.1666666666666714, 1.1666666666666643, 0.3333333333333357, 0.3333333333333286, 0.1666666666666714], ['Starting_Point', '0.0', '0.0', '0.0'], [1.5, 0.5, 1.5, 0.5], [1.1666666666666643, 0.3333333333333286, 1.1666666666666643, 0.3333333333333286]]\n",
            "['repeating']\n",
            "[['Starting_Point', 'Rest', '0.0', 'Rest', '0.0', 'Rest', '0.0', 'Rest'], [1.1666666666666643, 0.3333333333333357, 0.3333333333333286, 0.1666666666666714, 1.1666666666666643, 0.3333333333333357, 0.3333333333333286, 0.1666666666666714], ['Starting_Point', '0.0', '0.0', '0.0'], [1.5, 0.5, 1.5, 0.5], [1.1666666666666643, 0.3333333333333286, 1.1666666666666643, 0.3333333333333286]]\n",
            "['repeating']\n",
            "[['Starting_Point', 'Rest', '0.0', 'Rest', '0.0', 'Rest', '0.0', 'Rest'], [1.1666666666666643, 0.3333333333333357, 0.3333333333333286, 0.1666666666666714, 1.1666666666666643, 0.3333333333333357, 0.3333333333333286, 0.1666666666666714], ['Starting_Point', '0.0', '0.0', '0.0'], [1.5, 0.5, 1.5, 0.5], [1.1666666666666643, 0.3333333333333286, 1.1666666666666643, 0.3333333333333286]]\n",
            "['repeating']\n",
            "[['Starting_Point', 'Rest', '0.0', 'Rest', '0.0', 'Rest', '0.0', 'Rest'], [1.1666666666666643, 0.3333333333333357, 0.3333333333333286, 0.1666666666666714, 1.1666666666666643, 0.3333333333333357, 0.3333333333333286, 0.1666666666666714], ['Starting_Point', '0.0', '0.0', '0.0'], [1.5, 0.5, 1.5, 0.5], [1.1666666666666643, 0.3333333333333286, 1.1666666666666643, 0.3333333333333286]]\n",
            "['repeating']\n",
            "[['Starting_Point', 'Rest', '0.0', 'Rest', '0.0', 'Rest', '0.0', 'Rest'], [1.1666666666666572, 0.3333333333333428, 0.3333333333333286, 0.1666666666666714, 1.1666666666666572, 0.3333333333333428, 0.3333333333333286, 0.1666666666666714], ['Starting_Point', '0.0', '0.0', '0.0'], [1.5, 0.5, 1.5, 0.5], [1.1666666666666572, 0.3333333333333286, 1.1666666666666572, 0.3333333333333286]]\n",
            "['no skills']\n",
            "[['Starting_Point', 'Rest', '0.0', 'Rest'], [1.1666666666666572, 0.3333333333333428, 0.3333333333333286, 2.1666666666666714], ['Starting_Point', '0.0'], [1.5, 2.5], [1.1666666666666572, 0.3333333333333286]]\n"
          ],
          "name": "stdout"
        }
      ]
    },
    {
      "cell_type": "code",
      "metadata": {
        "id": "-eCyCmgXzbSr",
        "colab_type": "code",
        "colab": {
          "base_uri": "https://localhost:8080/",
          "height": 362
        },
        "outputId": "c48b8a67-a46b-4964-9a74-077ae7722b8a"
      },
      "source": [
        "#Summary\n",
        "print(bar_contour_list[0][0])\n",
        "print(bar_label_list[0][0])\n",
        "print(bar_list[0][0])\n",
        "\n",
        "H=bar_matrix_list3[0][0]\n",
        "fig = plt.figure(figsize=(6, 3.2))\n",
        "ax = fig.add_subplot(111)\n",
        "ax.set_title('colorMap')\n",
        "plt.imshow(H)\n",
        "ax.set_aspect('equal')\n",
        "\n",
        "cax = fig.add_axes([0.12, 0.1, 0.78, 0.8])\n",
        "cax.get_xaxis().set_visible(False)\n",
        "cax.get_yaxis().set_visible(False)\n",
        "cax.patch.set_alpha(0)\n",
        "cax.set_frame_on(False)\n",
        "plt.colorbar(orientation='vertical')\n",
        "plt.show()\n",
        "#위 for문 없이 돌리면 1 bar만 나옴\n",
        "#matrix_list2를 CNN하되 라벨을 label로 가져가면 될듯 bar_label_list[i][j]는 i번째곡의 j번째 bar를 의미하고, 나머지도 같다."
      ],
      "execution_count": null,
      "outputs": [
        {
          "output_type": "stream",
          "text": [
            "[['Starting_Point', 'Rest', '0.0', 'Rest', '0.0', 'Rest', '0.0', 'Rest'], [1.1666666666666665, 0.3333333333333335, 0.33333333333333326, 0.16666666666666674, 1.1666666666666665, 0.3333333333333335, 0.33333333333333304, 0.16666666666666696], ['Starting_Point', '0.0', '0.0', '0.0'], [1.5, 0.5, 1.5, 0.5], [1.1666666666666665, 0.33333333333333326, 1.1666666666666665, 0.33333333333333304]]\n",
            "['repeating']\n",
            "[[ 0.         42.         42.          1.16666667  0.        ]\n",
            " [ 1.5        42.         42.          0.33333333  0.        ]\n",
            " [ 2.         42.         42.          1.16666667  0.        ]\n",
            " [ 3.5        42.         42.          0.33333333  0.        ]]\n"
          ],
          "name": "stdout"
        },
        {
          "output_type": "display_data",
          "data": {
            "image/png": "[encoded data removed]",
            "text/plain": [
              "<Figure size 432x230.4 with 3 Axes>"
            ]
          },
          "metadata": {
            "tags": [],
            "needs_background": "light"
          }
        }
      ]
    },
    {
      "cell_type": "code",
      "metadata": {
        "id": "ndQru9Cv1XIs",
        "colab_type": "code",
        "colab": {}
      },
      "source": [
        "all_matrix=[]\n",
        "all_labels=[]\n",
        "all_updown_labels=[]\n",
        "for songs in bar_label_list:\n",
        "  for label in songs:\n",
        "    label=np.array(label)\n",
        "    all_labels.append(label)\n",
        "bar_label_list=[]#램 터짐\n",
        "for songs in bar_matrix_list3:\n",
        "  for matrix in songs:\n",
        "    matrix=matrix.reshape(24,24,1)\n",
        "    all_matrix.append(matrix)\n",
        "for songs in bar_updown_list:\n",
        "  for label in songs:\n",
        "    all_updown_labels.append(label)\n"
      ],
      "execution_count": null,
      "outputs": []
    },
    {
      "cell_type": "code",
      "metadata": {
        "id": "cLD6jvcH2thx",
        "colab_type": "code",
        "colab": {
          "base_uri": "https://localhost:8080/",
          "height": 34
        },
        "outputId": "3c0dba0f-7939-44e4-b43a-d4bee49b0cec"
      },
      "source": [
        "print(len(all_matrix),len(all_labels),len(all_updown_labels))"
      ],
      "execution_count": null,
      "outputs": [
        {
          "output_type": "stream",
          "text": [
            "137207 137207 137207\n"
          ],
          "name": "stdout"
        }
      ]
    },
    {
      "cell_type": "code",
      "metadata": {
        "id": "KxnqzorC35O4",
        "colab_type": "code",
        "colab": {
          "base_uri": "https://localhost:8080/",
          "height": 34
        },
        "outputId": "6ff668e6-8fd8-4f4e-d3f4-b1f8cd4324e6"
      },
      "source": [
        "import keras.backend.tensorflow_backend as tfback\n",
        "from tensorflow.python.client import device_lib\n",
        "def _get_available_gpus():\n",
        "  if tfback._LOCAL_DEVICES is None:\n",
        "    devices = device_lib.list_local_devices()\n",
        "    tfback._LOCAL_DEVICES = [x.name for x in devices]\n",
        "  return [x for x in tfback._LOCAL_DEVICES if 'device:gpu' in x.lower()]\n",
        "tfback._get_available_gpus = _get_available_gpus\n",
        "tfback._get_available_gpus()"
      ],
      "execution_count": null,
      "outputs": [
        {
          "output_type": "execute_result",
          "data": {
            "text/plain": [
              "['/device:GPU:0']"
            ]
          },
          "metadata": {
            "tags": []
          },
          "execution_count": 62
        }
      ]
    },
    {
      "cell_type": "code",
      "metadata": {
        "id": "Mt2exWUggwA9",
        "colab_type": "code",
        "colab": {}
      },
      "source": [
        "from sklearn.preprocessing import MultiLabelBinarizer\n",
        "train_matrix=np.array(all_matrix[:int(len(all_matrix)*0.85)])\n",
        "train_label=np.array(all_labels[:int(len(all_matrix)*0.85)])"
      ],
      "execution_count": null,
      "outputs": []
    },
    {
      "cell_type": "code",
      "metadata": {
        "id": "sc4SuOnd9wC7",
        "colab_type": "code",
        "colab": {}
      },
      "source": [
        "def set_labels():\n",
        "  labels=[]\n",
        "  label_tuple=[]\n",
        "  skills_pitch=['repeating','up_steping','down_steping','up_leaping','down_leaping','steping_twisting','leaping_twisting','dummy']\n",
        "  skills_timing=['fast_rhythm','dummy']\n",
        "  skills_triplet=['triplet','dummy']\n",
        "  skills_one_rhythm=['One_rhythm','dummy']\n",
        "  skills_staccato=['staccato','continuing_rhythm','dummy']\n",
        "  for pitch in skills_pitch:\n",
        "    for timing in skills_timing:\n",
        "      for triplet in skills_triplet:\n",
        "        for one_rhythm in skills_one_rhythm:\n",
        "          for staccato in skills_staccato:\n",
        "            label_tuple=[]\n",
        "            if pitch is not 'dummy':\n",
        "              label_tuple.append(pitch)\n",
        "            if timing is not 'dummy':\n",
        "              label_tuple.append(timing)\n",
        "            if triplet is not 'dummy':\n",
        "              label_tuple.append(triplet)\n",
        "            if one_rhythm is not 'dummy':\n",
        "              label_tuple.append(one_rhythm)\n",
        "            if staccato is not 'dummy':\n",
        "              label_tuple.append(staccato)\n",
        "            if len(label_tuple)==0:\n",
        "              label_tuple.append('no skills')\n",
        "            label_tuple=tuple(label_tuple)\n",
        "            \n",
        "            labels.append(label_tuple)\n",
        "  \n",
        "  return labels"
      ],
      "execution_count": null,
      "outputs": []
    },
    {
      "cell_type": "code",
      "metadata": {
        "id": "SYOhSlmHA1ka",
        "colab_type": "code",
        "colab": {
          "base_uri": "https://localhost:8080/",
          "height": 54
        },
        "outputId": "86fe4142-9c2a-4fb4-c547-2b82e9894552"
      },
      "source": [
        "label=set_labels()\n",
        "print(label)"
      ],
      "execution_count": null,
      "outputs": [
        {
          "output_type": "stream",
          "text": [
            "[('repeating', 'fast_rhythm', 'triplet', 'One_rhythm', 'staccato'), ('repeating', 'fast_rhythm', 'triplet', 'One_rhythm', 'continuing_rhythm'), ('repeating', 'fast_rhythm', 'triplet', 'One_rhythm'), ('repeating', 'fast_rhythm', 'triplet', 'staccato'), ('repeating', 'fast_rhythm', 'triplet', 'continuing_rhythm'), ('repeating', 'fast_rhythm', 'triplet'), ('repeating', 'fast_rhythm', 'One_rhythm', 'staccato'), ('repeating', 'fast_rhythm', 'One_rhythm', 'continuing_rhythm'), ('repeating', 'fast_rhythm', 'One_rhythm'), ('repeating', 'fast_rhythm', 'staccato'), ('repeating', 'fast_rhythm', 'continuing_rhythm'), ('repeating', 'fast_rhythm'), ('repeating', 'triplet', 'One_rhythm', 'staccato'), ('repeating', 'triplet', 'One_rhythm', 'continuing_rhythm'), ('repeating', 'triplet', 'One_rhythm'), ('repeating', 'triplet', 'staccato'), ('repeating', 'triplet', 'continuing_rhythm'), ('repeating', 'triplet'), ('repeating', 'One_rhythm', 'staccato'), ('repeating', 'One_rhythm', 'continuing_rhythm'), ('repeating', 'One_rhythm'), ('repeating', 'staccato'), ('repeating', 'continuing_rhythm'), ('repeating',), ('up_steping', 'fast_rhythm', 'triplet', 'One_rhythm', 'staccato'), ('up_steping', 'fast_rhythm', 'triplet', 'One_rhythm', 'continuing_rhythm'), ('up_steping', 'fast_rhythm', 'triplet', 'One_rhythm'), ('up_steping', 'fast_rhythm', 'triplet', 'staccato'), ('up_steping', 'fast_rhythm', 'triplet', 'continuing_rhythm'), ('up_steping', 'fast_rhythm', 'triplet'), ('up_steping', 'fast_rhythm', 'One_rhythm', 'staccato'), ('up_steping', 'fast_rhythm', 'One_rhythm', 'continuing_rhythm'), ('up_steping', 'fast_rhythm', 'One_rhythm'), ('up_steping', 'fast_rhythm', 'staccato'), ('up_steping', 'fast_rhythm', 'continuing_rhythm'), ('up_steping', 'fast_rhythm'), ('up_steping', 'triplet', 'One_rhythm', 'staccato'), ('up_steping', 'triplet', 'One_rhythm', 'continuing_rhythm'), ('up_steping', 'triplet', 'One_rhythm'), ('up_steping', 'triplet', 'staccato'), ('up_steping', 'triplet', 'continuing_rhythm'), ('up_steping', 'triplet'), ('up_steping', 'One_rhythm', 'staccato'), ('up_steping', 'One_rhythm', 'continuing_rhythm'), ('up_steping', 'One_rhythm'), ('up_steping', 'staccato'), ('up_steping', 'continuing_rhythm'), ('up_steping',), ('down_steping', 'fast_rhythm', 'triplet', 'One_rhythm', 'staccato'), ('down_steping', 'fast_rhythm', 'triplet', 'One_rhythm', 'continuing_rhythm'), ('down_steping', 'fast_rhythm', 'triplet', 'One_rhythm'), ('down_steping', 'fast_rhythm', 'triplet', 'staccato'), ('down_steping', 'fast_rhythm', 'triplet', 'continuing_rhythm'), ('down_steping', 'fast_rhythm', 'triplet'), ('down_steping', 'fast_rhythm', 'One_rhythm', 'staccato'), ('down_steping', 'fast_rhythm', 'One_rhythm', 'continuing_rhythm'), ('down_steping', 'fast_rhythm', 'One_rhythm'), ('down_steping', 'fast_rhythm', 'staccato'), ('down_steping', 'fast_rhythm', 'continuing_rhythm'), ('down_steping', 'fast_rhythm'), ('down_steping', 'triplet', 'One_rhythm', 'staccato'), ('down_steping', 'triplet', 'One_rhythm', 'continuing_rhythm'), ('down_steping', 'triplet', 'One_rhythm'), ('down_steping', 'triplet', 'staccato'), ('down_steping', 'triplet', 'continuing_rhythm'), ('down_steping', 'triplet'), ('down_steping', 'One_rhythm', 'staccato'), ('down_steping', 'One_rhythm', 'continuing_rhythm'), ('down_steping', 'One_rhythm'), ('down_steping', 'staccato'), ('down_steping', 'continuing_rhythm'), ('down_steping',), ('up_leaping', 'fast_rhythm', 'triplet', 'One_rhythm', 'staccato'), ('up_leaping', 'fast_rhythm', 'triplet', 'One_rhythm', 'continuing_rhythm'), ('up_leaping', 'fast_rhythm', 'triplet', 'One_rhythm'), ('up_leaping', 'fast_rhythm', 'triplet', 'staccato'), ('up_leaping', 'fast_rhythm', 'triplet', 'continuing_rhythm'), ('up_leaping', 'fast_rhythm', 'triplet'), ('up_leaping', 'fast_rhythm', 'One_rhythm', 'staccato'), ('up_leaping', 'fast_rhythm', 'One_rhythm', 'continuing_rhythm'), ('up_leaping', 'fast_rhythm', 'One_rhythm'), ('up_leaping', 'fast_rhythm', 'staccato'), ('up_leaping', 'fast_rhythm', 'continuing_rhythm'), ('up_leaping', 'fast_rhythm'), ('up_leaping', 'triplet', 'One_rhythm', 'staccato'), ('up_leaping', 'triplet', 'One_rhythm', 'continuing_rhythm'), ('up_leaping', 'triplet', 'One_rhythm'), ('up_leaping', 'triplet', 'staccato'), ('up_leaping', 'triplet', 'continuing_rhythm'), ('up_leaping', 'triplet'), ('up_leaping', 'One_rhythm', 'staccato'), ('up_leaping', 'One_rhythm', 'continuing_rhythm'), ('up_leaping', 'One_rhythm'), ('up_leaping', 'staccato'), ('up_leaping', 'continuing_rhythm'), ('up_leaping',), ('down_leaping', 'fast_rhythm', 'triplet', 'One_rhythm', 'staccato'), ('down_leaping', 'fast_rhythm', 'triplet', 'One_rhythm', 'continuing_rhythm'), ('down_leaping', 'fast_rhythm', 'triplet', 'One_rhythm'), ('down_leaping', 'fast_rhythm', 'triplet', 'staccato'), ('down_leaping', 'fast_rhythm', 'triplet', 'continuing_rhythm'), ('down_leaping', 'fast_rhythm', 'triplet'), ('down_leaping', 'fast_rhythm', 'One_rhythm', 'staccato'), ('down_leaping', 'fast_rhythm', 'One_rhythm', 'continuing_rhythm'), ('down_leaping', 'fast_rhythm', 'One_rhythm'), ('down_leaping', 'fast_rhythm', 'staccato'), ('down_leaping', 'fast_rhythm', 'continuing_rhythm'), ('down_leaping', 'fast_rhythm'), ('down_leaping', 'triplet', 'One_rhythm', 'staccato'), ('down_leaping', 'triplet', 'One_rhythm', 'continuing_rhythm'), ('down_leaping', 'triplet', 'One_rhythm'), ('down_leaping', 'triplet', 'staccato'), ('down_leaping', 'triplet', 'continuing_rhythm'), ('down_leaping', 'triplet'), ('down_leaping', 'One_rhythm', 'staccato'), ('down_leaping', 'One_rhythm', 'continuing_rhythm'), ('down_leaping', 'One_rhythm'), ('down_leaping', 'staccato'), ('down_leaping', 'continuing_rhythm'), ('down_leaping',), ('steping_twisting', 'fast_rhythm', 'triplet', 'One_rhythm', 'staccato'), ('steping_twisting', 'fast_rhythm', 'triplet', 'One_rhythm', 'continuing_rhythm'), ('steping_twisting', 'fast_rhythm', 'triplet', 'One_rhythm'), ('steping_twisting', 'fast_rhythm', 'triplet', 'staccato'), ('steping_twisting', 'fast_rhythm', 'triplet', 'continuing_rhythm'), ('steping_twisting', 'fast_rhythm', 'triplet'), ('steping_twisting', 'fast_rhythm', 'One_rhythm', 'staccato'), ('steping_twisting', 'fast_rhythm', 'One_rhythm', 'continuing_rhythm'), ('steping_twisting', 'fast_rhythm', 'One_rhythm'), ('steping_twisting', 'fast_rhythm', 'staccato'), ('steping_twisting', 'fast_rhythm', 'continuing_rhythm'), ('steping_twisting', 'fast_rhythm'), ('steping_twisting', 'triplet', 'One_rhythm', 'staccato'), ('steping_twisting', 'triplet', 'One_rhythm', 'continuing_rhythm'), ('steping_twisting', 'triplet', 'One_rhythm'), ('steping_twisting', 'triplet', 'staccato'), ('steping_twisting', 'triplet', 'continuing_rhythm'), ('steping_twisting', 'triplet'), ('steping_twisting', 'One_rhythm', 'staccato'), ('steping_twisting', 'One_rhythm', 'continuing_rhythm'), ('steping_twisting', 'One_rhythm'), ('steping_twisting', 'staccato'), ('steping_twisting', 'continuing_rhythm'), ('steping_twisting',), ('leaping_twisting', 'fast_rhythm', 'triplet', 'One_rhythm', 'staccato'), ('leaping_twisting', 'fast_rhythm', 'triplet', 'One_rhythm', 'continuing_rhythm'), ('leaping_twisting', 'fast_rhythm', 'triplet', 'One_rhythm'), ('leaping_twisting', 'fast_rhythm', 'triplet', 'staccato'), ('leaping_twisting', 'fast_rhythm', 'triplet', 'continuing_rhythm'), ('leaping_twisting', 'fast_rhythm', 'triplet'), ('leaping_twisting', 'fast_rhythm', 'One_rhythm', 'staccato'), ('leaping_twisting', 'fast_rhythm', 'One_rhythm', 'continuing_rhythm'), ('leaping_twisting', 'fast_rhythm', 'One_rhythm'), ('leaping_twisting', 'fast_rhythm', 'staccato'), ('leaping_twisting', 'fast_rhythm', 'continuing_rhythm'), ('leaping_twisting', 'fast_rhythm'), ('leaping_twisting', 'triplet', 'One_rhythm', 'staccato'), ('leaping_twisting', 'triplet', 'One_rhythm', 'continuing_rhythm'), ('leaping_twisting', 'triplet', 'One_rhythm'), ('leaping_twisting', 'triplet', 'staccato'), ('leaping_twisting', 'triplet', 'continuing_rhythm'), ('leaping_twisting', 'triplet'), ('leaping_twisting', 'One_rhythm', 'staccato'), ('leaping_twisting', 'One_rhythm', 'continuing_rhythm'), ('leaping_twisting', 'One_rhythm'), ('leaping_twisting', 'staccato'), ('leaping_twisting', 'continuing_rhythm'), ('leaping_twisting',), ('fast_rhythm', 'triplet', 'One_rhythm', 'staccato'), ('fast_rhythm', 'triplet', 'One_rhythm', 'continuing_rhythm'), ('fast_rhythm', 'triplet', 'One_rhythm'), ('fast_rhythm', 'triplet', 'staccato'), ('fast_rhythm', 'triplet', 'continuing_rhythm'), ('fast_rhythm', 'triplet'), ('fast_rhythm', 'One_rhythm', 'staccato'), ('fast_rhythm', 'One_rhythm', 'continuing_rhythm'), ('fast_rhythm', 'One_rhythm'), ('fast_rhythm', 'staccato'), ('fast_rhythm', 'continuing_rhythm'), ('fast_rhythm',), ('triplet', 'One_rhythm', 'staccato'), ('triplet', 'One_rhythm', 'continuing_rhythm'), ('triplet', 'One_rhythm'), ('triplet', 'staccato'), ('triplet', 'continuing_rhythm'), ('triplet',), ('One_rhythm', 'staccato'), ('One_rhythm', 'continuing_rhythm'), ('One_rhythm',), ('staccato',), ('continuing_rhythm',), ('no skills',)]\n"
          ],
          "name": "stdout"
        }
      ]
    },
    {
      "cell_type": "code",
      "metadata": {
        "id": "93yFDiw86QyN",
        "colab_type": "code",
        "colab": {}
      },
      "source": [
        "valid_matrix=np.array(all_matrix[int(len(all_matrix)*0.85):int(len(all_matrix)*0.95)])\n",
        "valid_label=np.array(all_labels[int(len(all_matrix)*0.85):int(len(all_matrix)*0.95)])\n",
        "test_matrix=np.array(all_matrix[int(len(all_matrix)*0.95):])\n",
        "test_label=np.array(all_labels[int(len(all_matrix)*0.95):])#어쩌면 쓸수도?\n",
        "mlb=MultiLabelBinarizer()\n",
        "labels=set_labels()\n",
        "mlb.fit(labels)\n",
        "train_label2=mlb.transform(train_label)\n",
        "valid_label2=mlb.transform(valid_label)\n",
        "test_label2=mlb.transform(test_label)\n"
      ],
      "execution_count": null,
      "outputs": []
    },
    {
      "cell_type": "code",
      "metadata": {
        "id": "BPUsl9deYgNl",
        "colab_type": "code",
        "colab": {
          "base_uri": "https://localhost:8080/",
          "height": 34
        },
        "outputId": "6a2a5565-a2f1-46bd-d427-0a17212542d0"
      },
      "source": [
        "print(train_label2.shape)"
      ],
      "execution_count": null,
      "outputs": [
        {
          "output_type": "stream",
          "text": [
            "(116625, 13)\n"
          ],
          "name": "stdout"
        }
      ]
    },
    {
      "cell_type": "code",
      "metadata": {
        "id": "3MoUdnPf62cX",
        "colab_type": "code",
        "colab": {}
      },
      "source": [
        "from sklearn.preprocessing import LabelBinarizer\n",
        "updownle=LabelBinarizer()\n",
        "updownle.fit(['up','down','final','meanless'])\n",
        "updown_label=updownle.transform(np.array(all_updown_labels))"
      ],
      "execution_count": null,
      "outputs": []
    },
    {
      "cell_type": "code",
      "metadata": {
        "id": "GfUeYxwX8eVM",
        "colab_type": "code",
        "colab": {}
      },
      "source": [
        "train_updown_label=updown_label[:int(len(all_matrix)*0.85)]\n",
        "valid_updown_label=updown_label[int(len(all_matrix)*0.85):int(len(all_matrix)*0.95)]\n",
        "test_updown_label=updown_label[int(len(all_matrix)*0.95):]"
      ],
      "execution_count": null,
      "outputs": []
    },
    {
      "cell_type": "code",
      "metadata": {
        "id": "flwJh4SmmzuG",
        "colab_type": "code",
        "colab": {
          "base_uri": "https://localhost:8080/",
          "height": 35
        },
        "outputId": "fb51d6ac-b9ba-4adb-e5c0-e751ae98afd7"
      },
      "source": [
        "\"\"\"\n",
        "all_matrix=[]\n",
        "all_labels=[]\n",
        "\"\"\""
      ],
      "execution_count": null,
      "outputs": [
        {
          "output_type": "execute_result",
          "data": {
            "application/vnd.google.colaboratory.intrinsic+json": {
              "type": "string"
            },
            "text/plain": [
              "'\\nall_matrix=[]\\nall_labels=[]\\n'"
            ]
          },
          "metadata": {
            "tags": []
          },
          "execution_count": 70
        }
      ]
    },
    {
      "cell_type": "code",
      "metadata": {
        "id": "Rb3xLrR99Rk8",
        "colab_type": "code",
        "colab": {
          "base_uri": "https://localhost:8080/",
          "height": 174
        },
        "outputId": "5c3208d4-9cf5-4f7a-9192-5f674ae69bc3"
      },
      "source": [
        "print(train_matrix.shape)\n",
        "print(train_label2)\n",
        "print(valid_matrix.shape)"
      ],
      "execution_count": null,
      "outputs": [
        {
          "output_type": "stream",
          "text": [
            "(116625, 24, 24, 1)\n",
            "[[0 0 0 ... 0 0 0]\n",
            " [0 0 0 ... 0 0 0]\n",
            " [0 0 0 ... 0 0 0]\n",
            " ...\n",
            " [0 0 0 ... 0 0 0]\n",
            " [0 0 0 ... 0 0 1]\n",
            " [0 0 0 ... 0 0 0]]\n",
            "(13721, 24, 24, 1)\n"
          ],
          "name": "stdout"
        }
      ]
    },
    {
      "cell_type": "code",
      "metadata": {
        "id": "LkGYxpDB8ky9",
        "colab_type": "code",
        "colab": {}
      },
      "source": [
        "import keras.applications\n",
        "from keras import regularizers\n",
        "from keras.applications import VGG16\n",
        "from keras.applications import resnet50\n",
        "from keras import layers\n",
        "from tensorflow import keras\n",
        "def residual_block(filter, input, add=True):\n",
        "  with tf.device('/gpu:0'):\n",
        "    layer_1 = keras.layers.Conv2D(filters=filter//4, kernel_size=(1, 1), data_format=\"channels_first\")(input)\n",
        "    layer_2 = keras.layers.Conv2D(filters=filter//4, kernel_size=(3, 3), padding='same', data_format=\"channels_first\", kernel_regularizer=keras.regularizers.l2(0.001))(layer_1)\n",
        "    layer_2 = keras.layers.BatchNormalization()(layer_2)\n",
        "    layer_2 = keras.layers.ReLU()(layer_2)\n",
        "    layer_3 = keras.layers.Conv2D(filters=filter, kernel_size=(1, 1), data_format=\"channels_first\")(layer_2)\n",
        "    layer_3 = keras.layers.BatchNormalization()(layer_3)\n",
        "    if add:\n",
        "        layer_3 = keras.layers.add([input, layer_3])\n",
        "    layer_3 = keras.layers.ReLU()(layer_3)\n",
        "    return layer_3\n",
        "def make_model():\n",
        "  with tf.device('/gpu:0'):\n",
        "    input_layer = keras.Input(shape=(24, 24, 1))\n",
        "    layer_1 = keras.layers.Conv2D(filters=64, kernel_size=(7, 7), padding='same', data_format=\"channels_first\")(input_layer)\n",
        "    block_1 = residual_block(64, layer_1)\n",
        "    #block_2 = residual_block(64, block_1)\n",
        "    #block_3 = residual_block(64, block_2)\n",
        "    pooling_layer = keras.layers.MaxPool2D((2, 2),padding='same', data_format=\"channels_first\")(block_1)\n",
        "    block_4 = residual_block(128, pooling_layer, add=False)\n",
        "    block_5 = residual_block(128, block_4)\n",
        "    #block_6 = residual_block(128, block_5)\n",
        "    pooling_layer2 = keras.layers.MaxPool2D(padding='same',pool_size=(2, 2), data_format=\"channels_first\")(block_4)\n",
        "    block_7 = residual_block(256, pooling_layer2, add=False)\n",
        "    block_8 = residual_block(256, block_7)\n",
        "    block_9 = residual_block(256, block_8)\n",
        "    #pooling_layer4 = keras.layers.MaxPool2D(pool_size=(2, 2), data_format=\"channels_first\")(block_7)\n",
        "    #block_10 = residual_block(256, pooling_layer4)\n",
        "    #block_11 = residual_block(512, block_10)\n",
        "    pooling_layer3 = keras.layers.AvgPool2D(padding='same',pool_size=(8, 8), data_format=\"channels_first\")(block_7)\n",
        "    last_layer = keras.layers.Flatten()(pooling_layer3)\n",
        "    last_layer = keras.layers.Dropout(0.4)(last_layer)\n",
        "    last_layer = keras.layers.Dense(13, activation=\"sigmoid\")(last_layer)\n",
        "    return keras.models.Model(inputs=input_layer, outputs=last_layer)\n",
        "def make_classifier():\n",
        "  with tf.device('/gpu:0'):\n",
        "    classifier = keras.Sequential()\n",
        "    classifier.add(keras.layers.Conv2D(128, kernel_size=(5, 5), strides=(1, 1), padding='same',\n",
        "                  activation='relu',\n",
        "                  input_shape=(24,24,1)))\n",
        "    classifier.add(keras.layers.BatchNormalization())\n",
        "    classifier.add(keras.layers.LeakyReLU(alpha=0.01))\n",
        "    classifier.add(keras.layers.Conv2D(128, (2, 2), activation='relu', padding='same'))\n",
        "    classifier.add(keras.layers.MaxPooling2D(pool_size=(2, 2), strides=(2, 2)))\n",
        "    classifier.add(keras.layers.Conv2D(256, (2, 2), padding='same'))\n",
        "    classifier.add(keras.layers.LeakyReLU(alpha=0.01))\n",
        "    classifier.add(keras.layers.MaxPooling2D(pool_size=(2, 2)))\n",
        "    classifier.add(keras.layers.Flatten())\n",
        "    classifier.add(keras.layers.Dropout(0.25))\n",
        "    classifier.add(keras.layers.Dense(4, activation='sigmoid'))\n",
        "  return classifier"
      ],
      "execution_count": null,
      "outputs": []
    },
    {
      "cell_type": "code",
      "metadata": {
        "id": "zn-X5lReh2ok",
        "colab_type": "code",
        "colab": {}
      },
      "source": [
        "from keras.callbacks import EarlyStopping, ReduceLROnPlateau, ModelCheckpoint\n",
        "model_path = '/content/drive/My Drive/models/' + 'deeperppddbest.h5'\n",
        "\n",
        "cb_checkpoint = ModelCheckpoint(filepath=model_path, monitor='val_acc',\n",
        "                                verbose=1, save_best_only=True)\n",
        "callbacks = [cb_checkpoint]\n",
        "\n",
        "model_path = '/content/drive/My Drive/models/' + 'updown.h5'\n",
        "\n",
        "cb_checkpoint = ModelCheckpoint(filepath=model_path, monitor='val_acc',\n",
        "                                verbose=1, save_best_only=True)\n",
        "updown_callbacks=[cb_checkpoint]\n",
        "#tf.keras의 경우(make_model) monitor='val_acc'로, keras의 경우(make_classifier) monitor='val_accuracy'로 해야한다."
      ],
      "execution_count": null,
      "outputs": []
    },
    {
      "cell_type": "code",
      "metadata": {
        "id": "uf1jJnIxemG0",
        "colab_type": "code",
        "colab": {}
      },
      "source": [
        "from keras import backend as K\n",
        "import tensorflow as tf\n",
        "def recall(y_target, y_pred):\n",
        "    # clip(t, clip_value_min, clip_value_max) : clip_value_min~clip_value_max 이외 가장자리를 깎아 낸다\n",
        "    # round : 반올림한다\n",
        "    y_target_yn = K.round(K.clip(y_target, 0, 1)) # 실제값을 0(Negative) 또는 1(Positive)로 설정한다\n",
        "    y_pred_yn = K.round(K.clip(y_pred, 0, 1)) # 예측값을 0(Negative) 또는 1(Positive)로 설정한다\n",
        "\n",
        "    # True Positive는 실제 값과 예측 값이 모두 1(Positive)인 경우이다\n",
        "    count_true_positive = K.sum(y_target_yn * y_pred_yn) \n",
        "\n",
        "    # (True Positive + False Negative) = 실제 값이 1(Positive) 전체\n",
        "    count_true_positive_false_negative = K.sum(y_target_yn)\n",
        "\n",
        "    # Recall =  (True Positive) / (True Positive + False Negative)\n",
        "    # K.epsilon()는 'divide by zero error' 예방차원에서 작은 수를 더한다\n",
        "    recall = count_true_positive / (count_true_positive_false_negative + K.epsilon())\n",
        "\n",
        "    # return a single tensor value\n",
        "    return recall\n",
        "\n",
        "\n",
        "def precision(y_target, y_pred):\n",
        "    # clip(t, clip_value_min, clip_value_max) : clip_value_min~clip_value_max 이외 가장자리를 깎아 낸다\n",
        "    # round : 반올림한다\n",
        "    y_pred_yn = K.round(K.clip(y_pred, 0, 1)) # 예측값을 0(Negative) 또는 1(Positive)로 설정한다\n",
        "    y_target_yn = K.round(K.clip(y_target, 0, 1)) # 실제값을 0(Negative) 또는 1(Positive)로 설정한다\n",
        "\n",
        "    # True Positive는 실제 값과 예측 값이 모두 1(Positive)인 경우이다\n",
        "    count_true_positive = K.sum(y_target_yn * y_pred_yn) \n",
        "\n",
        "    # (True Positive + False Positive) = 예측 값이 1(Positive) 전체\n",
        "    count_true_positive_false_positive = K.sum(y_pred_yn)\n",
        "\n",
        "    # Precision = (True Positive) / (True Positive + False Positive)\n",
        "    # K.epsilon()는 'divide by zero error' 예방차원에서 작은 수를 더한다\n",
        "    precision = count_true_positive / (count_true_positive_false_positive + K.epsilon())\n",
        "\n",
        "    # return a single tensor value\n",
        "    return precision\n",
        "\n",
        "\n",
        "def f1score(y_target, y_pred):\n",
        "    _recall = recall(y_target, y_pred)\n",
        "    _precision = precision(y_target, y_pred)\n",
        "    # K.epsilon()는 'divide by zero error' 예방차원에서 작은 수를 더한다\n",
        "    _f1score = ( 2 * _recall * _precision) / (_recall + _precision+ K.epsilon())\n",
        "    \n",
        "    # return a single tensor value\n",
        "    return _f1score\n"
      ],
      "execution_count": null,
      "outputs": []
    },
    {
      "cell_type": "code",
      "metadata": {
        "id": "V2Nx8Ygs-I6_",
        "colab_type": "code",
        "colab": {
          "base_uri": "https://localhost:8080/",
          "height": 177
        },
        "outputId": "fdcd7307-fa71-45f5-c80d-bc71c78488f1"
      },
      "source": [
        "from tensorflow import keras\n",
        "classifier=make_model()\n",
        "classifier.compile(loss=keras.losses.BinaryCrossentropy(\n",
        "      from_logits=False, label_smoothing=0.1, \n",
        "      name='binary_crossentropy'\n",
        "  ), optimizer='adam', metrics=['accuracy',recall,precision,f1score])\n",
        "\"\"\"\n",
        "hist=classifier.fit(\n",
        "      train_matrix,train_label2,batch_size=256,\n",
        "      epochs=100,\n",
        "      validation_data=(valid_matrix,valid_label2),\n",
        "      callbacks=callbacks,\n",
        "      class_weight='balanced'\n",
        "  )\n",
        "\"\"\"\n",
        "\n",
        "#실제 학습\n"
      ],
      "execution_count": null,
      "outputs": [
        {
          "output_type": "stream",
          "text": [
            "WARNING:tensorflow:From /usr/local/lib/python3.6/dist-packages/tensorflow_core/python/ops/resource_variable_ops.py:1630: calling BaseResourceVariable.__init__ (from tensorflow.python.ops.resource_variable_ops) with constraint is deprecated and will be removed in a future version.\n",
            "Instructions for updating:\n",
            "If using Keras pass *_constraint arguments to layers.\n",
            "WARNING:tensorflow:From /usr/local/lib/python3.6/dist-packages/tensorflow_core/python/ops/nn_impl.py:183: where (from tensorflow.python.ops.array_ops) is deprecated and will be removed in a future version.\n",
            "Instructions for updating:\n",
            "Use tf.where in 2.0, which has the same broadcast rule as np.where\n"
          ],
          "name": "stdout"
        },
        {
          "output_type": "execute_result",
          "data": {
            "application/vnd.google.colaboratory.intrinsic+json": {
              "type": "string"
            },
            "text/plain": [
              "\"\\nhist=classifier.fit(\\n      train_matrix,train_label2,batch_size=256,\\n      epochs=100,\\n      validation_data=(valid_matrix,valid_label2),\\n      callbacks=callbacks,\\n      class_weight='balanced'\\n  )\\n\""
            ]
          },
          "metadata": {
            "tags": []
          },
          "execution_count": 75
        }
      ]
    },
    {
      "cell_type": "code",
      "metadata": {
        "id": "FJ8oiBIhX7kq",
        "colab_type": "code",
        "colab": {
          "base_uri": "https://localhost:8080/",
          "height": 52
        },
        "outputId": "5f9feddd-6f61-4f4a-85b5-4ac7c657f35f"
      },
      "source": [
        "#음의 흐름에 관한 분류기\n",
        "updown_classifier=make_classifier()\n",
        "updown_classifier.compile(loss=keras.losses.BinaryCrossentropy(\n",
        "      from_logits=False,\n",
        "      name='binary_crossentorpy',\n",
        "  ), optimizer='adam', metrics=['accuracy'])\n",
        "\"\"\"\n",
        "updown_hist=updown_classifier.fit(\n",
        "      train_matrix,train_updown_label,batch_size=256,\n",
        "      epochs=30,\n",
        "      validation_data=(valid_matrix,valid_updown_label),\n",
        "      callbacks=updown_callbacks,\n",
        "  )\n",
        "\"\"\""
      ],
      "execution_count": null,
      "outputs": [
        {
          "output_type": "execute_result",
          "data": {
            "application/vnd.google.colaboratory.intrinsic+json": {
              "type": "string"
            },
            "text/plain": [
              "'\\nupdown_hist=updown_classifier.fit(\\n      train_matrix,train_updown_label,batch_size=256,\\n      epochs=30,\\n      validation_data=(valid_matrix,valid_updown_label),\\n      callbacks=updown_callbacks,\\n  )\\n'"
            ]
          },
          "metadata": {
            "tags": []
          },
          "execution_count": 76
        }
      ]
    },
    {
      "cell_type": "code",
      "metadata": {
        "id": "VZABO5Fq2gQy",
        "colab_type": "code",
        "colab": {}
      },
      "source": [
        "updown_classifier.load_weights(\"/content/drive/My Drive/models/updown.h5\")"
      ],
      "execution_count": null,
      "outputs": []
    },
    {
      "cell_type": "code",
      "metadata": {
        "id": "h4vdlmE7zc8Y",
        "colab_type": "code",
        "colab": {
          "base_uri": "https://localhost:8080/",
          "height": 156
        },
        "outputId": "68bc8e2e-f6f1-4dc1-fcc4-94060abb79bf"
      },
      "source": [
        "updown_classifier.predict(test_matrix)"
      ],
      "execution_count": null,
      "outputs": [
        {
          "output_type": "execute_result",
          "data": {
            "text/plain": [
              "array([[7.86424398e-01, 3.58998775e-03, 2.22593546e-04, 3.27597558e-01],\n",
              "       [6.08230889e-01, 1.88651681e-03, 4.03851271e-04, 6.21070266e-01],\n",
              "       [9.54906464e-01, 2.35331059e-03, 1.50769949e-04, 1.25783294e-01],\n",
              "       ...,\n",
              "       [5.92597723e-01, 1.03177130e-02, 1.80354714e-03, 5.46207070e-01],\n",
              "       [1.08094424e-01, 7.56561756e-04, 1.70767307e-05, 9.55849826e-01],\n",
              "       [1.16292328e-01, 4.20498073e-01, 5.47882915e-03, 8.07788968e-01]],\n",
              "      dtype=float32)"
            ]
          },
          "metadata": {
            "tags": []
          },
          "execution_count": 78
        }
      ]
    },
    {
      "cell_type": "code",
      "metadata": {
        "id": "76EtBzIJsfJM",
        "colab_type": "code",
        "colab": {}
      },
      "source": [
        "%matplotlib inline\n",
        "import matplotlib.pyplot as plt\n",
        "\n",
        "fig, loss_ax = plt.subplots()\n",
        "\n",
        "acc_ax = loss_ax.twinx()\n",
        "\n",
        "loss_ax.plot(hist.history['loss'], 'y', label='train loss')\n",
        "loss_ax.plot(hist.history['val_loss'], 'r', label='val loss')\n",
        "\n",
        "acc_ax.plot(hist.history['acc'], 'b', label='train acc')\n",
        "acc_ax.plot(hist.history['val_acc'], 'g', label='val acc')\n",
        "\n",
        "loss_ax.set_xlabel('epoch')\n",
        "loss_ax.set_ylabel('loss')\n",
        "acc_ax.set_ylabel('accuracy')\n",
        "\n",
        "loss_ax.legend(loc='upper left')\n",
        "acc_ax.legend(loc='lower left')\n",
        "\n",
        "plt.show()"
      ],
      "execution_count": null,
      "outputs": []
    },
    {
      "cell_type": "code",
      "metadata": {
        "id": "6T9qKNfNsuTv",
        "colab_type": "code",
        "colab": {}
      },
      "source": [
        "%matplotlib inline\n",
        "import matplotlib.pyplot as plt\n",
        "\n",
        "fig, recall_ax = plt.subplots()\n",
        "\n",
        "\n",
        "recall_ax.plot(hist.history['recall'], 'y', label='recall')\n",
        "recall_ax.plot(hist.history['val_recall'], 'r', label='valid recall')\n",
        "\n",
        "recall_ax.plot(hist.history['f1score'], 'b', label='f1score')\n",
        "recall_ax.plot(hist.history['val_f1score'], 'g', label='valid f1score')\n",
        "\n",
        "recall_ax.plot(hist.history['precision'], 'c', label='precision')\n",
        "recall_ax.plot(hist.history['val_precision'], 'k', label='valid precision')\n",
        "\n",
        "recall_ax.set_xlabel('epoch')\n",
        "recall_ax.set_ylabel('score')\n",
        "\n",
        "recall_ax.legend(loc='upper left')\n",
        "\n",
        "plt.show()"
      ],
      "execution_count": null,
      "outputs": []
    },
    {
      "cell_type": "code",
      "metadata": {
        "id": "oQ-K9Y2vFN2O",
        "colab_type": "code",
        "colab": {}
      },
      "source": [
        "  classifier.load_weights(\"/content/drive/My Drive/models/deeperppddbest.h5\")\n",
        "  testresult=classifier.predict(test_matrix)"
      ],
      "execution_count": null,
      "outputs": []
    },
    {
      "cell_type": "code",
      "metadata": {
        "id": "N2XAN8kzN3gp",
        "colab_type": "code",
        "colab": {
          "base_uri": "https://localhost:8080/",
          "height": 139
        },
        "outputId": "3bd5093a-28c1-4479-dede-dd6fc2f876f3"
      },
      "source": [
        "print(testresult)"
      ],
      "execution_count": null,
      "outputs": [
        {
          "output_type": "stream",
          "text": [
            "[[0.02653512 0.8473591  0.7820147  ... 0.07394758 0.9910294  0.03363389]\n",
            " [0.9380572  0.9160502  0.02869537 ... 0.04364204 0.84568536 0.0448471 ]\n",
            " [0.9231975  0.9077591  0.04616556 ... 0.04962578 0.9127703  0.04186684]\n",
            " ...\n",
            " [0.8675874  0.92189705 0.04106867 ... 0.08842611 0.04508507 0.06184989]\n",
            " [0.9700848  0.9732803  0.05308259 ... 0.03809914 0.24338228 0.04304847]\n",
            " [0.15071437 0.01686406 0.07482967 ... 0.10467619 0.0570029  0.05975075]]\n"
          ],
          "name": "stdout"
        }
      ]
    },
    {
      "cell_type": "code",
      "metadata": {
        "id": "mFucJZONFnqX",
        "colab_type": "code",
        "colab": {
          "base_uri": "https://localhost:8080/",
          "height": 72
        },
        "outputId": "8d769183-4010-4da5-fa87-e4d6edccb870"
      },
      "source": [
        "def get_tag_results(testresult,test_label2):  \n",
        "  classnum={}\n",
        "  testnum={}\n",
        "  resultmat=[]\n",
        "  bestmat=[]\n",
        "  for i in range(len(testresult)):\n",
        "    eval_result=[0 for i in range(13)]\n",
        "    best_result=[0 for i in range(13)]\n",
        "    class_num=np.count_nonzero(test_label2[i]==1)+1\n",
        "    classidx=(-testresult[i]).argsort()[:class_num]\n",
        "    for k,j in enumerate(classidx):\n",
        "      if (k==0):\n",
        "        best_result[j]=1\n",
        "      eval_result[j]=1\n",
        "    resultmat.append(eval_result)\n",
        "    bestmat.append(best_result)\n",
        "    test_result2=copy.deepcopy(testresult)\n",
        "    test_result2[np.where(test_result2>0.30)]=1\n",
        "    test_result2[np.where(test_result2<=0.30)]=0\n",
        "  resultmat=np.array(resultmat)\n",
        "  bestmat=np.array(bestmat)\n",
        "  testidx=mlb.inverse_transform(resultmat)\n",
        "  classidx=mlb.inverse_transform(test_label2)\n",
        "  testidx2=mlb.inverse_transform(test_result2)\n",
        "  bestidx=mlb.inverse_transform(bestmat)\n",
        "  for i in range(len(testidx)):  \n",
        "    #print(bestidx[i],testidx2[i],testidx[i], classidx[i],i) # 값이 0.30 이상인 set, 원래 Label보다 1개 많이 보여주는 내림차순 set, 원래 label set 순서이다. \n",
        "    for classes in classidx[i]:\n",
        "      if (classes not in classnum):\n",
        "        classnum[classes]=1\n",
        "      else:\n",
        "        classnum[classes]+=1\n",
        "    for classes in testidx[i]:\n",
        "      if (classes not in testnum):\n",
        "        testnum[classes]=1\n",
        "      else:\n",
        "        testnum[classes]+=1\n",
        "  print(classnum, testnum)\n",
        "  return bestidx, testidx2, testidx, classidx#가장 높은거, 0.30이상인 set, 원래의 Label보다 1개 많이 보여주는 내림차순, 원래 Label\n",
        "best=get_tag_results(testresult,test_label2)[0]\n",
        "print(best)\n"
      ],
      "execution_count": null,
      "outputs": [
        {
          "output_type": "stream",
          "text": [
            "{'continuing_rhythm': 1174, 'leaping_twisting': 2401, 'up_leaping': 1283, 'One_rhythm': 1715, 'down_leaping': 1093, 'up_steping': 1134, 'repeating': 963, 'fast_rhythm': 959, 'down_steping': 324, 'triplet': 1193, 'no skills': 1052, 'staccato': 1239, 'steping_twisting': 366} {'continuing_rhythm': 1470, 'down_leaping': 1725, 'leaping_twisting': 3248, 'up_leaping': 1756, 'One_rhythm': 2136, 'fast_rhythm': 1493, 'no skills': 1434, 'triplet': 2251, 'up_steping': 1833, 'repeating': 1368, 'staccato': 1594, 'down_steping': 613, 'steping_twisting': 836}\n",
            "[('up_leaping',), ('leaping_twisting',), ('leaping_twisting',), ('leaping_twisting',), ('leaping_twisting',), ('leaping_twisting',), ('leaping_twisting',), ('leaping_twisting',), ('up_leaping',), ('up_steping',), ('repeating',), ('repeating',), ('up_steping',), ('up_steping',), ('repeating',), ('repeating',), ('up_steping',), ('up_steping',), ('repeating',), ('repeating',), ('up_steping',), ('up_steping',), ('repeating',), ('repeating',), ('up_steping',), ('up_steping',), ('repeating',), ('fast_rhythm',), ('fast_rhythm',), ('continuing_rhythm',), ('continuing_rhythm',), ('continuing_rhythm',), ('continuing_rhythm',), ('continuing_rhythm',), ('continuing_rhythm',), ('fast_rhythm',), ('continuing_rhythm',), ('continuing_rhythm',), ('continuing_rhythm',), ('fast_rhythm',), ('continuing_rhythm',), ('fast_rhythm',), ('up_steping',), ('no skills',), ('up_leaping',), ('down_steping',), ('up_steping',), ('down_steping',), ('repeating',), ('no skills',), ('up_steping',), ('up_steping',), ('repeating',), ('no skills',), ('no skills',), ('no skills',), ('repeating',), ('leaping_twisting',), ('no skills',), ('no skills',), ('up_leaping',), ('repeating',), ('up_steping',), ('leaping_twisting',), ('One_rhythm',), ('One_rhythm',), ('One_rhythm',), ('One_rhythm',), ('One_rhythm',), ('One_rhythm',), ('One_rhythm',), ('One_rhythm',), ('One_rhythm',), ('One_rhythm',), ('One_rhythm',), ('no skills',), ('up_leaping',), ('repeating',), ('repeating',), ('leaping_twisting',), ('One_rhythm',), ('One_rhythm',), ('down_steping',), ('no skills',), ('repeating',), ('up_steping',), ('repeating',), ('up_steping',), ('triplet',), ('up_steping',), ('repeating',), ('up_steping',), ('down_steping',), ('triplet',), ('down_steping',), ('no skills',), ('up_steping',), ('up_leaping',), ('up_leaping',), ('up_steping',), ('repeating',), ('down_leaping',), ('up_steping',), ('up_leaping',), ('up_steping',), ('up_leaping',), ('leaping_twisting',), ('no skills',), ('repeating',), ('repeating',), ('repeating',), ('no skills',), ('repeating',), ('repeating',), ('down_steping',), ('no skills',), ('up_steping',), ('no skills',), ('up_steping',), ('no skills',), ('up_steping',), ('no skills',), ('up_steping',), ('no skills',), ('no skills',), ('no skills',), ('continuing_rhythm',), ('continuing_rhythm',), ('continuing_rhythm',), ('continuing_rhythm',), ('leaping_twisting',), ('leaping_twisting',), ('continuing_rhythm',), ('continuing_rhythm',), ('One_rhythm',), ('leaping_twisting',), ('continuing_rhythm',), ('continuing_rhythm',), ('continuing_rhythm',), ('continuing_rhythm',), ('continuing_rhythm',), ('leaping_twisting',), ('fast_rhythm',), ('fast_rhythm',), ('fast_rhythm',), ('fast_rhythm',), ('fast_rhythm',), ('fast_rhythm',), ('fast_rhythm',), ('fast_rhythm',), ('fast_rhythm',), ('leaping_twisting',), ('leaping_twisting',), ('leaping_twisting',), ('leaping_twisting',), ('leaping_twisting',), ('leaping_twisting',), ('leaping_twisting',), ('leaping_twisting',), ('leaping_twisting',), ('leaping_twisting',), ('leaping_twisting',), ('leaping_twisting',), ('leaping_twisting',), ('leaping_twisting',), ('leaping_twisting',), ('staccato',), ('fast_rhythm',), ('staccato',), ('staccato',), ('staccato',), ('staccato',), ('up_leaping',), ('One_rhythm',), ('continuing_rhythm',), ('One_rhythm',), ('leaping_twisting',), ('up_leaping',), ('up_leaping',), ('continuing_rhythm',), ('up_leaping',), ('One_rhythm',), ('continuing_rhythm',), ('leaping_twisting',), ('down_steping',), ('up_leaping',), ('continuing_rhythm',), ('up_steping',), ('no skills',), ('repeating',), ('repeating',), ('down_leaping',), ('triplet',), ('fast_rhythm',), ('triplet',), ('One_rhythm',), ('triplet',), ('fast_rhythm',), ('leaping_twisting',), ('continuing_rhythm',), ('continuing_rhythm',), ('continuing_rhythm',), ('continuing_rhythm',), ('continuing_rhythm',), ('continuing_rhythm',), ('continuing_rhythm',), ('continuing_rhythm',), ('One_rhythm',), ('continuing_rhythm',), ('continuing_rhythm',), ('continuing_rhythm',), ('One_rhythm',), ('continuing_rhythm',), ('continuing_rhythm',), ('continuing_rhythm',), ('One_rhythm',), ('continuing_rhythm',), ('continuing_rhythm',), ('continuing_rhythm',), ('One_rhythm',), ('no skills',), ('leaping_twisting',), ('leaping_twisting',), ('leaping_twisting',), ('leaping_twisting',), ('leaping_twisting',), ('leaping_twisting',), ('leaping_twisting',), ('leaping_twisting',), ('leaping_twisting',), ('leaping_twisting',), ('leaping_twisting',), ('leaping_twisting',), ('leaping_twisting',), ('leaping_twisting',), ('up_leaping',), ('continuing_rhythm',), ('no skills',), ('no skills',), ('triplet',), ('no skills',), ('fast_rhythm',), ('no skills',), ('up_steping',), ('no skills',), ('no skills',), ('no skills',), ('fast_rhythm',), ('fast_rhythm',), ('leaping_twisting',), ('fast_rhythm',), ('staccato',), ('fast_rhythm',), ('staccato',), ('staccato',), ('staccato',), ('staccato',), ('staccato',), ('staccato',), ('staccato',), ('leaping_twisting',), ('staccato',), ('staccato',), ('staccato',), ('staccato',), ('staccato',), ('leaping_twisting',), ('staccato',), ('no skills',), ('no skills',), ('leaping_twisting',), ('fast_rhythm',), ('continuing_rhythm',), ('leaping_twisting',), ('leaping_twisting',), ('up_leaping',), ('leaping_twisting',), ('leaping_twisting',), ('down_steping',), ('leaping_twisting',), ('repeating',), ('leaping_twisting',), ('triplet',), ('leaping_twisting',), ('repeating',), ('leaping_twisting',), ('down_steping',), ('leaping_twisting',), ('repeating',), ('leaping_twisting',), ('triplet',), ('down_leaping',), ('leaping_twisting',), ('leaping_twisting',), ('leaping_twisting',), ('fast_rhythm',), ('leaping_twisting',), ('up_leaping',), ('down_leaping',), ('up_steping',), ('triplet',), ('leaping_twisting',), ('down_leaping',), ('leaping_twisting',), ('leaping_twisting',), ('down_leaping',), ('leaping_twisting',), ('no skills',), ('continuing_rhythm',), ('no skills',), ('continuing_rhythm',), ('no skills',), ('continuing_rhythm',), ('fast_rhythm',), ('fast_rhythm',), ('fast_rhythm',), ('fast_rhythm',), ('fast_rhythm',), ('repeating',), ('fast_rhythm',), ('repeating',), ('no skills',), ('leaping_twisting',), ('leaping_twisting',), ('leaping_twisting',), ('leaping_twisting',), ('leaping_twisting',), ('leaping_twisting',), ('up_leaping',), ('up_leaping',), ('One_rhythm',), ('One_rhythm',), ('up_leaping',), ('down_leaping',), ('up_leaping',), ('no skills',), ('leaping_twisting',), ('fast_rhythm',), ('leaping_twisting',), ('fast_rhythm',), ('fast_rhythm',), ('repeating',), ('repeating',), ('repeating',), ('leaping_twisting',), ('up_steping',), ('up_steping',), ('leaping_twisting',), ('staccato',), ('staccato',), ('fast_rhythm',), ('up_steping',), ('no skills',), ('up_steping',), ('fast_rhythm',), ('up_leaping',), ('steping_twisting',), ('triplet',), ('triplet',), ('repeating',), ('staccato',), ('leaping_twisting',), ('up_leaping',), ('leaping_twisting',), ('up_leaping',), ('up_steping',), ('up_steping',), ('up_steping',), ('up_steping',), ('up_steping',), ('no skills',), ('up_steping',), ('down_leaping',), ('up_steping',), ('up_steping',), ('up_steping',), ('no skills',), ('down_steping',), ('repeating',), ('no skills',), ('repeating',), ('down_leaping',), ('up_leaping',), ('triplet',), ('repeating',), ('no skills',), ('repeating',), ('down_leaping',), ('repeating',), ('repeating',), ('up_steping',), ('up_steping',), ('up_steping',), ('repeating',), ('up_steping',), ('continuing_rhythm',), ('fast_rhythm',), ('fast_rhythm',), ('fast_rhythm',), ('continuing_rhythm',), ('fast_rhythm',), ('fast_rhythm',), ('fast_rhythm',), ('continuing_rhythm',), ('fast_rhythm',), ('fast_rhythm',), ('fast_rhythm',), ('continuing_rhythm',), ('fast_rhythm',), ('no skills',), ('down_steping',), ('down_steping',), ('up_steping',), ('up_steping',), ('up_steping',), ('up_steping',), ('repeating',), ('up_leaping',), ('repeating',), ('up_steping',), ('triplet',), ('up_leaping',), ('repeating',), ('up_steping',), ('staccato',), ('no skills',), ('One_rhythm',), ('no skills',), ('One_rhythm',), ('repeating',), ('repeating',), ('One_rhythm',), ('One_rhythm',), ('One_rhythm',), ('One_rhythm',), ('leaping_twisting',), ('One_rhythm',), ('One_rhythm',), ('One_rhythm',), ('One_rhythm',), ('up_steping',), ('repeating',), ('repeating',), ('leaping_twisting',), ('staccato',), ('leaping_twisting',), ('staccato',), ('staccato',), ('staccato',), ('triplet',), ('leaping_twisting',), ('leaping_twisting',), ('leaping_twisting',), ('leaping_twisting',), ('down_leaping',), ('leaping_twisting',), ('staccato',), ('staccato',), ('staccato',), ('staccato',), ('no skills',), ('up_steping',), ('no skills',), ('up_leaping',), ('repeating',), ('repeating',), ('up_leaping',), ('repeating',), ('repeating',), ('up_leaping',), ('repeating',), ('repeating',), ('up_leaping',), ('repeating',), ('repeating',), ('One_rhythm',), ('continuing_rhythm',), ('no skills',), ('down_steping',), ('up_leaping',), ('repeating',), ('One_rhythm',), ('continuing_rhythm',), ('no skills',), ('continuing_rhythm',), ('One_rhythm',), ('up_leaping',), ('no skills',), ('repeating',), ('One_rhythm',), ('repeating',), ('One_rhythm',), ('repeating',), ('repeating',), ('repeating',), ('One_rhythm',), ('repeating',), ('repeating',), ('repeating',), ('One_rhythm',), ('repeating',), ('One_rhythm',), ('no skills',), ('leaping_twisting',), ('One_rhythm',), ('leaping_twisting',), ('leaping_twisting',), ('leaping_twisting',), ('leaping_twisting',), ('leaping_twisting',), ('leaping_twisting',), ('leaping_twisting',), ('no skills',), ('no skills',), ('One_rhythm',), ('leaping_twisting',), ('leaping_twisting',), ('leaping_twisting',), ('leaping_twisting',), ('no skills',), ('repeating',), ('repeating',), ('up_steping',), ('continuing_rhythm',), ('no skills',), ('no skills',), ('no skills',), ('down_steping',), ('One_rhythm',), ('continuing_rhythm',), ('One_rhythm',), ('no skills',), ('down_leaping',), ('repeating',), ('repeating',), ('repeating',), ('up_steping',), ('leaping_twisting',), ('no skills',), ('no skills',), ('up_steping',), ('no skills',), ('no skills',), ('no skills',), ('up_steping',), ('down_steping',), ('up_steping',), ('staccato',), ('staccato',), ('triplet',), ('repeating',), ('leaping_twisting',), ('leaping_twisting',), ('down_leaping',), ('up_leaping',), ('up_leaping',), ('triplet',), ('leaping_twisting',), ('leaping_twisting',), ('leaping_twisting',), ('leaping_twisting',), ('staccato',), ('leaping_twisting',), ('leaping_twisting',), ('no skills',), ('repeating',), ('leaping_twisting',), ('up_steping',), ('no skills',), ('triplet',), ('triplet',), ('triplet',), ('leaping_twisting',), ('triplet',), ('down_steping',), ('no skills',), ('no skills',), ('triplet',), ('down_leaping',), ('down_steping',), ('triplet',), ('triplet',), ('triplet',), ('leaping_twisting',), ('leaping_twisting',), ('triplet',), ('staccato',), ('leaping_twisting',), ('down_leaping',), ('repeating',), ('leaping_twisting',), ('down_leaping',), ('down_leaping',), ('down_leaping',), ('leaping_twisting',), ('down_leaping',), ('down_leaping',), ('repeating',), ('triplet',), ('down_leaping',), ('leaping_twisting',), ('triplet',), ('leaping_twisting',), ('triplet',), ('leaping_twisting',), ('triplet',), ('leaping_twisting',), ('triplet',), ('leaping_twisting',), ('triplet',), ('leaping_twisting',), ('triplet',), ('leaping_twisting',), ('triplet',), ('leaping_twisting',), ('triplet',), ('leaping_twisting',), ('triplet',), ('leaping_twisting',), ('continuing_rhythm',), ('continuing_rhythm',), ('fast_rhythm',), ('fast_rhythm',), ('fast_rhythm',), ('repeating',), ('fast_rhythm',), ('continuing_rhythm',), ('continuing_rhythm',), ('no skills',), ('continuing_rhythm',), ('continuing_rhythm',), ('continuing_rhythm',), ('continuing_rhythm',), ('repeating',), ('leaping_twisting',), ('leaping_twisting',), ('leaping_twisting',), ('leaping_twisting',), ('leaping_twisting',), ('leaping_twisting',), ('leaping_twisting',), ('leaping_twisting',), ('leaping_twisting',), ('leaping_twisting',), ('leaping_twisting',), ('leaping_twisting',), ('leaping_twisting',), ('leaping_twisting',), ('leaping_twisting',), ('continuing_rhythm',), ('leaping_twisting',), ('leaping_twisting',), ('leaping_twisting',), ('leaping_twisting',), ('leaping_twisting',), ('leaping_twisting',), ('leaping_twisting',), ('leaping_twisting',), ('leaping_twisting',), ('leaping_twisting',), ('leaping_twisting',), ('leaping_twisting',), ('no skills',), ('no skills',), ('up_steping',), ('no skills',), ('leaping_twisting',), ('down_leaping',), ('leaping_twisting',), ('leaping_twisting',), ('up_steping',), ('no skills',), ('One_rhythm',), ('One_rhythm',), ('One_rhythm',), ('One_rhythm',), ('One_rhythm',), ('One_rhythm',), ('One_rhythm',), ('One_rhythm',), ('One_rhythm',), ('One_rhythm',), ('One_rhythm',), ('One_rhythm',), ('One_rhythm',), ('One_rhythm',), ('One_rhythm',), ('One_rhythm',), ('One_rhythm',), ('no skills',), ('leaping_twisting',), ('up_leaping',), ('down_steping',), ('triplet',), ('up_steping',), ('One_rhythm',), ('up_steping',), ('One_rhythm',), ('down_steping',), ('up_steping',), ('up_leaping',), ('leaping_twisting',), ('One_rhythm',), ('staccato',), ('leaping_twisting',), ('repeating',), ('One_rhythm',), ('One_rhythm',), ('up_steping',), ('fast_rhythm',), ('up_steping',), ('no skills',), ('leaping_twisting',), ('fast_rhythm',), ('fast_rhythm',), ('fast_rhythm',), ('up_steping',), ('staccato',), ('leaping_twisting',), ('no skills',), ('leaping_twisting',), ('leaping_twisting',), ('leaping_twisting',), ('down_leaping',), ('leaping_twisting',), ('leaping_twisting',), ('leaping_twisting',), ('leaping_twisting',), ('leaping_twisting',), ('down_leaping',), ('down_leaping',), ('leaping_twisting',), ('leaping_twisting',), ('down_leaping',), ('no skills',), ('no skills',), ('no skills',), ('no skills',), ('no skills',), ('continuing_rhythm',), ('continuing_rhythm',), ('up_steping',), ('up_steping',), ('continuing_rhythm',), ('continuing_rhythm',), ('no skills',), ('no skills',), ('no skills',), ('no skills',), ('no skills',), ('no skills',), ('no skills',), ('no skills',), ('leaping_twisting',), ('up_steping',), ('no skills',), ('staccato',), ('triplet',), ('up_steping',), ('no skills',), ('leaping_twisting',), ('up_steping',), ('One_rhythm',), ('One_rhythm',), ('One_rhythm',), ('One_rhythm',), ('leaping_twisting',), ('leaping_twisting',), ('continuing_rhythm',), ('leaping_twisting',), ('One_rhythm',), ('One_rhythm',), ('One_rhythm',), ('leaping_twisting',), ('triplet',), ('down_leaping',), ('no skills',), ('down_leaping',), ('down_leaping',), ('up_steping',), ('leaping_twisting',), ('leaping_twisting',), ('no skills',), ('leaping_twisting',), ('no skills',), ('up_leaping',), ('down_steping',), ('up_steping',), ('One_rhythm',), ('leaping_twisting',), ('triplet',), ('no skills',), ('leaping_twisting',), ('repeating',), ('up_steping',), ('One_rhythm',), ('down_leaping',), ('One_rhythm',), ('down_leaping',), ('One_rhythm',), ('down_leaping',), ('triplet',), ('fast_rhythm',), ('down_steping',), ('down_steping',), ('up_steping',), ('up_leaping',), ('up_steping',), ('down_steping',), ('up_steping',), ('down_steping',), ('up_steping',), ('repeating',), ('no skills',), ('no skills',), ('fast_rhythm',), ('fast_rhythm',), ('fast_rhythm',), ('fast_rhythm',), ('fast_rhythm',), ('no skills',), ('leaping_twisting',), ('up_leaping',), ('up_leaping',), ('leaping_twisting',), ('leaping_twisting',), ('leaping_twisting',), ('leaping_twisting',), ('leaping_twisting',), ('leaping_twisting',), ('up_leaping',), ('up_leaping',), ('down_leaping',), ('up_steping',), ('triplet',), ('up_steping',), ('repeating',), ('repeating',), ('triplet',), ('triplet',), ('repeating',), ('no skills',), ('no skills',), ('triplet',), ('fast_rhythm',), ('no skills',), ('up_steping',), ('up_steping',), ('up_steping',), ('no skills',), ('repeating',), ('repeating',), ('repeating',), ('repeating',), ('up_steping',), ('repeating',), ('up_steping',), ('repeating',), ('no skills',), ('fast_rhythm',), ('no skills',), ('fast_rhythm',), ('up_steping',), ('triplet',), ('up_steping',), ('no skills',), ('staccato',), ('repeating',), ('repeating',), ('repeating',), ('repeating',), ('repeating',), ('up_steping',), ('repeating',), ('down_steping',), ('repeating',), ('fast_rhythm',), ('repeating',), ('down_steping',), ('repeating',), ('repeating',), ('repeating',), ('down_steping',), ('up_steping',), ('repeating',), ('repeating',), ('repeating',), ('up_steping',), ('repeating',), ('repeating',), ('repeating',), ('no skills',), ('up_steping',), ('no skills',), ('up_leaping',), ('no skills',), ('leaping_twisting',), ('no skills',), ('up_steping',), ('One_rhythm',), ('staccato',), ('One_rhythm',), ('One_rhythm',), ('One_rhythm',), ('One_rhythm',), ('One_rhythm',), ('One_rhythm',), ('One_rhythm',), ('One_rhythm',), ('One_rhythm',), ('no skills',), ('leaping_twisting',), ('triplet',), ('leaping_twisting',), ('leaping_twisting',), ('leaping_twisting',), ('triplet',), ('leaping_twisting',), ('leaping_twisting',), ('triplet',), ('triplet',), ('triplet',), ('up_leaping',), ('continuing_rhythm',), ('no skills',), ('triplet',), ('leaping_twisting',), ('leaping_twisting',), ('triplet',), ('no skills',), ('staccato',), ('up_steping',), ('up_steping',), ('no skills',), ('no skills',), ('up_steping',), ('down_steping',), ('continuing_rhythm',), ('leaping_twisting',), ('leaping_twisting',), ('One_rhythm',), ('no skills',), ('One_rhythm',), ('up_leaping',), ('One_rhythm',), ('no skills',), ('One_rhythm',), ('up_steping',), ('up_steping',), ('no skills',), ('leaping_twisting',), ('fast_rhythm',), ('fast_rhythm',), ('fast_rhythm',), ('staccato',), ('staccato',), ('repeating',), ('repeating',), ('staccato',), ('staccato',), ('repeating',), ('repeating',), ('fast_rhythm',), ('fast_rhythm',), ('fast_rhythm',), ('fast_rhythm',), ('fast_rhythm',), ('no skills',), ('up_leaping',), ('staccato',), ('no skills',), ('no skills',), ('up_leaping',), ('staccato',), ('staccato',), ('staccato',), ('up_leaping',), ('repeating',), ('leaping_twisting',), ('leaping_twisting',), ('leaping_twisting',), ('leaping_twisting',), ('leaping_twisting',), ('leaping_twisting',), ('leaping_twisting',), ('leaping_twisting',), ('fast_rhythm',), ('leaping_twisting',), ('leaping_twisting',), ('leaping_twisting',), ('continuing_rhythm',), ('fast_rhythm',), ('leaping_twisting',), ('down_leaping',), ('leaping_twisting',), ('leaping_twisting',), ('up_leaping',), ('leaping_twisting',), ('leaping_twisting',), ('up_steping',), ('down_leaping',), ('down_leaping',), ('triplet',), ('up_leaping',), ('down_leaping',), ('leaping_twisting',), ('up_leaping',), ('down_leaping',), ('leaping_twisting',), ('up_steping',), ('down_leaping',), ('up_steping',), ('steping_twisting',), ('no skills',), ('no skills',), ('no skills',), ('up_steping',), ('no skills',), ('no skills',), ('no skills',), ('up_steping',), ('no skills',), ('no skills',), ('no skills',), ('continuing_rhythm',), ('no skills',), ('continuing_rhythm',), ('continuing_rhythm',), ('repeating',), ('no skills',), ('repeating',), ('no skills',), ('repeating',), ('no skills',), ('repeating',), ('up_leaping',), ('repeating',), ('no skills',), ('repeating',), ('no skills',), ('repeating',), ('no skills',), ('repeating',), ('up_leaping',), ('repeating',), ('no skills',), ('no skills',), ('no skills',), ('no skills',), ('continuing_rhythm',), ('repeating',), ('One_rhythm',), ('repeating',), ('continuing_rhythm',), ('repeating',), ('continuing_rhythm',), ('repeating',), ('continuing_rhythm',), ('repeating',), ('continuing_rhythm',), ('repeating',), ('One_rhythm',), ('continuing_rhythm',), ('One_rhythm',), ('continuing_rhythm',), ('continuing_rhythm',), ('continuing_rhythm',), ('continuing_rhythm',), ('leaping_twisting',), ('One_rhythm',), ('continuing_rhythm',), ('One_rhythm',), ('continuing_rhythm',), ('continuing_rhythm',), ('no skills',), ('up_steping',), ('up_leaping',), ('leaping_twisting',), ('up_leaping',), ('leaping_twisting',), ('leaping_twisting',), ('leaping_twisting',), ('down_leaping',), ('up_steping',), ('up_leaping',), ('up_steping',), ('up_leaping',), ('leaping_twisting',), ('down_leaping',), ('up_steping',), ('up_leaping',), ('leaping_twisting',), ('up_leaping',), ('down_leaping',), ('down_leaping',), ('no skills',), ('repeating',), ('no skills',), ('down_leaping',), ('no skills',), ('repeating',), ('no skills',), ('down_leaping',), ('no skills',), ('repeating',), ('repeating',), ('leaping_twisting',), ('leaping_twisting',), ('leaping_twisting',), ('leaping_twisting',), ('leaping_twisting',), ('leaping_twisting',), ('no skills',), ('no skills',), ('One_rhythm',), ('no skills',), ('up_steping',), ('no skills',), ('One_rhythm',), ('One_rhythm',), ('up_steping',), ('no skills',), ('down_steping',), ('up_steping',), ('repeating',), ('no skills',), ('One_rhythm',), ('no skills',), ('up_steping',), ('no skills',), ('One_rhythm',), ('One_rhythm',), ('up_steping',), ('no skills',), ('down_steping',), ('up_leaping',), ('steping_twisting',), ('down_steping',), ('no skills',), ('leaping_twisting',), ('steping_twisting',), ('no skills',), ('staccato',), ('no skills',), ('leaping_twisting',), ('leaping_twisting',), ('leaping_twisting',), ('fast_rhythm',), ('down_leaping',), ('staccato',), ('down_leaping',), ('leaping_twisting',), ('staccato',), ('no skills',), ('leaping_twisting',), ('up_steping',), ('triplet',), ('triplet',), ('leaping_twisting',), ('fast_rhythm',), ('up_leaping',), ('fast_rhythm',), ('no skills',), ('leaping_twisting',), ('fast_rhythm',), ('leaping_twisting',), ('fast_rhythm',), ('leaping_twisting',), ('no skills',), ('continuing_rhythm',), ('up_steping',), ('triplet',), ('leaping_twisting',), ('up_steping',), ('continuing_rhythm',), ('continuing_rhythm',), ('One_rhythm',), ('continuing_rhythm',), ('leaping_twisting',), ('triplet',), ('leaping_twisting',), ('up_steping',), ('continuing_rhythm',), ('leaping_twisting',), ('leaping_twisting',), ('continuing_rhythm',), ('continuing_rhythm',), ('leaping_twisting',), ('continuing_rhythm',), ('no skills',), ('leaping_twisting',), ('no skills',), ('no skills',), ('no skills',), ('no skills',), ('up_steping',), ('continuing_rhythm',), ('no skills',), ('leaping_twisting',), ('no skills',), ('no skills',), ('no skills',), ('no skills',), ('up_steping',), ('no skills',), ('no skills',), ('no skills',), ('up_leaping',), ('up_leaping',), ('up_steping',), ('leaping_twisting',), ('down_steping',), ('down_leaping',), ('One_rhythm',), ('down_leaping',), ('down_leaping',), ('down_leaping',), ('no skills',), ('down_steping',), ('no skills',), ('no skills',), ('no skills',), ('no skills',), ('down_steping',), ('leaping_twisting',), ('leaping_twisting',), ('leaping_twisting',), ('no skills',), ('up_steping',), ('no skills',), ('leaping_twisting',), ('One_rhythm',), ('leaping_twisting',), ('no skills',), ('down_leaping',), ('no skills',), ('no skills',), ('no skills',), ('steping_twisting',), ('leaping_twisting',), ('repeating',), ('repeating',), ('repeating',), ('repeating',), ('repeating',), ('repeating',), ('repeating',), ('repeating',), ('repeating',), ('repeating',), ('repeating',), ('repeating',), ('repeating',), ('repeating',), ('One_rhythm',), ('up_steping',), ('repeating',), ('down_leaping',), ('down_leaping',), ('down_leaping',), ('down_leaping',), ('no skills',), ('steping_twisting',), ('no skills',), ('repeating',), ('repeating',), ('down_leaping',), ('up_steping',), ('steping_twisting',), ('no skills',), ('leaping_twisting',), ('One_rhythm',), ('continuing_rhythm',), ('repeating',), ('down_leaping',), ('up_steping',), ('steping_twisting',), ('down_steping',), ('continuing_rhythm',), ('continuing_rhythm',), ('up_leaping',), ('up_leaping',), ('up_steping',), ('up_steping',), ('leaping_twisting',), ('down_steping',), ('up_steping',), ('continuing_rhythm',), ('leaping_twisting',), ('down_steping',), ('staccato',), ('down_steping',), ('staccato',), ('triplet',), ('no skills',), ('no skills',), ('down_leaping',), ('triplet',), ('up_leaping',), ('leaping_twisting',), ('leaping_twisting',), ('down_leaping',), ('repeating',), ('repeating',), ('repeating',), ('leaping_twisting',), ('leaping_twisting',), ('repeating',), ('leaping_twisting',), ('fast_rhythm',), ('repeating',), ('repeating',), ('repeating',), ('leaping_twisting',), ('up_steping',), ('repeating',), ('up_leaping',), ('no skills',), ('One_rhythm',), ('repeating',), ('up_leaping',), ('up_leaping',), ('up_steping',), ('no skills',), ('up_leaping',), ('up_leaping',), ('down_leaping',), ('repeating',), ('up_steping',), ('repeating',), ('leaping_twisting',), ('repeating',), ('One_rhythm',), ('repeating',), ('One_rhythm',), ('repeating',), ('One_rhythm',), ('repeating',), ('leaping_twisting',), ('repeating',), ('repeating',), ('repeating',), ('One_rhythm',), ('repeating',), ('no skills',), ('fast_rhythm',), ('repeating',), ('repeating',), ('fast_rhythm',), ('staccato',), ('no skills',), ('repeating',), ('down_steping',), ('repeating',), ('staccato',), ('fast_rhythm',), ('down_steping',), ('repeating',), ('fast_rhythm',), ('fast_rhythm',), ('down_steping',), ('no skills',), ('staccato',), ('fast_rhythm',), ('One_rhythm',), ('leaping_twisting',), ('staccato',), ('leaping_twisting',), ('leaping_twisting',), ('up_steping',), ('down_leaping',), ('up_steping',), ('no skills',), ('staccato',), ('down_leaping',), ('down_leaping',), ('staccato',), ('down_leaping',), ('staccato',), ('down_leaping',), ('down_leaping',), ('staccato',), ('down_leaping',), ('staccato',), ('down_leaping',), ('down_leaping',), ('staccato',), ('staccato',), ('staccato',), ('staccato',), ('continuing_rhythm',), ('up_steping',), ('fast_rhythm',), ('continuing_rhythm',), ('leaping_twisting',), ('continuing_rhythm',), ('continuing_rhythm',), ('continuing_rhythm',), ('continuing_rhythm',), ('up_steping',), ('continuing_rhythm',), ('continuing_rhythm',), ('fast_rhythm',), ('up_steping',), ('staccato',), ('staccato',), ('fast_rhythm',), ('repeating',), ('staccato',), ('staccato',), ('no skills',), ('no skills',), ('fast_rhythm',), ('repeating',), ('up_steping',), ('staccato',), ('repeating',), ('down_leaping',), ('leaping_twisting',), ('down_steping',), ('down_steping',), ('leaping_twisting',), ('down_steping',), ('no skills',), ('repeating',), ('leaping_twisting',), ('leaping_twisting',), ('up_steping',), ('One_rhythm',), ('down_leaping',), ('up_leaping',), ('up_steping',), ('up_steping',), ('down_leaping',), ('up_steping',), ('repeating',), ('down_steping',), ('down_steping',), ('One_rhythm',), ('up_steping',), ('leaping_twisting',), ('up_steping',), ('down_leaping',), ('no skills',), ('down_steping',), ('down_steping',), ('up_leaping',), ('up_steping',), ('up_steping',), ('down_leaping',), ('up_steping',), ('repeating',), ('down_steping',), ('no skills',), ('up_steping',), ('no skills',), ('no skills',), ('repeating',), ('no skills',), ('down_steping',), ('no skills',), ('up_steping',), ('no skills',), ('repeating',), ('no skills',), ('up_steping',), ('leaping_twisting',), ('no skills',), ('no skills',), ('One_rhythm',), ('up_steping',), ('no skills',), ('no skills',), ('no skills',), ('no skills',), ('down_steping',), ('no skills',), ('staccato',), ('up_steping',), ('up_steping',), ('no skills',), ('up_leaping',), ('up_steping',), ('up_steping',), ('no skills',), ('no skills',), ('up_steping',), ('down_steping',), ('up_leaping',), ('leaping_twisting',), ('up_steping',), ('down_steping',), ('up_leaping',), ('leaping_twisting',), ('leaping_twisting',), ('down_steping',), ('up_leaping',), ('no skills',), ('up_steping',), ('steping_twisting',), ('up_leaping',), ('down_steping',), ('down_leaping',), ('up_leaping',), ('up_steping',), ('up_steping',), ('down_leaping',), ('down_leaping',), ('up_steping',), ('up_leaping',), ('One_rhythm',), ('up_steping',), ('down_steping',), ('One_rhythm',), ('down_steping',), ('leaping_twisting',), ('up_steping',), ('no skills',), ('up_steping',), ('up_steping',), ('fast_rhythm',), ('no skills',), ('fast_rhythm',), ('no skills',), ('up_steping',), ('up_steping',), ('up_steping',), ('no skills',), ('up_steping',), ('steping_twisting',), ('repeating',), ('no skills',), ('up_steping',), ('repeating',), ('repeating',), ('repeating',), ('no skills',), ('leaping_twisting',), ('staccato',), ('no skills',), ('leaping_twisting',), ('up_leaping',), ('down_leaping',), ('no skills',), ('up_leaping',), ('leaping_twisting',), ('up_steping',), ('repeating',), ('up_steping',), ('up_steping',), ('up_steping',), ('up_steping',), ('leaping_twisting',), ('no skills',), ('up_steping',), ('up_steping',), ('up_leaping',), ('down_steping',), ('up_leaping',), ('down_leaping',), ('up_steping',), ('down_steping',), ('leaping_twisting',), ('down_steping',), ('leaping_twisting',), ('up_steping',), ('up_steping',), ('leaping_twisting',), ('leaping_twisting',), ('up_leaping',), ('up_steping',), ('up_steping',), ('up_leaping',), ('down_steping',), ('up_leaping',), ('down_leaping',), ('up_steping',), ('triplet',), ('triplet',), ('fast_rhythm',), ('up_leaping',), ('up_steping',), ('no skills',), ('up_leaping',), ('no skills',), ('no skills',), ('no skills',), ('triplet',), ('no skills',), ('up_steping',), ('fast_rhythm',), ('up_steping',), ('leaping_twisting',), ('up_steping',), ('leaping_twisting',), ('up_steping',), ('no skills',), ('repeating',), ('down_leaping',), ('up_steping',), ('staccato',), ('up_steping',), ('staccato',), ('leaping_twisting',), ('staccato',), ('no skills',), ('down_steping',), ('no skills',), ('no skills',), ('no skills',), ('no skills',), ('no skills',), ('no skills',), ('leaping_twisting',), ('leaping_twisting',), ('leaping_twisting',), ('leaping_twisting',), ('leaping_twisting',), ('leaping_twisting',), ('leaping_twisting',), ('leaping_twisting',), ('up_leaping',), ('up_leaping',), ('leaping_twisting',), ('up_leaping',), ('staccato',), ('up_steping',), ('repeating',), ('up_leaping',), ('up_leaping',), ('up_leaping',), ('staccato',), ('leaping_twisting',), ('leaping_twisting',), ('down_leaping',), ('repeating',), ('up_leaping',), ('leaping_twisting',), ('no skills',), ('up_leaping',), ('One_rhythm',), ('up_steping',), ('One_rhythm',), ('continuing_rhythm',), ('down_leaping',), ('up_steping',), ('leaping_twisting',), ('One_rhythm',), ('down_leaping',), ('up_steping',), ('down_leaping',), ('up_leaping',), ('down_leaping',), ('up_steping',), ('down_leaping',), ('up_leaping',), ('One_rhythm',), ('up_steping',), ('One_rhythm',), ('continuing_rhythm',), ('down_leaping',), ('up_steping',), ('leaping_twisting',), ('no skills',), ('up_steping',), ('up_steping',), ('fast_rhythm',), ('down_leaping',), ('up_steping',), ('steping_twisting',), ('triplet',), ('up_steping',), ('up_steping',), ('steping_twisting',), ('triplet',), ('steping_twisting',), ('no skills',), ('triplet',), ('up_steping',), ('up_steping',), ('down_steping',), ('up_steping',), ('up_steping',), ('down_steping',), ('no skills',), ('continuing_rhythm',), ('leaping_twisting',), ('continuing_rhythm',), ('leaping_twisting',), ('leaping_twisting',), ('continuing_rhythm',), ('continuing_rhythm',), ('continuing_rhythm',), ('down_steping',), ('leaping_twisting',), ('continuing_rhythm',), ('leaping_twisting',), ('continuing_rhythm',), ('continuing_rhythm',), ('continuing_rhythm',), ('leaping_twisting',), ('continuing_rhythm',), ('leaping_twisting',), ('continuing_rhythm',), ('down_leaping',), ('down_steping',), ('down_leaping',), ('down_leaping',), ('One_rhythm',), ('down_steping',), ('down_leaping',), ('down_leaping',), ('One_rhythm',), ('up_steping',), ('up_steping',), ('up_leaping',), ('up_leaping',), ('up_leaping',), ('leaping_twisting',), ('leaping_twisting',), ('leaping_twisting',), ('leaping_twisting',), ('leaping_twisting',), ('leaping_twisting',), ('leaping_twisting',), ('leaping_twisting',), ('leaping_twisting',), ('leaping_twisting',), ('leaping_twisting',), ('leaping_twisting',), ('down_leaping',), ('up_steping',), ('down_steping',), ('staccato',), ('no skills',), ('steping_twisting',), ('no skills',), ('no skills',), ('no skills',), ('staccato',), ('down_steping',), ('no skills',), ('up_steping',), ('no skills',), ('no skills',), ('no skills',), ('down_steping',), ('no skills',), ('no skills',), ('no skills',), ('down_steping',), ('no skills',), ('down_steping',), ('no skills',), ('no skills',), ('fast_rhythm',), ('fast_rhythm',), ('fast_rhythm',), ('fast_rhythm',), ('no skills',), ('leaping_twisting',), ('down_leaping',), ('no skills',), ('up_steping',), ('down_steping',), ('no skills',), ('leaping_twisting',), ('leaping_twisting',), ('leaping_twisting',), ('no skills',), ('no skills',), ('down_steping',), ('staccato',), ('steping_twisting',), ('no skills',), ('down_steping',), ('staccato',), ('steping_twisting',), ('no skills',), ('down_steping',), ('staccato',), ('steping_twisting',), ('no skills',), ('up_steping',), ('staccato',), ('fast_rhythm',), ('down_steping',), ('no skills',), ('fast_rhythm',), ('staccato',), ('fast_rhythm',), ('staccato',), ('triplet',), ('down_leaping',), ('triplet',), ('fast_rhythm',), ('leaping_twisting',), ('fast_rhythm',), ('fast_rhythm',), ('fast_rhythm',), ('staccato',), ('fast_rhythm',), ('staccato',), ('triplet',), ('leaping_twisting',), ('down_leaping',), ('down_leaping',), ('down_leaping',), ('down_leaping',), ('down_leaping',), ('down_leaping',), ('leaping_twisting',), ('leaping_twisting',), ('down_leaping',), ('down_leaping',), ('down_leaping',), ('down_leaping',), ('down_leaping',), ('down_leaping',), ('down_leaping',), ('down_leaping',), ('down_leaping',), ('down_leaping',), ('no skills',), ('fast_rhythm',), ('up_leaping',), ('up_leaping',), ('up_steping',), ('fast_rhythm',), ('up_leaping',), ('repeating',), ('up_steping',), ('fast_rhythm',), ('fast_rhythm',), ('fast_rhythm',), ('fast_rhythm',), ('fast_rhythm',), ('fast_rhythm',), ('fast_rhythm',), ('fast_rhythm',), ('down_leaping',), ('no skills',), ('down_leaping',), ('up_steping',), ('leaping_twisting',), ('leaping_twisting',), ('leaping_twisting',), ('leaping_twisting',), ('leaping_twisting',), ('leaping_twisting',), ('leaping_twisting',), ('down_leaping',), ('leaping_twisting',), ('leaping_twisting',), ('leaping_twisting',), ('leaping_twisting',), ('up_leaping',), ('up_steping',), ('no skills',), ('up_steping',), ('no skills',), ('up_steping',), ('no skills',), ('staccato',), ('repeating',), ('up_steping',), ('no skills',), ('no skills',), ('up_steping',), ('no skills',), ('no skills',), ('staccato',), ('staccato',), ('staccato',), ('leaping_twisting',), ('staccato',), ('leaping_twisting',), ('leaping_twisting',), ('leaping_twisting',), ('staccato',), ('no skills',), ('staccato',), ('leaping_twisting',), ('staccato',), ('leaping_twisting',), ('staccato',), ('up_leaping',), ('up_leaping',), ('up_leaping',), ('up_leaping',), ('up_leaping',), ('leaping_twisting',), ('up_leaping',), ('up_leaping',), ('up_leaping',), ('up_leaping',), ('up_leaping',), ('up_leaping',), ('up_leaping',), ('leaping_twisting',), ('up_leaping',), ('up_leaping',), ('up_leaping',), ('up_leaping',), ('up_leaping',), ('no skills',), ('up_steping',), ('up_steping',), ('triplet',), ('up_steping',), ('leaping_twisting',), ('leaping_twisting',), ('leaping_twisting',), ('leaping_twisting',), ('leaping_twisting',), ('leaping_twisting',), ('leaping_twisting',), ('leaping_twisting',), ('leaping_twisting',), ('leaping_twisting',), ('leaping_twisting',), ('no skills',), ('repeating',), ('repeating',), ('repeating',), ('repeating',), ('repeating',), ('repeating',), ('repeating',), ('repeating',), ('repeating',), ('repeating',), ('repeating',), ('repeating',), ('repeating',), ('repeating',), ('repeating',), ('repeating',), ('down_steping',), ('repeating',), ('repeating',), ('repeating',), ('down_steping',), ('repeating',), ('repeating',), ('repeating',), ('repeating',), ('repeating',), ('repeating',), ('repeating',), ('repeating',), ('no skills',), ('continuing_rhythm',), ('no skills',), ('continuing_rhythm',), ('leaping_twisting',), ('leaping_twisting',), ('down_leaping',), ('no skills',), ('no skills',), ('leaping_twisting',), ('leaping_twisting',), ('One_rhythm',), ('leaping_twisting',), ('leaping_twisting',), ('leaping_twisting',), ('down_steping',), ('up_steping',), ('leaping_twisting',), ('staccato',), ('triplet',), ('no skills',), ('down_steping',), ('no skills',), ('down_leaping',), ('repeating',), ('up_steping',), ('leaping_twisting',), ('down_leaping',), ('leaping_twisting',), ('leaping_twisting',), ('leaping_twisting',), ('leaping_twisting',), ('leaping_twisting',), ('leaping_twisting',), ('leaping_twisting',), ('leaping_twisting',), ('leaping_twisting',), ('leaping_twisting',), ('up_leaping',), ('no skills',), ('up_steping',), ('leaping_twisting',), ('leaping_twisting',), ('no skills',), ('leaping_twisting',), ('leaping_twisting',), ('leaping_twisting',), ('leaping_twisting',), ('up_leaping',), ('leaping_twisting',), ('leaping_twisting',), ('One_rhythm',), ('leaping_twisting',), ('continuing_rhythm',), ('no skills',), ('up_steping',), ('continuing_rhythm',), ('up_steping',), ('leaping_twisting',), ('no skills',), ('no skills',), ('no skills',), ('no skills',), ('down_leaping',), ('leaping_twisting',), ('down_leaping',), ('up_steping',), ('down_leaping',), ('down_leaping',), ('up_steping',), ('leaping_twisting',), ('up_steping',), ('continuing_rhythm',), ('triplet',), ('fast_rhythm',), ('fast_rhythm',), ('fast_rhythm',), ('fast_rhythm',), ('fast_rhythm',), ('fast_rhythm',), ('fast_rhythm',), ('up_steping',), ('up_steping',), ('staccato',), ('fast_rhythm',), ('staccato',), ('down_steping',), ('fast_rhythm',), ('repeating',), ('triplet',), ('no skills',), ('triplet',), ('staccato',), ('up_steping',), ('no skills',), ('staccato',), ('up_steping',), ('up_steping',), ('no skills',), ('staccato',), ('up_steping',), ('down_steping',), ('staccato',), ('no skills',), ('staccato',), ('leaping_twisting',), ('no skills',), ('staccato',), ('leaping_twisting',), ('fast_rhythm',), ('up_leaping',), ('down_leaping',), ('staccato',), ('up_leaping',), ('up_leaping',), ('down_leaping',), ('up_leaping',), ('down_leaping',), ('up_leaping',), ('down_leaping',), ('up_leaping',), ('down_leaping',), ('up_leaping',), ('continuing_rhythm',), ('leaping_twisting',), ('continuing_rhythm',), ('continuing_rhythm',), ('One_rhythm',), ('leaping_twisting',), ('One_rhythm',), ('continuing_rhythm',), ('continuing_rhythm',), ('continuing_rhythm',), ('One_rhythm',), ('leaping_twisting',), ('continuing_rhythm',), ('continuing_rhythm',), ('no skills',), ('fast_rhythm',), ('up_steping',), ('fast_rhythm',), ('One_rhythm',), ('leaping_twisting',), ('up_steping',), ('One_rhythm',), ('no skills',), ('One_rhythm',), ('leaping_twisting',), ('One_rhythm',), ('One_rhythm',), ('One_rhythm',), ('leaping_twisting',), ('One_rhythm',), ('fast_rhythm',), ('One_rhythm',), ('leaping_twisting',), ('One_rhythm',), ('One_rhythm',), ('One_rhythm',), ('leaping_twisting',), ('One_rhythm',), ('fast_rhythm',), ('fast_rhythm',), ('up_steping',), ('fast_rhythm',), ('One_rhythm',), ('leaping_twisting',), ('up_steping',), ('One_rhythm',), ('no skills',), ('repeating',), ('repeating',), ('staccato',), ('staccato',), ('staccato',), ('up_steping',), ('repeating',), ('leaping_twisting',), ('staccato',), ('repeating',), ('repeating',), ('staccato',), ('staccato',), ('staccato',), ('leaping_twisting',), ('staccato',), ('no skills',), ('One_rhythm',), ('no skills',), ('One_rhythm',), ('no skills',), ('One_rhythm',), ('triplet',), ('One_rhythm',), ('triplet',), ('One_rhythm',), ('triplet',), ('One_rhythm',), ('triplet',), ('One_rhythm',), ('triplet',), ('leaping_twisting',), ('down_leaping',), ('down_leaping',), ('down_leaping',), ('down_leaping',), ('down_leaping',), ('down_leaping',), ('down_leaping',), ('down_leaping',), ('down_leaping',), ('leaping_twisting',), ('repeating',), ('leaping_twisting',), ('leaping_twisting',), ('up_leaping',), ('no skills',), ('leaping_twisting',), ('no skills',), ('leaping_twisting',), ('leaping_twisting',), ('leaping_twisting',), ('leaping_twisting',), ('up_leaping',), ('no skills',), ('down_leaping',), ('down_leaping',), ('down_leaping',), ('staccato',), ('fast_rhythm',), ('fast_rhythm',), ('fast_rhythm',), ('fast_rhythm',), ('fast_rhythm',), ('fast_rhythm',), ('fast_rhythm',), ('fast_rhythm',), ('fast_rhythm',), ('fast_rhythm',), ('fast_rhythm',), ('no skills',), ('up_leaping',), ('up_leaping',), ('up_leaping',), ('up_leaping',), ('up_leaping',), ('up_leaping',), ('up_leaping',), ('down_steping',), ('up_leaping',), ('down_steping',), ('leaping_twisting',), ('down_steping',), ('up_leaping',), ('down_steping',), ('leaping_twisting',), ('down_steping',), ('up_leaping',), ('down_steping',), ('leaping_twisting',), ('down_steping',), ('up_leaping',), ('down_steping',), ('no skills',), ('no skills',), ('staccato',), ('repeating',), ('up_leaping',), ('up_leaping',), ('up_leaping',), ('leaping_twisting',), ('up_leaping',), ('up_leaping',), ('up_leaping',), ('leaping_twisting',), ('up_leaping',), ('up_leaping',), ('no skills',), ('leaping_twisting',), ('up_leaping',), ('up_leaping',), ('up_steping',), ('staccato',), ('no skills',), ('no skills',), ('up_steping',), ('no skills',), ('up_steping',), ('leaping_twisting',), ('up_steping',), ('fast_rhythm',), ('staccato',), ('staccato',), ('up_steping',), ('leaping_twisting',), ('up_steping',), ('down_leaping',), ('leaping_twisting',), ('leaping_twisting',), ('leaping_twisting',), ('leaping_twisting',), ('leaping_twisting',), ('leaping_twisting',), ('leaping_twisting',), ('leaping_twisting',), ('leaping_twisting',), ('leaping_twisting',), ('fast_rhythm',), ('leaping_twisting',), ('leaping_twisting',), ('leaping_twisting',), ('leaping_twisting',), ('leaping_twisting',), ('leaping_twisting',), ('leaping_twisting',), ('leaping_twisting',), ('leaping_twisting',), ('leaping_twisting',), ('leaping_twisting',), ('leaping_twisting',), ('leaping_twisting',), ('leaping_twisting',), ('leaping_twisting',), ('leaping_twisting',), ('leaping_twisting',), ('leaping_twisting',), ('leaping_twisting',), ('leaping_twisting',), ('leaping_twisting',), ('no skills',), ('down_leaping',), ('down_leaping',), ('leaping_twisting',), ('down_leaping',), ('triplet',), ('leaping_twisting',), ('continuing_rhythm',), ('fast_rhythm',), ('fast_rhythm',), ('fast_rhythm',), ('continuing_rhythm',), ('fast_rhythm',), ('up_steping',), ('no skills',), ('leaping_twisting',), ('up_steping',), ('leaping_twisting',), ('One_rhythm',), ('One_rhythm',), ('One_rhythm',), ('One_rhythm',), ('One_rhythm',), ('One_rhythm',), ('One_rhythm',), ('leaping_twisting',), ('leaping_twisting',), ('leaping_twisting',), ('down_leaping',), ('leaping_twisting',), ('leaping_twisting',), ('leaping_twisting',), ('no skills',), ('leaping_twisting',), ('no skills',), ('leaping_twisting',), ('down_leaping',), ('leaping_twisting',), ('leaping_twisting',), ('leaping_twisting',), ('no skills',), ('leaping_twisting',), ('no skills',), ('leaping_twisting',), ('no skills',), ('up_steping',), ('repeating',), ('repeating',), ('repeating',), ('up_steping',), ('repeating',), ('repeating',), ('repeating',), ('up_leaping',), ('repeating',), ('up_steping',), ('down_steping',), ('up_leaping',), ('repeating',), ('up_steping',), ('down_steping',), ('repeating',), ('leaping_twisting',), ('leaping_twisting',), ('leaping_twisting',), ('leaping_twisting',), ('leaping_twisting',), ('leaping_twisting',), ('leaping_twisting',), ('leaping_twisting',), ('leaping_twisting',), ('leaping_twisting',), ('leaping_twisting',), ('leaping_twisting',), ('leaping_twisting',), ('leaping_twisting',), ('no skills',), ('down_steping',), ('up_steping',), ('up_steping',), ('up_steping',), ('no skills',), ('One_rhythm',), ('staccato',), ('leaping_twisting',), ('down_leaping',), ('up_steping',), ('down_steping',), ('steping_twisting',), ('up_steping',), ('leaping_twisting',), ('down_leaping',), ('staccato',), ('staccato',), ('down_leaping',), ('down_leaping',), ('leaping_twisting',), ('leaping_twisting',), ('down_leaping',), ('down_leaping',), ('staccato',), ('leaping_twisting',), ('staccato',), ('down_leaping',), ('leaping_twisting',), ('leaping_twisting',), ('down_leaping',), ('down_leaping',), ('staccato',), ('staccato',), ('staccato',), ('repeating',), ('repeating',), ('repeating',), ('repeating',), ('repeating',), ('repeating',), ('repeating',), ('up_steping',), ('repeating',), ('repeating',), ('One_rhythm',), ('repeating',), ('repeating',), ('fast_rhythm',), ('repeating',), ('no skills',), ('repeating',), ('repeating',), ('repeating',), ('repeating',), ('One_rhythm',), ('no skills',), ('up_steping',), ('no skills',), ('up_steping',), ('no skills',), ('up_steping',), ('no skills',), ('up_leaping',), ('no skills',), ('continuing_rhythm',), ('up_leaping',), ('continuing_rhythm',), ('no skills',), ('up_steping',), ('no skills',), ('up_steping',), ('no skills',), ('no skills',), ('no skills',), ('up_steping',), ('no skills',), ('repeating',), ('triplet',), ('down_leaping',), ('up_steping',), ('down_leaping',), ('up_steping',), ('triplet',), ('repeating',), ('repeating',), ('triplet',), ('down_leaping',), ('no skills',), ('repeating',), ('no skills',), ('no skills',), ('no skills',), ('no skills',), ('no skills',), ('no skills',), ('no skills',), ('no skills',), ('up_steping',), ('down_steping',), ('up_steping',), ('up_steping',), ('up_steping',), ('triplet',), ('up_steping',), ('triplet',), ('staccato',), ('leaping_twisting',), ('repeating',), ('repeating',), ('repeating',), ('repeating',), ('up_steping',), ('repeating',), ('repeating',), ('repeating',), ('One_rhythm',), ('down_steping',), ('repeating',), ('leaping_twisting',), ('repeating',), ('leaping_twisting',), ('leaping_twisting',), ('leaping_twisting',), ('repeating',), ('repeating',), ('no skills',), ('fast_rhythm',), ('fast_rhythm',), ('fast_rhythm',), ('fast_rhythm',), ('fast_rhythm',), ('fast_rhythm',), ('fast_rhythm',), ('fast_rhythm',), ('fast_rhythm',), ('fast_rhythm',), ('fast_rhythm',), ('fast_rhythm',), ('fast_rhythm',), ('fast_rhythm',), ('fast_rhythm',), ('fast_rhythm',), ('up_leaping',), ('fast_rhythm',), ('leaping_twisting',), ('fast_rhythm',), ('fast_rhythm',), ('fast_rhythm',), ('fast_rhythm',), ('fast_rhythm',), ('fast_rhythm',), ('leaping_twisting',), ('leaping_twisting',), ('fast_rhythm',), ('fast_rhythm',), ('fast_rhythm',), ('fast_rhythm',), ('fast_rhythm',), ('fast_rhythm',), ('fast_rhythm',), ('leaping_twisting',), ('triplet',), ('triplet',), ('up_steping',), ('triplet',), ('triplet',), ('triplet',), ('up_steping',), ('triplet',), ('triplet',), ('triplet',), ('up_steping',), ('triplet',), ('triplet',), ('up_steping',), ('up_steping',), ('triplet',), ('triplet',), ('triplet',), ('triplet',), ('leaping_twisting',), ('leaping_twisting',), ('leaping_twisting',), ('leaping_twisting',), ('leaping_twisting',), ('leaping_twisting',), ('leaping_twisting',), ('leaping_twisting',), ('leaping_twisting',), ('leaping_twisting',), ('leaping_twisting',), ('leaping_twisting',), ('leaping_twisting',), ('leaping_twisting',), ('leaping_twisting',), ('leaping_twisting',), ('continuing_rhythm',), ('leaping_twisting',), ('leaping_twisting',), ('leaping_twisting',), ('leaping_twisting',), ('leaping_twisting',), ('leaping_twisting',), ('leaping_twisting',), ('leaping_twisting',), ('leaping_twisting',), ('leaping_twisting',), ('staccato',), ('leaping_twisting',), ('leaping_twisting',), ('staccato',), ('up_leaping',), ('leaping_twisting',), ('leaping_twisting',), ('leaping_twisting',), ('leaping_twisting',), ('no skills',), ('no skills',), ('staccato',), ('triplet',), ('up_steping',), ('down_leaping',), ('fast_rhythm',), ('triplet',), ('up_steping',), ('down_leaping',), ('fast_rhythm',), ('fast_rhythm',), ('fast_rhythm',), ('down_leaping',), ('staccato',), ('repeating',), ('up_steping',), ('repeating',), ('up_steping',), ('down_steping',), ('staccato',), ('repeating',), ('up_steping',), ('staccato',), ('up_steping',), ('repeating',), ('up_steping',), ('down_steping',), ('up_leaping',), ('leaping_twisting',), ('leaping_twisting',), ('up_steping',), ('no skills',), ('One_rhythm',), ('down_leaping',), ('staccato',), ('up_leaping',), ('triplet',), ('no skills',), ('staccato',), ('fast_rhythm',), ('down_steping',), ('leaping_twisting',), ('repeating',), ('repeating',), ('leaping_twisting',), ('leaping_twisting',), ('repeating',), ('staccato',), ('staccato',), ('down_leaping',), ('staccato',), ('staccato',), ('leaping_twisting',), ('leaping_twisting',), ('repeating',), ('repeating',), ('no skills',), ('staccato',), ('leaping_twisting',), ('down_leaping',), ('up_leaping',), ('up_leaping',), ('no skills',), ('up_steping',), ('down_leaping',), ('leaping_twisting',), ('no skills',), ('steping_twisting',), ('triplet',), ('up_steping',), ('leaping_twisting',), ('up_leaping',), ('up_leaping',), ('leaping_twisting',), ('up_leaping',), ('down_steping',), ('up_steping',), ('steping_twisting',), ('no skills',), ('continuing_rhythm',), ('fast_rhythm',), ('continuing_rhythm',), ('staccato',), ('continuing_rhythm',), ('continuing_rhythm',), ('continuing_rhythm',), ('continuing_rhythm',), ('continuing_rhythm',), ('continuing_rhythm',), ('continuing_rhythm',), ('repeating',), ('continuing_rhythm',), ('continuing_rhythm',), ('continuing_rhythm',), ('continuing_rhythm',), ('continuing_rhythm',), ('continuing_rhythm',), ('continuing_rhythm',), ('repeating',), ('no skills',), ('leaping_twisting',), ('no skills',), ('up_leaping',), ('no skills',), ('no skills',), ('no skills',), ('no skills',), ('no skills',), ('leaping_twisting',), ('up_leaping',), ('leaping_twisting',), ('leaping_twisting',), ('leaping_twisting',), ('no skills',), ('leaping_twisting',), ('down_leaping',), ('no skills',), ('down_leaping',), ('no skills',), ('leaping_twisting',), ('leaping_twisting',), ('up_steping',), ('leaping_twisting',), ('no skills',), ('One_rhythm',), ('no skills',), ('up_steping',), ('up_steping',), ('up_steping',), ('down_leaping',), ('repeating',), ('fast_rhythm',), ('no skills',), ('no skills',), ('repeating',), ('triplet',), ('repeating',), ('no skills',), ('leaping_twisting',), ('no skills',), ('up_steping',), ('down_leaping',), ('leaping_twisting',), ('leaping_twisting',), ('no skills',), ('down_steping',), ('up_leaping',), ('up_leaping',), ('down_steping',), ('no skills',), ('up_steping',), ('down_leaping',), ('no skills',), ('up_steping',), ('repeating',), ('up_steping',), ('repeating',), ('leaping_twisting',), ('no skills',), ('up_steping',), ('up_steping',), ('up_steping',), ('repeating',), ('up_steping',), ('up_steping',), ('down_steping',), ('down_leaping',), ('down_steping',), ('up_leaping',), ('down_steping',), ('down_leaping',), ('down_steping',), ('up_steping',), ('leaping_twisting',), ('leaping_twisting',), ('no skills',), ('no skills',), ('leaping_twisting',), ('leaping_twisting',), ('leaping_twisting',), ('leaping_twisting',), ('leaping_twisting',), ('leaping_twisting',), ('up_steping',), ('leaping_twisting',), ('leaping_twisting',), ('leaping_twisting',), ('up_steping',), ('leaping_twisting',), ('leaping_twisting',), ('leaping_twisting',), ('leaping_twisting',), ('leaping_twisting',), ('leaping_twisting',), ('leaping_twisting',), ('leaping_twisting',), ('no skills',), ('fast_rhythm',), ('up_steping',), ('fast_rhythm',), ('fast_rhythm',), ('fast_rhythm',), ('fast_rhythm',), ('fast_rhythm',), ('fast_rhythm',), ('fast_rhythm',), ('fast_rhythm',), ('fast_rhythm',), ('fast_rhythm',), ('fast_rhythm',), ('up_steping',), ('fast_rhythm',), ('fast_rhythm',), ('fast_rhythm',), ('fast_rhythm',), ('fast_rhythm',), ('fast_rhythm',), ('fast_rhythm',), ('fast_rhythm',), ('fast_rhythm',), ('fast_rhythm',), ('fast_rhythm',), ('fast_rhythm',), ('fast_rhythm',), ('fast_rhythm',), ('fast_rhythm',), ('fast_rhythm',), ('fast_rhythm',), ('fast_rhythm',), ('fast_rhythm',), ('fast_rhythm',), ('fast_rhythm',), ('fast_rhythm',), ('fast_rhythm',), ('leaping_twisting',), ('staccato',), ('leaping_twisting',), ('staccato',), ('leaping_twisting',), ('staccato',), ('leaping_twisting',), ('staccato',), ('leaping_twisting',), ('staccato',), ('leaping_twisting',), ('staccato',), ('leaping_twisting',), ('staccato',), ('leaping_twisting',), ('down_leaping',), ('down_leaping',), ('up_leaping',), ('leaping_twisting',), ('up_leaping',), ('leaping_twisting',), ('up_steping',), ('leaping_twisting',), ('down_leaping',), ('down_leaping',), ('repeating',), ('down_leaping',), ('leaping_twisting',), ('staccato',), ('leaping_twisting',), ('leaping_twisting',), ('down_steping',), ('leaping_twisting',), ('down_leaping',), ('down_leaping',), ('up_leaping',), ('up_steping',), ('no skills',), ('down_leaping',), ('up_leaping',), ('up_steping',), ('leaping_twisting',), ('down_leaping',), ('up_leaping',), ('up_steping',), ('leaping_twisting',), ('leaping_twisting',), ('down_leaping',), ('One_rhythm',), ('leaping_twisting',), ('leaping_twisting',), ('down_leaping',), ('leaping_twisting',), ('down_leaping',), ('down_leaping',), ('up_steping',), ('up_leaping',), ('up_steping',), ('down_steping',), ('up_steping',), ('no skills',), ('up_leaping',), ('up_leaping',), ('no skills',), ('triplet',), ('triplet',), ('down_leaping',), ('up_steping',), ('no skills',), ('fast_rhythm',), ('steping_twisting',), ('triplet',), ('fast_rhythm',), ('triplet',), ('no skills',), ('down_leaping',), ('leaping_twisting',), ('leaping_twisting',), ('staccato',), ('leaping_twisting',), ('staccato',), ('leaping_twisting',), ('no skills',), ('down_leaping',), ('repeating',), ('down_leaping',), ('One_rhythm',), ('up_steping',), ('up_steping',), ('up_steping',), ('One_rhythm',), ('up_steping',), ('up_steping',), ('up_steping',), ('One_rhythm',), ('up_steping',), ('up_steping',), ('up_steping',), ('up_steping',), ('One_rhythm',), ('One_rhythm',), ('One_rhythm',), ('One_rhythm',), ('One_rhythm',), ('One_rhythm',), ('repeating',), ('repeating',), ('no skills',), ('down_leaping',), ('leaping_twisting',), ('up_leaping',), ('up_steping',), ('up_leaping',), ('leaping_twisting',), ('staccato',), ('leaping_twisting',), ('down_leaping',), ('leaping_twisting',), ('up_leaping',), ('up_steping',), ('up_leaping',), ('no skills',), ('fast_rhythm',), ('fast_rhythm',), ('no skills',), ('continuing_rhythm',), ('steping_twisting',), ('no skills',), ('triplet',), ('fast_rhythm',), ('no skills',), ('no skills',), ('no skills',), ('leaping_twisting',), ('no skills',), ('no skills',), ('leaping_twisting',), ('no skills',), ('no skills',), ('no skills',), ('staccato',), ('leaping_twisting',), ('no skills',), ('no skills',), ('no skills',), ('leaping_twisting',), ('leaping_twisting',), ('down_leaping',), ('leaping_twisting',), ('leaping_twisting',), ('down_leaping',), ('leaping_twisting',), ('leaping_twisting',), ('leaping_twisting',), ('leaping_twisting',), ('leaping_twisting',), ('leaping_twisting',), ('leaping_twisting',), ('leaping_twisting',), ('leaping_twisting',), ('leaping_twisting',), ('leaping_twisting',), ('up_leaping',), ('repeating',), ('repeating',), ('repeating',), ('repeating',), ('repeating',), ('repeating',), ('repeating',), ('repeating',), ('repeating',), ('repeating',), ('repeating',), ('repeating',), ('fast_rhythm',), ('fast_rhythm',), ('continuing_rhythm',), ('continuing_rhythm',), ('continuing_rhythm',), ('up_steping',), ('leaping_twisting',), ('fast_rhythm',), ('fast_rhythm',), ('fast_rhythm',), ('fast_rhythm',), ('fast_rhythm',), ('fast_rhythm',), ('fast_rhythm',), ('fast_rhythm',), ('fast_rhythm',), ('fast_rhythm',), ('fast_rhythm',), ('fast_rhythm',), ('down_leaping',), ('staccato',), ('staccato',), ('down_steping',), ('fast_rhythm',), ('staccato',), ('staccato',), ('down_steping',), ('fast_rhythm',), ('staccato',), ('staccato',), ('down_steping',), ('fast_rhythm',), ('staccato',), ('staccato',), ('up_steping',), ('down_steping',), ('up_steping',), ('up_steping',), ('leaping_twisting',), ('One_rhythm',), ('down_leaping',), ('leaping_twisting',), ('up_steping',), ('triplet',), ('triplet',), ('leaping_twisting',), ('up_steping',), ('One_rhythm',), ('up_steping',), ('up_steping',), ('repeating',), ('no skills',), ('staccato',), ('fast_rhythm',), ('fast_rhythm',), ('fast_rhythm',), ('staccato',), ('fast_rhythm',), ('fast_rhythm',), ('fast_rhythm',), ('fast_rhythm',), ('staccato',), ('fast_rhythm',), ('staccato',), ('staccato',), ('fast_rhythm',), ('staccato',), ('fast_rhythm',), ('leaping_twisting',), ('down_steping',), ('down_steping',), ('triplet',), ('down_leaping',), ('down_steping',), ('One_rhythm',), ('no skills',), ('no skills',), ('triplet',), ('down_steping',), ('down_steping',), ('down_steping',), ('up_steping',), ('triplet',), ('staccato',), ('staccato',), ('triplet',), ('staccato',), ('staccato',), ('no skills',), ('staccato',), ('staccato',), ('staccato',), ('down_leaping',), ('down_steping',), ('triplet',), ('staccato',), ('no skills',), ('staccato',), ('up_steping',), ('staccato',), ('staccato',), ('staccato',), ('up_steping',), ('staccato',), ('staccato',), ('staccato',), ('up_steping',), ('staccato',), ('staccato',), ('staccato',), ('up_steping',), ('staccato',), ('staccato',), ('leaping_twisting',), ('staccato',), ('staccato',), ('up_steping',), ('continuing_rhythm',), ('up_steping',), ('no skills',), ('up_steping',), ('continuing_rhythm',), ('up_steping',), ('no skills',), ('up_steping',), ('continuing_rhythm',), ('up_steping',), ('leaping_twisting',), ('up_steping',), ('continuing_rhythm',), ('up_steping',), ('up_leaping',), ('up_steping',), ('staccato',), ('repeating',), ('up_steping',), ('triplet',), ('no skills',), ('up_steping',), ('up_steping',), ('up_steping',), ('no skills',), ('no skills',), ('up_steping',), ('no skills',), ('steping_twisting',), ('no skills',), ('up_steping',), ('repeating',), ('no skills',), ('no skills',), ('staccato',), ('no skills',), ('leaping_twisting',), ('leaping_twisting',), ('leaping_twisting',), ('up_steping',), ('no skills',), ('leaping_twisting',), ('leaping_twisting',), ('up_steping',), ('up_leaping',), ('repeating',), ('repeating',), ('repeating',), ('repeating',), ('no skills',), ('down_leaping',), ('up_leaping',), ('down_leaping',), ('up_leaping',), ('up_leaping',), ('leaping_twisting',), ('up_leaping',), ('up_leaping',), ('leaping_twisting',), ('up_leaping',), ('leaping_twisting',), ('down_leaping',), ('leaping_twisting',), ('leaping_twisting',), ('up_leaping',), ('down_leaping',), ('leaping_twisting',), ('no skills',), ('leaping_twisting',), ('leaping_twisting',), ('leaping_twisting',), ('leaping_twisting',), ('staccato',), ('up_steping',), ('down_leaping',), ('down_leaping',), ('up_leaping',), ('up_leaping',), ('up_leaping',), ('staccato',), ('leaping_twisting',), ('leaping_twisting',), ('staccato',), ('up_leaping',), ('up_leaping',), ('up_steping',), ('no skills',), ('fast_rhythm',), ('down_steping',), ('continuing_rhythm',), ('up_leaping',), ('steping_twisting',), ('no skills',), ('repeating',), ('continuing_rhythm',), ('continuing_rhythm',), ('down_steping',), ('continuing_rhythm',), ('up_steping',), ('continuing_rhythm',), ('up_steping',), ('no skills',), ('down_leaping',), ('up_steping',), ('down_leaping',), ('up_steping',), ('down_leaping',), ('down_steping',), ('no skills',), ('continuing_rhythm',), ('leaping_twisting',), ('continuing_rhythm',), ('repeating',), ('up_steping',), ('down_leaping',), ('continuing_rhythm',), ('leaping_twisting',), ('continuing_rhythm',), ('up_steping',), ('continuing_rhythm',), ('leaping_twisting',), ('continuing_rhythm',), ('no skills',), ('continuing_rhythm',), ('continuing_rhythm',), ('continuing_rhythm',), ('continuing_rhythm',), ('continuing_rhythm',), ('continuing_rhythm',), ('continuing_rhythm',), ('continuing_rhythm',), ('continuing_rhythm',), ('continuing_rhythm',), ('continuing_rhythm',), ('continuing_rhythm',), ('continuing_rhythm',), ('continuing_rhythm',), ('steping_twisting',), ('fast_rhythm',), ('fast_rhythm',), ('fast_rhythm',), ('continuing_rhythm',), ('fast_rhythm',), ('fast_rhythm',), ('triplet',), ('up_leaping',), ('fast_rhythm',), ('staccato',), ('staccato',), ('up_leaping',), ('down_steping',), ('continuing_rhythm',), ('down_leaping',), ('down_leaping',), ('staccato',), ('staccato',), ('leaping_twisting',), ('no skills',), ('no skills',), ('no skills',), ('up_leaping',), ('repeating',), ('repeating',), ('repeating',), ('down_leaping',), ('repeating',), ('One_rhythm',), ('no skills',), ('no skills',), ('repeating',), ('repeating',), ('repeating',), ('repeating',), ('repeating',), ('repeating',), ('repeating',), ('repeating',), ('repeating',), ('repeating',), ('up_leaping',), ('triplet',), ('no skills',), ('down_leaping',), ('down_leaping',), ('staccato',), ('up_leaping',), ('leaping_twisting',), ('up_leaping',), ('down_leaping',), ('down_leaping',), ('down_leaping',), ('leaping_twisting',), ('leaping_twisting',), ('leaping_twisting',), ('leaping_twisting',), ('staccato',), ('no skills',), ('no skills',), ('leaping_twisting',), ('leaping_twisting',), ('repeating',), ('repeating',), ('fast_rhythm',), ('fast_rhythm',), ('fast_rhythm',), ('fast_rhythm',), ('fast_rhythm',), ('fast_rhythm',), ('fast_rhythm',), ('fast_rhythm',), ('fast_rhythm',), ('fast_rhythm',), ('fast_rhythm',), ('fast_rhythm',), ('fast_rhythm',), ('down_leaping',), ('down_steping',), ('up_steping',), ('up_steping',), ('leaping_twisting',), ('leaping_twisting',), ('leaping_twisting',), ('up_steping',), ('down_leaping',), ('up_steping',), ('no skills',), ('down_steping',), ('no skills',), ('no skills',), ('no skills',), ('triplet',), ('leaping_twisting',), ('no skills',), ('leaping_twisting',), ('repeating',), ('repeating',), ('repeating',), ('steping_twisting',), ('up_leaping',), ('steping_twisting',), ('leaping_twisting',), ('no skills',), ('leaping_twisting',), ('no skills',), ('leaping_twisting',), ('repeating',), ('leaping_twisting',), ('steping_twisting',), ('leaping_twisting',), ('repeating',), ('leaping_twisting',), ('steping_twisting',), ('triplet',), ('triplet',), ('triplet',), ('no skills',), ('leaping_twisting',), ('no skills',), ('triplet',), ('triplet',), ('fast_rhythm',), ('fast_rhythm',), ('fast_rhythm',), ('fast_rhythm',), ('fast_rhythm',), ('down_leaping',), ('leaping_twisting',), ('no skills',), ('fast_rhythm',), ('fast_rhythm',), ('triplet',), ('no skills',), ('no skills',), ('no skills',), ('repeating',), ('repeating',), ('triplet',), ('repeating',), ('fast_rhythm',), ('repeating',), ('triplet',), ('repeating',), ('triplet',), ('repeating',), ('no skills',), ('repeating',), ('repeating',), ('leaping_twisting',), ('triplet',), ('repeating',), ('fast_rhythm',), ('continuing_rhythm',), ('triplet',), ('repeating',), ('repeating',), ('repeating',), ('no skills',), ('staccato',), ('staccato',), ('up_steping',), ('staccato',), ('staccato',), ('staccato',), ('up_steping',), ('staccato',), ('staccato',), ('staccato',), ('up_steping',), ('staccato',), ('staccato',), ('staccato',), ('repeating',), ('up_leaping',), ('repeating',), ('repeating',), ('down_leaping',), ('leaping_twisting',), ('continuing_rhythm',), ('leaping_twisting',), ('staccato',), ('repeating',), ('down_leaping',), ('repeating',), ('repeating',), ('repeating',), ('staccato',), ('staccato',), ('staccato',), ('up_steping',), ('no skills',), ('steping_twisting',), ('steping_twisting',), ('up_steping',), ('no skills',), ('down_steping',), ('steping_twisting',), ('down_steping',), ('up_steping',), ('up_steping',), ('no skills',), ('up_leaping',), ('up_steping',), ('up_steping',), ('triplet',), ('leaping_twisting',), ('up_steping',), ('down_leaping',), ('repeating',), ('repeating',), ('repeating',), ('up_steping',), ('leaping_twisting',), ('repeating',), ('repeating',), ('repeating',), ('repeating',), ('repeating',), ('repeating',), ('up_steping',), ('leaping_twisting',), ('repeating',), ('no skills',), ('fast_rhythm',), ('leaping_twisting',), ('fast_rhythm',), ('fast_rhythm',), ('fast_rhythm',), ('fast_rhythm',), ('fast_rhythm',), ('fast_rhythm',), ('fast_rhythm',), ('fast_rhythm',), ('fast_rhythm',), ('fast_rhythm',), ('leaping_twisting',), ('staccato',), ('no skills',), ('staccato',), ('steping_twisting',), ('staccato',), ('up_steping',), ('staccato',), ('fast_rhythm',), ('fast_rhythm',), ('no skills',), ('staccato',), ('steping_twisting',), ('staccato',), ('up_steping',), ('staccato',), ('leaping_twisting',), ('leaping_twisting',), ('leaping_twisting',), ('staccato',), ('triplet',), ('staccato',), ('triplet',), ('staccato',), ('continuing_rhythm',), ('leaping_twisting',), ('leaping_twisting',), ('staccato',), ('down_leaping',), ('up_steping',), ('up_steping',), ('leaping_twisting',), ('leaping_twisting',), ('staccato',), ('no skills',), ('leaping_twisting',), ('up_leaping',), ('leaping_twisting',), ('up_leaping',), ('down_steping',), ('down_leaping',), ('up_steping',), ('leaping_twisting',), ('down_leaping',), ('leaping_twisting',), ('down_leaping',), ('leaping_twisting',), ('up_steping',), ('One_rhythm',), ('down_leaping',), ('up_steping',), ('up_steping',), ('triplet',), ('down_steping',), ('triplet',), ('up_steping',), ('down_steping',), ('down_steping',), ('One_rhythm',), ('triplet',), ('up_steping',), ('up_steping',), ('One_rhythm',), ('fast_rhythm',), ('triplet',), ('no skills',), ('up_steping',), ('down_leaping',), ('triplet',), ('repeating',), ('up_steping',), ('leaping_twisting',), ('up_steping',), ('staccato',), ('no skills',), ('no skills',), ('up_steping',), ('leaping_twisting',), ('no skills',), ('no skills',), ('up_steping',), ('no skills',), ('no skills',), ('no skills',), ('no skills',), ('leaping_twisting',), ('leaping_twisting',), ('up_steping',), ('leaping_twisting',), ('leaping_twisting',), ('leaping_twisting',), ('leaping_twisting',), ('leaping_twisting',), ('leaping_twisting',), ('leaping_twisting',), ('leaping_twisting',), ('leaping_twisting',), ('leaping_twisting',), ('leaping_twisting',), ('leaping_twisting',), ('triplet',), ('leaping_twisting',), ('leaping_twisting',), ('leaping_twisting',), ('leaping_twisting',), ('no skills',), ('leaping_twisting',), ('leaping_twisting',), ('leaping_twisting',), ('fast_rhythm',), ('no skills',), ('staccato',), ('fast_rhythm',), ('leaping_twisting',), ('leaping_twisting',), ('leaping_twisting',), ('leaping_twisting',), ('leaping_twisting',), ('no skills',), ('staccato',), ('leaping_twisting',), ('up_steping',), ('no skills',), ('up_steping',), ('repeating',), ('up_steping',), ('no skills',), ('up_steping',), ('repeating',), ('up_steping',), ('up_steping',), ('no skills',), ('repeating',), ('up_steping',), ('triplet',), ('triplet',), ('repeating',), ('up_steping',), ('up_steping',), ('triplet',), ('repeating',), ('up_steping',), ('up_steping',), ('triplet',), ('triplet',), ('leaping_twisting',), ('One_rhythm',), ('steping_twisting',), ('steping_twisting',), ('steping_twisting',), ('steping_twisting',), ('steping_twisting',), ('steping_twisting',), ('leaping_twisting',), ('One_rhythm',), ('steping_twisting',), ('steping_twisting',), ('steping_twisting',), ('One_rhythm',), ('down_steping',), ('One_rhythm',), ('One_rhythm',), ('leaping_twisting',), ('down_leaping',), ('steping_twisting',), ('steping_twisting',), ('steping_twisting',), ('steping_twisting',), ('steping_twisting',), ('One_rhythm',), ('continuing_rhythm',), ('One_rhythm',), ('staccato',), ('One_rhythm',), ('continuing_rhythm',), ('One_rhythm',), ('staccato',), ('staccato',), ('triplet',), ('staccato',), ('no skills',), ('staccato',), ('One_rhythm',), ('continuing_rhythm',), ('One_rhythm',), ('no skills',), ('up_steping',), ('up_steping',), ('triplet',), ('up_steping',), ('up_steping',), ('up_steping',), ('staccato',), ('staccato',), ('up_steping',), ('up_steping',), ('steping_twisting',), ('up_steping',), ('up_steping',), ('up_steping',), ('triplet',), ('up_steping',), ('fast_rhythm',), ('up_steping',), ('fast_rhythm',), ('up_steping',), ('fast_rhythm',), ('up_steping',), ('fast_rhythm',), ('fast_rhythm',), ('fast_rhythm',), ('up_steping',), ('fast_rhythm',), ('fast_rhythm',), ('steping_twisting',), ('leaping_twisting',), ('leaping_twisting',), ('leaping_twisting',), ('leaping_twisting',), ('leaping_twisting',), ('leaping_twisting',), ('leaping_twisting',), ('leaping_twisting',), ('leaping_twisting',), ('leaping_twisting',), ('leaping_twisting',), ('leaping_twisting',), ('triplet',), ('leaping_twisting',), ('leaping_twisting',), ('leaping_twisting',), ('leaping_twisting',), ('triplet',), ('leaping_twisting',), ('triplet',), ('leaping_twisting',), ('leaping_twisting',), ('up_steping',), ('up_steping',), ('up_steping',), ('up_steping',), ('up_steping',), ('up_steping',), ('up_steping',), ('up_steping',), ('up_steping',), ('up_steping',), ('up_steping',), ('up_steping',), ('up_steping',), ('up_steping',), ('leaping_twisting',), ('leaping_twisting',), ('leaping_twisting',), ('no skills',), ('up_steping',), ('no skills',), ('up_steping',), ('up_steping',), ('up_steping',), ('no skills',), ('up_steping',), ('up_steping',), ('up_steping',), ('leaping_twisting',), ('no skills',), ('leaping_twisting',), ('no skills',), ('leaping_twisting',), ('no skills',), ('leaping_twisting',), ('no skills',), ('leaping_twisting',), ('no skills',), ('up_leaping',), ('up_steping',), ('no skills',), ('no skills',), ('up_steping',), ('up_steping',), ('down_leaping',), ('no skills',), ('no skills',), ('up_steping',), ('triplet',), ('up_steping',), ('no skills',), ('up_leaping',), ('no skills',), ('down_leaping',), ('repeating',), ('staccato',), ('staccato',), ('staccato',), ('staccato',), ('repeating',), ('no skills',), ('down_leaping',), ('down_leaping',), ('down_leaping',), ('staccato',), ('staccato',), ('down_leaping',), ('up_steping',), ('repeating',), ('up_steping',), ('no skills',), ('One_rhythm',), ('One_rhythm',), ('One_rhythm',), ('One_rhythm',), ('repeating',), ('leaping_twisting',), ('One_rhythm',), ('up_steping',), ('leaping_twisting',), ('leaping_twisting',), ('One_rhythm',), ('up_steping',), ('leaping_twisting',), ('leaping_twisting',), ('One_rhythm',), ('One_rhythm',), ('repeating',), ('One_rhythm',), ('leaping_twisting',), ('leaping_twisting',), ('fast_rhythm',), ('repeating',), ('repeating',), ('repeating',), ('repeating',), ('repeating',), ('repeating',), ('repeating',), ('repeating',), ('repeating',), ('repeating',), ('repeating',), ('One_rhythm',), ('One_rhythm',), ('leaping_twisting',), ('leaping_twisting',), ('leaping_twisting',), ('leaping_twisting',), ('leaping_twisting',), ('leaping_twisting',), ('leaping_twisting',), ('leaping_twisting',), ('leaping_twisting',), ('leaping_twisting',), ('leaping_twisting',), ('leaping_twisting',), ('leaping_twisting',), ('leaping_twisting',), ('leaping_twisting',), ('leaping_twisting',), ('leaping_twisting',), ('leaping_twisting',), ('leaping_twisting',), ('leaping_twisting',), ('no skills',), ('no skills',), ('steping_twisting',), ('staccato',), ('no skills',), ('leaping_twisting',), ('down_leaping',), ('down_steping',), ('no skills',), ('leaping_twisting',), ('leaping_twisting',), ('continuing_rhythm',), ('One_rhythm',), ('leaping_twisting',), ('continuing_rhythm',), ('continuing_rhythm',), ('leaping_twisting',), ('leaping_twisting',), ('leaping_twisting',), ('leaping_twisting',), ('continuing_rhythm',), ('One_rhythm',), ('One_rhythm',), ('leaping_twisting',), ('leaping_twisting',), ('leaping_twisting',), ('no skills',), ('no skills',), ('leaping_twisting',), ('fast_rhythm',), ('fast_rhythm',), ('no skills',), ('up_leaping',), ('fast_rhythm',), ('fast_rhythm',), ('no skills',), ('up_leaping',), ('fast_rhythm',), ('fast_rhythm',), ('no skills',), ('up_leaping',), ('fast_rhythm',), ('fast_rhythm',), ('no skills',), ('up_leaping',), ('fast_rhythm',), ('fast_rhythm',), ('no skills',), ('up_leaping',), ('leaping_twisting',), ('leaping_twisting',), ('One_rhythm',), ('leaping_twisting',), ('leaping_twisting',), ('up_steping',), ('One_rhythm',), ('leaping_twisting',), ('leaping_twisting',), ('leaping_twisting',), ('triplet',), ('leaping_twisting',), ('leaping_twisting',), ('One_rhythm',), ('leaping_twisting',), ('up_steping',), ('leaping_twisting',), ('up_steping',), ('up_steping',), ('no skills',), ('up_steping',), ('triplet',), ('triplet',), ('no skills',), ('no skills',), ('up_steping',), ('triplet',), ('repeating',), ('no skills',), ('down_steping',), ('leaping_twisting',), ('leaping_twisting',), ('no skills',), ('One_rhythm',), ('leaping_twisting',), ('leaping_twisting',), ('no skills',), ('no skills',), ('One_rhythm',), ('leaping_twisting',), ('leaping_twisting',), ('fast_rhythm',), ('fast_rhythm',), ('leaping_twisting',), ('steping_twisting',), ('down_steping',), ('leaping_twisting',), ('down_leaping',), ('no skills',), ('repeating',), ('leaping_twisting',), ('down_leaping',), ('no skills',), ('repeating',), ('leaping_twisting',), ('down_leaping',), ('no skills',), ('repeating',), ('leaping_twisting',), ('down_leaping',), ('no skills',), ('repeating',), ('no skills',), ('no skills',), ('down_leaping',), ('no skills',), ('no skills',), ('no skills',), ('down_leaping',), ('no skills',), ('continuing_rhythm',), ('continuing_rhythm',), ('continuing_rhythm',), ('continuing_rhythm',), ('continuing_rhythm',), ('continuing_rhythm',), ('continuing_rhythm',), ('One_rhythm',), ('continuing_rhythm',), ('continuing_rhythm',), ('continuing_rhythm',), ('continuing_rhythm',), ('continuing_rhythm',), ('no skills',), ('down_leaping',), ('no skills',), ('up_steping',), ('up_steping',), ('up_steping',), ('up_steping',), ('no skills',), ('up_steping',), ('no skills',), ('no skills',), ('up_steping',), ('fast_rhythm',), ('fast_rhythm',), ('fast_rhythm',), ('fast_rhythm',), ('up_steping',), ('up_steping',), ('up_steping',), ('no skills',), ('no skills',), ('up_steping',), ('leaping_twisting',), ('staccato',), ('no skills',), ('up_steping',), ('no skills',), ('steping_twisting',), ('up_steping',), ('up_steping',), ('no skills',), ('no skills',), ('no skills',), ('no skills',), ('no skills',), ('up_steping',), ('up_leaping',), ('up_steping',), ('up_leaping',), ('up_steping',), ('up_leaping',), ('up_steping',), ('up_leaping',), ('up_steping',), ('up_leaping',), ('up_steping',), ('up_leaping',), ('up_steping',), ('leaping_twisting',), ('up_steping',), ('leaping_twisting',), ('up_steping',), ('leaping_twisting',), ('up_steping',), ('down_leaping',), ('continuing_rhythm',), ('up_leaping',), ('up_steping',), ('up_steping',), ('up_steping',), ('up_steping',), ('up_steping',), ('up_steping',), ('up_steping',), ('up_steping',), ('up_steping',), ('up_steping',), ('up_steping',), ('up_steping',), ('up_steping',), ('up_steping',), ('up_steping',), ('up_steping',), ('up_steping',), ('up_steping',), ('up_steping',), ('fast_rhythm',), ('repeating',), ('triplet',), ('repeating',), ('no skills',), ('triplet',), ('triplet',), ('leaping_twisting',), ('leaping_twisting',), ('continuing_rhythm',), ('leaping_twisting',), ('repeating',), ('down_leaping',), ('down_leaping',), ('down_leaping',), ('down_leaping',), ('down_leaping',), ('down_leaping',), ('down_leaping',), ('down_leaping',), ('down_leaping',), ('down_leaping',), ('leaping_twisting',), ('up_steping',), ('leaping_twisting',), ('down_leaping',), ('leaping_twisting',), ('up_steping',), ('down_leaping',), ('leaping_twisting',), ('down_leaping',), ('no skills',), ('up_steping',), ('repeating',), ('up_steping',), ('no skills',), ('up_steping',), ('up_leaping',), ('leaping_twisting',), ('repeating',), ('repeating',), ('no skills',), ('up_steping',), ('no skills',), ('leaping_twisting',), ('down_leaping',), ('no skills',), ('repeating',), ('up_leaping',), ('repeating',), ('leaping_twisting',), ('no skills',), ('leaping_twisting',), ('no skills',), ('up_leaping',), ('up_steping',), ('repeating',), ('repeating',), ('down_steping',), ('up_steping',), ('repeating',), ('up_steping',), ('repeating',), ('triplet',), ('repeating',), ('up_steping',), ('fast_rhythm',), ('repeating',), ('repeating',), ('repeating',), ('repeating',), ('repeating',), ('up_steping',), ('no skills',), ('fast_rhythm',), ('triplet',), ('triplet',), ('triplet',), ('triplet',), ('fast_rhythm',), ('fast_rhythm',), ('fast_rhythm',), ('fast_rhythm',), ('triplet',), ('fast_rhythm',), ('staccato',), ('fast_rhythm',), ('fast_rhythm',), ('up_steping',), ('fast_rhythm',), ('One_rhythm',), ('no skills',), ('no skills',), ('no skills',), ('no skills',), ('up_steping',), ('up_steping',), ('no skills',), ('fast_rhythm',), ('continuing_rhythm',), ('fast_rhythm',), ('no skills',), ('leaping_twisting',), ('leaping_twisting',), ('leaping_twisting',), ('leaping_twisting',), ('leaping_twisting',), ('leaping_twisting',), ('leaping_twisting',), ('leaping_twisting',), ('leaping_twisting',), ('leaping_twisting',), ('leaping_twisting',), ('leaping_twisting',), ('leaping_twisting',), ('leaping_twisting',), ('leaping_twisting',), ('leaping_twisting',), ('leaping_twisting',), ('no skills',), ('up_steping',), ('no skills',), ('One_rhythm',), ('continuing_rhythm',), ('One_rhythm',), ('One_rhythm',), ('One_rhythm',), ('continuing_rhythm',), ('up_steping',), ('leaping_twisting',), ('leaping_twisting',), ('triplet',), ('no skills',), ('down_leaping',), ('no skills',), ('no skills',), ('no skills',), ('up_leaping',), ('no skills',), ('no skills',), ('repeating',), ('down_leaping',), ('up_steping',), ('fast_rhythm',), ('fast_rhythm',), ('fast_rhythm',), ('fast_rhythm',), ('fast_rhythm',), ('fast_rhythm',), ('fast_rhythm',), ('no skills',), ('up_steping',), ('up_steping',), ('up_steping',), ('up_steping',), ('up_steping',), ('fast_rhythm',), ('no skills',), ('up_steping',), ('steping_twisting',), ('up_steping',), ('no skills',), ('up_steping',), ('triplet',), ('staccato',), ('no skills',), ('no skills',), ('leaping_twisting',), ('up_steping',), ('leaping_twisting',), ('no skills',), ('leaping_twisting',), ('leaping_twisting',), ('down_leaping',), ('leaping_twisting',), ('up_leaping',), ('down_leaping',), ('leaping_twisting',), ('repeating',), ('repeating',), ('up_steping',), ('staccato',), ('triplet',), ('no skills',), ('One_rhythm',), ('no skills',), ('no skills',), ('down_steping',), ('staccato',), ('up_steping',), ('staccato',), ('up_steping',), ('up_steping',), ('up_steping',), ('no skills',), ('repeating',), ('leaping_twisting',), ('up_steping',), ('up_steping',), ('repeating',), ('repeating',), ('up_steping',), ('up_steping',), ('fast_rhythm',), ('up_steping',), ('no skills',), ('no skills',), ('no skills',), ('up_steping',), ('repeating',), ('down_leaping',), ('down_leaping',), ('down_steping',), ('down_leaping',), ('leaping_twisting',), ('fast_rhythm',), ('up_leaping',), ('up_steping',), ('leaping_twisting',), ('up_steping',), ('down_leaping',), ('up_steping',), ('leaping_twisting',), ('up_steping',), ('down_steping',), ('down_leaping',), ('down_leaping',), ('up_steping',), ('fast_rhythm',), ('fast_rhythm',), ('fast_rhythm',), ('fast_rhythm',), ('down_leaping',), ('staccato',), ('no skills',), ('up_steping',), ('fast_rhythm',), ('fast_rhythm',), ('steping_twisting',), ('up_steping',), ('fast_rhythm',), ('triplet',), ('fast_rhythm',), ('triplet',), ('leaping_twisting',), ('leaping_twisting',), ('triplet',), ('no skills',), ('triplet',), ('leaping_twisting',), ('continuing_rhythm',), ('triplet',), ('continuing_rhythm',), ('up_steping',), ('up_leaping',), ('down_leaping',), ('One_rhythm',), ('down_leaping',), ('up_steping',), ('continuing_rhythm',), ('up_leaping',), ('triplet',), ('no skills',), ('continuing_rhythm',), ('continuing_rhythm',), ('continuing_rhythm',), ('continuing_rhythm',), ('down_leaping',), ('down_leaping',), ('down_leaping',), ('no skills',), ('no skills',), ('no skills',), ('no skills',), ('no skills',), ('no skills',), ('no skills',), ('no skills',), ('no skills',), ('no skills',), ('no skills',), ('no skills',), ('no skills',), ('continuing_rhythm',), ('continuing_rhythm',), ('no skills',), ('continuing_rhythm',), ('continuing_rhythm',), ('continuing_rhythm',), ('no skills',), ('continuing_rhythm',), ('continuing_rhythm',), ('continuing_rhythm',), ('continuing_rhythm',), ('fast_rhythm',), ('no skills',), ('fast_rhythm',), ('up_leaping',), ('triplet',), ('staccato',), ('triplet',), ('staccato',), ('triplet',), ('staccato',), ('triplet',), ('staccato',), ('no skills',), ('repeating',), ('repeating',), ('triplet',), ('repeating',), ('down_leaping',), ('leaping_twisting',), ('continuing_rhythm',), ('leaping_twisting',), ('continuing_rhythm',), ('no skills',), ('leaping_twisting',), ('leaping_twisting',), ('leaping_twisting',), ('leaping_twisting',), ('up_steping',), ('fast_rhythm',), ('up_steping',), ('fast_rhythm',), ('fast_rhythm',), ('repeating',), ('One_rhythm',), ('steping_twisting',), ('continuing_rhythm',), ('leaping_twisting',), ('fast_rhythm',), ('leaping_twisting',), ('fast_rhythm',), ('down_steping',), ('down_leaping',), ('repeating',), ('down_leaping',), ('up_leaping',), ('down_leaping',), ('One_rhythm',), ('continuing_rhythm',), ('up_steping',), ('down_leaping',), ('continuing_rhythm',), ('continuing_rhythm',), ('up_steping',), ('up_steping',), ('continuing_rhythm',), ('staccato',), ('repeating',), ('staccato',), ('repeating',), ('staccato',), ('repeating',), ('staccato',), ('repeating',), ('staccato',), ('staccato',), ('staccato',), ('staccato',), ('staccato',), ('repeating',), ('repeating',), ('repeating',), ('staccato',), ('up_steping',), ('down_steping',), ('down_steping',), ('down_leaping',), ('up_steping',), ('leaping_twisting',), ('up_steping',), ('leaping_twisting',), ('down_steping',), ('staccato',), ('leaping_twisting',), ('down_steping',), ('up_steping',), ('up_steping',), ('no skills',), ('no skills',), ('repeating',), ('repeating',), ('repeating',), ('repeating',), ('repeating',), ('fast_rhythm',), ('repeating',), ('repeating',), ('fast_rhythm',), ('fast_rhythm',), ('repeating',), ('fast_rhythm',), ('repeating',), ('repeating',), ('repeating',), ('repeating',), ('repeating',), ('repeating',), ('repeating',), ('repeating',), ('repeating',), ('down_leaping',), ('up_leaping',), ('down_leaping',), ('down_leaping',), ('down_leaping',), ('down_leaping',), ('down_leaping',), ('down_leaping',), ('down_leaping',), ('down_leaping',), ('down_leaping',), ('down_leaping',), ('down_leaping',), ('down_leaping',), ('down_leaping',), ('down_leaping',), ('down_leaping',), ('no skills',), ('staccato',), ('up_steping',), ('down_steping',), ('up_steping',), ('staccato',), ('up_steping',), ('staccato',), ('triplet',), ('down_steping',), ('up_steping',), ('leaping_twisting',), ('up_steping',), ('triplet',), ('leaping_twisting',), ('no skills',), ('up_steping',), ('up_steping',), ('steping_twisting',), ('up_steping',), ('leaping_twisting',), ('leaping_twisting',), ('leaping_twisting',), ('leaping_twisting',), ('leaping_twisting',), ('leaping_twisting',), ('leaping_twisting',), ('up_leaping',), ('down_leaping',), ('staccato',), ('down_leaping',), ('leaping_twisting',), ('leaping_twisting',), ('leaping_twisting',), ('leaping_twisting',), ('staccato',), ('up_steping',), ('up_leaping',), ('leaping_twisting',), ('up_leaping',), ('leaping_twisting',), ('down_leaping',), ('down_leaping',), ('up_leaping',), ('no skills',), ('down_steping',), ('up_leaping',), ('triplet',), ('up_steping',), ('no skills',), ('triplet',), ('down_leaping',), ('leaping_twisting',), ('triplet',), ('up_steping',), ('down_steping',), ('steping_twisting',), ('no skills',), ('no skills',), ('down_leaping',), ('up_steping',), ('no skills',), ('up_steping',), ('no skills',), ('steping_twisting',), ('down_steping',), ('down_leaping',), ('up_leaping',), ('no skills',), ('up_leaping',), ('down_steping',), ('up_leaping',), ('no skills',), ('no skills',), ('up_leaping',), ('leaping_twisting',), ('down_steping',), ('up_steping',), ('up_steping',), ('leaping_twisting',), ('up_steping',), ('leaping_twisting',), ('down_leaping',), ('staccato',), ('triplet',), ('staccato',), ('triplet',), ('staccato',), ('triplet',), ('staccato',), ('triplet',), ('staccato',), ('triplet',), ('staccato',), ('triplet',), ('no skills',), ('leaping_twisting',), ('no skills',), ('staccato',), ('triplet',), ('up_steping',), ('leaping_twisting',), ('up_steping',), ('up_steping',), ('up_steping',), ('leaping_twisting',), ('leaping_twisting',), ('up_steping',), ('up_steping',), ('leaping_twisting',), ('up_steping',), ('up_steping',), ('up_steping',), ('up_steping',), ('leaping_twisting',), ('up_steping',), ('up_steping',), ('up_steping',), ('continuing_rhythm',), ('leaping_twisting',), ('leaping_twisting',), ('triplet',), ('leaping_twisting',), ('no skills',), ('down_leaping',), ('leaping_twisting',), ('leaping_twisting',), ('leaping_twisting',), ('down_leaping',), ('leaping_twisting',), ('fast_rhythm',), ('no skills',), ('leaping_twisting',), ('fast_rhythm',), ('fast_rhythm',), ('leaping_twisting',), ('leaping_twisting',), ('leaping_twisting',), ('leaping_twisting',), ('leaping_twisting',), ('leaping_twisting',), ('leaping_twisting',), ('leaping_twisting',), ('leaping_twisting',), ('leaping_twisting',), ('leaping_twisting',), ('leaping_twisting',), ('leaping_twisting',), ('leaping_twisting',), ('leaping_twisting',), ('no skills',), ('leaping_twisting',), ('down_leaping',), ('down_leaping',), ('staccato',), ('down_leaping',), ('triplet',), ('down_leaping',), ('up_steping',), ('triplet',), ('down_leaping',), ('down_leaping',), ('no skills',), ('no skills',), ('no skills',), ('no skills',), ('triplet',), ('triplet',), ('leaping_twisting',), ('no skills',), ('no skills',), ('triplet',), ('no skills',), ('steping_twisting',), ('down_steping',), ('fast_rhythm',), ('down_leaping',), ('no skills',), ('staccato',), ('steping_twisting',), ('no skills',), ('down_steping',), ('repeating',), ('no skills',), ('staccato',), ('no skills',), ('steping_twisting',), ('repeating',), ('staccato',), ('no skills',), ('repeating',), ('One_rhythm',), ('up_steping',), ('One_rhythm',), ('One_rhythm',), ('One_rhythm',), ('repeating',), ('no skills',), ('no skills',), ('no skills',), ('down_steping',), ('One_rhythm',), ('up_steping',), ('One_rhythm',), ('up_steping',), ('One_rhythm',), ('One_rhythm',), ('One_rhythm',), ('repeating',), ('One_rhythm',), ('up_steping',), ('One_rhythm',), ('up_steping',), ('leaping_twisting',), ('staccato',), ('leaping_twisting',), ('leaping_twisting',), ('leaping_twisting',), ('staccato',), ('leaping_twisting',), ('leaping_twisting',), ('leaping_twisting',), ('staccato',), ('leaping_twisting',), ('leaping_twisting',), ('leaping_twisting',), ('up_leaping',), ('down_steping',), ('no skills',), ('no skills',), ('down_leaping',), ('triplet',), ('no skills',), ('no skills',), ('steping_twisting',), ('down_steping',), ('steping_twisting',), ('down_steping',), ('down_leaping',), ('up_steping',), ('no skills',), ('no skills',), ('up_steping',), ('up_leaping',), ('leaping_twisting',), ('leaping_twisting',), ('leaping_twisting',), ('leaping_twisting',), ('leaping_twisting',), ('up_leaping',), ('leaping_twisting',), ('up_leaping',), ('leaping_twisting',), ('leaping_twisting',), ('leaping_twisting',), ('leaping_twisting',), ('leaping_twisting',), ('up_leaping',), ('leaping_twisting',), ('up_leaping',), ('leaping_twisting',), ('leaping_twisting',), ('leaping_twisting',), ('no skills',), ('staccato',), ('staccato',), ('staccato',), ('staccato',), ('staccato',), ('staccato',), ('up_leaping',), ('up_leaping',), ('staccato',), ('up_leaping',), ('repeating',), ('leaping_twisting',), ('leaping_twisting',), ('leaping_twisting',), ('leaping_twisting',), ('down_leaping',), ('leaping_twisting',), ('leaping_twisting',), ('up_leaping',), ('leaping_twisting',), ('leaping_twisting',), ('down_leaping',), ('leaping_twisting',), ('down_leaping',), ('leaping_twisting',), ('up_leaping',), ('leaping_twisting',), ('leaping_twisting',), ('down_leaping',), ('repeating',), ('leaping_twisting',), ('no skills',), ('repeating',), ('repeating',), ('staccato',), ('staccato',), ('staccato',), ('staccato',), ('staccato',), ('up_leaping',), ('staccato',), ('staccato',), ('up_leaping',), ('no skills',), ('triplet',), ('leaping_twisting',), ('no skills',), ('up_leaping',), ('triplet',), ('One_rhythm',), ('leaping_twisting',), ('up_leaping',), ('leaping_twisting',), ('One_rhythm',), ('leaping_twisting',), ('down_leaping',), ('down_leaping',), ('down_leaping',), ('leaping_twisting',), ('up_leaping',), ('triplet',), ('up_leaping',), ('no skills',), ('up_leaping',), ('down_leaping',), ('leaping_twisting',), ('leaping_twisting',), ('leaping_twisting',), ('up_leaping',), ('up_leaping',), ('leaping_twisting',), ('leaping_twisting',), ('leaping_twisting',), ('up_leaping',), ('down_leaping',), ('leaping_twisting',), ('leaping_twisting',), ('no skills',), ('up_leaping',), ('no skills',), ('no skills',), ('no skills',), ('staccato',), ('staccato',), ('no skills',), ('no skills',), ('staccato',), ('staccato',), ('staccato',), ('staccato',), ('staccato',), ('staccato',), ('staccato',), ('staccato',), ('staccato',), ('staccato',), ('no skills',), ('no skills',), ('no skills',), ('staccato',), ('repeating',), ('up_steping',), ('up_steping',), ('triplet',), ('up_steping',), ('leaping_twisting',), ('up_steping',), ('down_steping',), ('no skills',), ('continuing_rhythm',), ('triplet',), ('steping_twisting',), ('no skills',), ('leaping_twisting',), ('leaping_twisting',), ('up_leaping',), ('steping_twisting',), ('down_steping',), ('up_leaping',), ('no skills',), ('up_leaping',), ('leaping_twisting',), ('no skills',), ('continuing_rhythm',), ('continuing_rhythm',), ('down_steping',), ('no skills',), ('repeating',), ('up_leaping',), ('down_steping',), ('no skills',), ('up_steping',), ('up_leaping',), ('staccato',), ('leaping_twisting',), ('leaping_twisting',), ('up_leaping',), ('staccato',), ('up_leaping',), ('down_leaping',), ('up_leaping',), ('up_steping',), ('leaping_twisting',), ('leaping_twisting',), ('up_steping',), ('leaping_twisting',), ('staccato',), ('leaping_twisting',), ('leaping_twisting',), ('staccato',), ('staccato',), ('staccato',), ('up_leaping',), ('staccato',), ('staccato',), ('staccato',), ('leaping_twisting',), ('leaping_twisting',), ('staccato',), ('leaping_twisting',), ('leaping_twisting',), ('staccato',), ('no skills',), ('fast_rhythm',), ('triplet',), ('triplet',), ('no skills',), ('fast_rhythm',), ('up_steping',), ('no skills',), ('triplet',), ('no skills',), ('triplet',), ('no skills',), ('One_rhythm',), ('One_rhythm',), ('up_leaping',), ('One_rhythm',), ('One_rhythm',), ('One_rhythm',), ('One_rhythm',), ('One_rhythm',), ('One_rhythm',), ('One_rhythm',), ('One_rhythm',), ('One_rhythm',), ('One_rhythm',), ('One_rhythm',), ('One_rhythm',), ('One_rhythm',), ('no skills',), ('up_steping',), ('down_leaping',), ('no skills',), ('no skills',), ('up_steping',), ('continuing_rhythm',), ('continuing_rhythm',), ('triplet',), ('continuing_rhythm',), ('triplet',), ('no skills',), ('no skills',), ('continuing_rhythm',), ('repeating',), ('no skills',), ('no skills',), ('no skills',), ('fast_rhythm',), ('leaping_twisting',), ('continuing_rhythm',), ('fast_rhythm',), ('fast_rhythm',), ('leaping_twisting',), ('continuing_rhythm',), ('fast_rhythm',), ('fast_rhythm',), ('leaping_twisting',), ('continuing_rhythm',), ('triplet',), ('staccato',), ('staccato',), ('staccato',), ('staccato',), ('staccato',), ('staccato',), ('staccato',), ('staccato',), ('staccato',), ('staccato',), ('staccato',), ('staccato',), ('staccato',), ('staccato',), ('no skills',), ('no skills',), ('continuing_rhythm',), ('repeating',), ('repeating',), ('no skills',), ('up_steping',), ('leaping_twisting',), ('down_leaping',), ('down_leaping',), ('down_leaping',), ('down_leaping',), ('no skills',), ('triplet',), ('leaping_twisting',), ('triplet',), ('staccato',), ('no skills',), ('down_leaping',), ('up_steping',), ('triplet',), ('no skills',), ('down_steping',), ('staccato',), ('down_steping',), ('up_steping',), ('up_steping',), ('up_steping',), ('down_steping',), ('no skills',), ('up_steping',), ('no skills',), ('down_steping',), ('up_steping',), ('repeating',), ('up_steping',), ('leaping_twisting',), ('up_steping',), ('steping_twisting',), ('no skills',), ('up_steping',), ('steping_twisting',), ('staccato',), ('staccato',), ('leaping_twisting',), ('triplet',), ('up_steping',), ('no skills',), ('down_leaping',), ('up_steping',), ('steping_twisting',), ('up_steping',), ('up_steping',), ('no skills',), ('up_leaping',), ('down_leaping',), ('down_leaping',), ('down_leaping',), ('up_leaping',), ('leaping_twisting',), ('down_leaping',), ('down_leaping',), ('up_leaping',), ('down_leaping',), ('down_leaping',), ('leaping_twisting',), ('down_leaping',), ('up_leaping',), ('down_leaping',), ('up_leaping',), ('One_rhythm',), ('continuing_rhythm',), ('One_rhythm',), ('continuing_rhythm',), ('down_leaping',), ('triplet',), ('triplet',), ('down_steping',), ('triplet',), ('triplet',), ('triplet',), ('triplet',), ('staccato',), ('up_steping',), ('up_steping',), ('staccato',), ('up_steping',), ('triplet',), ('staccato',), ('no skills',), ('leaping_twisting',), ('no skills',), ('no skills',), ('leaping_twisting',), ('leaping_twisting',), ('leaping_twisting',), ('leaping_twisting',), ('no skills',), ('leaping_twisting',), ('no skills',), ('leaping_twisting',), ('staccato',), ('repeating',), ('staccato',), ('staccato',), ('staccato',), ('staccato',), ('staccato',), ('staccato',), ('staccato',), ('staccato',), ('staccato',), ('staccato',), ('up_steping',), ('staccato',), ('up_steping',), ('staccato',), ('up_steping',), ('no skills',), ('fast_rhythm',), ('fast_rhythm',), ('staccato',), ('staccato',), ('fast_rhythm',), ('fast_rhythm',), ('staccato',), ('staccato',), ('staccato',), ('no skills',), ('down_leaping',), ('fast_rhythm',), ('leaping_twisting',), ('fast_rhythm',), ('leaping_twisting',), ('fast_rhythm',), ('fast_rhythm',), ('fast_rhythm',), ('fast_rhythm',), ('repeating',), ('repeating',), ('repeating',), ('repeating',), ('repeating',), ('repeating',), ('up_steping',), ('repeating',), ('up_steping',), ('up_steping',), ('down_leaping',), ('steping_twisting',), ('no skills',), ('fast_rhythm',), ('fast_rhythm',), ('fast_rhythm',), ('fast_rhythm',), ('fast_rhythm',), ('fast_rhythm',), ('continuing_rhythm',), ('fast_rhythm',), ('fast_rhythm',), ('fast_rhythm',), ('fast_rhythm',), ('continuing_rhythm',), ('fast_rhythm',), ('fast_rhythm',), ('fast_rhythm',), ('fast_rhythm',), ('fast_rhythm',), ('continuing_rhythm',), ('fast_rhythm',), ('continuing_rhythm',), ('leaping_twisting',), ('fast_rhythm',), ('leaping_twisting',), ('leaping_twisting',), ('leaping_twisting',), ('fast_rhythm',), ('no skills',), ('fast_rhythm',), ('fast_rhythm',), ('fast_rhythm',), ('fast_rhythm',), ('fast_rhythm',), ('fast_rhythm',), ('fast_rhythm',), ('fast_rhythm',), ('fast_rhythm',), ('fast_rhythm',), ('fast_rhythm',), ('no skills',), ('up_steping',), ('up_steping',), ('up_steping',), ('up_steping',), ('up_steping',), ('repeating',), ('up_steping',), ('up_steping',), ('up_steping',), ('up_steping',), ('up_steping',), ('up_steping',), ('up_steping',), ('up_steping',), ('no skills',), ('One_rhythm',), ('up_steping',), ('repeating',), ('up_steping',), ('up_steping',), ('repeating',), ('up_steping',), ('up_steping',), ('no skills',), ('no skills',), ('no skills',), ('leaping_twisting',), ('no skills',), ('up_steping',), ('up_steping',), ('no skills',), ('no skills',), ('no skills',), ('no skills',), ('no skills',), ('no skills',), ('no skills',), ('up_steping',), ('no skills',), ('up_steping',), ('up_steping',), ('up_steping',), ('no skills',), ('fast_rhythm',), ('One_rhythm',), ('repeating',), ('leaping_twisting',), ('leaping_twisting',), ('leaping_twisting',), ('leaping_twisting',), ('no skills',), ('up_steping',), ('down_leaping',), ('leaping_twisting',), ('down_leaping',), ('leaping_twisting',), ('no skills',), ('leaping_twisting',), ('no skills',), ('no skills',), ('leaping_twisting',), ('leaping_twisting',), ('leaping_twisting',), ('leaping_twisting',), ('leaping_twisting',), ('leaping_twisting',), ('leaping_twisting',), ('leaping_twisting',), ('leaping_twisting',), ('leaping_twisting',), ('leaping_twisting',), ('leaping_twisting',), ('leaping_twisting',), ('leaping_twisting',), ('no skills',), ('leaping_twisting',), ('leaping_twisting',), ('triplet',), ('leaping_twisting',), ('leaping_twisting',), ('leaping_twisting',), ('leaping_twisting',), ('leaping_twisting',), ('leaping_twisting',), ('leaping_twisting',), ('leaping_twisting',), ('leaping_twisting',), ('fast_rhythm',), ('down_leaping',), ('leaping_twisting',), ('leaping_twisting',), ('leaping_twisting',), ('leaping_twisting',), ('leaping_twisting',), ('leaping_twisting',), ('leaping_twisting',), ('leaping_twisting',), ('leaping_twisting',), ('leaping_twisting',), ('leaping_twisting',), ('leaping_twisting',), ('leaping_twisting',), ('leaping_twisting',), ('leaping_twisting',), ('leaping_twisting',), ('down_leaping',), ('no skills',), ('leaping_twisting',), ('leaping_twisting',), ('leaping_twisting',), ('leaping_twisting',), ('leaping_twisting',), ('leaping_twisting',), ('One_rhythm',), ('One_rhythm',), ('leaping_twisting',), ('leaping_twisting',), ('leaping_twisting',), ('One_rhythm',), ('leaping_twisting',), ('leaping_twisting',), ('leaping_twisting',), ('leaping_twisting',), ('no skills',), ('fast_rhythm',), ('steping_twisting',), ('leaping_twisting',), ('fast_rhythm',), ('fast_rhythm',), ('leaping_twisting',), ('leaping_twisting',), ('no skills',), ('leaping_twisting',), ('leaping_twisting',), ('leaping_twisting',), ('One_rhythm',), ('leaping_twisting',), ('leaping_twisting',), ('leaping_twisting',), ('leaping_twisting',), ('leaping_twisting',), ('leaping_twisting',), ('leaping_twisting',), ('leaping_twisting',), ('leaping_twisting',), ('leaping_twisting',), ('leaping_twisting',), ('leaping_twisting',), ('up_steping',), ('leaping_twisting',), ('continuing_rhythm',), ('leaping_twisting',), ('no skills',), ('leaping_twisting',), ('leaping_twisting',), ('leaping_twisting',), ('no skills',), ('leaping_twisting',), ('no skills',), ('fast_rhythm',), ('no skills',), ('fast_rhythm',), ('no skills',), ('fast_rhythm',), ('no skills',), ('fast_rhythm',), ('no skills',), ('no skills',), ('no skills',), ('repeating',), ('repeating',), ('repeating',), ('repeating',), ('up_leaping',), ('One_rhythm',), ('up_steping',), ('down_steping',), ('down_leaping',), ('One_rhythm',), ('leaping_twisting',), ('steping_twisting',), ('up_leaping',), ('leaping_twisting',), ('up_leaping',), ('triplet',), ('down_steping',), ('leaping_twisting',), ('down_steping',), ('up_steping',), ('One_rhythm',), ('One_rhythm',), ('up_leaping',), ('repeating',), ('staccato',), ('fast_rhythm',), ('fast_rhythm',), ('fast_rhythm',), ('fast_rhythm',), ('fast_rhythm',), ('fast_rhythm',), ('fast_rhythm',), ('fast_rhythm',), ('up_steping',), ('fast_rhythm',), ('repeating',), ('fast_rhythm',), ('fast_rhythm',), ('fast_rhythm',), ('repeating',), ('staccato',), ('fast_rhythm',), ('staccato',), ('staccato',), ('fast_rhythm',), ('staccato',), ('fast_rhythm',), ('staccato',), ('staccato',), ('fast_rhythm',), ('fast_rhythm',), ('fast_rhythm',), ('fast_rhythm',), ('staccato',), ('up_steping',), ('fast_rhythm',), ('fast_rhythm',), ('fast_rhythm',), ('fast_rhythm',), ('fast_rhythm',), ('up_steping',), ('triplet',), ('staccato',), ('triplet',), ('up_steping',), ('up_steping',), ('fast_rhythm',), ('fast_rhythm',), ('fast_rhythm',), ('fast_rhythm',), ('fast_rhythm',), ('fast_rhythm',), ('triplet',), ('no skills',), ('triplet',), ('repeating',), ('repeating',), ('no skills',), ('triplet',), ('triplet',), ('leaping_twisting',), ('triplet',), ('staccato',), ('staccato',), ('leaping_twisting',), ('leaping_twisting',), ('repeating',), ('staccato',), ('staccato',), ('triplet',), ('triplet',), ('triplet',), ('repeating',), ('fast_rhythm',), ('fast_rhythm',), ('fast_rhythm',), ('fast_rhythm',), ('leaping_twisting',), ('fast_rhythm',), ('fast_rhythm',), ('fast_rhythm',), ('fast_rhythm',), ('fast_rhythm',), ('leaping_twisting',), ('leaping_twisting',), ('leaping_twisting',), ('fast_rhythm',), ('fast_rhythm',), ('fast_rhythm',), ('leaping_twisting',), ('fast_rhythm',), ('fast_rhythm',), ('fast_rhythm',), ('leaping_twisting',), ('One_rhythm',), ('leaping_twisting',), ('continuing_rhythm',), ('continuing_rhythm',), ('continuing_rhythm',), ('up_steping',), ('down_leaping',), ('down_leaping',), ('leaping_twisting',), ('down_leaping',), ('down_leaping',), ('down_leaping',), ('down_leaping',), ('leaping_twisting',), ('staccato',), ('staccato',), ('repeating',), ('leaping_twisting',), ('staccato',), ('staccato',), ('no skills',), ('down_leaping',), ('leaping_twisting',), ('leaping_twisting',), ('leaping_twisting',), ('up_leaping',), ('down_leaping',), ('up_leaping',), ('down_leaping',), ('up_leaping',), ('leaping_twisting',), ('leaping_twisting',), ('leaping_twisting',), ('up_leaping',), ('down_leaping',), ('up_leaping',), ('down_leaping',), ('up_leaping',), ('no skills',), ('fast_rhythm',), ('up_steping',), ('fast_rhythm',), ('up_steping',), ('fast_rhythm',), ('fast_rhythm',), ('continuing_rhythm',), ('fast_rhythm',), ('fast_rhythm',), ('repeating',), ('fast_rhythm',), ('repeating',), ('fast_rhythm',), ('staccato',), ('up_steping',), ('staccato',), ('staccato',), ('staccato',), ('staccato',), ('staccato',), ('staccato',), ('staccato',), ('staccato',), ('staccato',), ('staccato',), ('up_steping',), ('up_steping',), ('steping_twisting',), ('no skills',), ('leaping_twisting',), ('no skills',), ('up_steping',), ('repeating',), ('up_steping',), ('down_steping',), ('up_leaping',), ('triplet',), ('down_leaping',), ('no skills',), ('up_steping',), ('up_steping',), ('up_steping',), ('no skills',), ('leaping_twisting',), ('leaping_twisting',), ('One_rhythm',), ('leaping_twisting',), ('One_rhythm',), ('leaping_twisting',), ('leaping_twisting',), ('leaping_twisting',), ('leaping_twisting',), ('leaping_twisting',), ('leaping_twisting',), ('leaping_twisting',), ('One_rhythm',), ('leaping_twisting',), ('One_rhythm',), ('leaping_twisting',), ('no skills',), ('leaping_twisting',), ('One_rhythm',), ('leaping_twisting',), ('leaping_twisting',), ('leaping_twisting',), ('leaping_twisting',), ('leaping_twisting',), ('down_leaping',), ('no skills',), ('fast_rhythm',), ('staccato',), ('repeating',), ('staccato',), ('staccato',), ('staccato',), ('staccato',), ('triplet',), ('staccato',), ('leaping_twisting',), ('leaping_twisting',), ('leaping_twisting',), ('leaping_twisting',), ('leaping_twisting',), ('leaping_twisting',), ('leaping_twisting',), ('leaping_twisting',), ('leaping_twisting',), ('leaping_twisting',), ('leaping_twisting',), ('leaping_twisting',), ('leaping_twisting',), ('leaping_twisting',), ('leaping_twisting',), ('leaping_twisting',), ('leaping_twisting',), ('leaping_twisting',), ('leaping_twisting',), ('leaping_twisting',), ('leaping_twisting',), ('triplet',), ('staccato',), ('triplet',), ('staccato',), ('staccato',), ('staccato',), ('repeating',), ('fast_rhythm',), ('leaping_twisting',), ('leaping_twisting',), ('fast_rhythm',), ('fast_rhythm',), ('fast_rhythm',), ('fast_rhythm',), ('staccato',), ('staccato',), ('fast_rhythm',), ('fast_rhythm',), ('up_steping',), ('no skills',), ('up_steping',), ('no skills',), ('up_steping',), ('no skills',), ('leaping_twisting',), ('One_rhythm',), ('leaping_twisting',), ('One_rhythm',), ('leaping_twisting',), ('One_rhythm',), ('leaping_twisting',), ('One_rhythm',), ('leaping_twisting',), ('One_rhythm',), ('leaping_twisting',), ('One_rhythm',), ('leaping_twisting',), ('One_rhythm',), ('leaping_twisting',), ('One_rhythm',), ('leaping_twisting',), ('One_rhythm',), ('leaping_twisting',), ('down_leaping',), ('leaping_twisting',), ('leaping_twisting',), ('leaping_twisting',), ('leaping_twisting',), ('continuing_rhythm',), ('continuing_rhythm',), ('leaping_twisting',), ('leaping_twisting',), ('leaping_twisting',), ('leaping_twisting',), ('leaping_twisting',), ('leaping_twisting',), ('continuing_rhythm',), ('continuing_rhythm',), ('leaping_twisting',), ('leaping_twisting',), ('leaping_twisting',), ('leaping_twisting',), ('leaping_twisting',), ('leaping_twisting',), ('up_steping',), ('up_leaping',), ('up_steping',), ('no skills',), ('up_steping',), ('up_leaping',), ('up_steping',), ('no skills',), ('up_steping',), ('up_leaping',), ('up_steping',), ('no skills',), ('up_steping',), ('up_leaping',), ('up_steping',), ('no skills',), ('up_steping',), ('down_leaping',), ('down_leaping',), ('down_leaping',), ('down_leaping',), ('down_leaping',), ('down_leaping',), ('down_leaping',), ('down_leaping',), ('leaping_twisting',), ('leaping_twisting',), ('staccato',), ('staccato',), ('leaping_twisting',), ('staccato',), ('leaping_twisting',), ('staccato',), ('repeating',), ('down_steping',), ('continuing_rhythm',), ('down_steping',), ('no skills',), ('continuing_rhythm',), ('continuing_rhythm',), ('up_steping',), ('no skills',), ('continuing_rhythm',), ('steping_twisting',), ('fast_rhythm',), ('fast_rhythm',), ('fast_rhythm',), ('fast_rhythm',), ('fast_rhythm',), ('up_steping',), ('down_leaping',), ('up_steping',), ('up_steping',), ('no skills',), ('up_leaping',), ('no skills',), ('no skills',), ('no skills',), ('no skills',), ('up_steping',), ('up_steping',), ('down_leaping',), ('no skills',), ('staccato',), ('no skills',), ('staccato',), ('staccato',), ('staccato',), ('staccato',), ('staccato',), ('no skills',), ('staccato',), ('down_leaping',), ('staccato',), ('up_leaping',), ('staccato',), ('staccato',), ('no skills',), ('staccato',), ('staccato',), ('staccato',), ('staccato',), ('staccato',), ('staccato',), ('staccato',), ('staccato',), ('staccato',), ('staccato',), ('staccato',), ('staccato',), ('staccato',), ('staccato',), ('staccato',), ('staccato',), ('staccato',), ('staccato',), ('staccato',), ('staccato',), ('staccato',), ('staccato',), ('staccato',), ('staccato',), ('staccato',), ('staccato',), ('staccato',), ('staccato',), ('staccato',), ('staccato',), ('staccato',), ('staccato',), ('staccato',), ('staccato',), ('staccato',), ('staccato',), ('no skills',), ('repeating',), ('up_steping',), ('down_leaping',), ('up_steping',), ('repeating',), ('up_steping',), ('repeating',), ('repeating',), ('no skills',), ('down_steping',), ('repeating',), ('up_steping',), ('repeating',), ('up_steping',), ('repeating',), ('repeating',), ('no skills',), ('down_steping',), ('repeating',), ('up_steping',), ('repeating',), ('up_steping',), ('repeating',), ('repeating',), ('repeating',), ('up_steping',), ('down_steping',), ('leaping_twisting',), ('repeating',), ('repeating',), ('up_steping',), ('repeating',), ('up_leaping',), ('repeating',), ('repeating',), ('repeating',), ('repeating',), ('repeating',), ('up_leaping',), ('repeating',), ('leaping_twisting',), ('down_steping',), ('repeating',), ('up_leaping',), ('repeating',), ('leaping_twisting',), ('leaping_twisting',), ('staccato',), ('up_leaping',), ('leaping_twisting',), ('down_leaping',), ('no skills',), ('no skills',), ('repeating',), ('no skills',), ('up_steping',), ('no skills',), ('One_rhythm',), ('One_rhythm',), ('One_rhythm',), ('One_rhythm',), ('One_rhythm',), ('One_rhythm',), ('One_rhythm',), ('One_rhythm',), ('leaping_twisting',), ('staccato',), ('up_steping',), ('down_steping',), ('down_steping',), ('continuing_rhythm',), ('continuing_rhythm',), ('down_leaping',), ('staccato',), ('staccato',), ('no skills',), ('no skills',), ('staccato',), ('repeating',), ('staccato',), ('repeating',), ('repeating',), ('repeating',), ('repeating',), ('staccato',), ('repeating',), ('fast_rhythm',), ('repeating',), ('staccato',), ('fast_rhythm',), ('fast_rhythm',), ('repeating',), ('staccato',), ('repeating',), ('no skills',), ('leaping_twisting',), ('up_steping',), ('leaping_twisting',), ('no skills',), ('leaping_twisting',), ('repeating',), ('up_leaping',), ('no skills',), ('leaping_twisting',), ('no skills',), ('up_leaping',), ('no skills',), ('leaping_twisting',), ('no skills',), ('leaping_twisting',), ('no skills',), ('fast_rhythm',), ('fast_rhythm',), ('fast_rhythm',), ('fast_rhythm',), ('fast_rhythm',), ('fast_rhythm',), ('fast_rhythm',), ('fast_rhythm',), ('fast_rhythm',), ('fast_rhythm',), ('fast_rhythm',), ('fast_rhythm',), ('fast_rhythm',), ('fast_rhythm',), ('fast_rhythm',), ('fast_rhythm',), ('leaping_twisting',), ('leaping_twisting',), ('One_rhythm',), ('leaping_twisting',), ('no skills',), ('leaping_twisting',), ('leaping_twisting',), ('up_steping',), ('One_rhythm',), ('leaping_twisting',), ('leaping_twisting',), ('leaping_twisting',), ('One_rhythm',), ('leaping_twisting',), ('leaping_twisting',), ('leaping_twisting',), ('leaping_twisting',), ('leaping_twisting',), ('no skills',), ('leaping_twisting',), ('leaping_twisting',), ('One_rhythm',), ('leaping_twisting',), ('up_steping',), ('no skills',), ('leaping_twisting',), ('One_rhythm',), ('One_rhythm',), ('leaping_twisting',), ('One_rhythm',), ('leaping_twisting',), ('up_steping',), ('up_leaping',), ('leaping_twisting',), ('One_rhythm',), ('leaping_twisting',), ('One_rhythm',), ('leaping_twisting',), ('down_leaping',), ('down_leaping',), ('leaping_twisting',), ('down_leaping',), ('down_leaping',), ('down_leaping',), ('leaping_twisting',), ('down_leaping',), ('down_leaping',), ('leaping_twisting',), ('down_leaping',), ('leaping_twisting',), ('up_steping',), ('up_steping',), ('up_steping',), ('up_steping',), ('up_steping',), ('up_steping',), ('leaping_twisting',), ('up_steping',), ('up_steping',), ('up_steping',), ('up_steping',), ('up_steping',), ('down_leaping',), ('up_steping',), ('up_steping',), ('up_steping',), ('staccato',), ('staccato',), ('no skills',), ('down_leaping',), ('up_steping',), ('down_leaping',), ('continuing_rhythm',), ('continuing_rhythm',), ('no skills',), ('down_leaping',), ('continuing_rhythm',), ('down_leaping',), ('up_steping',), ('no skills',), ('staccato',), ('leaping_twisting',), ('staccato',), ('leaping_twisting',), ('staccato',), ('up_steping',), ('staccato',), ('up_steping',), ('leaping_twisting',), ('leaping_twisting',), ('staccato',), ('leaping_twisting',), ('staccato',), ('up_steping',), ('staccato',), ('leaping_twisting',), ('staccato',), ('leaping_twisting',), ('staccato',), ('up_steping',), ('repeating',), ('up_steping',), ('up_steping',), ('repeating',), ('repeating',), ('up_steping',), ('down_steping',), ('repeating',), ('repeating',), ('repeating',), ('up_steping',), ('fast_rhythm',), ('repeating',), ('up_steping',), ('up_steping',), ('up_steping',), ('no skills',), ('triplet',), ('up_steping',), ('leaping_twisting',), ('leaping_twisting',), ('no skills',), ('triplet',), ('fast_rhythm',), ('triplet',), ('triplet',), ('staccato',), ('down_leaping',), ('repeating',), ('leaping_twisting',), ('repeating',), ('repeating',), ('repeating',), ('staccato',), ('repeating',), ('repeating',), ('repeating',), ('up_steping',), ('up_steping',), ('up_steping',), ('up_steping',), ('leaping_twisting',), ('up_steping',), ('up_steping',), ('up_steping',), ('leaping_twisting',), ('repeating',), ('up_steping',), ('repeating',), ('no skills',), ('repeating',), ('repeating',), ('repeating',), ('triplet',), ('triplet',), ('leaping_twisting',), ('triplet',), ('triplet',), ('up_leaping',), ('up_steping',), ('down_leaping',), ('triplet',), ('down_leaping',), ('triplet',), ('triplet',), ('triplet',), ('leaping_twisting',), ('leaping_twisting',), ('no skills',), ('triplet',), ('no skills',), ('up_steping',), ('up_steping',), ('triplet',), ('up_steping',), ('up_steping',), ('up_steping',), ('leaping_twisting',), ('leaping_twisting',), ('leaping_twisting',), ('no skills',), ('up_steping',), ('up_steping',), ('triplet',), ('up_steping',), ('up_steping',), ('up_steping',), ('up_steping',), ('triplet',), ('up_steping',), ('up_steping',), ('leaping_twisting',), ('leaping_twisting',), ('leaping_twisting',), ('no skills',), ('no skills',), ('staccato',), ('down_leaping',), ('staccato',), ('leaping_twisting',), ('up_leaping',), ('down_leaping',), ('down_leaping',), ('up_leaping',), ('leaping_twisting',), ('up_steping',), ('down_steping',), ('up_steping',), ('up_leaping',), ('up_leaping',), ('up_leaping',), ('leaping_twisting',), ('down_steping',), ('no skills',), ('triplet',), ('no skills',), ('continuing_rhythm',), ('fast_rhythm',), ('triplet',), ('no skills',), ('no skills',), ('repeating',), ('leaping_twisting',), ('down_leaping',), ('leaping_twisting',), ('down_leaping',), ('no skills',), ('no skills',), ('down_steping',), ('repeating',), ('triplet',), ('down_leaping',), ('up_steping',), ('down_steping',), ('steping_twisting',), ('up_leaping',), ('no skills',), ('fast_rhythm',), ('no skills',), ('no skills',), ('no skills',), ('no skills',), ('staccato',), ('down_leaping',), ('up_steping',), ('down_steping',), ('steping_twisting',), ('up_leaping',), ('no skills',), ('staccato',), ('no skills',), ('no skills',), ('no skills',), ('no skills',), ('staccato',), ('down_leaping',), ('no skills',), ('down_steping',), ('up_steping',), ('up_steping',), ('no skills',), ('up_steping',), ('no skills',), ('no skills',), ('no skills',), ('down_steping',), ('down_leaping',), ('up_steping',), ('leaping_twisting',), ('staccato',), ('up_steping',), ('continuing_rhythm',), ('leaping_twisting',), ('One_rhythm',), ('leaping_twisting',), ('One_rhythm',), ('leaping_twisting',), ('One_rhythm',), ('leaping_twisting',), ('One_rhythm',), ('leaping_twisting',), ('One_rhythm',), ('leaping_twisting',), ('One_rhythm',), ('no skills',), ('One_rhythm',), ('One_rhythm',), ('One_rhythm',), ('One_rhythm',), ('One_rhythm',), ('One_rhythm',), ('One_rhythm',), ('One_rhythm',), ('up_steping',), ('down_leaping',), ('no skills',), ('no skills',), ('One_rhythm',), ('down_steping',), ('One_rhythm',), ('up_steping',), ('down_leaping',), ('One_rhythm',), ('down_steping',), ('staccato',), ('triplet',), ('up_steping',), ('triplet',), ('up_steping',), ('up_leaping',), ('up_leaping',), ('triplet',), ('up_leaping',), ('continuing_rhythm',), ('up_leaping',), ('up_leaping',), ('leaping_twisting',), ('up_leaping',), ('leaping_twisting',), ('leaping_twisting',), ('leaping_twisting',), ('up_leaping',), ('leaping_twisting',), ('leaping_twisting',), ('up_leaping',), ('up_leaping',), ('leaping_twisting',), ('up_leaping',), ('no skills',), ('staccato',), ('no skills',), ('up_leaping',), ('leaping_twisting',), ('no skills',), ('staccato',), ('up_steping',), ('no skills',), ('down_leaping',), ('no skills',), ('up_steping',), ('no skills',), ('up_leaping',), ('no skills',), ('no skills',), ('steping_twisting',), ('no skills',), ('continuing_rhythm',), ('One_rhythm',), ('continuing_rhythm',), ('One_rhythm',), ('continuing_rhythm',), ('One_rhythm',), ('continuing_rhythm',), ('One_rhythm',), ('continuing_rhythm',), ('no skills',), ('continuing_rhythm',), ('continuing_rhythm',), ('down_steping',), ('down_steping',), ('continuing_rhythm',), ('continuing_rhythm',), ('down_steping',), ('down_steping',), ('up_leaping',), ('down_leaping',), ('up_steping',), ('One_rhythm',), ('steping_twisting',), ('repeating',), ('up_leaping',), ('repeating',), ('up_steping',), ('leaping_twisting',), ('up_steping',), ('repeating',), ('leaping_twisting',), ('leaping_twisting',), ('up_steping',), ('repeating',), ('up_leaping',), ('staccato',), ('staccato',), ('staccato',), ('fast_rhythm',), ('staccato',), ('staccato',), ('staccato',), ('staccato',), ('fast_rhythm',), ('leaping_twisting',), ('staccato',), ('staccato',), ('staccato',), ('no skills',), ('up_steping',), ('fast_rhythm',), ('fast_rhythm',), ('no skills',), ('up_steping',), ('fast_rhythm',), ('no skills',), ('staccato',), ('staccato',), ('down_steping',), ('fast_rhythm',), ('triplet',), ('fast_rhythm',), ('fast_rhythm',), ('staccato',), ('staccato',), ('staccato',), ('fast_rhythm',), ('no skills',), ('steping_twisting',), ('leaping_twisting',), ('leaping_twisting',), ('leaping_twisting',), ('leaping_twisting',), ('leaping_twisting',), ('leaping_twisting',), ('leaping_twisting',), ('leaping_twisting',), ('up_leaping',), ('leaping_twisting',), ('down_leaping',), ('up_leaping',), ('leaping_twisting',), ('leaping_twisting',), ('leaping_twisting',), ('up_leaping',), ('up_leaping',), ('leaping_twisting',), ('leaping_twisting',), ('no skills',), ('repeating',), ('no skills',), ('no skills',), ('repeating',), ('steping_twisting',), ('no skills',), ('up_steping',), ('up_steping',), ('steping_twisting',), ('no skills',), ('no skills',), ('staccato',), ('up_steping',), ('steping_twisting',), ('no skills',), ('no skills',), ('no skills',), ('no skills',), ('no skills',), ('One_rhythm',), ('repeating',), ('One_rhythm',), ('repeating',), ('leaping_twisting',), ('no skills',), ('up_steping',), ('no skills',), ('leaping_twisting',), ('no skills',), ('up_steping',), ('repeating',), ('repeating',), ('repeating',), ('repeating',), ('continuing_rhythm',), ('up_steping',), ('continuing_rhythm',), ('continuing_rhythm',), ('up_steping',), ('continuing_rhythm',), ('continuing_rhythm',), ('up_steping',), ('continuing_rhythm',), ('continuing_rhythm',), ('up_steping',), ('continuing_rhythm',), ('continuing_rhythm',), ('up_steping',), ('continuing_rhythm',), ('continuing_rhythm',), ('up_steping',), ('continuing_rhythm',), ('continuing_rhythm',), ('up_steping',), ('continuing_rhythm',), ('no skills',), ('repeating',), ('One_rhythm',), ('down_leaping',), ('repeating',), ('repeating',), ('down_leaping',), ('repeating',), ('up_leaping',), ('up_steping',), ('down_leaping',), ('repeating',), ('repeating',), ('up_steping',), ('repeating',), ('repeating',), ('repeating',), ('up_steping',), ('One_rhythm',), ('repeating',), ('down_leaping',), ('leaping_twisting',), ('triplet',), ('triplet',), ('triplet',), ('up_leaping',), ('triplet',), ('triplet',), ('triplet',), ('triplet',), ('up_leaping',), ('staccato',), ('leaping_twisting',), ('staccato',), ('down_leaping',), ('staccato',), ('leaping_twisting',), ('staccato',), ('down_leaping',), ('staccato',), ('leaping_twisting',), ('staccato',), ('down_leaping',), ('staccato',), ('leaping_twisting',), ('staccato',), ('down_leaping',), ('continuing_rhythm',), ('no skills',), ('One_rhythm',), ('continuing_rhythm',), ('continuing_rhythm',), ('continuing_rhythm',), ('continuing_rhythm',), ('continuing_rhythm',), ('continuing_rhythm',), ('up_steping',), ('continuing_rhythm',), ('continuing_rhythm',), ('continuing_rhythm',), ('continuing_rhythm',), ('continuing_rhythm',), ('continuing_rhythm',), ('continuing_rhythm',), ('up_steping',), ('steping_twisting',), ('down_leaping',), ('leaping_twisting',), ('continuing_rhythm',), ('leaping_twisting',), ('leaping_twisting',), ('leaping_twisting',), ('leaping_twisting',), ('leaping_twisting',), ('leaping_twisting',), ('leaping_twisting',), ('leaping_twisting',), ('leaping_twisting',), ('leaping_twisting',), ('leaping_twisting',), ('leaping_twisting',), ('leaping_twisting',), ('leaping_twisting',), ('leaping_twisting',), ('leaping_twisting',), ('leaping_twisting',), ('leaping_twisting',), ('leaping_twisting',), ('leaping_twisting',), ('leaping_twisting',), ('leaping_twisting',), ('leaping_twisting',), ('leaping_twisting',), ('continuing_rhythm',), ('continuing_rhythm',), ('fast_rhythm',), ('fast_rhythm',), ('fast_rhythm',), ('fast_rhythm',), ('fast_rhythm',), ('fast_rhythm',), ('fast_rhythm',), ('fast_rhythm',), ('fast_rhythm',), ('fast_rhythm',), ('fast_rhythm',), ('fast_rhythm',), ('fast_rhythm',), ('fast_rhythm',), ('fast_rhythm',), ('fast_rhythm',), ('fast_rhythm',), ('fast_rhythm',), ('fast_rhythm',), ('fast_rhythm',), ('no skills',), ('up_steping',), ('up_steping',), ('One_rhythm',), ('up_steping',), ('down_steping',), ('down_leaping',), ('down_steping',), ('leaping_twisting',), ('up_steping',), ('down_leaping',), ('up_steping',), ('down_steping',), ('up_steping',), ('up_steping',), ('One_rhythm',), ('down_leaping',), ('up_steping',), ('down_leaping',), ('no skills',), ('no skills',), ('no skills',), ('up_leaping',), ('continuing_rhythm',), ('up_steping',), ('fast_rhythm',), ('fast_rhythm',), ('leaping_twisting',), ('leaping_twisting',), ('leaping_twisting',), ('fast_rhythm',), ('leaping_twisting',), ('leaping_twisting',), ('fast_rhythm',), ('fast_rhythm',), ('continuing_rhythm',), ('down_leaping',), ('down_leaping',), ('continuing_rhythm',), ('fast_rhythm',), ('continuing_rhythm',), ('continuing_rhythm',), ('up_leaping',), ('triplet',), ('up_leaping',), ('continuing_rhythm',), ('up_leaping',), ('down_steping',), ('continuing_rhythm',), ('continuing_rhythm',), ('continuing_rhythm',), ('continuing_rhythm',), ('leaping_twisting',), ('no skills',), ('down_steping',), ('leaping_twisting',), ('leaping_twisting',), ('no skills',), ('up_leaping',), ('One_rhythm',), ('continuing_rhythm',), ('up_steping',), ('up_steping',), ('staccato',), ('up_steping',), ('staccato',), ('up_steping',), ('staccato',), ('up_steping',), ('staccato',), ('up_steping',), ('staccato',), ('up_steping',), ('staccato',), ('One_rhythm',), ('down_leaping',), ('down_leaping',), ('One_rhythm',), ('leaping_twisting',), ('down_leaping',), ('One_rhythm',), ('down_leaping',), ('down_leaping',), ('down_leaping',), ('down_leaping',), ('One_rhythm',), ('leaping_twisting',), ('down_leaping',), ('One_rhythm',), ('down_leaping',), ('down_leaping',), ('down_leaping',), ('down_leaping',), ('One_rhythm',), ('no skills',), ('staccato',), ('staccato',), ('repeating',), ('staccato',), ('staccato',), ('staccato',), ('staccato',), ('repeating',), ('up_steping',), ('up_leaping',), ('staccato',), ('no skills',), ('fast_rhythm',), ('up_steping',), ('leaping_twisting',), ('up_leaping',), ('fast_rhythm',), ('up_leaping',), ('up_leaping',), ('up_steping',), ('leaping_twisting',), ('up_steping',), ('down_steping',), ('up_steping',), ('down_leaping',), ('down_leaping',), ('One_rhythm',), ('One_rhythm',), ('steping_twisting',), ('down_steping',), ('down_leaping',), ('no skills',), ('steping_twisting',), ('no skills',), ('steping_twisting',), ('no skills',), ('no skills',), ('steping_twisting',), ('up_leaping',), ('no skills',), ('no skills',), ('no skills',), ('no skills',), ('no skills',), ('repeating',), ('repeating',), ('repeating',), ('repeating',), ('repeating',), ('repeating',), ('repeating',), ('repeating',), ('repeating',), ('repeating',), ('repeating',), ('repeating',), ('repeating',), ('repeating',), ('repeating',), ('leaping_twisting',), ('leaping_twisting',), ('leaping_twisting',), ('One_rhythm',), ('no skills',), ('continuing_rhythm',), ('fast_rhythm',), ('steping_twisting',), ('steping_twisting',), ('steping_twisting',), ('fast_rhythm',), ('steping_twisting',), ('steping_twisting',), ('steping_twisting',), ('fast_rhythm',), ('steping_twisting',), ('steping_twisting',), ('steping_twisting',), ('fast_rhythm',), ('no skills',), ('continuing_rhythm',), ('continuing_rhythm',), ('continuing_rhythm',), ('continuing_rhythm',), ('One_rhythm',), ('continuing_rhythm',), ('One_rhythm',), ('continuing_rhythm',), ('One_rhythm',), ('continuing_rhythm',), ('One_rhythm',), ('continuing_rhythm',), ('One_rhythm',), ('continuing_rhythm',), ('One_rhythm',), ('continuing_rhythm',), ('One_rhythm',), ('continuing_rhythm',), ('up_steping',), ('staccato',), ('staccato',), ('staccato',), ('staccato',), ('staccato',), ('staccato',), ('up_steping',), ('staccato',), ('staccato',), ('no skills',), ('staccato',), ('staccato',), ('staccato',), ('staccato',), ('staccato',), ('staccato',), ('staccato',), ('continuing_rhythm',), ('no skills',), ('no skills',), ('no skills',), ('down_leaping',), ('down_leaping',), ('repeating',), ('no skills',), ('continuing_rhythm',), ('repeating',), ('up_steping',), ('repeating',), ('continuing_rhythm',), ('down_leaping',), ('no skills',), ('down_leaping',), ('staccato',), ('up_leaping',), ('staccato',), ('up_leaping',), ('up_leaping',), ('up_steping',), ('up_steping',), ('up_steping',), ('leaping_twisting',), ('staccato',), ('up_steping',), ('leaping_twisting',), ('down_leaping',), ('up_leaping',), ('no skills',), ('continuing_rhythm',), ('up_leaping',), ('down_leaping',), ('down_leaping',), ('leaping_twisting',), ('down_leaping',), ('up_leaping',), ('up_leaping',), ('continuing_rhythm',), ('up_leaping',), ('down_leaping',), ('continuing_rhythm',), ('continuing_rhythm',), ('down_steping',), ('triplet',), ('up_leaping',), ('repeating',), ('up_steping',), ('up_leaping',), ('no skills',), ('no skills',), ('triplet',), ('down_steping',), ('up_steping',), ('up_steping',), ('up_steping',), ('no skills',), ('no skills',), ('no skills',), ('no skills',), ('no skills',), ('no skills',), ('no skills',), ('no skills',), ('up_steping',), ('no skills',), ('no skills',), ('no skills',), ('no skills',), ('up_leaping',), ('no skills',), ('continuing_rhythm',), ('continuing_rhythm',), ('continuing_rhythm',), ('continuing_rhythm',), ('up_steping',), ('up_leaping',), ('continuing_rhythm',), ('continuing_rhythm',), ('down_steping',), ('down_leaping',), ('down_leaping',), ('down_leaping',), ('continuing_rhythm',), ('continuing_rhythm',), ('continuing_rhythm',), ('continuing_rhythm',), ('continuing_rhythm',), ('continuing_rhythm',), ('up_steping',), ('up_steping',), ('up_leaping',), ('up_leaping',), ('up_leaping',), ('up_leaping',), ('up_leaping',), ('up_leaping',), ('up_leaping',), ('up_leaping',), ('up_leaping',), ('down_leaping',), ('leaping_twisting',), ('leaping_twisting',), ('leaping_twisting',), ('leaping_twisting',), ('leaping_twisting',), ('leaping_twisting',), ('leaping_twisting',), ('leaping_twisting',), ('leaping_twisting',), ('leaping_twisting',), ('leaping_twisting',), ('leaping_twisting',), ('leaping_twisting',), ('leaping_twisting',), ('leaping_twisting',), ('leaping_twisting',), ('fast_rhythm',), ('leaping_twisting',), ('fast_rhythm',), ('leaping_twisting',), ('repeating',), ('repeating',), ('repeating',), ('repeating',), ('no skills',), ('no skills',), ('repeating',), ('repeating',), ('repeating',), ('repeating',), ('repeating',), ('repeating',), ('repeating',), ('repeating',), ('repeating',), ('repeating',), ('repeating',), ('repeating',), ('repeating',), ('leaping_twisting',), ('staccato',), ('down_leaping',), ('leaping_twisting',), ('staccato',), ('leaping_twisting',), ('down_leaping',), ('leaping_twisting',), ('leaping_twisting',), ('staccato',), ('down_leaping',), ('leaping_twisting',), ('leaping_twisting',), ('fast_rhythm',), ('fast_rhythm',), ('fast_rhythm',), ('fast_rhythm',), ('fast_rhythm',), ('fast_rhythm',), ('fast_rhythm',), ('fast_rhythm',), ('fast_rhythm',), ('fast_rhythm',), ('fast_rhythm',), ('fast_rhythm',), ('fast_rhythm',), ('fast_rhythm',)]\n"
          ],
          "name": "stdout"
        }
      ]
    },
    {
      "cell_type": "code",
      "metadata": {
        "id": "eKJiCvrXd5NJ",
        "colab_type": "code",
        "colab": {
          "base_uri": "https://localhost:8080/",
          "height": 255
        },
        "outputId": "d5adcd22-a2d2-4156-8a73-790496e85964"
      },
      "source": [
        "prediction=classifier.predict(test_matrix[460].reshape(1,24,24,1))\n",
        "categorical=np.zeros_like(prediction)\n",
        "num=np.argmax(prediction)\n",
        "categorical[0][num]=1\n",
        "label=mlb.inverse_transform(categorical)\n",
        "print(label)\n",
        "H = test_matrix[460].reshape(24,24) #위에 출력에서 나온 숫자 test_matrix['요기']에 적고 출력하면 나옴\n",
        "fig = plt.figure(figsize=(6, 3.2))\n",
        "\n",
        "ax = fig.add_subplot(111)\n",
        "ax.set_title('colorMap')\n",
        "plt.imshow(H)\n",
        "ax.set_aspect('equal')\n",
        "\n",
        "cax = fig.add_axes([0.12, 0.1, 0.78, 0.8])\n",
        "cax.get_xaxis().set_visible(False)\n",
        "cax.get_yaxis().set_visible(False)\n",
        "cax.patch.set_alpha(0)\n",
        "cax.set_frame_on(False)\n",
        "plt.colorbar(orientation='vertical')\n",
        "plt.show()"
      ],
      "execution_count": null,
      "outputs": [
        {
          "output_type": "stream",
          "text": [
            "[('no skills',)]\n"
          ],
          "name": "stdout"
        },
        {
          "output_type": "display_data",
          "data": {
            "image/png": "[encoded data removed]",
            "text/plain": [
              "<Figure size 432x230.4 with 3 Axes>"
            ]
          },
          "metadata": {
            "tags": [],
            "needs_background": "light"
          }
        }
      ]
    },
    {
      "cell_type": "markdown",
      "metadata": {
        "id": "_1UAO1g3lELo",
        "colab_type": "text"
      },
      "source": [
        "여기부터 GAN의 구현을 해봅니다. "
      ]
    },
    {
      "cell_type": "code",
      "metadata": {
        "id": "dgsQdsiqlC9E",
        "colab_type": "code",
        "colab": {}
      },
      "source": [
        "!pip install -q imageio"
      ],
      "execution_count": null,
      "outputs": []
    },
    {
      "cell_type": "code",
      "metadata": {
        "id": "27spffKwmnaO",
        "colab_type": "code",
        "colab": {}
      },
      "source": [
        "import glob\n",
        "import imageio\n",
        "import matplotlib.pyplot as plt\n",
        "import numpy as np\n",
        "import os\n",
        "import PIL\n",
        "from tensorflow.keras import layers\n",
        "import time\n",
        "\n",
        "from IPython import display"
      ],
      "execution_count": null,
      "outputs": []
    },
    {
      "cell_type": "code",
      "metadata": {
        "id": "mGCuBMQI7sX3",
        "colab_type": "code",
        "colab": {}
      },
      "source": [
        "def get_best_results(testresult,test_label2):  #for optimizing.\n",
        "  classnum={}\n",
        "  testnum={}\n",
        "  resultmat=[]\n",
        "  bestmat=[]\n",
        "  for i in range(len(testresult)):\n",
        "    best_result=[0 for i in range(13)]\n",
        "    class_num=np.count_nonzero(test_label2[i]==1)+1\n",
        "    classidx=(-testresult[i]).argsort()[:class_num]\n",
        "    for k,j in enumerate(classidx):\n",
        "      if (k==0):\n",
        "        best_result[j]=1\n",
        "    bestmat.append(best_result)\n",
        "  bestmat=np.array(bestmat)\n",
        "  bestidx=mlb.inverse_transform(bestmat)\n",
        "  return bestidx"
      ],
      "execution_count": null,
      "outputs": []
    },
    {
      "cell_type": "code",
      "metadata": {
        "id": "V32sqv0MOOnI",
        "colab_type": "code",
        "colab": {
          "base_uri": "https://localhost:8080/",
          "height": 52
        },
        "outputId": "e4188ba7-497e-401c-f0fd-4616bdec7603"
      },
      "source": [
        "trainX=train_matrix.reshape((int(len(all_matrix)*0.85),24,24))\n",
        "for i in tqdm(range(int(len(train_matrix)//1000)),position=0):\n",
        "  if(i==0):\n",
        "    test_result=classifier.predict(train_matrix[1000*i:1000+1000*i])\n",
        "  else:\n",
        "    sub_testresult=classifier.predict(train_matrix[1000*i:1000+1000*i])\n",
        "    test_result=np.concatenate((test_result,sub_testresult))\n",
        "sub_testresult=classifier.predict(train_matrix[1000*(i+1):])\n",
        "test_result=np.concatenate((test_result,sub_testresult))\n",
        "trainy=np.array(get_best_results(test_result,train_label2)).reshape((int(len(all_matrix)*0.85),))\n",
        "print('Train', trainX.shape, trainy.shape)"
      ],
      "execution_count": null,
      "outputs": [
        {
          "output_type": "stream",
          "text": [
            "100%|██████████| 116/116 [00:08<00:00, 13.18it/s]\n"
          ],
          "name": "stderr"
        },
        {
          "output_type": "stream",
          "text": [
            "Train (116625, 24, 24) (116625,)\n"
          ],
          "name": "stdout"
        }
      ]
    },
    {
      "cell_type": "code",
      "metadata": {
        "id": "XCe1Clvjvz1-",
        "colab_type": "code",
        "colab": {
          "base_uri": "https://localhost:8080/",
          "height": 34
        },
        "outputId": "2d684a0c-74d3-4443-b8b9-fea4d06d1cff"
      },
      "source": [
        "from sklearn.preprocessing import LabelEncoder\n",
        "# 라벨 인코더 생성\n",
        "encoder = LabelEncoder()\n",
        "\n",
        "# X_train데이터를 이용 피팅하고 라벨숫자로 변환한다\n",
        "encoder.fit(trainy)\n",
        "trainy = encoder.transform(trainy)\n",
        "print(trainy)\n",
        "trainy=np.array(trainy)"
      ],
      "execution_count": null,
      "outputs": [
        {
          "output_type": "stream",
          "text": [
            "[ 7  7  7 ...  7 12  6]\n"
          ],
          "name": "stdout"
        }
      ]
    },
    {
      "cell_type": "code",
      "metadata": {
        "id": "OiRvfSRjmyEr",
        "colab_type": "code",
        "colab": {}
      },
      "source": [
        "import numpy as np\n",
        "import scipy as sp\n",
        "import scipy.ndimage\n",
        "def blur_image(matrix):\n",
        "  sigma_y = 0.5\n",
        "  sigma_x = 0.5\n",
        "  inputmat=matrix\n",
        "  \"\"\"\n",
        "  # Plot input array\n",
        "  plt.imshow(inputmat, cmap='Blues', interpolation='nearest')\n",
        "  plt.xlabel(\"$x$\")\n",
        "  plt.ylabel(\"$y$\")\n",
        "  plt.savefig(\"array.png\")\n",
        "  \"\"\"\n",
        "  # Apply gaussian filter\n",
        "  sigma = [sigma_y, sigma_x]\n",
        "  y = sp.ndimage.filters.gaussian_filter(inputmat, sigma, mode='constant')\n",
        "  \"\"\"\n",
        "  # Display filtered array\n",
        "  plt.imshow(y, cmap='Blues', interpolation='nearest')\n",
        "  plt.xlabel(\"$x$\")\n",
        "  plt.ylabel(\"$y$\")\n",
        "  plt.title(\"$\\sigma_x = \" + str(sigma_x) + \"\\quad \\sigma_y = \" + str(sigma_y) + \"$\")\n",
        "  plt.savefig(\"smooth_array_\" + str(sigma_x) + \"_\" + str(sigma_y) + \".png\")\n",
        "  \"\"\"\n",
        "  return y\n"
      ],
      "execution_count": null,
      "outputs": []
    },
    {
      "cell_type": "code",
      "metadata": {
        "id": "FHYRcDkY4GgB",
        "colab_type": "code",
        "colab": {}
      },
      "source": [
        "blur_trainX=copy.deepcopy(trainX)\n",
        "for i,matrix in enumerate(trainX):\n",
        "  blur_trainX[i]=blur_image(matrix)\n",
        "trainX=blur_trainX"
      ],
      "execution_count": null,
      "outputs": []
    },
    {
      "cell_type": "code",
      "metadata": {
        "id": "5zvs3DNh9EMk",
        "colab_type": "code",
        "colab": {
          "base_uri": "https://localhost:8080/",
          "height": 282
        },
        "outputId": "7ef57b8f-166f-426a-d542-dcb5e7ae67f6"
      },
      "source": [
        "plt.imshow(trainX[0])"
      ],
      "execution_count": null,
      "outputs": [
        {
          "output_type": "execute_result",
          "data": {
            "text/plain": [
              "<matplotlib.image.AxesImage at 0x7f4a375aa7f0>"
            ]
          },
          "metadata": {
            "tags": []
          },
          "execution_count": 89
        },
        {
          "output_type": "display_data",
          "data": {
            "image/png": "[encoded data removed]",
            "text/plain": [
              "<Figure size 432x288 with 1 Axes>"
            ]
          },
          "metadata": {
            "tags": [],
            "needs_background": "light"
          }
        }
      ]
    },
    {
      "cell_type": "code",
      "metadata": {
        "id": "EJr2T_F3wHVK",
        "colab_type": "code",
        "colab": {}
      },
      "source": [
        "#https://github.com/gaborvecsei/CDCGAN-Keras/tree/master/cdcgan\n",
        "#위 깃헙의 코드를 사용하는겁니다\n",
        "import matplotlib\n",
        "\n",
        "matplotlib.use('Agg')\n",
        "from keras import models, layers\n",
        "\n",
        "ACTIVATION = layers.Activation(\"tanh\")\n",
        "\n",
        "\n",
        "def generator_model():\n",
        "    # Prepare noise input\n",
        "    input_z = layers.Input((13,))\n",
        "    dense_z_1 = layers.Dense(1024)(input_z)\n",
        "    act_z_1 = ACTIVATION(dense_z_1)\n",
        "    dense_z_2 = layers.Dense(128 * 6 * 6)(act_z_1)\n",
        "    bn_z_1 = layers.BatchNormalization()(dense_z_2)\n",
        "    reshape_z = layers.Reshape((6, 6, 128), input_shape=(128 * 6 * 6,))(bn_z_1)\n",
        "\n",
        "    # Prepare Conditional (label) input\n",
        "    input_c = layers.Input((13,))\n",
        "    dense_c_1 = layers.Dense(1024)(input_c)\n",
        "    act_c_1 = ACTIVATION(dense_c_1)\n",
        "    dense_c_2 = layers.Dense(128 * 6 * 6)(act_c_1)\n",
        "    bn_c_1 = layers.BatchNormalization()(dense_c_2)\n",
        "    reshape_c = layers.Reshape((6, 6, 128), input_shape=(128 * 6 * 6,))(bn_c_1)\n",
        "\n",
        "    # Combine input source\n",
        "    concat_z_c = layers.Concatenate()([reshape_z, reshape_c])\n",
        "\n",
        "    # Image generation with the concatenated inputs\n",
        "    up_1 = layers.UpSampling2D(size=(2, 2))(concat_z_c)\n",
        "    conv_1 = layers.Conv2D(64, (5, 5), padding='same')(up_1)\n",
        "    act_1 = ACTIVATION(conv_1)\n",
        "    up_2 = layers.UpSampling2D(size=(2, 2))(act_1)\n",
        "    conv_2 = layers.Conv2D(1, (5, 5), padding='same')(up_2)\n",
        "    act_2 = layers.Activation(\"tanh\")(conv_2)\n",
        "    model = models.Model(inputs=[input_z, input_c], outputs=act_2)\n",
        "    return model\n",
        "\n",
        "\n",
        "def discriminator_model():\n",
        "    input_gen_image = layers.Input((24, 24, 1))\n",
        "    conv_1_image = layers.Conv2D(64, (5, 5), padding='same')(input_gen_image)\n",
        "    act_1_image = ACTIVATION(conv_1_image)\n",
        "    pool_1_image = layers.MaxPooling2D(pool_size=(2, 2))(act_1_image)\n",
        "    conv_2_image = layers.Conv2D(128, (5, 5))(pool_1_image)\n",
        "    act_2_image = ACTIVATION(conv_2_image)\n",
        "    pool_2_image = layers.MaxPooling2D(pool_size=(2, 2))(act_2_image)\n",
        "\n",
        "    input_c = layers.Input((13,))\n",
        "    dense_1_c = layers.Dense(1024)(input_c)\n",
        "    act_1_c = ACTIVATION(dense_1_c)\n",
        "    dense_2_c = layers.Dense(4 * 4 * 128)(act_1_c)\n",
        "    bn_c = layers.BatchNormalization()(dense_2_c)\n",
        "    reshaped_c = layers.Reshape((4, 4, 128))(bn_c)\n",
        "\n",
        "    concat = layers.Concatenate()([pool_2_image, reshaped_c])\n",
        "\n",
        "    flat = layers.Flatten()(concat)\n",
        "    dense_1 = layers.Dense(1024)(flat)\n",
        "    act_1 = ACTIVATION(dense_1)\n",
        "    dense_2 = layers.Dense(1)(act_1)\n",
        "    act_2 = layers.Activation('sigmoid')(dense_2)\n",
        "    model = models.Model(inputs=[input_gen_image, input_c], outputs=act_2)\n",
        "    return model\n",
        "\n",
        "\n",
        "def generator_containing_discriminator(g, d):\n",
        "    input_z = layers.Input((13,))\n",
        "    input_c = layers.Input((13,))\n",
        "    gen_image = g([input_z, input_c])\n",
        "    d.trainable = False\n",
        "    is_real = d([gen_image, input_c])\n",
        "    model = models.Model(inputs=[input_z, input_c], outputs=is_real)\n",
        "    return model"
      ],
      "execution_count": null,
      "outputs": []
    },
    {
      "cell_type": "code",
      "metadata": {
        "id": "XNHFwwLpm85B",
        "colab_type": "code",
        "colab": {}
      },
      "source": [
        "import math\n",
        "import os\n",
        "import subprocess\n",
        "\n",
        "import cv2\n",
        "import matplotlib\n",
        "\n",
        "matplotlib.use('Agg')\n",
        "import matplotlib.pyplot as plt\n",
        "import numpy as np\n",
        "\n",
        "\n",
        "def combine_images(generated_images):\n",
        "    num_images = generated_images.shape[0]\n",
        "    new_width = int(math.sqrt(num_images))\n",
        "    new_height = int(math.ceil(float(num_images) / new_width))\n",
        "    grid_shape = generated_images.shape[1:3]\n",
        "    grid_image = np.zeros((new_height * grid_shape[0], new_width * grid_shape[1]), dtype=generated_images.dtype)\n",
        "    for index, img in enumerate(generated_images):\n",
        "        i = int(index / new_width)\n",
        "        j = index % new_width\n",
        "        grid_image[i * grid_shape[0]:(i + 1) * grid_shape[0], j * grid_shape[1]:(j + 1) * grid_shape[1]] = \\\n",
        "            img[:, :, 0]\n",
        "    return grid_image\n",
        "\n",
        "\n",
        "def generate_noise(shape: tuple):\n",
        "    noise = np.random.uniform(0, 1, size=shape)\n",
        "    return noise\n",
        "\n",
        "\n",
        "def generate_condition_embedding(label: int, nb_of_label_embeddings: int):\n",
        "    label_embeddings = np.zeros((nb_of_label_embeddings, 13))\n",
        "    label_embeddings[:, label] = 1\n",
        "    return label_embeddings\n",
        "\n",
        "\n",
        "def generate_images(generator, nb_images: int, label: int):\n",
        "    noise = generate_noise((nb_images, 13))\n",
        "    label_batch = generate_condition_embedding(label, nb_images)\n",
        "    generated_images = generator.predict([noise, label_batch], verbose=0)\n",
        "    return generated_images\n",
        "\n",
        "\n",
        "def generate_mnist_image_grid(generator, title: str = \"Generated images\"):\n",
        "    generated_images = []\n",
        "\n",
        "    for i in range(10):\n",
        "        noise = generate_noise((10, 13))\n",
        "        label_input = generate_condition_embedding(i, 10)\n",
        "        gen_images = generator.predict([noise, label_input], verbose=0)\n",
        "        generated_images.extend(gen_images)\n",
        "\n",
        "    generated_images = np.array(generated_images)\n",
        "    image_grid = combine_images(generated_images)\n",
        "    image_grid = inverse_transform_images(image_grid)\n",
        "\n",
        "    fig = plt.figure()\n",
        "    ax = fig.add_subplot(1, 1, 1)\n",
        "    ax.axis(\"off\")\n",
        "    ax.imshow(image_grid, cmap=\"gray\")\n",
        "    ax.set_title(title)\n",
        "    fig.canvas.draw()\n",
        "\n",
        "    image = np.fromstring(fig.canvas.tostring_rgb(), dtype=np.uint8, sep='')\n",
        "    image = image.reshape(fig.canvas.get_width_height()[::-1] + (3,))\n",
        "\n",
        "    plt.close()\n",
        "\n",
        "    return image\n",
        "\n",
        "\n",
        "def save_generated_image(image, epoch, iteration, folder_path):\n",
        "    if not os.path.isdir(folder_path):\n",
        "        os.makedirs(folder_path)\n",
        "\n",
        "    file_path = \"{0}/{1}_{2}.png\".format(folder_path, epoch, iteration)\n",
        "    cv2.imwrite(file_path, image.astype(np.uint8))\n",
        "\n",
        "\n",
        "def transform_images(images: np.ndarray):\n",
        "    \"\"\"\n",
        "    [0,1]Transform images to [-1, 1]\n",
        "    \"\"\"\n",
        "    max_value=images.max()\n",
        "\n",
        "    images = (images.astype(np.float32) - (max_value/2)) / (max_value/2)\n",
        "    return images\n",
        "\n",
        "\n",
        "def inverse_transform_images(images: np.ndarray):\n",
        "    \"\"\"\n",
        "    From the [-1, 1] range transform the images back to [0, 255]\n",
        "    \"\"\"\n",
        "\n",
        "    images = images * 127.5 + 127.5\n",
        "    images = images.astype(np.uint8)\n",
        "    return images\n",
        "\n",
        "\n",
        "def convert_video_to_gif(input_video_path, output_gif_path, fps=24):\n",
        "    palette_image_path = \"palette.png\"\n",
        "    command_palette = 'ffmpeg -y -t 0 -i {0} -vf fps={1},scale=320:-1:flags=lanczos,palettegen {2}'.format(input_video_path,\n",
        "                                                                                                           fps,\n",
        "                                                                                                           palette_image_path)\n",
        "    command_convert = 'ffmpeg -y -t 0 -i {0} -i {1} -filter_complex \"fps={2},scale=320:-1:flags=lanczos[x];[x][1:v]paletteuse\" {3}'.format(input_video_path,palette_image_path, fps, output_gif_path)\n",
        "    \n",
        "    try:\n",
        "        subprocess.check_call(command_palette)\n",
        "        subprocess.check_call(command_convert)\n",
        "    except subprocess.CalledProcessError as exc:\n",
        "        print(exc.output)\n",
        "        raise\n",
        "    finally:\n",
        "        os.remove(palette_image_path)"
      ],
      "execution_count": null,
      "outputs": []
    },
    {
      "cell_type": "code",
      "metadata": {
        "id": "1xqJAsQDYM2D",
        "colab_type": "code",
        "colab": {
          "base_uri": "https://localhost:8080/",
          "height": 333
        },
        "outputId": "4bdb1d0a-ca1c-404c-fc2e-4cbace6397f5"
      },
      "source": [
        "pip install git+https://github.com/gaborvecsei/Swiss-Army-Tensorboard.git"
      ],
      "execution_count": null,
      "outputs": [
        {
          "output_type": "stream",
          "text": [
            "Collecting git+https://github.com/gaborvecsei/Swiss-Army-Tensorboard.git\n",
            "  Cloning https://github.com/gaborvecsei/Swiss-Army-Tensorboard.git to /tmp/pip-req-build-1av252jz\n",
            "  Running command git clone -q https://github.com/gaborvecsei/Swiss-Army-Tensorboard.git /tmp/pip-req-build-1av252jz\n",
            "Requirement already satisfied: numpy>=1.16.1 in /usr/local/lib/python3.6/dist-packages (from swiss-army-tensorboard==0.0.1) (1.18.5)\n",
            "Requirement already satisfied: matplotlib>=3.1 in /usr/local/lib/python3.6/dist-packages (from swiss-army-tensorboard==0.0.1) (3.2.2)\n",
            "Requirement already satisfied: pyparsing!=2.0.4,!=2.1.2,!=2.1.6,>=2.0.1 in /usr/local/lib/python3.6/dist-packages (from matplotlib>=3.1->swiss-army-tensorboard==0.0.1) (2.4.7)\n",
            "Requirement already satisfied: python-dateutil>=2.1 in /usr/local/lib/python3.6/dist-packages (from matplotlib>=3.1->swiss-army-tensorboard==0.0.1) (2.8.1)\n",
            "Requirement already satisfied: kiwisolver>=1.0.1 in /usr/local/lib/python3.6/dist-packages (from matplotlib>=3.1->swiss-army-tensorboard==0.0.1) (1.2.0)\n",
            "Requirement already satisfied: cycler>=0.10 in /usr/local/lib/python3.6/dist-packages (from matplotlib>=3.1->swiss-army-tensorboard==0.0.1) (0.10.0)\n",
            "Requirement already satisfied: six>=1.5 in /usr/local/lib/python3.6/dist-packages (from python-dateutil>=2.1->matplotlib>=3.1->swiss-army-tensorboard==0.0.1) (1.15.0)\n",
            "Building wheels for collected packages: swiss-army-tensorboard\n",
            "  Building wheel for swiss-army-tensorboard (setup.py) ... \u001b[?25l\u001b[?25hdone\n",
            "  Created wheel for swiss-army-tensorboard: filename=swiss_army_tensorboard-0.0.1-cp36-none-any.whl size=5376 sha256=31ff08a7d5fa2895b214905abbdd3be1f9075d4ea41f98c5f72829d38ce037fa\n",
            "  Stored in directory: /tmp/pip-ephem-wheel-cache-jthtby31/wheels/ea/f7/db/67f8661f9c334ad8eda2d0dfbc21bcaea99f739c97f6008d41\n",
            "Successfully built swiss-army-tensorboard\n",
            "Installing collected packages: swiss-army-tensorboard\n",
            "Successfully installed swiss-army-tensorboard-0.0.1\n"
          ],
          "name": "stdout"
        }
      ]
    },
    {
      "cell_type": "code",
      "metadata": {
        "id": "kJjHn-Nngy8P",
        "colab_type": "code",
        "colab": {
          "base_uri": "https://localhost:8080/",
          "height": 106
        },
        "outputId": "a93a617d-ded1-416b-e37c-991a9d4d9d4e"
      },
      "source": [
        "import matplotlib\n",
        "\n",
        "matplotlib.use('Agg')\n",
        "import numpy as np\n",
        "from keras import backend as K\n",
        "from keras import utils as keras_utils\n",
        "from keras import optimizers\n",
        "from keras import datasets\n",
        "from swiss_army_tensorboard import tfboard_loggers\n",
        "from tqdm import tqdm\n",
        "\n",
        "BATCH_SIZE = 256\n",
        "EPOCHS = 75\n",
        "\n",
        "# Load & Prepare MNIST\n",
        "\n",
        "X_train=trainX\n",
        "y_train=trainy\n",
        "X_train = transform_images(X_train)\n",
        "X_train = X_train[:, :, :, None]\n",
        "\n",
        "y_train = keras_utils.to_categorical(y_train, 13)\n",
        "\n",
        "# Create the models\n",
        "\n",
        "G = generator_model()\n",
        "D = discriminator_model()\n",
        "\n",
        "GD = generator_containing_discriminator(G, D)\n",
        "\n",
        "optimizer = optimizers.Adam(0.0002, 0.5)\n",
        "\n",
        "G.compile(loss='binary_crossentropy', optimizer=optimizer)\n",
        "GD.compile(loss='binary_crossentropy', optimizer=optimizer)\n",
        "D.trainable = True\n",
        "D.compile(loss='binary_crossentropy', optimizer=optimizer)\n"
      ],
      "execution_count": null,
      "outputs": [
        {
          "output_type": "stream",
          "text": [
            "WARNING:tensorflow:From /usr/local/lib/python3.6/dist-packages/swiss_army_tensorboard/tfboard_loggers/tfboard_loggers.py:47: The name tf.HistogramProto is deprecated. Please use tf.compat.v1.HistogramProto instead.\n",
            "\n",
            "WARNING:tensorflow:From /usr/local/lib/python3.6/dist-packages/keras/backend/tensorflow_backend.py:4070: The name tf.nn.max_pool is deprecated. Please use tf.nn.max_pool2d instead.\n",
            "\n"
          ],
          "name": "stdout"
        }
      ]
    },
    {
      "cell_type": "code",
      "metadata": {
        "id": "xiSLW8ipuBhP",
        "colab_type": "code",
        "colab": {}
      },
      "source": [
        "G.load_weights(\"/content/drive/My Drive/MARG/PPDDlist/GAN_result/generator.h5\")\n",
        "D.load_weights(\"/content/drive/My Drive/MARG/PPDDlist/GAN_result/discriminator.h5\")"
      ],
      "execution_count": null,
      "outputs": []
    },
    {
      "cell_type": "code",
      "metadata": {
        "id": "CX3bvlrduAKR",
        "colab_type": "code",
        "colab": {
          "base_uri": "https://localhost:8080/",
          "height": 1000
        },
        "outputId": "f5e75a0e-b7f8-4a69-db9e-43c0ddc511b2"
      },
      "source": [
        "from tensorflow import keras\n",
        "# Setup Tensorboard loggers\n",
        "\n",
        "tfboard_loggers.TFBoardModelGraphLogger.log_graph(\"/content/drive/My Drive/MARG/PPDDlist/GAN_result/logs\", K.get_session())\n",
        "loss_logger = tfboard_loggers.TFBoardScalarLogger(\"/content/drive/My Drive/MARG/PPDDlist/GAN_result/logs/loss\")\n",
        "image_logger = tfboard_loggers.TFBoardImageLogger(\"/content/drive/My Drive/MARG/PPDDlist/GAN_result/logs/generated_images\")\n",
        "\n",
        "# Model Training\n",
        "\n",
        "iteration = 0\n",
        "dist_val=0.8\n",
        "nb_of_iterations_per_epoch = int(X_train.shape[0] / BATCH_SIZE)\n",
        "print(\"Number of iterations per epoch: {0}\".format(nb_of_iterations_per_epoch))\n",
        "\n",
        "for epoch in range(EPOCHS):\n",
        "    pbar = tqdm(desc=\"Epoch: {0}\".format(epoch), total=X_train.shape[0],position=0)\n",
        "\n",
        "    g_losses_for_epoch = []\n",
        "    d_losses_for_epoch = []\n",
        "\n",
        "    for i in range(nb_of_iterations_per_epoch):\n",
        "        noise = generate_noise((BATCH_SIZE, 13))\n",
        "\n",
        "        image_batch = X_train[i * BATCH_SIZE:(i + 1) * BATCH_SIZE]\n",
        "        label_batch = y_train[i * BATCH_SIZE:(i + 1) * BATCH_SIZE]\n",
        "\n",
        "        generated_images = G.predict([noise, label_batch], verbose=0)\n",
        "        X = np.concatenate((image_batch, generated_images))\n",
        "        y = [1] * BATCH_SIZE + [0] * BATCH_SIZE\n",
        "        label_batches_for_discriminator = np.concatenate((label_batch, label_batch))\n",
        "        \n",
        "        if(np.random.random()<dist_val):\n",
        "            D_loss = D.train_on_batch([X, label_batches_for_discriminator], y)\n",
        "            d_losses_for_epoch.append(D_loss)\n",
        "            loss_logger.log_scalar(\"discriminator_loss\", D_loss, iteration)\n",
        "\n",
        "        noise = generate_noise((BATCH_SIZE, 13))\n",
        "        D.trainable = False\n",
        "        G_loss = GD.train_on_batch([noise, label_batch], [1] * BATCH_SIZE)\n",
        "        D.trainable = True\n",
        "        g_losses_for_epoch.append(G_loss)\n",
        "        loss_logger.log_scalar(\"generator_loss\", G_loss, iteration)\n",
        "\n",
        "        pbar.update(BATCH_SIZE)\n",
        "\n",
        "        iteration += 1\n",
        "        \n",
        "    # Save a generated image for every epoch\n",
        "    image_grid = generate_mnist_image_grid(G, title=\"Epoch {0}\".format(epoch))\n",
        "    save_generated_image(image_grid, epoch, 0, \"/content/drive/My Drive/MARG/PPDDlist/GAN_result/generated_mnist_images_per_epoch\")\n",
        "    image_logger.log_images(\"/content/drive/My Drive/MARG/PPDDlist/GAN_result/generated_mnist_images_per_epoch\", [image_grid], epoch)\n",
        "\n",
        "    pbar.close()\n",
        "    print(\"D loss: {0}, G loss: {1}\".format(np.mean(d_losses_for_epoch), np.mean(g_losses_for_epoch)))\n",
        "    if(np.mean(g_losses_for_epoch)>1):\n",
        "      dist_val=0.8\n",
        "    else:\n",
        "      dist_val=0.4\n",
        "\n",
        "\n",
        "    G.save_weights(\"/content/drive/My Drive/MARG/PPDDlist/GAN_result/generator.h5\")\n",
        "    D.save_weights(\"/content/drive/My Drive/MARG/PPDDlist/GAN_result/discriminator.h5\")"
      ],
      "execution_count": null,
      "outputs": [
        {
          "output_type": "stream",
          "text": [
            "WARNING:tensorflow:From /usr/local/lib/python3.6/dist-packages/swiss_army_tensorboard/tfboard_loggers/tfboard_loggers.py:32: The name tf.summary.FileWriter is deprecated. Please use tf.compat.v1.summary.FileWriter instead.\n",
            "\n"
          ],
          "name": "stdout"
        },
        {
          "output_type": "stream",
          "text": [
            "/usr/local/lib/python3.6/dist-packages/swiss_army_tensorboard/tfboard_loggers/tfboard_loggers.py:19: UserWarning: Folder /content/drive/My Drive/MARG/PPDDlist/GAN_result/logs/loss is already created, maybe it contains other log files\n",
            "  warnings.warn(\"Folder {0} is already created, maybe it contains other log files\".format(log_dir))\n",
            "/usr/local/lib/python3.6/dist-packages/swiss_army_tensorboard/tfboard_loggers/tfboard_loggers.py:19: UserWarning: Folder /content/drive/My Drive/MARG/PPDDlist/GAN_result/logs/generated_images is already created, maybe it contains other log files\n",
            "  warnings.warn(\"Folder {0} is already created, maybe it contains other log files\".format(log_dir))\n",
            "\rEpoch: 0:   0%|          | 0/116625 [00:00<?, ?it/s]"
          ],
          "name": "stderr"
        },
        {
          "output_type": "stream",
          "text": [
            "Number of iterations per epoch: 455\n",
            "WARNING:tensorflow:From /usr/local/lib/python3.6/dist-packages/keras/backend/tensorflow_backend.py:422: The name tf.global_variables is deprecated. Please use tf.compat.v1.global_variables instead.\n",
            "\n",
            "WARNING:tensorflow:From /usr/local/lib/python3.6/dist-packages/swiss_army_tensorboard/tfboard_loggers/tfboard_loggers.py:72: The name tf.Summary is deprecated. Please use tf.compat.v1.Summary instead.\n",
            "\n"
          ],
          "name": "stdout"
        },
        {
          "output_type": "stream",
          "text": [
            "Epoch: 0:  99%|█████████▉| 115968/116625 [00:29<00:00, 4392.00it/s]/usr/local/lib/python3.6/dist-packages/ipykernel_launcher.py:64: DeprecationWarning: The binary mode of fromstring is deprecated, as it behaves surprisingly on unicode inputs. Use frombuffer instead\n",
            "Epoch: 0: 100%|█████████▉| 116480/116625 [00:50<00:00, 2316.92it/s]\n"
          ],
          "name": "stderr"
        },
        {
          "output_type": "stream",
          "text": [
            "D loss: 0.32216206192970276, G loss: 0.6017144322395325\n"
          ],
          "name": "stdout"
        },
        {
          "output_type": "stream",
          "text": [
            "Epoch: 1: 100%|█████████▉| 116480/116625 [00:22<00:00, 5216.87it/s]\n"
          ],
          "name": "stderr"
        },
        {
          "output_type": "stream",
          "text": [
            "D loss: 0.6992699503898621, G loss: 0.6999568343162537\n"
          ],
          "name": "stdout"
        },
        {
          "output_type": "stream",
          "text": [
            "Epoch: 2: 100%|█████████▉| 116480/116625 [00:22<00:00, 5174.33it/s]\n"
          ],
          "name": "stderr"
        },
        {
          "output_type": "stream",
          "text": [
            "D loss: 0.6937053799629211, G loss: 0.7006574273109436\n"
          ],
          "name": "stdout"
        },
        {
          "output_type": "stream",
          "text": [
            "Epoch: 3: 100%|█████████▉| 116480/116625 [00:22<00:00, 5184.21it/s]\n"
          ],
          "name": "stderr"
        },
        {
          "output_type": "stream",
          "text": [
            "D loss: 0.6912915706634521, G loss: 0.6987686157226562\n"
          ],
          "name": "stdout"
        },
        {
          "output_type": "stream",
          "text": [
            "Epoch: 4: 100%|█████████▉| 116480/116625 [00:22<00:00, 5141.03it/s]\n"
          ],
          "name": "stderr"
        },
        {
          "output_type": "stream",
          "text": [
            "D loss: 0.6906073689460754, G loss: 0.7020766735076904\n"
          ],
          "name": "stdout"
        },
        {
          "output_type": "stream",
          "text": [
            "Epoch: 5: 100%|█████████▉| 116480/116625 [00:22<00:00, 5204.50it/s]\n"
          ],
          "name": "stderr"
        },
        {
          "output_type": "stream",
          "text": [
            "D loss: 0.6898265480995178, G loss: 0.7094224095344543\n"
          ],
          "name": "stdout"
        },
        {
          "output_type": "stream",
          "text": [
            "Epoch: 6: 100%|█████████▉| 116480/116625 [00:22<00:00, 5137.71it/s]\n"
          ],
          "name": "stderr"
        },
        {
          "output_type": "stream",
          "text": [
            "D loss: 0.6889891028404236, G loss: 0.7105128169059753\n"
          ],
          "name": "stdout"
        },
        {
          "output_type": "stream",
          "text": [
            "Epoch: 7: 100%|█████████▉| 116480/116625 [00:22<00:00, 5293.48it/s]\n"
          ],
          "name": "stderr"
        },
        {
          "output_type": "stream",
          "text": [
            "D loss: 0.6882451176643372, G loss: 0.7145406007766724\n"
          ],
          "name": "stdout"
        },
        {
          "output_type": "stream",
          "text": [
            "Epoch: 8: 100%|█████████▉| 116480/116625 [00:22<00:00, 5202.76it/s]\n"
          ],
          "name": "stderr"
        },
        {
          "output_type": "stream",
          "text": [
            "D loss: 0.6870079636573792, G loss: 0.7216155529022217\n"
          ],
          "name": "stdout"
        },
        {
          "output_type": "stream",
          "text": [
            "Epoch: 9: 100%|█████████▉| 116480/116625 [00:23<00:00, 5032.03it/s]\n"
          ],
          "name": "stderr"
        },
        {
          "output_type": "stream",
          "text": [
            "D loss: 0.6834844946861267, G loss: 0.7373501062393188\n"
          ],
          "name": "stdout"
        },
        {
          "output_type": "stream",
          "text": [
            "Epoch: 10: 100%|█████████▉| 116480/116625 [00:22<00:00, 5135.61it/s]\n"
          ],
          "name": "stderr"
        },
        {
          "output_type": "stream",
          "text": [
            "D loss: 0.6817957758903503, G loss: 0.7366161346435547\n"
          ],
          "name": "stdout"
        },
        {
          "output_type": "stream",
          "text": [
            "Epoch: 11: 100%|█████████▉| 116480/116625 [00:22<00:00, 5286.35it/s]\n"
          ],
          "name": "stderr"
        },
        {
          "output_type": "stream",
          "text": [
            "D loss: 0.6793240904808044, G loss: 0.760887861251831\n"
          ],
          "name": "stdout"
        },
        {
          "output_type": "stream",
          "text": [
            "Epoch: 12: 100%|█████████▉| 116480/116625 [00:21<00:00, 5403.47it/s]\n"
          ],
          "name": "stderr"
        },
        {
          "output_type": "stream",
          "text": [
            "D loss: 0.6766477823257446, G loss: 0.7675598859786987\n"
          ],
          "name": "stdout"
        },
        {
          "output_type": "stream",
          "text": [
            "Epoch: 13: 100%|█████████▉| 116480/116625 [00:21<00:00, 5403.33it/s]\n"
          ],
          "name": "stderr"
        },
        {
          "output_type": "stream",
          "text": [
            "D loss: 0.6671504974365234, G loss: 0.7867385745048523\n"
          ],
          "name": "stdout"
        },
        {
          "output_type": "stream",
          "text": [
            "Epoch: 14: 100%|█████████▉| 116480/116625 [00:22<00:00, 5124.72it/s]\n"
          ],
          "name": "stderr"
        },
        {
          "output_type": "stream",
          "text": [
            "D loss: 0.6580691337585449, G loss: 0.8428194522857666\n"
          ],
          "name": "stdout"
        },
        {
          "output_type": "stream",
          "text": [
            "Epoch: 15: 100%|█████████▉| 116480/116625 [00:21<00:00, 5331.98it/s]\n"
          ],
          "name": "stderr"
        },
        {
          "output_type": "stream",
          "text": [
            "D loss: 0.6529902815818787, G loss: 0.8333195447921753\n"
          ],
          "name": "stdout"
        },
        {
          "output_type": "stream",
          "text": [
            "Epoch: 16: 100%|█████████▉| 116480/116625 [00:22<00:00, 5220.73it/s]\n"
          ],
          "name": "stderr"
        },
        {
          "output_type": "stream",
          "text": [
            "D loss: 0.6332772374153137, G loss: 0.8578497767448425\n"
          ],
          "name": "stdout"
        },
        {
          "output_type": "stream",
          "text": [
            "Epoch: 17: 100%|█████████▉| 116480/116625 [00:22<00:00, 5280.51it/s]\n"
          ],
          "name": "stderr"
        },
        {
          "output_type": "stream",
          "text": [
            "D loss: 0.6201273798942566, G loss: 0.9064845442771912\n"
          ],
          "name": "stdout"
        },
        {
          "output_type": "stream",
          "text": [
            "Epoch: 18: 100%|█████████▉| 116480/116625 [00:22<00:00, 5199.70it/s]\n"
          ],
          "name": "stderr"
        },
        {
          "output_type": "stream",
          "text": [
            "D loss: 0.5725380778312683, G loss: 0.970458984375\n"
          ],
          "name": "stdout"
        },
        {
          "output_type": "stream",
          "text": [
            "Epoch: 19: 100%|█████████▉| 116480/116625 [00:22<00:00, 5165.08it/s]\n"
          ],
          "name": "stderr"
        },
        {
          "output_type": "stream",
          "text": [
            "D loss: 0.41460320353507996, G loss: 0.8099326491355896\n"
          ],
          "name": "stdout"
        },
        {
          "output_type": "stream",
          "text": [
            "Epoch: 20: 100%|█████████▉| 116480/116625 [00:22<00:00, 5165.88it/s]\n"
          ],
          "name": "stderr"
        },
        {
          "output_type": "stream",
          "text": [
            "D loss: 0.14763396978378296, G loss: 0.3818759024143219\n"
          ],
          "name": "stdout"
        },
        {
          "output_type": "stream",
          "text": [
            "Epoch: 21: 100%|█████████▉| 116480/116625 [00:22<00:00, 5177.91it/s]\n"
          ],
          "name": "stderr"
        },
        {
          "output_type": "stream",
          "text": [
            "D loss: 0.2128261923789978, G loss: 0.4406583905220032\n"
          ],
          "name": "stdout"
        },
        {
          "output_type": "stream",
          "text": [
            "Epoch: 22: 100%|█████████▉| 116480/116625 [00:22<00:00, 5207.12it/s]\n"
          ],
          "name": "stderr"
        },
        {
          "output_type": "stream",
          "text": [
            "D loss: 0.17693834006786346, G loss: 0.3802022337913513\n"
          ],
          "name": "stdout"
        },
        {
          "output_type": "stream",
          "text": [
            "Epoch: 23: 100%|█████████▉| 116480/116625 [00:22<00:00, 5194.91it/s]\n"
          ],
          "name": "stderr"
        },
        {
          "output_type": "stream",
          "text": [
            "D loss: 0.12259913980960846, G loss: 0.20865321159362793\n"
          ],
          "name": "stdout"
        },
        {
          "output_type": "stream",
          "text": [
            "Epoch: 24: 100%|█████████▉| 116480/116625 [00:22<00:00, 5203.75it/s]\n"
          ],
          "name": "stderr"
        },
        {
          "output_type": "stream",
          "text": [
            "D loss: 0.24096769094467163, G loss: 0.6860189437866211\n"
          ],
          "name": "stdout"
        },
        {
          "output_type": "stream",
          "text": [
            "Epoch: 25: 100%|█████████▉| 116480/116625 [00:22<00:00, 5165.43it/s]\n"
          ],
          "name": "stderr"
        },
        {
          "output_type": "stream",
          "text": [
            "D loss: 0.21152552962303162, G loss: 0.5928997993469238\n"
          ],
          "name": "stdout"
        },
        {
          "output_type": "stream",
          "text": [
            "Epoch: 26: 100%|█████████▉| 116480/116625 [00:22<00:00, 5223.90it/s]\n"
          ],
          "name": "stderr"
        },
        {
          "output_type": "stream",
          "text": [
            "D loss: 0.28456681966781616, G loss: 0.5933595299720764\n"
          ],
          "name": "stdout"
        },
        {
          "output_type": "stream",
          "text": [
            "Epoch: 27: 100%|█████████▉| 116480/116625 [00:22<00:00, 5207.81it/s]\n"
          ],
          "name": "stderr"
        },
        {
          "output_type": "stream",
          "text": [
            "D loss: 0.196945458650589, G loss: 0.5109072327613831\n"
          ],
          "name": "stdout"
        },
        {
          "output_type": "stream",
          "text": [
            "Epoch: 28: 100%|█████████▉| 116480/116625 [00:21<00:00, 5406.15it/s]\n"
          ],
          "name": "stderr"
        },
        {
          "output_type": "stream",
          "text": [
            "D loss: 0.20697923004627228, G loss: 0.6449953317642212\n"
          ],
          "name": "stdout"
        },
        {
          "output_type": "stream",
          "text": [
            "Epoch: 29: 100%|█████████▉| 116480/116625 [00:22<00:00, 5268.64it/s]\n"
          ],
          "name": "stderr"
        },
        {
          "output_type": "stream",
          "text": [
            "D loss: 0.15118619799613953, G loss: 0.33865517377853394\n"
          ],
          "name": "stdout"
        },
        {
          "output_type": "stream",
          "text": [
            "Epoch: 30: 100%|█████████▉| 116480/116625 [00:22<00:00, 5194.45it/s]\n"
          ],
          "name": "stderr"
        },
        {
          "output_type": "stream",
          "text": [
            "D loss: 0.17285098135471344, G loss: 0.7323130369186401\n"
          ],
          "name": "stdout"
        },
        {
          "output_type": "stream",
          "text": [
            "Epoch: 31: 100%|█████████▉| 116480/116625 [00:22<00:00, 5207.76it/s]\n"
          ],
          "name": "stderr"
        },
        {
          "output_type": "stream",
          "text": [
            "D loss: 0.2029077559709549, G loss: 0.9808714985847473\n"
          ],
          "name": "stdout"
        },
        {
          "output_type": "stream",
          "text": [
            "Epoch: 32: 100%|█████████▉| 116480/116625 [00:22<00:00, 5243.20it/s]\n"
          ],
          "name": "stderr"
        },
        {
          "output_type": "stream",
          "text": [
            "D loss: 0.24845299124717712, G loss: 1.0873619318008423\n"
          ],
          "name": "stdout"
        },
        {
          "output_type": "stream",
          "text": [
            "Epoch: 33: 100%|█████████▉| 116480/116625 [00:25<00:00, 4581.37it/s]\n"
          ],
          "name": "stderr"
        },
        {
          "output_type": "stream",
          "text": [
            "D loss: 0.14971193671226501, G loss: 1.3448301553726196\n"
          ],
          "name": "stdout"
        },
        {
          "output_type": "stream",
          "text": [
            "Epoch: 34: 100%|█████████▉| 116480/116625 [00:25<00:00, 4520.84it/s]\n"
          ],
          "name": "stderr"
        },
        {
          "output_type": "stream",
          "text": [
            "D loss: 0.13273966312408447, G loss: 0.9698766469955444\n"
          ],
          "name": "stdout"
        },
        {
          "output_type": "stream",
          "text": [
            "Epoch: 35: 100%|█████████▉| 116480/116625 [00:22<00:00, 5091.24it/s]\n"
          ],
          "name": "stderr"
        },
        {
          "output_type": "stream",
          "text": [
            "D loss: 0.18751691281795502, G loss: 0.828592836856842\n"
          ],
          "name": "stdout"
        },
        {
          "output_type": "stream",
          "text": [
            "Epoch: 36: 100%|█████████▉| 116480/116625 [00:21<00:00, 5319.27it/s]\n"
          ],
          "name": "stderr"
        },
        {
          "output_type": "stream",
          "text": [
            "D loss: 0.18193331360816956, G loss: 1.2768149375915527\n"
          ],
          "name": "stdout"
        },
        {
          "output_type": "stream",
          "text": [
            "Epoch: 37: 100%|█████████▉| 116480/116625 [00:24<00:00, 4797.46it/s]\n"
          ],
          "name": "stderr"
        },
        {
          "output_type": "stream",
          "text": [
            "D loss: 0.14335638284683228, G loss: 1.3555418252944946\n"
          ],
          "name": "stdout"
        },
        {
          "output_type": "stream",
          "text": [
            "Epoch: 38: 100%|█████████▉| 116480/116625 [00:25<00:00, 4643.36it/s]\n"
          ],
          "name": "stderr"
        },
        {
          "output_type": "stream",
          "text": [
            "D loss: 0.06152720749378204, G loss: 0.8049152493476868\n"
          ],
          "name": "stdout"
        },
        {
          "output_type": "stream",
          "text": [
            "Epoch: 39: 100%|█████████▉| 116480/116625 [00:21<00:00, 5328.29it/s]\n"
          ],
          "name": "stderr"
        },
        {
          "output_type": "stream",
          "text": [
            "D loss: 0.24099239706993103, G loss: 1.3944066762924194\n"
          ],
          "name": "stdout"
        },
        {
          "output_type": "stream",
          "text": [
            "Epoch: 40: 100%|█████████▉| 116480/116625 [00:25<00:00, 4509.56it/s]\n"
          ],
          "name": "stderr"
        },
        {
          "output_type": "stream",
          "text": [
            "D loss: 0.11759769171476364, G loss: 1.6787699460983276\n"
          ],
          "name": "stdout"
        },
        {
          "output_type": "stream",
          "text": [
            "Epoch: 41: 100%|█████████▉| 116480/116625 [00:25<00:00, 4626.93it/s]\n"
          ],
          "name": "stderr"
        },
        {
          "output_type": "stream",
          "text": [
            "D loss: 0.11221105605363846, G loss: 1.2255998849868774\n"
          ],
          "name": "stdout"
        },
        {
          "output_type": "stream",
          "text": [
            "Epoch: 42: 100%|█████████▉| 116480/116625 [00:25<00:00, 4622.66it/s]\n"
          ],
          "name": "stderr"
        },
        {
          "output_type": "stream",
          "text": [
            "D loss: 0.10096614062786102, G loss: 2.0361576080322266\n"
          ],
          "name": "stdout"
        },
        {
          "output_type": "stream",
          "text": [
            "Epoch: 43: 100%|█████████▉| 116480/116625 [00:25<00:00, 4499.06it/s]\n"
          ],
          "name": "stderr"
        },
        {
          "output_type": "stream",
          "text": [
            "D loss: 0.1816580891609192, G loss: 1.994032382965088\n"
          ],
          "name": "stdout"
        },
        {
          "output_type": "stream",
          "text": [
            "Epoch: 44: 100%|█████████▉| 116480/116625 [00:25<00:00, 4634.51it/s]\n"
          ],
          "name": "stderr"
        },
        {
          "output_type": "stream",
          "text": [
            "D loss: 0.10940353572368622, G loss: 1.4508423805236816\n"
          ],
          "name": "stdout"
        },
        {
          "output_type": "stream",
          "text": [
            "Epoch: 45: 100%|█████████▉| 116480/116625 [00:25<00:00, 4544.49it/s]\n"
          ],
          "name": "stderr"
        },
        {
          "output_type": "stream",
          "text": [
            "D loss: 0.11685873568058014, G loss: 1.5623657703399658\n"
          ],
          "name": "stdout"
        },
        {
          "output_type": "stream",
          "text": [
            "Epoch: 46: 100%|█████████▉| 116480/116625 [00:25<00:00, 4610.00it/s]\n"
          ],
          "name": "stderr"
        },
        {
          "output_type": "stream",
          "text": [
            "D loss: 0.11003899574279785, G loss: 1.8598759174346924\n"
          ],
          "name": "stdout"
        },
        {
          "output_type": "stream",
          "text": [
            "Epoch: 47: 100%|█████████▉| 116480/116625 [00:25<00:00, 4599.65it/s]\n"
          ],
          "name": "stderr"
        },
        {
          "output_type": "stream",
          "text": [
            "D loss: 0.09723453968763351, G loss: 2.0895023345947266\n"
          ],
          "name": "stdout"
        },
        {
          "output_type": "stream",
          "text": [
            "Epoch: 48: 100%|█████████▉| 116480/116625 [00:25<00:00, 4526.60it/s]\n"
          ],
          "name": "stderr"
        },
        {
          "output_type": "stream",
          "text": [
            "D loss: 0.12302898615598679, G loss: 1.9160820245742798\n"
          ],
          "name": "stdout"
        },
        {
          "output_type": "stream",
          "text": [
            "Epoch: 49: 100%|█████████▉| 116480/116625 [00:25<00:00, 4612.24it/s]\n"
          ],
          "name": "stderr"
        },
        {
          "output_type": "stream",
          "text": [
            "D loss: 0.0976647436618805, G loss: 2.490788459777832\n"
          ],
          "name": "stdout"
        },
        {
          "output_type": "stream",
          "text": [
            "Epoch: 50: 100%|█████████▉| 116480/116625 [00:25<00:00, 4638.32it/s]\n"
          ],
          "name": "stderr"
        },
        {
          "output_type": "stream",
          "text": [
            "D loss: 0.13819418847560883, G loss: 2.385876417160034\n"
          ],
          "name": "stdout"
        },
        {
          "output_type": "stream",
          "text": [
            "Epoch: 51: 100%|█████████▉| 116480/116625 [00:24<00:00, 4685.35it/s]\n"
          ],
          "name": "stderr"
        },
        {
          "output_type": "stream",
          "text": [
            "D loss: 0.11392270773649216, G loss: 2.572012424468994\n"
          ],
          "name": "stdout"
        },
        {
          "output_type": "stream",
          "text": [
            "Epoch: 52: 100%|█████████▉| 116480/116625 [00:25<00:00, 4593.80it/s]\n"
          ],
          "name": "stderr"
        },
        {
          "output_type": "stream",
          "text": [
            "D loss: 0.11231131851673126, G loss: 1.8907500505447388\n"
          ],
          "name": "stdout"
        },
        {
          "output_type": "stream",
          "text": [
            "Epoch: 53: 100%|█████████▉| 116480/116625 [00:25<00:00, 4527.48it/s]\n"
          ],
          "name": "stderr"
        },
        {
          "output_type": "stream",
          "text": [
            "D loss: 0.09216476231813431, G loss: 2.4506072998046875\n"
          ],
          "name": "stdout"
        },
        {
          "output_type": "stream",
          "text": [
            "Epoch: 54: 100%|█████████▉| 116480/116625 [00:25<00:00, 4488.79it/s]\n"
          ],
          "name": "stderr"
        },
        {
          "output_type": "stream",
          "text": [
            "D loss: 0.11653650552034378, G loss: 2.561527729034424\n"
          ],
          "name": "stdout"
        },
        {
          "output_type": "stream",
          "text": [
            "Epoch: 55: 100%|█████████▉| 116480/116625 [00:25<00:00, 4607.29it/s]\n"
          ],
          "name": "stderr"
        },
        {
          "output_type": "stream",
          "text": [
            "D loss: 0.10664509236812592, G loss: 2.940690279006958\n"
          ],
          "name": "stdout"
        },
        {
          "output_type": "stream",
          "text": [
            "Epoch: 56: 100%|█████████▉| 116480/116625 [00:25<00:00, 4530.14it/s]\n"
          ],
          "name": "stderr"
        },
        {
          "output_type": "stream",
          "text": [
            "D loss: 0.14473019540309906, G loss: 2.7119412422180176\n"
          ],
          "name": "stdout"
        },
        {
          "output_type": "stream",
          "text": [
            "Epoch: 57: 100%|█████████▉| 116480/116625 [00:25<00:00, 4546.32it/s]\n"
          ],
          "name": "stderr"
        },
        {
          "output_type": "stream",
          "text": [
            "D loss: 0.10998643189668655, G loss: 2.6287572383880615\n"
          ],
          "name": "stdout"
        },
        {
          "output_type": "stream",
          "text": [
            "Epoch: 58: 100%|█████████▉| 116480/116625 [00:25<00:00, 4555.58it/s]\n"
          ],
          "name": "stderr"
        },
        {
          "output_type": "stream",
          "text": [
            "D loss: 0.10527258366346359, G loss: 2.5208699703216553\n"
          ],
          "name": "stdout"
        },
        {
          "output_type": "stream",
          "text": [
            "Epoch: 59: 100%|█████████▉| 116480/116625 [00:24<00:00, 4789.03it/s]\n"
          ],
          "name": "stderr"
        },
        {
          "output_type": "stream",
          "text": [
            "D loss: 0.1062755286693573, G loss: 2.7643635272979736\n"
          ],
          "name": "stdout"
        },
        {
          "output_type": "stream",
          "text": [
            "Epoch: 60: 100%|█████████▉| 116480/116625 [00:24<00:00, 4774.91it/s]\n"
          ],
          "name": "stderr"
        },
        {
          "output_type": "stream",
          "text": [
            "D loss: 0.10733051598072052, G loss: 2.992614984512329\n"
          ],
          "name": "stdout"
        },
        {
          "output_type": "stream",
          "text": [
            "Epoch: 61: 100%|█████████▉| 116480/116625 [00:25<00:00, 4611.86it/s]\n"
          ],
          "name": "stderr"
        },
        {
          "output_type": "stream",
          "text": [
            "D loss: 0.08526992797851562, G loss: 2.7463631629943848\n"
          ],
          "name": "stdout"
        },
        {
          "output_type": "stream",
          "text": [
            "Epoch: 62: 100%|█████████▉| 116480/116625 [00:25<00:00, 4506.67it/s]\n"
          ],
          "name": "stderr"
        },
        {
          "output_type": "stream",
          "text": [
            "D loss: 0.09964577108621597, G loss: 3.574385404586792\n"
          ],
          "name": "stdout"
        },
        {
          "output_type": "stream",
          "text": [
            "Epoch: 63: 100%|█████████▉| 116480/116625 [00:25<00:00, 4519.51it/s]\n"
          ],
          "name": "stderr"
        },
        {
          "output_type": "stream",
          "text": [
            "D loss: 0.12403114140033722, G loss: 2.913181781768799\n"
          ],
          "name": "stdout"
        },
        {
          "output_type": "stream",
          "text": [
            "Epoch: 64: 100%|█████████▉| 116480/116625 [00:26<00:00, 4479.29it/s]\n"
          ],
          "name": "stderr"
        },
        {
          "output_type": "stream",
          "text": [
            "D loss: 0.09113982319831848, G loss: 3.0624077320098877\n"
          ],
          "name": "stdout"
        },
        {
          "output_type": "stream",
          "text": [
            "Epoch: 65: 100%|█████████▉| 116480/116625 [00:25<00:00, 4553.02it/s]\n"
          ],
          "name": "stderr"
        },
        {
          "output_type": "stream",
          "text": [
            "D loss: 0.10345767438411713, G loss: 3.4433858394622803\n"
          ],
          "name": "stdout"
        },
        {
          "output_type": "stream",
          "text": [
            "Epoch: 66: 100%|█████████▉| 116480/116625 [00:25<00:00, 4602.56it/s]\n"
          ],
          "name": "stderr"
        },
        {
          "output_type": "stream",
          "text": [
            "D loss: 0.10522665083408356, G loss: 3.3097403049468994\n"
          ],
          "name": "stdout"
        },
        {
          "output_type": "stream",
          "text": [
            "Epoch: 67: 100%|█████████▉| 116480/116625 [00:25<00:00, 4610.87it/s]\n"
          ],
          "name": "stderr"
        },
        {
          "output_type": "stream",
          "text": [
            "D loss: 0.09690622240304947, G loss: 2.9889931678771973\n"
          ],
          "name": "stdout"
        },
        {
          "output_type": "stream",
          "text": [
            "Epoch: 68: 100%|█████████▉| 116480/116625 [00:25<00:00, 4571.96it/s]\n"
          ],
          "name": "stderr"
        },
        {
          "output_type": "stream",
          "text": [
            "D loss: 0.08812959492206573, G loss: 3.4285430908203125\n"
          ],
          "name": "stdout"
        },
        {
          "output_type": "stream",
          "text": [
            "Epoch: 69: 100%|█████████▉| 116480/116625 [00:25<00:00, 4538.58it/s]\n"
          ],
          "name": "stderr"
        },
        {
          "output_type": "stream",
          "text": [
            "D loss: 0.07905144989490509, G loss: 3.4729981422424316\n"
          ],
          "name": "stdout"
        },
        {
          "output_type": "stream",
          "text": [
            "Epoch: 70: 100%|█████████▉| 116480/116625 [00:25<00:00, 4648.55it/s]\n"
          ],
          "name": "stderr"
        },
        {
          "output_type": "stream",
          "text": [
            "D loss: 0.11467503756284714, G loss: 3.579540252685547\n"
          ],
          "name": "stdout"
        },
        {
          "output_type": "stream",
          "text": [
            "Epoch: 71: 100%|█████████▉| 116480/116625 [00:24<00:00, 4706.84it/s]\n"
          ],
          "name": "stderr"
        },
        {
          "output_type": "stream",
          "text": [
            "D loss: 0.09196454286575317, G loss: 3.667360305786133\n"
          ],
          "name": "stdout"
        },
        {
          "output_type": "stream",
          "text": [
            "Epoch: 72: 100%|█████████▉| 116480/116625 [00:25<00:00, 4655.21it/s]\n"
          ],
          "name": "stderr"
        },
        {
          "output_type": "stream",
          "text": [
            "D loss: 0.06980402767658234, G loss: 3.4898767471313477\n"
          ],
          "name": "stdout"
        },
        {
          "output_type": "stream",
          "text": [
            "Epoch: 73: 100%|█████████▉| 116480/116625 [00:25<00:00, 4601.60it/s]\n"
          ],
          "name": "stderr"
        },
        {
          "output_type": "stream",
          "text": [
            "D loss: 0.08297178894281387, G loss: 3.7926881313323975\n"
          ],
          "name": "stdout"
        },
        {
          "output_type": "stream",
          "text": [
            "Epoch: 74: 100%|█████████▉| 116480/116625 [00:25<00:00, 4493.24it/s]\n"
          ],
          "name": "stderr"
        },
        {
          "output_type": "stream",
          "text": [
            "D loss: 0.07068537920713425, G loss: 3.4162659645080566\n"
          ],
          "name": "stdout"
        }
      ]
    },
    {
      "cell_type": "code",
      "metadata": {
        "id": "qdEukvpITK_a",
        "colab_type": "code",
        "colab": {}
      },
      "source": [
        "plt.imshow(trainX[i], cmap='gray_r')"
      ],
      "execution_count": null,
      "outputs": []
    },
    {
      "cell_type": "code",
      "metadata": {
        "id": "aUyKRM_Vqd9Y",
        "colab_type": "code",
        "colab": {
          "base_uri": "https://localhost:8080/",
          "height": 333
        },
        "outputId": "0151a79d-cd3b-4c32-91d6-123c6b1fd001"
      },
      "source": [
        "print(encoder.classes_)\n",
        "image=generate_images(G,4,4)\n",
        "H = image[0].reshape((24,24))\n",
        "\n",
        "fig = plt.figure(figsize=(14, 4))\n",
        "\n",
        "ax = fig.add_subplot(111)\n",
        "ax.set_title('colorMap')\n",
        "plt.imshow(H)\n",
        "ax.set_aspect('equal')\n",
        "\n",
        "cax = fig.add_axes([0.12, 0.1, 0.78, 0.8])\n",
        "cax.get_xaxis().set_visible(False)\n",
        "cax.get_yaxis().set_visible(False)\n",
        "cax.patch.set_alpha(0)\n",
        "cax.set_frame_on(False)\n",
        "plt.colorbar(orientation='vertical')\n",
        "plt.show()"
      ],
      "execution_count": null,
      "outputs": [
        {
          "output_type": "stream",
          "text": [
            "['One_rhythm' 'continuing_rhythm' 'down_leaping' 'down_steping'\n",
            " 'fast_rhythm' 'leaping_twisting' 'no skills' 'repeating' 'staccato'\n",
            " 'steping_twisting' 'triplet' 'up_leaping' 'up_steping']\n"
          ],
          "name": "stdout"
        },
        {
          "output_type": "display_data",
          "data": {
            "image/png": "[encoded data removed]",
            "text/plain": [
              "<Figure size 1008x288 with 3 Axes>"
            ]
          },
          "metadata": {
            "tags": [],
            "needs_background": "light"
          }
        }
      ]
    },
    {
      "cell_type": "markdown",
      "metadata": {
        "id": "exdtcOln9Qdq",
        "colab_type": "text"
      },
      "source": [
        "여기서부터 Simple RNN을 구현합니다."
      ]
    },
    {
      "cell_type": "code",
      "metadata": {
        "id": "qNqr-1ZWLKdh",
        "colab_type": "code",
        "colab": {}
      },
      "source": [
        "RNNx_train=[]\n",
        "RNNy_train=[]\n",
        "RNNx_test=[]\n",
        "RNNy_test=[]\n",
        "RNN_kfoldx=[]\n",
        "RNN_kfoldy=[]\n",
        "for i in range(len(bar_matrix_list3)):\n",
        "  nowseq=[]\n",
        "  nowmat=np.array(bar_matrix_list3[i])\n",
        "  nowbars=classifier.predict(nowmat.reshape(len(nowmat),24,24,1) ) #이는 mlb를 통해 embedding 되어있다\n",
        "  for j,bars in enumerate(nowbars):\n",
        "    if(j==len(nowbars)-1):\n",
        "      if(i>=5000):\n",
        "        RNNy_test.append(np.argmax(bars))\n",
        "      else:\n",
        "        RNNy_train.append(np.argmax(bars))\n",
        "      RNN_kfoldy.append(np.argmax(bars))\n",
        "    else:\n",
        "      nowseq.append(np.argmax(bars)+1)#0 padding을 하기 때문에 0~12에 해당하는 스킬을 1~13으로 사용한다. predict때 이를 감안하면 된다. \n",
        "  if(i>=5000):\n",
        "    RNNx_test.append(nowseq)\n",
        "  else:\n",
        "    RNNx_train.append(nowseq)\n",
        "  RNN_kfoldx.append(nowseq)"
      ],
      "execution_count": null,
      "outputs": []
    },
    {
      "cell_type": "code",
      "metadata": {
        "id": "1oaBpBguS5j2",
        "colab_type": "code",
        "colab": {
          "base_uri": "https://localhost:8080/",
          "height": 211
        },
        "outputId": "8e756674-3067-46ab-f0bf-0b4a88d3e58a"
      },
      "source": [
        "from keras.utils import to_categorical\n",
        "print(len(RNNx_train),len(RNNx_train[0]))\n",
        "print(RNNy_train)\n",
        "print(to_categorical(RNNy_train))\n",
        "print(mlb.inverse_transform(to_categorical(RNNy_train)))"
      ],
      "execution_count": null,
      "outputs": [
        {
          "output_type": "stream",
          "text": [
            "5000 17\n",
            "[6, 6, 3, 5, 9, 6, 2, 6, 7, 6, 2, 6, 12, 11, 6, 6, 6, 11, 6, 2, 5, 7, 6, 11, 3, 6, 3, 9, 2, 8, 4, 5, 6, 12, 6, 10, 6, 6, 12, 5, 7, 6, 6, 6, 6, 6, 4, 6, 12, 7, 5, 5, 6, 5, 6, 7, 10, 6, 2, 6, 6, 6, 7, 5, 12, 11, 2, 12, 6, 6, 6, 12, 2, 0, 11, 6, 2, 6, 6, 5, 6, 6, 12, 8, 6, 6, 6, 6, 5, 7, 5, 6, 11, 6, 6, 6, 8, 6, 6, 5, 5, 6, 11, 6, 6, 2, 5, 6, 8, 6, 6, 6, 6, 12, 6, 1, 4, 6, 8, 11, 2, 6, 2, 5, 8, 6, 2, 2, 2, 6, 9, 8, 5, 8, 5, 7, 6, 2, 6, 6, 2, 2, 3, 6, 5, 5, 10, 0, 9, 11, 11, 5, 5, 7, 2, 6, 6, 6, 6, 6, 6, 8, 6, 11, 6, 6, 6, 6, 6, 5, 3, 4, 6, 11, 7, 6, 12, 6, 12, 1, 12, 6, 5, 6, 8, 6, 6, 6, 12, 4, 6, 6, 8, 6, 6, 6, 3, 6, 3, 8, 6, 6, 6, 2, 12, 8, 6, 11, 11, 6, 6, 6, 2, 6, 7, 5, 8, 6, 5, 5, 6, 6, 5, 12, 3, 6, 12, 8, 6, 12, 6, 12, 6, 6, 4, 6, 2, 7, 9, 2, 5, 12, 6, 6, 7, 12, 8, 6, 6, 6, 12, 11, 11, 6, 5, 7, 6, 11, 6, 12, 6, 8, 7, 6, 2, 11, 7, 8, 6, 3, 6, 6, 6, 6, 5, 6, 6, 11, 6, 8, 5, 4, 10, 12, 6, 12, 11, 5, 6, 3, 5, 2, 5, 6, 6, 6, 12, 11, 12, 11, 7, 8, 6, 6, 8, 6, 6, 6, 8, 6, 9, 11, 6, 7, 6, 12, 2, 6, 8, 4, 3, 6, 9, 5, 12, 5, 10, 11, 12, 8, 2, 6, 11, 11, 2, 6, 12, 8, 6, 6, 6, 12, 3, 6, 6, 8, 6, 6, 6, 12, 2, 6, 11, 6, 6, 12, 1, 6, 6, 6, 6, 2, 9, 8, 6, 6, 6, 6, 6, 0, 6, 1, 6, 6, 6, 6, 12, 6, 6, 6, 5, 6, 1, 8, 6, 6, 5, 2, 6, 6, 6, 12, 12, 6, 6, 6, 3, 7, 6, 8, 5, 7, 6, 6, 6, 6, 11, 8, 12, 6, 6, 6, 6, 6, 6, 6, 6, 2, 5, 6, 3, 0, 7, 8, 8, 6, 6, 4, 12, 5, 6, 2, 6, 5, 6, 12, 10, 11, 8, 6, 7, 1, 11, 6, 6, 6, 8, 5, 6, 6, 12, 6, 6, 6, 6, 11, 6, 5, 6, 4, 6, 5, 6, 6, 10, 6, 2, 8, 2, 11, 7, 6, 6, 11, 6, 9, 7, 6, 7, 8, 2, 6, 6, 7, 7, 5, 6, 6, 2, 4, 7, 7, 6, 6, 6, 10, 3, 3, 2, 6, 8, 2, 11, 6, 2, 2, 12, 6, 6, 2, 12, 6, 5, 2, 4, 3, 7, 2, 10, 6, 6, 6, 6, 7, 12, 2, 6, 6, 7, 6, 6, 6, 6, 5, 7, 6, 7, 6, 6, 0, 6, 6, 2, 11, 8, 1, 2, 8, 5, 5, 7, 2, 6, 6, 4, 8, 5, 6, 6, 6, 6, 6, 11, 1, 12, 8, 6, 6, 5, 12, 5, 6, 8, 8, 6, 11, 6, 4, 6, 10, 3, 11, 6, 11, 12, 6, 6, 4, 6, 6, 6, 7, 6, 4, 2, 6, 1, 12, 7, 6, 5, 2, 11, 2, 6, 8, 6, 5, 12, 7, 6, 6, 6, 6, 6, 6, 7, 7, 5, 6, 6, 6, 7, 6, 6, 5, 12, 4, 12, 6, 6, 11, 6, 2, 6, 11, 2, 6, 2, 6, 8, 8, 5, 6, 5, 6, 5, 12, 5, 12, 10, 6, 6, 5, 8, 6, 7, 6, 6, 6, 4, 10, 7, 11, 6, 10, 6, 6, 8, 7, 6, 6, 6, 2, 6, 12, 6, 12, 6, 12, 8, 7, 6, 7, 8, 12, 6, 11, 6, 2, 6, 6, 6, 6, 6, 1, 6, 2, 6, 6, 8, 6, 2, 11, 7, 8, 8, 12, 6, 2, 2, 7, 12, 2, 8, 5, 6, 8, 11, 11, 11, 6, 5, 2, 2, 8, 5, 5, 6, 12, 7, 6, 6, 2, 6, 11, 6, 6, 3, 5, 7, 10, 8, 6, 11, 1, 12, 6, 7, 6, 6, 2, 12, 11, 11, 6, 9, 12, 12, 10, 8, 9, 8, 8, 8, 12, 6, 2, 12, 6, 5, 2, 6, 8, 6, 2, 3, 6, 3, 5, 8, 6, 6, 8, 2, 7, 6, 7, 2, 6, 2, 6, 5, 5, 11, 6, 2, 6, 8, 8, 11, 11, 10, 12, 6, 9, 2, 5, 4, 8, 6, 2, 10, 6, 2, 5, 12, 12, 1, 5, 6, 6, 1, 11, 6, 6, 6, 5, 11, 2, 7, 8, 6, 11, 6, 11, 6, 7, 5, 5, 4, 5, 5, 6, 2, 4, 10, 1, 5, 2, 4, 10, 12, 6, 8, 5, 6, 2, 12, 6, 6, 6, 11, 8, 6, 4, 6, 5, 6, 7, 8, 4, 11, 6, 6, 6, 2, 6, 11, 6, 8, 6, 7, 5, 7, 8, 6, 2, 6, 6, 5, 11, 6, 6, 6, 6, 7, 7, 6, 2, 11, 5, 8, 7, 6, 5, 6, 6, 4, 12, 1, 10, 2, 5, 8, 12, 8, 6, 5, 8, 6, 6, 6, 2, 6, 6, 6, 6, 12, 6, 6, 6, 5, 4, 6, 6, 2, 3, 8, 3, 6, 2, 6, 7, 3, 6, 8, 6, 6, 6, 6, 6, 5, 8, 6, 5, 10, 6, 6, 8, 9, 8, 6, 5, 8, 12, 6, 6, 5, 8, 5, 2, 6, 6, 6, 6, 1, 6, 10, 12, 6, 6, 7, 7, 7, 6, 9, 6, 2, 6, 12, 4, 6, 7, 6, 0, 6, 3, 6, 8, 6, 2, 12, 6, 9, 12, 6, 6, 6, 9, 6, 12, 6, 10, 6, 6, 5, 6, 6, 9, 6, 5, 10, 5, 6, 6, 5, 6, 0, 3, 6, 6, 5, 7, 7, 12, 2, 5, 6, 8, 5, 6, 6, 6, 6, 6, 8, 12, 6, 11, 5, 2, 6, 12, 6, 6, 2, 5, 6, 12, 5, 11, 9, 6, 10, 6, 6, 7, 5, 5, 6, 6, 6, 2, 6, 6, 6, 3, 6, 7, 6, 2, 6, 5, 6, 7, 2, 4, 7, 5, 11, 6, 6, 5, 12, 5, 11, 11, 7, 11, 6, 6, 8, 8, 4, 2, 11, 7, 6, 11, 11, 8, 6, 6, 2, 6, 7, 2, 7, 6, 7, 12, 4, 7, 6, 12, 8, 5, 8, 8, 2, 8, 8, 6, 6, 6, 7, 8, 5, 12, 6, 6, 6, 7, 6, 5, 12, 6, 12, 2, 12, 6, 5, 6, 9, 6, 6, 6, 4, 8, 5, 5, 10, 11, 6, 6, 7, 6, 4, 6, 6, 9, 12, 5, 6, 10, 12, 11, 6, 6, 7, 5, 5, 6, 6, 6, 6, 8, 2, 11, 5, 6, 4, 6, 7, 1, 12, 4, 3, 6, 6, 6, 6, 5, 12, 2, 8, 7, 3, 12, 6, 6, 6, 6, 6, 2, 1, 6, 6, 6, 2, 8, 8, 6, 11, 12, 11, 8, 8, 6, 6, 6, 6, 6, 2, 2, 6, 8, 7, 6, 6, 5, 7, 6, 2, 6, 6, 7, 6, 0, 1, 3, 2, 6, 11, 6, 6, 8, 3, 8, 10, 6, 6, 6, 12, 6, 12, 5, 7, 0, 6, 5, 5, 11, 5, 5, 8, 10, 10, 8, 6, 8, 6, 9, 2, 6, 10, 6, 6, 3, 6, 11, 8, 6, 6, 6, 6, 7, 12, 2, 8, 5, 11, 8, 2, 6, 2, 8, 2, 6, 8, 8, 11, 5, 6, 6, 6, 11, 6, 6, 7, 12, 6, 6, 5, 6, 6, 5, 7, 11, 11, 4, 7, 12, 8, 6, 6, 6, 6, 6, 6, 6, 6, 8, 6, 7, 6, 2, 8, 4, 6, 10, 12, 5, 6, 6, 6, 6, 6, 6, 5, 6, 4, 5, 5, 2, 11, 2, 6, 12, 6, 8, 7, 6, 7, 6, 4, 6, 6, 11, 6, 8, 6, 7, 7, 6, 5, 12, 12, 5, 6, 2, 5, 6, 6, 6, 11, 8, 11, 4, 6, 11, 11, 4, 6, 4, 10, 6, 7, 6, 6, 6, 4, 6, 9, 11, 8, 6, 5, 8, 6, 12, 6, 10, 12, 6, 6, 11, 6, 1, 11, 2, 6, 5, 6, 6, 11, 8, 5, 5, 3, 12, 7, 6, 11, 7, 10, 2, 6, 5, 11, 8, 8, 6, 10, 6, 12, 4, 6, 8, 6, 6, 9, 6, 5, 6, 6, 6, 6, 11, 8, 8, 6, 6, 6, 6, 11, 4, 3, 6, 11, 10, 6, 6, 9, 5, 6, 3, 7, 6, 6, 6, 6, 5, 6, 6, 6, 6, 6, 7, 9, 11, 8, 1, 11, 2, 7, 6, 6, 6, 6, 6, 6, 8, 6, 2, 12, 8, 6, 5, 11, 6, 6, 6, 6, 8, 6, 11, 6, 8, 4, 11, 11, 8, 6, 3, 6, 2, 6, 12, 6, 2, 2, 8, 12, 10, 6, 6, 12, 6, 10, 6, 0, 6, 5, 11, 6, 6, 6, 11, 8, 6, 2, 12, 6, 6, 4, 7, 6, 5, 6, 12, 6, 11, 6, 7, 6, 5, 5, 6, 11, 12, 7, 12, 6, 2, 6, 10, 11, 6, 6, 8, 5, 6, 6, 6, 6, 12, 12, 5, 2, 11, 6, 6, 6, 12, 6, 6, 10, 6, 11, 6, 7, 3, 10, 6, 8, 2, 4, 12, 5, 6, 6, 12, 12, 6, 5, 12, 5, 2, 2, 7, 11, 6, 8, 8, 6, 12, 10, 8, 12, 6, 6, 6, 6, 5, 6, 1, 6, 5, 6, 6, 6, 6, 6, 7, 11, 4, 8, 6, 6, 3, 6, 6, 6, 6, 8, 6, 6, 6, 7, 6, 3, 7, 6, 6, 6, 5, 6, 6, 6, 6, 3, 7, 6, 8, 6, 12, 6, 2, 6, 12, 2, 3, 6, 12, 6, 11, 6, 6, 11, 6, 6, 9, 5, 11, 6, 2, 6, 12, 11, 7, 5, 8, 12, 12, 5, 11, 7, 5, 4, 6, 9, 5, 12, 5, 6, 0, 7, 3, 7, 6, 6, 11, 2, 12, 4, 12, 6, 6, 6, 7, 5, 11, 8, 5, 6, 4, 9, 6, 6, 5, 6, 2, 6, 6, 12, 6, 2, 6, 11, 11, 8, 2, 12, 8, 8, 8, 2, 6, 8, 6, 6, 6, 10, 6, 5, 6, 6, 11, 6, 5, 11, 6, 6, 6, 12, 2, 6, 6, 5, 5, 12, 6, 6, 6, 6, 11, 3, 8, 5, 12, 6, 6, 12, 6, 12, 6, 8, 6, 6, 10, 7, 2, 6, 8, 5, 3, 6, 7, 6, 7, 12, 6, 3, 2, 6, 12, 6, 3, 6, 6, 6, 12, 8, 8, 6, 7, 8, 6, 6, 6, 6, 4, 7, 2, 6, 4, 9, 6, 8, 6, 6, 7, 7, 6, 4, 6, 6, 6, 6, 6, 2, 5, 11, 6, 2, 4, 4, 12, 2, 6, 6, 7, 7, 2, 4, 6, 5, 1, 6, 2, 7, 5, 7, 8, 9, 6, 12, 11, 8, 12, 6, 1, 6, 7, 5, 5, 6, 5, 3, 5, 5, 2, 12, 12, 6, 6, 6, 6, 12, 6, 6, 12, 6, 6, 6, 6, 5, 11, 6, 11, 6, 6, 10, 9, 6, 5, 4, 6, 6, 11, 6, 9, 8, 12, 6, 8, 12, 4, 7, 6, 6, 8, 12, 5, 8, 6, 6, 4, 10, 6, 6, 8, 6, 6, 2, 8, 5, 5, 4, 7, 6, 6, 9, 7, 6, 7, 6, 6, 7, 6, 12, 8, 6, 6, 2, 2, 6, 2, 2, 11, 6, 6, 5, 2, 6, 6, 6, 7, 6, 2, 6, 7, 11, 12, 6, 5, 5, 12, 12, 12, 7, 6, 7, 11, 6, 6, 6, 6, 6, 11, 8, 11, 6, 2, 1, 6, 6, 8, 6, 5, 11, 7, 11, 3, 10, 2, 6, 6, 6, 5, 6, 2, 6, 7, 6, 2, 6, 11, 6, 8, 6, 8, 0, 6, 7, 5, 6, 6, 8, 5, 11, 5, 8, 6, 11, 11, 6, 5, 4, 12, 7, 3, 8, 6, 6, 4, 11, 8, 10, 6, 3, 6, 8, 3, 2, 6, 5, 6, 2, 11, 2, 6, 6, 6, 7, 8, 3, 6, 5, 6, 6, 6, 10, 11, 6, 2, 6, 7, 6, 2, 4, 6, 8, 6, 3, 7, 12, 2, 6, 6, 1, 6, 6, 8, 0, 6, 8, 2, 8, 6, 6, 6, 8, 6, 8, 8, 9, 6, 5, 6, 6, 4, 7, 4, 6, 5, 7, 6, 6, 6, 5, 12, 11, 6, 6, 6, 8, 10, 11, 6, 7, 6, 6, 6, 6, 4, 2, 6, 7, 6, 12, 11, 8, 6, 6, 6, 5, 6, 9, 2, 6, 7, 6, 0, 8, 0, 8, 7, 6, 3, 6, 6, 12, 7, 6, 11, 8, 8, 8, 2, 6, 11, 6, 11, 9, 2, 5, 6, 11, 6, 5, 8, 6, 6, 7, 5, 6, 7, 6, 2, 8, 8, 6, 6, 5, 6, 5, 5, 7, 6, 6, 7, 7, 6, 6, 5, 7, 5, 2, 2, 6, 4, 5, 5, 6, 11, 12, 6, 2, 6, 6, 6, 6, 11, 7, 11, 11, 6, 5, 6, 7, 5, 5, 7, 5, 6, 4, 6, 5, 12, 3, 4, 10, 6, 7, 2, 0, 2, 5, 11, 10, 8, 6, 6, 6, 5, 6, 9, 11, 4, 5, 4, 6, 11, 5, 6, 12, 6, 6, 5, 5, 8, 5, 6, 6, 4, 8, 7, 11, 0, 2, 6, 2, 6, 6, 6, 5, 6, 5, 6, 10, 2, 8, 2, 2, 6, 5, 5, 6, 8, 2, 11, 12, 6, 6, 8, 8, 6, 12, 2, 6, 8, 6, 6, 10, 5, 12, 6, 8, 5, 3, 6, 5, 6, 12, 2, 12, 6, 6, 2, 9, 7, 6, 6, 7, 12, 6, 6, 2, 6, 5, 6, 5, 8, 6, 6, 6, 6, 11, 6, 5, 12, 6, 6, 8, 6, 8, 12, 6, 11, 7, 5, 8, 12, 6, 2, 10, 5, 4, 12, 4, 6, 5, 11, 8, 2, 6, 6, 6, 2, 4, 10, 4, 5, 7, 8, 6, 10, 6, 9, 10, 8, 6, 9, 4, 5, 11, 6, 5, 2, 5, 6, 8, 6, 6, 6, 11, 6, 6, 8, 5, 6, 6, 6, 4, 5, 5, 11, 6, 6, 5, 6, 11, 7, 12, 9, 6, 7, 2, 4, 7, 1, 8, 8, 9, 3, 12, 6, 6, 6, 5, 2, 8, 2, 2, 6, 5, 4, 6, 12, 6, 11, 7, 6, 6, 8, 6, 11, 6, 2, 12, 5, 5, 6, 11, 5, 8, 6, 5, 6, 6, 5, 6, 6, 6, 8, 5, 8, 12, 12, 8, 6, 6, 5, 8, 7, 5, 12, 6, 5, 8, 9, 6, 8, 12, 6, 6, 12, 6, 2, 6, 6, 2, 6, 0, 2, 2, 5, 7, 6, 6, 5, 6, 8, 6, 2, 5, 8, 6, 8, 2, 10, 5, 6, 10, 6, 7, 6, 6, 6, 11, 5, 10, 7, 11, 8, 8, 6, 6, 5, 2, 12, 2, 8, 9, 11, 2, 4, 9, 5, 10, 6, 6, 6, 6, 8, 2, 6, 11, 5, 5, 5, 5, 6, 6, 6, 6, 6, 6, 2, 6, 11, 6, 12, 6, 6, 10, 8, 3, 5, 7, 12, 6, 10, 11, 6, 11, 6, 11, 6, 6, 6, 6, 6, 2, 6, 6, 5, 5, 6, 6, 12, 7, 12, 6, 6, 7, 9, 11, 6, 6, 6, 9, 11, 5, 12, 6, 6, 8, 6, 12, 6, 10, 6, 6, 6, 9, 11, 8, 5, 7, 3, 6, 6, 5, 8, 6, 2, 5, 6, 3, 8, 8, 5, 2, 6, 7, 5, 12, 6, 6, 2, 7, 5, 10, 2, 6, 6, 6, 2, 11, 6, 6, 6, 12, 6, 12, 8, 5, 6, 1, 8, 5, 3, 6, 6, 12, 12, 12, 1, 8, 6, 6, 5, 3, 12, 2, 5, 10, 5, 12, 2, 6, 7, 11, 2, 12, 7, 8, 6, 9, 2, 8, 5, 6, 6, 12, 5, 12, 6, 7, 3, 6, 11, 5, 7, 5, 2, 5, 2, 6, 6, 6, 11, 6, 12, 2, 6, 5, 7, 6, 5, 6, 11, 3, 6, 6, 2, 5, 7, 3, 7, 5, 9, 5, 5, 5, 6, 6, 11, 6, 2, 6, 6, 2, 12, 12, 11, 6, 6, 0, 9, 0, 6, 8, 3, 10, 11, 11, 6, 6, 2, 6, 6, 6, 8, 3, 2, 6, 12, 12, 0, 6, 6, 6, 6, 11, 8, 6, 6, 9, 9, 7, 12, 8, 6, 6, 10, 5, 5, 6, 6, 2, 6, 6, 6, 8, 11, 5, 11, 6, 6, 6, 11, 8, 6, 6, 10, 8, 6, 2, 7, 8, 6, 4, 11, 11, 8, 6, 6, 7, 8, 6, 11, 6, 5, 2, 8, 6, 4, 12, 6, 10, 6, 6, 5, 5, 6, 6, 6, 12, 6, 6, 2, 6, 6, 6, 6, 7, 12, 6, 12, 12, 6, 6, 2, 6, 2, 6, 12, 7, 3, 2, 6, 6, 7, 6, 6, 8, 5, 5, 12, 6, 4, 6, 6, 2, 5, 11, 12, 6, 6, 6, 6, 5, 6, 6, 6, 3, 6, 6, 6, 1, 8, 7, 5, 3, 6, 6, 6, 5, 8, 6, 10, 5, 2, 6, 3, 6, 12, 12, 6, 12, 11, 6, 8, 8, 9, 7, 8, 7, 6, 6, 6, 5, 6, 11, 11, 12, 3, 2, 6, 6, 2, 6, 3, 9, 6, 6, 11, 7, 6, 2, 6, 7, 6, 6, 4, 12, 2, 6, 6, 6, 6, 6, 3, 6, 6, 12, 12, 6, 8, 8, 6, 4, 8, 8, 6, 9, 11, 6, 6, 6, 2, 5, 12, 2, 6, 12, 6, 6, 12, 6, 6, 11, 6, 4, 6, 6, 6, 2, 6, 11, 11, 4, 6, 4, 12, 11, 6, 6, 7, 6, 4, 12, 5, 6, 6, 8, 6, 7, 5, 2, 6, 12, 6, 5, 4, 6, 9, 11, 8, 2, 5, 6, 6, 11, 5, 12, 6, 12, 8, 6, 6, 8, 6, 10, 6, 11, 12, 12, 6, 11, 5, 12, 5, 8, 10, 6, 6, 8, 3, 6, 7, 6, 3, 7, 6, 6, 2, 6, 6, 6, 6, 0, 5, 5, 6, 11, 6, 5, 6, 8, 6, 8, 7, 4, 6, 12, 6, 2, 6, 1, 6, 5, 6, 8, 5, 6, 6, 5, 2, 12, 8, 8, 6, 4, 6, 12, 6, 8, 2, 12, 8, 5, 8, 6, 5, 12, 6, 11, 7, 11, 7, 6, 6, 6, 10, 1, 7, 6, 9, 6, 7, 6, 6, 6, 6, 8, 7, 6, 10, 8, 6, 2, 12, 5, 6, 6, 10, 6, 12, 11, 7, 12, 6, 11, 3, 4, 11, 12, 8, 11, 6, 12, 6, 5, 7, 6, 7, 11, 11, 9, 6, 8, 11, 7, 8, 10, 12, 8, 6, 5, 6, 12, 6, 8, 11, 8, 12, 2, 6, 6, 8, 8, 7, 11, 5, 6, 8, 2, 9, 6, 12, 5, 2, 12, 6, 2, 7, 6, 6, 6, 8, 6, 1, 11, 1, 0, 6, 6, 11, 6, 6, 1, 6, 4, 3, 6, 2, 6, 6, 6, 8, 7, 6, 6, 7, 6, 6, 6, 6, 2, 6, 8, 12, 2, 3, 6, 8, 6, 6, 6, 6, 6, 6, 6, 6, 7, 8, 6, 6, 5, 6, 2, 11, 6, 0, 9, 5, 8, 6, 12, 12, 8, 6, 2, 6, 12, 6, 2, 10, 11, 6, 6, 6, 6, 8, 5, 9, 6, 8, 7, 6, 6, 11, 7, 5, 5, 6, 5, 4, 5, 3, 6, 11, 6, 10, 6, 7, 8, 7, 6, 12, 11, 8, 6, 11, 7, 6, 6, 12, 6, 6, 5, 3, 6, 4, 1, 6, 6, 8, 8, 6, 2, 6, 6, 8, 4, 8, 2, 5, 6, 4, 5, 6, 6, 6, 6, 9, 3, 8, 6, 11, 6, 2, 6, 8, 5, 6, 5, 6, 11, 5, 6, 6, 6, 6, 2, 6, 6, 6, 5, 12, 5, 0, 6, 4, 12, 8, 8, 5, 5, 12, 6, 8, 5, 4, 6, 4, 11, 6, 5, 7, 6, 6, 12, 6, 10, 6, 2, 6, 11, 6, 6, 12, 12, 6, 5, 8, 10, 7, 12, 6, 7, 5, 6, 8, 6, 2, 6, 12, 4, 6, 6, 6, 6, 7, 8, 7, 6, 6, 4, 6, 6, 6, 12, 11, 7, 7, 4, 8, 6, 5, 2, 11, 5, 6, 9, 5, 2, 11, 11, 7, 11, 6, 8, 12, 12, 6, 6, 2, 6, 5, 11, 6, 6, 7, 2, 9, 6, 6, 6, 8, 6, 6, 8, 4, 6, 1, 12, 6, 6, 6, 12, 6, 6, 4, 10, 6, 6, 6, 6, 5, 8, 4, 8, 6, 2, 5, 7, 5, 12, 8, 2, 7, 8, 6, 2, 6, 6, 11, 6, 12, 5, 6, 2, 12, 7, 10, 7, 2, 4, 8, 6, 6, 5, 11, 6, 6, 9, 6, 5, 11, 6, 6, 5, 8, 12, 8, 9, 6, 6, 6, 12, 6, 5, 2, 8, 6, 11, 6, 5, 8, 8, 12, 12, 2, 5, 3, 6, 12, 10, 5, 6, 2, 2, 2, 6, 6, 12, 6, 2, 2, 7, 6, 6, 10, 12, 5, 7, 11, 9, 11, 4, 3, 8, 2, 10, 2, 5, 6, 9, 5, 6, 11, 6, 2, 7, 6, 3, 6, 8, 5, 11, 5, 6, 6, 9, 7, 11, 2, 6, 6, 6, 10, 12, 8, 6, 6, 2, 6, 11, 6, 6, 8, 5, 12, 8, 8, 6, 11, 11, 8, 7, 6, 6, 6, 6, 6, 2, 6, 6, 7, 11, 5, 8, 6, 5, 6, 6, 5, 6, 12, 12, 6, 5, 12, 6, 7, 6, 8, 5, 2, 2, 6, 12, 6, 6, 6, 2, 6, 11, 5, 6, 5, 11, 6, 11, 5, 8, 12, 5, 5, 6, 6, 6, 6, 6, 7, 6, 2, 6, 11, 6, 8, 7, 6, 6, 7, 12, 11, 6, 6, 6, 11, 6, 6, 6, 11, 6, 5, 5, 11, 2, 6, 8, 6, 6, 2, 7, 6, 9, 6, 6, 6, 6, 6, 6, 8, 10, 11, 6, 8, 6, 6, 5, 8, 2, 6, 6, 2, 11, 11, 5, 6, 6, 10, 6, 6, 7, 6, 7, 1, 6, 6, 3, 10, 10, 6, 6, 11, 10, 6, 2, 6, 6, 6, 10, 11, 6, 5, 5, 6, 10, 8, 6, 5, 6, 6, 8, 6, 6, 5, 6, 6, 6, 5, 7, 5, 6, 6, 6, 4, 6, 6, 6, 12, 11, 6, 8, 12, 6, 5, 12, 6, 7, 6, 7, 11, 6, 12, 6, 5, 5, 8, 6, 6, 6, 2, 12, 6, 5, 8, 6, 2, 6, 11, 6, 6, 12, 6, 6, 6, 7, 11, 12, 3, 12, 6, 7, 6, 8, 2, 12, 6, 5, 8, 5, 4, 6, 6, 6, 4, 11, 6, 8, 5, 11, 10, 6, 2, 6, 5, 6, 12, 6, 11, 9, 7, 6, 7, 3, 6, 10, 6, 8, 2, 5, 11, 6, 7, 6, 8, 3, 5, 0, 6, 8, 7, 6, 2, 6, 7, 6, 6, 7, 6, 6, 6, 6, 6, 6, 12, 12, 7, 8, 7, 5, 6, 7, 2, 12, 5, 10, 8, 1, 8, 12, 6, 6, 10, 6, 6, 5, 5, 6, 6, 11, 6, 12, 2, 2, 12, 6, 12, 4, 6, 6, 7, 9, 2, 3, 5, 6, 5, 2, 8, 8, 11, 6, 6, 4, 6, 11, 6, 6, 8, 7, 11, 3, 12, 1, 12, 6, 6, 6, 8, 11, 6, 2, 6, 12, 8, 6, 12, 4, 10, 12, 6, 6, 7, 6, 6, 2, 6, 6, 12, 9, 5, 6, 6, 6, 6, 5, 7, 10, 6, 6, 4, 6, 6, 6, 1, 6, 6, 6, 8, 8, 5, 9, 8, 5, 5, 6, 11, 6, 6, 5, 6, 6, 6, 8, 6, 6, 6, 7, 6, 4, 5, 6, 2, 6, 6, 5, 8, 12, 6, 1, 6, 11, 6, 6, 12, 6, 8, 6, 12, 5, 6, 7, 6, 12, 12, 8, 11, 12, 8, 8, 6, 1, 6, 6, 6, 2, 9, 6, 2, 6, 7, 6, 6, 8, 12, 12, 6, 12, 5, 5, 11, 6, 9, 2, 6, 6, 7, 6, 6, 12, 5, 12, 12, 11, 6, 6, 2, 1, 6, 4, 6, 6, 6, 6, 6, 6, 7, 2, 12, 8, 6, 6, 2, 8, 12, 12, 8, 6, 11, 6, 11, 9, 5, 10, 8, 6, 4, 12, 6, 6, 2, 6, 6, 6, 5, 6, 10, 6, 7, 7, 2, 9, 11, 6, 12, 12, 6, 11, 11, 6, 6, 2, 1, 6, 10, 12, 6, 5, 11, 6, 11, 8, 6, 6, 6, 2, 2, 6, 6, 6, 6, 6, 6, 2, 6, 6, 2, 8, 4, 12, 12, 6, 6, 6, 6, 6, 12, 6, 6, 7, 12, 8, 6, 3, 6, 6, 6, 6, 3, 6, 8, 6, 2, 5, 12, 6, 11, 11, 12, 5, 6, 6, 3, 2, 5, 6, 6, 12, 6, 8, 6, 8, 12, 8, 12, 3, 6, 4, 6, 6, 4, 12, 11, 7, 8, 6, 12, 12, 6, 2, 12, 6, 11, 6, 11, 10, 9, 6, 2, 3, 5, 11, 6, 6, 5, 12, 6, 6, 11, 6, 4, 4, 2, 6, 6, 6, 6, 5, 7, 6, 8, 6, 6, 5, 10, 5, 3, 12, 2, 9, 6, 6, 12, 6, 6, 6, 6, 6, 6, 6, 9, 10, 12, 4, 11, 6, 6, 6, 12, 5, 9, 6, 12, 4, 6, 8, 6, 6, 4, 6, 6, 6, 7, 6, 2, 11, 10, 6, 2, 6, 6, 10, 8, 8, 6, 8, 2, 6, 6, 6, 12, 3, 6, 4, 11, 6, 5, 6, 1, 6, 2, 6, 5, 8, 6, 6, 6, 4, 6, 10, 5, 6, 6, 6, 6, 6, 6, 6, 8, 6, 3, 6, 6, 10, 6, 12, 5, 6, 10, 6, 7, 8, 5, 11, 6, 8, 6, 6, 6, 1, 6, 6, 5, 6, 9, 12, 7, 6, 6, 7, 4, 6, 5, 6, 1, 5, 8, 2, 5, 2, 8, 6, 8, 6, 6, 11, 6, 7, 12, 0, 2, 5, 2, 8, 5, 2, 6, 6, 4, 6, 3, 12, 6, 4, 6, 6, 12, 7, 6, 6, 6, 2, 3, 6, 6, 11, 10, 6, 11, 6, 7, 4, 6, 6, 6, 4, 11, 12, 8, 6, 6, 6, 8, 6, 6, 12, 12, 12, 6, 12, 6, 10, 2, 5, 8, 6, 6, 6, 6, 2, 6, 8, 7, 6, 7, 4, 12, 5, 2, 2, 12, 6, 10, 11, 2, 7, 6, 4, 5, 6, 6, 6, 8, 11, 11, 3, 5, 3, 12, 5, 6, 6, 4, 6, 8, 11, 6, 7, 7, 8, 6, 12, 12, 7, 6, 6, 2, 7, 6, 3, 6, 6, 6, 5, 6, 3, 2, 6, 6, 5, 6, 6, 6, 6, 12, 6, 8, 6, 6, 5, 7, 6, 9, 12, 6, 6, 11, 6, 12, 5, 7, 2, 4, 6, 12, 4, 6, 5, 2, 7, 7, 8, 6, 6, 8, 5, 3, 0, 6, 12, 6, 6, 5, 11, 12, 6, 5, 8, 6, 6, 11, 12, 6, 6, 6, 2, 12, 5, 8, 11, 8, 7, 2, 3, 6, 6, 6, 6, 6, 5, 6, 5, 2, 12, 12, 6, 6, 6, 12, 7, 6, 6, 11, 6, 5, 6, 6, 8, 2, 6, 1, 7, 10, 4, 8, 1, 6, 6, 6, 5, 7, 2, 2, 1, 5, 7, 12, 10, 6, 2, 8, 6, 7, 6, 12, 2, 3, 6, 8, 12, 5, 6, 2, 6, 8, 6, 8, 5, 6, 6, 5, 10, 6, 3, 6, 6, 6, 6, 6, 5, 6, 10, 5, 6, 6, 2, 9, 5, 12, 6, 5, 6, 6, 6, 6, 6, 11, 6, 6, 12, 6, 6, 7, 6, 4, 4, 2, 6, 5, 6, 1, 12, 7, 12, 6, 6, 12, 6, 8, 6, 6, 8, 6, 12, 7, 6, 6, 6, 6, 12, 11, 6, 6, 2, 11, 8, 6, 7, 6, 6, 11, 6, 6, 8, 6, 10, 6, 11, 6, 12, 8, 12, 6, 6, 7, 5, 6, 6, 7, 4, 5, 6, 6, 6, 6, 11, 6, 2, 6, 12, 6, 6, 6, 6, 6, 11, 6, 6, 6, 8, 7, 8, 6, 6, 6, 2, 2, 2, 6, 7, 12, 5, 6, 8, 8, 8, 7, 8, 6, 6, 4, 12, 6, 12, 12, 4, 8, 6, 4, 6, 6, 6, 12, 2, 6, 6, 8, 2, 2, 6, 6, 3, 7, 6, 7, 11, 4, 6, 6, 2, 2, 8, 12, 7, 11, 5, 10, 8, 6, 6, 12, 5, 6, 8, 6, 5, 6, 6, 9, 6, 12, 5, 6, 2, 6, 11, 6, 6, 6, 6, 6, 6, 10, 12, 6, 8, 11, 8, 2, 6, 6, 8, 2, 6, 6, 12, 8, 8, 11, 7, 6, 6, 6, 6, 6, 6, 5, 6, 6, 6, 7, 12, 7, 8, 6, 11, 2, 9, 4, 2, 12, 7, 9, 6, 8, 3, 12, 5, 6, 5, 6, 8, 6, 6, 10, 6, 3, 6, 5, 4, 5, 2, 11, 6, 6, 12, 10, 2, 5, 7, 6, 4, 6, 2, 6, 7, 6, 6, 2, 11, 6, 7, 11, 6, 2, 6, 8, 4, 6, 6, 9, 6, 9, 6, 5, 6, 6, 10, 6, 6, 12, 6, 6, 6, 6, 6, 6, 11, 6, 8, 12, 6, 6, 6, 6, 7, 8, 7, 5, 11, 5, 12, 12, 6, 11, 12, 7, 6, 5]\n",
            "[[0. 0. 0. ... 0. 0. 0.]\n",
            " [0. 0. 0. ... 0. 0. 0.]\n",
            " [0. 0. 0. ... 0. 0. 0.]\n",
            " ...\n",
            " [0. 0. 0. ... 0. 0. 0.]\n",
            " [0. 0. 0. ... 0. 0. 0.]\n",
            " [0. 0. 0. ... 0. 0. 0.]]\n",
            "[('no skills',), ('no skills',), ('down_steping',), ('leaping_twisting',), ('steping_twisting',), ('no skills',), ('down_leaping',), ('no skills',), ('repeating',), ('no skills',), ('down_leaping',), ('no skills',), ('up_steping',), ('up_leaping',), ('no skills',), ('no skills',), ('no skills',), ('up_leaping',), ('no skills',), ('down_leaping',), ('leaping_twisting',), ('repeating',), ('no skills',), ('up_leaping',), ('down_steping',), ('no skills',), ('down_steping',), ('steping_twisting',), ('down_leaping',), ('staccato',), ('fast_rhythm',), ('leaping_twisting',), ('no skills',), ('up_steping',), ('no skills',), ('triplet',), ('no skills',), ('no skills',), ('up_steping',), ('leaping_twisting',), ('repeating',), ('no skills',), ('no skills',), ('no skills',), ('no skills',), ('no skills',), ('fast_rhythm',), ('no skills',), ('up_steping',), ('repeating',), ('leaping_twisting',), ('leaping_twisting',), ('no skills',), ('leaping_twisting',), ('no skills',), ('repeating',), ('triplet',), ('no skills',), ('down_leaping',), ('no skills',), ('no skills',), ('no skills',), ('repeating',), ('leaping_twisting',), ('up_steping',), ('up_leaping',), ('down_leaping',), ('up_steping',), ('no skills',), ('no skills',), ('no skills',), ('up_steping',), ('down_leaping',), ('One_rhythm',), ('up_leaping',), ('no skills',), ('down_leaping',), ('no skills',), ('no skills',), ('leaping_twisting',), ('no skills',), ('no skills',), ('up_steping',), ('staccato',), ('no skills',), ('no skills',), ('no skills',), ('no skills',), ('leaping_twisting',), ('repeating',), ('leaping_twisting',), ('no skills',), ('up_leaping',), ('no skills',), ('no skills',), ('no skills',), ('staccato',), ('no skills',), ('no skills',), ('leaping_twisting',), ('leaping_twisting',), ('no skills',), ('up_leaping',), ('no skills',), ('no skills',), ('down_leaping',), ('leaping_twisting',), ('no skills',), ('staccato',), ('no skills',), ('no skills',), ('no skills',), ('no skills',), ('up_steping',), ('no skills',), ('continuing_rhythm',), ('fast_rhythm',), ('no skills',), ('staccato',), ('up_leaping',), ('down_leaping',), ('no skills',), ('down_leaping',), ('leaping_twisting',), ('staccato',), ('no skills',), ('down_leaping',), ('down_leaping',), ('down_leaping',), ('no skills',), ('steping_twisting',), ('staccato',), ('leaping_twisting',), ('staccato',), ('leaping_twisting',), ('repeating',), ('no skills',), ('down_leaping',), ('no skills',), ('no skills',), ('down_leaping',), ('down_leaping',), ('down_steping',), ('no skills',), ('leaping_twisting',), ('leaping_twisting',), ('triplet',), ('One_rhythm',), ('steping_twisting',), ('up_leaping',), ('up_leaping',), ('leaping_twisting',), ('leaping_twisting',), ('repeating',), ('down_leaping',), ('no skills',), ('no skills',), ('no skills',), ('no skills',), ('no skills',), ('no skills',), ('staccato',), ('no skills',), ('up_leaping',), ('no skills',), ('no skills',), ('no skills',), ('no skills',), ('no skills',), ('leaping_twisting',), ('down_steping',), ('fast_rhythm',), ('no skills',), ('up_leaping',), ('repeating',), ('no skills',), ('up_steping',), ('no skills',), ('up_steping',), ('continuing_rhythm',), ('up_steping',), ('no skills',), ('leaping_twisting',), ('no skills',), ('staccato',), ('no skills',), ('no skills',), ('no skills',), ('up_steping',), ('fast_rhythm',), ('no skills',), ('no skills',), ('staccato',), ('no skills',), ('no skills',), ('no skills',), ('down_steping',), ('no skills',), ('down_steping',), ('staccato',), ('no skills',), ('no skills',), ('no skills',), ('down_leaping',), ('up_steping',), ('staccato',), ('no skills',), ('up_leaping',), ('up_leaping',), ('no skills',), ('no skills',), ('no skills',), ('down_leaping',), ('no skills',), ('repeating',), ('leaping_twisting',), ('staccato',), ('no skills',), ('leaping_twisting',), ('leaping_twisting',), ('no skills',), ('no skills',), ('leaping_twisting',), ('up_steping',), ('down_steping',), ('no skills',), ('up_steping',), ('staccato',), ('no skills',), ('up_steping',), ('no skills',), ('up_steping',), ('no skills',), ('no skills',), ('fast_rhythm',), ('no skills',), ('down_leaping',), ('repeating',), ('steping_twisting',), ('down_leaping',), ('leaping_twisting',), ('up_steping',), ('no skills',), ('no skills',), ('repeating',), ('up_steping',), ('staccato',), ('no skills',), ('no skills',), ('no skills',), ('up_steping',), ('up_leaping',), ('up_leaping',), ('no skills',), ('leaping_twisting',), ('repeating',), ('no skills',), ('up_leaping',), ('no skills',), ('up_steping',), ('no skills',), ('staccato',), ('repeating',), ('no skills',), ('down_leaping',), ('up_leaping',), ('repeating',), ('staccato',), ('no skills',), ('down_steping',), ('no skills',), ('no skills',), ('no skills',), ('no skills',), ('leaping_twisting',), ('no skills',), ('no skills',), ('up_leaping',), ('no skills',), ('staccato',), ('leaping_twisting',), ('fast_rhythm',), ('triplet',), ('up_steping',), ('no skills',), ('up_steping',), ('up_leaping',), ('leaping_twisting',), ('no skills',), ('down_steping',), ('leaping_twisting',), ('down_leaping',), ('leaping_twisting',), ('no skills',), ('no skills',), ('no skills',), ('up_steping',), ('up_leaping',), ('up_steping',), ('up_leaping',), ('repeating',), ('staccato',), ('no skills',), ('no skills',), ('staccato',), ('no skills',), ('no skills',), ('no skills',), ('staccato',), ('no skills',), ('steping_twisting',), ('up_leaping',), ('no skills',), ('repeating',), ('no skills',), ('up_steping',), ('down_leaping',), ('no skills',), ('staccato',), ('fast_rhythm',), ('down_steping',), ('no skills',), ('steping_twisting',), ('leaping_twisting',), ('up_steping',), ('leaping_twisting',), ('triplet',), ('up_leaping',), ('up_steping',), ('staccato',), ('down_leaping',), ('no skills',), ('up_leaping',), ('up_leaping',), ('down_leaping',), ('no skills',), ('up_steping',), ('staccato',), ('no skills',), ('no skills',), ('no skills',), ('up_steping',), ('down_steping',), ('no skills',), ('no skills',), ('staccato',), ('no skills',), ('no skills',), ('no skills',), ('up_steping',), ('down_leaping',), ('no skills',), ('up_leaping',), ('no skills',), ('no skills',), ('up_steping',), ('continuing_rhythm',), ('no skills',), ('no skills',), ('no skills',), ('no skills',), ('down_leaping',), ('steping_twisting',), ('staccato',), ('no skills',), ('no skills',), ('no skills',), ('no skills',), ('no skills',), ('One_rhythm',), ('no skills',), ('continuing_rhythm',), ('no skills',), ('no skills',), ('no skills',), ('no skills',), ('up_steping',), ('no skills',), ('no skills',), ('no skills',), ('leaping_twisting',), ('no skills',), ('continuing_rhythm',), ('staccato',), ('no skills',), ('no skills',), ('leaping_twisting',), ('down_leaping',), ('no skills',), ('no skills',), ('no skills',), ('up_steping',), ('up_steping',), ('no skills',), ('no skills',), ('no skills',), ('down_steping',), ('repeating',), ('no skills',), ('staccato',), ('leaping_twisting',), ('repeating',), ('no skills',), ('no skills',), ('no skills',), ('no skills',), ('up_leaping',), ('staccato',), ('up_steping',), ('no skills',), ('no skills',), ('no skills',), ('no skills',), ('no skills',), ('no skills',), ('no skills',), ('no skills',), ('down_leaping',), ('leaping_twisting',), ('no skills',), ('down_steping',), ('One_rhythm',), ('repeating',), ('staccato',), ('staccato',), ('no skills',), ('no skills',), ('fast_rhythm',), ('up_steping',), ('leaping_twisting',), ('no skills',), ('down_leaping',), ('no skills',), ('leaping_twisting',), ('no skills',), ('up_steping',), ('triplet',), ('up_leaping',), ('staccato',), ('no skills',), ('repeating',), ('continuing_rhythm',), ('up_leaping',), ('no skills',), ('no skills',), ('no skills',), ('staccato',), ('leaping_twisting',), ('no skills',), ('no skills',), ('up_steping',), ('no skills',), ('no skills',), ('no skills',), ('no skills',), ('up_leaping',), ('no skills',), ('leaping_twisting',), ('no skills',), ('fast_rhythm',), ('no skills',), ('leaping_twisting',), ('no skills',), ('no skills',), ('triplet',), ('no skills',), ('down_leaping',), ('staccato',), ('down_leaping',), ('up_leaping',), ('repeating',), ('no skills',), ('no skills',), ('up_leaping',), ('no skills',), ('steping_twisting',), ('repeating',), ('no skills',), ('repeating',), ('staccato',), ('down_leaping',), ('no skills',), ('no skills',), ('repeating',), ('repeating',), ('leaping_twisting',), ('no skills',), ('no skills',), ('down_leaping',), ('fast_rhythm',), ('repeating',), ('repeating',), ('no skills',), ('no skills',), ('no skills',), ('triplet',), ('down_steping',), ('down_steping',), ('down_leaping',), ('no skills',), ('staccato',), ('down_leaping',), ('up_leaping',), ('no skills',), ('down_leaping',), ('down_leaping',), ('up_steping',), ('no skills',), ('no skills',), ('down_leaping',), ('up_steping',), ('no skills',), ('leaping_twisting',), ('down_leaping',), ('fast_rhythm',), ('down_steping',), ('repeating',), ('down_leaping',), ('triplet',), ('no skills',), ('no skills',), ('no skills',), ('no skills',), ('repeating',), ('up_steping',), ('down_leaping',), ('no skills',), ('no skills',), ('repeating',), ('no skills',), ('no skills',), ('no skills',), ('no skills',), ('leaping_twisting',), ('repeating',), ('no skills',), ('repeating',), ('no skills',), ('no skills',), ('One_rhythm',), ('no skills',), ('no skills',), ('down_leaping',), ('up_leaping',), ('staccato',), ('continuing_rhythm',), ('down_leaping',), ('staccato',), ('leaping_twisting',), ('leaping_twisting',), ('repeating',), ('down_leaping',), ('no skills',), ('no skills',), ('fast_rhythm',), ('staccato',), ('leaping_twisting',), ('no skills',), ('no skills',), ('no skills',), ('no skills',), ('no skills',), ('up_leaping',), ('continuing_rhythm',), ('up_steping',), ('staccato',), ('no skills',), ('no skills',), ('leaping_twisting',), ('up_steping',), ('leaping_twisting',), ('no skills',), ('staccato',), ('staccato',), ('no skills',), ('up_leaping',), ('no skills',), ('fast_rhythm',), ('no skills',), ('triplet',), ('down_steping',), ('up_leaping',), ('no skills',), ('up_leaping',), ('up_steping',), ('no skills',), ('no skills',), ('fast_rhythm',), ('no skills',), ('no skills',), ('no skills',), ('repeating',), ('no skills',), ('fast_rhythm',), ('down_leaping',), ('no skills',), ('continuing_rhythm',), ('up_steping',), ('repeating',), ('no skills',), ('leaping_twisting',), ('down_leaping',), ('up_leaping',), ('down_leaping',), ('no skills',), ('staccato',), ('no skills',), ('leaping_twisting',), ('up_steping',), ('repeating',), ('no skills',), ('no skills',), ('no skills',), ('no skills',), ('no skills',), ('no skills',), ('repeating',), ('repeating',), ('leaping_twisting',), ('no skills',), ('no skills',), ('no skills',), ('repeating',), ('no skills',), ('no skills',), ('leaping_twisting',), ('up_steping',), ('fast_rhythm',), ('up_steping',), ('no skills',), ('no skills',), ('up_leaping',), ('no skills',), ('down_leaping',), ('no skills',), ('up_leaping',), ('down_leaping',), ('no skills',), ('down_leaping',), ('no skills',), ('staccato',), ('staccato',), ('leaping_twisting',), ('no skills',), ('leaping_twisting',), ('no skills',), ('leaping_twisting',), ('up_steping',), ('leaping_twisting',), ('up_steping',), ('triplet',), ('no skills',), ('no skills',), ('leaping_twisting',), ('staccato',), ('no skills',), ('repeating',), ('no skills',), ('no skills',), ('no skills',), ('fast_rhythm',), ('triplet',), ('repeating',), ('up_leaping',), ('no skills',), ('triplet',), ('no skills',), ('no skills',), ('staccato',), ('repeating',), ('no skills',), ('no skills',), ('no skills',), ('down_leaping',), ('no skills',), ('up_steping',), ('no skills',), ('up_steping',), ('no skills',), ('up_steping',), ('staccato',), ('repeating',), ('no skills',), ('repeating',), ('staccato',), ('up_steping',), ('no skills',), ('up_leaping',), ('no skills',), ('down_leaping',), ('no skills',), ('no skills',), ('no skills',), ('no skills',), ('no skills',), ('continuing_rhythm',), ('no skills',), ('down_leaping',), ('no skills',), ('no skills',), ('staccato',), ('no skills',), ('down_leaping',), ('up_leaping',), ('repeating',), ('staccato',), ('staccato',), ('up_steping',), ('no skills',), ('down_leaping',), ('down_leaping',), ('repeating',), ('up_steping',), ('down_leaping',), ('staccato',), ('leaping_twisting',), ('no skills',), ('staccato',), ('up_leaping',), ('up_leaping',), ('up_leaping',), ('no skills',), ('leaping_twisting',), ('down_leaping',), ('down_leaping',), ('staccato',), ('leaping_twisting',), ('leaping_twisting',), ('no skills',), ('up_steping',), ('repeating',), ('no skills',), ('no skills',), ('down_leaping',), ('no skills',), ('up_leaping',), ('no skills',), ('no skills',), ('down_steping',), ('leaping_twisting',), ('repeating',), ('triplet',), ('staccato',), ('no skills',), ('up_leaping',), ('continuing_rhythm',), ('up_steping',), ('no skills',), ('repeating',), ('no skills',), ('no skills',), ('down_leaping',), ('up_steping',), ('up_leaping',), ('up_leaping',), ('no skills',), ('steping_twisting',), ('up_steping',), ('up_steping',), ('triplet',), ('staccato',), ('steping_twisting',), ('staccato',), ('staccato',), ('staccato',), ('up_steping',), ('no skills',), ('down_leaping',), ('up_steping',), ('no skills',), ('leaping_twisting',), ('down_leaping',), ('no skills',), ('staccato',), ('no skills',), ('down_leaping',), ('down_steping',), ('no skills',), ('down_steping',), ('leaping_twisting',), ('staccato',), ('no skills',), ('no skills',), ('staccato',), ('down_leaping',), ('repeating',), ('no skills',), ('repeating',), ('down_leaping',), ('no skills',), ('down_leaping',), ('no skills',), ('leaping_twisting',), ('leaping_twisting',), ('up_leaping',), ('no skills',), ('down_leaping',), ('no skills',), ('staccato',), ('staccato',), ('up_leaping',), ('up_leaping',), ('triplet',), ('up_steping',), ('no skills',), ('steping_twisting',), ('down_leaping',), ('leaping_twisting',), ('fast_rhythm',), ('staccato',), ('no skills',), ('down_leaping',), ('triplet',), ('no skills',), ('down_leaping',), ('leaping_twisting',), ('up_steping',), ('up_steping',), ('continuing_rhythm',), ('leaping_twisting',), ('no skills',), ('no skills',), ('continuing_rhythm',), ('up_leaping',), ('no skills',), ('no skills',), ('no skills',), ('leaping_twisting',), ('up_leaping',), ('down_leaping',), ('repeating',), ('staccato',), ('no skills',), ('up_leaping',), ('no skills',), ('up_leaping',), ('no skills',), ('repeating',), ('leaping_twisting',), ('leaping_twisting',), ('fast_rhythm',), ('leaping_twisting',), ('leaping_twisting',), ('no skills',), ('down_leaping',), ('fast_rhythm',), ('triplet',), ('continuing_rhythm',), ('leaping_twisting',), ('down_leaping',), ('fast_rhythm',), ('triplet',), ('up_steping',), ('no skills',), ('staccato',), ('leaping_twisting',), ('no skills',), ('down_leaping',), ('up_steping',), ('no skills',), ('no skills',), ('no skills',), ('up_leaping',), ('staccato',), ('no skills',), ('fast_rhythm',), ('no skills',), ('leaping_twisting',), ('no skills',), ('repeating',), ('staccato',), ('fast_rhythm',), ('up_leaping',), ('no skills',), ('no skills',), ('no skills',), ('down_leaping',), ('no skills',), ('up_leaping',), ('no skills',), ('staccato',), ('no skills',), ('repeating',), ('leaping_twisting',), ('repeating',), ('staccato',), ('no skills',), ('down_leaping',), ('no skills',), ('no skills',), ('leaping_twisting',), ('up_leaping',), ('no skills',), ('no skills',), ('no skills',), ('no skills',), ('repeating',), ('repeating',), ('no skills',), ('down_leaping',), ('up_leaping',), ('leaping_twisting',), ('staccato',), ('repeating',), ('no skills',), ('leaping_twisting',), ('no skills',), ('no skills',), ('fast_rhythm',), ('up_steping',), ('continuing_rhythm',), ('triplet',), ('down_leaping',), ('leaping_twisting',), ('staccato',), ('up_steping',), ('staccato',), ('no skills',), ('leaping_twisting',), ('staccato',), ('no skills',), ('no skills',), ('no skills',), ('down_leaping',), ('no skills',), ('no skills',), ('no skills',), ('no skills',), ('up_steping',), ('no skills',), ('no skills',), ('no skills',), ('leaping_twisting',), ('fast_rhythm',), ('no skills',), ('no skills',), ('down_leaping',), ('down_steping',), ('staccato',), ('down_steping',), ('no skills',), ('down_leaping',), ('no skills',), ('repeating',), ('down_steping',), ('no skills',), ('staccato',), ('no skills',), ('no skills',), ('no skills',), ('no skills',), ('no skills',), ('leaping_twisting',), ('staccato',), ('no skills',), ('leaping_twisting',), ('triplet',), ('no skills',), ('no skills',), ('staccato',), ('steping_twisting',), ('staccato',), ('no skills',), ('leaping_twisting',), ('staccato',), ('up_steping',), ('no skills',), ('no skills',), ('leaping_twisting',), ('staccato',), ('leaping_twisting',), ('down_leaping',), ('no skills',), ('no skills',), ('no skills',), ('no skills',), ('continuing_rhythm',), ('no skills',), ('triplet',), ('up_steping',), ('no skills',), ('no skills',), ('repeating',), ('repeating',), ('repeating',), ('no skills',), ('steping_twisting',), ('no skills',), ('down_leaping',), ('no skills',), ('up_steping',), ('fast_rhythm',), ('no skills',), ('repeating',), ('no skills',), ('One_rhythm',), ('no skills',), ('down_steping',), ('no skills',), ('staccato',), ('no skills',), ('down_leaping',), ('up_steping',), ('no skills',), ('steping_twisting',), ('up_steping',), ('no skills',), ('no skills',), ('no skills',), ('steping_twisting',), ('no skills',), ('up_steping',), ('no skills',), ('triplet',), ('no skills',), ('no skills',), ('leaping_twisting',), ('no skills',), ('no skills',), ('steping_twisting',), ('no skills',), ('leaping_twisting',), ('triplet',), ('leaping_twisting',), ('no skills',), ('no skills',), ('leaping_twisting',), ('no skills',), ('One_rhythm',), ('down_steping',), ('no skills',), ('no skills',), ('leaping_twisting',), ('repeating',), ('repeating',), ('up_steping',), ('down_leaping',), ('leaping_twisting',), ('no skills',), ('staccato',), ('leaping_twisting',), ('no skills',), ('no skills',), ('no skills',), ('no skills',), ('no skills',), ('staccato',), ('up_steping',), ('no skills',), ('up_leaping',), ('leaping_twisting',), ('down_leaping',), ('no skills',), ('up_steping',), ('no skills',), ('no skills',), ('down_leaping',), ('leaping_twisting',), ('no skills',), ('up_steping',), ('leaping_twisting',), ('up_leaping',), ('steping_twisting',), ('no skills',), ('triplet',), ('no skills',), ('no skills',), ('repeating',), ('leaping_twisting',), ('leaping_twisting',), ('no skills',), ('no skills',), ('no skills',), ('down_leaping',), ('no skills',), ('no skills',), ('no skills',), ('down_steping',), ('no skills',), ('repeating',), ('no skills',), ('down_leaping',), ('no skills',), ('leaping_twisting',), ('no skills',), ('repeating',), ('down_leaping',), ('fast_rhythm',), ('repeating',), ('leaping_twisting',), ('up_leaping',), ('no skills',), ('no skills',), ('leaping_twisting',), ('up_steping',), ('leaping_twisting',), ('up_leaping',), ('up_leaping',), ('repeating',), ('up_leaping',), ('no skills',), ('no skills',), ('staccato',), ('staccato',), ('fast_rhythm',), ('down_leaping',), ('up_leaping',), ('repeating',), ('no skills',), ('up_leaping',), ('up_leaping',), ('staccato',), ('no skills',), ('no skills',), ('down_leaping',), ('no skills',), ('repeating',), ('down_leaping',), ('repeating',), ('no skills',), ('repeating',), ('up_steping',), ('fast_rhythm',), ('repeating',), ('no skills',), ('up_steping',), ('staccato',), ('leaping_twisting',), ('staccato',), ('staccato',), ('down_leaping',), ('staccato',), ('staccato',), ('no skills',), ('no skills',), ('no skills',), ('repeating',), ('staccato',), ('leaping_twisting',), ('up_steping',), ('no skills',), ('no skills',), ('no skills',), ('repeating',), ('no skills',), ('leaping_twisting',), ('up_steping',), ('no skills',), ('up_steping',), ('down_leaping',), ('up_steping',), ('no skills',), ('leaping_twisting',), ('no skills',), ('steping_twisting',), ('no skills',), ('no skills',), ('no skills',), ('fast_rhythm',), ('staccato',), ('leaping_twisting',), ('leaping_twisting',), ('triplet',), ('up_leaping',), ('no skills',), ('no skills',), ('repeating',), ('no skills',), ('fast_rhythm',), ('no skills',), ('no skills',), ('steping_twisting',), ('up_steping',), ('leaping_twisting',), ('no skills',), ('triplet',), ('up_steping',), ('up_leaping',), ('no skills',), ('no skills',), ('repeating',), ('leaping_twisting',), ('leaping_twisting',), ('no skills',), ('no skills',), ('no skills',), ('no skills',), ('staccato',), ('down_leaping',), ('up_leaping',), ('leaping_twisting',), ('no skills',), ('fast_rhythm',), ('no skills',), ('repeating',), ('continuing_rhythm',), ('up_steping',), ('fast_rhythm',), ('down_steping',), ('no skills',), ('no skills',), ('no skills',), ('no skills',), ('leaping_twisting',), ('up_steping',), ('down_leaping',), ('staccato',), ('repeating',), ('down_steping',), ('up_steping',), ('no skills',), ('no skills',), ('no skills',), ('no skills',), ('no skills',), ('down_leaping',), ('continuing_rhythm',), ('no skills',), ('no skills',), ('no skills',), ('down_leaping',), ('staccato',), ('staccato',), ('no skills',), ('up_leaping',), ('up_steping',), ('up_leaping',), ('staccato',), ('staccato',), ('no skills',), ('no skills',), ('no skills',), ('no skills',), ('no skills',), ('down_leaping',), ('down_leaping',), ('no skills',), ('staccato',), ('repeating',), ('no skills',), ('no skills',), ('leaping_twisting',), ('repeating',), ('no skills',), ('down_leaping',), ('no skills',), ('no skills',), ('repeating',), ('no skills',), ('One_rhythm',), ('continuing_rhythm',), ('down_steping',), ('down_leaping',), ('no skills',), ('up_leaping',), ('no skills',), ('no skills',), ('staccato',), ('down_steping',), ('staccato',), ('triplet',), ('no skills',), ('no skills',), ('no skills',), ('up_steping',), ('no skills',), ('up_steping',), ('leaping_twisting',), ('repeating',), ('One_rhythm',), ('no skills',), ('leaping_twisting',), ('leaping_twisting',), ('up_leaping',), ('leaping_twisting',), ('leaping_twisting',), ('staccato',), ('triplet',), ('triplet',), ('staccato',), ('no skills',), ('staccato',), ('no skills',), ('steping_twisting',), ('down_leaping',), ('no skills',), ('triplet',), ('no skills',), ('no skills',), ('down_steping',), ('no skills',), ('up_leaping',), ('staccato',), ('no skills',), ('no skills',), ('no skills',), ('no skills',), ('repeating',), ('up_steping',), ('down_leaping',), ('staccato',), ('leaping_twisting',), ('up_leaping',), ('staccato',), ('down_leaping',), ('no skills',), ('down_leaping',), ('staccato',), ('down_leaping',), ('no skills',), ('staccato',), ('staccato',), ('up_leaping',), ('leaping_twisting',), ('no skills',), ('no skills',), ('no skills',), ('up_leaping',), ('no skills',), ('no skills',), ('repeating',), ('up_steping',), ('no skills',), ('no skills',), ('leaping_twisting',), ('no skills',), ('no skills',), ('leaping_twisting',), ('repeating',), ('up_leaping',), ('up_leaping',), ('fast_rhythm',), ('repeating',), ('up_steping',), ('staccato',), ('no skills',), ('no skills',), ('no skills',), ('no skills',), ('no skills',), ('no skills',), ('no skills',), ('no skills',), ('staccato',), ('no skills',), ('repeating',), ('no skills',), ('down_leaping',), ('staccato',), ('fast_rhythm',), ('no skills',), ('triplet',), ('up_steping',), ('leaping_twisting',), ('no skills',), ('no skills',), ('no skills',), ('no skills',), ('no skills',), ('no skills',), ('leaping_twisting',), ('no skills',), ('fast_rhythm',), ('leaping_twisting',), ('leaping_twisting',), ('down_leaping',), ('up_leaping',), ('down_leaping',), ('no skills',), ('up_steping',), ('no skills',), ('staccato',), ('repeating',), ('no skills',), ('repeating',), ('no skills',), ('fast_rhythm',), ('no skills',), ('no skills',), ('up_leaping',), ('no skills',), ('staccato',), ('no skills',), ('repeating',), ('repeating',), ('no skills',), ('leaping_twisting',), ('up_steping',), ('up_steping',), ('leaping_twisting',), ('no skills',), ('down_leaping',), ('leaping_twisting',), ('no skills',), ('no skills',), ('no skills',), ('up_leaping',), ('staccato',), ('up_leaping',), ('fast_rhythm',), ('no skills',), ('up_leaping',), ('up_leaping',), ('fast_rhythm',), ('no skills',), ('fast_rhythm',), ('triplet',), ('no skills',), ('repeating',), ('no skills',), ('no skills',), ('no skills',), ('fast_rhythm',), ('no skills',), ('steping_twisting',), ('up_leaping',), ('staccato',), ('no skills',), ('leaping_twisting',), ('staccato',), ('no skills',), ('up_steping',), ('no skills',), ('triplet',), ('up_steping',), ('no skills',), ('no skills',), ('up_leaping',), ('no skills',), ('continuing_rhythm',), ('up_leaping',), ('down_leaping',), ('no skills',), ('leaping_twisting',), ('no skills',), ('no skills',), ('up_leaping',), ('staccato',), ('leaping_twisting',), ('leaping_twisting',), ('down_steping',), ('up_steping',), ('repeating',), ('no skills',), ('up_leaping',), ('repeating',), ('triplet',), ('down_leaping',), ('no skills',), ('leaping_twisting',), ('up_leaping',), ('staccato',), ('staccato',), ('no skills',), ('triplet',), ('no skills',), ('up_steping',), ('fast_rhythm',), ('no skills',), ('staccato',), ('no skills',), ('no skills',), ('steping_twisting',), ('no skills',), ('leaping_twisting',), ('no skills',), ('no skills',), ('no skills',), ('no skills',), ('up_leaping',), ('staccato',), ('staccato',), ('no skills',), ('no skills',), ('no skills',), ('no skills',), ('up_leaping',), ('fast_rhythm',), ('down_steping',), ('no skills',), ('up_leaping',), ('triplet',), ('no skills',), ('no skills',), ('steping_twisting',), ('leaping_twisting',), ('no skills',), ('down_steping',), ('repeating',), ('no skills',), ('no skills',), ('no skills',), ('no skills',), ('leaping_twisting',), ('no skills',), ('no skills',), ('no skills',), ('no skills',), ('no skills',), ('repeating',), ('steping_twisting',), ('up_leaping',), ('staccato',), ('continuing_rhythm',), ('up_leaping',), ('down_leaping',), ('repeating',), ('no skills',), ('no skills',), ('no skills',), ('no skills',), ('no skills',), ('no skills',), ('staccato',), ('no skills',), ('down_leaping',), ('up_steping',), ('staccato',), ('no skills',), ('leaping_twisting',), ('up_leaping',), ('no skills',), ('no skills',), ('no skills',), ('no skills',), ('staccato',), ('no skills',), ('up_leaping',), ('no skills',), ('staccato',), ('fast_rhythm',), ('up_leaping',), ('up_leaping',), ('staccato',), ('no skills',), ('down_steping',), ('no skills',), ('down_leaping',), ('no skills',), ('up_steping',), ('no skills',), ('down_leaping',), ('down_leaping',), ('staccato',), ('up_steping',), ('triplet',), ('no skills',), ('no skills',), ('up_steping',), ('no skills',), ('triplet',), ('no skills',), ('One_rhythm',), ('no skills',), ('leaping_twisting',), ('up_leaping',), ('no skills',), ('no skills',), ('no skills',), ('up_leaping',), ('staccato',), ('no skills',), ('down_leaping',), ('up_steping',), ('no skills',), ('no skills',), ('fast_rhythm',), ('repeating',), ('no skills',), ('leaping_twisting',), ('no skills',), ('up_steping',), ('no skills',), ('up_leaping',), ('no skills',), ('repeating',), ('no skills',), ('leaping_twisting',), ('leaping_twisting',), ('no skills',), ('up_leaping',), ('up_steping',), ('repeating',), ('up_steping',), ('no skills',), ('down_leaping',), ('no skills',), ('triplet',), ('up_leaping',), ('no skills',), ('no skills',), ('staccato',), ('leaping_twisting',), ('no skills',), ('no skills',), ('no skills',), ('no skills',), ('up_steping',), ('up_steping',), ('leaping_twisting',), ('down_leaping',), ('up_leaping',), ('no skills',), ('no skills',), ('no skills',), ('up_steping',), ('no skills',), ('no skills',), ('triplet',), ('no skills',), ('up_leaping',), ('no skills',), ('repeating',), ('down_steping',), ('triplet',), ('no skills',), ('staccato',), ('down_leaping',), ('fast_rhythm',), ('up_steping',), ('leaping_twisting',), ('no skills',), ('no skills',), ('up_steping',), ('up_steping',), ('no skills',), ('leaping_twisting',), ('up_steping',), ('leaping_twisting',), ('down_leaping',), ('down_leaping',), ('repeating',), ('up_leaping',), ('no skills',), ('staccato',), ('staccato',), ('no skills',), ('up_steping',), ('triplet',), ('staccato',), ('up_steping',), ('no skills',), ('no skills',), ('no skills',), ('no skills',), ('leaping_twisting',), ('no skills',), ('continuing_rhythm',), ('no skills',), ('leaping_twisting',), ('no skills',), ('no skills',), ('no skills',), ('no skills',), ('no skills',), ('repeating',), ('up_leaping',), ('fast_rhythm',), ('staccato',), ('no skills',), ('no skills',), ('down_steping',), ('no skills',), ('no skills',), ('no skills',), ('no skills',), ('staccato',), ('no skills',), ('no skills',), ('no skills',), ('repeating',), ('no skills',), ('down_steping',), ('repeating',), ('no skills',), ('no skills',), ('no skills',), ('leaping_twisting',), ('no skills',), ('no skills',), ('no skills',), ('no skills',), ('down_steping',), ('repeating',), ('no skills',), ('staccato',), ('no skills',), ('up_steping',), ('no skills',), ('down_leaping',), ('no skills',), ('up_steping',), ('down_leaping',), ('down_steping',), ('no skills',), ('up_steping',), ('no skills',), ('up_leaping',), ('no skills',), ('no skills',), ('up_leaping',), ('no skills',), ('no skills',), ('steping_twisting',), ('leaping_twisting',), ('up_leaping',), ('no skills',), ('down_leaping',), ('no skills',), ('up_steping',), ('up_leaping',), ('repeating',), ('leaping_twisting',), ('staccato',), ('up_steping',), ('up_steping',), ('leaping_twisting',), ('up_leaping',), ('repeating',), ('leaping_twisting',), ('fast_rhythm',), ('no skills',), ('steping_twisting',), ('leaping_twisting',), ('up_steping',), ('leaping_twisting',), ('no skills',), ('One_rhythm',), ('repeating',), ('down_steping',), ('repeating',), ('no skills',), ('no skills',), ('up_leaping',), ('down_leaping',), ('up_steping',), ('fast_rhythm',), ('up_steping',), ('no skills',), ('no skills',), ('no skills',), ('repeating',), ('leaping_twisting',), ('up_leaping',), ('staccato',), ('leaping_twisting',), ('no skills',), ('fast_rhythm',), ('steping_twisting',), ('no skills',), ('no skills',), ('leaping_twisting',), ('no skills',), ('down_leaping',), ('no skills',), ('no skills',), ('up_steping',), ('no skills',), ('down_leaping',), ('no skills',), ('up_leaping',), ('up_leaping',), ('staccato',), ('down_leaping',), ('up_steping',), ('staccato',), ('staccato',), ('staccato',), ('down_leaping',), ('no skills',), ('staccato',), ('no skills',), ('no skills',), ('no skills',), ('triplet',), ('no skills',), ('leaping_twisting',), ('no skills',), ('no skills',), ('up_leaping',), ('no skills',), ('leaping_twisting',), ('up_leaping',), ('no skills',), ('no skills',), ('no skills',), ('up_steping',), ('down_leaping',), ('no skills',), ('no skills',), ('leaping_twisting',), ('leaping_twisting',), ('up_steping',), ('no skills',), ('no skills',), ('no skills',), ('no skills',), ('up_leaping',), ('down_steping',), ('staccato',), ('leaping_twisting',), ('up_steping',), ('no skills',), ('no skills',), ('up_steping',), ('no skills',), ('up_steping',), ('no skills',), ('staccato',), ('no skills',), ('no skills',), ('triplet',), ('repeating',), ('down_leaping',), ('no skills',), ('staccato',), ('leaping_twisting',), ('down_steping',), ('no skills',), ('repeating',), ('no skills',), ('repeating',), ('up_steping',), ('no skills',), ('down_steping',), ('down_leaping',), ('no skills',), ('up_steping',), ('no skills',), ('down_steping',), ('no skills',), ('no skills',), ('no skills',), ('up_steping',), ('staccato',), ('staccato',), ('no skills',), ('repeating',), ('staccato',), ('no skills',), ('no skills',), ('no skills',), ('no skills',), ('fast_rhythm',), ('repeating',), ('down_leaping',), ('no skills',), ('fast_rhythm',), ('steping_twisting',), ('no skills',), ('staccato',), ('no skills',), ('no skills',), ('repeating',), ('repeating',), ('no skills',), ('fast_rhythm',), ('no skills',), ('no skills',), ('no skills',), ('no skills',), ('no skills',), ('down_leaping',), ('leaping_twisting',), ('up_leaping',), ('no skills',), ('down_leaping',), ('fast_rhythm',), ('fast_rhythm',), ('up_steping',), ('down_leaping',), ('no skills',), ('no skills',), ('repeating',), ('repeating',), ('down_leaping',), ('fast_rhythm',), ('no skills',), ('leaping_twisting',), ('continuing_rhythm',), ('no skills',), ('down_leaping',), ('repeating',), ('leaping_twisting',), ('repeating',), ('staccato',), ('steping_twisting',), ('no skills',), ('up_steping',), ('up_leaping',), ('staccato',), ('up_steping',), ('no skills',), ('continuing_rhythm',), ('no skills',), ('repeating',), ('leaping_twisting',), ('leaping_twisting',), ('no skills',), ('leaping_twisting',), ('down_steping',), ('leaping_twisting',), ('leaping_twisting',), ('down_leaping',), ('up_steping',), ('up_steping',), ('no skills',), ('no skills',), ('no skills',), ('no skills',), ('up_steping',), ('no skills',), ('no skills',), ('up_steping',), ('no skills',), ('no skills',), ('no skills',), ('no skills',), ('leaping_twisting',), ('up_leaping',), ('no skills',), ('up_leaping',), ('no skills',), ('no skills',), ('triplet',), ('steping_twisting',), ('no skills',), ('leaping_twisting',), ('fast_rhythm',), ('no skills',), ('no skills',), ('up_leaping',), ('no skills',), ('steping_twisting',), ('staccato',), ('up_steping',), ('no skills',), ('staccato',), ('up_steping',), ('fast_rhythm',), ('repeating',), ('no skills',), ('no skills',), ('staccato',), ('up_steping',), ('leaping_twisting',), ('staccato',), ('no skills',), ('no skills',), ('fast_rhythm',), ('triplet',), ('no skills',), ('no skills',), ('staccato',), ('no skills',), ('no skills',), ('down_leaping',), ('staccato',), ('leaping_twisting',), ('leaping_twisting',), ('fast_rhythm',), ('repeating',), ('no skills',), ('no skills',), ('steping_twisting',), ('repeating',), ('no skills',), ('repeating',), ('no skills',), ('no skills',), ('repeating',), ('no skills',), ('up_steping',), ('staccato',), ('no skills',), ('no skills',), ('down_leaping',), ('down_leaping',), ('no skills',), ('down_leaping',), ('down_leaping',), ('up_leaping',), ('no skills',), ('no skills',), ('leaping_twisting',), ('down_leaping',), ('no skills',), ('no skills',), ('no skills',), ('repeating',), ('no skills',), ('down_leaping',), ('no skills',), ('repeating',), ('up_leaping',), ('up_steping',), ('no skills',), ('leaping_twisting',), ('leaping_twisting',), ('up_steping',), ('up_steping',), ('up_steping',), ('repeating',), ('no skills',), ('repeating',), ('up_leaping',), ('no skills',), ('no skills',), ('no skills',), ('no skills',), ('no skills',), ('up_leaping',), ('staccato',), ('up_leaping',), ('no skills',), ('down_leaping',), ('continuing_rhythm',), ('no skills',), ('no skills',), ('staccato',), ('no skills',), ('leaping_twisting',), ('up_leaping',), ('repeating',), ('up_leaping',), ('down_steping',), ('triplet',), ('down_leaping',), ('no skills',), ('no skills',), ('no skills',), ('leaping_twisting',), ('no skills',), ('down_leaping',), ('no skills',), ('repeating',), ('no skills',), ('down_leaping',), ('no skills',), ('up_leaping',), ('no skills',), ('staccato',), ('no skills',), ('staccato',), ('One_rhythm',), ('no skills',), ('repeating',), ('leaping_twisting',), ('no skills',), ('no skills',), ('staccato',), ('leaping_twisting',), ('up_leaping',), ('leaping_twisting',), ('staccato',), ('no skills',), ('up_leaping',), ('up_leaping',), ('no skills',), ('leaping_twisting',), ('fast_rhythm',), ('up_steping',), ('repeating',), ('down_steping',), ('staccato',), ('no skills',), ('no skills',), ('fast_rhythm',), ('up_leaping',), ('staccato',), ('triplet',), ('no skills',), ('down_steping',), ('no skills',), ('staccato',), ('down_steping',), ('down_leaping',), ('no skills',), ('leaping_twisting',), ('no skills',), ('down_leaping',), ('up_leaping',), ('down_leaping',), ('no skills',), ('no skills',), ('no skills',), ('repeating',), ('staccato',), ('down_steping',), ('no skills',), ('leaping_twisting',), ('no skills',), ('no skills',), ('no skills',), ('triplet',), ('up_leaping',), ('no skills',), ('down_leaping',), ('no skills',), ('repeating',), ('no skills',), ('down_leaping',), ('fast_rhythm',), ('no skills',), ('staccato',), ('no skills',), ('down_steping',), ('repeating',), ('up_steping',), ('down_leaping',), ('no skills',), ('no skills',), ('continuing_rhythm',), ('no skills',), ('no skills',), ('staccato',), ('One_rhythm',), ('no skills',), ('staccato',), ('down_leaping',), ('staccato',), ('no skills',), ('no skills',), ('no skills',), ('staccato',), ('no skills',), ('staccato',), ('staccato',), ('steping_twisting',), ('no skills',), ('leaping_twisting',), ('no skills',), ('no skills',), ('fast_rhythm',), ('repeating',), ('fast_rhythm',), ('no skills',), ('leaping_twisting',), ('repeating',), ('no skills',), ('no skills',), ('no skills',), ('leaping_twisting',), ('up_steping',), ('up_leaping',), ('no skills',), ('no skills',), ('no skills',), ('staccato',), ('triplet',), ('up_leaping',), ('no skills',), ('repeating',), ('no skills',), ('no skills',), ('no skills',), ('no skills',), ('fast_rhythm',), ('down_leaping',), ('no skills',), ('repeating',), ('no skills',), ('up_steping',), ('up_leaping',), ('staccato',), ('no skills',), ('no skills',), ('no skills',), ('leaping_twisting',), ('no skills',), ('steping_twisting',), ('down_leaping',), ('no skills',), ('repeating',), ('no skills',), ('One_rhythm',), ('staccato',), ('One_rhythm',), ('staccato',), ('repeating',), ('no skills',), ('down_steping',), ('no skills',), ('no skills',), ('up_steping',), ('repeating',), ('no skills',), ('up_leaping',), ('staccato',), ('staccato',), ('staccato',), ('down_leaping',), ('no skills',), ('up_leaping',), ('no skills',), ('up_leaping',), ('steping_twisting',), ('down_leaping',), ('leaping_twisting',), ('no skills',), ('up_leaping',), ('no skills',), ('leaping_twisting',), ('staccato',), ('no skills',), ('no skills',), ('repeating',), ('leaping_twisting',), ('no skills',), ('repeating',), ('no skills',), ('down_leaping',), ('staccato',), ('staccato',), ('no skills',), ('no skills',), ('leaping_twisting',), ('no skills',), ('leaping_twisting',), ('leaping_twisting',), ('repeating',), ('no skills',), ('no skills',), ('repeating',), ('repeating',), ('no skills',), ('no skills',), ('leaping_twisting',), ('repeating',), ('leaping_twisting',), ('down_leaping',), ('down_leaping',), ('no skills',), ('fast_rhythm',), ('leaping_twisting',), ('leaping_twisting',), ('no skills',), ('up_leaping',), ('up_steping',), ('no skills',), ('down_leaping',), ('no skills',), ('no skills',), ('no skills',), ('no skills',), ('up_leaping',), ('repeating',), ('up_leaping',), ('up_leaping',), ('no skills',), ('leaping_twisting',), ('no skills',), ('repeating',), ('leaping_twisting',), ('leaping_twisting',), ('repeating',), ('leaping_twisting',), ('no skills',), ('fast_rhythm',), ('no skills',), ('leaping_twisting',), ('up_steping',), ('down_steping',), ('fast_rhythm',), ('triplet',), ('no skills',), ('repeating',), ('down_leaping',), ('One_rhythm',), ('down_leaping',), ('leaping_twisting',), ('up_leaping',), ('triplet',), ('staccato',), ('no skills',), ('no skills',), ('no skills',), ('leaping_twisting',), ('no skills',), ('steping_twisting',), ('up_leaping',), ('fast_rhythm',), ('leaping_twisting',), ('fast_rhythm',), ('no skills',), ('up_leaping',), ('leaping_twisting',), ('no skills',), ('up_steping',), ('no skills',), ('no skills',), ('leaping_twisting',), ('leaping_twisting',), ('staccato',), ('leaping_twisting',), ('no skills',), ('no skills',), ('fast_rhythm',), ('staccato',), ('repeating',), ('up_leaping',), ('One_rhythm',), ('down_leaping',), ('no skills',), ('down_leaping',), ('no skills',), ('no skills',), ('no skills',), ('leaping_twisting',), ('no skills',), ('leaping_twisting',), ('no skills',), ('triplet',), ('down_leaping',), ('staccato',), ('down_leaping',), ('down_leaping',), ('no skills',), ('leaping_twisting',), ('leaping_twisting',), ('no skills',), ('staccato',), ('down_leaping',), ('up_leaping',), ('up_steping',), ('no skills',), ('no skills',), ('staccato',), ('staccato',), ('no skills',), ('up_steping',), ('down_leaping',), ('no skills',), ('staccato',), ('no skills',), ('no skills',), ('triplet',), ('leaping_twisting',), ('up_steping',), ('no skills',), ('staccato',), ('leaping_twisting',), ('down_steping',), ('no skills',), ('leaping_twisting',), ('no skills',), ('up_steping',), ('down_leaping',), ('up_steping',), ('no skills',), ('no skills',), ('down_leaping',), ('steping_twisting',), ('repeating',), ('no skills',), ('no skills',), ('repeating',), ('up_steping',), ('no skills',), ('no skills',), ('down_leaping',), ('no skills',), ('leaping_twisting',), ('no skills',), ('leaping_twisting',), ('staccato',), ('no skills',), ('no skills',), ('no skills',), ('no skills',), ('up_leaping',), ('no skills',), ('leaping_twisting',), ('up_steping',), ('no skills',), ('no skills',), ('staccato',), ('no skills',), ('staccato',), ('up_steping',), ('no skills',), ('up_leaping',), ('repeating',), ('leaping_twisting',), ('staccato',), ('up_steping',), ('no skills',), ('down_leaping',), ('triplet',), ('leaping_twisting',), ('fast_rhythm',), ('up_steping',), ('fast_rhythm',), ('no skills',), ('leaping_twisting',), ('up_leaping',), ('staccato',), ('down_leaping',), ('no skills',), ('no skills',), ('no skills',), ('down_leaping',), ('fast_rhythm',), ('triplet',), ('fast_rhythm',), ('leaping_twisting',), ('repeating',), ('staccato',), ('no skills',), ('triplet',), ('no skills',), ('steping_twisting',), ('triplet',), ('staccato',), ('no skills',), ('steping_twisting',), ('fast_rhythm',), ('leaping_twisting',), ('up_leaping',), ('no skills',), ('leaping_twisting',), ('down_leaping',), ('leaping_twisting',), ('no skills',), ('staccato',), ('no skills',), ('no skills',), ('no skills',), ('up_leaping',), ('no skills',), ('no skills',), ('staccato',), ('leaping_twisting',), ('no skills',), ('no skills',), ('no skills',), ('fast_rhythm',), ('leaping_twisting',), ('leaping_twisting',), ('up_leaping',), ('no skills',), ('no skills',), ('leaping_twisting',), ('no skills',), ('up_leaping',), ('repeating',), ('up_steping',), ('steping_twisting',), ('no skills',), ('repeating',), ('down_leaping',), ('fast_rhythm',), ('repeating',), ('continuing_rhythm',), ('staccato',), ('staccato',), ('steping_twisting',), ('down_steping',), ('up_steping',), ('no skills',), ('no skills',), ('no skills',), ('leaping_twisting',), ('down_leaping',), ('staccato',), ('down_leaping',), ('down_leaping',), ('no skills',), ('leaping_twisting',), ('fast_rhythm',), ('no skills',), ('up_steping',), ('no skills',), ('up_leaping',), ('repeating',), ('no skills',), ('no skills',), ('staccato',), ('no skills',), ('up_leaping',), ('no skills',), ('down_leaping',), ('up_steping',), ('leaping_twisting',), ('leaping_twisting',), ('no skills',), ('up_leaping',), ('leaping_twisting',), ('staccato',), ('no skills',), ('leaping_twisting',), ('no skills',), ('no skills',), ('leaping_twisting',), ('no skills',), ('no skills',), ('no skills',), ('staccato',), ('leaping_twisting',), ('staccato',), ('up_steping',), ('up_steping',), ('staccato',), ('no skills',), ('no skills',), ('leaping_twisting',), ('staccato',), ('repeating',), ('leaping_twisting',), ('up_steping',), ('no skills',), ('leaping_twisting',), ('staccato',), ('steping_twisting',), ('no skills',), ('staccato',), ('up_steping',), ('no skills',), ('no skills',), ('up_steping',), ('no skills',), ('down_leaping',), ('no skills',), ('no skills',), ('down_leaping',), ('no skills',), ('One_rhythm',), ('down_leaping',), ('down_leaping',), ('leaping_twisting',), ('repeating',), ('no skills',), ('no skills',), ('leaping_twisting',), ('no skills',), ('staccato',), ('no skills',), ('down_leaping',), ('leaping_twisting',), ('staccato',), ('no skills',), ('staccato',), ('down_leaping',), ('triplet',), ('leaping_twisting',), ('no skills',), ('triplet',), ('no skills',), ('repeating',), ('no skills',), ('no skills',), ('no skills',), ('up_leaping',), ('leaping_twisting',), ('triplet',), ('repeating',), ('up_leaping',), ('staccato',), ('staccato',), ('no skills',), ('no skills',), ('leaping_twisting',), ('down_leaping',), ('up_steping',), ('down_leaping',), ('staccato',), ('steping_twisting',), ('up_leaping',), ('down_leaping',), ('fast_rhythm',), ('steping_twisting',), ('leaping_twisting',), ('triplet',), ('no skills',), ('no skills',), ('no skills',), ('no skills',), ('staccato',), ('down_leaping',), ('no skills',), ('up_leaping',), ('leaping_twisting',), ('leaping_twisting',), ('leaping_twisting',), ('leaping_twisting',), ('no skills',), ('no skills',), ('no skills',), ('no skills',), ('no skills',), ('no skills',), ('down_leaping',), ('no skills',), ('up_leaping',), ('no skills',), ('up_steping',), ('no skills',), ('no skills',), ('triplet',), ('staccato',), ('down_steping',), ('leaping_twisting',), ('repeating',), ('up_steping',), ('no skills',), ('triplet',), ('up_leaping',), ('no skills',), ('up_leaping',), ('no skills',), ('up_leaping',), ('no skills',), ('no skills',), ('no skills',), ('no skills',), ('no skills',), ('down_leaping',), ('no skills',), ('no skills',), ('leaping_twisting',), ('leaping_twisting',), ('no skills',), ('no skills',), ('up_steping',), ('repeating',), ('up_steping',), ('no skills',), ('no skills',), ('repeating',), ('steping_twisting',), ('up_leaping',), ('no skills',), ('no skills',), ('no skills',), ('steping_twisting',), ('up_leaping',), ('leaping_twisting',), ('up_steping',), ('no skills',), ('no skills',), ('staccato',), ('no skills',), ('up_steping',), ('no skills',), ('triplet',), ('no skills',), ('no skills',), ('no skills',), ('steping_twisting',), ('up_leaping',), ('staccato',), ('leaping_twisting',), ('repeating',), ('down_steping',), ('no skills',), ('no skills',), ('leaping_twisting',), ('staccato',), ('no skills',), ('down_leaping',), ('leaping_twisting',), ('no skills',), ('down_steping',), ('staccato',), ('staccato',), ('leaping_twisting',), ('down_leaping',), ('no skills',), ('repeating',), ('leaping_twisting',), ('up_steping',), ('no skills',), ('no skills',), ('down_leaping',), ('repeating',), ('leaping_twisting',), ('triplet',), ('down_leaping',), ('no skills',), ('no skills',), ('no skills',), ('down_leaping',), ('up_leaping',), ('no skills',), ('no skills',), ('no skills',), ('up_steping',), ('no skills',), ('up_steping',), ('staccato',), ('leaping_twisting',), ('no skills',), ('continuing_rhythm',), ('staccato',), ('leaping_twisting',), ('down_steping',), ('no skills',), ('no skills',), ('up_steping',), ('up_steping',), ('up_steping',), ('continuing_rhythm',), ('staccato',), ('no skills',), ('no skills',), ('leaping_twisting',), ('down_steping',), ('up_steping',), ('down_leaping',), ('leaping_twisting',), ('triplet',), ('leaping_twisting',), ('up_steping',), ('down_leaping',), ('no skills',), ('repeating',), ('up_leaping',), ('down_leaping',), ('up_steping',), ('repeating',), ('staccato',), ('no skills',), ('steping_twisting',), ('down_leaping',), ('staccato',), ('leaping_twisting',), ('no skills',), ('no skills',), ('up_steping',), ('leaping_twisting',), ('up_steping',), ('no skills',), ('repeating',), ('down_steping',), ('no skills',), ('up_leaping',), ('leaping_twisting',), ('repeating',), ('leaping_twisting',), ('down_leaping',), ('leaping_twisting',), ('down_leaping',), ('no skills',), ('no skills',), ('no skills',), ('up_leaping',), ('no skills',), ('up_steping',), ('down_leaping',), ('no skills',), ('leaping_twisting',), ('repeating',), ('no skills',), ('leaping_twisting',), ('no skills',), ('up_leaping',), ('down_steping',), ('no skills',), ('no skills',), ('down_leaping',), ('leaping_twisting',), ('repeating',), ('down_steping',), ('repeating',), ('leaping_twisting',), ('steping_twisting',), ('leaping_twisting',), ('leaping_twisting',), ('leaping_twisting',), ('no skills',), ('no skills',), ('up_leaping',), ('no skills',), ('down_leaping',), ('no skills',), ('no skills',), ('down_leaping',), ('up_steping',), ('up_steping',), ('up_leaping',), ('no skills',), ('no skills',), ('One_rhythm',), ('steping_twisting',), ('One_rhythm',), ('no skills',), ('staccato',), ('down_steping',), ('triplet',), ('up_leaping',), ('up_leaping',), ('no skills',), ('no skills',), ('down_leaping',), ('no skills',), ('no skills',), ('no skills',), ('staccato',), ('down_steping',), ('down_leaping',), ('no skills',), ('up_steping',), ('up_steping',), ('One_rhythm',), ('no skills',), ('no skills',), ('no skills',), ('no skills',), ('up_leaping',), ('staccato',), ('no skills',), ('no skills',), ('steping_twisting',), ('steping_twisting',), ('repeating',), ('up_steping',), ('staccato',), ('no skills',), ('no skills',), ('triplet',), ('leaping_twisting',), ('leaping_twisting',), ('no skills',), ('no skills',), ('down_leaping',), ('no skills',), ('no skills',), ('no skills',), ('staccato',), ('up_leaping',), ('leaping_twisting',), ('up_leaping',), ('no skills',), ('no skills',), ('no skills',), ('up_leaping',), ('staccato',), ('no skills',), ('no skills',), ('triplet',), ('staccato',), ('no skills',), ('down_leaping',), ('repeating',), ('staccato',), ('no skills',), ('fast_rhythm',), ('up_leaping',), ('up_leaping',), ('staccato',), ('no skills',), ('no skills',), ('repeating',), ('staccato',), ('no skills',), ('up_leaping',), ('no skills',), ('leaping_twisting',), ('down_leaping',), ('staccato',), ('no skills',), ('fast_rhythm',), ('up_steping',), ('no skills',), ('triplet',), ('no skills',), ('no skills',), ('leaping_twisting',), ('leaping_twisting',), ('no skills',), ('no skills',), ('no skills',), ('up_steping',), ('no skills',), ('no skills',), ('down_leaping',), ('no skills',), ('no skills',), ('no skills',), ('no skills',), ('repeating',), ('up_steping',), ('no skills',), ('up_steping',), ('up_steping',), ('no skills',), ('no skills',), ('down_leaping',), ('no skills',), ('down_leaping',), ('no skills',), ('up_steping',), ('repeating',), ('down_steping',), ('down_leaping',), ('no skills',), ('no skills',), ('repeating',), ('no skills',), ('no skills',), ('staccato',), ('leaping_twisting',), ('leaping_twisting',), ('up_steping',), ('no skills',), ('fast_rhythm',), ('no skills',), ('no skills',), ('down_leaping',), ('leaping_twisting',), ('up_leaping',), ('up_steping',), ('no skills',), ('no skills',), ('no skills',), ('no skills',), ('leaping_twisting',), ('no skills',), ('no skills',), ('no skills',), ('down_steping',), ('no skills',), ('no skills',), ('no skills',), ('continuing_rhythm',), ('staccato',), ('repeating',), ('leaping_twisting',), ('down_steping',), ('no skills',), ('no skills',), ('no skills',), ('leaping_twisting',), ('staccato',), ('no skills',), ('triplet',), ('leaping_twisting',), ('down_leaping',), ('no skills',), ('down_steping',), ('no skills',), ('up_steping',), ('up_steping',), ('no skills',), ('up_steping',), ('up_leaping',), ('no skills',), ('staccato',), ('staccato',), ('steping_twisting',), ('repeating',), ('staccato',), ('repeating',), ('no skills',), ('no skills',), ('no skills',), ('leaping_twisting',), ('no skills',), ('up_leaping',), ('up_leaping',), ('up_steping',), ('down_steping',), ('down_leaping',), ('no skills',), ('no skills',), ('down_leaping',), ('no skills',), ('down_steping',), ('steping_twisting',), ('no skills',), ('no skills',), ('up_leaping',), ('repeating',), ('no skills',), ('down_leaping',), ('no skills',), ('repeating',), ('no skills',), ('no skills',), ('fast_rhythm',), ('up_steping',), ('down_leaping',), ('no skills',), ('no skills',), ('no skills',), ('no skills',), ('no skills',), ('down_steping',), ('no skills',), ('no skills',), ('up_steping',), ('up_steping',), ('no skills',), ('staccato',), ('staccato',), ('no skills',), ('fast_rhythm',), ('staccato',), ('staccato',), ('no skills',), ('steping_twisting',), ('up_leaping',), ('no skills',), ('no skills',), ('no skills',), ('down_leaping',), ('leaping_twisting',), ('up_steping',), ('down_leaping',), ('no skills',), ('up_steping',), ('no skills',), ('no skills',), ('up_steping',), ('no skills',), ('no skills',), ('up_leaping',), ('no skills',), ('fast_rhythm',), ('no skills',), ('no skills',), ('no skills',), ('down_leaping',), ('no skills',), ('up_leaping',), ('up_leaping',), ('fast_rhythm',), ('no skills',), ('fast_rhythm',), ('up_steping',), ('up_leaping',), ('no skills',), ('no skills',), ('repeating',), ('no skills',), ('fast_rhythm',), ('up_steping',), ('leaping_twisting',), ('no skills',), ('no skills',), ('staccato',), ('no skills',), ('repeating',), ('leaping_twisting',), ('down_leaping',), ('no skills',), ('up_steping',), ('no skills',), ('leaping_twisting',), ('fast_rhythm',), ('no skills',), ('steping_twisting',), ('up_leaping',), ('staccato',), ('down_leaping',), ('leaping_twisting',), ('no skills',), ('no skills',), ('up_leaping',), ('leaping_twisting',), ('up_steping',), ('no skills',), ('up_steping',), ('staccato',), ('no skills',), ('no skills',), ('staccato',), ('no skills',), ('triplet',), ('no skills',), ('up_leaping',), ('up_steping',), ('up_steping',), ('no skills',), ('up_leaping',), ('leaping_twisting',), ('up_steping',), ('leaping_twisting',), ('staccato',), ('triplet',), ('no skills',), ('no skills',), ('staccato',), ('down_steping',), ('no skills',), ('repeating',), ('no skills',), ('down_steping',), ('repeating',), ('no skills',), ('no skills',), ('down_leaping',), ('no skills',), ('no skills',), ('no skills',), ('no skills',), ('One_rhythm',), ('leaping_twisting',), ('leaping_twisting',), ('no skills',), ('up_leaping',), ('no skills',), ('leaping_twisting',), ('no skills',), ('staccato',), ('no skills',), ('staccato',), ('repeating',), ('fast_rhythm',), ('no skills',), ('up_steping',), ('no skills',), ('down_leaping',), ('no skills',), ('continuing_rhythm',), ('no skills',), ('leaping_twisting',), ('no skills',), ('staccato',), ('leaping_twisting',), ('no skills',), ('no skills',), ('leaping_twisting',), ('down_leaping',), ('up_steping',), ('staccato',), ('staccato',), ('no skills',), ('fast_rhythm',), ('no skills',), ('up_steping',), ('no skills',), ('staccato',), ('down_leaping',), ('up_steping',), ('staccato',), ('leaping_twisting',), ('staccato',), ('no skills',), ('leaping_twisting',), ('up_steping',), ('no skills',), ('up_leaping',), ('repeating',), ('up_leaping',), ('repeating',), ('no skills',), ('no skills',), ('no skills',), ('triplet',), ('continuing_rhythm',), ('repeating',), ('no skills',), ('steping_twisting',), ('no skills',), ('repeating',), ('no skills',), ('no skills',), ('no skills',), ('no skills',), ('staccato',), ('repeating',), ('no skills',), ('triplet',), ('staccato',), ('no skills',), ('down_leaping',), ('up_steping',), ('leaping_twisting',), ('no skills',), ('no skills',), ('triplet',), ('no skills',), ('up_steping',), ('up_leaping',), ('repeating',), ('up_steping',), ('no skills',), ('up_leaping',), ('down_steping',), ('fast_rhythm',), ('up_leaping',), ('up_steping',), ('staccato',), ('up_leaping',), ('no skills',), ('up_steping',), ('no skills',), ('leaping_twisting',), ('repeating',), ('no skills',), ('repeating',), ('up_leaping',), ('up_leaping',), ('steping_twisting',), ('no skills',), ('staccato',), ('up_leaping',), ('repeating',), ('staccato',), ('triplet',), ('up_steping',), ('staccato',), ('no skills',), ('leaping_twisting',), ('no skills',), ('up_steping',), ('no skills',), ('staccato',), ('up_leaping',), ('staccato',), ('up_steping',), ('down_leaping',), ('no skills',), ('no skills',), ('staccato',), ('staccato',), ('repeating',), ('up_leaping',), ('leaping_twisting',), ('no skills',), ('staccato',), ('down_leaping',), ('steping_twisting',), ('no skills',), ('up_steping',), ('leaping_twisting',), ('down_leaping',), ('up_steping',), ('no skills',), ('down_leaping',), ('repeating',), ('no skills',), ('no skills',), ('no skills',), ('staccato',), ('no skills',), ('continuing_rhythm',), ('up_leaping',), ('continuing_rhythm',), ('One_rhythm',), ('no skills',), ('no skills',), ('up_leaping',), ('no skills',), ('no skills',), ('continuing_rhythm',), ('no skills',), ('fast_rhythm',), ('down_steping',), ('no skills',), ('down_leaping',), ('no skills',), ('no skills',), ('no skills',), ('staccato',), ('repeating',), ('no skills',), ('no skills',), ('repeating',), ('no skills',), ('no skills',), ('no skills',), ('no skills',), ('down_leaping',), ('no skills',), ('staccato',), ('up_steping',), ('down_leaping',), ('down_steping',), ('no skills',), ('staccato',), ('no skills',), ('no skills',), ('no skills',), ('no skills',), ('no skills',), ('no skills',), ('no skills',), ('no skills',), ('repeating',), ('staccato',), ('no skills',), ('no skills',), ('leaping_twisting',), ('no skills',), ('down_leaping',), ('up_leaping',), ('no skills',), ('One_rhythm',), ('steping_twisting',), ('leaping_twisting',), ('staccato',), ('no skills',), ('up_steping',), ('up_steping',), ('staccato',), ('no skills',), ('down_leaping',), ('no skills',), ('up_steping',), ('no skills',), ('down_leaping',), ('triplet',), ('up_leaping',), ('no skills',), ('no skills',), ('no skills',), ('no skills',), ('staccato',), ('leaping_twisting',), ('steping_twisting',), ('no skills',), ('staccato',), ('repeating',), ('no skills',), ('no skills',), ('up_leaping',), ('repeating',), ('leaping_twisting',), ('leaping_twisting',), ('no skills',), ('leaping_twisting',), ('fast_rhythm',), ('leaping_twisting',), ('down_steping',), ('no skills',), ('up_leaping',), ('no skills',), ('triplet',), ('no skills',), ('repeating',), ('staccato',), ('repeating',), ('no skills',), ('up_steping',), ('up_leaping',), ('staccato',), ('no skills',), ('up_leaping',), ('repeating',), ('no skills',), ('no skills',), ('up_steping',), ('no skills',), ('no skills',), ('leaping_twisting',), ('down_steping',), ('no skills',), ('fast_rhythm',), ('continuing_rhythm',), ('no skills',), ('no skills',), ('staccato',), ('staccato',), ('no skills',), ('down_leaping',), ('no skills',), ('no skills',), ('staccato',), ('fast_rhythm',), ('staccato',), ('down_leaping',), ('leaping_twisting',), ('no skills',), ('fast_rhythm',), ('leaping_twisting',), ('no skills',), ('no skills',), ('no skills',), ('no skills',), ('steping_twisting',), ('down_steping',), ('staccato',), ('no skills',), ('up_leaping',), ('no skills',), ('down_leaping',), ('no skills',), ('staccato',), ('leaping_twisting',), ('no skills',), ('leaping_twisting',), ('no skills',), ('up_leaping',), ('leaping_twisting',), ('no skills',), ('no skills',), ('no skills',), ('no skills',), ('down_leaping',), ('no skills',), ('no skills',), ('no skills',), ('leaping_twisting',), ('up_steping',), ('leaping_twisting',), ('One_rhythm',), ('no skills',), ('fast_rhythm',), ('up_steping',), ('staccato',), ('staccato',), ('leaping_twisting',), ('leaping_twisting',), ('up_steping',), ('no skills',), ('staccato',), ('leaping_twisting',), ('fast_rhythm',), ('no skills',), ('fast_rhythm',), ('up_leaping',), ('no skills',), ('leaping_twisting',), ('repeating',), ('no skills',), ('no skills',), ('up_steping',), ('no skills',), ('triplet',), ('no skills',), ('down_leaping',), ('no skills',), ('up_leaping',), ('no skills',), ('no skills',), ('up_steping',), ('up_steping',), ('no skills',), ('leaping_twisting',), ('staccato',), ('triplet',), ('repeating',), ('up_steping',), ('no skills',), ('repeating',), ('leaping_twisting',), ('no skills',), ('staccato',), ('no skills',), ('down_leaping',), ('no skills',), ('up_steping',), ('fast_rhythm',), ('no skills',), ('no skills',), ('no skills',), ('no skills',), ('repeating',), ('staccato',), ('repeating',), ('no skills',), ('no skills',), ('fast_rhythm',), ('no skills',), ('no skills',), ('no skills',), ('up_steping',), ('up_leaping',), ('repeating',), ('repeating',), ('fast_rhythm',), ('staccato',), ('no skills',), ('leaping_twisting',), ('down_leaping',), ('up_leaping',), ('leaping_twisting',), ('no skills',), ('steping_twisting',), ('leaping_twisting',), ('down_leaping',), ('up_leaping',), ('up_leaping',), ('repeating',), ('up_leaping',), ('no skills',), ('staccato',), ('up_steping',), ('up_steping',), ('no skills',), ('no skills',), ('down_leaping',), ('no skills',), ('leaping_twisting',), ('up_leaping',), ('no skills',), ('no skills',), ('repeating',), ('down_leaping',), ('steping_twisting',), ('no skills',), ('no skills',), ('no skills',), ('staccato',), ('no skills',), ('no skills',), ('staccato',), ('fast_rhythm',), ('no skills',), ('continuing_rhythm',), ('up_steping',), ('no skills',), ('no skills',), ('no skills',), ('up_steping',), ('no skills',), ('no skills',), ('fast_rhythm',), ('triplet',), ('no skills',), ('no skills',), ('no skills',), ('no skills',), ('leaping_twisting',), ('staccato',), ('fast_rhythm',), ('staccato',), ('no skills',), ('down_leaping',), ('leaping_twisting',), ('repeating',), ('leaping_twisting',), ('up_steping',), ('staccato',), ('down_leaping',), ('repeating',), ('staccato',), ('no skills',), ('down_leaping',), ('no skills',), ('no skills',), ('up_leaping',), ('no skills',), ('up_steping',), ('leaping_twisting',), ('no skills',), ('down_leaping',), ('up_steping',), ('repeating',), ('triplet',), ('repeating',), ('down_leaping',), ('fast_rhythm',), ('staccato',), ('no skills',), ('no skills',), ('leaping_twisting',), ('up_leaping',), ('no skills',), ('no skills',), ('steping_twisting',), ('no skills',), ('leaping_twisting',), ('up_leaping',), ('no skills',), ('no skills',), ('leaping_twisting',), ('staccato',), ('up_steping',), ('staccato',), ('steping_twisting',), ('no skills',), ('no skills',), ('no skills',), ('up_steping',), ('no skills',), ('leaping_twisting',), ('down_leaping',), ('staccato',), ('no skills',), ('up_leaping',), ('no skills',), ('leaping_twisting',), ('staccato',), ('staccato',), ('up_steping',), ('up_steping',), ('down_leaping',), ('leaping_twisting',), ('down_steping',), ('no skills',), ('up_steping',), ('triplet',), ('leaping_twisting',), ('no skills',), ('down_leaping',), ('down_leaping',), ('down_leaping',), ('no skills',), ('no skills',), ('up_steping',), ('no skills',), ('down_leaping',), ('down_leaping',), ('repeating',), ('no skills',), ('no skills',), ('triplet',), ('up_steping',), ('leaping_twisting',), ('repeating',), ('up_leaping',), ('steping_twisting',), ('up_leaping',), ('fast_rhythm',), ('down_steping',), ('staccato',), ('down_leaping',), ('triplet',), ('down_leaping',), ('leaping_twisting',), ('no skills',), ('steping_twisting',), ('leaping_twisting',), ('no skills',), ('up_leaping',), ('no skills',), ('down_leaping',), ('repeating',), ('no skills',), ('down_steping',), ('no skills',), ('staccato',), ('leaping_twisting',), ('up_leaping',), ('leaping_twisting',), ('no skills',), ('no skills',), ('steping_twisting',), ('repeating',), ('up_leaping',), ('down_leaping',), ('no skills',), ('no skills',), ('no skills',), ('triplet',), ('up_steping',), ('staccato',), ('no skills',), ('no skills',), ('down_leaping',), ('no skills',), ('up_leaping',), ('no skills',), ('no skills',), ('staccato',), ('leaping_twisting',), ('up_steping',), ('staccato',), ('staccato',), ('no skills',), ('up_leaping',), ('up_leaping',), ('staccato',), ('repeating',), ('no skills',), ('no skills',), ('no skills',), ('no skills',), ('no skills',), ('down_leaping',), ('no skills',), ('no skills',), ('repeating',), ('up_leaping',), ('leaping_twisting',), ('staccato',), ('no skills',), ('leaping_twisting',), ('no skills',), ('no skills',), ('leaping_twisting',), ('no skills',), ('up_steping',), ('up_steping',), ('no skills',), ('leaping_twisting',), ('up_steping',), ('no skills',), ('repeating',), ('no skills',), ('staccato',), ('leaping_twisting',), ('down_leaping',), ('down_leaping',), ('no skills',), ('up_steping',), ('no skills',), ('no skills',), ('no skills',), ('down_leaping',), ('no skills',), ('up_leaping',), ('leaping_twisting',), ('no skills',), ('leaping_twisting',), ('up_leaping',), ('no skills',), ('up_leaping',), ('leaping_twisting',), ('staccato',), ('up_steping',), ('leaping_twisting',), ('leaping_twisting',), ('no skills',), ('no skills',), ('no skills',), ('no skills',), ('no skills',), ('repeating',), ('no skills',), ('down_leaping',), ('no skills',), ('up_leaping',), ('no skills',), ('staccato',), ('repeating',), ('no skills',), ('no skills',), ('repeating',), ('up_steping',), ('up_leaping',), ('no skills',), ('no skills',), ('no skills',), ('up_leaping',), ('no skills',), ('no skills',), ('no skills',), ('up_leaping',), ('no skills',), ('leaping_twisting',), ('leaping_twisting',), ('up_leaping',), ('down_leaping',), ('no skills',), ('staccato',), ('no skills',), ('no skills',), ('down_leaping',), ('repeating',), ('no skills',), ('steping_twisting',), ('no skills',), ('no skills',), ('no skills',), ('no skills',), ('no skills',), ('no skills',), ('staccato',), ('triplet',), ('up_leaping',), ('no skills',), ('staccato',), ('no skills',), ('no skills',), ('leaping_twisting',), ('staccato',), ('down_leaping',), ('no skills',), ('no skills',), ('down_leaping',), ('up_leaping',), ('up_leaping',), ('leaping_twisting',), ('no skills',), ('no skills',), ('triplet',), ('no skills',), ('no skills',), ('repeating',), ('no skills',), ('repeating',), ('continuing_rhythm',), ('no skills',), ('no skills',), ('down_steping',), ('triplet',), ('triplet',), ('no skills',), ('no skills',), ('up_leaping',), ('triplet',), ('no skills',), ('down_leaping',), ('no skills',), ('no skills',), ('no skills',), ('triplet',), ('up_leaping',), ('no skills',), ('leaping_twisting',), ('leaping_twisting',), ('no skills',), ('triplet',), ('staccato',), ('no skills',), ('leaping_twisting',), ('no skills',), ('no skills',), ('staccato',), ('no skills',), ('no skills',), ('leaping_twisting',), ('no skills',), ('no skills',), ('no skills',), ('leaping_twisting',), ('repeating',), ('leaping_twisting',), ('no skills',), ('no skills',), ('no skills',), ('fast_rhythm',), ('no skills',), ('no skills',), ('no skills',), ('up_steping',), ('up_leaping',), ('no skills',), ('staccato',), ('up_steping',), ('no skills',), ('leaping_twisting',), ('up_steping',), ('no skills',), ('repeating',), ('no skills',), ('repeating',), ('up_leaping',), ('no skills',), ('up_steping',), ('no skills',), ('leaping_twisting',), ('leaping_twisting',), ('staccato',), ('no skills',), ('no skills',), ('no skills',), ('down_leaping',), ('up_steping',), ('no skills',), ('leaping_twisting',), ('staccato',), ('no skills',), ('down_leaping',), ('no skills',), ('up_leaping',), ('no skills',), ('no skills',), ('up_steping',), ('no skills',), ('no skills',), ('no skills',), ('repeating',), ('up_leaping',), ('up_steping',), ('down_steping',), ('up_steping',), ('no skills',), ('repeating',), ('no skills',), ('staccato',), ('down_leaping',), ('up_steping',), ('no skills',), ('leaping_twisting',), ('staccato',), ('leaping_twisting',), ('fast_rhythm',), ('no skills',), ('no skills',), ('no skills',), ('fast_rhythm',), ('up_leaping',), ('no skills',), ('staccato',), ('leaping_twisting',), ('up_leaping',), ('triplet',), ('no skills',), ('down_leaping',), ('no skills',), ('leaping_twisting',), ('no skills',), ('up_steping',), ('no skills',), ('up_leaping',), ('steping_twisting',), ('repeating',), ('no skills',), ('repeating',), ('down_steping',), ('no skills',), ('triplet',), ('no skills',), ('staccato',), ('down_leaping',), ('leaping_twisting',), ('up_leaping',), ('no skills',), ('repeating',), ('no skills',), ('staccato',), ('down_steping',), ('leaping_twisting',), ('One_rhythm',), ('no skills',), ('staccato',), ('repeating',), ('no skills',), ('down_leaping',), ('no skills',), ('repeating',), ('no skills',), ('no skills',), ('repeating',), ('no skills',), ('no skills',), ('no skills',), ('no skills',), ('no skills',), ('no skills',), ('up_steping',), ('up_steping',), ('repeating',), ('staccato',), ('repeating',), ('leaping_twisting',), ('no skills',), ('repeating',), ('down_leaping',), ('up_steping',), ('leaping_twisting',), ('triplet',), ('staccato',), ('continuing_rhythm',), ('staccato',), ('up_steping',), ('no skills',), ('no skills',), ('triplet',), ('no skills',), ('no skills',), ('leaping_twisting',), ('leaping_twisting',), ('no skills',), ('no skills',), ('up_leaping',), ('no skills',), ('up_steping',), ('down_leaping',), ('down_leaping',), ('up_steping',), ('no skills',), ('up_steping',), ('fast_rhythm',), ('no skills',), ('no skills',), ('repeating',), ('steping_twisting',), ('down_leaping',), ('down_steping',), ('leaping_twisting',), ('no skills',), ('leaping_twisting',), ('down_leaping',), ('staccato',), ('staccato',), ('up_leaping',), ('no skills',), ('no skills',), ('fast_rhythm',), ('no skills',), ('up_leaping',), ('no skills',), ('no skills',), ('staccato',), ('repeating',), ('up_leaping',), ('down_steping',), ('up_steping',), ('continuing_rhythm',), ('up_steping',), ('no skills',), ('no skills',), ('no skills',), ('staccato',), ('up_leaping',), ('no skills',), ('down_leaping',), ('no skills',), ('up_steping',), ('staccato',), ('no skills',), ('up_steping',), ('fast_rhythm',), ('triplet',), ('up_steping',), ('no skills',), ('no skills',), ('repeating',), ('no skills',), ('no skills',), ('down_leaping',), ('no skills',), ('no skills',), ('up_steping',), ('steping_twisting',), ('leaping_twisting',), ('no skills',), ('no skills',), ('no skills',), ('no skills',), ('leaping_twisting',), ('repeating',), ('triplet',), ('no skills',), ('no skills',), ('fast_rhythm',), ('no skills',), ('no skills',), ('no skills',), ('continuing_rhythm',), ('no skills',), ('no skills',), ('no skills',), ('staccato',), ('staccato',), ('leaping_twisting',), ('steping_twisting',), ('staccato',), ('leaping_twisting',), ('leaping_twisting',), ('no skills',), ('up_leaping',), ('no skills',), ('no skills',), ('leaping_twisting',), ('no skills',), ('no skills',), ('no skills',), ('staccato',), ('no skills',), ('no skills',), ('no skills',), ('repeating',), ('no skills',), ('fast_rhythm',), ('leaping_twisting',), ('no skills',), ('down_leaping',), ('no skills',), ('no skills',), ('leaping_twisting',), ('staccato',), ('up_steping',), ('no skills',), ('continuing_rhythm',), ('no skills',), ('up_leaping',), ('no skills',), ('no skills',), ('up_steping',), ('no skills',), ('staccato',), ('no skills',), ('up_steping',), ('leaping_twisting',), ('no skills',), ('repeating',), ('no skills',), ('up_steping',), ('up_steping',), ('staccato',), ('up_leaping',), ('up_steping',), ('staccato',), ('staccato',), ('no skills',), ('continuing_rhythm',), ('no skills',), ('no skills',), ('no skills',), ('down_leaping',), ('steping_twisting',), ('no skills',), ('down_leaping',), ('no skills',), ('repeating',), ('no skills',), ('no skills',), ('staccato',), ('up_steping',), ('up_steping',), ('no skills',), ('up_steping',), ('leaping_twisting',), ('leaping_twisting',), ('up_leaping',), ('no skills',), ('steping_twisting',), ('down_leaping',), ('no skills',), ('no skills',), ('repeating',), ('no skills',), ('no skills',), ('up_steping',), ('leaping_twisting',), ('up_steping',), ('up_steping',), ('up_leaping',), ('no skills',), ('no skills',), ('down_leaping',), ('continuing_rhythm',), ('no skills',), ('fast_rhythm',), ('no skills',), ('no skills',), ('no skills',), ('no skills',), ('no skills',), ('no skills',), ('repeating',), ('down_leaping',), ('up_steping',), ('staccato',), ('no skills',), ('no skills',), ('down_leaping',), ('staccato',), ('up_steping',), ('up_steping',), ('staccato',), ('no skills',), ('up_leaping',), ('no skills',), ('up_leaping',), ('steping_twisting',), ('leaping_twisting',), ('triplet',), ('staccato',), ('no skills',), ('fast_rhythm',), ('up_steping',), ('no skills',), ('no skills',), ('down_leaping',), ('no skills',), ('no skills',), ('no skills',), ('leaping_twisting',), ('no skills',), ('triplet',), ('no skills',), ('repeating',), ('repeating',), ('down_leaping',), ('steping_twisting',), ('up_leaping',), ('no skills',), ('up_steping',), ('up_steping',), ('no skills',), ('up_leaping',), ('up_leaping',), ('no skills',), ('no skills',), ('down_leaping',), ('continuing_rhythm',), ('no skills',), ('triplet',), ('up_steping',), ('no skills',), ('leaping_twisting',), ('up_leaping',), ('no skills',), ('up_leaping',), ('staccato',), ('no skills',), ('no skills',), ('no skills',), ('down_leaping',), ('down_leaping',), ('no skills',), ('no skills',), ('no skills',), ('no skills',), ('no skills',), ('no skills',), ('down_leaping',), ('no skills',), ('no skills',), ('down_leaping',), ('staccato',), ('fast_rhythm',), ('up_steping',), ('up_steping',), ('no skills',), ('no skills',), ('no skills',), ('no skills',), ('no skills',), ('up_steping',), ('no skills',), ('no skills',), ('repeating',), ('up_steping',), ('staccato',), ('no skills',), ('down_steping',), ('no skills',), ('no skills',), ('no skills',), ('no skills',), ('down_steping',), ('no skills',), ('staccato',), ('no skills',), ('down_leaping',), ('leaping_twisting',), ('up_steping',), ('no skills',), ('up_leaping',), ('up_leaping',), ('up_steping',), ('leaping_twisting',), ('no skills',), ('no skills',), ('down_steping',), ('down_leaping',), ('leaping_twisting',), ('no skills',), ('no skills',), ('up_steping',), ('no skills',), ('staccato',), ('no skills',), ('staccato',), ('up_steping',), ('staccato',), ('up_steping',), ('down_steping',), ('no skills',), ('fast_rhythm',), ('no skills',), ('no skills',), ('fast_rhythm',), ('up_steping',), ('up_leaping',), ('repeating',), ('staccato',), ('no skills',), ('up_steping',), ('up_steping',), ('no skills',), ('down_leaping',), ('up_steping',), ('no skills',), ('up_leaping',), ('no skills',), ('up_leaping',), ('triplet',), ('steping_twisting',), ('no skills',), ('down_leaping',), ('down_steping',), ('leaping_twisting',), ('up_leaping',), ('no skills',), ('no skills',), ('leaping_twisting',), ('up_steping',), ('no skills',), ('no skills',), ('up_leaping',), ('no skills',), ('fast_rhythm',), ('fast_rhythm',), ('down_leaping',), ('no skills',), ('no skills',), ('no skills',), ('no skills',), ('leaping_twisting',), ('repeating',), ('no skills',), ('staccato',), ('no skills',), ('no skills',), ('leaping_twisting',), ('triplet',), ('leaping_twisting',), ('down_steping',), ('up_steping',), ('down_leaping',), ('steping_twisting',), ('no skills',), ('no skills',), ('up_steping',), ('no skills',), ('no skills',), ('no skills',), ('no skills',), ('no skills',), ('no skills',), ('no skills',), ('steping_twisting',), ('triplet',), ('up_steping',), ('fast_rhythm',), ('up_leaping',), ('no skills',), ('no skills',), ('no skills',), ('up_steping',), ('leaping_twisting',), ('steping_twisting',), ('no skills',), ('up_steping',), ('fast_rhythm',), ('no skills',), ('staccato',), ('no skills',), ('no skills',), ('fast_rhythm',), ('no skills',), ('no skills',), ('no skills',), ('repeating',), ('no skills',), ('down_leaping',), ('up_leaping',), ('triplet',), ('no skills',), ('down_leaping',), ('no skills',), ('no skills',), ('triplet',), ('staccato',), ('staccato',), ('no skills',), ('staccato',), ('down_leaping',), ('no skills',), ('no skills',), ('no skills',), ('up_steping',), ('down_steping',), ('no skills',), ('fast_rhythm',), ('up_leaping',), ('no skills',), ('leaping_twisting',), ('no skills',), ('continuing_rhythm',), ('no skills',), ('down_leaping',), ('no skills',), ('leaping_twisting',), ('staccato',), ('no skills',), ('no skills',), ('no skills',), ('fast_rhythm',), ('no skills',), ('triplet',), ('leaping_twisting',), ('no skills',), ('no skills',), ('no skills',), ('no skills',), ('no skills',), ('no skills',), ('no skills',), ('staccato',), ('no skills',), ('down_steping',), ('no skills',), ('no skills',), ('triplet',), ('no skills',), ('up_steping',), ('leaping_twisting',), ('no skills',), ('triplet',), ('no skills',), ('repeating',), ('staccato',), ('leaping_twisting',), ('up_leaping',), ('no skills',), ('staccato',), ('no skills',), ('no skills',), ('no skills',), ('continuing_rhythm',), ('no skills',), ('no skills',), ('leaping_twisting',), ('no skills',), ('steping_twisting',), ('up_steping',), ('repeating',), ('no skills',), ('no skills',), ('repeating',), ('fast_rhythm',), ('no skills',), ('leaping_twisting',), ('no skills',), ('continuing_rhythm',), ('leaping_twisting',), ('staccato',), ('down_leaping',), ('leaping_twisting',), ('down_leaping',), ('staccato',), ('no skills',), ('staccato',), ('no skills',), ('no skills',), ('up_leaping',), ('no skills',), ('repeating',), ('up_steping',), ('One_rhythm',), ('down_leaping',), ('leaping_twisting',), ('down_leaping',), ('staccato',), ('leaping_twisting',), ('down_leaping',), ('no skills',), ('no skills',), ('fast_rhythm',), ('no skills',), ('down_steping',), ('up_steping',), ('no skills',), ('fast_rhythm',), ('no skills',), ('no skills',), ('up_steping',), ('repeating',), ('no skills',), ('no skills',), ('no skills',), ('down_leaping',), ('down_steping',), ('no skills',), ('no skills',), ('up_leaping',), ('triplet',), ('no skills',), ('up_leaping',), ('no skills',), ('repeating',), ('fast_rhythm',), ('no skills',), ('no skills',), ('no skills',), ('fast_rhythm',), ('up_leaping',), ('up_steping',), ('staccato',), ('no skills',), ('no skills',), ('no skills',), ('staccato',), ('no skills',), ('no skills',), ('up_steping',), ('up_steping',), ('up_steping',), ('no skills',), ('up_steping',), ('no skills',), ('triplet',), ('down_leaping',), ('leaping_twisting',), ('staccato',), ('no skills',), ('no skills',), ('no skills',), ('no skills',), ('down_leaping',), ('no skills',), ('staccato',), ('repeating',), ('no skills',), ('repeating',), ('fast_rhythm',), ('up_steping',), ('leaping_twisting',), ('down_leaping',), ('down_leaping',), ('up_steping',), ('no skills',), ('triplet',), ('up_leaping',), ('down_leaping',), ('repeating',), ('no skills',), ('fast_rhythm',), ('leaping_twisting',), ('no skills',), ('no skills',), ('no skills',), ('staccato',), ('up_leaping',), ('up_leaping',), ('down_steping',), ('leaping_twisting',), ('down_steping',), ('up_steping',), ('leaping_twisting',), ('no skills',), ('no skills',), ('fast_rhythm',), ('no skills',), ('staccato',), ('up_leaping',), ('no skills',), ('repeating',), ('repeating',), ('staccato',), ('no skills',), ('up_steping',), ('up_steping',), ('repeating',), ('no skills',), ('no skills',), ('down_leaping',), ('repeating',), ('no skills',), ('down_steping',), ('no skills',), ('no skills',), ('no skills',), ('leaping_twisting',), ('no skills',), ('down_steping',), ('down_leaping',), ('no skills',), ('no skills',), ('leaping_twisting',), ('no skills',), ('no skills',), ('no skills',), ('no skills',), ('up_steping',), ('no skills',), ('staccato',), ('no skills',), ('no skills',), ('leaping_twisting',), ('repeating',), ('no skills',), ('steping_twisting',), ('up_steping',), ('no skills',), ('no skills',), ('up_leaping',), ('no skills',), ('up_steping',), ('leaping_twisting',), ('repeating',), ('down_leaping',), ('fast_rhythm',), ('no skills',), ('up_steping',), ('fast_rhythm',), ('no skills',), ('leaping_twisting',), ('down_leaping',), ('repeating',), ('repeating',), ('staccato',), ('no skills',), ('no skills',), ('staccato',), ('leaping_twisting',), ('down_steping',), ('One_rhythm',), ('no skills',), ('up_steping',), ('no skills',), ('no skills',), ('leaping_twisting',), ('up_leaping',), ('up_steping',), ('no skills',), ('leaping_twisting',), ('staccato',), ('no skills',), ('no skills',), ('up_leaping',), ('up_steping',), ('no skills',), ('no skills',), ('no skills',), ('down_leaping',), ('up_steping',), ('leaping_twisting',), ('staccato',), ('up_leaping',), ('staccato',), ('repeating',), ('down_leaping',), ('down_steping',), ('no skills',), ('no skills',), ('no skills',), ('no skills',), ('no skills',), ('leaping_twisting',), ('no skills',), ('leaping_twisting',), ('down_leaping',), ('up_steping',), ('up_steping',), ('no skills',), ('no skills',), ('no skills',), ('up_steping',), ('repeating',), ('no skills',), ('no skills',), ('up_leaping',), ('no skills',), ('leaping_twisting',), ('no skills',), ('no skills',), ('staccato',), ('down_leaping',), ('no skills',), ('continuing_rhythm',), ('repeating',), ('triplet',), ('fast_rhythm',), ('staccato',), ('continuing_rhythm',), ('no skills',), ('no skills',), ('no skills',), ('leaping_twisting',), ('repeating',), ('down_leaping',), ('down_leaping',), ('continuing_rhythm',), ('leaping_twisting',), ('repeating',), ('up_steping',), ('triplet',), ('no skills',), ('down_leaping',), ('staccato',), ('no skills',), ('repeating',), ('no skills',), ('up_steping',), ('down_leaping',), ('down_steping',), ('no skills',), ('staccato',), ('up_steping',), ('leaping_twisting',), ('no skills',), ('down_leaping',), ('no skills',), ('staccato',), ('no skills',), ('staccato',), ('leaping_twisting',), ('no skills',), ('no skills',), ('leaping_twisting',), ('triplet',), ('no skills',), ('down_steping',), ('no skills',), ('no skills',), ('no skills',), ('no skills',), ('no skills',), ('leaping_twisting',), ('no skills',), ('triplet',), ('leaping_twisting',), ('no skills',), ('no skills',), ('down_leaping',), ('steping_twisting',), ('leaping_twisting',), ('up_steping',), ('no skills',), ('leaping_twisting',), ('no skills',), ('no skills',), ('no skills',), ('no skills',), ('no skills',), ('up_leaping',), ('no skills',), ('no skills',), ('up_steping',), ('no skills',), ('no skills',), ('repeating',), ('no skills',), ('fast_rhythm',), ('fast_rhythm',), ('down_leaping',), ('no skills',), ('leaping_twisting',), ('no skills',), ('continuing_rhythm',), ('up_steping',), ('repeating',), ('up_steping',), ('no skills',), ('no skills',), ('up_steping',), ('no skills',), ('staccato',), ('no skills',), ('no skills',), ('staccato',), ('no skills',), ('up_steping',), ('repeating',), ('no skills',), ('no skills',), ('no skills',), ('no skills',), ('up_steping',), ('up_leaping',), ('no skills',), ('no skills',), ('down_leaping',), ('up_leaping',), ('staccato',), ('no skills',), ('repeating',), ('no skills',), ('no skills',), ('up_leaping',), ('no skills',), ('no skills',), ('staccato',), ('no skills',), ('triplet',), ('no skills',), ('up_leaping',), ('no skills',), ('up_steping',), ('staccato',), ('up_steping',), ('no skills',), ('no skills',), ('repeating',), ('leaping_twisting',), ('no skills',), ('no skills',), ('repeating',), ('fast_rhythm',), ('leaping_twisting',), ('no skills',), ('no skills',), ('no skills',), ('no skills',), ('up_leaping',), ('no skills',), ('down_leaping',), ('no skills',), ('up_steping',), ('no skills',), ('no skills',), ('no skills',), ('no skills',), ('no skills',), ('up_leaping',), ('no skills',), ('no skills',), ('no skills',), ('staccato',), ('repeating',), ('staccato',), ('no skills',), ('no skills',), ('no skills',), ('down_leaping',), ('down_leaping',), ('down_leaping',), ('no skills',), ('repeating',), ('up_steping',), ('leaping_twisting',), ('no skills',), ('staccato',), ('staccato',), ('staccato',), ('repeating',), ('staccato',), ('no skills',), ('no skills',), ('fast_rhythm',), ('up_steping',), ('no skills',), ('up_steping',), ('up_steping',), ('fast_rhythm',), ('staccato',), ('no skills',), ('fast_rhythm',), ('no skills',), ('no skills',), ('no skills',), ('up_steping',), ('down_leaping',), ('no skills',), ('no skills',), ('staccato',), ('down_leaping',), ('down_leaping',), ('no skills',), ('no skills',), ('down_steping',), ('repeating',), ('no skills',), ('repeating',), ('up_leaping',), ('fast_rhythm',), ('no skills',), ('no skills',), ('down_leaping',), ('down_leaping',), ('staccato',), ('up_steping',), ('repeating',), ('up_leaping',), ('leaping_twisting',), ('triplet',), ('staccato',), ('no skills',), ('no skills',), ('up_steping',), ('leaping_twisting',), ('no skills',), ('staccato',), ('no skills',), ('leaping_twisting',), ('no skills',), ('no skills',), ('steping_twisting',), ('no skills',), ('up_steping',), ('leaping_twisting',), ('no skills',), ('down_leaping',), ('no skills',), ('up_leaping',), ('no skills',), ('no skills',), ('no skills',), ('no skills',), ('no skills',), ('no skills',), ('triplet',), ('up_steping',), ('no skills',), ('staccato',), ('up_leaping',), ('staccato',), ('down_leaping',), ('no skills',), ('no skills',), ('staccato',), ('down_leaping',), ('no skills',), ('no skills',), ('up_steping',), ('staccato',), ('staccato',), ('up_leaping',), ('repeating',), ('no skills',), ('no skills',), ('no skills',), ('no skills',), ('no skills',), ('no skills',), ('leaping_twisting',), ('no skills',), ('no skills',), ('no skills',), ('repeating',), ('up_steping',), ('repeating',), ('staccato',), ('no skills',), ('up_leaping',), ('down_leaping',), ('steping_twisting',), ('fast_rhythm',), ('down_leaping',), ('up_steping',), ('repeating',), ('steping_twisting',), ('no skills',), ('staccato',), ('down_steping',), ('up_steping',), ('leaping_twisting',), ('no skills',), ('leaping_twisting',), ('no skills',), ('staccato',), ('no skills',), ('no skills',), ('triplet',), ('no skills',), ('down_steping',), ('no skills',), ('leaping_twisting',), ('fast_rhythm',), ('leaping_twisting',), ('down_leaping',), ('up_leaping',), ('no skills',), ('no skills',), ('up_steping',), ('triplet',), ('down_leaping',), ('leaping_twisting',), ('repeating',), ('no skills',), ('fast_rhythm',), ('no skills',), ('down_leaping',), ('no skills',), ('repeating',), ('no skills',), ('no skills',), ('down_leaping',), ('up_leaping',), ('no skills',), ('repeating',), ('up_leaping',), ('no skills',), ('down_leaping',), ('no skills',), ('staccato',), ('fast_rhythm',), ('no skills',), ('no skills',), ('steping_twisting',), ('no skills',), ('steping_twisting',), ('no skills',), ('leaping_twisting',), ('no skills',), ('no skills',), ('triplet',), ('no skills',), ('no skills',), ('up_steping',), ('no skills',), ('no skills',), ('no skills',), ('no skills',), ('no skills',), ('no skills',), ('up_leaping',), ('no skills',), ('staccato',), ('up_steping',), ('no skills',), ('no skills',), ('no skills',), ('no skills',), ('repeating',), ('staccato',), ('repeating',), ('leaping_twisting',), ('up_leaping',), ('leaping_twisting',), ('up_steping',), ('up_steping',), ('no skills',), ('up_leaping',), ('up_steping',), ('repeating',), ('no skills',), ('leaping_twisting',)]\n"
          ],
          "name": "stdout"
        }
      ]
    },
    {
      "cell_type": "code",
      "metadata": {
        "id": "wbnUCrqw9O2P",
        "colab_type": "code",
        "colab": {}
      },
      "source": [
        "import numpy\n",
        "from keras.datasets import imdb\n",
        "from keras.models import Sequential\n",
        "from keras.layers import Dense\n",
        "from keras.layers import LSTM\n",
        "from keras.layers import Dropout\n",
        "from keras.layers.embeddings import Embedding\n",
        "from keras.preprocessing import sequence\n",
        "from keras.utils import to_categorical\n",
        "from keras.wrappers.scikit_learn import KerasClassifier\n",
        "from sklearn.model_selection import KFold\n",
        "from sklearn.model_selection import cross_val_score\n",
        "RNNy_test=to_categorical(np.array(RNNy_test))\n",
        "RNNy_train=to_categorical(np.array(RNNy_train))\n",
        "RNN_kfoldy=to_categorical(np.array(RNN_kfoldy))\n",
        "# fix random seed for reproducibility\n",
        "numpy.random.seed(7)\n",
        "top_words=13\n",
        "# truncate and pad input sequences\n",
        "\n",
        "RNNx_train = sequence.pad_sequences(RNNx_train, maxlen=10)\n",
        "RNNx_test = sequence.pad_sequences(RNNx_test, maxlen=10)\n",
        "RNN_kfoldx = sequence.pad_sequences(RNN_kfoldx, maxlen=10)\n"
      ],
      "execution_count": null,
      "outputs": []
    },
    {
      "cell_type": "code",
      "metadata": {
        "id": "jd4AzRMhPWyj",
        "colab_type": "code",
        "colab": {
          "base_uri": "https://localhost:8080/",
          "height": 34
        },
        "outputId": "d1a96de1-9f44-49cf-ca91-cbde2c3ac0fa"
      },
      "source": [
        "print(RNN_kfoldx.shape, RNN_kfoldy.shape)"
      ],
      "execution_count": null,
      "outputs": [
        {
          "output_type": "stream",
          "text": [
            "(8214, 10) (8214, 13)\n"
          ],
          "name": "stdout"
        }
      ]
    },
    {
      "cell_type": "code",
      "metadata": {
        "id": "yDIeTYTFewfH",
        "colab_type": "code",
        "colab": {}
      },
      "source": [
        "unique, counts = numpy.unique(RNN_kfoldx, return_counts=True)\n",
        "RNN_weight=dict(zip(unique, 5000/counts))"
      ],
      "execution_count": null,
      "outputs": []
    },
    {
      "cell_type": "code",
      "metadata": {
        "id": "UmiN9lI_fbs7",
        "colab_type": "code",
        "colab": {}
      },
      "source": [
        "from keras.callbacks import EarlyStopping, ReduceLROnPlateau, ModelCheckpoint\n",
        "model_path = '/content/drive/My Drive/models/' + 'RNN.h5'\n",
        "\n",
        "cb_checkpoint = ModelCheckpoint(filepath=model_path, monitor='val_accuracy',\n",
        "                                verbose=1, save_best_only=True)\n",
        "callbacks = [cb_checkpoint]"
      ],
      "execution_count": null,
      "outputs": []
    },
    {
      "cell_type": "code",
      "metadata": {
        "id": "qtTnECWM9ooa",
        "colab_type": "code",
        "colab": {}
      },
      "source": [
        "from keras import regularizers\n",
        "# create the model\n",
        "embedding_vecor_length = 32\n",
        "timesteps = 8\n",
        "\n",
        "RNNmodel = Sequential()\n",
        "RNNmodel.add(Embedding(top_words, embedding_vecor_length, input_length=10))\n",
        "RNNmodel.add(LSTM(100, return_sequences=True,\n",
        "               input_shape=(timesteps, 100)))  # returns a sequence of vectors of dimension 32\n",
        "RNNmodel.add(LSTM(100))  # return a single vector of dimension 32\n",
        "RNNmodel.add(Dropout(0.2))\n",
        "RNNmodel.add(Dense(13, activation='sigmoid', kernel_regularizer=regularizers.l2(0.01)))\n",
        "\n",
        "RNNmodel.compile(loss='categorical_crossentropy', optimizer='adam', metrics=['accuracy'])\n",
        "\n"
      ],
      "execution_count": null,
      "outputs": []
    },
    {
      "cell_type": "markdown",
      "metadata": {
        "id": "qwd8KBt0SKZF",
        "colab_type": "text"
      },
      "source": [
        "아래거는 kfold방식. 더 아래에는 그냥 위에서 설정한 RNNmodel을 train : valid = 1:1로 학습하는 코드가 있다."
      ]
    },
    {
      "cell_type": "code",
      "metadata": {
        "id": "oztvg4cPAxPW",
        "colab_type": "code",
        "colab": {
          "base_uri": "https://localhost:8080/",
          "height": 1000
        },
        "outputId": "b126de64-6121-406d-ca40-007d1617689b"
      },
      "source": [
        "kfold = KFold(n_splits=5, shuffle=True, random_state=7)\n",
        "for i in range(3):\n",
        "  for train,valid in kfold.split(RNN_kfoldx,RNN_kfoldy):\n",
        "    RNNmodel.fit(RNN_kfoldx[train],RNN_kfoldy[train], validation_data=(RNN_kfoldx[valid],RNN_kfoldy[valid])\n",
        "    ,epochs=15, batch_size=64,callbacks=callbacks, class_weight='balanced')"
      ],
      "execution_count": null,
      "outputs": [
        {
          "output_type": "stream",
          "text": [
            "Train on 6571 samples, validate on 1643 samples\n",
            "Epoch 1/15\n",
            "6571/6571 [==============================] - 4s 552us/step - loss: 2.2934 - accuracy: 0.4088 - val_loss: 2.0995 - val_accuracy: 0.4121\n",
            "\n",
            "Epoch 00001: val_accuracy did not improve from 0.88368\n",
            "Epoch 2/15\n",
            "6571/6571 [==============================] - 3s 466us/step - loss: 2.0223 - accuracy: 0.4139 - val_loss: 1.9699 - val_accuracy: 0.4121\n",
            "\n",
            "Epoch 00002: val_accuracy did not improve from 0.88368\n",
            "Epoch 3/15\n",
            "6571/6571 [==============================] - 3s 464us/step - loss: 1.9376 - accuracy: 0.4168 - val_loss: 1.9185 - val_accuracy: 0.4187\n",
            "\n",
            "Epoch 00003: val_accuracy did not improve from 0.88368\n",
            "Epoch 4/15\n",
            "6571/6571 [==============================] - 3s 461us/step - loss: 1.8956 - accuracy: 0.4261 - val_loss: 1.8823 - val_accuracy: 0.4218\n",
            "\n",
            "Epoch 00004: val_accuracy did not improve from 0.88368\n",
            "Epoch 5/15\n",
            "6571/6571 [==============================] - 3s 474us/step - loss: 1.8695 - accuracy: 0.4276 - val_loss: 1.8667 - val_accuracy: 0.4200\n",
            "\n",
            "Epoch 00005: val_accuracy did not improve from 0.88368\n",
            "Epoch 6/15\n",
            "6571/6571 [==============================] - 3s 433us/step - loss: 1.8545 - accuracy: 0.4276 - val_loss: 1.8572 - val_accuracy: 0.4194\n",
            "\n",
            "Epoch 00006: val_accuracy did not improve from 0.88368\n",
            "Epoch 7/15\n",
            "6571/6571 [==============================] - 3s 471us/step - loss: 1.8378 - accuracy: 0.4293 - val_loss: 1.8508 - val_accuracy: 0.4187\n",
            "\n",
            "Epoch 00007: val_accuracy did not improve from 0.88368\n",
            "Epoch 8/15\n",
            "6571/6571 [==============================] - 3s 464us/step - loss: 1.8233 - accuracy: 0.4299 - val_loss: 1.8279 - val_accuracy: 0.4218\n",
            "\n",
            "Epoch 00008: val_accuracy did not improve from 0.88368\n",
            "Epoch 9/15\n",
            "6571/6571 [==============================] - 3s 424us/step - loss: 1.8120 - accuracy: 0.4302 - val_loss: 1.8248 - val_accuracy: 0.4157\n",
            "\n",
            "Epoch 00009: val_accuracy did not improve from 0.88368\n",
            "Epoch 10/15\n",
            "6571/6571 [==============================] - 3s 464us/step - loss: 1.8020 - accuracy: 0.4301 - val_loss: 1.8397 - val_accuracy: 0.4224\n",
            "\n",
            "Epoch 00010: val_accuracy did not improve from 0.88368\n",
            "Epoch 11/15\n",
            "6571/6571 [==============================] - 3s 467us/step - loss: 1.7985 - accuracy: 0.4320 - val_loss: 1.8276 - val_accuracy: 0.4194\n",
            "\n",
            "Epoch 00011: val_accuracy did not improve from 0.88368\n",
            "Epoch 12/15\n",
            "6571/6571 [==============================] - 3s 466us/step - loss: 1.7921 - accuracy: 0.4336 - val_loss: 1.8213 - val_accuracy: 0.4200\n",
            "\n",
            "Epoch 00012: val_accuracy did not improve from 0.88368\n",
            "Epoch 13/15\n",
            "6571/6571 [==============================] - 3s 465us/step - loss: 1.7901 - accuracy: 0.4330 - val_loss: 1.8111 - val_accuracy: 0.4327\n",
            "\n",
            "Epoch 00013: val_accuracy did not improve from 0.88368\n",
            "Epoch 14/15\n",
            "6571/6571 [==============================] - 3s 482us/step - loss: 1.7834 - accuracy: 0.4366 - val_loss: 1.8197 - val_accuracy: 0.4151\n",
            "\n",
            "Epoch 00014: val_accuracy did not improve from 0.88368\n",
            "Epoch 15/15\n",
            "6571/6571 [==============================] - 3s 467us/step - loss: 1.7808 - accuracy: 0.4346 - val_loss: 1.8135 - val_accuracy: 0.4194\n",
            "\n",
            "Epoch 00015: val_accuracy did not improve from 0.88368\n",
            "Train on 6571 samples, validate on 1643 samples\n",
            "Epoch 1/15\n",
            "6571/6571 [==============================] - 3s 463us/step - loss: 1.7849 - accuracy: 0.4305 - val_loss: 1.7708 - val_accuracy: 0.4376\n",
            "\n",
            "Epoch 00001: val_accuracy did not improve from 0.88368\n",
            "Epoch 2/15\n",
            "6571/6571 [==============================] - 3s 461us/step - loss: 1.7792 - accuracy: 0.4348 - val_loss: 1.7735 - val_accuracy: 0.4407\n",
            "\n",
            "Epoch 00002: val_accuracy did not improve from 0.88368\n",
            "Epoch 3/15\n",
            "6571/6571 [==============================] - 3s 459us/step - loss: 1.7734 - accuracy: 0.4389 - val_loss: 1.7746 - val_accuracy: 0.4334\n",
            "\n",
            "Epoch 00003: val_accuracy did not improve from 0.88368\n",
            "Epoch 4/15\n",
            "6571/6571 [==============================] - 3s 458us/step - loss: 1.7722 - accuracy: 0.4359 - val_loss: 1.7748 - val_accuracy: 0.4413\n",
            "\n",
            "Epoch 00004: val_accuracy did not improve from 0.88368\n",
            "Epoch 5/15\n",
            "6571/6571 [==============================] - 3s 449us/step - loss: 1.7664 - accuracy: 0.4375 - val_loss: 1.7819 - val_accuracy: 0.4352\n",
            "\n",
            "Epoch 00005: val_accuracy did not improve from 0.88368\n",
            "Epoch 6/15\n",
            "6571/6571 [==============================] - 3s 439us/step - loss: 1.7648 - accuracy: 0.4403 - val_loss: 1.7727 - val_accuracy: 0.4425\n",
            "\n",
            "Epoch 00006: val_accuracy did not improve from 0.88368\n",
            "Epoch 7/15\n",
            "6571/6571 [==============================] - 3s 448us/step - loss: 1.7552 - accuracy: 0.4398 - val_loss: 1.7725 - val_accuracy: 0.4407\n",
            "\n",
            "Epoch 00007: val_accuracy did not improve from 0.88368\n",
            "Epoch 8/15\n",
            "6571/6571 [==============================] - 3s 448us/step - loss: 1.7601 - accuracy: 0.4410 - val_loss: 1.7722 - val_accuracy: 0.4413\n",
            "\n",
            "Epoch 00008: val_accuracy did not improve from 0.88368\n",
            "Epoch 9/15\n",
            "6571/6571 [==============================] - 3s 445us/step - loss: 1.7563 - accuracy: 0.4404 - val_loss: 1.7760 - val_accuracy: 0.4419\n",
            "\n",
            "Epoch 00009: val_accuracy did not improve from 0.88368\n",
            "Epoch 10/15\n",
            "6571/6571 [==============================] - 3s 442us/step - loss: 1.7505 - accuracy: 0.4401 - val_loss: 1.7795 - val_accuracy: 0.4382\n",
            "\n",
            "Epoch 00010: val_accuracy did not improve from 0.88368\n",
            "Epoch 11/15\n",
            "6571/6571 [==============================] - 3s 440us/step - loss: 1.7497 - accuracy: 0.4438 - val_loss: 1.7739 - val_accuracy: 0.4461\n",
            "\n",
            "Epoch 00011: val_accuracy did not improve from 0.88368\n",
            "Epoch 12/15\n",
            "6571/6571 [==============================] - 3s 449us/step - loss: 1.7453 - accuracy: 0.4491 - val_loss: 1.7664 - val_accuracy: 0.4553\n",
            "\n",
            "Epoch 00012: val_accuracy did not improve from 0.88368\n",
            "Epoch 13/15\n",
            "6571/6571 [==============================] - 3s 471us/step - loss: 1.7439 - accuracy: 0.4419 - val_loss: 1.7717 - val_accuracy: 0.4334\n",
            "\n",
            "Epoch 00013: val_accuracy did not improve from 0.88368\n",
            "Epoch 14/15\n",
            "6571/6571 [==============================] - 3s 464us/step - loss: 1.7341 - accuracy: 0.4454 - val_loss: 1.7764 - val_accuracy: 0.4376\n",
            "\n",
            "Epoch 00014: val_accuracy did not improve from 0.88368\n",
            "Epoch 15/15\n",
            "6571/6571 [==============================] - 3s 418us/step - loss: 1.7302 - accuracy: 0.4436 - val_loss: 1.7710 - val_accuracy: 0.4474\n",
            "\n",
            "Epoch 00015: val_accuracy did not improve from 0.88368\n",
            "Train on 6571 samples, validate on 1643 samples\n",
            "Epoch 1/15\n",
            "6571/6571 [==============================] - 3s 438us/step - loss: 1.7496 - accuracy: 0.4424 - val_loss: 1.7336 - val_accuracy: 0.4327\n",
            "\n",
            "Epoch 00001: val_accuracy did not improve from 0.88368\n",
            "Epoch 2/15\n",
            "6571/6571 [==============================] - 3s 451us/step - loss: 1.7396 - accuracy: 0.4470 - val_loss: 1.7383 - val_accuracy: 0.4248\n",
            "\n",
            "Epoch 00002: val_accuracy did not improve from 0.88368\n",
            "Epoch 3/15\n",
            "6571/6571 [==============================] - 3s 432us/step - loss: 1.7366 - accuracy: 0.4427 - val_loss: 1.7451 - val_accuracy: 0.4315\n",
            "\n",
            "Epoch 00003: val_accuracy did not improve from 0.88368\n",
            "Epoch 4/15\n",
            "6571/6571 [==============================] - 3s 449us/step - loss: 1.7286 - accuracy: 0.4422 - val_loss: 1.7467 - val_accuracy: 0.4279\n",
            "\n",
            "Epoch 00004: val_accuracy did not improve from 0.88368\n",
            "Epoch 5/15\n",
            "6571/6571 [==============================] - 3s 432us/step - loss: 1.7228 - accuracy: 0.4488 - val_loss: 1.7455 - val_accuracy: 0.4327\n",
            "\n",
            "Epoch 00005: val_accuracy did not improve from 0.88368\n",
            "Epoch 6/15\n",
            "6571/6571 [==============================] - 3s 450us/step - loss: 1.7235 - accuracy: 0.4486 - val_loss: 1.7353 - val_accuracy: 0.4291\n",
            "\n",
            "Epoch 00006: val_accuracy did not improve from 0.88368\n",
            "Epoch 7/15\n",
            "6571/6571 [==============================] - 3s 492us/step - loss: 1.7172 - accuracy: 0.4486 - val_loss: 1.7450 - val_accuracy: 0.4382\n",
            "\n",
            "Epoch 00007: val_accuracy did not improve from 0.88368\n",
            "Epoch 8/15\n",
            "6571/6571 [==============================] - 3s 450us/step - loss: 1.7143 - accuracy: 0.4471 - val_loss: 1.7554 - val_accuracy: 0.4364\n",
            "\n",
            "Epoch 00008: val_accuracy did not improve from 0.88368\n",
            "Epoch 9/15\n",
            "6571/6571 [==============================] - 3s 474us/step - loss: 1.7066 - accuracy: 0.4488 - val_loss: 1.7418 - val_accuracy: 0.4364\n",
            "\n",
            "Epoch 00009: val_accuracy did not improve from 0.88368\n",
            "Epoch 10/15\n",
            "6571/6571 [==============================] - 3s 462us/step - loss: 1.7012 - accuracy: 0.4468 - val_loss: 1.7426 - val_accuracy: 0.4400\n",
            "\n",
            "Epoch 00010: val_accuracy did not improve from 0.88368\n",
            "Epoch 11/15\n",
            "6571/6571 [==============================] - 3s 466us/step - loss: 1.6962 - accuracy: 0.4538 - val_loss: 1.7532 - val_accuracy: 0.4364\n",
            "\n",
            "Epoch 00011: val_accuracy did not improve from 0.88368\n",
            "Epoch 12/15\n",
            "6571/6571 [==============================] - 3s 457us/step - loss: 1.6925 - accuracy: 0.4524 - val_loss: 1.7444 - val_accuracy: 0.4364\n",
            "\n",
            "Epoch 00012: val_accuracy did not improve from 0.88368\n",
            "Epoch 13/15\n",
            "6571/6571 [==============================] - 3s 458us/step - loss: 1.6831 - accuracy: 0.4532 - val_loss: 1.7532 - val_accuracy: 0.4419\n",
            "\n",
            "Epoch 00013: val_accuracy did not improve from 0.88368\n",
            "Epoch 14/15\n",
            "6571/6571 [==============================] - 3s 484us/step - loss: 1.6797 - accuracy: 0.4547 - val_loss: 1.7597 - val_accuracy: 0.4419\n",
            "\n",
            "Epoch 00014: val_accuracy did not improve from 0.88368\n",
            "Epoch 15/15\n",
            "6571/6571 [==============================] - 3s 444us/step - loss: 1.6723 - accuracy: 0.4604 - val_loss: 1.7783 - val_accuracy: 0.4413\n",
            "\n",
            "Epoch 00015: val_accuracy did not improve from 0.88368\n",
            "Train on 6571 samples, validate on 1643 samples\n",
            "Epoch 1/15\n",
            "6571/6571 [==============================] - 3s 441us/step - loss: 1.6993 - accuracy: 0.4492 - val_loss: 1.6314 - val_accuracy: 0.4711\n",
            "\n",
            "Epoch 00001: val_accuracy did not improve from 0.88368\n",
            "Epoch 2/15\n",
            "6571/6571 [==============================] - 3s 455us/step - loss: 1.6862 - accuracy: 0.4543 - val_loss: 1.6458 - val_accuracy: 0.4644\n",
            "\n",
            "Epoch 00002: val_accuracy did not improve from 0.88368\n",
            "Epoch 3/15\n",
            "6571/6571 [==============================] - 3s 465us/step - loss: 1.6837 - accuracy: 0.4535 - val_loss: 1.6564 - val_accuracy: 0.4650\n",
            "\n",
            "Epoch 00003: val_accuracy did not improve from 0.88368\n",
            "Epoch 4/15\n",
            "6571/6571 [==============================] - 3s 471us/step - loss: 1.6675 - accuracy: 0.4569 - val_loss: 1.6590 - val_accuracy: 0.4693\n",
            "\n",
            "Epoch 00004: val_accuracy did not improve from 0.88368\n",
            "Epoch 5/15\n",
            "6571/6571 [==============================] - 3s 441us/step - loss: 1.6584 - accuracy: 0.4537 - val_loss: 1.6697 - val_accuracy: 0.4766\n",
            "\n",
            "Epoch 00005: val_accuracy did not improve from 0.88368\n",
            "Epoch 6/15\n",
            "6571/6571 [==============================] - 3s 431us/step - loss: 1.6486 - accuracy: 0.4581 - val_loss: 1.6688 - val_accuracy: 0.4693\n",
            "\n",
            "Epoch 00006: val_accuracy did not improve from 0.88368\n",
            "Epoch 7/15\n",
            "6571/6571 [==============================] - 3s 458us/step - loss: 1.6375 - accuracy: 0.4625 - val_loss: 1.6731 - val_accuracy: 0.4662\n",
            "\n",
            "Epoch 00007: val_accuracy did not improve from 0.88368\n",
            "Epoch 8/15\n",
            "6571/6571 [==============================] - 3s 473us/step - loss: 1.6294 - accuracy: 0.4645 - val_loss: 1.6803 - val_accuracy: 0.4680\n",
            "\n",
            "Epoch 00008: val_accuracy did not improve from 0.88368\n",
            "Epoch 9/15\n",
            "6571/6571 [==============================] - 3s 450us/step - loss: 1.6187 - accuracy: 0.4654 - val_loss: 1.6863 - val_accuracy: 0.4674\n",
            "\n",
            "Epoch 00009: val_accuracy did not improve from 0.88368\n",
            "Epoch 10/15\n",
            "6571/6571 [==============================] - 3s 463us/step - loss: 1.6131 - accuracy: 0.4657 - val_loss: 1.6920 - val_accuracy: 0.4607\n",
            "\n",
            "Epoch 00010: val_accuracy did not improve from 0.88368\n",
            "Epoch 11/15\n",
            "6571/6571 [==============================] - 3s 446us/step - loss: 1.6010 - accuracy: 0.4759 - val_loss: 1.6945 - val_accuracy: 0.4540\n",
            "\n",
            "Epoch 00011: val_accuracy did not improve from 0.88368\n",
            "Epoch 12/15\n",
            "6571/6571 [==============================] - 3s 469us/step - loss: 1.5867 - accuracy: 0.4753 - val_loss: 1.7042 - val_accuracy: 0.4656\n",
            "\n",
            "Epoch 00012: val_accuracy did not improve from 0.88368\n",
            "Epoch 13/15\n",
            "6571/6571 [==============================] - 3s 441us/step - loss: 1.5710 - accuracy: 0.4826 - val_loss: 1.7064 - val_accuracy: 0.4595\n",
            "\n",
            "Epoch 00013: val_accuracy did not improve from 0.88368\n",
            "Epoch 14/15\n",
            "6571/6571 [==============================] - 3s 457us/step - loss: 1.5551 - accuracy: 0.4850 - val_loss: 1.7077 - val_accuracy: 0.4601\n",
            "\n",
            "Epoch 00014: val_accuracy did not improve from 0.88368\n",
            "Epoch 15/15\n",
            "6571/6571 [==============================] - 3s 459us/step - loss: 1.5473 - accuracy: 0.4931 - val_loss: 1.7234 - val_accuracy: 0.4492\n",
            "\n",
            "Epoch 00015: val_accuracy did not improve from 0.88368\n",
            "Train on 6572 samples, validate on 1642 samples\n",
            "Epoch 1/15\n",
            "6572/6572 [==============================] - 3s 451us/step - loss: 1.5949 - accuracy: 0.4817 - val_loss: 1.5183 - val_accuracy: 0.4823\n",
            "\n",
            "Epoch 00001: val_accuracy did not improve from 0.88368\n",
            "Epoch 2/15\n",
            "6572/6572 [==============================] - 3s 466us/step - loss: 1.5728 - accuracy: 0.4880 - val_loss: 1.5271 - val_accuracy: 0.4951\n",
            "\n",
            "Epoch 00002: val_accuracy did not improve from 0.88368\n",
            "Epoch 3/15\n",
            "6572/6572 [==============================] - 3s 466us/step - loss: 1.5571 - accuracy: 0.4871 - val_loss: 1.5337 - val_accuracy: 0.4951\n",
            "\n",
            "Epoch 00003: val_accuracy did not improve from 0.88368\n",
            "Epoch 4/15\n",
            "6572/6572 [==============================] - 3s 456us/step - loss: 1.5374 - accuracy: 0.4925 - val_loss: 1.5551 - val_accuracy: 0.4811\n",
            "\n",
            "Epoch 00004: val_accuracy did not improve from 0.88368\n",
            "Epoch 5/15\n",
            "6572/6572 [==============================] - 3s 438us/step - loss: 1.5288 - accuracy: 0.5061 - val_loss: 1.5570 - val_accuracy: 0.4939\n",
            "\n",
            "Epoch 00005: val_accuracy did not improve from 0.88368\n",
            "Epoch 6/15\n",
            "6572/6572 [==============================] - 3s 456us/step - loss: 1.5108 - accuracy: 0.5029 - val_loss: 1.5702 - val_accuracy: 0.4829\n",
            "\n",
            "Epoch 00006: val_accuracy did not improve from 0.88368\n",
            "Epoch 7/15\n",
            "6572/6572 [==============================] - 3s 453us/step - loss: 1.4945 - accuracy: 0.5132 - val_loss: 1.5761 - val_accuracy: 0.4915\n",
            "\n",
            "Epoch 00007: val_accuracy did not improve from 0.88368\n",
            "Epoch 8/15\n",
            "6572/6572 [==============================] - 3s 454us/step - loss: 1.4770 - accuracy: 0.5192 - val_loss: 1.5854 - val_accuracy: 0.4860\n",
            "\n",
            "Epoch 00008: val_accuracy did not improve from 0.88368\n",
            "Epoch 9/15\n",
            "6572/6572 [==============================] - 3s 454us/step - loss: 1.4683 - accuracy: 0.5230 - val_loss: 1.5962 - val_accuracy: 0.4842\n",
            "\n",
            "Epoch 00009: val_accuracy did not improve from 0.88368\n",
            "Epoch 10/15\n",
            "6572/6572 [==============================] - 3s 463us/step - loss: 1.4496 - accuracy: 0.5370 - val_loss: 1.6215 - val_accuracy: 0.4836\n",
            "\n",
            "Epoch 00010: val_accuracy did not improve from 0.88368\n",
            "Epoch 11/15\n",
            "6572/6572 [==============================] - 3s 456us/step - loss: 1.4381 - accuracy: 0.5385 - val_loss: 1.6398 - val_accuracy: 0.4756\n",
            "\n",
            "Epoch 00011: val_accuracy did not improve from 0.88368\n",
            "Epoch 12/15\n",
            "6572/6572 [==============================] - 3s 505us/step - loss: 1.4140 - accuracy: 0.5495 - val_loss: 1.6376 - val_accuracy: 0.4823\n",
            "\n",
            "Epoch 00012: val_accuracy did not improve from 0.88368\n",
            "Epoch 13/15\n",
            "6572/6572 [==============================] - 3s 526us/step - loss: 1.3963 - accuracy: 0.5603 - val_loss: 1.6387 - val_accuracy: 0.4817\n",
            "\n",
            "Epoch 00013: val_accuracy did not improve from 0.88368\n",
            "Epoch 14/15\n",
            "6572/6572 [==============================] - 3s 508us/step - loss: 1.3786 - accuracy: 0.5703 - val_loss: 1.6635 - val_accuracy: 0.4677\n",
            "\n",
            "Epoch 00014: val_accuracy did not improve from 0.88368\n",
            "Epoch 15/15\n",
            "6572/6572 [==============================] - 3s 488us/step - loss: 1.3617 - accuracy: 0.5797 - val_loss: 1.6848 - val_accuracy: 0.4702\n",
            "\n",
            "Epoch 00015: val_accuracy did not improve from 0.88368\n",
            "Train on 6571 samples, validate on 1643 samples\n",
            "Epoch 1/15\n",
            "6571/6571 [==============================] - 3s 444us/step - loss: 1.4510 - accuracy: 0.5503 - val_loss: 1.3193 - val_accuracy: 0.5953\n",
            "\n",
            "Epoch 00001: val_accuracy did not improve from 0.88368\n",
            "Epoch 2/15\n",
            "6571/6571 [==============================] - 3s 463us/step - loss: 1.4148 - accuracy: 0.5632 - val_loss: 1.3554 - val_accuracy: 0.5660\n",
            "\n",
            "Epoch 00002: val_accuracy did not improve from 0.88368\n",
            "Epoch 3/15\n",
            "6571/6571 [==============================] - 3s 474us/step - loss: 1.3853 - accuracy: 0.5731 - val_loss: 1.3620 - val_accuracy: 0.5819\n",
            "\n",
            "Epoch 00003: val_accuracy did not improve from 0.88368\n",
            "Epoch 4/15\n",
            "6571/6571 [==============================] - 3s 465us/step - loss: 1.3561 - accuracy: 0.5874 - val_loss: 1.3806 - val_accuracy: 0.5740\n",
            "\n",
            "Epoch 00004: val_accuracy did not improve from 0.88368\n",
            "Epoch 5/15\n",
            "6571/6571 [==============================] - 3s 468us/step - loss: 1.3401 - accuracy: 0.5917 - val_loss: 1.3964 - val_accuracy: 0.5709\n",
            "\n",
            "Epoch 00005: val_accuracy did not improve from 0.88368\n",
            "Epoch 6/15\n",
            "6571/6571 [==============================] - 3s 427us/step - loss: 1.3186 - accuracy: 0.6061 - val_loss: 1.4020 - val_accuracy: 0.5673\n",
            "\n",
            "Epoch 00006: val_accuracy did not improve from 0.88368\n",
            "Epoch 7/15\n",
            "6571/6571 [==============================] - 3s 479us/step - loss: 1.3001 - accuracy: 0.6176 - val_loss: 1.4292 - val_accuracy: 0.5551\n",
            "\n",
            "Epoch 00007: val_accuracy did not improve from 0.88368\n",
            "Epoch 8/15\n",
            "6571/6571 [==============================] - 3s 440us/step - loss: 1.2764 - accuracy: 0.6253 - val_loss: 1.4405 - val_accuracy: 0.5514\n",
            "\n",
            "Epoch 00008: val_accuracy did not improve from 0.88368\n",
            "Epoch 9/15\n",
            "6571/6571 [==============================] - 3s 474us/step - loss: 1.2662 - accuracy: 0.6250 - val_loss: 1.4511 - val_accuracy: 0.5526\n",
            "\n",
            "Epoch 00009: val_accuracy did not improve from 0.88368\n",
            "Epoch 10/15\n",
            "6571/6571 [==============================] - 3s 459us/step - loss: 1.2393 - accuracy: 0.6364 - val_loss: 1.4801 - val_accuracy: 0.5466\n",
            "\n",
            "Epoch 00010: val_accuracy did not improve from 0.88368\n",
            "Epoch 11/15\n",
            "6571/6571 [==============================] - 3s 458us/step - loss: 1.2258 - accuracy: 0.6536 - val_loss: 1.5032 - val_accuracy: 0.5265\n",
            "\n",
            "Epoch 00011: val_accuracy did not improve from 0.88368\n",
            "Epoch 12/15\n",
            "6571/6571 [==============================] - 3s 444us/step - loss: 1.2154 - accuracy: 0.6548 - val_loss: 1.4974 - val_accuracy: 0.5307\n",
            "\n",
            "Epoch 00012: val_accuracy did not improve from 0.88368\n",
            "Epoch 13/15\n",
            "6571/6571 [==============================] - 3s 452us/step - loss: 1.1904 - accuracy: 0.6640 - val_loss: 1.5279 - val_accuracy: 0.5307\n",
            "\n",
            "Epoch 00013: val_accuracy did not improve from 0.88368\n",
            "Epoch 14/15\n",
            "6571/6571 [==============================] - 3s 442us/step - loss: 1.1808 - accuracy: 0.6640 - val_loss: 1.5309 - val_accuracy: 0.5320\n",
            "\n",
            "Epoch 00014: val_accuracy did not improve from 0.88368\n",
            "Epoch 15/15\n",
            "6571/6571 [==============================] - 3s 451us/step - loss: 1.1604 - accuracy: 0.6739 - val_loss: 1.5435 - val_accuracy: 0.5301\n",
            "\n",
            "Epoch 00015: val_accuracy did not improve from 0.88368\n",
            "Train on 6571 samples, validate on 1643 samples\n",
            "Epoch 1/15\n",
            "6571/6571 [==============================] - 3s 456us/step - loss: 1.2866 - accuracy: 0.6284 - val_loss: 1.1271 - val_accuracy: 0.6908\n",
            "\n",
            "Epoch 00001: val_accuracy did not improve from 0.88368\n",
            "Epoch 2/15\n",
            "6571/6571 [==============================] - 3s 454us/step - loss: 1.2307 - accuracy: 0.6495 - val_loss: 1.1417 - val_accuracy: 0.6920\n",
            "\n",
            "Epoch 00002: val_accuracy did not improve from 0.88368\n",
            "Epoch 3/15\n",
            "6571/6571 [==============================] - 3s 469us/step - loss: 1.2008 - accuracy: 0.6652 - val_loss: 1.1437 - val_accuracy: 0.6841\n",
            "\n",
            "Epoch 00003: val_accuracy did not improve from 0.88368\n",
            "Epoch 4/15\n",
            "6571/6571 [==============================] - 3s 451us/step - loss: 1.1762 - accuracy: 0.6719 - val_loss: 1.1528 - val_accuracy: 0.6756\n",
            "\n",
            "Epoch 00004: val_accuracy did not improve from 0.88368\n",
            "Epoch 5/15\n",
            "6571/6571 [==============================] - 3s 446us/step - loss: 1.1602 - accuracy: 0.6809 - val_loss: 1.1798 - val_accuracy: 0.6695\n",
            "\n",
            "Epoch 00005: val_accuracy did not improve from 0.88368\n",
            "Epoch 6/15\n",
            "6571/6571 [==============================] - 3s 479us/step - loss: 1.1356 - accuracy: 0.6924 - val_loss: 1.2111 - val_accuracy: 0.6549\n",
            "\n",
            "Epoch 00006: val_accuracy did not improve from 0.88368\n",
            "Epoch 7/15\n",
            "6571/6571 [==============================] - 3s 440us/step - loss: 1.1177 - accuracy: 0.6991 - val_loss: 1.2128 - val_accuracy: 0.6537\n",
            "\n",
            "Epoch 00007: val_accuracy did not improve from 0.88368\n",
            "Epoch 8/15\n",
            "6571/6571 [==============================] - 3s 445us/step - loss: 1.1106 - accuracy: 0.7075 - val_loss: 1.2110 - val_accuracy: 0.6531\n",
            "\n",
            "Epoch 00008: val_accuracy did not improve from 0.88368\n",
            "Epoch 9/15\n",
            "6571/6571 [==============================] - 3s 448us/step - loss: 1.0820 - accuracy: 0.7124 - val_loss: 1.2552 - val_accuracy: 0.6421\n",
            "\n",
            "Epoch 00009: val_accuracy did not improve from 0.88368\n",
            "Epoch 10/15\n",
            "6571/6571 [==============================] - 3s 440us/step - loss: 1.0844 - accuracy: 0.7166 - val_loss: 1.2574 - val_accuracy: 0.6336\n",
            "\n",
            "Epoch 00010: val_accuracy did not improve from 0.88368\n",
            "Epoch 11/15\n",
            "6571/6571 [==============================] - 3s 457us/step - loss: 1.0683 - accuracy: 0.7179 - val_loss: 1.2758 - val_accuracy: 0.6409\n",
            "\n",
            "Epoch 00011: val_accuracy did not improve from 0.88368\n",
            "Epoch 12/15\n",
            "6571/6571 [==============================] - 3s 428us/step - loss: 1.0481 - accuracy: 0.7337 - val_loss: 1.2842 - val_accuracy: 0.6239\n",
            "\n",
            "Epoch 00012: val_accuracy did not improve from 0.88368\n",
            "Epoch 13/15\n",
            "6571/6571 [==============================] - 3s 469us/step - loss: 1.0319 - accuracy: 0.7408 - val_loss: 1.2842 - val_accuracy: 0.6330\n",
            "\n",
            "Epoch 00013: val_accuracy did not improve from 0.88368\n",
            "Epoch 14/15\n",
            "6571/6571 [==============================] - 3s 437us/step - loss: 1.0303 - accuracy: 0.7349 - val_loss: 1.3008 - val_accuracy: 0.6336\n",
            "\n",
            "Epoch 00014: val_accuracy did not improve from 0.88368\n",
            "Epoch 15/15\n",
            "6571/6571 [==============================] - 3s 455us/step - loss: 1.0126 - accuracy: 0.7442 - val_loss: 1.3203 - val_accuracy: 0.6129\n",
            "\n",
            "Epoch 00015: val_accuracy did not improve from 0.88368\n",
            "Train on 6571 samples, validate on 1643 samples\n",
            "Epoch 1/15\n",
            "6571/6571 [==============================] - 3s 488us/step - loss: 1.1290 - accuracy: 0.6990 - val_loss: 0.9784 - val_accuracy: 0.7675\n",
            "\n",
            "Epoch 00001: val_accuracy did not improve from 0.88368\n",
            "Epoch 2/15\n",
            "6571/6571 [==============================] - 3s 443us/step - loss: 1.0774 - accuracy: 0.7182 - val_loss: 0.9964 - val_accuracy: 0.7419\n",
            "\n",
            "Epoch 00002: val_accuracy did not improve from 0.88368\n",
            "Epoch 3/15\n",
            "6571/6571 [==============================] - 3s 444us/step - loss: 1.0513 - accuracy: 0.7291 - val_loss: 0.9793 - val_accuracy: 0.7547\n",
            "\n",
            "Epoch 00003: val_accuracy did not improve from 0.88368\n",
            "Epoch 4/15\n",
            "6571/6571 [==============================] - 3s 468us/step - loss: 1.0339 - accuracy: 0.7346 - val_loss: 1.0275 - val_accuracy: 0.7200\n",
            "\n",
            "Epoch 00004: val_accuracy did not improve from 0.88368\n",
            "Epoch 5/15\n",
            "6571/6571 [==============================] - 3s 479us/step - loss: 1.0204 - accuracy: 0.7455 - val_loss: 1.0161 - val_accuracy: 0.7358\n",
            "\n",
            "Epoch 00005: val_accuracy did not improve from 0.88368\n",
            "Epoch 6/15\n",
            "6571/6571 [==============================] - 3s 486us/step - loss: 0.9949 - accuracy: 0.7559 - val_loss: 1.0228 - val_accuracy: 0.7322\n",
            "\n",
            "Epoch 00006: val_accuracy did not improve from 0.88368\n",
            "Epoch 7/15\n",
            "6571/6571 [==============================] - 3s 432us/step - loss: 0.9800 - accuracy: 0.7595 - val_loss: 1.0640 - val_accuracy: 0.7133\n",
            "\n",
            "Epoch 00007: val_accuracy did not improve from 0.88368\n",
            "Epoch 8/15\n",
            "6571/6571 [==============================] - 3s 446us/step - loss: 0.9878 - accuracy: 0.7570 - val_loss: 1.0557 - val_accuracy: 0.7127\n",
            "\n",
            "Epoch 00008: val_accuracy did not improve from 0.88368\n",
            "Epoch 9/15\n",
            "6571/6571 [==============================] - 3s 472us/step - loss: 0.9607 - accuracy: 0.7669 - val_loss: 1.0614 - val_accuracy: 0.7109\n",
            "\n",
            "Epoch 00009: val_accuracy did not improve from 0.88368\n",
            "Epoch 10/15\n",
            "6571/6571 [==============================] - 3s 446us/step - loss: 0.9535 - accuracy: 0.7757 - val_loss: 1.0741 - val_accuracy: 0.7109\n",
            "\n",
            "Epoch 00010: val_accuracy did not improve from 0.88368\n",
            "Epoch 11/15\n",
            "6571/6571 [==============================] - 3s 439us/step - loss: 0.9440 - accuracy: 0.7795 - val_loss: 1.0890 - val_accuracy: 0.6963\n",
            "\n",
            "Epoch 00011: val_accuracy did not improve from 0.88368\n",
            "Epoch 12/15\n",
            "6571/6571 [==============================] - 3s 450us/step - loss: 0.9311 - accuracy: 0.7847 - val_loss: 1.1071 - val_accuracy: 0.6969\n",
            "\n",
            "Epoch 00012: val_accuracy did not improve from 0.88368\n",
            "Epoch 13/15\n",
            "6571/6571 [==============================] - 3s 461us/step - loss: 0.9201 - accuracy: 0.7857 - val_loss: 1.1152 - val_accuracy: 0.6999\n",
            "\n",
            "Epoch 00013: val_accuracy did not improve from 0.88368\n",
            "Epoch 14/15\n",
            "6571/6571 [==============================] - 3s 446us/step - loss: 0.9223 - accuracy: 0.7857 - val_loss: 1.1405 - val_accuracy: 0.6738\n",
            "\n",
            "Epoch 00014: val_accuracy did not improve from 0.88368\n",
            "Epoch 15/15\n",
            "6571/6571 [==============================] - 3s 445us/step - loss: 0.9021 - accuracy: 0.7946 - val_loss: 1.1432 - val_accuracy: 0.6799\n",
            "\n",
            "Epoch 00015: val_accuracy did not improve from 0.88368\n",
            "Train on 6571 samples, validate on 1643 samples\n",
            "Epoch 1/15\n",
            "6571/6571 [==============================] - 3s 472us/step - loss: 0.9994 - accuracy: 0.7506 - val_loss: 0.8862 - val_accuracy: 0.8010\n",
            "\n",
            "Epoch 00001: val_accuracy did not improve from 0.88368\n",
            "Epoch 2/15\n",
            "6571/6571 [==============================] - 3s 474us/step - loss: 0.9629 - accuracy: 0.7659 - val_loss: 0.8937 - val_accuracy: 0.7985\n",
            "\n",
            "Epoch 00002: val_accuracy did not improve from 0.88368\n",
            "Epoch 3/15\n",
            "6571/6571 [==============================] - 3s 469us/step - loss: 0.9373 - accuracy: 0.7743 - val_loss: 0.8951 - val_accuracy: 0.7979\n",
            "\n",
            "Epoch 00003: val_accuracy did not improve from 0.88368\n",
            "Epoch 4/15\n",
            "6571/6571 [==============================] - 3s 472us/step - loss: 0.9152 - accuracy: 0.7845 - val_loss: 0.9065 - val_accuracy: 0.7979\n",
            "\n",
            "Epoch 00004: val_accuracy did not improve from 0.88368\n",
            "Epoch 5/15\n",
            "6571/6571 [==============================] - 3s 457us/step - loss: 0.9083 - accuracy: 0.7863 - val_loss: 0.9250 - val_accuracy: 0.7833\n",
            "\n",
            "Epoch 00005: val_accuracy did not improve from 0.88368\n",
            "Epoch 6/15\n",
            "6571/6571 [==============================] - 3s 460us/step - loss: 0.8907 - accuracy: 0.7907 - val_loss: 0.9603 - val_accuracy: 0.7626\n",
            "\n",
            "Epoch 00006: val_accuracy did not improve from 0.88368\n",
            "Epoch 7/15\n",
            "6571/6571 [==============================] - 3s 475us/step - loss: 0.8823 - accuracy: 0.7961 - val_loss: 0.9341 - val_accuracy: 0.7760\n",
            "\n",
            "Epoch 00007: val_accuracy did not improve from 0.88368\n",
            "Epoch 8/15\n",
            "6571/6571 [==============================] - 3s 469us/step - loss: 0.8667 - accuracy: 0.8067 - val_loss: 0.9612 - val_accuracy: 0.7553\n",
            "\n",
            "Epoch 00008: val_accuracy did not improve from 0.88368\n",
            "Epoch 9/15\n",
            "6571/6571 [==============================] - 3s 452us/step - loss: 0.8591 - accuracy: 0.8043 - val_loss: 0.9708 - val_accuracy: 0.7596\n",
            "\n",
            "Epoch 00009: val_accuracy did not improve from 0.88368\n",
            "Epoch 10/15\n",
            "6571/6571 [==============================] - 3s 442us/step - loss: 0.8513 - accuracy: 0.8156 - val_loss: 1.0193 - val_accuracy: 0.7365\n",
            "\n",
            "Epoch 00010: val_accuracy did not improve from 0.88368\n",
            "Epoch 11/15\n",
            "6571/6571 [==============================] - 3s 438us/step - loss: 0.8490 - accuracy: 0.8127 - val_loss: 1.0313 - val_accuracy: 0.7346\n",
            "\n",
            "Epoch 00011: val_accuracy did not improve from 0.88368\n",
            "Epoch 12/15\n",
            "6571/6571 [==============================] - 3s 445us/step - loss: 0.8559 - accuracy: 0.8113 - val_loss: 1.0138 - val_accuracy: 0.7371\n",
            "\n",
            "Epoch 00012: val_accuracy did not improve from 0.88368\n",
            "Epoch 13/15\n",
            "6571/6571 [==============================] - 3s 460us/step - loss: 0.8250 - accuracy: 0.8209 - val_loss: 1.0049 - val_accuracy: 0.7425\n",
            "\n",
            "Epoch 00013: val_accuracy did not improve from 0.88368\n",
            "Epoch 14/15\n",
            "6571/6571 [==============================] - 3s 466us/step - loss: 0.8242 - accuracy: 0.8175 - val_loss: 1.0530 - val_accuracy: 0.7231\n",
            "\n",
            "Epoch 00014: val_accuracy did not improve from 0.88368\n",
            "Epoch 15/15\n",
            "6571/6571 [==============================] - 3s 433us/step - loss: 0.8111 - accuracy: 0.8262 - val_loss: 1.0504 - val_accuracy: 0.7273\n",
            "\n",
            "Epoch 00015: val_accuracy did not improve from 0.88368\n",
            "Train on 6572 samples, validate on 1642 samples\n",
            "Epoch 1/15\n",
            "6572/6572 [==============================] - 3s 427us/step - loss: 0.8990 - accuracy: 0.7882 - val_loss: 0.8207 - val_accuracy: 0.8222\n",
            "\n",
            "Epoch 00001: val_accuracy did not improve from 0.88368\n",
            "Epoch 2/15\n",
            "6572/6572 [==============================] - 3s 435us/step - loss: 0.8775 - accuracy: 0.8020 - val_loss: 0.8134 - val_accuracy: 0.8234\n",
            "\n",
            "Epoch 00002: val_accuracy did not improve from 0.88368\n",
            "Epoch 3/15\n",
            "6572/6572 [==============================] - 3s 415us/step - loss: 0.8387 - accuracy: 0.8151 - val_loss: 0.8287 - val_accuracy: 0.8191\n",
            "\n",
            "Epoch 00003: val_accuracy did not improve from 0.88368\n",
            "Epoch 4/15\n",
            "6572/6572 [==============================] - 3s 413us/step - loss: 0.8260 - accuracy: 0.8166 - val_loss: 0.8382 - val_accuracy: 0.8124\n",
            "\n",
            "Epoch 00004: val_accuracy did not improve from 0.88368\n",
            "Epoch 5/15\n",
            "6572/6572 [==============================] - 3s 414us/step - loss: 0.8101 - accuracy: 0.8223 - val_loss: 0.8607 - val_accuracy: 0.8033\n",
            "\n",
            "Epoch 00005: val_accuracy did not improve from 0.88368\n",
            "Epoch 6/15\n",
            "6572/6572 [==============================] - 3s 435us/step - loss: 0.8015 - accuracy: 0.8328 - val_loss: 0.8545 - val_accuracy: 0.8051\n",
            "\n",
            "Epoch 00006: val_accuracy did not improve from 0.88368\n",
            "Epoch 7/15\n",
            "6572/6572 [==============================] - 3s 423us/step - loss: 0.7935 - accuracy: 0.8335 - val_loss: 0.8745 - val_accuracy: 0.8051\n",
            "\n",
            "Epoch 00007: val_accuracy did not improve from 0.88368\n",
            "Epoch 8/15\n",
            "6572/6572 [==============================] - 3s 456us/step - loss: 0.7806 - accuracy: 0.8337 - val_loss: 0.8742 - val_accuracy: 0.7942\n",
            "\n",
            "Epoch 00008: val_accuracy did not improve from 0.88368\n",
            "Epoch 9/15\n",
            "6572/6572 [==============================] - 3s 450us/step - loss: 0.7698 - accuracy: 0.8381 - val_loss: 0.8961 - val_accuracy: 0.7954\n",
            "\n",
            "Epoch 00009: val_accuracy did not improve from 0.88368\n",
            "Epoch 10/15\n",
            "6572/6572 [==============================] - 3s 436us/step - loss: 0.7716 - accuracy: 0.8402 - val_loss: 0.9116 - val_accuracy: 0.7765\n",
            "\n",
            "Epoch 00010: val_accuracy did not improve from 0.88368\n",
            "Epoch 11/15\n",
            "6572/6572 [==============================] - 3s 431us/step - loss: 0.7613 - accuracy: 0.8445 - val_loss: 0.9321 - val_accuracy: 0.7765\n",
            "\n",
            "Epoch 00011: val_accuracy did not improve from 0.88368\n",
            "Epoch 12/15\n",
            "6572/6572 [==============================] - 3s 424us/step - loss: 0.7553 - accuracy: 0.8460 - val_loss: 0.9076 - val_accuracy: 0.7875\n",
            "\n",
            "Epoch 00012: val_accuracy did not improve from 0.88368\n",
            "Epoch 13/15\n",
            "6572/6572 [==============================] - 3s 431us/step - loss: 0.7441 - accuracy: 0.8504 - val_loss: 0.9715 - val_accuracy: 0.7558\n",
            "\n",
            "Epoch 00013: val_accuracy did not improve from 0.88368\n",
            "Epoch 14/15\n",
            "6572/6572 [==============================] - 3s 424us/step - loss: 0.7471 - accuracy: 0.8460 - val_loss: 0.9324 - val_accuracy: 0.7753\n",
            "\n",
            "Epoch 00014: val_accuracy did not improve from 0.88368\n",
            "Epoch 15/15\n",
            "6572/6572 [==============================] - 3s 424us/step - loss: 0.7337 - accuracy: 0.8558 - val_loss: 0.9795 - val_accuracy: 0.7491\n",
            "\n",
            "Epoch 00015: val_accuracy did not improve from 0.88368\n",
            "Train on 6571 samples, validate on 1643 samples\n",
            "Epoch 1/15\n",
            "6571/6571 [==============================] - 3s 450us/step - loss: 0.8377 - accuracy: 0.8114 - val_loss: 0.7620 - val_accuracy: 0.8387\n",
            "\n",
            "Epoch 00001: val_accuracy did not improve from 0.88368\n",
            "Epoch 2/15\n",
            "6571/6571 [==============================] - 3s 459us/step - loss: 0.7992 - accuracy: 0.8259 - val_loss: 0.7552 - val_accuracy: 0.8351\n",
            "\n",
            "Epoch 00002: val_accuracy did not improve from 0.88368\n",
            "Epoch 3/15\n",
            "6571/6571 [==============================] - 3s 470us/step - loss: 0.7776 - accuracy: 0.8363 - val_loss: 0.7692 - val_accuracy: 0.8405\n",
            "\n",
            "Epoch 00003: val_accuracy did not improve from 0.88368\n",
            "Epoch 4/15\n",
            "6571/6571 [==============================] - 3s 477us/step - loss: 0.7557 - accuracy: 0.8440 - val_loss: 0.7867 - val_accuracy: 0.8296\n",
            "\n",
            "Epoch 00004: val_accuracy did not improve from 0.88368\n",
            "Epoch 5/15\n",
            "6571/6571 [==============================] - 3s 483us/step - loss: 0.7494 - accuracy: 0.8478 - val_loss: 0.7785 - val_accuracy: 0.8241\n",
            "\n",
            "Epoch 00005: val_accuracy did not improve from 0.88368\n",
            "Epoch 6/15\n",
            "6571/6571 [==============================] - 3s 458us/step - loss: 0.7210 - accuracy: 0.8576 - val_loss: 0.7759 - val_accuracy: 0.8253\n",
            "\n",
            "Epoch 00006: val_accuracy did not improve from 0.88368\n",
            "Epoch 7/15\n",
            "6571/6571 [==============================] - 3s 444us/step - loss: 0.7189 - accuracy: 0.8609 - val_loss: 0.7903 - val_accuracy: 0.8265\n",
            "\n",
            "Epoch 00007: val_accuracy did not improve from 0.88368\n",
            "Epoch 8/15\n",
            "6571/6571 [==============================] - 3s 464us/step - loss: 0.7182 - accuracy: 0.8545 - val_loss: 0.7897 - val_accuracy: 0.8247\n",
            "\n",
            "Epoch 00008: val_accuracy did not improve from 0.88368\n",
            "Epoch 9/15\n",
            "6571/6571 [==============================] - 3s 467us/step - loss: 0.7047 - accuracy: 0.8588 - val_loss: 0.7957 - val_accuracy: 0.8192\n",
            "\n",
            "Epoch 00009: val_accuracy did not improve from 0.88368\n",
            "Epoch 10/15\n",
            "6571/6571 [==============================] - 3s 464us/step - loss: 0.6972 - accuracy: 0.8632 - val_loss: 0.8188 - val_accuracy: 0.8192\n",
            "\n",
            "Epoch 00010: val_accuracy did not improve from 0.88368\n",
            "Epoch 11/15\n",
            "6571/6571 [==============================] - 3s 449us/step - loss: 0.7076 - accuracy: 0.8579 - val_loss: 0.8562 - val_accuracy: 0.7888\n",
            "\n",
            "Epoch 00011: val_accuracy did not improve from 0.88368\n",
            "Epoch 12/15\n",
            "6571/6571 [==============================] - 3s 438us/step - loss: 0.7123 - accuracy: 0.8553 - val_loss: 0.8650 - val_accuracy: 0.7876\n",
            "\n",
            "Epoch 00012: val_accuracy did not improve from 0.88368\n",
            "Epoch 13/15\n",
            "6571/6571 [==============================] - 3s 453us/step - loss: 0.7101 - accuracy: 0.8559 - val_loss: 0.8822 - val_accuracy: 0.7803\n",
            "\n",
            "Epoch 00013: val_accuracy did not improve from 0.88368\n",
            "Epoch 14/15\n",
            "6571/6571 [==============================] - 3s 473us/step - loss: 0.6970 - accuracy: 0.8632 - val_loss: 0.8698 - val_accuracy: 0.7888\n",
            "\n",
            "Epoch 00014: val_accuracy did not improve from 0.88368\n",
            "Epoch 15/15\n",
            "6571/6571 [==============================] - 4s 534us/step - loss: 0.6774 - accuracy: 0.8685 - val_loss: 0.8862 - val_accuracy: 0.7900\n",
            "\n",
            "Epoch 00015: val_accuracy did not improve from 0.88368\n",
            "Train on 6571 samples, validate on 1643 samples\n",
            "Epoch 1/15\n",
            "6571/6571 [==============================] - 3s 455us/step - loss: 0.7834 - accuracy: 0.8244 - val_loss: 0.7278 - val_accuracy: 0.8460\n",
            "\n",
            "Epoch 00001: val_accuracy did not improve from 0.88368\n",
            "Epoch 2/15\n",
            "6571/6571 [==============================] - 3s 467us/step - loss: 0.7632 - accuracy: 0.8410 - val_loss: 0.7152 - val_accuracy: 0.8497\n",
            "\n",
            "Epoch 00002: val_accuracy did not improve from 0.88368\n",
            "Epoch 3/15\n",
            "6571/6571 [==============================] - 3s 450us/step - loss: 0.7169 - accuracy: 0.8525 - val_loss: 0.7018 - val_accuracy: 0.8643\n",
            "\n",
            "Epoch 00003: val_accuracy did not improve from 0.88368\n",
            "Epoch 4/15\n",
            "6571/6571 [==============================] - 3s 468us/step - loss: 0.7011 - accuracy: 0.8601 - val_loss: 0.7004 - val_accuracy: 0.8545\n",
            "\n",
            "Epoch 00004: val_accuracy did not improve from 0.88368\n",
            "Epoch 5/15\n",
            "6571/6571 [==============================] - 3s 465us/step - loss: 0.6875 - accuracy: 0.8681 - val_loss: 0.7165 - val_accuracy: 0.8509\n",
            "\n",
            "Epoch 00005: val_accuracy did not improve from 0.88368\n",
            "Epoch 6/15\n",
            "6571/6571 [==============================] - 3s 476us/step - loss: 0.6788 - accuracy: 0.8691 - val_loss: 0.7208 - val_accuracy: 0.8491\n",
            "\n",
            "Epoch 00006: val_accuracy did not improve from 0.88368\n",
            "Epoch 7/15\n",
            "6571/6571 [==============================] - 3s 477us/step - loss: 0.6633 - accuracy: 0.8731 - val_loss: 0.7358 - val_accuracy: 0.8442\n",
            "\n",
            "Epoch 00007: val_accuracy did not improve from 0.88368\n",
            "Epoch 8/15\n",
            "6571/6571 [==============================] - 3s 455us/step - loss: 0.6560 - accuracy: 0.8764 - val_loss: 0.7720 - val_accuracy: 0.8247\n",
            "\n",
            "Epoch 00008: val_accuracy did not improve from 0.88368\n",
            "Epoch 9/15\n",
            "6571/6571 [==============================] - 3s 456us/step - loss: 0.6624 - accuracy: 0.8741 - val_loss: 0.7477 - val_accuracy: 0.8363\n",
            "\n",
            "Epoch 00009: val_accuracy did not improve from 0.88368\n",
            "Epoch 10/15\n",
            "6571/6571 [==============================] - 3s 497us/step - loss: 0.6553 - accuracy: 0.8755 - val_loss: 0.7773 - val_accuracy: 0.8235\n",
            "\n",
            "Epoch 00010: val_accuracy did not improve from 0.88368\n",
            "Epoch 11/15\n",
            "6571/6571 [==============================] - 3s 505us/step - loss: 0.6499 - accuracy: 0.8783 - val_loss: 0.7887 - val_accuracy: 0.8223\n",
            "\n",
            "Epoch 00011: val_accuracy did not improve from 0.88368\n",
            "Epoch 12/15\n",
            "6571/6571 [==============================] - 3s 511us/step - loss: 0.6475 - accuracy: 0.8751 - val_loss: 0.7870 - val_accuracy: 0.8052\n",
            "\n",
            "Epoch 00012: val_accuracy did not improve from 0.88368\n",
            "Epoch 13/15\n",
            "6571/6571 [==============================] - 4s 533us/step - loss: 0.6610 - accuracy: 0.8722 - val_loss: 0.8330 - val_accuracy: 0.8034\n",
            "\n",
            "Epoch 00013: val_accuracy did not improve from 0.88368\n",
            "Epoch 14/15\n",
            "6571/6571 [==============================] - 3s 461us/step - loss: 0.6527 - accuracy: 0.8758 - val_loss: 0.7905 - val_accuracy: 0.8174\n",
            "\n",
            "Epoch 00014: val_accuracy did not improve from 0.88368\n",
            "Epoch 15/15\n",
            "6571/6571 [==============================] - 3s 461us/step - loss: 0.6333 - accuracy: 0.8822 - val_loss: 0.8102 - val_accuracy: 0.8125\n",
            "\n",
            "Epoch 00015: val_accuracy did not improve from 0.88368\n",
            "Train on 6571 samples, validate on 1643 samples\n",
            "Epoch 1/15\n",
            "6571/6571 [==============================] - 3s 460us/step - loss: 0.7328 - accuracy: 0.8469 - val_loss: 0.6373 - val_accuracy: 0.8752\n",
            "\n",
            "Epoch 00001: val_accuracy did not improve from 0.88368\n",
            "Epoch 2/15\n",
            "6571/6571 [==============================] - 3s 474us/step - loss: 0.7000 - accuracy: 0.8576 - val_loss: 0.6600 - val_accuracy: 0.8661\n",
            "\n",
            "Epoch 00002: val_accuracy did not improve from 0.88368\n",
            "Epoch 3/15\n",
            "6571/6571 [==============================] - 3s 440us/step - loss: 0.6766 - accuracy: 0.8673 - val_loss: 0.6524 - val_accuracy: 0.8679\n",
            "\n",
            "Epoch 00003: val_accuracy did not improve from 0.88368\n",
            "Epoch 4/15\n",
            "6571/6571 [==============================] - 3s 450us/step - loss: 0.6531 - accuracy: 0.8720 - val_loss: 0.6530 - val_accuracy: 0.8679\n",
            "\n",
            "Epoch 00004: val_accuracy did not improve from 0.88368\n",
            "Epoch 5/15\n",
            "6571/6571 [==============================] - 3s 460us/step - loss: 0.6391 - accuracy: 0.8789 - val_loss: 0.6529 - val_accuracy: 0.8710\n",
            "\n",
            "Epoch 00005: val_accuracy did not improve from 0.88368\n",
            "Epoch 6/15\n",
            "6571/6571 [==============================] - 3s 442us/step - loss: 0.6256 - accuracy: 0.8819 - val_loss: 0.6629 - val_accuracy: 0.8637\n",
            "\n",
            "Epoch 00006: val_accuracy did not improve from 0.88368\n",
            "Epoch 7/15\n",
            "6571/6571 [==============================] - 3s 477us/step - loss: 0.6479 - accuracy: 0.8748 - val_loss: 0.6942 - val_accuracy: 0.8570\n",
            "\n",
            "Epoch 00007: val_accuracy did not improve from 0.88368\n",
            "Epoch 8/15\n",
            "6571/6571 [==============================] - 3s 471us/step - loss: 0.6521 - accuracy: 0.8728 - val_loss: 0.7176 - val_accuracy: 0.8515\n",
            "\n",
            "Epoch 00008: val_accuracy did not improve from 0.88368\n",
            "Epoch 9/15\n",
            "6571/6571 [==============================] - 3s 451us/step - loss: 0.6307 - accuracy: 0.8790 - val_loss: 0.7080 - val_accuracy: 0.8418\n",
            "\n",
            "Epoch 00009: val_accuracy did not improve from 0.88368\n",
            "Epoch 10/15\n",
            "6571/6571 [==============================] - 3s 439us/step - loss: 0.6146 - accuracy: 0.8859 - val_loss: 0.7131 - val_accuracy: 0.8399\n",
            "\n",
            "Epoch 00010: val_accuracy did not improve from 0.88368\n",
            "Epoch 11/15\n",
            "6571/6571 [==============================] - 3s 452us/step - loss: 0.6120 - accuracy: 0.8860 - val_loss: 0.7232 - val_accuracy: 0.8411\n",
            "\n",
            "Epoch 00011: val_accuracy did not improve from 0.88368\n",
            "Epoch 12/15\n",
            "6571/6571 [==============================] - 3s 448us/step - loss: 0.6094 - accuracy: 0.8843 - val_loss: 0.7230 - val_accuracy: 0.8418\n",
            "\n",
            "Epoch 00012: val_accuracy did not improve from 0.88368\n",
            "Epoch 13/15\n",
            "6571/6571 [==============================] - 3s 467us/step - loss: 0.6046 - accuracy: 0.8891 - val_loss: 0.7349 - val_accuracy: 0.8399\n",
            "\n",
            "Epoch 00013: val_accuracy did not improve from 0.88368\n",
            "Epoch 14/15\n",
            "6571/6571 [==============================] - 3s 458us/step - loss: 0.6048 - accuracy: 0.8869 - val_loss: 0.7437 - val_accuracy: 0.8296\n",
            "\n",
            "Epoch 00014: val_accuracy did not improve from 0.88368\n",
            "Epoch 15/15\n",
            "6571/6571 [==============================] - 3s 460us/step - loss: 0.6012 - accuracy: 0.8886 - val_loss: 0.7485 - val_accuracy: 0.8363\n",
            "\n",
            "Epoch 00015: val_accuracy did not improve from 0.88368\n",
            "Train on 6571 samples, validate on 1643 samples\n",
            "Epoch 1/15\n",
            "6571/6571 [==============================] - 3s 479us/step - loss: 0.6978 - accuracy: 0.8528 - val_loss: 0.6416 - val_accuracy: 0.8844\n",
            "\n",
            "Epoch 00001: val_accuracy improved from 0.88368 to 0.88436, saving model to /content/drive/My Drive/models/RNN.h5\n",
            "Epoch 2/15\n",
            "6571/6571 [==============================] - 3s 463us/step - loss: 0.6677 - accuracy: 0.8656 - val_loss: 0.6219 - val_accuracy: 0.8898\n",
            "\n",
            "Epoch 00002: val_accuracy improved from 0.88436 to 0.88984, saving model to /content/drive/My Drive/models/RNN.h5\n",
            "Epoch 3/15\n",
            "6571/6571 [==============================] - 3s 450us/step - loss: 0.6386 - accuracy: 0.8783 - val_loss: 0.6254 - val_accuracy: 0.8874\n",
            "\n",
            "Epoch 00003: val_accuracy did not improve from 0.88984\n",
            "Epoch 4/15\n",
            "6571/6571 [==============================] - 3s 477us/step - loss: 0.6172 - accuracy: 0.8779 - val_loss: 0.6219 - val_accuracy: 0.8685\n",
            "\n",
            "Epoch 00004: val_accuracy did not improve from 0.88984\n",
            "Epoch 5/15\n",
            "6571/6571 [==============================] - 3s 440us/step - loss: 0.6091 - accuracy: 0.8825 - val_loss: 0.6136 - val_accuracy: 0.8923\n",
            "\n",
            "Epoch 00005: val_accuracy improved from 0.88984 to 0.89227, saving model to /content/drive/My Drive/models/RNN.h5\n",
            "Epoch 6/15\n",
            "6571/6571 [==============================] - 3s 449us/step - loss: 0.6006 - accuracy: 0.8833 - val_loss: 0.6382 - val_accuracy: 0.8698\n",
            "\n",
            "Epoch 00006: val_accuracy did not improve from 0.89227\n",
            "Epoch 7/15\n",
            "6571/6571 [==============================] - 3s 447us/step - loss: 0.5934 - accuracy: 0.8837 - val_loss: 0.6217 - val_accuracy: 0.8807\n",
            "\n",
            "Epoch 00007: val_accuracy did not improve from 0.89227\n",
            "Epoch 8/15\n",
            "6571/6571 [==============================] - 3s 446us/step - loss: 0.5876 - accuracy: 0.8915 - val_loss: 0.6456 - val_accuracy: 0.8740\n",
            "\n",
            "Epoch 00008: val_accuracy did not improve from 0.89227\n",
            "Epoch 9/15\n",
            "6571/6571 [==============================] - 3s 457us/step - loss: 0.5768 - accuracy: 0.8950 - val_loss: 0.6421 - val_accuracy: 0.8771\n",
            "\n",
            "Epoch 00009: val_accuracy did not improve from 0.89227\n",
            "Epoch 10/15\n",
            "6571/6571 [==============================] - 3s 456us/step - loss: 0.5745 - accuracy: 0.8909 - val_loss: 0.6560 - val_accuracy: 0.8704\n",
            "\n",
            "Epoch 00010: val_accuracy did not improve from 0.89227\n",
            "Epoch 11/15\n",
            "6571/6571 [==============================] - 3s 454us/step - loss: 0.5824 - accuracy: 0.8938 - val_loss: 0.6899 - val_accuracy: 0.8588\n",
            "\n",
            "Epoch 00011: val_accuracy did not improve from 0.89227\n",
            "Epoch 12/15\n",
            "6571/6571 [==============================] - 3s 437us/step - loss: 0.5756 - accuracy: 0.8930 - val_loss: 0.6772 - val_accuracy: 0.8606\n",
            "\n",
            "Epoch 00012: val_accuracy did not improve from 0.89227\n",
            "Epoch 13/15\n",
            "6571/6571 [==============================] - 3s 447us/step - loss: 0.5771 - accuracy: 0.8884 - val_loss: 0.6681 - val_accuracy: 0.8704\n",
            "\n",
            "Epoch 00013: val_accuracy did not improve from 0.89227\n",
            "Epoch 14/15\n",
            "6571/6571 [==============================] - 3s 437us/step - loss: 0.5649 - accuracy: 0.8924 - val_loss: 0.6856 - val_accuracy: 0.8637\n",
            "\n",
            "Epoch 00014: val_accuracy did not improve from 0.89227\n",
            "Epoch 15/15\n",
            "6571/6571 [==============================] - 3s 459us/step - loss: 0.5705 - accuracy: 0.8935 - val_loss: 0.7029 - val_accuracy: 0.8594\n",
            "\n",
            "Epoch 00015: val_accuracy did not improve from 0.89227\n",
            "Train on 6572 samples, validate on 1642 samples\n",
            "Epoch 1/15\n",
            "6572/6572 [==============================] - 3s 452us/step - loss: 0.6591 - accuracy: 0.8632 - val_loss: 0.6096 - val_accuracy: 0.8800\n",
            "\n",
            "Epoch 00001: val_accuracy did not improve from 0.89227\n",
            "Epoch 2/15\n",
            "6572/6572 [==============================] - 3s 446us/step - loss: 0.6308 - accuracy: 0.8726 - val_loss: 0.5998 - val_accuracy: 0.8825\n",
            "\n",
            "Epoch 00002: val_accuracy did not improve from 0.89227\n",
            "Epoch 3/15\n",
            "6572/6572 [==============================] - 3s 483us/step - loss: 0.6059 - accuracy: 0.8825 - val_loss: 0.6289 - val_accuracy: 0.8752\n",
            "\n",
            "Epoch 00003: val_accuracy did not improve from 0.89227\n",
            "Epoch 4/15\n",
            "6572/6572 [==============================] - 3s 466us/step - loss: 0.6001 - accuracy: 0.8821 - val_loss: 0.6278 - val_accuracy: 0.8727\n",
            "\n",
            "Epoch 00004: val_accuracy did not improve from 0.89227\n",
            "Epoch 5/15\n",
            "6572/6572 [==============================] - 3s 464us/step - loss: 0.5818 - accuracy: 0.8903 - val_loss: 0.6041 - val_accuracy: 0.8861\n",
            "\n",
            "Epoch 00005: val_accuracy did not improve from 0.89227\n",
            "Epoch 6/15\n",
            "6572/6572 [==============================] - 3s 471us/step - loss: 0.5824 - accuracy: 0.8876 - val_loss: 0.6323 - val_accuracy: 0.8703\n",
            "\n",
            "Epoch 00006: val_accuracy did not improve from 0.89227\n",
            "Epoch 7/15\n",
            "6572/6572 [==============================] - 3s 473us/step - loss: 0.5762 - accuracy: 0.8947 - val_loss: 0.6108 - val_accuracy: 0.8831\n",
            "\n",
            "Epoch 00007: val_accuracy did not improve from 0.89227\n",
            "Epoch 8/15\n",
            "6572/6572 [==============================] - 3s 464us/step - loss: 0.5628 - accuracy: 0.8947 - val_loss: 0.6401 - val_accuracy: 0.8739\n",
            "\n",
            "Epoch 00008: val_accuracy did not improve from 0.89227\n",
            "Epoch 9/15\n",
            "6572/6572 [==============================] - 3s 487us/step - loss: 0.5587 - accuracy: 0.8912 - val_loss: 0.6501 - val_accuracy: 0.8654\n",
            "\n",
            "Epoch 00009: val_accuracy did not improve from 0.89227\n",
            "Epoch 10/15\n",
            "6572/6572 [==============================] - 3s 468us/step - loss: 0.5553 - accuracy: 0.8977 - val_loss: 0.6382 - val_accuracy: 0.8788\n",
            "\n",
            "Epoch 00010: val_accuracy did not improve from 0.89227\n",
            "Epoch 11/15\n",
            "6572/6572 [==============================] - 3s 445us/step - loss: 0.5521 - accuracy: 0.8939 - val_loss: 0.6457 - val_accuracy: 0.8648\n",
            "\n",
            "Epoch 00011: val_accuracy did not improve from 0.89227\n",
            "Epoch 12/15\n",
            "6572/6572 [==============================] - 3s 446us/step - loss: 0.5451 - accuracy: 0.8959 - val_loss: 0.6554 - val_accuracy: 0.8642\n",
            "\n",
            "Epoch 00012: val_accuracy did not improve from 0.89227\n",
            "Epoch 13/15\n",
            "6572/6572 [==============================] - 3s 446us/step - loss: 0.5428 - accuracy: 0.8990 - val_loss: 0.6562 - val_accuracy: 0.8611\n",
            "\n",
            "Epoch 00013: val_accuracy did not improve from 0.89227\n",
            "Epoch 14/15\n",
            "6572/6572 [==============================] - 3s 444us/step - loss: 0.5383 - accuracy: 0.9006 - val_loss: 0.6648 - val_accuracy: 0.8636\n",
            "\n",
            "Epoch 00014: val_accuracy did not improve from 0.89227\n",
            "Epoch 15/15\n",
            "6572/6572 [==============================] - 3s 456us/step - loss: 0.5330 - accuracy: 0.9025 - val_loss: 0.6641 - val_accuracy: 0.8672\n",
            "\n",
            "Epoch 00015: val_accuracy did not improve from 0.89227\n"
          ],
          "name": "stdout"
        }
      ]
    },
    {
      "cell_type": "code",
      "metadata": {
        "id": "O8-5W7XTuaVW",
        "colab_type": "code",
        "colab": {}
      },
      "source": [
        "hist=RNNmodel.fit(RNNx_train, RNNy_train, validation_data=(RNNx_test, RNNy_test), epochs=50, batch_size=64,callbacks=callbacks)"
      ],
      "execution_count": null,
      "outputs": []
    },
    {
      "cell_type": "code",
      "metadata": {
        "id": "OuOfuuWDZuW4",
        "colab_type": "code",
        "colab": {}
      },
      "source": [
        "%matplotlib inline\n",
        "import matplotlib.pyplot as plt\n",
        "\n",
        "fig, loss_ax = plt.subplots()\n",
        "\n",
        "acc_ax = loss_ax.twinx()\n",
        "\n",
        "loss_ax.plot(hist.history['loss'], 'y', label='train loss')\n",
        "loss_ax.plot(hist.history['val_loss'], 'r', label='val loss')\n",
        "\n",
        "acc_ax.plot(hist.history['accuracy'], 'b', label='train acc')\n",
        "acc_ax.plot(hist.history['val_accuracy'], 'g', label='val acc')\n",
        "\n",
        "loss_ax.set_xlabel('epoch')\n",
        "loss_ax.set_ylabel('loss')\n",
        "acc_ax.set_ylabel('accuracy')\n",
        "\n",
        "loss_ax.legend(loc='upper left')\n",
        "acc_ax.legend(loc='lower left')\n",
        "\n",
        "plt.show()"
      ],
      "execution_count": null,
      "outputs": []
    },
    {
      "cell_type": "code",
      "metadata": {
        "id": "upW2vW-k91lu",
        "colab_type": "code",
        "colab": {
          "base_uri": "https://localhost:8080/",
          "height": 34
        },
        "outputId": "a8a3e6d6-b005-458a-9dbe-9af3b327e6a4"
      },
      "source": [
        "scores = RNNmodel.evaluate(RNNx_test, RNNy_test, verbose=0)\n",
        "print(\"Accuracy: %.2f%%\" % (scores[1]*100))"
      ],
      "execution_count": null,
      "outputs": [
        {
          "output_type": "stream",
          "text": [
            "Accuracy: 4.98%\n"
          ],
          "name": "stdout"
        }
      ]
    },
    {
      "cell_type": "code",
      "metadata": {
        "id": "H0nHEDZOYxdL",
        "colab_type": "code",
        "colab": {
          "base_uri": "https://localhost:8080/",
          "height": 139
        },
        "outputId": "4e6fe43e-d395-451d-d752-a544320f3221"
      },
      "source": [
        "print(RNNmodel.predict(RNNx_test))# (size,10)의 RNNxtest를 넣으면 (size,13)이 나온다."
      ],
      "execution_count": null,
      "outputs": [
        {
          "output_type": "stream",
          "text": [
            "[[0.00202441 0.00100929 0.13634098 ... 0.00123173 0.15423524 0.00385299]\n",
            " [0.00085217 0.00041196 0.00569606 ... 0.00036785 0.00127801 0.00134629]\n",
            " [0.00200963 0.00058922 0.03417793 ... 0.00090066 0.01643744 0.00037736]\n",
            " ...\n",
            " [0.0022693  0.00174597 0.00714797 ... 0.00079033 0.00433543 0.00890824]\n",
            " [0.00131932 0.0011763  0.01705933 ... 0.00077027 0.00249961 0.00114501]\n",
            " [0.00233641 0.00257277 0.03737265 ... 0.00142962 0.0332713  0.0252548 ]]\n"
          ],
          "name": "stdout"
        }
      ]
    },
    {
      "cell_type": "markdown",
      "metadata": {
        "id": "5CP7tkoSCIm2",
        "colab_type": "text"
      },
      "source": [
        "classifier : 24*24 bar input을 기반하여 Skill을 분류한다. 학습은 Multilabel Classifier로써 진행된다.\n",
        "\n",
        "updown_classifier : 24*24 bar input을 기반하여 다음 bar의 pitch change를 분류한다. 학습은 up, down, final, meanless 4가지 기반하여 진행되나 분류 자체는 up, down만 유의미하다.\n",
        "\n",
        "RNNmodel : bar skill sequence를 기반하여 다음 bar가 어떤 스킬을 가지는지를 분류한다. 학습은 k-fold기반의 RNN으로 진행된다\n",
        "\n",
        "G : GAN기반한 모델의 Generator이다. image_generator(G,갯수,encoded skill num)과 같은 형태로 사용하여 이미지를 생성할 수 있다. 원할한 생성을 위해 Matrix Image에 Bluring을 사용한다.\n",
        "\n",
        "이제 G가 생성한 Matrix이미지를 0과1로 이루어진 Matrix로 정리하고, Chord를 Match시켜준 뒤 MIDI로 Decoding하면 끝이다."
      ]
    },
    {
      "cell_type": "code",
      "metadata": {
        "id": "Y1Q__y8tCG-a",
        "colab_type": "code",
        "colab": {
          "base_uri": "https://localhost:8080/",
          "height": 471
        },
        "outputId": "7732cb64-3620-4a57-df03-51f5abeba0af"
      },
      "source": [
        "#Model Loading Only\n",
        "RNNmodel = Sequential()\n",
        "RNNmodel.add(Embedding(top_words, embedding_vecor_length, input_length=10))\n",
        "RNNmodel.add(LSTM(100, return_sequences=True,\n",
        "               input_shape=(timesteps, 100)))  # returns a sequence of vectors of dimension 32\n",
        "RNNmodel.add(LSTM(100))  # return a single vector of dimension 32\n",
        "RNNmodel.add(Dropout(0.2))\n",
        "RNNmodel.add(Dense(13, activation='sigmoid', kernel_regularizer=regularizers.l2(0.01)))\n",
        "RNNmodel.compile(loss='categorical_crossentropy', optimizer='adam', metrics=['accuracy'])\n",
        "RNNmodel.load_weights('/content/drive/My Drive/models/RNN.h5')\n",
        "\n",
        "G = generator_model()\n",
        "G.compile(loss='binary_crossentropy', optimizer=optimizer)\n",
        "G.load_weights(\"/content/drive/My Drive/MARG/PPDDlist/GAN_result/generator.h5\")\n",
        "\n",
        "updown_classifier=make_classifier()\n",
        "updown_classifier.compile(loss=keras.losses.CategoricalCrossentropy(\n",
        "      from_logits=False, label_smoothing=0.1, \n",
        "      name='categorical_crossentropy'\n",
        "  ), optimizer='adam', metrics=['accuracy'])\n",
        "updown_classifier.load_weights(\"/content/drive/My Drive/models/updown.h5\")\n",
        "\n",
        "classifier=make_model()\n",
        "classifier.compile(loss=keras.losses.BinaryCrossentropy(\n",
        "      from_logits=False, label_smoothing=0.1, \n",
        "      name='binary_crossentropy'\n",
        "  ), optimizer='adam', metrics=['accuracy',recall,precision,f1score])\n",
        "classifier.load_weights(\"/content/drive/My Drive/models/deeperppddbest.h5\")"
      ],
      "execution_count": null,
      "outputs": [
        {
          "output_type": "error",
          "ename": "KeyboardInterrupt",
          "evalue": "ignored",
          "traceback": [
            "\u001b[0;31m---------------------------------------------------------------------------\u001b[0m",
            "\u001b[0;31mKeyboardInterrupt\u001b[0m                         Traceback (most recent call last)",
            "\u001b[0;32m<ipython-input-107-4026a3a454c3>\u001b[0m in \u001b[0;36m<module>\u001b[0;34m()\u001b[0m\n\u001b[1;32m      8\u001b[0m \u001b[0mRNNmodel\u001b[0m\u001b[0;34m.\u001b[0m\u001b[0madd\u001b[0m\u001b[0;34m(\u001b[0m\u001b[0mDense\u001b[0m\u001b[0;34m(\u001b[0m\u001b[0;36m13\u001b[0m\u001b[0;34m,\u001b[0m \u001b[0mactivation\u001b[0m\u001b[0;34m=\u001b[0m\u001b[0;34m'sigmoid'\u001b[0m\u001b[0;34m,\u001b[0m \u001b[0mkernel_regularizer\u001b[0m\u001b[0;34m=\u001b[0m\u001b[0mregularizers\u001b[0m\u001b[0;34m.\u001b[0m\u001b[0ml2\u001b[0m\u001b[0;34m(\u001b[0m\u001b[0;36m0.01\u001b[0m\u001b[0;34m)\u001b[0m\u001b[0;34m)\u001b[0m\u001b[0;34m)\u001b[0m\u001b[0;34m\u001b[0m\u001b[0;34m\u001b[0m\u001b[0m\n\u001b[1;32m      9\u001b[0m \u001b[0mRNNmodel\u001b[0m\u001b[0;34m.\u001b[0m\u001b[0mcompile\u001b[0m\u001b[0;34m(\u001b[0m\u001b[0mloss\u001b[0m\u001b[0;34m=\u001b[0m\u001b[0;34m'categorical_crossentropy'\u001b[0m\u001b[0;34m,\u001b[0m \u001b[0moptimizer\u001b[0m\u001b[0;34m=\u001b[0m\u001b[0;34m'adam'\u001b[0m\u001b[0;34m,\u001b[0m \u001b[0mmetrics\u001b[0m\u001b[0;34m=\u001b[0m\u001b[0;34m[\u001b[0m\u001b[0;34m'accuracy'\u001b[0m\u001b[0;34m]\u001b[0m\u001b[0;34m)\u001b[0m\u001b[0;34m\u001b[0m\u001b[0;34m\u001b[0m\u001b[0m\n\u001b[0;32m---> 10\u001b[0;31m \u001b[0mRNNmodel\u001b[0m\u001b[0;34m.\u001b[0m\u001b[0mload_weights\u001b[0m\u001b[0;34m(\u001b[0m\u001b[0;34m'/content/drive/My Drive/models/RNN.h5'\u001b[0m\u001b[0;34m)\u001b[0m\u001b[0;34m\u001b[0m\u001b[0;34m\u001b[0m\u001b[0m\n\u001b[0m\u001b[1;32m     11\u001b[0m \u001b[0;34m\u001b[0m\u001b[0m\n\u001b[1;32m     12\u001b[0m \u001b[0mG\u001b[0m \u001b[0;34m=\u001b[0m \u001b[0mgenerator_model\u001b[0m\u001b[0;34m(\u001b[0m\u001b[0;34m)\u001b[0m\u001b[0;34m\u001b[0m\u001b[0;34m\u001b[0m\u001b[0m\n",
            "\u001b[0;32m/usr/local/lib/python3.6/dist-packages/keras/engine/saving.py\u001b[0m in \u001b[0;36mload_wrapper\u001b[0;34m(*args, **kwargs)\u001b[0m\n\u001b[1;32m    490\u001b[0m                 \u001b[0mos\u001b[0m\u001b[0;34m.\u001b[0m\u001b[0mremove\u001b[0m\u001b[0;34m(\u001b[0m\u001b[0mtmp_filepath\u001b[0m\u001b[0;34m)\u001b[0m\u001b[0;34m\u001b[0m\u001b[0;34m\u001b[0m\u001b[0m\n\u001b[1;32m    491\u001b[0m             \u001b[0;32mreturn\u001b[0m \u001b[0mres\u001b[0m\u001b[0;34m\u001b[0m\u001b[0;34m\u001b[0m\u001b[0m\n\u001b[0;32m--> 492\u001b[0;31m         \u001b[0;32mreturn\u001b[0m \u001b[0mload_function\u001b[0m\u001b[0;34m(\u001b[0m\u001b[0;34m*\u001b[0m\u001b[0margs\u001b[0m\u001b[0;34m,\u001b[0m \u001b[0;34m**\u001b[0m\u001b[0mkwargs\u001b[0m\u001b[0;34m)\u001b[0m\u001b[0;34m\u001b[0m\u001b[0;34m\u001b[0m\u001b[0m\n\u001b[0m\u001b[1;32m    493\u001b[0m \u001b[0;34m\u001b[0m\u001b[0m\n\u001b[1;32m    494\u001b[0m     \u001b[0;32mreturn\u001b[0m \u001b[0mload_wrapper\u001b[0m\u001b[0;34m\u001b[0m\u001b[0;34m\u001b[0m\u001b[0m\n",
            "\u001b[0;32m/usr/local/lib/python3.6/dist-packages/keras/engine/network.py\u001b[0m in \u001b[0;36mload_weights\u001b[0;34m(self, filepath, by_name, skip_mismatch, reshape)\u001b[0m\n\u001b[1;32m   1219\u001b[0m         \u001b[0;32mif\u001b[0m \u001b[0mh5py\u001b[0m \u001b[0;32mis\u001b[0m \u001b[0;32mNone\u001b[0m\u001b[0;34m:\u001b[0m\u001b[0;34m\u001b[0m\u001b[0;34m\u001b[0m\u001b[0m\n\u001b[1;32m   1220\u001b[0m             \u001b[0;32mraise\u001b[0m \u001b[0mImportError\u001b[0m\u001b[0;34m(\u001b[0m\u001b[0;34m'`load_weights` requires h5py.'\u001b[0m\u001b[0;34m)\u001b[0m\u001b[0;34m\u001b[0m\u001b[0;34m\u001b[0m\u001b[0m\n\u001b[0;32m-> 1221\u001b[0;31m         \u001b[0;32mwith\u001b[0m \u001b[0mh5py\u001b[0m\u001b[0;34m.\u001b[0m\u001b[0mFile\u001b[0m\u001b[0;34m(\u001b[0m\u001b[0mfilepath\u001b[0m\u001b[0;34m,\u001b[0m \u001b[0mmode\u001b[0m\u001b[0;34m=\u001b[0m\u001b[0;34m'r'\u001b[0m\u001b[0;34m)\u001b[0m \u001b[0;32mas\u001b[0m \u001b[0mf\u001b[0m\u001b[0;34m:\u001b[0m\u001b[0;34m\u001b[0m\u001b[0;34m\u001b[0m\u001b[0m\n\u001b[0m\u001b[1;32m   1222\u001b[0m             \u001b[0;32mif\u001b[0m \u001b[0;34m'layer_names'\u001b[0m \u001b[0;32mnot\u001b[0m \u001b[0;32min\u001b[0m \u001b[0mf\u001b[0m\u001b[0;34m.\u001b[0m\u001b[0mattrs\u001b[0m \u001b[0;32mand\u001b[0m \u001b[0;34m'model_weights'\u001b[0m \u001b[0;32min\u001b[0m \u001b[0mf\u001b[0m\u001b[0;34m:\u001b[0m\u001b[0;34m\u001b[0m\u001b[0;34m\u001b[0m\u001b[0m\n\u001b[1;32m   1223\u001b[0m                 \u001b[0mf\u001b[0m \u001b[0;34m=\u001b[0m \u001b[0mf\u001b[0m\u001b[0;34m[\u001b[0m\u001b[0;34m'model_weights'\u001b[0m\u001b[0;34m]\u001b[0m\u001b[0;34m\u001b[0m\u001b[0;34m\u001b[0m\u001b[0m\n",
            "\u001b[0;32m/usr/local/lib/python3.6/dist-packages/h5py/_hl/files.py\u001b[0m in \u001b[0;36m__init__\u001b[0;34m(self, name, mode, driver, libver, userblock_size, swmr, rdcc_nslots, rdcc_nbytes, rdcc_w0, track_order, **kwds)\u001b[0m\n\u001b[1;32m    406\u001b[0m                 fid = make_fid(name, mode, userblock_size,\n\u001b[1;32m    407\u001b[0m                                \u001b[0mfapl\u001b[0m\u001b[0;34m,\u001b[0m \u001b[0mfcpl\u001b[0m\u001b[0;34m=\u001b[0m\u001b[0mmake_fcpl\u001b[0m\u001b[0;34m(\u001b[0m\u001b[0mtrack_order\u001b[0m\u001b[0;34m=\u001b[0m\u001b[0mtrack_order\u001b[0m\u001b[0;34m)\u001b[0m\u001b[0;34m,\u001b[0m\u001b[0;34m\u001b[0m\u001b[0;34m\u001b[0m\u001b[0m\n\u001b[0;32m--> 408\u001b[0;31m                                swmr=swmr)\n\u001b[0m\u001b[1;32m    409\u001b[0m \u001b[0;34m\u001b[0m\u001b[0m\n\u001b[1;32m    410\u001b[0m             \u001b[0;32mif\u001b[0m \u001b[0misinstance\u001b[0m\u001b[0;34m(\u001b[0m\u001b[0mlibver\u001b[0m\u001b[0;34m,\u001b[0m \u001b[0mtuple\u001b[0m\u001b[0;34m)\u001b[0m\u001b[0;34m:\u001b[0m\u001b[0;34m\u001b[0m\u001b[0;34m\u001b[0m\u001b[0m\n",
            "\u001b[0;32m/usr/local/lib/python3.6/dist-packages/h5py/_hl/files.py\u001b[0m in \u001b[0;36mmake_fid\u001b[0;34m(name, mode, userblock_size, fapl, fcpl, swmr)\u001b[0m\n\u001b[1;32m    171\u001b[0m         \u001b[0;32mif\u001b[0m \u001b[0mswmr\u001b[0m \u001b[0;32mand\u001b[0m \u001b[0mswmr_support\u001b[0m\u001b[0;34m:\u001b[0m\u001b[0;34m\u001b[0m\u001b[0;34m\u001b[0m\u001b[0m\n\u001b[1;32m    172\u001b[0m             \u001b[0mflags\u001b[0m \u001b[0;34m|=\u001b[0m \u001b[0mh5f\u001b[0m\u001b[0;34m.\u001b[0m\u001b[0mACC_SWMR_READ\u001b[0m\u001b[0;34m\u001b[0m\u001b[0;34m\u001b[0m\u001b[0m\n\u001b[0;32m--> 173\u001b[0;31m         \u001b[0mfid\u001b[0m \u001b[0;34m=\u001b[0m \u001b[0mh5f\u001b[0m\u001b[0;34m.\u001b[0m\u001b[0mopen\u001b[0m\u001b[0;34m(\u001b[0m\u001b[0mname\u001b[0m\u001b[0;34m,\u001b[0m \u001b[0mflags\u001b[0m\u001b[0;34m,\u001b[0m \u001b[0mfapl\u001b[0m\u001b[0;34m=\u001b[0m\u001b[0mfapl\u001b[0m\u001b[0;34m)\u001b[0m\u001b[0;34m\u001b[0m\u001b[0;34m\u001b[0m\u001b[0m\n\u001b[0m\u001b[1;32m    174\u001b[0m     \u001b[0;32melif\u001b[0m \u001b[0mmode\u001b[0m \u001b[0;34m==\u001b[0m \u001b[0;34m'r+'\u001b[0m\u001b[0;34m:\u001b[0m\u001b[0;34m\u001b[0m\u001b[0;34m\u001b[0m\u001b[0m\n\u001b[1;32m    175\u001b[0m         \u001b[0mfid\u001b[0m \u001b[0;34m=\u001b[0m \u001b[0mh5f\u001b[0m\u001b[0;34m.\u001b[0m\u001b[0mopen\u001b[0m\u001b[0;34m(\u001b[0m\u001b[0mname\u001b[0m\u001b[0;34m,\u001b[0m \u001b[0mh5f\u001b[0m\u001b[0;34m.\u001b[0m\u001b[0mACC_RDWR\u001b[0m\u001b[0;34m,\u001b[0m \u001b[0mfapl\u001b[0m\u001b[0;34m=\u001b[0m\u001b[0mfapl\u001b[0m\u001b[0;34m)\u001b[0m\u001b[0;34m\u001b[0m\u001b[0;34m\u001b[0m\u001b[0m\n",
            "\u001b[0;32mh5py/_objects.pyx\u001b[0m in \u001b[0;36mh5py._objects.with_phil.wrapper\u001b[0;34m()\u001b[0m\n",
            "\u001b[0;32mh5py/_objects.pyx\u001b[0m in \u001b[0;36mh5py._objects.with_phil.wrapper\u001b[0;34m()\u001b[0m\n",
            "\u001b[0;32mh5py/h5f.pyx\u001b[0m in \u001b[0;36mh5py.h5f.open\u001b[0;34m()\u001b[0m\n",
            "\u001b[0;32mh5py/h5g.pyx\u001b[0m in \u001b[0;36mh5py.h5g.GroupID.__init__\u001b[0;34m()\u001b[0m\n",
            "\u001b[0;32mh5py/h5g.pyx\u001b[0m in \u001b[0;36mh5py.h5g.GroupID.__init__\u001b[0;34m()\u001b[0m\n",
            "\u001b[0;32m/usr/lib/python3.6/importlib/_bootstrap.py\u001b[0m in \u001b[0;36mparent\u001b[0;34m(self)\u001b[0m\n",
            "\u001b[0;31mKeyboardInterrupt\u001b[0m: "
          ]
        }
      ]
    },
    {
      "cell_type": "code",
      "metadata": {
        "id": "6htKIS4Lcb7h",
        "colab_type": "code",
        "colab": {
          "base_uri": "https://localhost:8080/",
          "height": 282
        },
        "outputId": "5f78e5dd-505c-4ba8-e296-2ca03ce8a45a"
      },
      "source": [
        "import cv2\n",
        "H=generate_images(G,4,4)[0]\n",
        "\n",
        "def matrix_cleaner(matrix):\n",
        "  #matrix should be size of 24*24\n",
        "  #make matrix's value of [0,1]  \n",
        "  matrix=np.matrix(matrix)\n",
        "  maximum_value=matrix.max()\n",
        "  minimum_value=matrix.min()\n",
        "  matrix=(matrix-minimum_value)/(maximum_value-minimum_value)\n",
        "  flat=matrix.flatten()\n",
        "  flat.sort()\n",
        "  flat=flat.reshape((576,1))\n",
        "  hundred_val=flat[-100]\n",
        "  matrix_for_duration=np.where(matrix<0.1,0,matrix)\n",
        "  matrix=np.where(matrix<hundred_val,0,matrix)\n",
        "  matrix=np.where(matrix<1/3,0,matrix)\n",
        "  \n",
        "  return matrix,matrix_for_duration\n",
        "plt.imshow(matrix_cleaner(H)[0])"
      ],
      "execution_count": null,
      "outputs": [
        {
          "output_type": "execute_result",
          "data": {
            "text/plain": [
              "<matplotlib.image.AxesImage at 0x7f4aae50ebe0>"
            ]
          },
          "metadata": {
            "tags": []
          },
          "execution_count": 133
        },
        {
          "output_type": "display_data",
          "data": {
            "image/png": "[encoded data removed]",
            "text/plain": [
              "<Figure size 432x288 with 1 Axes>"
            ]
          },
          "metadata": {
            "tags": [],
            "needs_background": "light"
          }
        }
      ]
    },
    {
      "cell_type": "code",
      "metadata": {
        "id": "lRSy54CpFDz0",
        "colab_type": "code",
        "colab": {
          "base_uri": "https://localhost:8080/",
          "height": 201
        },
        "outputId": "e8242db3-0b6b-40fc-a1a9-4cd4ce873892"
      },
      "source": [
        "import numpy as np\n",
        "from scipy.ndimage.filters import maximum_filter\n",
        "from scipy.ndimage.morphology import generate_binary_structure, binary_erosion\n",
        "import matplotlib.pyplot as pp\n",
        "\n",
        "#getting a list of images\n",
        "\n",
        "paws = [matrix_cleaner(H)[0]]\n",
        "\n",
        "\n",
        "def detect_peaks(image):\n",
        "    \"\"\"\n",
        "    Takes an image and detect the peaks usingthe local maximum filter.\n",
        "    Returns a boolean mask of the peaks (i.e. 1 when\n",
        "    the pixel's value is the neighborhood maximum, 0 otherwise)\n",
        "    \"\"\"\n",
        "\n",
        "    # define an 8-connected neighborhood\n",
        "    neighborhood = generate_binary_structure(2,2)\n",
        "\n",
        "    #apply the local maximum filter; all pixel of maximal value \n",
        "    #in their neighborhood are set to 1\n",
        "    local_max = maximum_filter(image, footprint=neighborhood)==image\n",
        "    #local_max is a mask that contains the peaks we are \n",
        "    #looking for, but also the background.\n",
        "    #In order to isolate the peaks we must remove the background from the mask.\n",
        "\n",
        "    #we create the mask of the background\n",
        "    background = (image==0)\n",
        "\n",
        "    #a little technicality: we must erode the background in order to \n",
        "    #successfully subtract it form local_max, otherwise a line will \n",
        "    #appear along the background border (artifact of the local maximum filter)\n",
        "    eroded_background = binary_erosion(background, structure=neighborhood, border_value=1)\n",
        "\n",
        "    #we obtain the final mask, containing only peaks, \n",
        "    #by removing the background from the local_max mask (xor operation)\n",
        "    detected_peaks = local_max ^ eroded_background\n",
        "    detected_peaks=np.where(detected_peaks==True,1,0)\n",
        "\n",
        "    return detected_peaks\n",
        "\n",
        "\n",
        "#applying the detection and plotting results\n",
        "for i, paw in enumerate(paws):\n",
        "    detected_peaks = detect_peaks(paw)\n",
        "    pp.subplot(1,2,(2*i+1))\n",
        "    pp.imshow(paw)\n",
        "    pp.subplot(1,2,(2*i+2) )\n",
        "    pp.imshow(detected_peaks)\n",
        "\n",
        "pp.show()"
      ],
      "execution_count": null,
      "outputs": [
        {
          "output_type": "display_data",
          "data": {
            "image/png": "[encoded data removed]",
            "text/plain": [
              "<Figure size 432x288 with 2 Axes>"
            ]
          },
          "metadata": {
            "tags": [],
            "needs_background": "light"
          }
        }
      ]
    },
    {
      "cell_type": "code",
      "metadata": {
        "id": "bPVdL9UXO-0h",
        "colab_type": "code",
        "colab": {
          "base_uri": "https://localhost:8080/",
          "height": 339
        },
        "outputId": "29572f14-74ac-4618-91db-fd9551555447"
      },
      "source": [
        "def left_shifting(matrix,detected_peak):\n",
        "  #input은 detected_peak가 들어와야한다.\n",
        "  plt.show(matrix[0])\n",
        "  dots=[]\n",
        "  for j in range(len(detected_peak)):\n",
        "    pos=[]\n",
        "    for i in range(len(detected_peak[0])):#for 문의 순서를 이렇게 지정해야 Handle이 가능하다.\n",
        "      a=0\n",
        "      if(detected_peak[i][j]==1):\n",
        "        if(j%2!=0 and j%3!=0):\n",
        "          a=1\n",
        "        if(len(pos)==0):\n",
        "          pos=[i,j-a]\n",
        "        else:\n",
        "          if (matrix[0][pos[0]][pos[1]]<matrix[0][i][j-a]):\n",
        "            pos=[i,j-a]\n",
        "    if(len(pos)!=0):\n",
        "      dots.append(pos)\n",
        "  dots_with_length=[]\n",
        "  starting_points=[]\n",
        "  durations=[]\n",
        "  velocities=[]\n",
        "  for position in dots:\n",
        "    velocities.append(matrix[1][position[0]][position[1]])\n",
        "    length_val=0\n",
        "    while True:\n",
        "      if(length_val==0):\n",
        "        starting_points.append([position[0],position[1]])\n",
        "      else:\n",
        "        if(position[1]+length_val>23):\n",
        "          break\n",
        "        if(detected_peak[position[0]][position[1]+length_val]!=0):\n",
        "          break\n",
        "      if(position[1]+length_val>23):\n",
        "        break\n",
        "      elif(matrix[1][position[0]][position[1]+length_val]!=0):\n",
        "        dots_with_length.append([position[0],position[1]+length_val])\n",
        "      else:\n",
        "        break\n",
        "      length_val+=1\n",
        "    durations.append(length_val)\n",
        "  result=np.zeros_like(matrix[0])\n",
        "  for position in dots_with_length:\n",
        "    result[position[0]][position[1]]=1\n",
        "  return result,np.array(starting_points),np.array(durations),np.array(velocities)\n",
        "\n",
        "paws = [matrix_cleaner(H)[0]]\n",
        "detected_peaks = detect_peaks(paws[0])\n",
        "fig = plt.figure()\n",
        "ax1 = fig.add_subplot(1, 3, 1)\n",
        "ax1.imshow(H.reshape(24,24))\n",
        "ax1.set_title('H')\n",
        "ax1.axis(\"off\")\n",
        " \n",
        "ax3 = fig.add_subplot(1, 3, 2)\n",
        "ax3.imshow(paws[0].reshape(24,24))\n",
        "ax3.set_title('Cleaned H')\n",
        "ax3.axis(\"off\")\n",
        "\n",
        "ax2 = fig.add_subplot(1, 3, 3)\n",
        "ax2.imshow(detect_peaks(matrix_cleaner(H)[0]))\n",
        "ax2.set_title('detected_peaks')\n",
        "ax2.axis(\"off\")\n",
        "#plt.imshow(left_shifting(matrix_cleaner(H),detect_peaks(matrix_cleaner(H)[0]))[0])\n",
        "\n",
        "print(left_shifting(matrix_cleaner(H),detected_peaks)[1],left_shifting(matrix_cleaner(H),detected_peaks)[2],left_shifting(matrix_cleaner(H),detected_peaks)[3])"
      ],
      "execution_count": null,
      "outputs": [
        {
          "output_type": "stream",
          "text": [
            "[[23  0]\n",
            " [13  2]\n",
            " [11  4]\n",
            " [10 11]\n",
            " [11 15]\n",
            " [11 17]\n",
            " [11 21]] [1 1 2 2 2 1 2] [0.4953574  0.3361933  0.61004436 0.67547536 0.98717475 0.8418304\n",
            " 1.        ]\n"
          ],
          "name": "stdout"
        },
        {
          "output_type": "stream",
          "text": [
            "/usr/local/lib/python3.6/dist-packages/ipykernel_launcher.py:3: MatplotlibDeprecationWarning: Passing the block parameter of show() positionally is deprecated since Matplotlib 3.1; the parameter will become keyword-only in 3.3.\n",
            "  This is separate from the ipykernel package so we can avoid doing imports until\n"
          ],
          "name": "stderr"
        },
        {
          "output_type": "display_data",
          "data": {
            "image/png": "[encoded data removed]",
            "text/plain": [
              "<Figure size 432x288 with 3 Axes>"
            ]
          },
          "metadata": {
            "tags": [],
            "needs_background": "light"
          }
        }
      ]
    },
    {
      "cell_type": "code",
      "metadata": {
        "id": "7hmNRrgvCTpe",
        "colab_type": "code",
        "colab": {}
      },
      "source": [
        "C_chord=[1,0,1,0,1,1,0,1,0,1,0,1]\n",
        "chords=['C','C#','D','D#','E','F','F#','G','G#','A','A#','B']\n",
        "def chord_matching(shifted_matrix,chord,last_pitch,direction):\n",
        "  #input은 left_shifting의 output을 그대로 넣고, chord(C,C#,D,D#....,B), 마지막 리듬의 pitch를 숫자로, 그리고 진행 방향을 direction(1,0)으로 받는다.\n",
        "  #output은 MIDI기반의 decoding이 되도록 정보 기반으로, 그리고 last_pitch까지 넣어준다.\n",
        "  #또한 출력 그림과 상관없이, 그냥 Note Pitch를 그냥 Matrix에 넣어준다.\n",
        "  before_matrix=shifted_matrix[0]\n",
        "  before_pitch=last_pitch\n",
        "  if (last_pitch<40):\n",
        "    direction=1\n",
        "  if (last_pitch>80):\n",
        "    direction=0\n",
        "  if chord not in chords:\n",
        "    now_chord='C'\n",
        "  now_chord=chord\n",
        "  chord_diff=chords.index(now_chord)\n",
        "  now_chord_list=np.roll(C_chord,chord_diff)#[1,0,1,0,1...] 이런 set인데 여기에 맞추면 함수에 넣은 chord에 맞게 된다.\n",
        "  #나중에 그냥 chord뿐만 아니라 화음의 종류까지 고민하게 된다면 이걸 잘 쓰면 된다.\n",
        "  pitch_set=[]\n",
        "  for pitchs in shifted_matrix[1]:\n",
        "    pitch_set.append(23-pitchs[0])#위 그림 기준 7,17,9,7,3,5 이렇게 들감\n",
        "  pitch_set=pitch_set-pitch_set[0]#이러면 0, 10, -1, 0 ,-4, -2, 이렇게 들간다. 상대적인 위치를 다루는게 쉽다.\n",
        "  if (direction==1):\n",
        "    possible_set=[]\n",
        "    for i in range(12):\n",
        "      possible_set.append(pitch_set+i+last_pitch)\n",
        "  else:\n",
        "    possible_set=[]\n",
        "    for i in range(12):\n",
        "      possible_set.append(pitch_set-i+last_pitch)\n",
        "  possible_set_score=[]\n",
        "  for sets in possible_set:\n",
        "    score=0\n",
        "    for pitchs in sets:\n",
        "      score+=now_chord_list[pitchs%12]\n",
        "    possible_set_score.append(score)\n",
        "  final_set=possible_set[np.argmax(possible_set_score)]\n",
        "  return_val=[]\n",
        "  for i,sets in enumerate(final_set):\n",
        "    if (before_pitch-sets<-12):\n",
        "      sets=sets-12\n",
        "    if (before_pitch-sets>12):\n",
        "      sets=sets+12               #For prevent pitch change above 1 Octave.\n",
        "    if(now_chord_list[sets%12]==1):\n",
        "      final=[]\n",
        "      if (shifted_matrix[2][i]!=0):\n",
        "        final.append(sets)#pitch\n",
        "        final.append(shifted_matrix[1][i][1])\n",
        "        final.append(shifted_matrix[2][i])\n",
        "        final.append(shifted_matrix[3][i])\n",
        "        return_val.append(final)\n",
        "    before_pitch=sets\n",
        "  return return_val, sets#final pitch\n"
      ],
      "execution_count": null,
      "outputs": []
    },
    {
      "cell_type": "code",
      "metadata": {
        "id": "7chdoz0aQzCm",
        "colab_type": "code",
        "colab": {
          "base_uri": "https://localhost:8080/",
          "height": 89
        },
        "outputId": "fda357a5-7904-4f27-d0d6-a365c7d3c728"
      },
      "source": [
        "shifted=left_shifting(matrix_cleaner(H),detect_peaks(matrix_cleaner(H)[0]))\n",
        "print(chord_matching(shifted,'C',48,1))"
      ],
      "execution_count": null,
      "outputs": [
        {
          "output_type": "stream",
          "text": [
            "([[52, 0, 1, 0.4953574], [62, 2, 1, 0.3361933], [64, 4, 2, 0.61004436], [65, 11, 2, 0.67547536], [64, 15, 2, 0.98717475], [64, 17, 1, 0.8418304], [64, 21, 2, 1.0]], 64)\n"
          ],
          "name": "stdout"
        },
        {
          "output_type": "stream",
          "text": [
            "/usr/local/lib/python3.6/dist-packages/ipykernel_launcher.py:3: MatplotlibDeprecationWarning: Passing the block parameter of show() positionally is deprecated since Matplotlib 3.1; the parameter will become keyword-only in 3.3.\n",
            "  This is separate from the ipykernel package so we can avoid doing imports until\n"
          ],
          "name": "stderr"
        }
      ]
    },
    {
      "cell_type": "code",
      "metadata": {
        "id": "Sf-UJL5SarLZ",
        "colab_type": "code",
        "colab": {}
      },
      "source": [
        "np.random.seed(7)\n",
        "def generation_info(start_skill,length,chord):\n",
        "  infos=[]\n",
        "  H=generate_images(G,1,start_skill)\n",
        "  shifted=left_shifting(matrix_cleaner(H),detect_peaks(matrix_cleaner(H)[0]))\n",
        "  infos.append(chord_matching(shifted,chord,48,1)[0]) # 48은 last_pitch정보, 1은 updown precition, 즉 direction 관련 정보다.\n",
        "  last_pitch=chord_matching(shifted,chord,48,1)[1]\n",
        "\n",
        "  feature_seq=[]\n",
        "  feature_seq.append(start_skill+1)#RNN Predict Pad 전에 1을 더해야한다.\n",
        "  feature_seq_pad=sequence.pad_sequences(np.array([feature_seq]),maxlen=10)\n",
        "  prediction=RNNmodel.predict(feature_seq_pad)\n",
        "  prediction[0][start_skill]=prediction[0][start_skill]/3\n",
        "  prediction[0][6]=0#no skills\n",
        "  updown_prediction=updown_classifier.predict(shifted[0].reshape(1,24,24,1))\n",
        "  if(updown_prediction[0][0]>=updown_prediction[0][1]):\n",
        "    updown_prediction=1\n",
        "  else:\n",
        "    updown_prediction=0\n",
        "  prob=prediction/prediction.sum()\n",
        "  next_skill=np.random.choice(\n",
        "      np.arange(13),\n",
        "      p=prob[0]\n",
        "  )\n",
        "  for i in range(length-1):\n",
        "    #print(i+2,'th bar\\'s generated skill is ',next_skill)\n",
        "    H=generate_images(G,1,next_skill)\n",
        "    shifted=left_shifting(matrix_cleaner(H),detect_peaks(matrix_cleaner(H)[0]))\n",
        "    infos.append(chord_matching(shifted,chord,last_pitch,updown_prediction)[0])\n",
        "    feature_seq.append(next_skill+1)# H generation을 4로 했다.\n",
        "    feature_seq_pad=sequence.pad_sequences(np.array([feature_seq]),maxlen=10)\n",
        "    prediction=RNNmodel.predict(feature_seq_pad)\n",
        "    prediction[0][next_skill]=prediction[0][next_skill]/3\n",
        "    prediction[0]=prediction[0]+prediction.sum()/20 # for more variation.\n",
        "    prediction[0][6]=0#6 is no skill\n",
        "    updown_prediction=updown_classifier.predict(shifted[0].reshape(1,24,24,1))\n",
        "    if(updown_prediction[0][0]>=updown_prediction[0][1]):\n",
        "      updown_prediction=1\n",
        "    else:\n",
        "      updown_prediction=0\n",
        "    prob=prediction/prediction.sum()\n",
        "    next_skill=np.random.choice(\n",
        "        np.arange(13),\n",
        "        p=prob[0]\n",
        "    )\n",
        "  return infos"
      ],
      "execution_count": null,
      "outputs": []
    },
    {
      "cell_type": "code",
      "metadata": {
        "id": "OORpc3qu1FXb",
        "colab_type": "code",
        "colab": {
          "base_uri": "https://localhost:8080/",
          "height": 142
        },
        "outputId": "383e2ac5-9c1c-42f8-c1b9-ce310cf4dd2a"
      },
      "source": [
        "final_list=generation_info(0,16,'F#')\n",
        "\"\"\"\n",
        "generation_info(final_skill, length, chord)\n",
        "\n",
        "final_skill should be 0~12. It matches with\n",
        "['One_rhythm' 'continuing_rhythm' 'down_leaping' 'down_steping'\n",
        " 'fast_rhythm' 'leaping_twisting' 'no skills' 'resting' 'staccato'\n",
        " 'steping_twisting' 'triplet' 'up_leaping' 'up_steping'].\n",
        " length is the bar number of song generation.\n",
        " chord should be string, 'C', 'C#', 'D' ...\n",
        " major and minor chord is not considered now.\n",
        " but maybe I can handle with making all class as two type. ex)(major One_rhythm, minor One_rhythm..)\n",
        "\"\"\""
      ],
      "execution_count": null,
      "outputs": [
        {
          "output_type": "stream",
          "text": [
            "/usr/local/lib/python3.6/dist-packages/ipykernel_launcher.py:3: MatplotlibDeprecationWarning: Passing the block parameter of show() positionally is deprecated since Matplotlib 3.1; the parameter will become keyword-only in 3.3.\n",
            "  This is separate from the ipykernel package so we can avoid doing imports until\n"
          ],
          "name": "stderr"
        },
        {
          "output_type": "execute_result",
          "data": {
            "application/vnd.google.colaboratory.intrinsic+json": {
              "type": "string"
            },
            "text/plain": [
              "\"\\ngeneration_info(final_skill, length, chord)\\n\\nfinal_skill should be 0~12. It matches with\\n['One_rhythm' 'continuing_rhythm' 'down_leaping' 'down_steping'\\n 'fast_rhythm' 'leaping_twisting' 'no skills' 'resting' 'staccato'\\n 'steping_twisting' 'triplet' 'up_leaping' 'up_steping'].\\n length is the bar number of song generation.\\n chord should be string, 'C', 'C#', 'D' ...\\n major and minor chord is not considered now.\\n but maybe I can handle with making all class as two type. ex)(major One_rhythm, minor One_rhythm..)\\n\""
            ]
          },
          "metadata": {
            "tags": []
          },
          "execution_count": 147
        }
      ]
    },
    {
      "cell_type": "code",
      "metadata": {
        "id": "yYOmVKrb5vpM",
        "colab_type": "code",
        "colab": {
          "base_uri": "https://localhost:8080/",
          "height": 316
        },
        "outputId": "7ca0bbd1-e315-4171-c8db-9fafd3c867a1"
      },
      "source": [
        "for i in final_list:\n",
        "  print(i)"
      ],
      "execution_count": null,
      "outputs": [
        {
          "output_type": "stream",
          "text": [
            "[[49, 0, 4, 0.5714155], [49, 4, 1, 0.35517976], [47, 16, 4, 1.0], [51, 20, 2, 0.9543307], [44, 22, 1, 0.4080296]]\n",
            "[[46, 7, 2, 0.6156474], [46, 9, 3, 1.0], [44, 14, 1, 0.41354927], [42, 19, 1, 0.5026549]]\n",
            "[[46, 1, 3, 0.8163714], [47, 5, 2, 0.5822666], [44, 10, 2, 1.0]]\n",
            "[[44, 0, 1, 0.5976525], [53, 2, 2, 0.5734921], [56, 4, 2, 0.61242235], [53, 9, 4, 1.0], [56, 15, 3, 0.8033372], [56, 21, 2, 0.79268193]]\n",
            "[[44, 0, 5, 0.605557], [42, 16, 3, 1.0], [42, 19, 2, 0.6466976], [46, 20, 2, 0.8277106], [39, 22, 2, 0.81366235]]\n",
            "[[46, 0, 1, 0.5117729], [56, 2, 1, 0.3416605], [58, 4, 2, 0.6081984], [59, 11, 2, 0.6846538], [58, 15, 2, 0.9654194], [58, 17, 1, 0.8294607], [58, 21, 2, 1.0]]\n",
            "[[44, 0, 4, 1.0], [44, 4, 1, 0.54482114], [42, 15, 5, 0.48892352], [39, 22, 1, 0.7164715]]\n",
            "[[44, 1, 3, 0.81788594], [44, 4, 1, 0.73251766], [44, 7, 1, 0.6534934], [44, 11, 2, 0.73415834], [44, 13, 1, 0.77653486], [44, 18, 3, 1.0]]\n",
            "[[44, 0, 5, 0.58263385], [42, 16, 3, 0.86987835], [42, 19, 2, 1.0], [39, 22, 2, 0.8807981]]\n",
            "[[44, 0, 4, 0.5748337], [44, 4, 1, 0.3639708], [42, 16, 4, 1.0], [46, 20, 2, 0.94693166], [39, 22, 1, 0.40044466]]\n",
            "[[44, 0, 3, 0.5191456], [42, 6, 1, 1.0], [39, 15, 2, 0.5149598], [39, 19, 1, 0.56666875], [39, 22, 1, 0.76203024]]\n",
            "[[44, 0, 2, 0.5682836], [51, 3, 2, 0.7013228], [51, 9, 3, 1.0], [49, 12, 2, 0.77606934], [51, 15, 2, 0.9279891]]\n",
            "[[44, 5, 3, 1.0]]\n",
            "[[34, 0, 3, 0.8147205], [35, 2, 1, 0.57302254], [32, 4, 3, 0.5449147], [32, 7, 2, 0.6466854], [30, 10, 4, 0.7307712], [29, 13, 1, 1.0]]\n",
            "[[44, 1, 3, 1.0], [44, 4, 1, 0.67388123], [44, 7, 1, 0.62165797], [44, 11, 2, 0.70643985], [44, 13, 2, 0.7236907], [44, 15, 3, 0.6936807], [44, 18, 3, 0.92344624]]\n",
            "[[44, 1, 4, 0.890186], [39, 7, 3, 1.0]]\n"
          ],
          "name": "stdout"
        }
      ]
    },
    {
      "cell_type": "code",
      "metadata": {
        "id": "8ZKfyjNENquS",
        "colab_type": "code",
        "colab": {
          "base_uri": "https://localhost:8080/",
          "height": 211
        },
        "outputId": "17fe8495-6c32-4b87-a152-33543bb65afe"
      },
      "source": [
        "pip install midiutil"
      ],
      "execution_count": null,
      "outputs": [
        {
          "output_type": "stream",
          "text": [
            "Collecting midiutil\n",
            "\u001b[?25l  Downloading https://files.pythonhosted.org/packages/f5/44/fde6772d8bfaea64fcf5eb948124d0a5fdf5f848b14ac22a23ced53e562d/MIDIUtil-1.2.1.tar.gz (1.0MB)\n",
            "\u001b[K     |████████████████████████████████| 1.0MB 4.6MB/s \n",
            "\u001b[?25hBuilding wheels for collected packages: midiutil\n",
            "  Building wheel for midiutil (setup.py) ... \u001b[?25l\u001b[?25hdone\n",
            "  Created wheel for midiutil: filename=MIDIUtil-1.2.1-cp36-none-any.whl size=54571 sha256=1f2e875ad9aa8859d2b0698e745cbfbc58f9c98fab87445fd7d5f0500ec45cab\n",
            "  Stored in directory: /root/.cache/pip/wheels/70/f1/24/97bde012f64820632e1e5e2935df19dfbcf9e058b0734b57cd\n",
            "Successfully built midiutil\n",
            "Installing collected packages: midiutil\n",
            "Successfully installed midiutil-1.2.1\n"
          ],
          "name": "stdout"
        }
      ]
    },
    {
      "cell_type": "code",
      "metadata": {
        "id": "ksTjAaAhKyi1",
        "colab_type": "code",
        "colab": {
          "base_uri": "https://localhost:8080/",
          "height": 1000
        },
        "outputId": "14d2cc9b-c8a0-448d-cc3a-719c60b18f47"
      },
      "source": [
        "import midiutil\n",
        "from midiutil.MidiFile import MIDIFile\n",
        "\n",
        "for start_skill in range(12):\n",
        "  for chord in chords:\n",
        "    final_list=generation_info(start_skill,16,chord)\n",
        "    # create your MIDI object\n",
        "    mf = MIDIFile(1)     # only 1 track\n",
        "    track = 0   # the only track\n",
        "\n",
        "    time = 0    # start at the beginning\n",
        "    mf.addTrackName(track, time, \"Sample Track\")\n",
        "    mf.addTempo(track, time, 120)#2초에 1bar\n",
        "\n",
        "    # add some notes\n",
        "    channel = 0\n",
        "    used_time=[]\n",
        "    for i,bars in enumerate(final_list):\n",
        "\n",
        "      for notes in bars:\n",
        "\n",
        "        pitch = notes[0]+12           # C4 (middle C) 48이 C4인 내구현에 비해 여기는 60이 C4이다.\n",
        "        time = notes[1]/6+i*4             # start on beat 0\n",
        "        duration = notes[2]/6         # 1 beat long\n",
        "        volume= int(notes[3]*100)\n",
        "        if (time not in used_time and duration!=0):\n",
        "          mf.addNote(track, channel, pitch, time, duration, volume)\n",
        "          used_time.append(time)\n",
        "    with open(\"/content/drive/My Drive/MARG/PPDDlist/MIDI_result/output\"+mlb.classes_[start_skill]+chord+\".mid\", 'wb') as outf:\n",
        "      mf.writeFile(outf)\n",
        "      print(mlb.classes_[start_skill]+chord+\"  generate done!\")\n",
        "      print('info is \\n',final_list)"
      ],
      "execution_count": null,
      "outputs": [
        {
          "output_type": "stream",
          "text": [
            "/usr/local/lib/python3.6/dist-packages/ipykernel_launcher.py:3: MatplotlibDeprecationWarning: Passing the block parameter of show() positionally is deprecated since Matplotlib 3.1; the parameter will become keyword-only in 3.3.\n",
            "  This is separate from the ipykernel package so we can avoid doing imports until\n"
          ],
          "name": "stderr"
        },
        {
          "output_type": "stream",
          "text": [
            "One_rhythmC  generate done!\n",
            "info is \n",
            " [[[50, 2, 3, 1.0], [48, 16, 3, 0.65839446], [45, 18, 2, 0.967141], [48, 19, 1, 0.358174], [45, 22, 1, 0.7946688]], [[47, 0, 1, 0.7319736], [57, 2, 2, 0.50043195], [59, 4, 2, 0.70166135], [60, 12, 1, 0.51275456], [59, 15, 2, 1.0], [59, 17, 1, 0.80046797], [59, 21, 2, 0.9974014]], [[45, 1, 3, 0.38250235], [35, 5, 2, 0.5008769], [45, 9, 4, 0.4531841], [41, 15, 2, 0.77595], [41, 17, 1, 0.6361284], [47, 21, 3, 1.0]], [[48, 0, 1, 0.6836831], [57, 2, 2, 0.6171493], [60, 4, 2, 0.7594394], [57, 9, 4, 1.0], [60, 15, 3, 0.85179], [60, 21, 2, 0.8994646]], [[48, 1, 4, 1.0], [45, 6, 3, 0.54164517]], [[45, 1, 2, 0.77959174], [43, 2, 1, 0.4492672], [35, 5, 2, 0.64033765], [45, 8, 3, 0.49159214], [41, 15, 2, 0.9422091], [41, 17, 1, 0.7361637], [47, 21, 2, 1.0]], [[45, 0, 4, 0.44380093], [45, 4, 3, 0.39506623], [45, 7, 3, 1.0], [45, 10, 2, 0.37427163]], [[43, 1, 2, 0.6009445], [43, 3, 3, 0.5946518], [40, 7, 2, 1.0]], [[45, 1, 3, 1.0], [45, 4, 2, 0.43660352], [43, 15, 5, 0.9516595], [47, 20, 2, 0.8264385], [40, 22, 1, 0.6082828]], [[45, 0, 3, 0.87302214], [43, 4, 3, 0.8248902], [43, 7, 2, 0.72238225], [41, 10, 4, 0.6387427], [40, 13, 1, 1.0]], [[40, 1, 3, 1.0], [41, 3, 6, 0.6875174], [40, 8, 1, 0.738864]], [[45, 2, 3, 0.6402006], [45, 5, 1, 0.5846536], [47, 9, 2, 1.0], [48, 12, 1, 0.5696402], [48, 21, 2, 0.92387193]], [[45, 0, 4, 0.9173682], [45, 4, 2, 0.46647742], [43, 16, 4, 1.0], [47, 18, 2, 0.64080566], [47, 20, 2, 0.99902934], [40, 22, 1, 0.49775076]], [[48, 1, 2, 0.8303], [43, 5, 2, 0.41543368], [43, 7, 2, 0.8153964], [43, 9, 2, 0.9426809], [48, 13, 1, 0.72723716], [47, 15, 2, 0.82960075], [47, 17, 1, 0.56457937], [47, 21, 2, 1.0]], [[48, 1, 2, 0.84848243], [43, 5, 2, 0.3797699], [43, 7, 2, 0.8444818], [43, 9, 2, 0.8880219], [48, 13, 1, 0.8552115], [47, 15, 2, 0.7607279], [47, 17, 1, 0.7475452], [47, 21, 2, 1.0]], [[47, 7, 2, 0.6179188], [47, 9, 3, 1.0], [45, 14, 1, 0.4105998], [43, 19, 1, 0.49879685]]]\n",
            "One_rhythmC#  generate done!\n",
            "info is \n",
            " [[[51, 0, 5, 0.650081], [49, 16, 3, 1.0], [49, 19, 2, 0.9974983], [53, 20, 2, 0.35125193], [46, 22, 2, 0.9520657]], [[48, 7, 2, 0.67231786], [48, 9, 5, 1.0], [44, 16, 3, 0.36359212], [44, 19, 1, 0.5414979]], [[46, 1, 2, 0.71958846], [44, 2, 1, 0.48908624], [36, 4, 2, 0.5359247], [46, 8, 3, 0.49684224], [42, 16, 2, 0.9476109], [48, 21, 2, 1.0]], [[49, 0, 1, 0.45363134], [61, 4, 2, 0.33606005], [58, 7, 2, 0.90154296], [58, 9, 2, 1.0], [58, 11, 3, 0.8943066], [61, 15, 3, 0.39082786], [54, 16, 2, 0.5058231], [61, 21, 2, 0.513353]], [[46, 0, 2, 0.7234413], [39, 1, 2, 0.6203287], [39, 3, 2, 0.68391716], [34, 8, 3, 1.0]], [[46, 5, 3, 1.0], [49, 7, 3, 0.52984726], [49, 10, 1, 0.36685812]], [[44, 1, 1, 0.39553404], [39, 7, 3, 0.36632574], [39, 10, 4, 0.56441844], [39, 14, 2, 1.0], [41, 21, 2, 0.4855063]], [[46, 5, 3, 1.0], [49, 7, 3, 0.5795393], [49, 10, 1, 0.34258738]], [[46, 2, 3, 0.8694959], [44, 16, 3, 0.9456382], [41, 18, 2, 0.78238803], [44, 19, 2, 1.0], [41, 22, 2, 0.89166826]], [[46, 1, 4, 0.98911315], [44, 7, 2, 1.0], [41, 10, 4, 0.8941549]], [[46, 0, 2, 0.7392459], [39, 1, 2, 0.6219773], [39, 3, 2, 0.7379019], [34, 8, 3, 1.0]], [[44, 1, 1, 0.42619485], [39, 7, 3, 0.43295497], [39, 10, 4, 0.58734673], [39, 14, 2, 1.0], [41, 21, 2, 0.4135357]], [[46, 0, 2, 0.7018442], [39, 1, 2, 0.5619433], [39, 3, 2, 0.6376308], [34, 8, 3, 1.0]], [[42, 1, 4, 1.0], [41, 4, 1, 0.5443544], [37, 7, 2, 0.7083248], [37, 9, 2, 0.6965091]], [[46, 2, 1, 0.35967484], [48, 3, 4, 0.57054144], [48, 7, 2, 1.0], [48, 9, 2, 0.7999039]], [[46, 0, 4, 0.56276673], [46, 4, 1, 0.49999768], [44, 16, 3, 0.8318401], [42, 18, 2, 0.3610338], [44, 19, 2, 1.0], [41, 22, 2, 0.798559]]]\n",
            "One_rhythmD  generate done!\n",
            "info is \n",
            " [[[50, 1, 4, 0.93292344], [49, 4, 2, 0.5688716], [47, 15, 2, 0.7193754], [45, 18, 3, 1.0], [45, 21, 2, 0.8658146]], [[45, 2, 1, 0.35589305], [47, 3, 4, 0.60379916], [47, 7, 2, 1.0], [47, 9, 2, 0.73159415]], [[42, 7, 2, 0.66132784], [42, 9, 3, 1.0], [40, 14, 1, 0.37526613], [38, 19, 1, 0.49024898]], [[45, 2, 1, 0.3466069], [47, 3, 4, 0.49156713], [47, 7, 2, 1.0], [47, 9, 2, 0.83203804]], [[42, 0, 1, 0.53678584], [52, 2, 1, 0.35182974], [54, 4, 2, 0.6055479], [55, 11, 2, 0.6997516], [54, 15, 2, 0.9498065], [54, 17, 1, 0.83510673], [54, 21, 2, 1.0]], [[45, 4, 4, 1.0]], [[45, 0, 1, 0.36600396], [55, 2, 1, 0.38724917], [57, 4, 2, 0.43518516], [57, 15, 2, 1.0], [57, 17, 1, 0.81991845], [57, 21, 2, 0.9191589]], [[47, 7, 2, 0.6530349], [47, 9, 3, 1.0], [45, 14, 1, 0.38457376], [43, 19, 1, 0.49337676]], [[45, 1, 2, 0.95426846], [45, 3, 2, 0.86740583], [45, 7, 1, 0.7459135], [45, 11, 2, 0.8395268], [45, 13, 5, 0.8550844], [45, 18, 3, 1.0]], [[50, 7, 2, 1.0], [50, 9, 2, 0.9382262], [49, 15, 1, 0.4936262], [52, 18, 2, 0.5945789]], [[45, 0, 1, 0.5205429], [55, 2, 1, 0.45658645], [57, 4, 2, 0.4564966], [54, 9, 4, 0.96169704], [57, 15, 3, 1.0], [57, 21, 2, 0.62676746]], [[45, 0, 1, 0.5194899], [54, 2, 2, 0.4890647], [57, 4, 2, 0.40175837], [54, 9, 5, 1.0], [57, 15, 3, 0.7876757], [50, 16, 2, 0.44907904], [57, 21, 2, 0.6092802]], [[45, 2, 3, 0.434857], [49, 7, 3, 1.0]], [[42, 0, 1, 0.5489787], [52, 2, 1, 0.46836278], [54, 4, 2, 0.52359605], [55, 11, 2, 0.5656441], [54, 15, 3, 1.0], [54, 21, 2, 0.82580847]], [[47, 2, 1, 0.34053448], [47, 5, 1, 0.37418905], [49, 7, 2, 0.97542614], [49, 9, 2, 1.0], [50, 12, 1, 0.40268916], [50, 21, 2, 0.82485306]], [[45, 1, 4, 1.0], [43, 4, 3, 0.6706454], [43, 7, 1, 0.5794746], [40, 10, 2, 0.8103464]]]\n",
            "One_rhythmD#  generate done!\n",
            "info is \n",
            " [[[48, 0, 3, 0.44761628], [46, 6, 1, 1.0], [46, 16, 1, 0.7952366], [43, 18, 3, 0.7808237], [43, 21, 2, 0.6943117]], [[46, 0, 1, 0.4621111], [55, 7, 2, 0.9621743], [55, 9, 2, 1.0], [55, 11, 2, 0.84741455], [51, 16, 3, 0.5718842], [51, 19, 1, 0.3817307], [58, 21, 2, 0.44471014]], [[46, 0, 1, 0.36840275], [55, 9, 2, 1.0], [55, 11, 3, 0.7409589], [51, 16, 3, 0.5202874], [51, 19, 1, 0.58750767]], [[43, 1, 3, 1.0], [44, 3, 3, 0.71479565], [44, 6, 3, 0.6531143]], [[43, 7, 2, 0.6600552], [43, 9, 4, 1.0], [41, 13, 2, 0.3653443], [39, 16, 3, 0.35472596], [39, 19, 1, 0.5435729]], [[46, 0, 1, 0.488091], [55, 2, 2, 0.45506582], [58, 4, 2, 0.3730522], [55, 9, 5, 1.0], [58, 15, 3, 0.7362568], [51, 16, 2, 0.45586085], [58, 21, 2, 0.55158913]], [[43, 1, 2, 0.7359455], [41, 6, 1, 1.0], [38, 18, 2, 0.6043129], [38, 21, 2, 0.66515315]], [[48, 1, 2, 0.7318598], [46, 2, 1, 0.4505786], [38, 4, 2, 0.5048755], [48, 8, 3, 0.49748093], [44, 16, 2, 0.9270402], [50, 21, 2, 1.0]], [[44, 0, 1, 0.7465925], [53, 2, 1, 0.5423678], [56, 4, 2, 0.73709613], [53, 9, 5, 0.7592581], [56, 15, 3, 1.0], [56, 21, 2, 0.9900025]], [[43, 5, 3, 1.0]], [[43, 0, 3, 0.8607194], [41, 4, 3, 0.5798935], [41, 7, 2, 0.6636478], [39, 10, 4, 0.7703311], [38, 13, 1, 1.0]], [[43, 1, 2, 0.35545695], [38, 14, 2, 1.0]], [[44, 0, 4, 1.0], [44, 4, 1, 0.5077317], [41, 15, 2, 0.5261537], [39, 18, 2, 0.40916732], [39, 22, 1, 0.6837647]], [[43, 1, 3, 1.0], [44, 3, 5, 0.92608756], [44, 8, 1, 0.7911156]], [[41, 0, 1, 0.40693772], [50, 9, 2, 1.0], [50, 11, 2, 0.79630893], [46, 16, 3, 0.5226542], [46, 19, 1, 0.48315087]], [[43, 0, 3, 0.5950764], [41, 6, 1, 1.0], [38, 16, 1, 0.6385126], [38, 19, 3, 0.68422234], [38, 22, 1, 0.8829736]]]\n",
            "One_rhythmE  generate done!\n",
            "info is \n",
            " [[[49, 0, 5, 0.62262833], [47, 16, 3, 1.0], [47, 19, 2, 0.91991085], [51, 20, 2, 0.41448972], [44, 22, 2, 0.89845437]], [[44, 0, 1, 0.6694149], [54, 2, 1, 0.4140607], [56, 4, 2, 0.6065508], [54, 10, 1, 0.4085963], [57, 11, 2, 0.5306072], [56, 15, 2, 0.96630055], [56, 17, 1, 0.80401313], [56, 21, 2, 1.0]], [[45, 1, 2, 0.9178074], [40, 5, 2, 0.47992733], [40, 9, 2, 0.88647574], [45, 13, 2, 1.0], [44, 15, 2, 0.88179743], [40, 16, 1, 0.61995614], [44, 17, 1, 0.8252504], [44, 21, 2, 0.8348107]], [[44, 0, 3, 0.48424685], [42, 6, 1, 1.0], [39, 15, 2, 0.78709745], [39, 18, 4, 0.7345702], [39, 22, 1, 0.70131797]], [[44, 1, 4, 0.88711065], [39, 7, 3, 1.0]], [[44, 2, 2, 0.7327747], [44, 4, 6, 0.7712804], [44, 10, 2, 1.0]], [[42, 2, 1, 0.36073238], [44, 3, 4, 0.51473814], [44, 7, 2, 1.0], [44, 9, 2, 0.8141889]], [[42, 2, 4, 0.78262436], [40, 15, 3, 0.6250746], [44, 18, 2, 0.7749454], [44, 20, 2, 1.0]], [[49, 2, 1, 0.34851387], [49, 5, 1, 0.39266312], [51, 7, 2, 0.9508653], [51, 9, 2, 1.0], [52, 12, 1, 0.4296565], [52, 21, 2, 0.8350096]], [[45, 2, 1, 0.34143803], [47, 3, 4, 0.6542449], [47, 7, 2, 1.0], [47, 9, 2, 0.65390575]], [[44, 0, 1, 0.3519577], [54, 2, 1, 0.38826656], [56, 4, 2, 0.4856141], [56, 15, 3, 1.0], [56, 21, 2, 0.9056944]], [[45, 3, 2, 0.49485278], [47, 7, 2, 0.37530276], [42, 19, 1, 0.5270426]], [[44, 0, 5, 0.63799006], [42, 16, 3, 0.96851283], [42, 19, 2, 1.0], [39, 22, 2, 0.9268134]], [[44, 4, 5, 1.0]], [[44, 0, 4, 0.43775696], [44, 4, 3, 0.3396847], [44, 7, 2, 1.0]], [[44, 0, 1, 0.44998413], [54, 2, 1, 0.34453917], [56, 4, 2, 0.59109], [57, 11, 2, 0.5594312], [56, 15, 2, 1.0], [56, 17, 1, 0.7120987], [56, 21, 2, 0.8003758]]]\n",
            "One_rhythmF  generate done!\n",
            "info is \n",
            " [[[48, 0, 3, 0.48951828], [46, 6, 1, 1.0], [43, 15, 2, 0.7628013], [43, 18, 4, 0.73925054], [43, 22, 1, 0.72320086]], [[43, 0, 1, 0.6038671], [52, 2, 2, 0.5731693], [55, 4, 2, 0.63282824], [52, 9, 4, 1.0], [55, 15, 3, 0.80599403], [55, 21, 2, 0.80910885]], [[45, 1, 3, 1.0], [46, 3, 5, 0.9501924], [46, 8, 1, 0.85148835]], [[40, 0, 1, 0.41445056], [52, 4, 2, 0.5713367], [53, 11, 2, 0.59610564], [52, 15, 2, 1.0], [52, 17, 1, 0.7323535], [52, 21, 2, 0.8444145]], [[50, 1, 2, 0.8075778], [48, 2, 1, 0.4933841], [40, 5, 2, 0.66308415], [50, 8, 3, 0.49325716], [46, 15, 2, 0.97144645], [46, 17, 1, 0.7345855], [52, 21, 2, 1.0]], [[46, 7, 2, 0.63529515], [45, 9, 3, 1.0], [43, 14, 1, 0.47089648], [41, 16, 3, 0.41355026], [41, 19, 1, 0.5252957]], [[45, 1, 3, 1.0], [46, 5, 4, 0.7101982], [45, 8, 1, 0.6241252], [43, 10, 2, 0.87097317]], [[40, 1, 3, 0.60668635], [41, 3, 4, 0.40828818], [38, 8, 2, 0.6864138], [38, 10, 2, 1.0]], [[43, 1, 4, 1.0], [40, 6, 3, 0.499444]], [[40, 1, 4, 0.734992], [41, 4, 2, 0.6921698], [38, 7, 3, 1.0], [38, 10, 2, 0.69723696]], [[36, 1, 3, 0.5907847], [36, 4, 1, 0.34053078], [34, 7, 2, 0.5716661], [31, 9, 2, 0.64248985], [36, 13, 3, 1.0], [46, 15, 2, 0.43138653], [43, 16, 1, 0.73120505], [46, 17, 1, 0.6615246], [52, 21, 2, 0.72675085]], [[45, 1, 4, 0.7946416], [46, 4, 2, 0.7556158], [43, 7, 3, 1.0], [43, 10, 2, 0.8987421]], [[40, 1, 4, 0.81061643], [41, 4, 2, 0.75495565], [38, 7, 3, 1.0], [38, 10, 2, 0.9228094]], [[40, 1, 3, 1.0], [41, 3, 3, 0.6821549], [41, 6, 3, 0.7197477]], [[38, 1, 2, 0.7398839], [36, 2, 1, 0.48377943], [28, 5, 2, 0.5820438], [38, 8, 2, 0.4776003], [34, 15, 3, 1.0], [40, 21, 2, 0.98073053]], [[43, 1, 3, 1.0], [43, 4, 1, 0.95057446], [43, 7, 1, 0.85668784], [43, 13, 1, 0.9606828], [43, 18, 2, 0.65967995]]]\n",
            "One_rhythmF#  generate done!\n",
            "info is \n",
            " [[[49, 0, 4, 0.56168807], [49, 4, 1, 0.3605173], [47, 16, 4, 1.0], [51, 20, 2, 0.9499187], [44, 22, 1, 0.41680685]], [[46, 7, 2, 0.65885603], [46, 9, 4, 1.0], [44, 14, 1, 0.34760055], [42, 19, 1, 0.4995177]], [[46, 7, 2, 0.65792555], [46, 9, 3, 1.0], [44, 14, 1, 0.36642593], [42, 19, 1, 0.4901937]], [[44, 2, 3, 0.48823583], [44, 5, 1, 0.53996307], [46, 10, 1, 1.0], [47, 12, 1, 0.7246764], [47, 21, 2, 0.8724329]], [[47, 7, 2, 0.65303856], [46, 9, 4, 1.0], [44, 13, 2, 0.549009], [42, 16, 3, 0.44003707], [42, 19, 1, 0.5297977]], [[44, 0, 4, 0.6964329], [44, 4, 1, 0.6388401], [44, 7, 3, 1.0], [39, 8, 2, 0.609504], [44, 10, 4, 0.6467356]], [[44, 0, 1, 0.5616454], [53, 2, 2, 0.54428524], [56, 4, 2, 0.49068713], [53, 9, 5, 1.0], [56, 15, 3, 0.7778151], [49, 16, 2, 0.3796338], [56, 21, 2, 0.7280535]], [[44, 5, 3, 1.0], [47, 7, 3, 0.5327873], [47, 10, 1, 0.3581941]], [[41, 3, 2, 0.75437266], [41, 9, 3, 1.0], [39, 12, 1, 0.7872428], [37, 17, 1, 0.82207435]], [[44, 1, 4, 1.0], [39, 7, 2, 0.8656351], [39, 9, 2, 0.68781996]], [[42, 1, 2, 0.9695266], [37, 5, 2, 0.40053457], [37, 7, 2, 0.7025592], [37, 9, 2, 0.80831033], [42, 13, 2, 0.8080574], [41, 15, 2, 0.6972592], [41, 17, 2, 0.6866469], [41, 21, 2, 1.0]], [[44, 1, 2, 0.585547], [39, 14, 2, 1.0], [41, 21, 2, 0.46452639]], [[44, 1, 1, 0.39396057], [39, 7, 3, 0.37624404], [39, 10, 4, 0.5660938], [39, 14, 2, 1.0], [41, 21, 2, 0.4460225]], [[49, 1, 3, 0.5927755], [49, 4, 1, 0.34593874], [47, 7, 2, 0.57943815], [44, 9, 2, 0.64055884], [49, 13, 3, 1.0], [59, 15, 2, 0.42808473], [56, 16, 1, 0.7342786], [59, 17, 1, 0.6572399], [65, 21, 2, 0.7127467]], [[47, 7, 2, 1.0], [47, 9, 2, 0.9383918], [46, 15, 1, 0.49877176], [49, 18, 2, 0.59002453]], [[44, 1, 2, 0.5403272], [42, 6, 1, 1.0], [42, 16, 1, 0.8657572], [39, 18, 3, 0.89417994], [39, 21, 2, 0.8126122]]]\n",
            "One_rhythmG  generate done!\n",
            "info is \n",
            " [[[50, 0, 5, 0.64430434], [48, 16, 3, 1.0], [48, 19, 2, 0.92602766], [52, 20, 2, 0.41600627], [45, 22, 2, 0.90609235]], [[45, 2, 2, 0.88096744], [45, 4, 6, 0.88358384], [45, 10, 2, 1.0]], [[43, 3, 2, 0.8952436], [45, 7, 2, 0.6717517], [42, 14, 1, 0.49675378], [40, 16, 3, 0.4379418], [40, 19, 1, 0.54008216]], [[47, 0, 1, 0.45564628], [57, 2, 1, 0.45455983], [59, 4, 2, 0.696744], [60, 11, 2, 0.4677417], [59, 15, 3, 1.0], [59, 21, 2, 0.95418084]], [[45, 0, 4, 1.0], [45, 4, 2, 0.48318872], [43, 15, 4, 0.6262214], [43, 19, 1, 0.3415021], [40, 22, 1, 0.68511057]], [[45, 0, 1, 0.33616465], [55, 2, 1, 0.39309728], [57, 4, 2, 0.5867241], [57, 15, 3, 1.0], [57, 21, 2, 0.9003855]], [[45, 2, 1, 0.35276964], [47, 3, 4, 0.50852], [47, 7, 2, 1.0], [47, 9, 2, 0.84564394]], [[45, 1, 4, 1.0], [42, 6, 3, 0.687848]], [[45, 2, 2, 0.74109983], [45, 4, 2, 0.64802235], [47, 10, 1, 1.0], [48, 12, 1, 0.54125696], [48, 21, 2, 0.99984986]], [[48, 1, 2, 0.82477415], [43, 5, 2, 0.47295597], [43, 9, 2, 0.9046614], [48, 13, 3, 1.0], [47, 15, 2, 0.6362305], [43, 16, 1, 0.8899158], [47, 17, 2, 0.7755448], [47, 21, 2, 0.6584471]], [[47, 1, 1, 1.0], [50, 4, 1, 0.40040177], [47, 7, 1, 0.92350453], [47, 18, 3, 0.97283924], [48, 20, 3, 0.72530764]], [[50, 1, 4, 0.36251113], [52, 2, 4, 0.3733771], [64, 9, 2, 0.37679446], [62, 13, 1, 0.55770034], [60, 15, 2, 0.7158414], [60, 17, 1, 0.7125812], [66, 21, 3, 1.0]], [[45, 2, 1, 0.35519922], [47, 3, 4, 0.502268], [47, 7, 2, 1.0], [47, 9, 2, 0.8152301]], [[40, 1, 2, 0.71672714], [38, 2, 1, 0.48448595], [30, 5, 1, 0.53182936], [40, 8, 2, 0.48753163], [36, 15, 3, 0.9874791], [42, 21, 2, 1.0]], [[45, 1, 3, 1.0], [43, 6, 1, 0.5907837], [43, 16, 1, 0.43484324], [40, 18, 2, 0.59430677], [40, 22, 1, 0.66481775]], [[47, 1, 4, 0.7848385], [48, 4, 2, 0.7533233], [45, 7, 3, 1.0], [45, 10, 2, 0.86910874]]]\n",
            "One_rhythmG#  generate done!\n",
            "info is \n",
            " [[[48, 1, 2, 0.6116605], [46, 6, 1, 1.0], [46, 16, 1, 0.78084683], [43, 18, 3, 0.9336812], [43, 21, 2, 0.8547994]], [[44, 1, 4, 1.0], [41, 6, 3, 0.5141399]], [[43, 2, 2, 1.0], [43, 4, 4, 0.9174241], [43, 8, 2, 0.97233915], [43, 10, 3, 0.9410184], [44, 15, 1, 0.7560272]], [[44, 1, 2, 0.84594357], [39, 5, 2, 0.41347015], [39, 7, 2, 0.8397489], [39, 9, 2, 0.95092624], [44, 13, 1, 0.7205296], [43, 15, 2, 0.85517114], [43, 17, 1, 0.5915758], [43, 21, 2, 1.0]], [[46, 0, 1, 0.34727782], [53, 3, 2, 0.85921365], [53, 9, 3, 1.0], [51, 12, 1, 0.7194227], [49, 17, 1, 0.57526875]], [[43, 2, 2, 0.7334482], [43, 4, 2, 0.6594759], [46, 12, 1, 0.5169194], [44, 15, 1, 0.83130205], [46, 21, 2, 1.0]], [[44, 1, 3, 0.83773386], [44, 4, 2, 0.52862823], [46, 6, 1, 0.34202167], [39, 7, 3, 1.0], [39, 10, 4, 0.9895078], [39, 14, 2, 0.83396816]], [[39, 1, 3, 0.47215962], [41, 3, 3, 0.3608443], [39, 4, 1, 0.4166809], [41, 9, 2, 0.34372836], [39, 13, 3, 0.9647739], [49, 15, 2, 0.60421026], [46, 16, 1, 0.39123678], [49, 17, 1, 0.75121707], [55, 21, 3, 1.0]], [[43, 2, 2, 0.8720305], [43, 4, 6, 0.8840118], [43, 10, 2, 1.0]], [[41, 1, 2, 0.60603726], [39, 6, 1, 1.0], [39, 16, 1, 0.8375827], [36, 18, 3, 0.9630914], [36, 21, 2, 0.88079363]], [[46, 0, 4, 0.5348088], [46, 4, 1, 0.48444894], [44, 16, 2, 0.8292821], [48, 18, 2, 0.71015096], [48, 20, 2, 1.0]], [[53, 1, 2, 0.8429491], [51, 2, 1, 0.4512862], [43, 5, 2, 0.6634826], [53, 8, 3, 0.49548817], [49, 15, 2, 0.9466735], [49, 17, 1, 0.7461004], [55, 21, 2, 1.0]], [[43, 3, 4, 0.4757598], [43, 7, 2, 1.0], [43, 9, 2, 0.8690148]], [[43, 2, 2, 0.8217414], [43, 4, 6, 0.84276545], [43, 10, 2, 1.0]], [[39, 0, 1, 0.4071166], [48, 9, 4, 1.0], [51, 15, 2, 0.43580624]], [[44, 2, 3, 1.0], [43, 4, 2, 0.4920359], [41, 15, 2, 0.70490026], [39, 18, 3, 0.9783297], [39, 21, 2, 0.81836647]]]\n",
            "One_rhythmA  generate done!\n",
            "info is \n",
            " [[[49, 2, 3, 1.0], [47, 16, 3, 0.7295103], [44, 18, 2, 0.99940443], [47, 19, 2, 0.48464236], [44, 22, 2, 0.8728914]], [[45, 0, 1, 0.58511263], [54, 2, 2, 0.56420815], [57, 4, 2, 0.56347024], [54, 9, 4, 1.0], [57, 15, 3, 0.80700517], [57, 21, 2, 0.77386785]], [[44, 0, 1, 0.34298217], [54, 2, 1, 0.39388216], [56, 4, 2, 0.49813122], [56, 15, 3, 1.0], [56, 21, 2, 0.89772713]], [[49, 7, 2, 0.6531704], [49, 9, 4, 1.0], [47, 13, 2, 0.36965376], [45, 16, 3, 0.35262486], [45, 19, 1, 0.54536706]], [[45, 1, 3, 1.0], [45, 4, 2, 0.60915315], [40, 7, 3, 0.9102506], [40, 10, 2, 0.77417517]], [[40, 0, 1, 0.39864478], [49, 9, 2, 1.0], [49, 11, 2, 0.7731918], [45, 16, 3, 0.52534133], [45, 19, 1, 0.5566289]], [[45, 2, 1, 0.3557929], [47, 3, 4, 0.634701], [47, 7, 2, 1.0], [47, 9, 2, 0.6965145]], [[40, 0, 1, 0.5216768], [49, 2, 2, 0.49281806], [52, 4, 2, 0.4043177], [49, 9, 5, 1.0], [52, 15, 3, 0.7927222], [45, 16, 2, 0.45402563], [52, 21, 2, 0.6087808]], [[47, 0, 4, 0.5495575], [47, 4, 1, 0.4355981], [45, 16, 2, 0.8383158], [49, 18, 2, 0.7100912], [49, 20, 2, 1.0]], [[45, 1, 3, 1.0], [45, 4, 1, 0.3444579], [40, 7, 2, 0.8198959], [40, 9, 2, 0.6900027]], [[44, 1, 3, 1.0], [45, 3, 5, 0.8048443], [45, 8, 1, 0.6895735]], [[44, 2, 1, 0.46402693], [44, 5, 1, 0.52993155], [47, 12, 2, 0.76268506], [45, 15, 1, 0.7232445], [47, 21, 2, 0.8599462]], [[44, 5, 3, 1.0]], [[40, 0, 3, 0.34597838], [44, 3, 2, 0.34884897], [44, 5, 2, 0.49372843], [47, 7, 1, 0.5526321], [35, 14, 2, 1.0]], [[42, 0, 3, 0.7566219], [40, 4, 3, 0.57953066], [40, 7, 2, 0.70748156], [37, 10, 3, 0.82571214], [37, 13, 1, 1.0]], [[44, 4, 1, 0.58770216], [45, 7, 2, 0.72616434], [45, 9, 5, 1.0], [44, 12, 3, 0.61095005]]]\n",
            "One_rhythmA#  generate done!\n",
            "info is \n",
            " [[[48, 0, 2, 0.6435191], [46, 6, 1, 1.0], [43, 15, 2, 0.7154526], [43, 19, 3, 0.6965495], [43, 22, 1, 0.9388203]], [[45, 0, 1, 0.5725355], [55, 2, 1, 0.3568567], [57, 4, 2, 0.6017054], [58, 11, 2, 0.6872821], [57, 15, 2, 0.9306006], [57, 17, 1, 0.8121479], [57, 21, 2, 1.0]], [[46, 6, 3, 0.6262172], [45, 9, 3, 1.0], [43, 14, 1, 0.46054193], [41, 16, 3, 0.4051065], [41, 19, 1, 0.52631104]], [[43, 0, 3, 0.42099842], [41, 6, 1, 1.0], [38, 15, 2, 0.48920047], [38, 18, 2, 0.51004875], [38, 22, 1, 0.6222487]], [[43, 2, 1, 0.3555959], [45, 3, 4, 0.5739452], [45, 7, 2, 1.0], [45, 9, 2, 0.76649535]], [[41, 2, 2, 0.4711602], [45, 7, 2, 1.0]], [[41, 0, 3, 0.33512843], [45, 5, 2, 1.0], [48, 7, 1, 0.79915166]], [[43, 0, 2, 0.9827738], [50, 3, 2, 0.7909616], [50, 9, 6, 1.0], [48, 12, 2, 0.83220667], [50, 15, 2, 0.5222101], [48, 18, 1, 0.65639144]], [[45, 1, 3, 1.0], [46, 3, 5, 0.77431583], [46, 8, 1, 0.63812274]], [[43, 2, 2, 0.73811257], [43, 4, 6, 0.7760076], [43, 10, 2, 1.0]], [[38, 0, 1, 0.53563386], [48, 2, 1, 0.46055463], [50, 4, 2, 0.68161494], [51, 11, 2, 0.6576981], [50, 15, 3, 1.0], [50, 21, 2, 0.9179956]], [[43, 0, 2, 0.4820444], [43, 2, 3, 0.5753554], [41, 15, 2, 0.4021795], [45, 18, 4, 1.0]], [[45, 1, 3, 1.0], [45, 4, 1, 0.60783255], [45, 7, 1, 0.6498264], [45, 13, 2, 0.55521214], [45, 15, 3, 0.6969737], [45, 18, 3, 0.84346265], [46, 21, 2, 0.55616784]], [[43, 1, 2, 0.6118075], [33, 5, 2, 0.6396611], [43, 8, 2, 0.39463922], [39, 15, 2, 0.8829253], [39, 17, 1, 0.75352734], [45, 21, 2, 1.0]], [[43, 0, 2, 0.6471202], [50, 3, 2, 0.7423341], [50, 9, 4, 1.0], [48, 12, 2, 0.7786963], [50, 15, 2, 0.93721634], [48, 18, 1, 0.36687255]], [[45, 0, 1, 0.5518447], [55, 2, 1, 0.46383572], [57, 4, 2, 0.53617704], [58, 11, 2, 0.5911255], [57, 15, 3, 1.0], [57, 21, 2, 0.8487947]]]\n",
            "One_rhythmB  generate done!\n",
            "info is \n",
            " [[[49, 0, 4, 0.57352066], [49, 4, 1, 0.34667167], [47, 16, 3, 1.0], [47, 19, 1, 0.4631541], [51, 20, 2, 0.983217], [44, 22, 2, 0.67075545]], [[46, 0, 1, 0.40792587], [58, 4, 2, 0.56459326], [59, 11, 2, 0.5950264], [58, 15, 2, 1.0], [58, 17, 1, 0.7682986], [58, 21, 2, 0.88065976]], [[44, 0, 5, 0.93079567], [42, 7, 2, 0.98415035], [39, 10, 3, 1.0], [39, 13, 1, 0.9288391]], [[44, 0, 4, 0.46315458], [44, 4, 3, 0.35124168], [44, 7, 2, 1.0]], [[42, 0, 1, 0.43594697], [51, 2, 2, 0.3438392], [54, 4, 2, 0.334307], [51, 7, 2, 0.73922724], [51, 9, 2, 1.0], [51, 11, 3, 0.86617297], [54, 15, 3, 0.49182764], [47, 16, 2, 0.4725146], [54, 21, 2, 0.5019831]], [[44, 2, 2, 0.91797435], [44, 4, 6, 0.89174414], [44, 10, 2, 1.0]], [[44, 2, 1, 0.3568406], [46, 3, 4, 0.6148347], [46, 7, 2, 1.0], [46, 9, 2, 0.7357082]], [[42, 1, 2, 0.5289688], [46, 3, 2, 0.38715363], [37, 14, 2, 1.0], [39, 21, 2, 0.34198594]], [[44, 2, 4, 0.73399687], [42, 16, 2, 0.6397811], [46, 18, 2, 0.7140415], [46, 20, 2, 1.0]], [[44, 2, 1, 0.34404555], [44, 5, 1, 0.38246024], [46, 7, 2, 0.9793031], [46, 9, 2, 1.0], [47, 12, 1, 0.377627], [47, 21, 2, 0.83186257]], [[44, 1, 3, 0.39207664], [34, 5, 2, 0.51491517], [44, 9, 4, 0.45165932], [40, 15, 2, 0.7656314], [40, 17, 1, 0.6399897], [46, 21, 3, 1.0]], [[44, 2, 2, 0.64101905], [44, 4, 4, 0.65213937], [44, 8, 3, 0.49169722], [46, 10, 1, 0.54489696], [47, 21, 2, 0.8951117]], [[44, 0, 4, 0.4944291], [44, 4, 3, 0.5036065], [44, 7, 3, 1.0], [44, 10, 2, 0.501014]], [[44, 0, 2, 0.84834224], [37, 4, 1, 0.61823153], [37, 7, 5, 0.58881205], [32, 8, 2, 1.0]], [[42, 0, 1, 0.7509658], [51, 2, 1, 0.533263], [54, 4, 2, 0.7239871], [51, 9, 5, 0.74015194], [54, 15, 3, 1.0], [54, 21, 2, 0.9922746]], [[46, 1, 3, 0.80206096], [47, 5, 2, 0.5656152], [44, 10, 2, 1.0]]]\n",
            "continuing_rhythmC  generate done!\n",
            "info is \n",
            " [[[57, 2, 4, 0.3732162], [47, 5, 2, 0.45688665], [57, 9, 4, 0.4436268], [53, 15, 2, 0.7636403], [53, 17, 1, 0.6243749], [59, 21, 3, 1.0]], [[60, 0, 1, 0.5501583], [69, 2, 2, 0.5261586], [72, 4, 2, 0.45081457], [69, 9, 5, 1.0], [72, 15, 3, 0.8025141], [65, 16, 2, 0.4229338], [72, 21, 2, 0.68846995]], [[64, 7, 2, 0.6486933], [64, 9, 3, 1.0], [62, 14, 1, 0.4010943], [60, 19, 1, 0.49786425]], [[59, 0, 1, 0.42440733], [71, 4, 2, 0.5668845], [72, 11, 2, 0.60316277], [71, 15, 2, 1.0], [71, 17, 1, 0.7896022], [71, 21, 2, 0.92375195]], [[59, 1, 3, 1.0], [60, 5, 4, 0.66641086], [59, 8, 2, 0.98507285]], [[59, 0, 1, 0.54062927], [55, 3, 2, 0.49363235], [52, 19, 1, 0.553021]], [[59, 1, 3, 0.8362394], [60, 5, 2, 0.5915321], [57, 10, 2, 1.0]], [[57, 0, 2, 0.9490972], [64, 3, 2, 0.4924712], [57, 4, 3, 0.42710105], [57, 7, 1, 0.6055918], [59, 8, 2, 0.37943476], [50, 9, 4, 1.0], [52, 10, 7, 0.8318324], [52, 11, 2, 0.55134135], [62, 13, 2, 0.5847488], [65, 16, 2, 0.34779993], [62, 18, 1, 0.59107536]], [[59, 0, 2, 0.7724812], [52, 3, 2, 0.525519], [52, 7, 1, 0.34674636], [47, 8, 3, 1.0]], [[53, 1, 4, 1.0], [52, 4, 1, 0.53882325], [48, 7, 2, 0.7008847], [48, 9, 2, 0.6845096]], [[57, 1, 2, 0.46428767], [55, 6, 1, 1.0], [52, 15, 2, 0.3784998], [52, 18, 2, 0.51037985], [52, 22, 1, 0.5777354]], [[60, 1, 2, 0.9664269], [60, 3, 2, 0.8028932], [57, 6, 3, 1.0]], [[57, 0, 2, 0.62991005], [57, 7, 1, 0.5550822], [50, 9, 3, 0.50518185], [52, 11, 3, 1.0], [60, 20, 1, 0.6279745]], [[60, 0, 1, 0.42645934], [69, 7, 2, 0.9050079], [69, 9, 2, 1.0], [69, 11, 2, 0.7955855], [65, 16, 3, 0.5490979], [65, 19, 1, 0.48067254]], [[62, 0, 3, 0.41169026], [60, 6, 1, 1.0], [57, 15, 2, 0.6366576], [57, 18, 3, 0.73621196], [57, 21, 2, 0.6435348]], [[64, 7, 2, 0.809105], [64, 9, 5, 1.0], [60, 16, 3, 0.46131063], [60, 19, 1, 0.5469656]]]\n",
            "continuing_rhythmC#  generate done!\n",
            "info is \n",
            " [[[56, 1, 2, 0.5633313], [51, 5, 4, 0.3568242], [54, 7, 2, 0.58910304], [51, 9, 2, 0.68407017], [56, 13, 2, 1.0], [66, 15, 2, 0.41347513], [63, 16, 1, 0.88336796], [66, 17, 1, 0.601949], [72, 21, 2, 0.63855803]], [[73, 0, 1, 0.5672581], [82, 2, 2, 0.54320073], [85, 4, 2, 0.4974703], [82, 9, 5, 1.0], [85, 15, 3, 0.8015091], [78, 16, 2, 0.39868677], [85, 21, 2, 0.7288679]], [[73, 3, 2, 0.88359916], [75, 7, 2, 0.659924], [72, 14, 1, 0.48029023], [70, 16, 3, 0.42720762], [70, 19, 1, 0.5377418]], [[72, 1, 3, 1.0], [73, 5, 4, 0.64590245], [72, 8, 2, 0.88964134], [70, 10, 2, 0.4126217]], [[70, 0, 4, 0.55333525], [70, 4, 1, 0.34558505], [68, 16, 4, 1.0], [72, 20, 2, 0.9533207], [65, 22, 1, 0.4515809]], [[73, 1, 4, 0.8763692], [72, 4, 1, 1.0], [68, 7, 2, 0.89201844], [68, 9, 2, 0.7176859]], [[72, 1, 1, 1.0], [75, 4, 1, 0.41402867], [72, 6, 2, 0.9556184], [72, 18, 3, 0.92862624], [73, 20, 3, 0.5549322]], [[72, 2, 2, 1.0], [72, 4, 4, 0.92388666], [72, 8, 2, 0.9696051], [72, 10, 2, 0.9809834], [73, 15, 1, 0.49292666]], [[72, 1, 3, 0.66914517], [73, 4, 2, 0.55205345], [70, 7, 3, 1.0], [70, 10, 2, 0.4575923]], [[72, 3, 2, 0.70899016], [66, 6, 1, 0.33647928], [72, 9, 3, 1.0], [70, 12, 1, 0.83116764], [68, 17, 1, 0.9398894]], [[73, 3, 2, 0.4320939], [75, 7, 2, 0.4596992], [70, 16, 3, 0.39633363], [70, 19, 1, 0.54438645]], [[75, 0, 4, 0.5742046], [75, 4, 1, 0.3386156], [73, 16, 3, 0.99647987], [73, 19, 1, 0.46373722], [77, 20, 2, 1.0], [70, 22, 2, 0.6785491]], [[73, 2, 1, 0.38772726], [75, 3, 4, 0.7673344], [75, 7, 1, 1.0]], [[72, 7, 2, 0.6415457], [72, 9, 3, 1.0], [70, 14, 1, 0.39888018], [68, 19, 1, 0.49049076]], [[72, 5, 2, 1.0], [75, 7, 1, 0.4370419]], [[70, 0, 1, 0.5956129], [70, 4, 1, 0.5042434], [70, 7, 1, 0.72049594], [63, 9, 3, 0.53975457], [65, 11, 3, 1.0], [70, 15, 6, 0.6582755], [73, 20, 1, 0.54219455]]]\n",
            "continuing_rhythmD  generate done!\n",
            "info is \n",
            " [[[57, 1, 3, 0.57807165], [57, 4, 1, 0.3664281], [55, 7, 2, 0.54237145], [52, 9, 2, 0.6042807], [57, 13, 3, 1.0], [67, 15, 2, 0.46998936], [64, 16, 1, 0.63006794], [67, 17, 1, 0.6946295], [73, 21, 2, 0.81257313]], [[74, 4, 1, 0.589415], [74, 12, 3, 0.5906439], [71, 16, 3, 0.39240164], [71, 19, 1, 0.5227405]], [[73, 2, 2, 0.6345761], [73, 4, 4, 0.65262187], [73, 8, 3, 0.5029177], [74, 15, 1, 1.0], [76, 21, 2, 0.87785596]], [[78, 7, 2, 0.5994613], [78, 9, 3, 1.0], [76, 14, 1, 0.42248002], [74, 16, 3, 0.33503607], [74, 19, 1, 0.50357294]], [[73, 1, 3, 0.60824424], [74, 4, 2, 0.517894], [71, 8, 2, 0.6773481], [71, 10, 2, 1.0]], [[73, 1, 3, 0.66609806], [74, 4, 2, 0.59104365], [71, 7, 3, 0.73832655], [71, 10, 2, 1.0]], [[73, 0, 1, 0.48650208], [83, 2, 1, 0.45799303], [85, 4, 2, 0.692781], [86, 11, 2, 0.54634786], [85, 15, 3, 1.0], [85, 21, 2, 0.9500842]], [[73, 1, 3, 1.0], [73, 4, 1, 0.97214216], [73, 7, 1, 0.8537929], [73, 11, 2, 0.88554883]], [[71, 2, 4, 0.8456644], [69, 15, 3, 0.6133591], [73, 18, 2, 0.76088816], [73, 20, 2, 1.0]], [[74, 1, 2, 0.51864713], [78, 3, 2, 0.35827962], [69, 14, 2, 1.0], [71, 21, 2, 0.33978692]], [[74, 0, 4, 0.6597282], [74, 4, 1, 0.3874942], [73, 18, 3, 0.33688387], [76, 20, 2, 1.0]], [[74, 3, 2, 0.51954615], [76, 7, 2, 0.60614014], [71, 16, 3, 0.5672362], [71, 19, 1, 0.58704]], [[83, 0, 2, 0.99108344], [90, 3, 2, 0.4478537], [83, 4, 3, 0.49343857], [83, 7, 1, 0.7106178], [85, 8, 2, 0.45097548], [76, 9, 4, 1.0], [78, 10, 4, 0.814118], [78, 11, 2, 0.7080024], [88, 13, 2, 0.6589993], [90, 14, 3, 0.36457226], [91, 16, 2, 0.35163906], [88, 18, 1, 0.5446254]], [[73, 3, 2, 0.33395648], [61, 5, 2, 0.4095623], [64, 7, 1, 0.4900599], [52, 14, 2, 1.0]], [[73, 5, 2, 1.0], [76, 7, 1, 0.46207175]], [[73, 1, 3, 1.0], [73, 4, 1, 0.9473757], [73, 7, 1, 0.85482645], [73, 13, 1, 0.9614995], [73, 18, 2, 0.72503346]]]\n",
            "continuing_rhythmD#  generate done!\n",
            "info is \n",
            " [[[48, 2, 4, 0.37118277], [48, 9, 2, 0.42019212], [44, 15, 2, 0.7380188], [44, 17, 1, 0.6058788], [50, 21, 3, 1.0]], [[50, 2, 2, 0.8089765], [50, 4, 6, 0.834243], [50, 10, 2, 1.0]], [[50, 0, 1, 0.5564779], [60, 2, 1, 0.35714474], [62, 4, 2, 0.6089305], [63, 11, 2, 0.6991511], [62, 15, 2, 0.93548614], [62, 17, 1, 0.8291049], [62, 21, 2, 1.0]], [[53, 0, 3, 0.4748707], [51, 6, 2, 1.0], [48, 15, 2, 0.533906], [48, 18, 4, 0.51331556], [48, 22, 1, 0.6665189]], [[50, 0, 1, 0.5288303], [60, 2, 1, 0.3464359], [62, 4, 2, 0.6051487], [63, 11, 2, 0.68197036], [62, 15, 2, 0.946883], [62, 17, 1, 0.82592183], [62, 21, 2, 1.0]], [[53, 0, 2, 0.5845043], [51, 6, 2, 1.0], [48, 15, 2, 0.567623], [48, 19, 1, 0.5653078], [48, 22, 1, 0.81521183]], [[51, 1, 4, 1.0], [48, 6, 3, 0.66635865]], [[48, 0, 2, 0.6442588], [46, 6, 1, 1.0], [43, 15, 2, 0.6983088], [43, 19, 3, 0.68797004], [43, 22, 1, 0.9278268]], [[50, 0, 1, 0.47433475], [62, 4, 2, 0.59906733], [63, 11, 2, 0.65146255], [62, 15, 2, 1.0], [62, 17, 1, 0.8322561], [62, 21, 2, 0.99035823]], [[50, 2, 2, 0.71094066], [50, 4, 2, 0.6722054], [53, 12, 1, 0.45183325], [51, 15, 1, 0.919866], [53, 21, 2, 1.0]], [[50, 0, 4, 0.45069012], [50, 4, 3, 0.41329795], [50, 7, 3, 1.0], [50, 10, 2, 0.3556382]], [[48, 0, 2, 0.48249578], [48, 2, 3, 0.55218047], [46, 15, 2, 0.33763698], [50, 18, 4, 1.0]], [[58, 1, 4, 0.5617151], [56, 7, 2, 0.5954688], [53, 9, 2, 0.6309934], [58, 13, 3, 1.0], [68, 15, 2, 0.41388944], [65, 16, 1, 0.7695148], [68, 17, 1, 0.6282136], [74, 21, 2, 0.6584861]], [[58, 1, 3, 0.6015322], [58, 4, 1, 0.36559], [56, 7, 2, 0.57610977], [53, 9, 2, 0.6337932], [58, 13, 3, 1.0], [68, 15, 2, 0.44814715], [65, 16, 1, 0.6920279], [68, 17, 1, 0.68161535], [74, 21, 2, 0.76222676]], [[51, 3, 2, 0.40293726], [53, 7, 2, 0.6458972], [48, 16, 3, 0.5091903], [48, 19, 1, 0.4545726]], [[53, 1, 4, 1.0], [51, 4, 3, 0.6548165], [51, 7, 1, 0.84239143], [48, 10, 4, 0.826779]]]\n",
            "continuing_rhythmE  generate done!\n",
            "info is \n",
            " [[[52, 1, 2, 0.84525913], [47, 5, 2, 0.46808288], [47, 9, 2, 0.91000926], [52, 13, 3, 1.0], [51, 15, 2, 0.63460344], [47, 16, 1, 0.8907974], [51, 17, 2, 0.7829908], [51, 21, 2, 0.662215]], [[54, 0, 3, 0.34271654], [54, 3, 2, 0.4309768], [52, 15, 3, 0.6753064], [56, 18, 2, 0.78757614], [56, 20, 2, 1.0]], [[54, 2, 1, 0.384731], [54, 5, 1, 0.4844558], [56, 7, 2, 0.7271594], [56, 9, 2, 1.0], [57, 12, 2, 0.70082253], [57, 21, 2, 0.8816023]], [[51, 1, 3, 1.0], [51, 4, 1, 0.9511774], [51, 7, 1, 0.8252102]], [[49, 0, 2, 0.55299044], [56, 3, 2, 0.79939187], [56, 9, 3, 0.93474865], [54, 12, 1, 0.52952796], [56, 15, 2, 1.0]], [[51, 3, 4, 0.41222632], [51, 7, 2, 1.0], [51, 9, 2, 0.9940655], [52, 21, 2, 0.5054575]], [[59, 1, 4, 0.3500095], [61, 2, 4, 0.34967965], [73, 9, 2, 0.37084082], [71, 13, 1, 0.50000733], [69, 15, 2, 0.7206996], [69, 17, 1, 0.68438655], [75, 21, 3, 1.0]], [[59, 1, 3, 0.4826611], [61, 3, 3, 0.36102438], [59, 4, 1, 0.4281927], [61, 9, 2, 0.34024262], [59, 13, 3, 1.0], [69, 15, 2, 0.5936429], [66, 16, 1, 0.42628965], [69, 17, 1, 0.7645414], [75, 21, 3, 0.9991407]], [[51, 2, 2, 0.7200077], [51, 4, 2, 0.66168094], [54, 12, 1, 0.49007997], [52, 15, 1, 0.85400194], [54, 21, 2, 1.0]], [[51, 1, 4, 0.8082203], [52, 4, 2, 0.7532913], [49, 7, 3, 1.0], [49, 10, 2, 0.92868704]], [[47, 0, 3, 0.34599134], [51, 5, 2, 1.0], [54, 7, 1, 0.8288292]], [[51, 5, 3, 1.0]], [[47, 0, 4, 1.0], [47, 4, 1, 0.48489177], [44, 15, 2, 0.5129805], [42, 18, 2, 0.40963537], [42, 22, 1, 0.70491827]], [[51, 1, 3, 0.68707806], [52, 5, 2, 0.4389985], [49, 8, 2, 0.7530243], [49, 10, 2, 1.0]], [[49, 0, 3, 0.4923179], [47, 6, 1, 1.0], [44, 15, 2, 0.50343907], [44, 19, 1, 0.52204305], [44, 22, 1, 0.6907203]], [[54, 0, 2, 0.55916554], [52, 6, 1, 1.0], [49, 15, 2, 0.5618865], [49, 19, 3, 0.58960533], [49, 22, 1, 0.8344915]]]\n",
            "continuing_rhythmF  generate done!\n",
            "info is \n",
            " [[[50, 1, 2, 0.7052039], [48, 2, 1, 0.33530173], [40, 5, 2, 0.6360799], [50, 8, 2, 0.43645272], [46, 15, 2, 0.9465985], [46, 17, 1, 0.7656707], [52, 21, 2, 1.0]], [[53, 0, 1, 0.761097], [62, 2, 1, 0.58301085], [65, 4, 2, 0.76373106], [62, 9, 5, 0.8618527], [65, 15, 3, 1.0], [65, 21, 2, 0.98899037]], [[52, 5, 3, 1.0]], [[48, 0, 1, 0.4026031], [57, 9, 2, 1.0], [57, 11, 2, 0.7951033], [53, 16, 3, 0.5256755], [53, 19, 1, 0.5025195]], [[53, 0, 1, 0.38933372], [62, 2, 1, 0.3639946], [62, 9, 2, 1.0], [62, 11, 2, 0.72376156]], [[50, 1, 3, 0.85063285], [45, 7, 2, 1.0]], [[52, 7, 2, 0.83149445], [52, 9, 2, 1.0], [52, 11, 3, 0.64466906], [48, 16, 3, 0.46273002], [48, 19, 1, 0.5509589]], [[55, 0, 1, 0.56390005], [53, 6, 2, 1.0], [50, 15, 2, 0.396415], [50, 18, 2, 0.5066082], [50, 22, 1, 0.68633485]], [[52, 1, 3, 1.0], [52, 4, 1, 0.95833707], [52, 7, 1, 0.8320342], [52, 11, 1, 0.34782457]], [[50, 0, 1, 0.5339549], [48, 6, 2, 1.0], [45, 18, 2, 0.47760725], [45, 22, 1, 0.6283358]], [[55, 1, 3, 0.71616614], [55, 4, 2, 0.3900194], [53, 16, 3, 0.89216316], [57, 18, 2, 0.64722836], [57, 20, 2, 1.0]], [[52, 1, 3, 1.0], [53, 3, 3, 0.6741617], [53, 6, 3, 0.6879329]], [[48, 1, 1, 0.4910089], [43, 10, 2, 0.4283583], [43, 14, 2, 1.0], [45, 21, 2, 0.54154855]], [[53, 2, 1, 0.36491853], [55, 3, 4, 0.72837234], [55, 7, 4, 1.0]], [[50, 0, 2, 0.6584999], [50, 7, 1, 0.559133], [43, 9, 4, 0.53219676], [45, 11, 3, 1.0], [53, 20, 1, 0.63317484]], [[53, 2, 1, 0.4006681], [55, 3, 4, 0.7896754], [55, 7, 1, 1.0]]]\n",
            "continuing_rhythmF#  generate done!\n",
            "info is \n",
            " [[[49, 1, 4, 0.34430125], [51, 2, 4, 0.3812238], [63, 9, 2, 0.392176], [61, 13, 1, 0.44437376], [59, 15, 2, 0.72164035], [59, 17, 1, 0.6868181], [65, 21, 3, 1.0]], [[66, 0, 2, 1.0], [63, 9, 3, 0.47008172], [59, 19, 1, 0.5487679]], [[66, 0, 1, 0.4582142], [78, 4, 2, 0.33887947], [75, 7, 2, 0.8973796], [75, 9, 2, 1.0], [75, 11, 3, 0.8957009], [78, 15, 3, 0.38027418], [71, 16, 2, 0.5029206], [78, 21, 2, 0.5165306]], [[66, 0, 1, 0.45067903], [78, 4, 2, 0.3364091], [75, 7, 2, 0.87792003], [75, 9, 2, 1.0], [75, 11, 3, 0.8905517], [78, 15, 3, 0.41230825], [71, 16, 2, 0.5012053], [78, 21, 2, 0.51332504]], [[66, 0, 1, 0.43310067], [75, 2, 2, 0.35113934], [78, 4, 2, 0.33412775], [75, 9, 2, 1.0], [75, 11, 3, 0.8580824], [78, 15, 3, 0.548311], [71, 16, 2, 0.46931812], [78, 21, 2, 0.49200577]], [[68, 0, 2, 0.8505867], [68, 4, 3, 0.34426025], [68, 7, 1, 0.67701405], [70, 8, 2, 0.47272393], [61, 9, 2, 0.73616356], [63, 10, 2, 0.4160427], [63, 11, 2, 1.0], [63, 13, 1, 0.88896835], [71, 20, 1, 0.7601496]], [[65, 1, 3, 1.0], [66, 5, 4, 0.65773094], [65, 8, 2, 0.9840744]], [[66, 7, 2, 0.6341111], [65, 9, 5, 1.0], [61, 16, 3, 0.5588293], [61, 19, 1, 0.51885056]], [[66, 1, 4, 1.0], [63, 6, 3, 0.57835406]], [[63, 1, 3, 1.0], [63, 4, 2, 0.63011134], [58, 7, 2, 0.9094072], [58, 9, 3, 0.793794]], [[65, 1, 3, 0.81055754], [66, 5, 2, 0.5670762], [63, 10, 2, 1.0]], [[63, 0, 4, 0.57960117], [63, 4, 1, 0.4714262], [61, 16, 2, 0.8545199], [65, 18, 2, 0.68796766], [65, 20, 2, 1.0]], [[65, 2, 2, 0.73868376], [65, 4, 2, 0.65836835], [68, 12, 1, 0.52109], [66, 15, 1, 0.8160142], [68, 21, 2, 1.0]], [[65, 1, 3, 1.0], [66, 3, 3, 0.6768402], [66, 6, 3, 0.6832669], [65, 8, 1, 0.5872258]], [[58, 0, 3, 0.79788566], [59, 2, 1, 0.56750655], [56, 4, 3, 0.54535955], [56, 7, 2, 0.64941645], [53, 10, 3, 0.7352933], [53, 13, 1, 1.0]], [[63, 2, 1, 0.42024994], [63, 5, 1, 0.5199776], [65, 7, 3, 0.5038191], [65, 10, 1, 1.0], [66, 12, 2, 0.823057], [66, 21, 2, 0.8758494]]]\n",
            "continuing_rhythmG  generate done!\n",
            "info is \n",
            " [[[48, 1, 2, 0.88869655], [43, 5, 2, 0.3766876], [43, 7, 2, 0.78637075], [43, 9, 2, 0.81249166], [48, 13, 1, 0.8514516], [47, 15, 2, 0.6876458], [47, 17, 1, 0.6981526], [47, 21, 2, 1.0]], [[47, 0, 3, 0.41625157], [45, 6, 1, 1.0], [42, 15, 2, 0.48176938], [42, 18, 2, 0.50725526], [42, 22, 1, 0.59522897]], [[50, 0, 1, 0.4660411], [59, 2, 2, 0.42365572], [62, 4, 2, 0.35428494], [59, 9, 5, 1.0], [62, 15, 3, 0.690546], [55, 16, 2, 0.4557715], [62, 21, 2, 0.5202586]], [[50, 0, 5, 0.58990514], [48, 16, 3, 1.0], [48, 19, 2, 0.72162837], [52, 20, 2, 0.7210059], [45, 22, 2, 0.84461534]], [[47, 0, 1, 0.4948166], [57, 2, 1, 0.33759275], [59, 4, 2, 0.6032116], [60, 11, 2, 0.65752745], [59, 15, 2, 0.97087836], [59, 17, 1, 0.83297735], [59, 21, 2, 1.0]], [[48, 1, 3, 0.83615464], [48, 4, 2, 0.5303127], [50, 6, 2, 0.37262967], [43, 7, 3, 1.0], [43, 10, 4, 0.9766312], [43, 14, 2, 0.9778352], [45, 21, 2, 0.3570451]], [[47, 0, 2, 0.6375882], [43, 3, 2, 0.48773327], [40, 19, 1, 0.58218956]], [[47, 0, 2, 1.0], [40, 19, 1, 0.4502341]], [[50, 0, 2, 1.0], [47, 9, 3, 0.62875974], [43, 19, 1, 0.5942731]], [[47, 0, 1, 0.4684119], [59, 4, 2, 0.5970968], [60, 11, 2, 0.6500463], [59, 15, 2, 1.0], [59, 17, 1, 0.83790064], [59, 21, 2, 0.9889949]], [[47, 0, 1, 0.45010847], [57, 2, 1, 0.34729263], [59, 4, 2, 0.59207416], [60, 11, 2, 0.564215], [59, 15, 2, 1.0], [59, 17, 1, 0.7249112], [59, 21, 2, 0.81469524]], [[47, 1, 4, 0.993426], [48, 4, 4, 1.0], [48, 8, 1, 0.822048]], [[45, 0, 1, 0.39178476], [54, 2, 2, 0.3493575], [54, 7, 2, 0.9861241], [54, 9, 2, 1.0], [54, 11, 2, 0.80767363], [50, 16, 4, 0.5150624]], [[47, 0, 1, 0.58086795], [57, 2, 1, 0.4873105], [59, 4, 2, 0.5419751], [60, 11, 2, 0.564255], [59, 15, 3, 1.0], [59, 21, 2, 0.8453181]], [[47, 9, 2, 1.0], [47, 11, 3, 0.74765587], [43, 16, 3, 0.525775], [43, 19, 1, 0.34186822]], [[47, 1, 3, 1.0], [48, 3, 3, 0.68979], [48, 6, 3, 0.7144057]]]\n",
            "continuing_rhythmG#  generate done!\n",
            "info is \n",
            " [[[53, 2, 4, 0.35892728], [53, 9, 2, 0.4056108], [49, 15, 2, 0.7426608], [49, 17, 1, 0.61252666], [55, 21, 3, 1.0]], [[56, 0, 1, 0.5354554], [65, 2, 2, 0.5072829], [68, 4, 2, 0.42058244], [65, 9, 5, 1.0], [68, 15, 3, 0.79548806], [61, 16, 2, 0.44892827], [68, 21, 2, 0.6383039]], [[55, 0, 1, 0.38558015], [65, 2, 1, 0.38884348], [67, 4, 2, 0.36199558], [67, 15, 3, 1.0], [67, 21, 2, 0.9455716]], [[56, 1, 4, 1.0], [51, 7, 4, 0.9483787]], [[55, 0, 1, 0.41278994], [67, 4, 2, 0.56669575], [68, 11, 2, 0.60309356], [67, 15, 2, 1.0], [67, 17, 1, 0.7979111], [67, 21, 2, 0.91113883]], [[55, 1, 1, 0.97829074], [55, 4, 1, 0.41654253], [55, 7, 1, 0.9383935], [55, 18, 3, 1.0], [56, 20, 3, 0.7472472]], [[55, 1, 3, 0.6845772], [56, 4, 2, 0.60212606], [53, 7, 3, 0.76609725], [53, 10, 2, 1.0]], [[55, 0, 1, 0.5328036], [65, 2, 1, 0.4922313], [67, 4, 2, 0.45497182], [68, 11, 2, 0.45318672], [67, 15, 3, 1.0], [67, 21, 2, 0.7291036]], [[60, 0, 3, 0.87825894], [58, 4, 3, 0.84581465], [58, 7, 2, 0.7343819], [56, 10, 4, 0.6113208], [55, 13, 1, 1.0]], [[51, 1, 2, 0.7516562], [51, 3, 3, 0.6862068], [48, 6, 3, 1.0]], [[53, 1, 3, 1.0], [53, 4, 1, 0.44518661], [48, 7, 2, 0.8292202], [48, 9, 2, 0.727752]], [[51, 2, 3, 0.39993724], [55, 7, 3, 1.0]], [[56, 7, 2, 0.653279], [55, 9, 3, 1.0], [53, 14, 1, 0.48266208], [51, 16, 3, 0.42890865], [51, 19, 1, 0.53610736]], [[56, 1, 4, 1.0], [55, 4, 1, 0.80363], [51, 10, 2, 0.7500235]], [[55, 1, 3, 1.0], [55, 4, 1, 0.95629233], [55, 7, 1, 0.86239207], [55, 13, 1, 0.9633908], [55, 18, 2, 0.5422592]], [[58, 0, 4, 0.59267306], [58, 4, 1, 0.3769386], [56, 16, 4, 1.0], [60, 20, 2, 0.9606476], [53, 22, 1, 0.3812586]]]\n",
            "continuing_rhythmA  generate done!\n",
            "info is \n",
            " [[[50, 1, 2, 0.850283], [45, 5, 2, 0.42562503], [45, 7, 2, 0.79873294], [45, 9, 2, 0.9371202], [50, 13, 1, 0.71424013], [49, 15, 2, 0.83713096], [49, 17, 1, 0.5648411], [49, 21, 2, 1.0]], [[54, 7, 2, 0.6659742], [54, 9, 3, 1.0], [52, 14, 1, 0.37927884], [50, 19, 1, 0.5024807]], [[49, 2, 2, 1.0], [49, 4, 4, 0.91343725], [49, 8, 2, 0.97411865], [49, 10, 3, 0.89948833], [50, 15, 1, 0.9555189]], [[49, 1, 3, 1.0], [50, 5, 4, 0.65692276], [49, 8, 2, 0.95809877]], [[47, 1, 4, 1.0], [44, 6, 3, 0.50005215]], [[42, 1, 2, 0.5373017], [32, 5, 2, 0.60890555], [42, 8, 2, 0.37486964], [38, 15, 2, 0.8216005], [38, 17, 1, 0.7586606], [44, 21, 2, 1.0]], [[49, 1, 3, 1.0], [50, 3, 5, 0.9427662], [50, 8, 1, 0.80421257]], [[40, 1, 3, 0.38409775], [42, 2, 4, 0.37091202], [40, 4, 1, 0.34908155], [42, 9, 2, 0.37333864], [40, 13, 2, 0.726805], [50, 15, 2, 0.69439733], [50, 17, 1, 0.733025], [56, 21, 3, 1.0]], [[49, 1, 3, 0.69823617], [50, 4, 2, 0.61379457], [47, 7, 3, 0.7819725], [47, 10, 2, 1.0]], [[45, 1, 2, 1.0], [44, 4, 1, 0.7601179], [40, 7, 2, 0.86463344], [40, 9, 2, 0.7425911]], [[45, 1, 2, 0.904954], [40, 5, 2, 0.48233992], [40, 9, 2, 0.9137963], [45, 13, 2, 1.0], [44, 15, 2, 0.84750885], [40, 16, 1, 0.7579225], [44, 17, 2, 0.8782209], [44, 21, 2, 0.765207]], [[49, 1, 3, 0.6190058], [50, 4, 2, 0.5388485], [47, 8, 2, 0.6804957], [47, 10, 2, 1.0]], [[49, 1, 3, 1.0], [49, 4, 1, 0.953195], [49, 7, 1, 0.8260272]], [[49, 4, 1, 0.5883317], [50, 7, 2, 0.7053331], [50, 9, 5, 1.0], [49, 12, 3, 0.6042487]], [[49, 1, 3, 1.0], [49, 4, 1, 0.6765315], [49, 7, 1, 0.62962836], [49, 11, 2, 0.7089637], [49, 13, 2, 0.7278866], [49, 15, 3, 0.69287854], [49, 18, 3, 0.9275999]], [[49, 1, 4, 0.9379322], [44, 7, 4, 1.0]]]\n",
            "continuing_rhythmA#  generate done!\n",
            "info is \n",
            " [[[55, 1, 2, 0.84498554], [53, 2, 1, 0.46100542], [45, 5, 2, 0.66620284], [55, 8, 3, 0.48840106], [51, 15, 2, 0.94961154], [51, 17, 1, 0.735109], [57, 21, 2, 1.0]], [[58, 3, 2, 0.87799037], [60, 7, 2, 0.6449148], [57, 14, 1, 0.47918057], [55, 16, 3, 0.42296985], [55, 19, 1, 0.53161985]], [[58, 3, 2, 0.8227761], [60, 6, 3, 0.5881446], [57, 14, 1, 0.42995048], [55, 16, 3, 0.35558572], [55, 19, 1, 0.5041968]], [[58, 3, 2, 0.83044165], [60, 6, 3, 0.61016536], [57, 14, 1, 0.44605622], [55, 16, 3, 0.3787535], [55, 19, 1, 0.5084502]], [[57, 1, 3, 1.0], [58, 3, 6, 0.6935058], [57, 8, 1, 0.74224687]], [[57, 0, 1, 0.37660256], [67, 2, 1, 0.38078526], [69, 4, 2, 0.4426323], [69, 15, 3, 1.0], [69, 21, 2, 0.92774165]], [[57, 1, 4, 0.78232914], [58, 4, 2, 0.74596196], [55, 7, 3, 1.0], [55, 10, 2, 0.8242383]], [[55, 1, 3, 0.7296102], [55, 4, 2, 0.40061837], [53, 16, 3, 0.84216505], [57, 18, 2, 0.64898175], [57, 20, 2, 1.0]], [[58, 3, 2, 0.42651907], [60, 7, 2, 0.63776195], [55, 16, 3, 0.52162117], [55, 19, 1, 0.47031736]], [[58, 1, 4, 1.0], [55, 6, 3, 0.49942565]], [[57, 0, 1, 0.45242923], [67, 2, 1, 0.45245886], [69, 4, 2, 0.68263096], [70, 11, 2, 0.478695], [69, 15, 3, 1.0], [69, 21, 2, 0.94507706]], [[60, 1, 2, 0.794769], [58, 6, 1, 1.0], [57, 15, 2, 0.37367982], [55, 18, 2, 0.6393751], [55, 21, 2, 0.6839116]], [[58, 0, 1, 0.3924086], [67, 2, 2, 0.38037908], [67, 7, 2, 0.78768253], [67, 9, 2, 1.0], [67, 11, 2, 0.77650326], [63, 16, 2, 0.38359177]], [[57, 0, 1, 0.5217354], [67, 2, 1, 0.4473008], [69, 4, 2, 0.6496321], [70, 11, 2, 0.6925979], [69, 15, 3, 1.0], [69, 21, 2, 0.8894863]], [[60, 0, 2, 1.0], [60, 4, 3, 0.508405], [60, 7, 1, 0.82490575], [62, 8, 2, 0.54473615], [53, 9, 2, 0.90508825], [55, 10, 4, 0.67316014], [55, 11, 2, 0.9807206], [55, 13, 2, 0.97462666], [67, 14, 3, 0.42045203], [63, 20, 1, 0.5746826]], [[58, 0, 1, 0.39551708], [67, 2, 2, 0.3636175], [67, 7, 2, 0.96484303], [67, 9, 2, 1.0], [67, 11, 2, 0.7906283], [63, 16, 2, 0.48501593]]]\n",
            "continuing_rhythmB  generate done!\n",
            "info is \n",
            " [[[56, 2, 4, 0.3739988], [56, 9, 2, 0.39802188], [52, 15, 2, 0.7353054], [52, 17, 1, 0.65090436], [58, 21, 3, 1.0]], [[58, 0, 1, 0.4448588], [70, 4, 2, 0.58893776], [71, 11, 2, 0.5705375], [70, 15, 2, 1.0], [70, 17, 1, 0.6986707], [70, 21, 2, 0.8014594]], [[61, 0, 1, 0.37993005], [68, 3, 2, 0.9144183], [68, 9, 3, 1.0], [66, 12, 1, 0.7350907], [68, 15, 2, 0.35390607], [64, 17, 1, 0.5372647]], [[59, 0, 2, 0.5444062], [66, 3, 2, 0.7941209], [66, 9, 3, 0.94814885], [64, 12, 1, 0.51942766], [66, 15, 2, 1.0]], [[59, 0, 1, 0.6678729], [68, 2, 2, 0.6140267], [71, 4, 2, 0.7311971], [68, 9, 4, 1.0], [71, 15, 3, 0.82601196], [71, 21, 2, 0.8766258]], [[59, 0, 1, 0.6047813], [59, 4, 1, 0.5648152], [59, 7, 1, 0.75482786], [52, 9, 3, 0.5741837], [54, 11, 3, 1.0], [58, 13, 1, 0.5757073], [59, 15, 3, 0.7166212], [59, 18, 3, 0.36961946]], [[59, 0, 1, 0.34572613], [68, 7, 2, 0.88583195], [68, 9, 2, 1.0], [68, 11, 3, 0.7241396], [64, 16, 3, 0.5054086], [64, 19, 1, 0.58066446]], [[59, 2, 1, 0.33989048], [61, 3, 4, 0.6678726], [61, 7, 2, 1.0], [61, 9, 2, 0.5191998]], [[54, 0, 1, 0.56797504], [63, 2, 2, 0.549487], [66, 4, 2, 0.49253595], [63, 9, 5, 1.0], [66, 15, 3, 0.78275436], [59, 16, 2, 0.37708613], [66, 21, 2, 0.7246293]], [[61, 0, 2, 0.58976406], [59, 6, 1, 1.0], [56, 16, 1, 0.6481121], [56, 19, 3, 0.67300427], [56, 22, 1, 0.8866966]], [[66, 1, 2, 0.7491045], [61, 5, 4, 0.47143024], [64, 7, 1, 0.6298382], [61, 9, 2, 0.8392292], [66, 13, 2, 0.86896724], [61, 16, 1, 1.0], [64, 17, 1, 0.5509592], [70, 21, 2, 0.5743068]], [[59, 1, 4, 1.0], [56, 6, 3, 0.6853525]], [[56, 1, 4, 0.9058783], [51, 7, 3, 1.0]], [[58, 5, 3, 1.0], [61, 7, 3, 0.61989886], [61, 10, 1, 0.33863002]], [[56, 2, 4, 0.7317087], [54, 15, 3, 0.62679136], [58, 18, 2, 0.7705405], [58, 20, 2, 1.0]], [[58, 9, 5, 1.0], [54, 16, 3, 0.4857052], [54, 19, 1, 0.37775248]]]\n",
            "down_leapingC  generate done!\n",
            "info is \n",
            " [[[48, 7, 1, 0.38409287], [36, 14, 2, 1.0]], [[36, 0, 1, 0.4631156], [45, 2, 2, 0.4188971], [48, 4, 2, 0.35435262], [45, 9, 5, 1.0], [48, 15, 3, 0.68857664], [41, 16, 2, 0.46106324], [48, 21, 2, 0.5174639]], [[36, 7, 2, 1.0], [36, 9, 2, 0.96908534], [38, 18, 2, 0.59432137]], [[36, 3, 2, 0.9000837], [38, 7, 2, 0.68986607], [35, 14, 1, 0.507342], [33, 16, 3, 0.44885817], [33, 19, 1, 0.5431546]], [[36, 0, 1, 0.73454964], [36, 4, 3, 0.79381865], [36, 7, 1, 0.8796251], [29, 9, 3, 0.8252154], [31, 11, 2, 0.966028], [35, 13, 2, 0.6366439], [36, 15, 3, 1.0], [36, 18, 3, 0.7535555]], [[36, 0, 1, 0.46334273], [45, 7, 2, 0.9510391], [45, 9, 2, 1.0], [45, 11, 3, 0.8991478], [41, 16, 4, 0.530019], [48, 21, 2, 0.5114914]], [[36, 0, 2, 0.763204], [29, 1, 2, 0.6611973], [29, 3, 2, 0.62145585], [24, 5, 3, 0.92319345], [24, 8, 2, 1.0]], [[38, 0, 2, 1.0], [38, 4, 3, 0.50243574], [38, 7, 1, 0.81836295], [40, 8, 2, 0.55400544], [31, 9, 2, 0.90025383], [33, 10, 4, 0.64545965], [33, 11, 2, 0.99772936], [33, 13, 2, 0.9901318], [45, 14, 3, 0.41785714], [41, 20, 1, 0.6466975]], [[40, 0, 2, 1.0], [47, 3, 2, 0.6749113], [45, 9, 3, 0.9492966], [47, 10, 7, 0.915463], [45, 12, 1, 0.8197421], [48, 16, 2, 0.38672137], [45, 18, 1, 0.737263]], [[36, 0, 1, 0.66523147], [36, 4, 1, 0.69558686], [36, 7, 1, 0.8381997], [29, 9, 3, 0.6928023], [31, 11, 2, 1.0], [35, 13, 1, 0.60921776], [36, 15, 3, 0.88757217], [36, 18, 3, 0.58241326]], [[38, 2, 2, 0.7122527], [38, 4, 2, 0.6573177], [40, 10, 1, 0.92289335], [41, 12, 1, 0.49044952], [41, 21, 2, 1.0]], [[40, 1, 3, 1.0], [41, 3, 5, 0.9352785], [41, 8, 1, 0.80865276]], [[36, 1, 3, 1.0], [36, 4, 1, 0.5933628], [31, 7, 3, 0.92023253], [31, 10, 2, 0.82470155]], [[38, 2, 3, 0.9931394], [36, 16, 3, 0.9995735], [33, 18, 2, 0.99072546], [36, 19, 2, 0.96454334], [33, 22, 2, 1.0]], [[36, 2, 1, 0.3525805], [38, 3, 4, 0.6434993], [38, 7, 2, 1.0], [38, 9, 2, 0.6972369]], [[36, 1, 4, 0.9408988], [31, 7, 4, 1.0]]]\n",
            "down_leapingC#  generate done!\n",
            "info is \n",
            " [[[49, 1, 3, 1.0], [49, 4, 1, 0.5379841], [44, 7, 2, 0.85336006], [44, 9, 2, 0.7418311]], [[44, 2, 1, 0.3534682], [46, 3, 4, 0.51977736], [46, 7, 2, 1.0], [46, 9, 2, 0.83609974]], [[41, 1, 3, 0.8110496], [42, 5, 2, 0.57824165], [39, 10, 2, 1.0]], [[44, 1, 3, 1.0], [44, 4, 2, 0.4390048], [42, 15, 5, 0.93634504], [46, 20, 2, 0.7956928], [39, 22, 1, 0.6046417]], [[46, 1, 2, 0.8046542], [44, 2, 1, 0.4069808], [36, 5, 2, 0.6495338], [46, 8, 3, 0.4763515], [42, 15, 2, 0.95644134], [42, 17, 1, 0.761431], [48, 21, 2, 1.0]], [[44, 0, 4, 0.7493119], [42, 4, 3, 0.5375875], [42, 7, 2, 0.82064605], [39, 10, 3, 0.9101583], [39, 13, 1, 1.0]], [[41, 2, 3, 0.66592884], [41, 5, 1, 0.5882667], [44, 12, 1, 0.5508532], [42, 15, 1, 0.7596837], [44, 21, 2, 0.9399967]], [[46, 9, 2, 1.0], [46, 11, 3, 0.69625956], [42, 16, 3, 0.50155604], [42, 19, 1, 0.35124704]], [[44, 2, 1, 0.44249788], [46, 3, 3, 0.8254292], [46, 6, 2, 1.0]], [[42, 3, 2, 0.86178786], [44, 7, 2, 0.63451207], [41, 14, 1, 0.47304106], [39, 16, 3, 0.4122277], [39, 19, 1, 0.52695906]], [[46, 0, 2, 0.93933356], [53, 3, 2, 0.51225823], [46, 4, 3, 0.3971001], [46, 7, 1, 0.5489732], [48, 8, 2, 0.34212962], [39, 9, 3, 1.0], [41, 10, 7, 0.84640414], [41, 11, 2, 0.47543475], [39, 12, 1, 0.6457228], [51, 13, 2, 0.54157716], [54, 16, 2, 0.3481349], [51, 18, 1, 0.6175857]], [[46, 1, 2, 0.8512724], [44, 2, 1, 0.48407286], [36, 5, 2, 0.69378364], [46, 8, 3, 0.49705586], [42, 15, 2, 0.9830894], [42, 17, 1, 0.7379793], [48, 21, 2, 1.0]], [[44, 0, 2, 0.6612676], [37, 3, 2, 0.9457001], [32, 5, 2, 0.85761404], [32, 7, 3, 1.0]], [[42, 7, 2, 1.0], [42, 9, 2, 0.9569963], [41, 15, 1, 0.55013436], [44, 18, 4, 0.61829084]], [[48, 1, 1, 1.0], [51, 4, 1, 0.3731817], [48, 7, 1, 0.93283826], [48, 18, 3, 0.9141454], [49, 20, 3, 0.6040571]], [[44, 0, 2, 0.486232], [44, 2, 4, 0.656148], [42, 15, 3, 0.62986946], [46, 18, 2, 0.915837], [46, 20, 2, 1.0]]]\n",
            "down_leapingD  generate done!\n",
            "info is \n",
            " [[[49, 5, 2, 1.0]], [[47, 2, 1, 0.49039868], [49, 3, 3, 0.92178655], [49, 6, 2, 1.0]], [[42, 0, 3, 0.7827261], [43, 2, 1, 0.54564786], [40, 4, 3, 0.5334949], [40, 7, 2, 0.6374662], [38, 10, 4, 0.7396513], [37, 13, 1, 1.0]], [[49, 7, 2, 1.0], [49, 9, 2, 0.9801197], [50, 21, 2, 0.6550489]], [[52, 1, 4, 0.9448705], [50, 4, 1, 0.7277744], [47, 7, 2, 1.0], [47, 9, 2, 0.8234337]], [[49, 1, 3, 1.0], [49, 4, 1, 0.97422534], [49, 7, 1, 0.8546006], [49, 11, 3, 0.90625346]], [[45, 0, 4, 1.0], [45, 4, 1, 0.51729363], [42, 15, 2, 0.46902317], [40, 18, 2, 0.3731587], [40, 22, 1, 0.68659544]], [[49, 1, 3, 1.0], [50, 3, 3, 0.68740577], [50, 6, 3, 0.65168184], [49, 8, 1, 0.6250425]], [[49, 0, 1, 0.36658394], [45, 3, 2, 0.48634553], [42, 19, 1, 0.51893973]], [[50, 0, 3, 0.4273297], [54, 3, 2, 0.3354365], [54, 5, 2, 0.70724696], [57, 7, 2, 1.0], [45, 14, 2, 0.7707723]], [[47, 0, 2, 0.82003903], [45, 6, 1, 0.99808663], [42, 15, 2, 0.8880276], [42, 18, 4, 0.7557424], [42, 22, 1, 1.0]], [[49, 1, 3, 1.0], [50, 5, 4, 0.6613332], [49, 8, 2, 0.98404455]], [[45, 0, 2, 1.0], [42, 9, 3, 0.5625802], [38, 19, 1, 0.56364006]], [[54, 0, 3, 0.87747586], [52, 4, 3, 0.7419708], [52, 7, 2, 0.6767604], [50, 10, 4, 0.72371054], [49, 13, 1, 1.0]], [[45, 0, 1, 0.451736], [55, 2, 1, 0.3379057], [57, 4, 2, 0.3599742], [54, 9, 4, 1.0], [57, 15, 3, 0.6808592], [57, 21, 2, 0.43639457]], [[52, 2, 1, 0.42127383], [52, 5, 1, 0.5130372], [54, 7, 1, 0.4400658], [54, 10, 1, 1.0], [55, 12, 2, 0.82488865], [55, 21, 2, 0.8528869]]]\n",
            "down_leapingD#  generate done!\n",
            "info is \n",
            " [[[51, 1, 2, 0.49808943], [46, 7, 3, 0.64194], [46, 10, 4, 0.67680436], [46, 14, 2, 1.0], [48, 21, 2, 0.37992766]], [[51, 7, 2, 0.49594843], [50, 9, 5, 1.0], [46, 16, 3, 0.4668628], [46, 19, 1, 0.5799125]], [[51, 1, 4, 1.0], [50, 4, 1, 0.9033423], [46, 7, 2, 0.9540734], [46, 9, 2, 0.749822]], [[46, 0, 2, 1.0], [43, 9, 3, 0.551046], [39, 19, 1, 0.57641834]], [[50, 0, 1, 0.53255606], [60, 2, 1, 0.46550465], [62, 4, 2, 0.69895494], [63, 11, 2, 0.62534714], [62, 15, 3, 1.0], [62, 21, 2, 0.9298228]], [[51, 0, 1, 0.38914323], [60, 2, 2, 0.33845437], [60, 7, 2, 0.9950263], [60, 9, 2, 1.0], [60, 11, 2, 0.8336252], [56, 16, 4, 0.5380995]], [[48, 0, 1, 0.38553348], [58, 2, 1, 0.38142058], [60, 4, 2, 0.4448607], [60, 15, 3, 1.0], [60, 21, 2, 0.93452376]], [[48, 0, 1, 0.59881556], [48, 4, 1, 0.46909153], [48, 7, 1, 0.7020739], [41, 9, 3, 0.5169125], [43, 11, 3, 1.0], [48, 15, 6, 0.6142992], [51, 20, 1, 0.5622012]], [[51, 7, 2, 0.5489673], [50, 9, 5, 1.0], [46, 16, 3, 0.5265537], [46, 19, 1, 0.6071374]], [[50, 0, 1, 0.5710243], [60, 2, 1, 0.48033756], [62, 4, 2, 0.5431319], [63, 11, 2, 0.58108807], [62, 15, 3, 1.0], [62, 21, 2, 0.85530895]], [[51, 3, 2, 0.6398366], [51, 12, 3, 0.47970557], [48, 16, 3, 0.37050235], [48, 19, 1, 0.5326908]], [[48, 2, 1, 0.44532254], [50, 3, 3, 0.8352795], [50, 6, 2, 1.0]], [[48, 0, 2, 1.0], [55, 3, 2, 0.7682434], [55, 9, 6, 0.95517224], [53, 12, 1, 0.8076269], [55, 15, 2, 0.4548805], [53, 18, 1, 0.6828204]], [[48, 0, 4, 0.7413575], [48, 4, 2, 0.40301687], [46, 16, 4, 0.9526469], [50, 18, 2, 0.70453197], [50, 20, 2, 1.0]], [[48, 5, 3, 1.0]], [[48, 1, 2, 0.58413494], [46, 6, 1, 1.0], [46, 16, 1, 0.812343], [43, 18, 3, 0.9360748], [43, 21, 2, 0.85992575]]]\n",
            "down_leapingE  generate done!\n",
            "info is \n",
            " [[[52, 1, 2, 0.51792395], [47, 7, 3, 0.6655038], [47, 10, 4, 0.7057377], [47, 14, 2, 1.0], [49, 21, 2, 0.37851676]], [[52, 0, 1, 0.3962388], [61, 9, 2, 1.0], [61, 11, 2, 0.7701887], [57, 16, 3, 0.5216392], [57, 19, 1, 0.55065733]], [[49, 0, 4, 0.73818314], [47, 4, 3, 0.53619856], [47, 7, 2, 0.7906149], [44, 10, 3, 0.89673936], [44, 13, 1, 1.0]], [[49, 7, 2, 0.6568483], [49, 9, 4, 1.0], [47, 13, 2, 0.3622508], [45, 16, 3, 0.3593432], [45, 19, 1, 0.54160225]], [[49, 5, 3, 1.0]], [[47, 1, 2, 0.57229483], [42, 5, 4, 0.3608692], [45, 7, 2, 0.5883524], [42, 9, 2, 0.6949936], [47, 13, 2, 1.0], [57, 15, 2, 0.4349454], [54, 16, 1, 0.89151704], [57, 17, 1, 0.6066831], [63, 21, 2, 0.6651806]], [[52, 0, 1, 0.43948263], [61, 2, 2, 0.334069], [64, 4, 2, 0.33624846], [61, 7, 2, 0.78809536], [61, 9, 2, 1.0], [61, 11, 3, 0.8768256], [64, 15, 3, 0.453034], [57, 16, 2, 0.4803625], [64, 21, 2, 0.5078349]], [[52, 0, 1, 0.3757991], [61, 7, 2, 0.97535515], [61, 9, 2, 1.0], [61, 11, 2, 0.85541505], [57, 16, 4, 0.52914923]], [[52, 1, 2, 1.0], [47, 5, 2, 0.41127738], [47, 7, 2, 0.710668], [47, 9, 2, 0.80886555], [52, 13, 2, 0.7940851], [51, 15, 2, 0.70041966], [51, 17, 2, 0.69474435], [51, 21, 2, 0.9849387]], [[49, 0, 4, 1.0], [49, 4, 2, 0.47276628], [47, 15, 4, 0.6434306], [47, 19, 1, 0.3393592], [44, 22, 1, 0.6718422]], [[49, 1, 3, 0.8248025], [49, 4, 1, 0.7420414], [49, 7, 1, 0.65993404], [49, 11, 2, 0.7399081], [49, 13, 1, 0.77661365], [49, 18, 3, 1.0]], [[49, 0, 3, 0.8311523], [47, 4, 3, 0.5384345], [47, 7, 2, 0.6396572], [45, 10, 4, 0.76406044], [44, 13, 1, 1.0]], [[49, 2, 4, 0.38786003], [49, 9, 2, 0.41306514], [45, 15, 2, 0.74203867], [45, 17, 1, 0.6272677], [51, 21, 3, 1.0]], [[52, 7, 2, 0.62382144], [51, 9, 5, 1.0], [47, 16, 3, 0.5589738], [47, 19, 1, 0.5765042]], [[49, 2, 2, 0.89296544], [49, 4, 6, 0.88503045], [49, 10, 2, 1.0]], [[45, 1, 4, 1.0], [44, 4, 1, 0.9837446], [40, 7, 2, 0.9636334], [40, 9, 2, 0.7899586]]]\n",
            "down_leapingF  generate done!\n",
            "info is \n",
            " [[[50, 5, 2, 1.0], [53, 7, 1, 0.77662516]], [[52, 0, 1, 0.4308318], [64, 4, 2, 0.5797699], [65, 11, 2, 0.5893255], [64, 15, 2, 1.0], [64, 17, 1, 0.7176195], [64, 21, 2, 0.8155706]], [[57, 2, 2, 0.8023136], [57, 4, 4, 0.7371717], [57, 8, 4, 0.78861517], [58, 15, 1, 1.0]], [[60, 1, 3, 0.5635542], [60, 4, 1, 0.35776755], [58, 7, 2, 0.5463588], [55, 9, 2, 0.60158443], [60, 13, 3, 1.0], [70, 15, 2, 0.4541083], [67, 16, 1, 0.6362266], [70, 17, 1, 0.6894204], [76, 21, 2, 0.78297]], [[55, 0, 4, 0.84800744], [55, 4, 2, 0.47714934], [53, 16, 4, 0.9773684], [57, 18, 2, 0.7114019], [57, 20, 2, 1.0], [50, 22, 1, 0.42562455]], [[53, 2, 1, 0.35841152], [55, 3, 4, 0.54233307], [55, 7, 2, 1.0], [55, 9, 2, 0.800909]], [[53, 0, 4, 0.46386644], [53, 4, 3, 0.3453889], [53, 7, 2, 1.0]], [[50, 2, 4, 0.8502282], [48, 15, 3, 0.61902297], [52, 18, 2, 0.76210415], [52, 20, 2, 1.0]], [[57, 0, 1, 0.59370744], [67, 2, 1, 0.36878908], [69, 4, 2, 0.60006464], [70, 11, 2, 0.66475344], [69, 15, 2, 0.92896694], [69, 17, 1, 0.8079882], [69, 21, 2, 1.0]], [[53, 4, 5, 1.0]], [[50, 0, 2, 1.0], [57, 3, 2, 0.7287078], [57, 9, 8, 0.913249], [55, 12, 1, 0.8238824], [58, 16, 2, 0.39003828], [55, 18, 1, 0.7318161]], [[53, 1, 3, 0.85477626], [53, 4, 1, 0.7779538], [53, 7, 1, 0.6879093], [53, 11, 2, 0.77053994], [53, 13, 5, 0.7920105], [53, 18, 3, 1.0]], [[53, 1, 1, 0.39869842], [48, 10, 4, 0.46715897], [48, 14, 2, 1.0], [50, 21, 2, 0.5298454]], [[57, 3, 2, 0.7074536], [57, 9, 3, 1.0], [55, 12, 1, 0.8132802], [53, 17, 1, 0.9143969]], [[55, 0, 2, 0.5341579], [53, 6, 1, 1.0], [50, 15, 2, 0.52688056], [50, 19, 1, 0.582833], [50, 22, 1, 0.80785584]], [[53, 1, 2, 0.8775689], [53, 3, 2, 0.797329], [53, 7, 1, 0.7017005], [53, 11, 2, 0.788056], [53, 13, 5, 0.8071589], [53, 18, 3, 1.0]]]\n",
            "down_leapingF#  generate done!\n",
            "info is \n",
            " [[[49, 1, 3, 0.9252656], [49, 4, 2, 0.5899088], [44, 7, 3, 1.0], [44, 10, 2, 0.91768104], [44, 14, 2, 0.3395933]], [[44, 0, 1, 0.7336987], [54, 2, 2, 0.5098853], [56, 4, 2, 0.7015209], [53, 9, 5, 0.64645714], [56, 15, 2, 1.0], [56, 17, 1, 0.80288595], [56, 21, 2, 0.99725]], [[44, 2, 1, 0.4489777], [46, 3, 3, 0.8220485], [46, 6, 2, 1.0]], [[44, 0, 1, 0.44228265], [51, 3, 2, 0.9617466], [51, 9, 3, 1.0], [49, 12, 1, 0.73158413], [51, 15, 2, 0.44603786], [47, 17, 1, 0.4522977]], [[46, 0, 1, 0.41186568], [58, 4, 2, 0.5615247], [59, 11, 2, 0.59527266], [58, 15, 2, 1.0], [58, 17, 1, 0.7714577], [58, 21, 2, 0.88787395]], [[44, 0, 5, 0.5977028], [42, 16, 3, 1.0], [42, 19, 2, 0.69626504], [46, 20, 2, 0.75001216], [39, 22, 2, 0.8410338]], [[54, 0, 1, 0.7549659], [54, 4, 3, 0.79234177], [54, 7, 1, 0.8954807], [47, 9, 3, 0.8029114], [49, 11, 2, 1.0], [53, 13, 2, 0.6405774], [54, 15, 3, 0.99232656], [54, 18, 3, 0.7246982]], [[44, 1, 2, 0.42287], [42, 6, 1, 1.0], [39, 15, 2, 0.4175515], [39, 18, 2, 0.5036975], [39, 22, 1, 0.57432985]], [[44, 0, 1, 0.5994451], [44, 4, 1, 0.43611437], [44, 7, 1, 0.6885385], [37, 9, 3, 0.5072393], [39, 11, 3, 1.0], [44, 15, 6, 0.57919186], [47, 20, 1, 0.59074354]], [[44, 0, 5, 0.6228832], [42, 16, 3, 0.92131174], [42, 19, 2, 1.0], [39, 22, 2, 0.9175454]], [[46, 0, 3, 0.8849553], [44, 4, 3, 0.7044367], [44, 7, 2, 0.6890141], [42, 10, 4, 0.76823366], [41, 13, 1, 1.0]], [[44, 5, 3, 1.0], [47, 7, 3, 0.5390095], [47, 10, 1, 0.34941167]], [[41, 1, 3, 0.60278046], [42, 4, 2, 0.51004237], [39, 8, 2, 0.6707653], [39, 10, 2, 1.0]], [[44, 5, 2, 0.3944592], [47, 7, 1, 0.44025058], [35, 14, 2, 1.0]], [[44, 0, 2, 0.75537294], [37, 1, 2, 0.71782094], [37, 3, 2, 0.706815], [32, 5, 3, 0.95251006], [32, 8, 2, 1.0]], [[44, 1, 2, 0.6363285], [44, 4, 2, 0.41419423], [46, 6, 2, 0.35461086], [39, 7, 3, 0.8203764], [39, 10, 4, 0.8178246], [39, 14, 2, 1.0], [41, 21, 2, 0.38186854]]]\n",
            "down_leapingG  generate done!\n",
            "info is \n",
            " [[[48, 1, 2, 0.60027283], [48, 4, 2, 0.38097736], [50, 6, 2, 0.33694524], [43, 7, 3, 0.7664609], [43, 10, 4, 0.773214], [43, 14, 2, 1.0], [45, 21, 2, 0.391989]], [[45, 0, 1, 0.59454703], [54, 2, 2, 0.5746034], [57, 4, 2, 0.5997906], [54, 9, 4, 1.0], [57, 15, 3, 0.8002439], [57, 21, 2, 0.78559935]], [[45, 0, 1, 0.340197], [54, 7, 2, 0.8791858], [54, 9, 2, 1.0], [54, 11, 3, 0.7301746], [50, 16, 3, 0.51055104], [50, 19, 1, 0.5830083]], [[47, 7, 2, 0.81192464], [47, 9, 5, 1.0], [43, 16, 3, 0.46179512], [43, 19, 1, 0.54527974]], [[45, 0, 3, 0.4259058], [43, 6, 1, 1.0], [40, 15, 2, 0.5169221], [40, 18, 2, 0.52042323], [40, 22, 1, 0.62593156]], [[47, 0, 1, 0.69839555], [57, 2, 1, 0.4501508], [59, 4, 2, 0.64803314], [57, 10, 1, 0.5122238], [60, 11, 2, 0.48555538], [59, 15, 2, 0.9824091], [59, 17, 1, 0.7962549], [59, 21, 2, 1.0]], [[45, 0, 2, 0.77094036], [38, 3, 2, 0.5297452], [38, 7, 1, 0.33609357], [33, 8, 3, 1.0]], [[45, 3, 1, 0.4776263], [47, 4, 1, 0.69089025], [59, 9, 3, 1.0], [57, 12, 1, 0.8120652], [55, 17, 1, 0.92164826]], [[45, 0, 2, 0.6339042], [45, 7, 1, 0.5586562], [38, 9, 3, 0.5029992], [40, 11, 3, 1.0], [48, 20, 1, 0.62673366]], [[45, 0, 2, 0.62330544], [45, 7, 1, 0.5650331], [38, 9, 3, 0.48251534], [40, 11, 3, 1.0], [48, 20, 1, 0.6253192]], [[55, 0, 1, 0.7748009], [55, 3, 2, 0.9689926], [55, 6, 2, 0.38922647], [48, 9, 3, 1.0], [54, 13, 1, 0.9264577], [55, 16, 3, 0.6736042], [55, 19, 2, 0.9754656]], [[45, 0, 2, 0.6112881], [52, 3, 2, 0.9658303], [52, 9, 3, 0.992394], [50, 12, 1, 0.5889413], [52, 15, 2, 1.0]], [[45, 1, 2, 1.0], [45, 3, 2, 0.68870866], [42, 6, 3, 0.78186303]], [[45, 0, 2, 0.72164744], [52, 3, 2, 0.7688924], [52, 9, 6, 1.0], [50, 12, 2, 0.80512965], [52, 15, 2, 0.89593863], [50, 18, 1, 0.4118826]], [[45, 0, 1, 0.5445983], [52, 3, 2, 1.0], [52, 9, 3, 0.95453227], [50, 12, 1, 0.7035547], [52, 15, 2, 0.74425787]], [[45, 1, 4, 1.0], [40, 7, 2, 0.8676873], [40, 9, 2, 0.67237526]]]\n",
            "down_leapingG#  generate done!\n",
            "info is \n",
            " [[[48, 1, 3, 1.0], [48, 4, 1, 0.37319776], [43, 7, 2, 0.8158793], [43, 9, 2, 0.7053626]], [[39, 0, 1, 0.43669775], [48, 2, 2, 0.34628204], [51, 4, 2, 0.3352039], [48, 7, 2, 0.72866], [48, 9, 2, 1.0], [48, 11, 3, 0.8653559], [51, 15, 3, 0.52853245], [44, 16, 2, 0.4771122], [51, 21, 2, 0.4995068]], [[46, 1, 2, 0.7159274], [44, 6, 1, 1.0], [41, 18, 2, 0.59846544], [41, 21, 2, 0.65192467]], [[48, 7, 2, 0.6591822], [48, 9, 4, 1.0], [44, 16, 3, 0.36194026], [44, 19, 1, 0.5385907]], [[48, 7, 2, 0.6697143], [48, 9, 5, 1.0], [44, 16, 3, 0.3643609], [44, 19, 1, 0.54125327]], [[44, 0, 1, 0.5736176], [44, 3, 2, 0.4109142], [44, 7, 1, 0.68134993], [37, 9, 3, 0.5047435], [39, 11, 3, 1.0], [43, 13, 1, 0.5996904], [44, 15, 6, 0.5886052]], [[44, 0, 1, 0.57364655], [44, 4, 1, 0.42737883], [44, 7, 1, 0.6859356], [37, 9, 3, 0.50434005], [39, 11, 3, 1.0], [43, 13, 1, 0.5918642], [44, 15, 6, 0.5908195]], [[48, 0, 2, 1.0], [55, 3, 2, 0.70045435], [53, 9, 3, 0.8815023], [55, 10, 7, 0.9050336], [53, 12, 1, 0.82302225], [56, 16, 2, 0.38475174], [53, 18, 1, 0.74410623]], [[44, 0, 1, 0.75594753], [44, 4, 2, 1.0], [44, 6, 2, 0.547728], [37, 9, 3, 0.99676406], [39, 11, 2, 0.64904046], [43, 13, 2, 0.70071393], [44, 15, 3, 0.87817544], [44, 18, 2, 0.9497222], [44, 20, 1, 0.8358046]], [[46, 0, 1, 0.4153539], [53, 3, 2, 0.9503035], [53, 9, 3, 1.0], [51, 12, 1, 0.7326998], [53, 15, 2, 0.4007818], [49, 17, 1, 0.49050164]], [[44, 0, 1, 0.38751656], [53, 2, 2, 0.36401317], [53, 7, 2, 0.96201426], [53, 9, 2, 1.0], [53, 11, 2, 0.79658246], [49, 16, 2, 0.48791945]], [[41, 0, 2, 1.0], [48, 3, 2, 0.7814522], [48, 9, 6, 0.9794931], [46, 12, 2, 0.82964295], [48, 15, 2, 0.46499205], [46, 18, 1, 0.6958217]], [[44, 0, 2, 0.6910758], [51, 3, 2, 0.7647511], [56, 6, 1, 0.33818555], [51, 9, 6, 1.0], [49, 12, 2, 0.8048954], [51, 15, 2, 0.92153287], [49, 18, 1, 0.39232752]], [[44, 1, 3, 1.0], [44, 4, 1, 0.4124938], [39, 7, 2, 0.81903017], [39, 9, 2, 0.7202928]], [[37, 1, 4, 0.9421968], [36, 4, 1, 0.93644655], [32, 7, 2, 1.0], [32, 9, 2, 0.7750285]], [[43, 1, 1, 1.0], [46, 4, 1, 0.3876843], [43, 7, 1, 0.90929854], [43, 18, 3, 0.9524424], [44, 20, 3, 0.6956997]]]\n",
            "down_leapingA  generate done!\n",
            "info is \n",
            " [[[49, 1, 3, 1.0], [49, 4, 1, 0.3643652], [44, 7, 2, 0.8138088], [44, 9, 2, 0.69397265]], [[44, 7, 2, 0.6430258], [44, 9, 3, 1.0], [42, 14, 1, 0.39790025], [40, 19, 1, 0.4956801]], [[44, 0, 1, 0.36237663], [54, 2, 1, 0.39166206], [56, 4, 2, 0.47456297], [56, 15, 3, 1.0], [56, 21, 2, 0.9214683]], [[45, 3, 2, 0.48282334], [47, 7, 2, 0.3744224], [42, 19, 1, 0.5210133]], [[44, 0, 1, 0.6951595], [54, 2, 1, 0.43851504], [56, 4, 2, 0.6313055], [54, 10, 1, 0.47395828], [57, 11, 2, 0.49016055], [56, 15, 2, 0.96976435], [56, 17, 1, 0.79594946], [56, 21, 2, 1.0]], [[44, 0, 1, 0.47427294], [54, 2, 1, 0.37612718], [56, 4, 2, 0.3973635], [57, 12, 1, 0.3341388], [56, 15, 3, 0.7879755], [56, 21, 2, 0.4878749]], [[45, 0, 2, 1.0], [42, 9, 3, 0.5528348], [38, 19, 1, 0.56276697]], [[44, 9, 2, 1.0], [44, 11, 3, 0.7120903], [40, 16, 3, 0.51420194], [40, 19, 1, 0.35685968]], [[44, 1, 3, 1.0], [45, 3, 5, 0.936322], [45, 8, 1, 0.799985]], [[44, 0, 2, 0.7579633], [40, 3, 2, 0.48653147], [37, 19, 1, 0.6184715]], [[54, 1, 2, 0.6724088], [44, 5, 2, 0.6373615], [54, 8, 2, 0.42350602], [50, 15, 2, 0.9288693], [50, 17, 1, 0.7581459], [56, 21, 2, 1.0]], [[44, 0, 2, 0.92734134], [40, 3, 2, 0.46362048], [37, 19, 1, 0.6861979]], [[44, 1, 3, 0.66468954], [45, 4, 2, 0.5794577], [42, 7, 3, 0.718683], [42, 10, 2, 1.0]], [[45, 7, 2, 0.6124168], [44, 9, 5, 1.0], [40, 16, 3, 0.5742298], [40, 19, 1, 0.5580156]], [[54, 1, 3, 0.4117655], [44, 5, 3, 0.5272448], [54, 9, 4, 0.46482465], [50, 15, 2, 0.7745878], [50, 17, 1, 0.651501], [56, 21, 3, 1.0]], [[45, 3, 2, 0.4785592], [47, 7, 2, 0.5694221], [42, 16, 3, 0.54506785], [42, 19, 1, 0.61173743]]]\n",
            "down_leapingA#  generate done!\n",
            "info is \n",
            " [[[48, 1, 1, 0.39601055], [43, 10, 4, 0.49678493], [43, 14, 2, 1.0], [45, 21, 2, 0.50158715]], [[46, 0, 1, 0.7335334], [55, 2, 2, 0.63343877], [58, 4, 2, 0.78787154], [55, 9, 5, 1.0], [58, 15, 3, 0.88915896], [58, 21, 2, 0.9436024]], [[46, 0, 1, 0.7675367], [55, 2, 2, 0.63181365], [58, 4, 2, 0.79775995], [55, 9, 5, 0.96563303], [58, 15, 3, 1.0], [58, 21, 2, 0.9805654]], [[50, 7, 2, 0.6711472], [50, 9, 4, 1.0], [48, 14, 1, 0.3555569], [46, 19, 1, 0.5057007]], [[46, 3, 2, 0.8911896], [48, 7, 2, 0.68587345], [45, 14, 1, 0.51790494], [43, 16, 3, 0.45089996], [43, 19, 1, 0.5450333]], [[45, 1, 3, 1.0], [46, 3, 5, 0.866091], [46, 8, 1, 0.768719]], [[43, 0, 4, 0.6922068], [43, 4, 1, 0.6236091], [43, 7, 3, 1.0], [38, 8, 2, 0.67137694], [43, 10, 4, 0.6593382]], [[46, 7, 2, 0.6806652], [45, 9, 3, 1.0], [43, 14, 1, 0.4981416], [41, 16, 3, 0.44273958], [41, 19, 1, 0.53821766]], [[46, 3, 2, 0.43786833], [48, 7, 2, 0.46107912], [43, 16, 3, 0.41143832], [43, 19, 1, 0.55629003]], [[45, 2, 2, 0.8758081], [45, 4, 6, 0.8788865], [45, 10, 2, 1.0]], [[43, 0, 2, 0.91323364], [50, 3, 2, 0.78948027], [50, 9, 6, 1.0], [48, 12, 2, 0.7952812], [50, 15, 2, 0.5923481], [48, 18, 1, 0.58546996]], [[50, 0, 3, 0.8042163], [51, 2, 1, 0.5499863], [48, 4, 3, 0.52718234], [48, 7, 2, 0.6304207], [46, 10, 4, 0.737445], [45, 13, 1, 1.0]], [[45, 5, 3, 1.0]], [[43, 0, 1, 0.5318381], [41, 6, 2, 1.0], [38, 18, 2, 0.47443452], [38, 22, 1, 0.6386086]], [[45, 1, 2, 0.97218394], [45, 3, 2, 0.88296556], [45, 7, 1, 0.76355207], [45, 11, 2, 0.8551836], [45, 13, 5, 0.86994267], [45, 18, 3, 1.0], [46, 20, 3, 0.6111609]], [[46, 1, 1, 0.39805385], [41, 10, 4, 0.4729492], [41, 14, 2, 1.0], [43, 21, 2, 0.51108515]]]\n",
            "down_leapingB  generate done!\n",
            "info is \n",
            " [[[52, 0, 3, 0.3745737], [56, 5, 2, 0.719748], [59, 7, 1, 1.0]], [[58, 0, 1, 0.5856742], [68, 2, 1, 0.3685052], [70, 4, 2, 0.60365295], [71, 11, 2, 0.6787768], [70, 15, 2, 0.93447685], [70, 17, 1, 0.8243238], [70, 21, 2, 1.0]], [[63, 7, 2, 0.6668721], [63, 9, 4, 1.0], [61, 13, 2, 0.368279], [59, 16, 3, 0.36088964], [59, 19, 1, 0.5462071]], [[68, 1, 2, 0.6058982], [58, 5, 2, 0.64079803], [68, 8, 2, 0.3882167], [64, 15, 2, 0.873259], [64, 17, 1, 0.75125045], [70, 21, 2, 1.0]], [[59, 0, 1, 0.44584528], [71, 4, 2, 0.33535597], [68, 7, 2, 0.8435517], [68, 9, 2, 1.0], [68, 11, 3, 0.88330805], [71, 15, 3, 0.45591316], [64, 16, 2, 0.49080735], [71, 21, 2, 0.50648767]], [[59, 0, 1, 0.43504685], [68, 2, 2, 0.36657676], [71, 4, 2, 0.33673722], [68, 9, 2, 1.0], [68, 11, 3, 0.8400612], [71, 15, 3, 0.5871675], [64, 16, 2, 0.4651517], [71, 21, 2, 0.49209908]], [[61, 0, 3, 0.5258781], [59, 6, 1, 1.0], [56, 15, 2, 0.5316287], [56, 19, 3, 0.5732073], [56, 22, 1, 0.7993337]], [[59, 5, 3, 1.0]], [[59, 0, 2, 1.0], [66, 3, 2, 0.7540679], [66, 9, 6, 0.9457022], [64, 12, 2, 0.82830393], [66, 15, 2, 0.41843054], [64, 18, 1, 0.7137022]], [[59, 1, 2, 0.5794587], [54, 10, 1, 0.37910244], [54, 14, 2, 1.0], [56, 21, 2, 0.5185789]], [[59, 1, 4, 0.9998659], [58, 4, 1, 0.8218722], [54, 7, 2, 1.0], [54, 9, 2, 0.8499934]], [[59, 2, 2, 0.4567924], [63, 7, 2, 1.0]], [[54, 1, 3, 0.54279613], [54, 4, 1, 0.35940284], [52, 7, 2, 0.53265613], [49, 9, 2, 0.5878614], [54, 13, 3, 1.0], [64, 15, 2, 0.45504642], [61, 16, 1, 0.6069718], [64, 17, 1, 0.686167], [70, 21, 2, 0.7899159]], [[61, 0, 4, 1.0], [61, 4, 2, 0.42219692], [59, 15, 5, 0.93867785], [63, 20, 2, 0.7602632], [56, 22, 1, 0.62821645]], [[61, 0, 1, 0.3968517], [71, 2, 1, 0.37693477], [73, 4, 2, 0.40636885], [73, 15, 3, 1.0], [73, 21, 2, 0.96243113]], [[61, 5, 3, 1.0], [64, 7, 3, 0.7646232], [64, 10, 1, 0.4114619]]]\n",
            "down_stepingC  generate done!\n",
            "info is \n",
            " [[[48, 1, 4, 1.0], [47, 4, 1, 0.93061346], [43, 7, 2, 0.9638168], [43, 9, 2, 0.80974233]], [[43, 2, 1, 0.43278235], [45, 3, 3, 0.8217224], [45, 6, 2, 1.0]], [[43, 0, 2, 0.6092169], [50, 3, 2, 0.98204327], [50, 9, 3, 1.0], [48, 12, 1, 0.59572655], [50, 15, 2, 0.9987263]], [[45, 0, 2, 0.96079755], [52, 3, 2, 0.60394263], [45, 4, 3, 0.3434889], [45, 7, 1, 0.3950157], [38, 9, 3, 1.0], [40, 10, 7, 0.9117235], [38, 12, 1, 0.7384937], [50, 13, 2, 0.41341272], [53, 16, 2, 0.3654727], [50, 18, 1, 0.69542664]], [[43, 0, 1, 0.73868585], [52, 2, 2, 0.63730603], [55, 4, 2, 0.79738784], [52, 9, 5, 1.0], [55, 15, 3, 0.9048642], [55, 21, 2, 0.95586437]], [[43, 0, 4, 0.44191855], [43, 4, 2, 0.49833867], [41, 16, 2, 0.75849414], [45, 18, 2, 0.73105437], [45, 20, 2, 1.0]], [[43, 2, 1, 0.47576806], [45, 3, 3, 0.86756915], [45, 6, 2, 1.0]], [[43, 1, 2, 0.66320103], [43, 3, 3, 0.62708724], [40, 7, 2, 1.0]], [[43, 2, 1, 0.35598123], [45, 3, 4, 0.5514933], [45, 7, 2, 1.0], [45, 9, 2, 0.7771199]], [[43, 2, 1, 0.43261012], [45, 3, 4, 0.813694], [45, 7, 1, 1.0]], [[40, 0, 3, 0.8193095], [41, 2, 1, 0.59663934], [38, 4, 3, 0.56923044], [38, 7, 2, 0.67031103], [36, 10, 4, 0.74253726], [35, 13, 1, 1.0]], [[43, 0, 1, 0.40598947], [53, 2, 1, 0.37498483], [55, 4, 2, 0.3820525], [55, 15, 3, 1.0], [55, 21, 2, 0.96707195]], [[43, 1, 4, 1.0], [38, 7, 4, 0.9950741]], [[33, 1, 2, 0.56799805], [23, 5, 2, 0.6146988], [33, 8, 2, 0.37980175], [29, 15, 2, 0.84468174], [29, 17, 1, 0.75732476], [35, 21, 2, 1.0]], [[43, 0, 2, 0.73518914], [36, 1, 2, 0.63735694], [36, 3, 2, 0.7534878], [31, 8, 3, 1.0]], [[40, 1, 3, 1.0], [41, 5, 4, 0.6709301], [40, 8, 2, 0.79049623], [38, 10, 2, 0.60981894]]]\n",
            "down_stepingC#  generate done!\n",
            "info is \n",
            " [[[53, 0, 3, 0.87548435], [51, 4, 3, 0.74284047], [51, 7, 2, 0.6837924], [49, 10, 4, 0.73093015], [48, 13, 1, 1.0]], [[48, 1, 3, 0.8163054], [48, 4, 1, 0.72154844], [48, 7, 1, 0.6473029], [48, 11, 2, 0.72839123], [48, 13, 1, 0.7728486], [48, 18, 3, 1.0]], [[49, 1, 2, 1.0], [48, 4, 1, 0.7864995], [44, 7, 2, 0.88927007], [44, 9, 2, 0.7207964]], [[48, 1, 3, 0.8158693], [48, 4, 1, 0.7179536], [48, 7, 1, 0.6448586], [48, 13, 1, 0.7706202], [48, 18, 3, 1.0]], [[48, 0, 2, 0.7041462], [41, 1, 2, 0.52735275], [41, 3, 2, 0.594182], [36, 8, 3, 1.0]], [[46, 2, 1, 0.35707372], [48, 3, 4, 0.51538235], [48, 7, 2, 1.0], [48, 9, 2, 0.8348181]], [[48, 1, 3, 1.0], [48, 4, 1, 0.7837749], [48, 7, 1, 0.67864054], [48, 11, 2, 0.7308812], [48, 13, 2, 0.78562677], [48, 15, 3, 0.62181425], [48, 18, 3, 0.97670233]], [[48, 2, 2, 0.7233791], [48, 4, 6, 0.7635762], [48, 10, 2, 1.0]], [[48, 2, 2, 0.60264754], [48, 4, 4, 0.63252264], [48, 8, 3, 0.5667827], [49, 15, 1, 1.0], [51, 21, 2, 0.6597757]], [[48, 2, 2, 0.7149967], [48, 4, 2, 0.6234554], [51, 12, 1, 0.5364265], [49, 15, 1, 0.77198803], [51, 21, 2, 0.9641239]], [[51, 0, 2, 0.45856458], [51, 2, 3, 0.536042], [49, 15, 2, 0.43400413], [53, 18, 4, 1.0]], [[51, 0, 5, 0.6305602], [49, 16, 3, 0.9611582], [49, 19, 2, 1.0], [46, 22, 2, 0.9364357]], [[49, 2, 1, 0.35358775], [51, 3, 4, 0.62625855], [51, 7, 2, 1.0], [51, 9, 2, 0.6949951]], [[42, 7, 2, 1.0], [42, 9, 2, 0.95083296], [41, 15, 1, 0.39012814], [44, 18, 2, 0.5828941]], [[48, 1, 4, 1.0], [49, 4, 4, 0.9910593], [49, 8, 1, 0.7898772]], [[46, 0, 2, 0.94442225], [53, 3, 2, 0.5631545], [46, 4, 3, 0.35301155], [46, 7, 1, 0.45011434], [39, 9, 3, 1.0], [41, 10, 7, 0.8843041], [41, 11, 3, 0.33882886], [39, 12, 1, 0.69952685], [51, 13, 2, 0.4648942], [54, 16, 2, 0.35165635], [51, 18, 1, 0.6609672]]]\n",
            "down_stepingD  generate done!\n",
            "info is \n",
            " [[[54, 0, 3, 0.7774322], [55, 2, 1, 0.55264646], [52, 4, 3, 0.5537451], [52, 7, 2, 0.6569799], [49, 10, 3, 0.7804801], [49, 13, 1, 1.0]], [[49, 2, 2, 0.87568396], [49, 4, 6, 0.8820718], [49, 10, 2, 1.0]], [[45, 0, 2, 1.0], [42, 9, 3, 0.38071993], [38, 19, 1, 0.49440843]], [[54, 7, 2, 0.66375035], [54, 9, 4, 1.0], [52, 13, 2, 0.35325408], [50, 19, 1, 0.5188965]], [[54, 7, 2, 0.6315328], [54, 9, 3, 1.0], [52, 14, 1, 0.41149172], [50, 19, 1, 0.5048281]], [[49, 0, 2, 0.81486547], [42, 3, 2, 0.566825], [42, 7, 5, 0.503335], [37, 8, 3, 1.0]], [[45, 0, 1, 0.43834502], [54, 2, 2, 0.34216696], [54, 7, 2, 0.7660493], [54, 9, 2, 1.0], [54, 11, 3, 0.86858225], [57, 15, 3, 0.5246427], [50, 16, 2, 0.47476768], [57, 21, 2, 0.49602127]], [[49, 1, 5, 0.9460863], [50, 4, 3, 1.0], [50, 7, 2, 0.7776109]], [[45, 0, 1, 0.7423357], [54, 2, 1, 0.50875074], [57, 4, 2, 0.71557695], [54, 9, 5, 0.6785941], [57, 15, 3, 0.97968256], [57, 21, 2, 1.0]], [[50, 0, 1, 0.37950855], [59, 2, 2, 0.3733383], [59, 9, 2, 1.0], [59, 11, 2, 0.77166086]], [[49, 1, 1, 0.6068404], [50, 3, 3, 0.56436664], [47, 7, 2, 1.0]], [[43, 1, 2, 0.83001596], [38, 5, 2, 0.4694349], [38, 9, 2, 0.9074078], [43, 13, 3, 1.0], [42, 15, 2, 0.6840851], [38, 16, 1, 0.87434], [42, 17, 2, 0.81890804], [42, 21, 2, 0.67425644]], [[49, 1, 5, 0.9489066], [50, 4, 3, 1.0], [50, 7, 2, 0.8258818]], [[49, 1, 3, 1.0], [50, 3, 5, 0.7416367], [50, 8, 1, 0.6069295]], [[49, 1, 3, 0.6256789], [50, 4, 2, 0.54069644], [47, 8, 2, 0.6874694], [47, 10, 2, 1.0]], [[47, 0, 3, 0.8388208], [45, 4, 3, 0.8620634], [45, 7, 2, 0.72098744], [43, 10, 4, 0.5032157], [42, 13, 1, 1.0]]]\n",
            "down_stepingD#  generate done!\n",
            "info is \n",
            " [[[48, 1, 4, 0.86774427], [46, 4, 1, 0.65796965], [43, 7, 2, 1.0], [43, 9, 2, 0.81171256]], [[41, 0, 1, 0.4474955], [50, 7, 2, 0.9313966], [50, 9, 2, 1.0], [50, 11, 2, 0.8255242], [46, 16, 3, 0.55866706], [46, 19, 1, 0.4314883], [53, 21, 2, 0.3968058]], [[46, 3, 1, 0.4029926], [48, 4, 1, 0.70489585], [55, 6, 1, 0.3491495], [60, 9, 3, 0.9830056], [58, 12, 1, 0.86190236], [56, 17, 1, 1.0]], [[43, 0, 1, 0.53455245], [53, 2, 1, 0.34893334], [55, 4, 2, 0.60581475], [56, 11, 2, 0.6914054], [55, 15, 2, 0.950047], [55, 17, 1, 0.8297454], [55, 21, 2, 1.0]], [[44, 3, 2, 0.6713658], [44, 12, 3, 0.42068243], [41, 16, 3, 0.3674186], [41, 19, 1, 0.5331765]], [[44, 1, 1, 0.5111401], [39, 10, 2, 0.42109066], [39, 14, 2, 1.0], [41, 21, 2, 0.5251427]], [[43, 1, 2, 0.44635662], [41, 6, 1, 1.0], [38, 15, 2, 0.39088437], [38, 18, 2, 0.49060363], [38, 22, 1, 0.56177855]], [[46, 1, 3, 0.5068834], [46, 4, 1, 0.3940011], [44, 7, 2, 0.43177196], [41, 9, 2, 0.48886245], [46, 13, 3, 1.0], [56, 15, 2, 0.5047171], [53, 16, 1, 0.516651], [56, 17, 1, 0.7068187], [62, 21, 3, 0.8902362]], [[43, 0, 1, 0.35285565], [53, 2, 1, 0.42086536], [55, 4, 2, 0.61238784], [56, 11, 2, 0.35036504], [55, 15, 3, 1.0], [55, 21, 2, 0.92836016]], [[43, 0, 4, 0.4554532], [43, 4, 3, 0.41404736], [43, 7, 3, 1.0], [43, 10, 2, 0.3850663]], [[43, 0, 2, 0.54815847], [50, 3, 2, 0.80121124], [50, 9, 3, 0.9401089], [48, 12, 1, 0.5192272], [50, 15, 2, 1.0]], [[43, 1, 3, 0.63803124], [44, 3, 3, 0.53086233], [41, 7, 3, 1.0], [41, 10, 1, 0.3394284]], [[43, 1, 4, 1.0], [38, 7, 2, 0.81645036], [38, 9, 2, 0.68106776]], [[43, 5, 3, 1.0], [46, 7, 3, 0.4301247], [46, 10, 1, 0.38075396]], [[39, 0, 1, 0.67372376], [39, 4, 1, 1.0], [39, 6, 2, 0.46441802], [32, 9, 3, 0.9388286], [38, 13, 2, 0.8188712], [39, 16, 2, 0.71547884], [39, 18, 2, 0.84427506], [39, 20, 1, 0.84905356]], [[43, 0, 1, 0.47867268], [55, 4, 2, 0.60006475], [56, 11, 2, 0.6626489], [55, 15, 2, 1.0], [55, 17, 1, 0.8400352], [55, 21, 2, 0.99797636]]]\n",
            "down_stepingE  generate done!\n",
            "info is \n",
            " [[[49, 0, 5, 0.9170062], [47, 7, 2, 0.9655659], [44, 10, 3, 1.0], [44, 13, 1, 0.9243568]], [[40, 0, 1, 0.71412104], [40, 4, 1, 1.0], [40, 6, 2, 0.44466767], [33, 9, 3, 0.95116323], [39, 13, 1, 0.89326364], [40, 16, 4, 0.70887065], [40, 20, 1, 0.90052396]], [[44, 1, 2, 0.5660651], [42, 6, 1, 1.0], [39, 18, 2, 0.54675543], [39, 21, 2, 0.6039059]], [[44, 0, 1, 0.3356021], [54, 2, 1, 0.4017467], [56, 4, 2, 0.57224137], [56, 15, 3, 1.0], [56, 21, 2, 0.90100765]], [[45, 3, 2, 0.6348551], [45, 12, 3, 0.48294598], [42, 16, 3, 0.3741083], [42, 19, 1, 0.5302215]], [[44, 1, 3, 0.9585452], [45, 5, 2, 0.69029224], [44, 8, 1, 0.4559288], [42, 10, 2, 1.0]], [[44, 1, 3, 1.0], [44, 4, 2, 0.6421028], [39, 7, 3, 0.9463754], [39, 10, 2, 0.8260945]], [[40, 2, 2, 0.3498208], [44, 4, 5, 1.0]], [[44, 0, 1, 0.5885218], [44, 4, 1, 0.54590684], [44, 7, 1, 0.74119335], [37, 9, 3, 0.55744404], [39, 11, 3, 1.0], [44, 15, 3, 0.7013005], [44, 18, 3, 0.3381561], [47, 20, 1, 0.45694554]], [[44, 0, 2, 1.0], [51, 3, 2, 0.76627386], [51, 9, 6, 0.9793043], [49, 12, 2, 0.827918], [51, 15, 2, 0.48125944], [49, 18, 1, 0.6838706]], [[45, 1, 2, 0.81929016], [40, 5, 2, 0.39205176], [40, 7, 2, 0.84356475], [40, 9, 2, 0.94064564], [45, 13, 1, 0.7262081], [44, 15, 2, 0.8253399], [44, 17, 1, 0.6054234], [44, 21, 2, 1.0]], [[44, 0, 2, 0.5971853], [51, 3, 2, 0.7196761], [51, 9, 3, 1.0], [49, 12, 2, 0.74881846], [51, 15, 2, 0.92320293], [49, 18, 1, 0.33508396]], [[47, 0, 2, 1.0], [44, 9, 3, 0.66669255], [40, 19, 1, 0.61520064]], [[44, 0, 4, 1.0], [44, 4, 1, 0.9764152], [44, 7, 1, 0.86768246], [44, 11, 3, 0.97702485]], [[44, 0, 2, 0.98737466], [51, 3, 2, 0.6232053], [44, 4, 3, 0.34774116], [44, 7, 1, 0.38393372], [37, 9, 3, 1.0], [39, 10, 7, 0.94304955], [37, 12, 1, 0.7761154], [49, 13, 2, 0.41056663], [52, 16, 2, 0.37520963], [49, 18, 1, 0.71561956]], [[49, 0, 2, 0.9192882], [49, 4, 3, 0.41734612], [49, 7, 1, 0.74827385], [51, 8, 2, 0.5121984], [42, 9, 2, 0.8064426], [44, 10, 2, 0.53424734], [44, 11, 2, 1.0], [44, 13, 2, 0.93851954], [56, 14, 2, 0.37641844], [52, 20, 1, 0.7305688]]]\n",
            "down_stepingF  generate done!\n",
            "info is \n",
            " [[[53, 1, 4, 0.98870647], [52, 4, 1, 0.99694073], [48, 7, 2, 1.0], [48, 9, 2, 0.79591423]], [[48, 0, 1, 0.43669608], [57, 2, 2, 0.34405464], [60, 4, 2, 0.3362694], [57, 7, 2, 0.73336476], [57, 9, 2, 1.0], [57, 11, 3, 0.8650462], [60, 15, 3, 0.4989394], [53, 16, 2, 0.47339574], [60, 21, 2, 0.50451195]], [[52, 1, 3, 0.59955126], [53, 3, 3, 0.42537576], [50, 8, 2, 0.6751916], [50, 10, 2, 1.0]], [[48, 0, 1, 0.65742123], [57, 2, 2, 0.6069994], [60, 4, 2, 0.72787434], [57, 9, 4, 1.0], [60, 15, 3, 0.83291763], [60, 21, 2, 0.87003404]], [[48, 0, 1, 0.62391317], [57, 2, 2, 0.5888824], [60, 4, 2, 0.65757453], [57, 9, 4, 1.0], [60, 15, 3, 0.7997991], [60, 21, 2, 0.8232521]], [[48, 1, 2, 0.7247148], [43, 5, 4, 0.46977055], [46, 7, 1, 0.60403174], [43, 9, 2, 0.83102596], [48, 13, 2, 0.8455456], [43, 16, 1, 1.0], [46, 17, 1, 0.57192934], [52, 21, 2, 0.62415016]], [[48, 0, 1, 0.3703711], [57, 9, 2, 1.0], [57, 11, 3, 0.7470552], [53, 16, 3, 0.52666545], [53, 19, 1, 0.59090203]], [[48, 0, 2, 1.0], [55, 3, 2, 0.7481135], [55, 9, 6, 0.9421516], [53, 12, 1, 0.81289476], [55, 15, 2, 0.4093542], [53, 18, 1, 0.715699]], [[48, 1, 4, 1.0], [46, 4, 3, 0.65855575], [46, 7, 1, 0.8808286], [43, 10, 4, 0.85388434]], [[46, 1, 2, 0.82700574], [41, 5, 2, 0.38829133], [41, 7, 2, 0.8599611], [41, 9, 2, 0.9518989], [46, 13, 1, 0.7439278], [45, 15, 2, 0.82931644], [45, 17, 1, 0.64304435], [45, 21, 2, 1.0]], [[48, 1, 3, 1.0], [48, 4, 1, 0.37778822], [43, 7, 2, 0.8265684], [43, 9, 2, 0.70582724]], [[48, 2, 1, 0.47428617], [50, 3, 3, 0.88224155], [50, 6, 2, 1.0]], [[45, 1, 3, 1.0], [46, 3, 5, 0.86904836], [46, 8, 1, 0.7284324]], [[45, 1, 3, 1.0], [45, 4, 1, 0.72808504], [45, 7, 1, 0.64647055], [45, 11, 2, 0.71886146], [45, 13, 2, 0.7567955], [45, 15, 3, 0.66466445], [45, 18, 3, 0.9561672], [46, 22, 1, 0.5575093]], [[48, 0, 3, 0.33599702], [52, 5, 2, 1.0], [55, 7, 1, 0.78462875]], [[38, 2, 4, 0.38065034], [38, 9, 2, 0.40300465], [34, 15, 2, 0.7318272], [34, 17, 1, 0.6406542], [40, 21, 3, 1.0]]]\n",
            "down_stepingF#  generate done!\n",
            "info is \n",
            " [[[54, 1, 4, 1.0], [53, 4, 1, 0.97711325], [49, 7, 2, 0.9572758], [49, 9, 2, 0.75895613]], [[46, 2, 2, 1.0], [46, 4, 4, 0.92976195], [46, 8, 2, 0.97083676], [46, 10, 2, 0.9980422], [47, 15, 1, 0.3708593]], [[49, 0, 2, 1.0], [46, 9, 3, 0.51295096], [42, 19, 1, 0.5607666]], [[49, 0, 1, 0.7172833], [59, 2, 2, 0.50822824], [61, 4, 2, 0.6807517], [58, 9, 5, 0.63645977], [61, 15, 2, 1.0], [61, 17, 1, 0.7930863], [61, 21, 2, 0.9702736]], [[49, 0, 2, 0.6139152], [56, 3, 2, 0.72133774], [56, 9, 4, 1.0], [54, 12, 2, 0.7556123], [56, 15, 2, 0.92416096], [54, 18, 1, 0.3472169]], [[49, 0, 1, 0.73253214], [59, 2, 2, 0.5038798], [61, 4, 2, 0.69829977], [58, 9, 5, 0.63190186], [61, 15, 2, 0.9889542], [61, 17, 1, 0.80396944], [61, 21, 2, 1.0]], [[49, 2, 1, 0.34222606], [51, 3, 4, 0.48993424], [51, 7, 2, 1.0], [51, 9, 2, 0.8324557]], [[49, 3, 2, 0.5303676], [51, 7, 2, 0.63801414], [46, 16, 3, 0.55860764], [46, 19, 1, 0.56867534]], [[49, 0, 4, 1.0], [49, 4, 1, 0.4973011], [46, 15, 2, 0.45567995], [44, 18, 2, 0.3727862], [44, 22, 1, 0.6905477]], [[53, 0, 1, 0.42657894], [65, 4, 2, 0.57906], [66, 11, 2, 0.5883864], [65, 15, 2, 1.0], [65, 17, 1, 0.70847946], [65, 21, 2, 0.8107315]], [[49, 1, 2, 0.5021541], [44, 10, 2, 0.4294352], [44, 14, 2, 1.0], [46, 21, 2, 0.5286978]], [[49, 4, 1, 0.58107275], [49, 12, 3, 0.61647284], [46, 16, 3, 0.43896535], [46, 19, 1, 0.5334586]], [[53, 1, 3, 1.0], [53, 4, 1, 0.5816785], [53, 7, 1, 0.7225416], [53, 15, 3, 0.58425367], [53, 18, 3, 0.81189156], [54, 21, 2, 0.5906937]], [[49, 0, 1, 0.39641482], [58, 9, 2, 1.0], [58, 11, 2, 0.77185935], [54, 16, 3, 0.5228986], [54, 19, 1, 0.5576832]], [[49, 0, 2, 0.63068396], [47, 6, 1, 1.0], [44, 15, 2, 0.7142379], [44, 19, 3, 0.6688332], [44, 22, 1, 0.93228424]], [[53, 2, 2, 0.6969297], [53, 4, 4, 0.64761406], [53, 8, 3, 0.68626666], [54, 15, 1, 1.0], [56, 21, 1, 0.33763984]]]\n",
            "down_stepingG  generate done!\n",
            "info is \n",
            " [[[48, 0, 5, 0.94508886], [47, 4, 1, 0.59100664], [43, 10, 3, 1.0], [43, 13, 1, 0.9056932]], [[43, 2, 1, 0.38298738], [45, 3, 4, 0.75648177], [45, 7, 1, 1.0]], [[42, 0, 1, 0.33747795], [52, 2, 1, 0.39517316], [54, 4, 2, 0.5692367], [54, 15, 3, 1.0], [54, 21, 2, 0.8941511]], [[47, 1, 3, 0.8263778], [48, 5, 2, 0.5853191], [45, 10, 2, 1.0]], [[43, 0, 2, 0.57600886], [50, 3, 2, 1.0], [50, 9, 3, 0.9442701], [48, 12, 1, 0.6312415], [50, 15, 2, 0.7643939]], [[47, 1, 3, 0.99309325], [48, 4, 5, 0.67796797], [47, 8, 2, 1.0]], [[43, 5, 3, 1.0]], [[42, 1, 3, 1.0], [43, 3, 3, 0.68864036], [43, 6, 3, 0.6901107]], [[42, 1, 1, 1.0], [42, 4, 1, 0.50675327], [42, 7, 1, 0.8411822], [42, 18, 3, 0.9395338], [43, 21, 2, 0.69496363]], [[47, 0, 3, 0.79785377], [48, 2, 1, 0.5646928], [45, 4, 3, 0.5381244], [45, 7, 2, 0.63678354], [43, 10, 4, 0.7237323], [42, 13, 1, 1.0]], [[42, 7, 2, 0.67043155], [42, 9, 4, 1.0], [38, 16, 3, 0.36043888], [38, 19, 1, 0.5445097]], [[43, 0, 2, 0.72771025], [40, 9, 4, 1.0], [36, 19, 1, 0.6034669]], [[43, 0, 1, 0.35445777], [52, 9, 2, 1.0], [52, 11, 3, 0.8528411], [48, 16, 4, 0.56457555]], [[47, 9, 5, 1.0], [43, 16, 3, 0.49629232], [43, 19, 1, 0.37264195]], [[45, 2, 1, 0.4527843], [45, 5, 1, 0.5230541], [47, 10, 1, 1.0], [48, 12, 2, 0.7747377], [48, 21, 2, 0.8470429]], [[43, 1, 2, 1.0], [43, 3, 2, 0.80643004], [43, 7, 1, 0.7064325], [43, 11, 2, 0.7482486], [43, 13, 5, 0.8004262], [43, 18, 3, 0.98395586]]]\n",
            "down_stepingG#  generate done!\n",
            "info is \n",
            " [[[48, 0, 3, 0.76196486], [49, 2, 1, 0.5534138], [46, 4, 3, 0.55976266], [46, 7, 2, 0.6725032], [43, 10, 3, 0.7858199], [43, 13, 1, 1.0]], [[43, 0, 2, 0.74042773], [36, 1, 2, 0.7068271], [36, 3, 2, 0.64556414], [31, 5, 3, 0.9041897], [31, 8, 2, 1.0]], [[39, 0, 1, 0.4738178], [48, 7, 2, 0.99383706], [48, 9, 2, 1.0], [48, 11, 2, 0.88130045], [44, 16, 4, 0.56157315], [51, 21, 2, 0.47944477]], [[44, 0, 1, 0.3825708], [53, 7, 2, 0.98556393], [53, 9, 2, 1.0], [53, 11, 2, 0.84826005], [49, 16, 4, 0.529063]], [[43, 0, 1, 0.41269964], [55, 4, 2, 0.5654809], [56, 11, 2, 0.59349], [55, 15, 2, 1.0], [55, 17, 1, 0.7653325], [55, 21, 2, 0.8775827]], [[43, 1, 3, 1.0], [44, 3, 3, 0.70486397], [44, 6, 3, 0.6715855]], [[41, 0, 3, 0.49024066], [39, 6, 2, 1.0], [36, 15, 2, 0.5306481], [36, 19, 1, 0.52652], [36, 22, 1, 0.68836015]], [[46, 0, 2, 0.5822932], [44, 6, 1, 1.0], [41, 16, 1, 0.6231053], [41, 19, 3, 0.6522979], [41, 22, 1, 0.8661276]], [[44, 0, 4, 0.6595921], [44, 4, 1, 0.391079], [43, 18, 3, 0.340145], [46, 20, 2, 1.0]], [[46, 0, 1, 0.52727747], [44, 6, 2, 1.0], [41, 18, 2, 0.48054734], [41, 22, 1, 0.6293428]], [[43, 1, 1, 1.0], [43, 4, 1, 0.5049127], [43, 7, 1, 0.85199445], [43, 18, 3, 0.94599444], [44, 21, 2, 0.6938626]], [[44, 2, 3, 0.9832609], [43, 4, 2, 0.5268261], [41, 15, 2, 0.6928313], [39, 18, 3, 1.0], [39, 21, 2, 0.8403872]], [[44, 2, 1, 0.50873214], [46, 3, 3, 1.0], [46, 6, 2, 0.99487215]], [[39, 1, 4, 0.537923], [37, 7, 2, 0.57000166], [34, 9, 2, 0.6467954], [39, 13, 2, 1.0], [49, 15, 2, 0.42108414], [46, 16, 1, 0.8117958], [49, 17, 1, 0.6155851], [55, 21, 2, 0.65596724]], [[43, 5, 2, 1.0], [46, 7, 1, 0.7161088]], [[39, 1, 2, 0.5725317], [34, 10, 1, 0.38514107], [34, 14, 2, 1.0], [36, 21, 2, 0.4881382]]]\n",
            "down_stepingA  generate done!\n",
            "info is \n",
            " [[[49, 0, 3, 0.8596972], [47, 4, 3, 0.75546855], [47, 7, 2, 0.6816477], [45, 10, 4, 0.7146471], [44, 13, 1, 1.0]], [[42, 2, 3, 0.9965477], [40, 16, 3, 0.9003826], [37, 18, 2, 1.0], [40, 19, 2, 0.7947875], [37, 22, 2, 0.9431656]], [[45, 0, 1, 0.435681], [54, 2, 2, 0.35640168], [57, 4, 2, 0.33560112], [54, 9, 2, 1.0], [54, 11, 3, 0.85493696], [57, 15, 3, 0.5611178], [50, 16, 2, 0.4670007], [57, 21, 2, 0.49441686]], [[44, 1, 3, 1.0], [45, 3, 3, 0.6964468], [45, 6, 3, 0.66388386], [44, 8, 1, 0.6282089]], [[42, 0, 4, 1.0], [42, 4, 2, 0.3837461], [40, 15, 5, 0.7022923], [37, 22, 1, 0.67788535]], [[47, 0, 4, 0.57963294], [47, 4, 1, 0.4135027], [45, 16, 2, 0.8695527], [49, 18, 2, 0.7011013], [49, 20, 2, 1.0]], [[44, 5, 3, 1.0], [47, 7, 1, 0.34079117]], [[42, 0, 4, 0.7295615], [42, 4, 2, 0.40400648], [40, 16, 3, 0.93689007], [44, 18, 2, 0.68578994], [44, 20, 2, 1.0]], [[45, 1, 2, 0.4754807], [40, 7, 3, 0.5623132], [40, 10, 4, 0.62914085], [40, 14, 2, 1.0], [42, 21, 2, 0.3990098]], [[45, 1, 3, 0.9625504], [45, 4, 2, 0.6019405], [40, 7, 3, 1.0], [40, 10, 2, 0.8981614]], [[44, 0, 1, 0.5540605], [54, 2, 1, 0.35612485], [56, 4, 2, 0.6068312], [57, 11, 2, 0.69304514], [56, 15, 2, 0.93495214], [56, 17, 1, 0.8219537], [56, 21, 2, 1.0]], [[44, 0, 2, 0.5618496], [37, 3, 2, 0.84711117], [32, 7, 3, 1.0]], [[37, 0, 3, 0.74953276], [38, 2, 1, 0.53503776], [35, 4, 3, 0.56915224], [35, 7, 2, 0.695134], [32, 10, 3, 0.817223], [32, 13, 1, 1.0]], [[42, 0, 2, 0.47280422], [42, 2, 3, 0.54513854], [40, 15, 2, 0.3809877], [44, 18, 4, 1.0]], [[45, 0, 2, 0.61105955], [45, 7, 1, 0.5766291], [38, 9, 3, 0.47014922], [40, 11, 3, 1.0], [44, 13, 1, 0.6401189]], [[47, 0, 1, 0.55784386], [45, 6, 2, 1.0], [42, 18, 2, 0.49776492], [42, 22, 1, 0.6662985]]]\n",
            "down_stepingA#  generate done!\n",
            "info is \n",
            " [[[51, 1, 4, 0.92147607], [50, 4, 1, 0.9803679], [46, 7, 2, 1.0], [46, 9, 2, 0.8077924]], [[45, 1, 1, 1.0], [48, 4, 1, 0.462797], [45, 6, 2, 0.9724719], [45, 18, 3, 0.9437739], [46, 20, 3, 0.5577227]], [[46, 3, 2, 0.8609342], [48, 7, 2, 0.6360864], [45, 14, 1, 0.46980336], [43, 16, 3, 0.4116396], [43, 19, 1, 0.52829486]], [[50, 7, 2, 0.6690559], [50, 9, 4, 1.0], [48, 13, 2, 0.34189993], [46, 19, 1, 0.5110412]], [[50, 1, 1, 0.97859734], [50, 4, 1, 0.46628278], [50, 7, 1, 0.9186038], [50, 18, 3, 1.0], [51, 20, 3, 0.74560004]], [[46, 0, 1, 0.36294314], [55, 7, 2, 0.93162745], [55, 9, 2, 1.0], [55, 11, 2, 0.86431587], [51, 16, 4, 0.5557347]], [[50, 0, 1, 0.44918537], [60, 2, 1, 0.34976673], [62, 4, 2, 0.58783597], [63, 11, 2, 0.56327295], [62, 15, 2, 1.0], [62, 17, 1, 0.7238475], [62, 21, 2, 0.8016896]], [[46, 3, 2, 0.47183657], [48, 7, 2, 0.3992094], [43, 19, 1, 0.5221135]], [[50, 7, 2, 0.66000694], [50, 9, 4, 1.0], [48, 13, 2, 0.3681441], [46, 16, 3, 0.34892493], [46, 19, 1, 0.54444]], [[48, 0, 1, 0.33935568], [58, 2, 1, 0.39330548], [60, 4, 2, 0.51990193], [60, 15, 3, 1.0], [60, 21, 2, 0.90533346]], [[50, 0, 1, 0.56043005], [60, 2, 1, 0.47838527], [62, 4, 2, 0.51802135], [63, 11, 2, 0.5505317], [62, 15, 3, 1.0], [62, 21, 2, 0.8246306]], [[48, 2, 2, 0.6959993], [48, 4, 2, 0.66378176], [48, 8, 2, 0.43560433], [50, 10, 1, 0.79891884], [51, 12, 1, 0.41517213], [51, 21, 2, 1.0]], [[46, 1, 2, 0.57364357], [46, 4, 1, 0.35370734], [41, 7, 3, 0.7351802], [41, 10, 4, 0.7630235], [41, 14, 2, 1.0], [43, 21, 2, 0.34802496]], [[46, 0, 1, 0.445506], [43, 9, 4, 1.0], [39, 19, 1, 0.5327592]], [[46, 1, 4, 0.92215246], [41, 5, 2, 0.45390388], [41, 7, 2, 0.80449533], [41, 9, 2, 0.95059335], [46, 13, 2, 0.7734099], [45, 15, 2, 0.86350024], [45, 17, 1, 0.604777], [45, 21, 2, 1.0]], [[50, 0, 1, 0.45748535], [60, 2, 1, 0.4538357], [62, 4, 2, 0.6806979], [63, 11, 2, 0.4840428], [62, 15, 3, 1.0], [62, 21, 2, 0.94015676]]]\n",
            "down_stepingB  generate done!\n",
            "info is \n",
            " [[[51, 0, 3, 0.88013554], [49, 4, 3, 0.7797656], [49, 7, 2, 0.6931265], [47, 10, 4, 0.6944376], [46, 13, 1, 1.0]], [[46, 7, 2, 1.0], [46, 9, 2, 0.9815082], [47, 21, 2, 0.63579696]], [[47, 0, 1, 0.3374276], [56, 7, 2, 0.8633546], [56, 9, 2, 1.0], [56, 11, 3, 0.7051891], [52, 16, 3, 0.5064559], [52, 19, 1, 0.58156633]], [[51, 0, 3, 0.8814117], [49, 4, 3, 0.7549342], [49, 7, 2, 0.68444824], [47, 10, 4, 0.7252767], [46, 13, 1, 1.0]], [[46, 7, 2, 0.82322615], [46, 9, 2, 1.0], [46, 11, 3, 0.64974785], [42, 16, 3, 0.47876534], [42, 19, 1, 0.5598019]], [[47, 1, 1, 0.40574455], [42, 10, 4, 0.4642645], [42, 14, 2, 1.0], [44, 21, 2, 0.4962142]], [[46, 2, 2, 0.7248937], [46, 4, 2, 0.63384736], [49, 12, 1, 0.533626], [47, 15, 1, 0.7841863], [49, 21, 2, 0.9764903]], [[49, 0, 5, 0.553888], [47, 16, 3, 1.0], [47, 19, 1, 0.3894085], [51, 20, 2, 0.98755205], [44, 22, 1, 0.5817243]], [[47, 2, 1, 0.461893], [49, 3, 3, 0.8445588], [49, 6, 2, 1.0]], [[44, 0, 4, 0.5502437], [44, 4, 1, 0.43368092], [42, 16, 2, 0.8422709], [46, 18, 2, 0.70174944], [46, 20, 2, 1.0]], [[47, 2, 1, 0.48192284], [49, 3, 3, 0.9183476], [49, 6, 2, 1.0]], [[46, 1, 1, 0.96221304], [46, 4, 1, 0.4300639], [46, 7, 1, 0.93606186], [46, 18, 3, 1.0], [47, 20, 3, 0.7462454]], [[46, 2, 2, 1.0], [46, 4, 4, 0.9135229], [46, 8, 5, 0.98718274], [47, 15, 1, 0.971957]], [[46, 0, 1, 0.54634005], [56, 2, 1, 0.45187628], [58, 4, 2, 0.5511095], [59, 11, 2, 0.61180276], [58, 15, 3, 1.0], [58, 21, 2, 0.8443181]], [[46, 1, 3, 1.0], [46, 4, 1, 0.6505165], [46, 7, 1, 0.620684], [46, 11, 2, 0.6946239], [46, 13, 2, 0.7092946], [46, 15, 3, 0.69894236], [46, 18, 3, 0.9063804]], [[46, 0, 1, 0.5047329], [56, 2, 1, 0.34100792], [58, 4, 2, 0.60402256], [59, 11, 2, 0.6763167], [58, 15, 2, 0.97012424], [58, 17, 1, 0.8389235], [58, 21, 2, 1.0]]]\n",
            "fast_rhythmC  generate done!\n",
            "info is \n",
            " [[[48, 3, 2, 0.84091085], [50, 7, 2, 0.6488756], [47, 13, 2, 0.5307945], [45, 16, 3, 0.44258928], [45, 19, 1, 0.5304691]], [[48, 1, 3, 0.9538839], [48, 4, 1, 0.34682292], [43, 5, 2, 0.47268274], [43, 7, 2, 0.7674124], [43, 9, 2, 0.9332945], [48, 13, 2, 0.8986112], [47, 15, 2, 0.834006], [43, 16, 1, 0.33938435], [47, 17, 1, 0.6035626], [47, 21, 2, 1.0]], [[47, 2, 2, 0.59844476], [47, 4, 4, 0.63680595], [47, 8, 3, 0.5456349], [48, 15, 1, 1.0], [50, 21, 2, 0.72482455]], [[47, 0, 1, 0.70501745], [57, 2, 1, 0.4586916], [59, 4, 2, 0.65525585], [57, 10, 1, 0.5189046], [60, 11, 2, 0.48547098], [59, 15, 2, 0.98810095], [59, 17, 1, 0.7993377], [59, 21, 2, 1.0]], [[48, 7, 2, 0.6241701], [47, 9, 5, 1.0], [43, 16, 3, 0.5696341], [43, 19, 1, 0.6031599]], [[47, 0, 1, 0.41562307], [59, 4, 2, 0.5713057], [60, 11, 2, 0.5991679], [59, 15, 2, 1.0], [59, 17, 1, 0.77628016], [59, 21, 2, 0.90274215]], [[48, 0, 2, 1.0], [45, 10, 2, 0.56720793], [41, 19, 1, 0.59192383]], [[48, 1, 2, 0.57021475], [43, 14, 2, 1.0], [45, 21, 2, 0.43198648]], [[45, 0, 2, 0.6263611], [52, 3, 2, 0.7315567], [52, 9, 4, 1.0], [50, 12, 2, 0.74301475], [52, 15, 2, 0.93672776], [50, 18, 1, 0.35459265]], [[48, 1, 2, 1.0], [48, 3, 2, 0.75350964], [45, 6, 3, 0.86187774]], [[45, 2, 4, 0.37059858], [45, 9, 2, 0.39040184], [43, 13, 1, 0.33635145], [41, 15, 2, 0.7317174], [41, 17, 1, 0.65532243], [47, 21, 3, 1.0]], [[45, 5, 2, 1.0], [48, 7, 1, 0.6192276]], [[40, 2, 2, 0.7672063], [40, 4, 4, 0.7063967], [40, 8, 4, 0.75813895], [41, 15, 1, 1.0]], [[45, 0, 5, 0.930228], [43, 7, 2, 1.0], [40, 10, 3, 0.8987363], [40, 13, 1, 0.56564516]], [[40, 1, 1, 0.6153406], [41, 3, 3, 0.55592316], [38, 7, 4, 1.0]], [[43, 0, 4, 1.0], [43, 4, 1, 0.4882367], [40, 15, 2, 0.5192732], [38, 18, 2, 0.40307546], [38, 22, 1, 0.6921469]]]\n",
            "fast_rhythmC#  generate done!\n",
            "info is \n",
            " [[[53, 7, 2, 0.6275823], [53, 9, 3, 1.0], [51, 14, 1, 0.4098637], [49, 19, 1, 0.49688196]], [[49, 3, 2, 0.83598655], [51, 6, 3, 0.60701674], [48, 14, 1, 0.4556846], [46, 16, 3, 0.38864478], [46, 19, 1, 0.513671]], [[58, 1, 2, 0.61124843], [48, 5, 2, 0.62674886], [58, 8, 2, 0.3998634], [54, 15, 2, 0.87096465], [54, 17, 1, 0.7387041], [60, 21, 2, 1.0]], [[49, 1, 2, 1.0], [48, 4, 1, 0.83706385], [44, 7, 2, 0.92513925], [44, 9, 2, 0.7401956]], [[48, 7, 2, 0.79745775], [48, 9, 5, 1.0], [44, 16, 3, 0.45330405], [44, 19, 1, 0.5453075]], [[49, 0, 1, 0.4415066], [46, 9, 4, 1.0], [42, 19, 1, 0.5296857]], [[49, 4, 2, 0.5846103], [49, 12, 3, 0.6216099], [46, 16, 3, 0.44240737], [46, 19, 1, 0.5323513]], [[49, 3, 2, 0.44757184], [51, 7, 2, 0.51611894], [46, 16, 3, 0.50040257], [46, 19, 1, 0.60038733]], [[53, 0, 1, 0.5499362], [63, 2, 1, 0.4694677], [65, 4, 2, 0.5073194], [66, 11, 2, 0.56354076], [65, 15, 3, 1.0], [65, 21, 2, 0.8147893]], [[53, 1, 3, 1.0], [54, 3, 5, 0.89284253], [54, 8, 1, 0.7740584]], [[49, 0, 5, 0.94279534], [48, 4, 1, 0.6063964], [44, 10, 3, 0.89955485], [44, 13, 1, 0.57266986]], [[49, 0, 1, 0.42704698], [46, 9, 4, 1.0], [42, 19, 1, 0.5311297]], [[51, 0, 4, 0.82827437], [51, 4, 2, 0.43367794], [49, 16, 4, 0.964722], [53, 18, 2, 0.71028125], [53, 20, 2, 1.0], [46, 22, 1, 0.40651768]], [[49, 0, 1, 0.4166496], [58, 7, 2, 0.89397305], [58, 9, 2, 1.0], [58, 11, 2, 0.7968956], [54, 16, 3, 0.53902656], [54, 19, 1, 0.48457393]], [[49, 0, 5, 0.94259113], [48, 4, 1, 0.5687354], [44, 10, 3, 1.0], [44, 13, 1, 0.88767767]], [[49, 0, 1, 0.3560349], [58, 7, 2, 0.8957229], [58, 9, 2, 1.0], [58, 11, 2, 0.8510635], [54, 16, 4, 0.56714416]]]\n",
            "fast_rhythmD  generate done!\n",
            "info is \n",
            " [[[49, 7, 2, 0.66175276], [49, 9, 3, 1.0], [47, 14, 1, 0.37819332], [45, 19, 1, 0.49896964]], [[49, 1, 3, 0.8237161], [50, 4, 2, 0.75553405], [47, 7, 3, 1.0], [47, 10, 2, 0.9987482]], [[45, 1, 2, 1.0], [45, 3, 2, 0.83665705], [45, 7, 1, 0.7153617], [45, 11, 2, 0.75986755], [45, 13, 5, 0.810378], [45, 18, 3, 0.9831995]], [[47, 2, 2, 0.70049495], [47, 4, 2, 0.6691165], [49, 10, 1, 0.8353145], [50, 12, 1, 0.43531883], [50, 21, 2, 1.0]], [[49, 0, 1, 0.4788377], [59, 2, 1, 0.44749817], [61, 4, 2, 0.6789528], [62, 11, 2, 0.55429256], [61, 15, 3, 1.0], [61, 21, 2, 0.92482233]], [[45, 4, 1, 0.59046364], [45, 12, 3, 0.5962243], [42, 16, 3, 0.39623997], [42, 19, 1, 0.52231294]], [[45, 1, 2, 0.6471265], [45, 3, 3, 0.62602466], [42, 7, 2, 1.0]], [[45, 2, 1, 0.4445739], [47, 3, 3, 0.81676704], [47, 6, 2, 1.0]], [[45, 3, 4, 0.4361213], [45, 7, 2, 1.0], [45, 9, 2, 0.976241], [47, 18, 2, 0.38026634]], [[45, 0, 2, 0.5990333], [43, 6, 2, 1.0], [40, 15, 2, 0.5296617], [40, 19, 1, 0.53053105], [40, 22, 1, 0.7832605]], [[45, 1, 2, 0.7940862], [43, 6, 1, 1.0], [42, 15, 2, 0.3610452], [40, 18, 2, 0.6244363], [40, 21, 2, 0.6782875]], [[49, 1, 3, 1.0], [50, 3, 3, 0.7163664], [50, 6, 3, 0.6415605]], [[45, 0, 1, 0.5637312], [43, 6, 2, 1.0], [40, 18, 2, 0.4952298], [40, 22, 1, 0.6695169]], [[49, 1, 3, 0.621136], [50, 4, 2, 0.53405035], [47, 8, 2, 0.6843226], [47, 10, 2, 1.0]], [[42, 9, 5, 1.0], [38, 16, 3, 0.4855331], [38, 19, 1, 0.37267682]], [[45, 2, 3, 1.0], [43, 16, 3, 0.8591695], [40, 18, 2, 0.99438965], [43, 19, 2, 0.7297023], [40, 22, 2, 0.9206119]]]\n",
            "fast_rhythmD#  generate done!\n",
            "info is \n",
            " [[[50, 0, 1, 0.4234515], [62, 4, 2, 0.5778217], [63, 11, 2, 0.5904009], [62, 15, 2, 1.0], [62, 17, 1, 0.7100027], [62, 21, 2, 0.8082762]], [[63, 3, 2, 0.8333853], [65, 6, 3, 0.6054737], [62, 14, 1, 0.44488448], [60, 16, 3, 0.37625664], [60, 19, 1, 0.51244015]], [[63, 3, 2, 0.43838495], [65, 7, 2, 0.51451075], [60, 16, 3, 0.48532683], [60, 19, 1, 0.5914223]], [[63, 7, 2, 1.0], [63, 9, 2, 0.9555038], [62, 15, 1, 0.36447507], [65, 18, 2, 0.5918987]], [[63, 0, 2, 1.0], [60, 9, 3, 0.3435612], [56, 19, 1, 0.46550542]], [[63, 0, 1, 0.5838303], [63, 7, 1, 0.58757055], [56, 9, 3, 0.46410587], [58, 11, 3, 1.0], [62, 13, 1, 0.6455955], [63, 15, 3, 0.37481675]], [[65, 1, 3, 0.94466674], [65, 4, 2, 0.48009157], [63, 16, 4, 0.98359615], [67, 18, 2, 0.63154376], [67, 20, 2, 1.0], [60, 22, 1, 0.5207699]], [[62, 0, 2, 0.7125432], [55, 1, 2, 0.5890517], [55, 3, 2, 0.7232257], [50, 8, 3, 1.0]], [[60, 1, 3, 1.0], [60, 4, 1, 0.46900836], [55, 7, 2, 0.8449877], [55, 9, 2, 0.73992276]], [[58, 0, 1, 0.4418374], [67, 2, 2, 0.37303412], [70, 4, 2, 0.34033743], [67, 9, 2, 1.0], [67, 11, 3, 0.8408424], [70, 15, 3, 0.5975544], [63, 16, 2, 0.46186066], [70, 21, 2, 0.49592966]], [[63, 0, 2, 1.0], [70, 3, 2, 0.7574441], [70, 9, 6, 0.94162977], [68, 12, 1, 0.8160724], [70, 15, 2, 0.42606854], [68, 18, 1, 0.70221704]], [[62, 0, 1, 0.33668852], [72, 2, 1, 0.40366963], [74, 4, 2, 0.58082145], [74, 15, 3, 1.0], [74, 21, 2, 0.89929956]], [[62, 1, 3, 0.8213175], [62, 4, 1, 0.73063177], [62, 7, 1, 0.65807843], [62, 13, 1, 0.782204], [62, 18, 3, 1.0]], [[62, 2, 2, 0.72363913], [62, 4, 2, 0.6345319], [65, 12, 1, 0.5354023], [63, 15, 1, 0.79184914], [65, 21, 2, 0.97450906]], [[63, 2, 1, 0.34480003], [65, 3, 4, 0.484858], [65, 7, 2, 1.0], [65, 9, 2, 0.8186726]], [[60, 0, 4, 1.0], [60, 4, 2, 0.3423057], [58, 15, 5, 0.71621305], [55, 22, 1, 0.6836315]]]\n",
            "fast_rhythmE  generate done!\n",
            "info is \n",
            " [[[51, 0, 1, 0.5995122], [61, 2, 1, 0.37502983], [63, 4, 2, 0.6046844], [64, 11, 2, 0.68373805], [63, 15, 2, 0.9446071], [63, 17, 1, 0.83048457], [63, 21, 2, 1.0]], [[63, 2, 2, 0.59860307], [63, 4, 4, 0.63323796], [63, 8, 3, 0.5400222], [64, 15, 1, 1.0], [66, 21, 2, 0.7381341]], [[64, 0, 1, 0.43887535], [73, 2, 2, 0.36852676], [76, 4, 2, 0.33699208], [73, 9, 2, 1.0], [73, 11, 3, 0.8464999], [76, 15, 3, 0.5722359], [69, 16, 2, 0.45915535], [76, 21, 2, 0.49561822]], [[63, 1, 3, 0.68243784], [64, 4, 2, 0.5806356], [61, 7, 3, 1.0], [61, 10, 2, 0.53715324]], [[63, 7, 2, 0.6604695], [63, 9, 4, 1.0], [61, 13, 2, 0.35393575], [59, 19, 1, 0.52782613]], [[63, 2, 2, 0.8533944], [63, 4, 6, 0.8768657], [63, 10, 2, 1.0]], [[64, 7, 2, 0.6834734], [63, 9, 3, 1.0], [61, 14, 1, 0.49996606], [59, 16, 3, 0.44311798], [59, 19, 1, 0.53827316]], [[63, 1, 3, 1.0], [64, 3, 3, 0.7066471], [64, 6, 3, 0.6907805]], [[59, 1, 2, 0.76158607], [59, 3, 3, 0.7063693], [56, 6, 3, 1.0]], [[61, 1, 2, 0.70694494], [59, 2, 1, 0.43407527], [51, 4, 2, 0.4950562], [61, 8, 2, 0.48767528], [57, 16, 2, 0.90227175], [63, 21, 2, 1.0]], [[66, 0, 1, 0.39890674], [73, 3, 2, 0.92709816], [73, 9, 3, 1.0], [71, 12, 1, 0.73391914], [73, 15, 2, 0.36827543], [69, 17, 1, 0.5162102]], [[73, 1, 2, 0.5912948], [63, 5, 2, 0.63902223], [73, 8, 2, 0.38206804], [69, 15, 2, 0.8712488], [69, 17, 1, 0.76269376], [75, 21, 2, 1.0]], [[66, 0, 4, 1.0], [66, 4, 1, 0.57167965], [64, 15, 4, 0.5078707], [64, 19, 1, 0.33431002], [61, 22, 1, 0.71148545]], [[66, 0, 3, 0.43950126], [64, 6, 1, 1.0], [61, 15, 2, 0.34070116], [64, 16, 1, 0.7600193], [61, 18, 3, 0.7625623], [61, 21, 2, 0.67323726]], [[63, 2, 2, 1.0], [63, 4, 4, 0.9215999], [63, 8, 2, 0.9624129], [63, 10, 2, 0.9844474], [64, 15, 1, 0.44377255]], [[64, 1, 2, 0.42850167], [59, 7, 3, 0.49587125], [59, 10, 4, 0.6084935], [59, 14, 2, 1.0], [61, 21, 2, 0.42221376]]]\n",
            "fast_rhythmF  generate done!\n",
            "info is \n",
            " [[[48, 0, 1, 0.39919576], [57, 9, 2, 1.0], [57, 11, 2, 0.78509873], [53, 16, 3, 0.51813287], [53, 19, 1, 0.51851904]], [[53, 3, 2, 0.46660706], [55, 7, 2, 0.63098675], [50, 16, 3, 0.5370447], [50, 19, 1, 0.49979478]], [[57, 1, 3, 1.0], [58, 5, 4, 0.6433167], [57, 8, 2, 0.8396035], [55, 10, 2, 0.45673576]], [[52, 7, 2, 0.660033], [52, 9, 4, 1.0], [50, 13, 2, 0.36673686], [48, 16, 3, 0.35825652], [48, 19, 1, 0.5401753]], [[57, 1, 3, 1.0], [58, 4, 5, 0.68453497], [57, 8, 2, 0.95276505]], [[53, 0, 1, 0.38517293], [62, 2, 2, 0.34019533], [62, 7, 2, 0.9859888], [62, 9, 2, 1.0], [62, 11, 2, 0.8124425], [58, 16, 4, 0.51564044]], [[55, 0, 1, 0.537455], [53, 6, 2, 1.0], [50, 18, 2, 0.4972602], [50, 22, 1, 0.67222553]], [[53, 0, 1, 0.37959293], [62, 2, 2, 0.3541468], [62, 7, 2, 0.96610403], [62, 9, 2, 1.0], [62, 11, 2, 0.79288614], [58, 16, 2, 0.49230608]], [[53, 1, 4, 1.0], [52, 4, 1, 0.7942805], [48, 10, 1, 0.7365529]], [[53, 3, 2, 0.519443], [55, 7, 2, 0.60400903], [50, 16, 3, 0.56938815], [50, 19, 1, 0.60971385]], [[53, 0, 2, 0.463627], [53, 2, 3, 0.50211835], [55, 18, 4, 1.0]], [[57, 0, 1, 0.5323015], [67, 2, 1, 0.45753467], [69, 4, 2, 0.68341273], [70, 11, 2, 0.63967645], [69, 15, 3, 1.0], [69, 21, 2, 0.910325]], [[57, 1, 5, 0.9646269], [58, 4, 3, 1.0], [58, 7, 2, 0.8194557]], [[53, 0, 1, 0.38554356], [62, 7, 2, 0.97566813], [62, 9, 2, 1.0], [62, 11, 2, 0.8685415], [58, 16, 4, 0.5577792]], [[53, 0, 3, 0.34611708], [57, 5, 2, 0.78713363], [60, 7, 1, 1.0]], [[53, 0, 1, 0.38483635], [62, 2, 1, 0.34680715], [62, 9, 4, 1.0]]]\n",
            "fast_rhythmF#  generate done!\n",
            "info is \n",
            " [[[51, 7, 2, 0.65511245], [51, 9, 4, 1.0], [49, 13, 2, 0.36512712], [47, 16, 3, 0.3530991], [47, 19, 1, 0.54270416]], [[47, 1, 3, 0.8165752], [47, 4, 1, 0.72490674], [47, 7, 1, 0.6499001], [47, 11, 2, 0.73104066], [47, 13, 1, 0.77551186], [47, 18, 3, 1.0]], [[53, 1, 3, 1.0], [53, 4, 1, 0.6102935], [53, 7, 1, 0.64465815], [53, 13, 2, 0.5775716], [53, 15, 3, 0.6992819], [53, 18, 3, 0.84560424], [54, 21, 2, 0.550419]], [[53, 0, 1, 0.65613604], [63, 2, 1, 0.4016423], [65, 4, 2, 0.5952974], [63, 10, 1, 0.35068235], [66, 11, 2, 0.5515031], [65, 15, 2, 0.94669694], [65, 17, 1, 0.8086954], [65, 21, 2, 1.0]], [[49, 0, 2, 1.0], [42, 19, 1, 0.46971807]], [[47, 1, 4, 1.0], [46, 4, 1, 0.6790771], [42, 7, 2, 0.8077417], [42, 9, 2, 0.72400427]], [[46, 0, 4, 0.56288207], [46, 4, 1, 0.55553347], [44, 16, 3, 0.83777356], [42, 18, 2, 0.37341964], [44, 19, 2, 1.0], [41, 22, 2, 0.7842018]], [[49, 0, 1, 0.5629313], [47, 6, 2, 1.0], [44, 18, 2, 0.5144068], [44, 22, 1, 0.70651764]], [[47, 2, 1, 0.36159655], [49, 3, 4, 0.56122506], [49, 7, 2, 1.0], [49, 9, 2, 0.7714113]], [[46, 1, 3, 1.0], [47, 5, 4, 0.68201905], [46, 8, 1, 0.75910705], [44, 10, 2, 0.6609839]], [[46, 1, 3, 1.0], [46, 4, 1, 0.582481], [46, 7, 1, 0.7059875], [46, 15, 3, 0.6045734], [46, 18, 3, 0.80992496], [47, 21, 2, 0.5882675]], [[51, 0, 3, 0.85307753], [49, 4, 3, 0.63324517], [49, 7, 2, 0.65565], [47, 10, 4, 0.7678433], [46, 13, 1, 1.0]], [[46, 0, 1, 0.65502703], [56, 2, 1, 0.40493217], [58, 4, 2, 0.5992777], [56, 10, 1, 0.3657116], [59, 11, 2, 0.56516474], [58, 15, 2, 0.9638264], [58, 17, 1, 0.8112926], [58, 21, 2, 1.0]], [[47, 2, 3, 1.0], [44, 15, 2, 0.6652112], [42, 18, 4, 0.958856], [42, 22, 1, 0.78126186]], [[47, 7, 2, 1.0], [47, 9, 2, 0.96386486], [46, 15, 1, 0.3514001], [49, 18, 2, 0.59189516]], [[53, 1, 3, 1.0], [54, 5, 4, 0.65148455], [53, 8, 2, 0.9072915], [51, 10, 2, 0.44260153]]]\n",
            "fast_rhythmG  generate done!\n",
            "info is \n",
            " [[[48, 3, 2, 0.8606681], [50, 7, 2, 0.66641587], [47, 13, 2, 0.53429943], [45, 16, 3, 0.44459325], [45, 19, 1, 0.5340796]], [[45, 2, 3, 0.5086085], [45, 5, 1, 0.5467814], [47, 10, 1, 1.0], [48, 12, 1, 0.6888418], [48, 21, 2, 0.868732]], [[47, 0, 1, 0.57630926], [57, 2, 1, 0.3687692], [59, 4, 2, 0.6121562], [60, 11, 2, 0.6978683], [59, 15, 2, 0.93840826], [59, 17, 1, 0.8272409], [59, 21, 2, 1.0]], [[47, 1, 2, 1.0], [47, 3, 2, 0.9032123], [47, 7, 1, 0.7730717], [47, 11, 2, 0.8497301], [47, 13, 5, 0.8728831], [47, 18, 3, 0.9859977], [48, 20, 3, 0.63621306]], [[45, 0, 1, 0.36326846], [54, 7, 2, 0.9225591], [54, 9, 2, 1.0], [54, 11, 2, 0.8611361], [50, 16, 4, 0.5689568]], [[45, 0, 1, 0.43588573], [54, 2, 2, 0.35240355], [57, 4, 2, 0.3338816], [54, 9, 2, 1.0], [54, 11, 3, 0.85927093], [57, 15, 3, 0.5479392], [50, 16, 2, 0.46611622], [57, 21, 2, 0.4957757]], [[45, 0, 1, 0.38076347], [54, 7, 2, 0.9493734], [54, 9, 2, 1.0], [54, 11, 2, 0.871638], [50, 16, 4, 0.5619449]], [[47, 0, 1, 0.54886305], [57, 2, 1, 0.46322045], [59, 4, 2, 0.5325318], [60, 11, 2, 0.5690889], [59, 15, 3, 1.0], [59, 21, 2, 0.8374782]], [[45, 1, 3, 0.9579976], [45, 4, 2, 0.50525385], [43, 16, 4, 0.97296005], [47, 18, 2, 0.65082186], [47, 20, 2, 1.0], [40, 22, 1, 0.50451607]], [[45, 0, 1, 0.38866723], [54, 2, 2, 0.38585246], [54, 7, 2, 0.7129969], [54, 9, 2, 1.0], [54, 11, 2, 0.7718823], [50, 16, 2, 0.36188027]], [[45, 1, 2, 0.6064039], [43, 6, 1, 1.0], [40, 18, 2, 0.5695495], [40, 21, 2, 0.62492836]], [[45, 0, 1, 0.51080275], [55, 2, 1, 0.4718971], [57, 4, 2, 0.44273394], [54, 9, 4, 0.7631195], [57, 15, 3, 1.0], [57, 21, 2, 0.6629164]], [[48, 1, 2, 0.9008853], [43, 5, 2, 0.38226736], [43, 7, 2, 0.76494014], [43, 9, 2, 0.8076423], [48, 13, 1, 0.8642912], [47, 15, 2, 0.6742091], [47, 17, 2, 0.6701055], [47, 21, 2, 1.0]], [[52, 1, 2, 0.8169022], [50, 2, 1, 0.45726705], [42, 5, 2, 0.6691022], [52, 8, 3, 0.4896596], [48, 15, 2, 0.96731514], [48, 17, 1, 0.7454383], [54, 21, 2, 1.0]], [[45, 3, 2, 0.5212156], [47, 7, 2, 0.6261873], [42, 16, 3, 0.5628469], [42, 19, 1, 0.5649878]], [[48, 1, 2, 1.0], [47, 4, 1, 0.7589683], [43, 7, 2, 0.8613475], [43, 9, 2, 0.7283394]]]\n",
            "fast_rhythmG#  generate done!\n",
            "info is \n",
            " [[[49, 3, 2, 0.85653853], [51, 6, 3, 0.6168762], [48, 14, 1, 0.46008846], [46, 16, 3, 0.40166277], [46, 19, 1, 0.522755]], [[46, 1, 3, 1.0], [46, 4, 1, 0.9649794], [46, 7, 1, 0.87071735], [46, 12, 2, 0.9683179]], [[46, 0, 3, 0.48806682], [44, 6, 1, 1.0], [41, 15, 2, 0.7666988], [41, 18, 4, 0.72642523], [41, 22, 1, 0.70369315]], [[46, 0, 2, 0.56385595], [53, 3, 2, 0.76114714], [53, 9, 3, 1.0], [51, 12, 1, 0.63637567], [53, 15, 2, 0.9460335]], [[56, 0, 1, 0.78812206], [56, 3, 2, 0.9627247], [56, 6, 2, 0.35883436], [49, 9, 3, 1.0], [55, 13, 1, 0.927421], [56, 16, 3, 0.6521783], [56, 19, 2, 0.98431975]], [[46, 0, 3, 0.5757735], [44, 6, 1, 1.0], [41, 16, 1, 0.61645097], [41, 19, 3, 0.6694222], [41, 22, 1, 0.84814703]], [[46, 1, 3, 0.8781613], [46, 4, 1, 0.80331504], [46, 7, 1, 0.7235237], [46, 13, 1, 0.84108037], [46, 18, 2, 1.0]], [[48, 3, 4, 0.44714227], [48, 7, 2, 1.0], [48, 9, 2, 0.9739737], [49, 21, 2, 0.3722775]], [[46, 0, 2, 0.6014875], [44, 6, 1, 1.0], [41, 16, 1, 0.65149575], [41, 19, 3, 0.6764997], [41, 22, 1, 0.89713365]], [[46, 0, 3, 0.3937404], [44, 6, 1, 1.0], [41, 15, 2, 0.56109095], [44, 16, 1, 0.38029394], [41, 18, 3, 0.7002036], [41, 21, 2, 0.6091984]], [[48, 1, 1, 0.9825701], [48, 4, 1, 0.46919397], [48, 7, 1, 0.92091596], [48, 18, 3, 1.0], [49, 20, 3, 0.74818635]], [[48, 1, 3, 0.6277457], [49, 3, 3, 0.54546946], [46, 7, 4, 1.0]], [[43, 0, 1, 0.42751837], [55, 4, 2, 0.57800126], [56, 11, 2, 0.5937127], [55, 15, 2, 1.0], [55, 17, 1, 0.7298951], [55, 21, 2, 0.8195684]], [[48, 0, 3, 0.81427217], [46, 4, 3, 0.5257529], [46, 7, 2, 0.6271491], [44, 10, 4, 0.76674795], [43, 13, 1, 1.0]], [[43, 1, 3, 0.59360164], [44, 3, 3, 0.42542785], [41, 8, 2, 0.6796557], [41, 10, 2, 1.0]], [[44, 1, 4, 0.8755134], [43, 4, 1, 1.0], [39, 7, 2, 0.87819296], [39, 9, 2, 0.7150015]]]\n",
            "fast_rhythmA  generate done!\n",
            "info is \n",
            " [[[52, 0, 1, 0.46696782], [61, 7, 2, 0.97583014], [61, 9, 2, 1.0], [61, 11, 3, 0.8975538], [57, 16, 4, 0.54103094], [64, 21, 2, 0.50204945]], [[64, 1, 3, 1.0], [64, 4, 1, 0.9169295], [64, 7, 1, 0.7996002]], [[64, 0, 1, 0.36162534], [73, 9, 2, 1.0], [73, 11, 3, 0.74015146], [69, 16, 3, 0.5159659], [69, 19, 1, 0.5857802]], [[68, 1, 3, 1.0], [68, 4, 1, 0.6219093], [68, 7, 1, 0.6176934], [68, 13, 2, 0.67896557], [68, 15, 3, 0.7001866], [68, 18, 3, 0.8800362], [69, 21, 2, 0.53635085]], [[68, 0, 1, 0.5905617], [78, 2, 1, 0.36985973], [80, 4, 2, 0.6015306], [81, 11, 2, 0.6738857], [80, 15, 2, 0.93760526], [80, 17, 1, 0.8229179], [80, 21, 2, 1.0]], [[64, 1, 3, 0.8167052], [64, 4, 1, 0.72193956], [64, 7, 1, 0.6479985], [64, 13, 1, 0.77382], [64, 18, 3, 1.0]], [[69, 1, 4, 0.93774164], [68, 4, 2, 0.54323894], [66, 15, 2, 0.71526146], [64, 18, 3, 1.0], [64, 21, 2, 0.8642684]], [[66, 2, 3, 0.6535778], [66, 5, 1, 0.5892127], [68, 9, 2, 1.0], [69, 12, 1, 0.5616978], [69, 21, 2, 0.94644016]], [[64, 0, 1, 0.5343699], [71, 3, 2, 1.0], [71, 9, 3, 0.9517595], [69, 12, 1, 0.69871205], [71, 15, 2, 0.6408966]], [[66, 1, 2, 0.7637717], [64, 2, 1, 0.49237534], [56, 5, 2, 0.63852245], [66, 8, 3, 0.49379972], [62, 15, 3, 1.0], [68, 21, 2, 0.98470986]], [[68, 1, 1, 1.0], [71, 4, 1, 0.38187894], [68, 7, 1, 0.9066104], [68, 18, 3, 0.9453733], [69, 20, 3, 0.68505216]], [[64, 0, 2, 0.5787846], [62, 6, 2, 1.0], [59, 15, 2, 0.5785839], [59, 19, 1, 0.58609414], [59, 22, 1, 0.83126616]], [[66, 0, 3, 0.85162175], [64, 4, 3, 0.561656], [64, 7, 2, 0.65408385], [62, 10, 4, 0.76012343], [61, 13, 1, 1.0]], [[64, 1, 3, 1.0], [64, 4, 1, 0.91470957], [64, 7, 1, 0.7976836]], [[62, 2, 3, 0.95195186], [61, 4, 2, 0.54246944], [59, 15, 2, 0.71621853], [57, 18, 3, 1.0], [57, 21, 2, 0.8534875]], [[66, 2, 3, 0.64202344], [66, 5, 1, 0.584228], [68, 9, 2, 1.0], [69, 12, 1, 0.55789083], [69, 21, 2, 0.9247664]]]\n",
            "fast_rhythmA#  generate done!\n",
            "info is \n",
            " [[[48, 0, 1, 0.4252669], [57, 7, 2, 0.9025154], [57, 9, 2, 1.0], [57, 11, 2, 0.80364686], [53, 16, 3, 0.54575145], [53, 19, 1, 0.47762358]], [[57, 1, 3, 1.0], [58, 3, 5, 0.8426816], [58, 8, 1, 0.7452478]], [[50, 0, 1, 0.55217654], [60, 2, 1, 0.45735747], [62, 4, 2, 0.59140146], [63, 11, 2, 0.6641062], [62, 15, 3, 1.0], [62, 21, 2, 0.86815536]], [[55, 0, 2, 1.0], [62, 3, 2, 0.71013516], [62, 9, 8, 0.9047928], [60, 12, 1, 0.82929873], [63, 16, 2, 0.3899332], [60, 18, 1, 0.7376858]], [[53, 0, 2, 0.99061275], [50, 9, 4, 1.0], [46, 16, 3, 0.33474314], [46, 19, 1, 0.7086068]], [[53, 0, 1, 0.7810059], [62, 2, 1, 0.6332761], [65, 4, 2, 0.80437356], [62, 9, 5, 0.97421026], [65, 15, 3, 0.99749213], [65, 21, 2, 1.0]], [[53, 0, 1, 0.37947893], [63, 2, 1, 0.3888187], [65, 4, 2, 0.41065696], [65, 15, 2, 1.0], [65, 17, 1, 0.80293036], [65, 21, 2, 0.9325894]], [[57, 1, 3, 0.5915599], [58, 4, 2, 0.4743589], [55, 8, 2, 0.6654851], [55, 10, 2, 1.0]], [[48, 2, 1, 0.41510358], [48, 5, 1, 0.51708573], [50, 7, 3, 0.597911], [50, 10, 1, 1.0], [51, 12, 2, 0.77800643], [51, 21, 2, 0.89120495]], [[53, 0, 2, 0.55113643], [60, 3, 2, 0.69805306], [60, 9, 3, 1.0], [58, 12, 2, 0.73855346], [60, 15, 2, 0.910528]], [[53, 0, 1, 0.39635774], [62, 2, 1, 0.33990866], [62, 9, 4, 1.0], [65, 15, 2, 0.37019634]], [[43, 2, 4, 0.37087557], [43, 9, 2, 0.42068386], [39, 15, 2, 0.75302595], [39, 17, 1, 0.6106068], [45, 21, 3, 1.0]], [[55, 2, 2, 0.6955205], [55, 4, 2, 0.60554546], [57, 9, 2, 1.0], [58, 12, 1, 0.54139477], [58, 21, 2, 0.9673863]], [[53, 0, 3, 0.49572158], [51, 6, 1, 1.0], [48, 15, 2, 0.7632275], [48, 18, 4, 0.7295964], [48, 22, 1, 0.71846014]], [[53, 0, 1, 0.44903713], [62, 2, 2, 0.3900746], [65, 4, 2, 0.344192], [62, 9, 5, 1.0], [65, 15, 3, 0.66084397], [58, 16, 2, 0.4660994], [65, 21, 2, 0.4979112]], [[58, 1, 4, 1.0], [57, 4, 2, 0.4116349], [55, 15, 2, 0.56022], [53, 18, 2, 0.49746132], [53, 22, 1, 0.6232086]]]\n",
            "fast_rhythmB  generate done!\n",
            "info is \n",
            " [[[49, 0, 1, 0.46338806], [61, 4, 2, 0.33960575], [58, 7, 2, 0.93124807], [58, 9, 2, 1.0], [58, 11, 3, 0.8965747], [54, 16, 4, 0.5274358], [61, 21, 2, 0.5305229]], [[61, 0, 1, 0.53895485], [71, 2, 1, 0.481087], [73, 4, 2, 0.46107623], [70, 9, 4, 0.80593336], [73, 15, 3, 1.0], [73, 21, 2, 0.68155193]], [[61, 5, 3, 1.0]], [[61, 0, 1, 0.4872044], [70, 2, 2, 0.45038652], [73, 4, 2, 0.37260535], [70, 9, 5, 1.0], [73, 15, 3, 0.7390684], [66, 16, 2, 0.4579547], [73, 21, 2, 0.5464196]], [[63, 7, 2, 0.8112361], [63, 9, 5, 1.0], [59, 16, 3, 0.4603497], [59, 19, 1, 0.5489791]], [[61, 0, 1, 0.47202933], [70, 7, 2, 0.9897043], [70, 9, 2, 1.0], [70, 11, 2, 0.88928545], [66, 16, 4, 0.54640317], [73, 21, 2, 0.48872334]], [[64, 2, 2, 0.45830372], [68, 7, 2, 1.0]], [[56, 0, 2, 0.9244048], [63, 3, 2, 0.53486997], [56, 4, 3, 0.39348212], [56, 7, 1, 0.53633964], [49, 9, 3, 1.0], [51, 10, 7, 0.84085816], [51, 11, 2, 0.45562053], [49, 12, 1, 0.6729665], [61, 13, 2, 0.51198244], [64, 16, 2, 0.35243994], [61, 18, 1, 0.6245366]], [[61, 0, 1, 0.3856021], [71, 2, 1, 0.37920612], [73, 4, 2, 0.444612], [73, 15, 3, 1.0], [73, 21, 2, 0.93590254]], [[61, 0, 5, 0.6288847], [59, 16, 3, 1.0], [59, 19, 2, 0.94670445], [63, 20, 2, 0.37349588], [56, 22, 2, 0.91149926]], [[61, 0, 1, 0.38728088], [70, 7, 2, 0.98701453], [70, 9, 2, 1.0], [70, 11, 2, 0.8434997], [66, 16, 4, 0.53054756]], [[63, 3, 2, 0.71797943], [63, 9, 3, 1.0], [61, 12, 1, 0.8216407], [59, 17, 1, 0.9215235]], [[61, 3, 2, 0.47097573], [63, 7, 2, 0.40463617], [58, 19, 1, 0.5196265]], [[61, 2, 1, 0.35474384], [63, 3, 4, 0.52888453], [63, 7, 2, 1.0], [63, 9, 2, 0.803191]], [[58, 1, 2, 1.0], [58, 3, 2, 0.90478885], [58, 7, 1, 0.77686113], [58, 11, 2, 0.8565775], [58, 13, 5, 0.8764109], [58, 18, 3, 0.98967797], [59, 20, 3, 0.6387157]], [[61, 1, 3, 0.82420796], [61, 4, 1, 0.7281833], [61, 7, 1, 0.65554696], [61, 13, 1, 0.78179014], [61, 18, 3, 1.0]]]\n",
            "leaping_twistingC  generate done!\n",
            "info is \n",
            " [[[57, 3, 1, 0.4862858], [59, 4, 1, 0.6984393], [65, 6, 1, 0.3362418], [71, 9, 3, 1.0], [69, 12, 1, 0.84731716], [67, 17, 1, 0.9572947]], [[72, 7, 2, 0.674352], [71, 9, 3, 1.0], [69, 14, 1, 0.49225283], [67, 16, 3, 0.43696538], [67, 19, 1, 0.5374951]], [[67, 4, 4, 1.0]], [[67, 1, 2, 0.671014], [62, 5, 4, 0.4515219], [65, 7, 1, 0.6305738], [62, 9, 2, 0.7937122], [67, 13, 2, 0.9829221], [77, 15, 2, 0.41406056], [74, 16, 1, 1.0], [77, 17, 1, 0.619677], [83, 21, 2, 0.6721345]], [[67, 0, 2, 0.8078937], [60, 4, 1, 0.6151976], [60, 7, 3, 0.7171539], [55, 8, 3, 1.0], [60, 10, 2, 0.3747507]], [[67, 0, 1, 0.73627], [76, 2, 1, 0.56675756], [79, 4, 2, 0.73320496], [76, 9, 5, 0.8218254], [79, 15, 3, 1.0], [79, 21, 2, 0.9540154]], [[69, 1, 3, 0.5153964], [59, 5, 2, 0.630288], [69, 8, 3, 0.38252842], [65, 15, 2, 0.8066278], [65, 17, 1, 0.7387558], [71, 21, 2, 1.0]], [[69, 7, 2, 0.8122908], [69, 9, 2, 1.0], [69, 11, 3, 0.62997514], [65, 16, 3, 0.47023937], [65, 19, 1, 0.5564554]], [[67, 0, 2, 1.0], [60, 19, 1, 0.44774327]], [[69, 1, 2, 0.7071835], [67, 2, 1, 0.339361], [59, 5, 2, 0.6493705], [69, 8, 2, 0.43112293], [65, 15, 2, 0.94615275], [65, 17, 1, 0.76409614], [71, 21, 2, 1.0]], [[69, 5, 2, 1.0], [72, 7, 1, 0.36781088]], [[67, 0, 2, 0.70564836], [60, 3, 2, 0.88257754], [55, 5, 2, 0.9346181], [55, 7, 3, 1.0]], [[64, 1, 3, 0.5896866], [65, 3, 3, 0.448106], [62, 8, 2, 0.670219], [62, 10, 2, 1.0]], [[67, 1, 1, 0.44707084], [62, 10, 4, 0.4490895], [62, 14, 2, 1.0], [64, 21, 2, 0.50425535]], [[67, 2, 2, 0.4535479], [71, 7, 2, 1.0]], [[67, 2, 3, 1.0], [65, 15, 5, 0.67004997], [62, 18, 2, 0.97352207], [62, 22, 1, 0.8119143]]]\n",
            "leaping_twistingC#  generate done!\n",
            "info is \n",
            " [[[49, 0, 2, 0.5401474], [56, 3, 2, 0.72593653], [56, 9, 3, 1.0], [54, 12, 2, 0.68553907], [56, 15, 2, 0.9106766]], [[56, 0, 1, 0.58463717], [65, 2, 2, 0.55695915], [68, 4, 2, 0.5558736], [65, 9, 4, 1.0], [68, 15, 3, 0.78755796], [68, 21, 2, 0.7655154]], [[58, 7, 2, 0.6609541], [58, 9, 4, 1.0], [56, 13, 2, 0.35421562], [54, 19, 1, 0.5254697]], [[56, 0, 1, 0.5643326], [54, 6, 2, 1.0], [51, 18, 2, 0.5418659], [51, 22, 1, 0.7411089]], [[56, 0, 2, 0.6026466], [54, 6, 1, 1.0], [51, 16, 1, 0.6620775], [51, 19, 3, 0.6905048], [51, 22, 1, 0.90572405]], [[56, 0, 2, 0.7418973], [49, 1, 2, 0.6928322], [49, 3, 2, 0.6605041], [44, 5, 3, 0.9207496], [44, 8, 2, 1.0]], [[53, 0, 1, 0.7047249], [63, 2, 1, 0.4521325], [65, 4, 2, 0.64298296], [63, 10, 1, 0.49370694], [66, 11, 2, 0.46448815], [65, 15, 2, 0.96307135], [65, 17, 1, 0.79318863], [65, 21, 2, 1.0]], [[56, 0, 5, 0.7824894], [54, 4, 3, 0.52264094], [54, 7, 2, 0.8646201], [51, 10, 3, 0.9452383], [51, 13, 1, 1.0]], [[56, 0, 1, 0.75442356], [65, 2, 2, 0.62318], [68, 4, 2, 0.7923475], [65, 9, 5, 0.957381], [68, 15, 3, 1.0], [68, 21, 2, 0.9697652]], [[61, 0, 1, 0.6937338], [61, 4, 1, 1.0], [61, 6, 2, 0.44955286], [54, 9, 3, 0.95848644], [60, 13, 1, 0.8765782], [61, 16, 4, 0.70561635], [61, 20, 1, 0.89585346]], [[56, 1, 3, 1.0], [56, 4, 1, 0.4705427], [51, 7, 2, 0.83104444], [51, 9, 2, 0.72874016]], [[56, 0, 3, 0.44272244], [54, 6, 1, 1.0], [51, 15, 2, 0.72848684], [51, 18, 3, 0.75736994], [51, 21, 2, 0.669299]], [[60, 1, 3, 0.738223], [61, 5, 2, 0.5057121], [58, 10, 2, 1.0]], [[56, 0, 2, 0.46923912], [56, 2, 3, 0.55855876], [54, 15, 2, 0.41791317], [58, 18, 4, 1.0]], [[60, 2, 2, 0.59353495], [60, 4, 4, 0.62488747], [60, 8, 3, 0.5704634], [61, 15, 1, 1.0], [63, 21, 2, 0.64848095]], [[56, 0, 2, 1.0], [53, 9, 4, 0.8952644], [49, 19, 1, 0.69032997]]]\n",
            "leaping_twistingD  generate done!\n",
            "info is \n",
            " [[[50, 0, 2, 0.59706163], [57, 3, 2, 1.0], [57, 9, 3, 0.9793083], [55, 12, 1, 0.6607327], [57, 15, 2, 0.91993535]], [[57, 4, 2, 0.5858078], [57, 12, 3, 0.6184648], [54, 16, 3, 0.43882352], [54, 19, 1, 0.5326593]], [[59, 5, 3, 1.0], [62, 7, 3, 0.55135083], [62, 10, 1, 0.34457335]], [[54, 0, 1, 0.59601605], [54, 4, 1, 0.47838837], [54, 7, 1, 0.71378505], [47, 9, 3, 0.5333526], [49, 11, 3, 1.0], [54, 15, 6, 0.6426498], [57, 20, 1, 0.552819]], [[59, 5, 2, 0.35051528], [62, 7, 1, 0.43775108], [50, 14, 2, 1.0]], [[50, 0, 1, 0.755736], [50, 4, 1, 0.8134918], [50, 7, 1, 0.8223573], [43, 9, 3, 0.8582627], [45, 11, 2, 0.8685066], [49, 13, 2, 0.6233409], [50, 15, 3, 1.0], [50, 18, 3, 0.795977]], [[57, 0, 2, 0.4675761], [57, 2, 3, 0.54104406], [55, 15, 2, 0.3856001], [59, 18, 4, 1.0]], [[57, 1, 4, 0.5555812], [55, 7, 2, 0.5808918], [52, 9, 2, 0.65083843], [57, 13, 2, 1.0], [67, 15, 2, 0.42921075], [64, 16, 1, 0.81200033], [67, 17, 1, 0.61181194], [73, 21, 2, 0.6719498]], [[57, 0, 7, 0.4409494], [57, 7, 1, 1.0]], [[54, 5, 2, 1.0], [57, 7, 1, 0.5372169]], [[55, 1, 4, 1.0], [54, 4, 1, 0.79021007], [50, 10, 1, 0.7207811]], [[57, 1, 3, 1.0], [57, 4, 1, 0.5092815], [52, 7, 2, 0.8513065], [52, 9, 2, 0.74411243]], [[54, 5, 2, 1.0], [57, 7, 1, 0.5097661]], [[57, 0, 2, 0.6052057], [50, 3, 2, 0.9335294], [45, 5, 2, 0.780704], [45, 7, 3, 1.0]], [[54, 1, 1, 0.6112205], [55, 3, 3, 0.5447439], [52, 7, 4, 1.0]], [[57, 2, 1, 0.3972957], [59, 3, 4, 0.7764818], [59, 7, 1, 1.0]]]\n",
            "leaping_twistingD#  generate done!\n",
            "info is \n",
            " [[[51, 0, 1, 0.79186326], [51, 4, 2, 0.9634443], [51, 6, 2, 0.59744537], [44, 9, 3, 1.0], [46, 11, 2, 0.7088639], [50, 13, 2, 0.6417787], [51, 15, 3, 0.9485022], [51, 18, 3, 0.96124905]], [[55, 7, 2, 0.6377089], [55, 9, 3, 1.0], [53, 14, 1, 0.39955956], [51, 19, 1, 0.4961969]], [[51, 0, 2, 0.55046296], [58, 3, 2, 0.78288585], [58, 9, 3, 1.0], [56, 12, 1, 0.56640095], [58, 15, 2, 0.99781436]], [[51, 0, 1, 0.62160504], [60, 2, 2, 0.5859351], [63, 4, 2, 0.66559523], [60, 9, 4, 1.0], [63, 15, 3, 0.8049235], [63, 21, 2, 0.83312964]], [[55, 0, 2, 1.0], [62, 3, 2, 0.7107974], [60, 9, 3, 0.84123695], [62, 10, 7, 0.8946804], [60, 12, 1, 0.8042672], [63, 16, 2, 0.3819547], [60, 18, 1, 0.73938066]], [[51, 0, 2, 0.75617725], [44, 1, 2, 0.72902197], [44, 3, 2, 0.6737435], [39, 5, 3, 0.9354708], [39, 8, 2, 1.0]], [[51, 0, 2, 0.7060523], [44, 1, 2, 0.59791595], [44, 3, 2, 0.7107154], [39, 8, 3, 1.0]], [[50, 1, 3, 0.65502137], [51, 5, 2, 0.4114535], [48, 8, 2, 0.7474014], [48, 10, 2, 1.0]], [[51, 0, 2, 0.7226804], [44, 1, 2, 0.71189207], [44, 3, 2, 0.7591953], [39, 5, 3, 0.94435734], [39, 8, 2, 1.0]], [[51, 3, 2, 0.41291502], [53, 7, 2, 0.62904906], [48, 16, 3, 0.5152689], [48, 19, 1, 0.46805525]], [[53, 2, 4, 0.7921335], [51, 15, 3, 0.62989527], [55, 18, 2, 0.8269731], [55, 20, 2, 1.0]], [[51, 7, 2, 1.0], [51, 9, 2, 0.96074116], [53, 18, 2, 0.5911331]], [[55, 0, 1, 0.6093107], [65, 2, 1, 0.37788558], [67, 4, 2, 0.59555566], [68, 11, 2, 0.6427786], [67, 15, 2, 0.9382713], [67, 17, 1, 0.81463474], [67, 21, 2, 1.0]], [[51, 2, 2, 0.4206607], [55, 6, 3, 1.0]], [[51, 1, 4, 1.0], [48, 6, 3, 0.67262334]], [[51, 2, 2, 0.7044107], [51, 4, 6, 0.75191325], [51, 10, 2, 1.0]]]\n",
            "leaping_twistingE  generate done!\n",
            "info is \n",
            " [[[49, 0, 2, 0.9927078], [56, 3, 2, 0.7807486], [56, 9, 6, 1.0], [54, 12, 2, 0.8345591], [56, 15, 2, 0.5124359], [54, 18, 1, 0.67087585]], [[56, 0, 1, 0.45619017], [66, 2, 1, 0.45618972], [68, 4, 2, 0.6840816], [69, 11, 2, 0.47819024], [68, 15, 3, 1.0], [68, 21, 2, 0.9470288]], [[54, 4, 1, 0.59698886], [54, 12, 3, 0.6063316], [51, 16, 3, 0.3986293], [51, 19, 1, 0.5229105]], [[56, 7, 2, 0.8061417], [56, 9, 5, 1.0], [52, 16, 3, 0.4625267], [52, 19, 1, 0.5490779]], [[56, 0, 1, 0.47713196], [68, 4, 2, 0.6001373], [69, 11, 2, 0.65644926], [68, 15, 2, 1.0], [68, 17, 1, 0.8382271], [68, 21, 2, 0.9928886]], [[56, 9, 5, 1.0], [52, 16, 3, 0.496114], [52, 19, 1, 0.3729248]], [[54, 5, 3, 1.0], [57, 7, 3, 0.51307666], [57, 10, 1, 0.3424189]], [[54, 2, 2, 0.7349188], [54, 4, 2, 0.6408681], [56, 10, 1, 0.9914164], [57, 12, 1, 0.5388451], [57, 21, 2, 1.0]], [[54, 2, 2, 0.6656066], [54, 4, 2, 0.36865416], [52, 16, 2, 0.60822445], [56, 18, 2, 0.7309105], [56, 20, 2, 1.0]], [[54, 3, 2, 0.42891496], [56, 7, 2, 0.4805967], [51, 16, 3, 0.4312075], [51, 19, 1, 0.56207275]], [[56, 1, 3, 0.7386451], [57, 5, 2, 0.50873876], [54, 8, 2, 0.771261], [54, 10, 2, 1.0]], [[54, 0, 5, 0.6593763], [52, 16, 3, 1.0], [52, 19, 2, 0.96648353], [56, 20, 2, 0.3748311], [49, 22, 2, 0.9358724]], [[56, 0, 3, 0.78964955], [57, 2, 1, 0.5558148], [54, 4, 3, 0.5318924], [54, 7, 2, 0.6403709], [51, 10, 3, 0.7291367], [51, 13, 1, 1.0]], [[54, 1, 2, 1.0], [54, 3, 2, 0.669776], [51, 6, 3, 0.7642011]], [[51, 1, 3, 1.0], [51, 4, 1, 0.737022], [51, 7, 1, 0.6481221], [51, 11, 2, 0.7187556], [51, 13, 2, 0.75928026], [51, 15, 3, 0.6604885], [51, 18, 3, 0.95933527], [52, 22, 1, 0.5525483]], [[57, 7, 2, 1.0], [57, 9, 2, 0.94551796], [56, 15, 1, 0.33655006], [59, 18, 2, 0.5844376]]]\n",
            "leaping_twistingF  generate done!\n",
            "info is \n",
            " [[[48, 0, 2, 0.5682497], [55, 3, 2, 0.70978564], [55, 9, 3, 1.0], [53, 12, 2, 0.7240265], [55, 15, 2, 0.9194676]], [[55, 0, 1, 0.43236694], [64, 9, 4, 1.0], [67, 15, 2, 0.5569426], [67, 21, 2, 0.3507507]], [[58, 1, 4, 0.87814], [57, 4, 1, 1.0], [53, 7, 2, 0.88102496], [53, 9, 2, 0.71146905]], [[55, 0, 1, 0.7270557], [64, 2, 2, 0.6367001], [67, 4, 2, 0.787829], [64, 9, 4, 1.0], [67, 15, 3, 0.8815017], [67, 21, 2, 0.9451156]], [[55, 2, 1, 0.47481963], [57, 3, 3, 0.88185704], [57, 6, 2, 1.0]], [[55, 0, 1, 0.4472748], [64, 2, 2, 0.38752353], [67, 4, 2, 0.34258372], [64, 9, 5, 1.0], [67, 15, 3, 0.6277408], [60, 16, 2, 0.46080047], [67, 21, 2, 0.49891979]], [[58, 1, 2, 0.8907669], [53, 5, 2, 0.47679934], [53, 9, 2, 0.91077703], [58, 13, 2, 1.0], [57, 15, 2, 0.81279105], [53, 16, 1, 0.793078], [57, 17, 2, 0.88297707], [57, 21, 2, 0.72588253]], [[55, 1, 4, 0.98354703], [53, 7, 2, 1.0], [50, 10, 3, 0.8903737], [50, 13, 1, 0.33888078]], [[55, 5, 3, 1.0], [58, 7, 3, 0.7410664], [58, 10, 1, 0.39806047]], [[52, 1, 3, 1.0], [53, 5, 4, 0.65877515], [52, 8, 2, 0.930842], [50, 10, 2, 0.40729126]], [[53, 0, 2, 0.7895777], [53, 4, 3, 0.8441838], [53, 7, 1, 0.80458933], [46, 9, 3, 0.8957022], [48, 11, 2, 0.8479484], [52, 13, 2, 0.62340057], [53, 15, 3, 1.0], [53, 18, 3, 0.83075505]], [[55, 0, 3, 0.42281106], [53, 6, 1, 1.0], [50, 15, 2, 0.49351838], [50, 18, 2, 0.51498145], [50, 22, 1, 0.6160915]], [[55, 0, 3, 0.5155513], [53, 6, 1, 1.0], [50, 15, 2, 0.72906554], [50, 19, 3, 0.7059729], [50, 22, 1, 0.74620694]], [[65, 0, 1, 0.7578836], [65, 4, 1, 0.8180866], [65, 7, 1, 0.8039155], [58, 9, 3, 0.86710477], [60, 11, 2, 0.85340154], [64, 13, 2, 0.6190732], [65, 15, 3, 1.0], [65, 18, 3, 0.8166299]], [[58, 1, 2, 1.0], [57, 4, 1, 0.7717485], [53, 7, 2, 0.87121546], [53, 9, 2, 0.7172239]], [[50, 1, 2, 0.79574275], [48, 2, 1, 0.41238666], [40, 5, 2, 0.6617928], [50, 8, 3, 0.4687168], [46, 15, 2, 0.96517473], [46, 17, 1, 0.76516026], [52, 21, 2, 1.0]]]\n",
            "leaping_twistingF#  generate done!\n",
            "info is \n",
            " [[[51, 0, 2, 1.0], [51, 4, 3, 0.51899356], [51, 7, 1, 0.8203255], [53, 8, 2, 0.53806674], [44, 9, 2, 0.90991396], [46, 10, 4, 0.6939594], [46, 11, 2, 0.94675034], [46, 13, 2, 0.9620009], [58, 14, 3, 0.42033148], [56, 18, 1, 0.3420152], [54, 20, 1, 0.5350809]], [[54, 3, 2, 0.8837347], [56, 7, 2, 0.66529346], [53, 14, 1, 0.4916285], [51, 16, 3, 0.43528166], [51, 19, 1, 0.5371786]], [[54, 0, 1, 0.5168442], [63, 2, 2, 0.4877505], [66, 4, 2, 0.39675584], [63, 9, 5, 1.0], [66, 15, 3, 0.7894672], [59, 16, 2, 0.45006174], [66, 21, 2, 0.59933686]], [[54, 3, 2, 0.432223], [56, 7, 2, 0.4576861], [51, 16, 3, 0.39987424], [51, 19, 1, 0.55057365]], [[54, 3, 2, 0.48898214], [56, 7, 2, 0.37668237], [51, 19, 1, 0.51693517]], [[54, 0, 1, 0.75385016], [63, 2, 1, 0.55501723], [66, 4, 2, 0.7394264], [63, 9, 5, 0.7935012], [66, 15, 3, 1.0], [66, 21, 2, 0.98891765]], [[56, 0, 1, 0.5010007], [66, 2, 1, 0.45541084], [68, 4, 2, 0.43084568], [65, 9, 4, 0.8268931], [68, 15, 3, 1.0], [68, 21, 2, 0.6313151]], [[56, 5, 2, 1.0], [59, 7, 1, 0.58830416]], [[54, 0, 1, 0.38440484], [63, 2, 1, 0.37225914], [63, 9, 2, 1.0], [63, 11, 2, 0.7401122]], [[53, 5, 2, 1.0], [56, 7, 1, 0.63022757]], [[53, 0, 1, 0.5659988], [63, 2, 1, 0.47418296], [65, 4, 2, 0.5503659], [66, 11, 2, 0.58450836], [65, 15, 3, 1.0], [65, 21, 2, 0.85167235]], [[54, 2, 1, 0.48217207], [56, 3, 3, 0.94612134], [56, 6, 2, 1.0]], [[54, 0, 1, 0.63585323], [63, 2, 2, 0.5960366], [66, 4, 2, 0.68926364], [63, 9, 4, 1.0], [66, 15, 3, 0.8129681], [66, 21, 2, 0.84092987]], [[54, 0, 1, 0.3964028], [63, 9, 2, 1.0], [63, 11, 2, 0.7675581], [59, 16, 3, 0.5320016], [59, 19, 1, 0.5833458]], [[58, 1, 3, 1.0], [59, 5, 4, 0.68279153], [58, 8, 1, 0.7318159], [56, 10, 2, 0.7027593]], [[53, 0, 1, 0.53185076], [63, 2, 1, 0.4928538], [65, 4, 2, 0.4584509], [66, 11, 2, 0.4437277], [65, 15, 3, 1.0], [65, 21, 2, 0.718373]]]\n",
            "leaping_twistingG  generate done!\n",
            "info is \n",
            " [[[52, 0, 1, 0.35221025], [59, 3, 2, 0.87385356], [59, 9, 3, 1.0], [57, 12, 1, 0.79086965], [55, 17, 1, 0.61419696]], [[55, 0, 1, 0.46685386], [64, 7, 2, 0.9742026], [64, 9, 2, 1.0], [64, 11, 2, 0.86079], [60, 16, 3, 0.56340307], [60, 19, 1, 0.33550027], [67, 21, 2, 0.4674624]], [[59, 0, 3, 0.8709629], [57, 4, 3, 0.84495544], [57, 7, 2, 0.7383711], [55, 10, 4, 0.6331876], [54, 13, 1, 1.0]], [[55, 0, 1, 0.6081805], [64, 2, 2, 0.5806252], [67, 4, 2, 0.62552613], [64, 9, 4, 1.0], [67, 15, 3, 0.8146917], [67, 21, 2, 0.8061801]], [[59, 0, 1, 0.4401916], [71, 4, 2, 0.5820756], [72, 11, 2, 0.6249691], [71, 15, 2, 1.0], [71, 17, 1, 0.82322025], [71, 21, 2, 0.96003824]], [[55, 0, 1, 0.42772612], [64, 7, 2, 0.90322447], [64, 9, 2, 1.0], [64, 11, 2, 0.79875], [60, 16, 3, 0.54004765], [60, 19, 1, 0.48136425]], [[55, 1, 4, 0.9564682], [50, 5, 2, 0.47529808], [50, 9, 2, 0.9004663], [55, 13, 2, 1.0], [54, 15, 2, 0.8533497], [50, 16, 1, 0.46241882], [54, 17, 1, 0.69090337], [54, 21, 2, 0.93219686]], [[55, 1, 3, 0.8582014], [55, 4, 2, 0.53986543], [50, 7, 3, 1.0], [50, 10, 4, 0.9735759], [50, 14, 2, 0.6881275]], [[54, 1, 3, 1.0], [55, 3, 5, 0.89920026], [55, 8, 1, 0.7751455]], [[55, 0, 2, 0.6287661], [62, 3, 2, 0.7274839], [62, 9, 4, 1.0], [60, 12, 2, 0.74959546], [62, 15, 2, 0.93201476], [60, 18, 1, 0.35243118]], [[57, 0, 4, 0.6108593], [57, 4, 1, 0.33662766], [55, 16, 3, 0.8720785], [55, 19, 2, 1.0], [52, 22, 2, 0.8779921]], [[59, 1, 2, 0.9771501], [59, 3, 2, 0.8883532], [59, 7, 1, 0.76606894], [59, 11, 2, 0.8570871], [59, 13, 5, 0.87226605], [59, 18, 3, 1.0], [60, 20, 3, 0.6159341]], [[55, 0, 1, 0.41410887], [64, 9, 4, 1.0], [67, 15, 2, 0.49209723]], [[55, 0, 1, 0.3522802], [64, 9, 2, 1.0], [64, 11, 3, 0.84237814], [60, 16, 4, 0.57370466]], [[55, 0, 1, 0.517545], [64, 2, 2, 0.48393333], [67, 4, 2, 0.39863065], [64, 9, 5, 1.0], [67, 15, 3, 0.786947], [60, 16, 2, 0.4599172], [67, 21, 2, 0.596313]], [[59, 0, 1, 0.5705231], [69, 2, 1, 0.49453104], [71, 4, 2, 0.52034706], [72, 11, 2, 0.5342566], [71, 15, 3, 1.0], [71, 21, 2, 0.8372533]]]\n",
            "leaping_twistingG#  generate done!\n",
            "info is \n",
            " [[[48, 3, 2, 0.7200946], [48, 9, 3, 1.0], [46, 12, 1, 0.7997062], [44, 17, 1, 0.87445205]], [[44, 0, 1, 0.43753055], [53, 7, 2, 0.9165573], [53, 9, 2, 1.0], [53, 11, 2, 0.80885214], [49, 16, 3, 0.5552472], [49, 19, 1, 0.46833992], [56, 21, 2, 0.35268062]], [[44, 0, 1, 0.43620124], [53, 7, 2, 0.9094726], [53, 9, 2, 1.0], [53, 11, 2, 0.80694836], [49, 16, 3, 0.55082524], [49, 19, 1, 0.45280567], [56, 21, 2, 0.35227638]], [[44, 0, 2, 0.59942985], [44, 7, 1, 0.6077703], [37, 9, 3, 0.46750844], [39, 11, 3, 1.0], [43, 13, 1, 0.6444138], [44, 15, 3, 0.41785035]], [[46, 5, 3, 1.0], [49, 7, 3, 0.53488475], [49, 10, 1, 0.35756603]], [[43, 7, 2, 0.6502237], [43, 9, 4, 1.0], [41, 13, 2, 0.37046102], [39, 16, 3, 0.35434565], [39, 19, 1, 0.54532593]], [[44, 0, 2, 0.67429215], [44, 7, 1, 0.5628704], [37, 9, 4, 0.5518735], [39, 11, 3, 1.0], [43, 13, 1, 0.53397304]], [[53, 1, 3, 0.43730843], [43, 5, 2, 0.5803906], [53, 9, 2, 0.44259807], [49, 15, 2, 0.79928714], [49, 17, 1, 0.6824636], [55, 21, 2, 1.0]], [[48, 1, 1, 1.0], [48, 4, 1, 0.49557287], [48, 7, 1, 0.8980312], [48, 18, 3, 0.9860002], [49, 20, 3, 0.7282978]], [[53, 0, 2, 0.93948674], [60, 3, 2, 0.4872736], [53, 4, 3, 0.40299723], [53, 7, 1, 0.55943274], [55, 8, 2, 0.35569504], [46, 9, 4, 1.0], [48, 10, 7, 0.8302464], [48, 11, 2, 0.51014024], [58, 13, 2, 0.56349057], [61, 16, 2, 0.33658567], [58, 18, 1, 0.58411205]], [[46, 1, 3, 0.9816665], [46, 4, 2, 0.5205073], [44, 16, 4, 0.9878005], [48, 18, 2, 0.64102155], [48, 20, 2, 1.0], [41, 22, 1, 0.50141895]], [[44, 1, 3, 1.0], [44, 4, 2, 0.62570965], [39, 7, 3, 0.9271083], [39, 10, 2, 0.7994253]], [[44, 0, 2, 0.62260836], [51, 3, 2, 0.99838376], [51, 9, 3, 1.0], [49, 12, 1, 0.6126722], [51, 15, 2, 0.9985494]], [[44, 1, 3, 1.0], [44, 4, 1, 0.5572673], [39, 7, 2, 0.8707982], [39, 9, 2, 0.7665452]], [[44, 2, 2, 0.44393992], [48, 7, 3, 1.0]], [[41, 0, 4, 0.73225814], [39, 4, 3, 0.55007863], [39, 7, 2, 0.7636646], [36, 10, 3, 0.87372655], [36, 13, 1, 1.0]]]\n",
            "leaping_twistingA  generate done!\n",
            "info is \n",
            " [[[57, 0, 1, 0.688899], [57, 4, 1, 1.0], [57, 6, 2, 0.4594371], [50, 9, 3, 0.9424194], [56, 13, 1, 0.8270182], [57, 16, 4, 0.7138532], [57, 20, 1, 0.8610722]], [[61, 0, 1, 0.6814439], [71, 2, 1, 0.42554143], [73, 4, 2, 0.61355525], [71, 10, 1, 0.43549126], [74, 11, 2, 0.5170885], [73, 15, 2, 0.9724449], [73, 17, 1, 0.80130017], [73, 21, 2, 1.0]], [[57, 0, 2, 0.6642836], [64, 3, 2, 0.75517666], [69, 6, 1, 0.34271142], [64, 9, 6, 1.0], [62, 12, 2, 0.8029013], [64, 15, 2, 0.9280952], [62, 18, 1, 0.3793709]], [[57, 0, 1, 0.45183623], [66, 7, 2, 0.9416399], [66, 9, 2, 1.0], [66, 11, 2, 0.83762485], [62, 16, 3, 0.5571928], [62, 19, 1, 0.40564388], [69, 21, 2, 0.40412188]], [[57, 0, 2, 1.0], [64, 3, 2, 0.7441167], [64, 9, 6, 0.93667763], [62, 12, 1, 0.8058354], [64, 15, 2, 0.42153996], [62, 18, 1, 0.6979209]], [[57, 0, 1, 0.70128727], [66, 2, 2, 0.62936586], [69, 4, 2, 0.7733277], [66, 9, 4, 1.0], [69, 15, 3, 0.8864851], [69, 21, 2, 0.9213769]], [[57, 0, 1, 0.70201904], [57, 4, 1, 1.0], [57, 6, 2, 0.44806686], [50, 9, 3, 0.9549393], [56, 13, 1, 0.8821288], [57, 16, 4, 0.7071746], [57, 20, 1, 0.89572805]], [[57, 1, 3, 1.0], [57, 4, 1, 0.9704967], [57, 7, 1, 0.8793731], [57, 11, 3, 0.97901636]], [[54, 0, 4, 0.9091105], [54, 4, 2, 0.44335797], [52, 16, 4, 0.98901385], [56, 18, 2, 0.6312967], [56, 20, 2, 1.0], [49, 22, 1, 0.52088803]], [[61, 0, 1, 0.4293857], [73, 4, 2, 0.5799646], [74, 11, 2, 0.5887859], [73, 15, 2, 1.0], [73, 17, 1, 0.71801466], [73, 21, 2, 0.81676847]], [[64, 1, 3, 0.536394], [64, 4, 1, 0.3774295], [62, 7, 2, 0.47874942], [59, 9, 2, 0.5400544], [64, 13, 3, 1.0], [74, 15, 2, 0.47942603], [71, 16, 1, 0.55049074], [74, 17, 1, 0.6892266], [80, 21, 3, 0.84711367]], [[57, 1, 4, 0.8944717], [52, 5, 2, 0.4351079], [52, 7, 2, 0.80065125], [52, 9, 2, 0.9460223], [57, 13, 2, 0.746909], [56, 15, 2, 0.84602946], [56, 17, 1, 0.5762773], [56, 21, 2, 1.0]], [[57, 0, 1, 0.8144437], [57, 3, 2, 0.9707296], [56, 6, 1, 0.34514302], [50, 9, 3, 1.0], [56, 13, 1, 0.90749866], [57, 16, 3, 0.6303828], [57, 19, 2, 0.99214786]], [[57, 1, 4, 0.9609743], [52, 5, 2, 0.47537723], [52, 9, 2, 0.90475035], [57, 13, 2, 1.0], [56, 15, 2, 0.8637687], [52, 16, 1, 0.4475501], [56, 17, 1, 0.6906343], [56, 21, 2, 0.9266568]], [[57, 1, 4, 1.0], [52, 7, 2, 0.85431975], [52, 9, 2, 0.69969815]], [[57, 1, 3, 1.0], [57, 4, 1, 0.9705509], [57, 7, 1, 0.8461286], [57, 11, 2, 0.7823341]]]\n",
            "leaping_twistingA#  generate done!\n",
            "info is \n",
            " [[[58, 0, 1, 0.80870473], [58, 3, 2, 0.9741586], [58, 6, 2, 0.36796105], [51, 9, 3, 1.0], [57, 13, 1, 0.9158803], [58, 16, 3, 0.6491466], [58, 19, 2, 0.9713535]], [[60, 5, 2, 1.0], [63, 7, 1, 0.7296278]], [[57, 7, 2, 0.8130477], [57, 9, 5, 1.0], [53, 16, 3, 0.4689757], [53, 19, 1, 0.55126774]], [[58, 2, 2, 0.8666114], [58, 4, 6, 0.87961215], [58, 10, 2, 1.0]], [[58, 1, 2, 0.8682994], [53, 5, 2, 0.37101573], [53, 7, 2, 0.7960209], [53, 9, 2, 0.8319851], [58, 13, 1, 0.8658049], [57, 15, 2, 0.7068927], [57, 17, 1, 0.70320374], [57, 21, 2, 1.0]], [[58, 3, 2, 0.8936409], [60, 7, 2, 0.6648997], [57, 14, 1, 0.49224892], [55, 16, 3, 0.43549192], [55, 19, 1, 0.538448]], [[60, 2, 2, 0.69960976], [60, 4, 2, 0.68639755], [60, 8, 3, 0.4689198], [62, 10, 1, 0.7422251], [63, 12, 1, 0.3768917], [63, 21, 2, 1.0]], [[62, 1, 1, 0.91388136], [65, 4, 1, 0.45535678], [62, 6, 2, 1.0], [62, 18, 3, 0.9512704], [63, 20, 3, 0.5075789]], [[58, 2, 1, 0.47575653], [60, 3, 3, 0.8808307], [60, 6, 2, 1.0]], [[55, 0, 3, 0.8681124], [53, 4, 3, 0.87048036], [53, 7, 2, 0.746731], [51, 10, 4, 0.5801782], [50, 13, 1, 1.0]], [[58, 0, 1, 0.7999231], [58, 3, 2, 0.9689912], [57, 6, 1, 0.36408114], [51, 9, 3, 0.999515], [57, 13, 1, 0.926711], [58, 16, 3, 0.64907384], [58, 19, 2, 1.0]], [[58, 7, 2, 1.0], [58, 9, 2, 0.9728762], [60, 18, 2, 0.59044474]], [[60, 2, 3, 0.99846035], [58, 16, 3, 0.7053509], [55, 18, 2, 1.0], [58, 19, 1, 0.39474216], [55, 22, 1, 0.8402324]], [[58, 1, 2, 1.0], [58, 3, 2, 0.7501131], [55, 6, 3, 0.8891134]], [[57, 1, 3, 1.0], [57, 4, 1, 0.7563899], [57, 7, 1, 0.6596682], [57, 11, 2, 0.7224797], [57, 13, 2, 0.7706758], [57, 15, 3, 0.6449404], [57, 18, 3, 0.9689673], [58, 22, 1, 0.5566215]], [[58, 0, 1, 0.51313597], [67, 2, 2, 0.48010787], [70, 4, 2, 0.39172855], [67, 9, 5, 1.0], [70, 15, 3, 0.76588243], [63, 16, 2, 0.45783827], [70, 21, 2, 0.5877847]]]\n",
            "leaping_twistingB  generate done!\n",
            "info is \n",
            " [[[49, 0, 1, 0.37963188], [56, 3, 2, 0.9108936], [56, 9, 3, 1.0], [54, 12, 1, 0.74126834], [56, 15, 2, 0.33429673], [52, 17, 1, 0.5474429]], [[52, 4, 1, 0.58837235], [52, 12, 3, 0.61673355], [49, 16, 3, 0.4134356], [49, 19, 1, 0.52152663]], [[56, 2, 2, 0.6924135], [56, 4, 4, 0.68035364], [56, 8, 3, 0.48068047], [58, 10, 1, 0.7253069], [59, 12, 1, 0.36847088], [59, 21, 2, 0.98219305]], [[52, 0, 4, 0.4730456], [52, 4, 3, 0.3468045], [52, 7, 2, 1.0]], [[52, 5, 3, 1.0]], [[51, 0, 3, 0.8790217], [49, 4, 3, 0.8373008], [49, 7, 2, 0.7345676], [47, 10, 4, 0.6623103], [46, 13, 1, 1.0]], [[52, 3, 2, 0.6263825], [52, 12, 3, 0.5227856], [49, 16, 3, 0.38003212], [49, 19, 1, 0.52986866]], [[58, 1, 4, 0.7765039], [59, 4, 2, 0.7436161], [56, 7, 3, 1.0], [56, 10, 2, 0.816477]], [[52, 4, 5, 1.0]], [[52, 2, 2, 0.41554555], [56, 6, 3, 1.0]], [[51, 1, 1, 0.9881856], [54, 4, 1, 0.38339883], [51, 7, 1, 0.9496996], [51, 18, 3, 1.0], [52, 20, 3, 0.74313635]], [[56, 0, 2, 0.8788396], [56, 4, 3, 0.37121543], [56, 7, 1, 0.6996116], [58, 8, 2, 0.48578268], [49, 9, 2, 0.75676256], [51, 10, 2, 0.45459634], [51, 11, 2, 1.0], [51, 13, 1, 0.9164202], [59, 20, 1, 0.76407814]], [[54, 0, 3, 0.41969636], [52, 6, 1, 1.0], [49, 15, 2, 0.47842473], [49, 18, 2, 0.51015526], [49, 22, 1, 0.61222625]], [[56, 0, 1, 0.606826], [56, 4, 1, 0.5832057], [56, 7, 1, 0.76353014], [49, 9, 3, 0.58535266], [51, 11, 3, 1.0], [56, 15, 3, 0.7492669], [56, 18, 3, 0.40155634], [59, 20, 1, 0.42650318]], [[56, 5, 3, 1.0], [59, 7, 3, 0.5550768], [59, 10, 1, 0.34672162]], [[52, 1, 3, 1.0], [52, 4, 1, 0.9510549], [52, 7, 1, 0.85810983], [52, 13, 1, 0.96165293], [52, 18, 2, 0.6147536]]]\n",
            "no skillsC  generate done!\n",
            "info is \n",
            " [[[48, 0, 3, 1.0]], [[43, 0, 1, 0.44873726], [53, 2, 1, 0.3422301], [55, 4, 2, 0.3617292], [52, 9, 4, 1.0], [55, 15, 2, 0.670467], [55, 21, 2, 0.42485288]], [[52, 0, 1, 0.5720312], [62, 2, 1, 0.36232516], [64, 4, 2, 0.6055133], [65, 11, 2, 0.68732136], [64, 15, 2, 0.9296233], [64, 17, 1, 0.8260726], [64, 21, 2, 1.0]], [[52, 1, 2, 1.0], [52, 3, 2, 0.89200646], [52, 7, 1, 0.7637133], [52, 11, 2, 0.829532], [52, 13, 5, 0.8562893], [52, 18, 3, 0.983424], [53, 20, 3, 0.6417857]], [[48, 0, 1, 0.33456302], [57, 7, 2, 0.86358505], [57, 9, 2, 1.0], [57, 11, 3, 0.7028962], [53, 16, 3, 0.49909452], [53, 19, 1, 0.57309234]], [[48, 1, 3, 1.0], [48, 4, 1, 0.35102], [43, 7, 2, 0.8275938], [43, 9, 2, 0.7031977]], [[45, 0, 3, 0.46730715], [43, 6, 1, 1.0], [40, 15, 2, 0.5139812], [40, 18, 4, 0.509735], [40, 22, 1, 0.6614289]], [[50, 0, 1, 0.3425504], [60, 2, 1, 0.3969398], [62, 4, 2, 0.5863835], [62, 15, 3, 1.0], [62, 21, 2, 0.90096104]], [[50, 0, 3, 0.4059494], [48, 6, 1, 1.0], [45, 15, 2, 0.37262982], [48, 16, 1, 0.6373181], [45, 18, 3, 0.7057226], [45, 21, 2, 0.6193809]], [[50, 2, 2, 0.6890664], [50, 4, 2, 0.363492], [48, 16, 2, 0.62735456], [52, 18, 2, 0.7243075], [52, 20, 2, 1.0]], [[50, 0, 4, 1.0], [50, 4, 2, 0.6418399], [48, 15, 4, 0.53783685], [48, 19, 1, 0.34815606], [45, 22, 1, 0.7026415]], [[48, 0, 1, 0.36350068], [57, 9, 2, 1.0], [57, 11, 3, 0.7474225], [53, 16, 3, 0.52112687], [53, 19, 1, 0.59140426]], [[57, 1, 2, 0.71974796], [55, 2, 1, 0.47118008], [47, 5, 1, 0.54570156], [57, 8, 2, 0.49083427], [53, 15, 3, 1.0], [59, 21, 2, 0.99125636]], [[52, 0, 1, 0.5379369], [62, 2, 1, 0.46335024], [64, 4, 2, 0.68160397], [65, 11, 2, 0.6596696], [64, 15, 3, 1.0], [64, 21, 2, 0.9233274]], [[48, 0, 1, 0.6046841], [48, 4, 1, 0.5878698], [48, 7, 1, 0.76633424], [41, 9, 3, 0.59294593], [43, 11, 2, 1.0], [47, 13, 1, 0.582972], [48, 15, 3, 0.7494699], [48, 18, 3, 0.4041137]], [[50, 1, 2, 0.5930775], [48, 6, 1, 1.0], [48, 16, 1, 0.8371489], [45, 18, 3, 0.9479057], [45, 21, 2, 0.8703284]]]\n",
            "no skillsC#  generate done!\n",
            "info is \n",
            " [[[48, 0, 3, 1.0]], [[44, 0, 1, 0.764484], [53, 2, 1, 0.5631852], [56, 4, 2, 0.75440305], [53, 9, 5, 0.8104063], [56, 15, 3, 0.97213507], [56, 21, 2, 1.0]], [[48, 2, 2, 0.9603138], [48, 4, 6, 0.9125759], [48, 10, 2, 1.0]], [[44, 0, 1, 0.4384343], [53, 2, 2, 0.36480007], [56, 4, 2, 0.33665833], [53, 9, 2, 1.0], [53, 11, 3, 0.844609], [56, 15, 3, 0.5867416], [49, 16, 2, 0.46638745], [56, 21, 2, 0.4920667]], [[49, 1, 4, 0.861542], [44, 7, 3, 1.0]], [[48, 0, 1, 0.5468715], [58, 2, 1, 0.3513843], [60, 4, 2, 0.6050523], [61, 11, 2, 0.6763081], [60, 15, 2, 0.9280767], [60, 17, 1, 0.82020307], [60, 21, 2, 1.0]], [[48, 1, 3, 0.6652718], [49, 4, 2, 0.5576621], [46, 7, 3, 1.0], [46, 10, 2, 0.46482936]], [[46, 2, 1, 0.34847304], [46, 5, 1, 0.39549896], [48, 7, 2, 0.93993205], [48, 9, 2, 1.0], [49, 12, 1, 0.43722966], [49, 21, 2, 0.84131765]], [[49, 0, 1, 0.54749984], [58, 2, 2, 0.5193845], [61, 4, 2, 0.4370228], [58, 9, 5, 1.0], [61, 15, 3, 0.8078396], [54, 16, 2, 0.43272257], [61, 21, 2, 0.6670765]], [[51, 0, 2, 0.47757563], [51, 2, 3, 0.60797757], [49, 15, 2, 0.5164359], [53, 18, 4, 1.0]], [[53, 7, 2, 0.62473446], [53, 9, 3, 1.0], [51, 14, 1, 0.41055182], [49, 19, 1, 0.49654388]], [[48, 1, 3, 1.0], [48, 4, 1, 0.5794576], [48, 7, 1, 0.73070014], [48, 18, 3, 0.8055461], [49, 21, 2, 0.5963848]], [[48, 3, 4, 0.3929585], [48, 7, 2, 0.9973936], [48, 9, 2, 1.0], [49, 21, 2, 0.5527561]], [[49, 0, 1, 0.74249136], [49, 4, 3, 0.7895023], [49, 7, 1, 0.89443976], [42, 9, 3, 0.79753107], [44, 11, 2, 1.0], [48, 13, 2, 0.64394855], [49, 15, 3, 0.9901148], [49, 18, 3, 0.71199274]], [[49, 0, 1, 0.6954838], [58, 2, 2, 0.62645644], [61, 4, 2, 0.76470166], [58, 9, 4, 1.0], [61, 15, 3, 0.86412895], [61, 21, 2, 0.9024489]], [[48, 1, 1, 1.0], [51, 4, 1, 0.36848834], [48, 7, 1, 0.93438506], [48, 16, 2, 0.74988717], [48, 18, 3, 0.9168891], [49, 20, 3, 0.6186989]]]\n",
            "no skillsD  generate done!\n",
            "info is \n",
            " [[[49, 0, 1, 0.5407449], [49, 20, 4, 1.0]], [[49, 2, 2, 0.7034279], [49, 4, 2, 0.66641694], [52, 12, 1, 0.43710008], [50, 15, 1, 0.9104107], [52, 21, 2, 1.0]], [[49, 1, 2, 0.9377189], [49, 3, 2, 0.8544723], [49, 7, 1, 0.74216634], [49, 11, 2, 0.8323389], [49, 13, 5, 0.8461993], [49, 18, 3, 1.0]], [[49, 2, 3, 0.63056785], [49, 5, 1, 0.58364516], [52, 12, 1, 0.5699963], [50, 15, 1, 0.7506499], [52, 21, 2, 0.92314124]], [[50, 0, 1, 0.77081], [50, 4, 2, 0.97621304], [50, 6, 2, 0.55539924], [43, 9, 3, 1.0], [45, 11, 2, 0.66883266], [49, 13, 2, 0.67001325], [50, 15, 3, 0.9147346], [50, 18, 2, 0.962329], [50, 20, 1, 0.8269393]], [[49, 1, 3, 1.0], [49, 4, 1, 0.60933155], [49, 7, 1, 0.65004885], [49, 13, 2, 0.5530248], [49, 15, 3, 0.69528854], [49, 18, 3, 0.84391785], [50, 21, 2, 0.5548305]], [[49, 1, 3, 1.0], [49, 4, 1, 0.9014732], [49, 7, 1, 0.7933133]], [[49, 1, 1, 1.0], [49, 4, 1, 0.5058268], [49, 7, 1, 0.85527515], [49, 18, 3, 0.9465954], [50, 20, 3, 0.69070023]], [[49, 1, 1, 0.97676426], [49, 4, 1, 0.40221614], [49, 7, 1, 0.941371], [49, 18, 3, 1.0], [50, 20, 3, 0.74480885]], [[49, 1, 1, 0.9860185], [49, 4, 1, 0.4755147], [49, 7, 1, 0.91738075], [49, 18, 3, 1.0], [50, 20, 3, 0.74437106]], [[49, 1, 3, 0.8183547], [49, 4, 1, 0.72735286], [49, 7, 1, 0.6506592], [49, 11, 2, 0.7313567], [49, 13, 1, 0.7748868], [49, 18, 3, 1.0]], [[50, 1, 3, 0.8502739], [50, 4, 2, 0.52823377], [45, 7, 3, 0.9902312], [45, 10, 4, 1.0], [45, 14, 2, 0.72165495]], [[49, 1, 3, 0.9476731], [49, 4, 1, 0.88135165], [49, 7, 1, 0.7932689], [49, 13, 1, 0.90925175], [49, 18, 2, 1.0]], [[50, 1, 2, 0.3917894], [45, 14, 2, 1.0]], [[52, 1, 4, 1.0], [50, 4, 3, 0.65365696], [50, 7, 1, 0.8358264], [47, 10, 4, 0.83317816]], [[47, 0, 4, 0.5968581], [47, 4, 1, 0.37692907], [45, 16, 2, 0.88439757], [49, 18, 2, 0.6721702], [49, 20, 2, 1.0]]]\n",
            "no skillsD#  generate done!\n",
            "info is \n",
            " [[[48, 0, 2, 1.0]], [[43, 0, 1, 0.4133518], [55, 4, 2, 0.5696412], [56, 11, 2, 0.5961333], [55, 15, 2, 1.0], [55, 17, 1, 0.73496306], [55, 21, 2, 0.84040105]], [[48, 0, 2, 0.44335708], [48, 2, 3, 0.4891737], [50, 18, 4, 1.0]], [[48, 7, 2, 1.0], [48, 9, 2, 0.9798192], [50, 18, 2, 0.5864017]], [[50, 7, 2, 0.859182], [50, 9, 2, 1.0], [50, 11, 3, 0.70190233], [46, 16, 3, 0.5001993], [46, 19, 1, 0.57560205]], [[50, 0, 1, 0.7173561], [60, 2, 2, 0.4962704], [62, 4, 2, 0.68424076], [63, 12, 1, 0.5107962], [62, 15, 2, 1.0], [62, 17, 1, 0.8003512], [62, 21, 2, 0.992613]], [[48, 9, 2, 1.0], [48, 11, 3, 0.82175547], [44, 16, 4, 0.55597156]], [[50, 2, 2, 0.59465027], [50, 4, 4, 0.6213824], [50, 8, 3, 0.57794255], [51, 15, 1, 1.0], [53, 21, 2, 0.6027729]], [[48, 0, 1, 0.35840094], [44, 3, 2, 0.48886964], [46, 7, 2, 0.34843072], [41, 19, 1, 0.51782113]], [[48, 0, 1, 0.62967384], [44, 3, 2, 0.4930175], [41, 19, 1, 0.58644485]], [[48, 0, 3, 0.48149985], [46, 6, 2, 1.0], [43, 15, 2, 0.53010875], [43, 19, 3, 0.523185], [43, 22, 1, 0.6822052]], [[48, 1, 4, 1.0], [44, 7, 4, 0.6992321], [43, 10, 1, 0.7391878]], [[43, 0, 1, 0.5278388], [53, 2, 1, 0.4638679], [55, 4, 2, 0.7050221], [56, 11, 2, 0.60778856], [55, 15, 3, 1.0], [55, 21, 2, 0.93299645]], [[48, 1, 3, 1.0], [48, 4, 1, 0.9747046], [48, 7, 1, 0.86398107], [48, 11, 3, 0.9648766]], [[48, 0, 1, 0.4041178], [44, 3, 2, 0.4938486], [41, 19, 1, 0.52441865]], [[48, 0, 2, 0.5635018], [55, 3, 2, 0.8571578], [55, 9, 3, 0.93449515], [53, 12, 1, 0.5200468], [55, 15, 2, 1.0]]]\n",
            "no skillsE  generate done!\n",
            "info is \n",
            " [[[49, 0, 1, 0.6209743], [49, 20, 4, 1.0]], [[52, 7, 2, 0.5964638], [51, 9, 4, 1.0], [49, 13, 2, 0.55229795], [47, 16, 3, 0.42724925], [47, 19, 1, 0.5154486]], [[49, 5, 3, 1.0]], [[47, 1, 4, 1.0], [44, 6, 3, 0.5594426]], [[47, 0, 1, 0.3442682], [56, 9, 2, 1.0], [56, 11, 3, 0.8387132], [52, 16, 4, 0.57571924]], [[52, 1, 4, 1.0], [51, 4, 1, 0.8512866], [47, 7, 2, 0.9923752], [47, 9, 2, 0.8441224]], [[44, 1, 4, 0.79562086], [45, 4, 2, 0.7604089], [42, 7, 3, 1.0], [42, 10, 2, 0.8750581]], [[47, 1, 3, 1.0], [47, 4, 1, 0.4871596], [44, 15, 2, 0.55827653], [42, 18, 2, 0.43377292], [42, 22, 1, 0.6626348]], [[49, 9, 2, 1.0], [49, 11, 3, 0.75015885], [45, 16, 3, 0.5298121], [45, 19, 1, 0.34665143]], [[51, 1, 3, 0.9919148], [52, 4, 5, 0.6956383], [51, 8, 2, 1.0]], [[44, 0, 1, 0.4309617], [54, 2, 1, 0.44382808], [56, 4, 2, 0.67494226], [57, 11, 2, 0.44999304], [56, 15, 3, 1.0], [56, 21, 2, 0.94742787]], [[49, 2, 2, 0.7031849], [49, 4, 2, 0.6111213], [51, 9, 2, 1.0], [52, 12, 1, 0.54166466], [52, 21, 2, 0.9753139]], [[49, 0, 4, 0.57986796], [49, 4, 1, 0.35027912], [47, 16, 3, 0.85099214], [47, 19, 2, 1.0], [44, 22, 2, 0.8547584]], [[56, 0, 3, 0.7691189], [57, 2, 1, 0.5588565], [54, 4, 3, 0.5733132], [54, 7, 2, 0.68470263], [51, 10, 3, 0.7983935], [51, 13, 1, 1.0]], [[49, 2, 2, 0.7175862], [49, 4, 2, 0.37019268], [47, 16, 2, 0.71095395], [51, 18, 2, 0.6891355], [51, 20, 2, 1.0]], [[49, 2, 2, 0.71187365], [49, 4, 2, 0.65305537], [51, 10, 1, 0.9010627], [52, 12, 1, 0.47736794], [52, 21, 2, 1.0]]]\n",
            "no skillsF  generate done!\n",
            "info is \n",
            " [[[48, 0, 1, 1.0]], [[48, 0, 1, 0.53934866], [57, 2, 2, 0.5119167], [60, 4, 2, 0.42823467], [57, 9, 5, 1.0], [60, 15, 3, 0.79466575], [53, 16, 2, 0.43071318], [60, 21, 2, 0.6594792]], [[53, 1, 4, 0.90925497], [48, 5, 2, 0.45443553], [48, 7, 2, 0.7759427], [48, 9, 2, 0.93015474], [53, 13, 2, 0.8082], [52, 15, 2, 0.82977533], [52, 17, 1, 0.5802134], [52, 21, 2, 1.0]], [[48, 0, 1, 0.4332088], [57, 2, 2, 0.34786952], [60, 4, 2, 0.33437958], [57, 9, 2, 1.0], [57, 11, 3, 0.8608049], [60, 15, 3, 0.52861005], [53, 16, 2, 0.47334906], [60, 21, 2, 0.49589646]], [[52, 0, 1, 0.58385825], [62, 2, 1, 0.36355206], [64, 4, 2, 0.6015013], [65, 11, 2, 0.67393315], [64, 15, 2, 0.9281138], [64, 17, 1, 0.8075688], [64, 21, 2, 1.0]], [[48, 3, 2, 0.3900883], [50, 7, 5, 0.64304996], [45, 16, 3, 0.49330145], [45, 19, 1, 0.43719164]], [[50, 5, 2, 1.0], [53, 7, 1, 0.6238839]], [[48, 0, 1, 0.52022034], [58, 2, 1, 0.46485615], [60, 4, 2, 0.4519466], [57, 9, 4, 0.90832937], [60, 15, 3, 1.0], [60, 21, 2, 0.6388637]], [[48, 0, 1, 0.34394172], [58, 2, 1, 0.38824916], [60, 4, 2, 0.4945912], [60, 15, 3, 1.0], [60, 21, 2, 0.89642835]], [[50, 1, 3, 0.46878737], [40, 5, 2, 0.6122977], [50, 9, 2, 0.42780823], [46, 15, 2, 0.80201674], [46, 17, 1, 0.69697785], [52, 21, 2, 1.0]], [[52, 1, 3, 0.5973678], [53, 3, 3, 0.46594173], [50, 8, 2, 0.6698764], [50, 10, 2, 1.0]], [[48, 1, 3, 1.0], [48, 4, 1, 0.96351033], [48, 7, 1, 0.8689732], [48, 12, 2, 0.9671468], [48, 18, 2, 0.34960032]], [[48, 1, 2, 0.660562], [43, 5, 4, 0.44728595], [46, 7, 1, 0.62800586], [43, 9, 2, 0.79172224], [48, 13, 2, 0.98524386], [58, 15, 2, 0.3891317], [55, 16, 1, 1.0], [58, 17, 1, 0.6198518], [64, 21, 2, 0.64013296]], [[52, 1, 3, 1.0], [53, 3, 5, 0.8147435], [53, 8, 1, 0.6904762]], [[48, 0, 4, 1.0], [48, 4, 2, 0.362163], [46, 15, 4, 0.7072834], [46, 19, 1, 0.3387462], [43, 22, 1, 0.7072525]], [[52, 1, 3, 1.0], [53, 5, 4, 0.6563303], [52, 8, 2, 0.97381824]]]\n",
            "no skillsF#  generate done!\n",
            "info is \n",
            " [[[49, 0, 3, 1.0]], [[49, 3, 2, 0.6773338], [46, 16, 3, 0.36786816], [46, 19, 1, 0.5346053]], [[49, 3, 2, 0.6439054], [49, 12, 3, 0.47145548], [46, 16, 3, 0.37614065], [46, 19, 1, 0.53185385]], [[49, 0, 1, 0.38320026], [58, 2, 2, 0.37036926], [58, 9, 2, 1.0], [58, 11, 2, 0.746411]], [[49, 3, 2, 0.5135221], [51, 7, 2, 0.6041847], [46, 16, 3, 0.566361], [46, 19, 1, 0.6094141]], [[58, 0, 3, 0.7859611], [59, 2, 1, 0.5541305], [56, 4, 3, 0.5389012], [56, 7, 2, 0.64435524], [53, 10, 3, 0.7510336], [53, 13, 1, 1.0]], [[49, 0, 2, 1.0], [46, 9, 3, 0.547139], [42, 19, 1, 0.5655098]], [[51, 1, 2, 0.75663835], [49, 2, 1, 0.488432], [41, 5, 2, 0.61521125], [51, 8, 3, 0.49478328], [47, 15, 3, 1.0], [53, 21, 2, 0.98087174]], [[49, 7, 2, 1.0], [49, 9, 2, 0.97015715], [51, 18, 2, 0.584555]], [[49, 1, 2, 0.87334687], [49, 3, 2, 0.7920811], [49, 7, 1, 0.6974004], [49, 11, 2, 0.7827924], [49, 13, 5, 0.801759], [49, 18, 3, 1.0]], [[53, 0, 1, 0.54593855], [63, 2, 1, 0.46971595], [65, 4, 2, 0.69803995], [66, 11, 2, 0.6483707], [65, 15, 3, 1.0], [65, 21, 2, 0.9318169]], [[49, 0, 2, 0.59577245], [56, 3, 2, 0.92019725], [56, 9, 3, 0.963831], [54, 12, 1, 0.5640612], [56, 15, 2, 1.0]], [[53, 1, 2, 1.0], [53, 3, 2, 0.8841861], [53, 7, 1, 0.7586169], [53, 11, 2, 0.81233776], [53, 13, 5, 0.84511226], [53, 18, 3, 0.9828466], [54, 20, 3, 0.6338634]], [[53, 0, 1, 0.42132807], [65, 4, 2, 0.573772], [66, 11, 2, 0.5927141], [65, 15, 2, 1.0], [65, 17, 1, 0.715267], [65, 21, 2, 0.8181756]], [[49, 0, 2, 1.0], [46, 9, 3, 0.637198], [42, 19, 1, 0.59172624]], [[49, 0, 1, 0.39253825], [58, 2, 1, 0.33607844], [58, 9, 4, 1.0], [61, 15, 2, 0.38509774]]]\n",
            "no skillsG  generate done!\n",
            "info is \n",
            " [[[48, 0, 2, 1.0]], [[47, 0, 1, 0.4108769], [59, 4, 2, 0.5666597], [60, 11, 2, 0.6006162], [59, 15, 2, 1.0], [59, 17, 1, 0.7882809], [59, 21, 2, 0.9011883]], [[50, 0, 1, 0.55478907], [60, 2, 1, 0.49937895], [62, 4, 2, 0.4898423], [59, 9, 3, 0.42154905], [62, 15, 3, 1.0], [62, 21, 2, 0.7834965]], [[50, 0, 1, 0.5454652], [59, 2, 2, 0.5219098], [62, 4, 2, 0.43624225], [59, 9, 5, 1.0], [62, 15, 3, 0.81190544], [55, 16, 2, 0.43424755], [62, 21, 2, 0.66429764]], [[48, 0, 3, 0.38590178], [52, 5, 2, 0.911753], [55, 7, 1, 1.0]], [[47, 0, 2, 0.74592453], [40, 1, 2, 0.696349], [40, 3, 2, 0.66731626], [35, 5, 3, 0.91354245], [35, 8, 2, 1.0]], [[47, 0, 3, 0.41836578], [45, 6, 1, 1.0], [42, 15, 2, 0.65695167], [42, 18, 3, 0.7292668], [42, 21, 2, 0.6391855]], [[50, 1, 2, 0.4122806], [48, 6, 1, 1.0], [45, 15, 2, 0.4646542], [45, 18, 2, 0.51406157], [45, 22, 1, 0.59288543]], [[48, 1, 4, 1.0], [47, 4, 1, 0.88502586], [43, 7, 2, 0.9441005], [43, 9, 2, 0.7445158]], [[48, 1, 3, 1.0], [48, 4, 1, 0.5287754], [43, 7, 2, 0.86370534], [43, 9, 2, 0.75107294]], [[47, 2, 2, 1.0], [47, 4, 4, 0.9260459], [47, 8, 2, 0.96485573], [47, 10, 2, 0.97744536], [48, 15, 1, 0.4749326]], [[48, 5, 3, 1.0]], [[48, 2, 2, 0.4555304], [52, 7, 2, 1.0]], [[45, 0, 1, 0.38678873], [54, 2, 2, 0.33987144], [54, 7, 2, 0.99087614], [54, 9, 2, 1.0], [54, 11, 2, 0.85029995], [50, 16, 4, 0.5381431]], [[54, 0, 1, 0.39790484], [64, 2, 1, 0.44301045], [66, 4, 2, 0.6668003], [67, 11, 2, 0.39073935], [66, 15, 3, 1.0], [66, 21, 2, 0.95681584]], [[54, 1, 3, 0.63228995], [55, 4, 2, 0.537195], [52, 7, 3, 1.0], [52, 10, 2, 0.36787853]]]\n",
            "no skillsG#  generate done!\n",
            "info is \n",
            " [[[48, 0, 3, 1.0]], [[48, 0, 1, 0.5351129], [58, 2, 1, 0.4451526], [60, 4, 2, 0.60811085], [61, 11, 2, 0.68095493], [60, 15, 3, 1.0], [60, 21, 2, 0.86898303]], [[49, 3, 2, 0.6130646], [49, 12, 3, 0.53884506], [46, 16, 3, 0.38207728], [46, 19, 1, 0.52477765]], [[49, 3, 2, 0.51390547], [51, 7, 2, 0.61494315], [46, 16, 3, 0.5579929], [46, 19, 1, 0.6092229]], [[49, 3, 2, 0.4035794], [51, 7, 2, 0.644795], [46, 16, 3, 0.50665706], [46, 19, 1, 0.4519019]], [[51, 0, 4, 0.5902703], [51, 4, 1, 0.37481096], [49, 16, 4, 1.0], [53, 20, 2, 0.94670284], [46, 22, 1, 0.38781938]], [[56, 0, 1, 0.74468344], [56, 4, 3, 0.7998384], [56, 7, 1, 0.87610465], [49, 9, 3, 0.8199192], [51, 11, 2, 0.9588246], [55, 13, 2, 0.63953316], [56, 15, 3, 1.0], [56, 18, 3, 0.75512403]], [[48, 0, 1, 0.3348379], [58, 2, 1, 0.3940079], [60, 4, 2, 0.54722273], [60, 15, 3, 1.0], [60, 21, 2, 0.89778274]], [[48, 0, 1, 0.5358176], [58, 2, 1, 0.4936384], [60, 4, 2, 0.45422128], [61, 11, 2, 0.42637187], [60, 15, 3, 1.0], [60, 21, 2, 0.70981145]], [[48, 1, 3, 1.0], [49, 3, 3, 0.69168395], [49, 6, 3, 0.6695933]], [[48, 2, 2, 0.74310994], [48, 4, 2, 0.6658662], [51, 12, 1, 0.51917064], [49, 15, 1, 0.8270436], [51, 21, 2, 1.0]], [[48, 0, 4, 1.0], [48, 4, 1, 0.9697039], [48, 7, 1, 0.84676665], [48, 11, 2, 0.7685024]], [[48, 2, 2, 0.81854093], [48, 4, 4, 0.74780595], [48, 8, 4, 0.80428785], [49, 15, 1, 1.0]], [[48, 0, 1, 0.56080663], [58, 2, 1, 0.48710093], [60, 4, 2, 0.5158975], [61, 11, 2, 0.54680026], [60, 15, 3, 1.0], [60, 21, 2, 0.81884265]], [[48, 0, 3, 0.44271463], [46, 6, 1, 1.0], [43, 15, 2, 0.7372691], [43, 18, 3, 0.7401301], [43, 21, 2, 0.6633984]], [[48, 0, 3, 0.8678721], [46, 4, 3, 0.8576988], [46, 7, 2, 0.7467514], [44, 10, 4, 0.5942283], [43, 13, 1, 1.0]]]\n",
            "no skillsA  generate done!\n",
            "info is \n",
            " [[[49, 0, 2, 1.0]], [[49, 0, 1, 0.4183028], [61, 4, 2, 0.56434774], [62, 11, 2, 0.60739744], [61, 15, 2, 1.0], [61, 17, 1, 0.8068602], [61, 21, 2, 0.9256432]], [[49, 1, 4, 0.9757898], [47, 7, 2, 1.0], [44, 10, 3, 0.88220274], [44, 13, 1, 0.34259304]], [[49, 7, 2, 0.660972], [49, 9, 4, 1.0], [47, 13, 2, 0.37161127], [45, 16, 3, 0.3471731], [45, 19, 1, 0.5444197]], [[50, 1, 4, 1.0], [49, 4, 1, 0.9376185], [45, 7, 2, 0.93234366], [45, 9, 2, 0.724484]], [[49, 1, 3, 1.0], [49, 4, 1, 0.55840397], [49, 7, 1, 0.75657815], [49, 18, 3, 0.8227048], [50, 21, 2, 0.6220729]], [[49, 1, 4, 1.0], [45, 7, 4, 0.68757695], [44, 10, 1, 0.68237346]], [[45, 1, 2, 0.8586404], [40, 5, 2, 0.3807341], [40, 7, 2, 0.8512894], [40, 9, 2, 0.8958], [45, 13, 1, 0.83879346], [44, 15, 2, 0.7708765], [44, 17, 1, 0.75942975], [44, 21, 2, 1.0]], [[49, 0, 1, 0.41515094], [61, 4, 2, 0.55914074], [62, 11, 2, 0.5918942], [61, 15, 2, 1.0], [61, 17, 1, 0.76073056], [61, 21, 2, 0.88680273]], [[50, 1, 3, 0.8183138], [49, 4, 2, 0.5810666], [47, 15, 2, 0.6968825], [45, 18, 3, 1.0], [45, 21, 2, 0.91094923]], [[49, 0, 4, 1.0], [49, 4, 1, 0.6281374], [47, 15, 4, 0.54535526], [47, 19, 1, 0.345735], [44, 22, 1, 0.70055133]], [[50, 1, 2, 0.5497177], [45, 14, 2, 1.0], [47, 21, 2, 0.378687]], [[49, 0, 2, 0.7425465], [47, 6, 1, 0.9783333], [44, 15, 2, 0.8549171], [44, 18, 4, 0.7371966], [44, 22, 1, 1.0]], [[49, 0, 1, 0.4180015], [59, 2, 1, 0.44270688], [61, 4, 2, 0.66968274], [62, 11, 2, 0.43342358], [61, 15, 3, 1.0], [61, 21, 2, 0.94186884]], [[49, 1, 3, 0.9932488], [49, 4, 1, 0.97006387], [49, 7, 1, 0.87180626], [49, 11, 3, 1.0]], [[47, 0, 2, 0.48997086], [47, 2, 3, 0.61850727], [45, 15, 2, 0.52033204], [49, 18, 2, 1.0], [49, 20, 2, 0.9813771]]]\n",
            "no skillsA#  generate done!\n",
            "info is \n",
            " [[[48, 0, 1, 1.0]], [[48, 0, 1, 0.46030337], [60, 4, 2, 0.3393102], [57, 7, 2, 0.9070667], [57, 9, 2, 1.0], [57, 11, 3, 0.89349264], [60, 15, 3, 0.35331142], [53, 16, 2, 0.5092349], [60, 21, 2, 0.52510405]], [[53, 1, 4, 0.54706645], [51, 7, 2, 0.5756861], [48, 9, 2, 0.65857613], [53, 13, 2, 1.0], [63, 15, 2, 0.42078626], [60, 16, 1, 0.83521444], [63, 17, 1, 0.5974311], [69, 21, 2, 0.65942895]], [[50, 0, 1, 0.52181435], [60, 2, 1, 0.3478146], [62, 4, 2, 0.60703707], [63, 11, 2, 0.6894131], [62, 15, 2, 0.95865214], [62, 17, 1, 0.8376389], [62, 21, 2, 1.0]], [[48, 0, 1, 0.57543784], [57, 2, 2, 0.55310714], [60, 4, 2, 0.5563364], [57, 9, 4, 1.0], [60, 15, 3, 0.7858702], [60, 21, 2, 0.7600619]], [[48, 1, 4, 0.9648513], [46, 4, 2, 0.7466159], [43, 7, 2, 1.0], [43, 9, 2, 0.8476525]], [[48, 0, 4, 1.0], [48, 4, 2, 0.41861257], [46, 15, 4, 0.6536872], [46, 19, 1, 0.337042], [43, 22, 1, 0.695743]], [[50, 1, 3, 1.0], [51, 4, 4, 0.97250855], [51, 8, 1, 0.7916627]], [[48, 0, 1, 0.46440542], [57, 7, 2, 0.96944684], [57, 9, 2, 1.0], [57, 11, 2, 0.8555687], [53, 16, 3, 0.5559405], [53, 19, 1, 0.36785927], [60, 21, 2, 0.44296837]], [[48, 1, 2, 1.0], [48, 3, 2, 0.7407855], [45, 6, 3, 0.8872118]], [[48, 0, 7, 0.44664565], [48, 7, 2, 1.0]], [[45, 1, 3, 1.0], [46, 4, 5, 0.69845057], [45, 8, 2, 0.96743697]], [[45, 1, 3, 0.6041475], [46, 4, 2, 0.50548774], [43, 8, 2, 0.672801], [43, 10, 2, 1.0]], [[48, 1, 2, 1.0], [48, 3, 2, 0.6992633], [45, 6, 3, 0.7990479]], [[48, 0, 1, 0.39123344], [57, 2, 2, 0.34213033], [57, 7, 2, 0.99179876], [57, 9, 2, 1.0], [57, 11, 2, 0.8320998], [53, 16, 4, 0.52041465]], [[51, 2, 2, 0.45881617], [55, 7, 2, 1.0]]]\n",
            "no skillsB  generate done!\n",
            "info is \n",
            " [[[49, 0, 2, 1.0]], [[49, 0, 1, 0.46006158], [58, 7, 2, 0.9633421], [58, 9, 2, 1.0], [58, 11, 2, 0.8502897], [54, 16, 3, 0.565706], [54, 19, 1, 0.3622688], [61, 21, 2, 0.45509183]], [[49, 0, 3, 0.5648088], [47, 6, 1, 1.0], [44, 16, 1, 0.69500655], [44, 19, 3, 0.7240957], [44, 22, 1, 0.82174176]], [[51, 0, 1, 0.41450045], [63, 4, 2, 0.5648034], [64, 11, 2, 0.5994836], [63, 15, 2, 1.0], [63, 17, 1, 0.78716314], [63, 21, 2, 0.90534836]], [[52, 1, 4, 0.92505175], [51, 4, 1, 0.95107245], [47, 7, 2, 1.0], [47, 9, 2, 0.7991646]], [[47, 0, 1, 0.7393386], [47, 4, 3, 0.78640276], [47, 7, 1, 0.89180875], [40, 9, 3, 0.78868055], [42, 11, 2, 1.0], [46, 13, 2, 0.6377724], [47, 15, 3, 0.97609246], [47, 18, 3, 0.7058486]], [[49, 1, 3, 0.8133057], [49, 4, 2, 0.51523995], [51, 6, 2, 0.37749442], [44, 7, 3, 0.99314046], [44, 10, 4, 1.0], [44, 14, 2, 0.97829914], [46, 21, 2, 0.36016813]], [[51, 1, 3, 1.0], [52, 3, 5, 0.9170694], [52, 8, 1, 0.7893229]], [[46, 1, 5, 0.9514438], [47, 4, 3, 1.0], [47, 7, 2, 0.825818]], [[46, 1, 3, 1.0], [46, 4, 1, 0.62985593], [46, 7, 1, 0.6151114], [46, 13, 2, 0.6921547], [46, 15, 3, 0.6983034], [46, 18, 3, 0.8875158], [47, 21, 2, 0.54008794]], [[49, 0, 4, 0.4986922], [49, 4, 2, 0.53485626], [47, 16, 2, 0.7991359], [51, 18, 2, 0.7276683], [51, 20, 2, 1.0]], [[49, 1, 2, 0.3722974], [44, 14, 2, 1.0]], [[49, 1, 4, 0.8697826], [47, 6, 1, 0.5212548], [46, 15, 2, 0.7219203], [44, 18, 3, 1.0], [44, 21, 2, 0.8951726]], [[49, 0, 2, 0.55947405], [56, 3, 2, 0.8327545], [56, 9, 3, 0.9269113], [54, 12, 1, 0.5239235], [56, 15, 2, 1.0]], [[49, 0, 4, 1.0], [49, 4, 2, 0.42021468], [47, 15, 4, 0.6425818], [47, 19, 1, 0.3402214], [44, 22, 1, 0.6972007]], [[49, 1, 2, 0.4771147], [44, 7, 3, 0.5885976], [44, 10, 4, 0.6435193], [44, 14, 2, 1.0], [46, 21, 2, 0.381401]]]\n",
            "repeatingC  generate done!\n",
            "info is \n",
            " [[[52, 1, 3, 1.0], [52, 4, 1, 0.61585766], [52, 7, 1, 0.62523186], [52, 13, 2, 0.65739024], [52, 15, 3, 0.70243096], [52, 18, 3, 0.866741], [53, 21, 2, 0.5394135]], [[59, 1, 3, 0.6279103], [60, 3, 3, 0.53334796], [57, 7, 4, 1.0]], [[53, 3, 2, 0.64848745], [53, 12, 3, 0.460979], [50, 16, 3, 0.37149155], [50, 19, 1, 0.53289783]], [[55, 0, 1, 0.50775975], [65, 2, 1, 0.43819043], [67, 4, 2, 0.43958315], [64, 9, 4, 1.0], [67, 15, 3, 0.961326], [67, 21, 2, 0.5896828]], [[55, 0, 3, 0.50724804], [53, 6, 1, 1.0], [50, 15, 2, 0.75904685], [50, 18, 4, 0.7228399], [50, 22, 1, 0.73862904]], [[53, 3, 2, 0.5150623], [55, 7, 2, 0.6116874], [50, 16, 3, 0.5660769], [50, 19, 1, 0.58572906]], [[53, 3, 2, 0.8407587], [55, 6, 3, 0.60485274], [52, 14, 1, 0.43554747], [50, 16, 3, 0.36974493], [50, 19, 1, 0.51526725]], [[59, 1, 3, 0.6305535], [60, 3, 4, 0.39531386], [57, 8, 2, 0.71102345], [57, 10, 2, 1.0]], [[53, 0, 2, 0.44583598], [53, 2, 3, 0.49048266], [55, 18, 4, 1.0]], [[59, 1, 3, 0.6010177], [60, 4, 2, 0.5056651], [57, 8, 2, 0.66977733], [57, 10, 2, 1.0]], [[43, 1, 3, 0.41005057], [45, 3, 3, 0.35842597], [43, 4, 1, 0.3597444], [45, 9, 2, 0.35515383], [43, 13, 2, 0.8789951], [53, 15, 2, 0.6606437], [53, 17, 1, 0.7492895], [59, 21, 3, 1.0]], [[55, 0, 2, 0.5596903], [53, 6, 2, 1.0], [50, 15, 2, 0.5703458], [50, 19, 1, 0.58536386], [50, 22, 1, 0.82859015]], [[55, 0, 4, 0.648806], [55, 4, 1, 0.39993837], [53, 16, 4, 0.98692775], [57, 20, 2, 1.0], [50, 22, 1, 0.33605012]], [[53, 1, 3, 0.83241487], [53, 4, 1, 0.75529444], [53, 7, 1, 0.668301], [53, 11, 2, 0.74932766], [53, 13, 5, 0.780143], [53, 18, 3, 1.0]], [[55, 0, 5, 0.5620968], [53, 16, 3, 1.0], [53, 19, 1, 0.47693262], [57, 20, 2, 0.98180765], [50, 22, 2, 0.6905249]], [[53, 0, 1, 0.78328043], [62, 2, 1, 0.61691177], [65, 4, 2, 0.7960961], [62, 9, 5, 0.9368353], [65, 15, 3, 0.9983896], [65, 21, 2, 1.0]]]\n",
            "repeatingC#  generate done!\n",
            "info is \n",
            " [[[48, 1, 3, 1.0], [48, 4, 1, 0.6170252], [48, 7, 1, 0.63854945], [48, 13, 2, 0.6288157], [48, 15, 3, 0.7060852], [48, 18, 3, 0.86138445], [49, 21, 2, 0.54644895]], [[51, 2, 2, 0.7055417], [51, 4, 2, 0.661577], [53, 10, 1, 0.8566952], [54, 12, 1, 0.4487698], [54, 21, 2, 1.0]], [[56, 1, 2, 0.69749796], [51, 5, 4, 0.45933282], [54, 7, 1, 0.6135909], [51, 9, 2, 0.810064], [56, 13, 2, 0.9007411], [66, 15, 2, 0.34551534], [63, 16, 1, 1.0], [66, 17, 1, 0.5826234], [72, 21, 2, 0.5988497]], [[51, 0, 1, 0.45913398], [58, 3, 2, 0.9749913], [58, 9, 3, 1.0], [56, 12, 1, 0.7380857], [58, 15, 2, 0.500114], [54, 17, 1, 0.43369097]], [[49, 2, 1, 0.44074386], [51, 3, 3, 0.8226463], [51, 6, 2, 1.0]], [[49, 0, 1, 0.3966385], [58, 9, 2, 1.0], [58, 11, 2, 0.7599548], [54, 16, 3, 0.52525103], [54, 19, 1, 0.56343836]], [[49, 1, 2, 0.8421508], [49, 3, 3, 0.7080639], [46, 6, 3, 1.0]], [[49, 1, 2, 0.8158325], [44, 5, 2, 0.3921143], [44, 7, 2, 0.84363717], [44, 9, 2, 0.9493113], [49, 13, 1, 0.72892153], [48, 15, 2, 0.8306967], [48, 17, 1, 0.5982103], [48, 21, 2, 1.0]], [[53, 0, 2, 0.9450166], [60, 3, 2, 0.5907777], [53, 4, 3, 0.3484927], [53, 7, 1, 0.41939905], [46, 9, 3, 1.0], [48, 10, 7, 0.89424634], [46, 12, 1, 0.75428987], [58, 13, 2, 0.42410636], [61, 16, 2, 0.36075312], [58, 18, 1, 0.69400656]], [[51, 0, 4, 0.6050274], [51, 4, 1, 0.35763758], [49, 16, 3, 0.8984148], [53, 18, 2, 0.6526187], [53, 20, 2, 1.0]], [[49, 1, 4, 1.0], [44, 7, 2, 0.89457554], [44, 9, 2, 0.65231055]], [[46, 0, 4, 0.7331306], [44, 4, 3, 0.5521706], [44, 7, 2, 0.78584844], [41, 10, 3, 0.8809857], [41, 13, 1, 1.0]], [[49, 1, 3, 1.0], [49, 4, 1, 0.5011664], [44, 7, 2, 0.84964716], [44, 9, 2, 0.73785794]], [[48, 1, 1, 1.0], [51, 4, 1, 0.3943614], [48, 7, 1, 0.90954804], [48, 18, 3, 0.9491714], [49, 20, 3, 0.6933637]], [[49, 1, 2, 0.47842965], [44, 7, 3, 0.6268297], [44, 10, 4, 0.67200917], [44, 14, 2, 1.0], [46, 21, 2, 0.36437985]], [[49, 1, 2, 1.0], [48, 4, 1, 0.86136454], [44, 7, 2, 0.93790084], [44, 9, 2, 0.7511286]]]\n",
            "repeatingD  generate done!\n",
            "info is \n",
            " [[[49, 1, 3, 0.82568306], [49, 4, 1, 0.7481429], [49, 7, 1, 0.6635994], [49, 11, 2, 0.7441294], [49, 13, 1, 0.77889353], [49, 18, 3, 1.0]], [[50, 1, 2, 0.8494178], [45, 5, 2, 0.38716134], [45, 7, 2, 0.88021713], [45, 9, 2, 0.94608754], [50, 13, 1, 0.79118466], [49, 15, 2, 0.815406], [49, 17, 1, 0.7243864], [49, 21, 2, 1.0]], [[50, 0, 1, 0.44287172], [62, 4, 2, 0.33479384], [59, 7, 2, 0.836127], [59, 9, 2, 1.0], [59, 11, 3, 0.8833131], [62, 15, 3, 0.43244585], [55, 16, 2, 0.4926663], [62, 21, 2, 0.5078931]], [[50, 0, 1, 0.44597706], [62, 4, 2, 0.33531675], [59, 7, 2, 0.8381452], [59, 9, 2, 1.0], [59, 11, 3, 0.88429236], [62, 15, 3, 0.46997437], [55, 16, 2, 0.48720264], [62, 21, 2, 0.5030846]], [[50, 1, 2, 1.0], [49, 4, 1, 0.73103756], [45, 7, 2, 0.8433935], [45, 9, 2, 0.7262622]], [[47, 0, 3, 0.4988452], [45, 6, 2, 1.0], [42, 15, 2, 0.51309174], [42, 19, 1, 0.54803884], [42, 22, 1, 0.7106359]], [[49, 0, 1, 0.50618], [59, 2, 1, 0.34223154], [61, 4, 2, 0.60447115], [62, 11, 2, 0.6764234], [61, 15, 2, 0.97241324], [61, 17, 1, 0.8464496], [61, 21, 2, 1.0]], [[52, 0, 4, 0.47368604], [52, 4, 1, 0.5054926], [50, 16, 2, 0.7872662], [54, 18, 2, 0.72536176], [54, 20, 2, 1.0]], [[49, 2, 2, 1.0], [49, 4, 4, 0.9256319], [49, 8, 2, 0.970295], [49, 10, 2, 0.9977476], [50, 15, 1, 0.4157342]], [[50, 0, 1, 0.40575224], [59, 2, 1, 0.33576044], [59, 9, 4, 1.0], [62, 15, 2, 0.41385064]], [[47, 0, 1, 0.58185506], [47, 4, 1, 0.5210765], [47, 7, 1, 0.7251937], [40, 9, 3, 0.5439203], [42, 11, 3, 1.0], [47, 15, 6, 0.6732401], [50, 20, 1, 0.49341533]], [[49, 0, 2, 0.8851898], [45, 3, 2, 0.48242316], [42, 16, 3, 0.33400163], [42, 19, 1, 0.686453]], [[50, 1, 3, 1.0], [50, 4, 1, 0.3917207], [47, 15, 2, 0.6309452], [45, 18, 2, 0.47597855], [45, 22, 1, 0.63522804]], [[49, 0, 1, 0.3875438], [59, 2, 1, 0.3835672], [61, 4, 2, 0.36781862], [61, 15, 3, 1.0], [61, 21, 2, 0.978596]], [[50, 0, 2, 1.0], [47, 10, 2, 0.5550432], [43, 19, 1, 0.5771312]], [[49, 1, 3, 1.0], [49, 4, 1, 0.611825], [49, 7, 1, 0.6438558], [49, 13, 2, 0.591995], [49, 15, 3, 0.7010714], [49, 18, 3, 0.85065615], [50, 21, 2, 0.55187166]]]\n",
            "repeatingD#  generate done!\n",
            "info is \n",
            " [[[50, 1, 1, 1.0], [53, 4, 1, 0.3913833], [50, 7, 1, 0.9179771], [50, 18, 3, 0.96525985], [51, 20, 3, 0.7157676]], [[51, 3, 2, 0.88308454], [53, 7, 2, 0.68356806], [50, 13, 2, 0.5227764], [48, 16, 3, 0.44933134], [48, 19, 1, 0.5391285]], [[51, 3, 2, 0.48663497], [53, 7, 2, 0.5796066], [48, 16, 3, 0.5462409], [48, 19, 1, 0.6163957]], [[55, 0, 1, 0.5342501], [65, 2, 1, 0.45819795], [67, 4, 2, 0.6781841], [68, 11, 2, 0.66911775], [67, 15, 3, 1.0], [67, 21, 2, 0.90651965]], [[60, 1, 2, 0.69968164], [58, 2, 1, 0.3362885], [50, 5, 2, 0.6485723], [60, 8, 2, 0.42944935], [56, 15, 2, 0.94371], [56, 17, 1, 0.7664037], [62, 21, 2, 1.0]], [[51, 0, 1, 0.38358396], [60, 2, 1, 0.3595515], [60, 9, 2, 1.0], [60, 11, 2, 0.72520554]], [[51, 0, 2, 0.5374601], [58, 3, 2, 0.80189383], [58, 9, 3, 0.93970674], [56, 12, 1, 0.53783697], [58, 15, 2, 1.0]], [[55, 7, 2, 0.6609109], [55, 9, 4, 1.0], [53, 13, 2, 0.36819822], [51, 16, 3, 0.34794915], [51, 19, 1, 0.5441761]], [[51, 0, 2, 0.7773948], [44, 3, 2, 0.80462897], [39, 5, 3, 0.9764232], [39, 8, 2, 1.0]], [[48, 0, 3, 0.48417774], [46, 6, 1, 1.0], [43, 15, 2, 0.7589125], [43, 18, 4, 0.7354812], [43, 22, 1, 0.69726855]], [[53, 0, 1, 0.5589952], [51, 6, 2, 1.0], [48, 18, 2, 0.48960117], [48, 22, 1, 0.6740802]], [[51, 2, 2, 0.44623968], [55, 7, 2, 1.0]], [[51, 1, 4, 0.92494804], [46, 7, 3, 1.0]], [[51, 1, 2, 1.0], [51, 3, 2, 0.7708517], [48, 6, 3, 0.931695]], [[51, 2, 1, 0.35854757], [53, 3, 4, 0.51029426], [53, 7, 2, 1.0], [53, 9, 2, 0.8047027]], [[48, 1, 4, 1.0], [46, 4, 3, 0.6695126], [46, 7, 1, 0.6914327], [43, 10, 2, 0.8158653]]]\n",
            "repeatingE  generate done!\n",
            "info is \n",
            " [[[51, 1, 1, 1.0], [54, 4, 1, 0.37887603], [51, 7, 1, 0.9103017], [51, 18, 3, 0.9360552], [52, 20, 3, 0.6683032]], [[54, 0, 1, 0.5433667], [64, 2, 1, 0.491029], [66, 4, 2, 0.4666469], [63, 9, 4, 0.81592435], [66, 15, 3, 1.0], [66, 21, 2, 0.6933494]], [[52, 0, 1, 0.4317132], [61, 7, 2, 0.91147596], [61, 9, 2, 1.0], [61, 11, 2, 0.8094204], [57, 16, 3, 0.5641999], [57, 19, 1, 0.46729657], [64, 21, 2, 0.34143078]], [[56, 1, 3, 1.0], [57, 4, 5, 0.6914382], [56, 8, 2, 0.9180309]], [[52, 0, 1, 0.39742497], [61, 2, 1, 0.33977], [61, 9, 4, 1.0], [64, 15, 2, 0.38497588]], [[52, 3, 2, 0.37797818], [54, 7, 5, 0.6369233], [49, 16, 3, 0.49713865], [49, 19, 1, 0.43994454]], [[52, 3, 2, 0.43312287], [54, 7, 2, 0.5000551], [49, 16, 3, 0.45940402], [49, 19, 1, 0.5759299]], [[54, 5, 2, 1.0], [57, 7, 1, 0.60207355]], [[52, 0, 1, 0.46203658], [49, 9, 4, 1.0], [45, 19, 1, 0.5352665]], [[56, 0, 1, 0.42495948], [68, 4, 2, 0.57644486], [69, 11, 2, 0.5916885], [68, 15, 2, 1.0], [68, 17, 1, 0.7155816], [68, 21, 2, 0.8191848]], [[52, 0, 2, 0.7282771], [45, 1, 2, 0.59382796], [45, 3, 2, 0.7270361], [40, 8, 3, 1.0]], [[51, 3, 2, 0.76296103], [51, 9, 3, 1.0], [49, 12, 1, 0.77570534], [47, 17, 1, 0.78866994]], [[54, 3, 1, 0.38550803], [56, 4, 1, 0.72010267], [63, 6, 1, 0.35861564], [68, 9, 3, 1.0], [66, 12, 1, 0.8549702], [64, 17, 1, 0.9940217]], [[52, 0, 1, 0.5769647], [52, 4, 1, 0.42858768], [52, 7, 1, 0.6865522], [45, 9, 3, 0.5045291], [47, 11, 3, 1.0], [51, 13, 1, 0.5894736], [52, 15, 6, 0.58772916]], [[56, 0, 1, 0.54730606], [66, 2, 1, 0.4519997], [68, 4, 2, 0.5813027], [69, 11, 2, 0.63954645], [68, 15, 3, 1.0], [68, 21, 2, 0.8677919]], [[54, 0, 5, 0.6130846], [52, 16, 3, 1.0], [52, 19, 2, 0.7092981], [56, 20, 2, 0.75770354], [49, 22, 2, 0.8496121]]]\n",
            "repeatingF  generate done!\n",
            "info is \n",
            " [[[48, 1, 3, 1.0], [48, 4, 1, 0.6469683], [48, 7, 1, 0.6188953], [48, 11, 2, 0.6913773], [48, 13, 2, 0.7055197], [48, 15, 3, 0.6992334], [48, 18, 3, 0.90282965]], [[52, 0, 1, 0.5248333], [62, 2, 1, 0.34944507], [64, 4, 2, 0.60714066], [65, 11, 2, 0.6853366], [64, 15, 2, 0.9513054], [64, 17, 1, 0.8338728], [64, 21, 2, 1.0]], [[48, 0, 4, 1.0], [48, 4, 1, 0.5715994], [46, 15, 4, 0.51474], [46, 19, 1, 0.34374723], [43, 22, 1, 0.7307316]], [[52, 1, 1, 1.0], [55, 4, 1, 0.4030003], [52, 7, 1, 0.90753216], [52, 18, 3, 0.945899], [53, 20, 3, 0.68662465]], [[48, 0, 3, 0.3826788], [46, 6, 1, 1.0], [43, 15, 2, 0.5302341], [46, 16, 1, 0.4320709], [43, 18, 3, 0.69404507], [43, 21, 2, 0.60426253]], [[52, 0, 1, 0.42137724], [64, 4, 2, 0.5624413], [65, 11, 2, 0.59745973], [64, 15, 2, 1.0], [64, 17, 1, 0.7776645], [64, 21, 2, 0.9041773]], [[52, 1, 5, 0.950784], [53, 4, 3, 1.0], [53, 7, 2, 0.81198764]], [[45, 1, 1, 1.0], [48, 4, 1, 0.37169912], [45, 7, 1, 0.9068405], [45, 18, 3, 0.9340214], [46, 20, 3, 0.66725826]], [[50, 2, 1, 0.4494409], [50, 5, 1, 0.5221286], [52, 7, 1, 0.34129], [52, 10, 1, 1.0], [53, 12, 2, 0.77033985], [53, 21, 2, 0.8539474]], [[48, 2, 4, 0.7465957], [46, 15, 3, 0.64087236], [50, 18, 2, 0.87817407], [50, 20, 2, 1.0]], [[50, 0, 2, 0.8533269], [50, 4, 3, 0.35227042], [50, 7, 1, 0.6872896], [52, 8, 2, 0.47578058], [43, 9, 2, 0.73996645], [45, 10, 2, 0.4278522], [45, 11, 2, 1.0], [45, 13, 1, 0.89477074], [53, 20, 1, 0.75807124]], [[48, 0, 3, 0.4512066], [46, 6, 1, 1.0], [43, 15, 2, 0.7492208], [43, 18, 3, 0.73694915], [43, 21, 2, 0.67154485]], [[52, 1, 3, 1.0], [53, 3, 5, 0.76386905], [53, 8, 1, 0.64618766]], [[45, 1, 3, 0.74202085], [46, 4, 2, 0.66066045], [43, 7, 3, 0.8539234], [43, 10, 2, 1.0]], [[48, 0, 1, 0.43958497], [57, 2, 2, 0.3334786], [60, 4, 2, 0.3373134], [57, 7, 2, 0.79421484], [57, 9, 2, 1.0], [57, 11, 3, 0.8757686], [60, 15, 3, 0.48060763], [53, 16, 2, 0.48503053], [60, 21, 2, 0.50746775]], [[50, 2, 2, 0.734785], [50, 4, 2, 0.65963197], [52, 10, 1, 0.9772438], [53, 12, 1, 0.523223], [53, 21, 2, 1.0]]]\n",
            "repeatingF#  generate done!\n",
            "info is \n",
            " [[[49, 1, 3, 1.0], [49, 4, 1, 0.9589646], [49, 7, 1, 0.8659527], [49, 12, 2, 0.96453846], [49, 18, 2, 0.4043149]], [[49, 1, 3, 1.0], [49, 4, 1, 0.36124977], [44, 7, 2, 0.82957363], [44, 9, 2, 0.71318626]], [[46, 0, 1, 0.47087023], [53, 3, 2, 0.98899764], [53, 9, 3, 1.0], [51, 12, 1, 0.75034815], [53, 15, 2, 0.5071095], [49, 17, 1, 0.42458555]], [[49, 1, 3, 0.8473816], [44, 7, 2, 1.0]], [[39, 0, 2, 0.93886894], [46, 3, 2, 0.50871044], [39, 4, 3, 0.41969335], [39, 7, 1, 0.57909065], [41, 8, 2, 0.36689404], [32, 9, 3, 1.0], [34, 10, 7, 0.8468253], [34, 11, 2, 0.51951796], [32, 12, 1, 0.66339606], [44, 13, 2, 0.552345], [47, 16, 2, 0.3572038], [44, 18, 1, 0.61882514]], [[49, 2, 1, 0.38794097], [51, 4, 2, 0.54374677], [51, 15, 3, 1.0], [51, 21, 2, 0.88607687]], [[51, 2, 4, 0.39143068], [41, 5, 2, 0.4674233], [51, 9, 4, 0.4491626], [47, 15, 2, 0.76657605], [47, 17, 1, 0.63109434], [53, 21, 3, 1.0]], [[51, 0, 1, 0.5883936], [51, 3, 2, 0.36175427], [51, 7, 1, 0.640556], [44, 9, 3, 0.47556576], [46, 11, 3, 1.0], [51, 15, 5, 0.50430834], [54, 20, 1, 0.63299024]], [[49, 0, 4, 0.44492945], [49, 4, 3, 0.3938549], [49, 7, 3, 1.0], [49, 10, 2, 0.34856012]], [[46, 7, 2, 0.80257183], [46, 9, 5, 1.0], [42, 16, 3, 0.4548184], [42, 19, 1, 0.54365045]], [[49, 0, 3, 0.4674151], [47, 6, 2, 1.0], [44, 15, 2, 0.5107226], [44, 19, 1, 0.49534377], [44, 22, 1, 0.65604466]], [[49, 0, 4, 0.57898545], [49, 4, 1, 0.37750456], [47, 16, 3, 0.84481245], [47, 19, 2, 1.0], [44, 22, 2, 0.8417511]], [[49, 3, 2, 0.4597136], [51, 7, 2, 0.40001908], [46, 16, 3, 0.3362849], [46, 19, 1, 0.5208089]], [[49, 0, 4, 0.44057775], [49, 4, 3, 0.40048885], [49, 7, 3, 1.0], [49, 10, 2, 0.38593456]], [[49, 1, 3, 1.0], [49, 4, 1, 0.97028357], [49, 7, 1, 0.8451109], [49, 11, 2, 0.75662977]], [[49, 0, 1, 0.4248764], [58, 7, 2, 0.8996834], [58, 9, 2, 1.0], [58, 11, 2, 0.80790806], [54, 16, 3, 0.54343665], [54, 19, 1, 0.47277164]]]\n",
            "repeatingG  generate done!\n",
            "info is \n",
            " [[[48, 1, 3, 1.0], [48, 4, 1, 0.9721025], [48, 7, 1, 0.85105294], [48, 11, 2, 0.8677665]], [[48, 4, 2, 0.58710414], [48, 12, 3, 0.618043], [45, 16, 3, 0.4418243], [45, 19, 1, 0.5335493]], [[48, 3, 2, 0.6530156], [48, 12, 3, 0.46671864], [45, 16, 3, 0.37171847], [45, 19, 1, 0.53117144]], [[52, 7, 2, 0.6628897], [52, 9, 4, 1.0], [50, 13, 2, 0.36605638], [48, 16, 3, 0.35163936], [48, 19, 1, 0.5459042]], [[50, 0, 1, 0.39136928], [59, 9, 2, 1.0], [59, 11, 2, 0.772383], [55, 16, 3, 0.5195803], [55, 19, 1, 0.5379058]], [[50, 0, 4, 0.43159968], [50, 4, 2, 0.51036704], [48, 16, 2, 0.7364586], [52, 18, 2, 0.72980094], [52, 20, 2, 1.0]], [[54, 1, 3, 1.0], [55, 5, 4, 0.655223], [54, 8, 2, 0.873835], [52, 10, 2, 0.477279]], [[45, 0, 4, 0.8154277], [45, 4, 2, 0.4304297], [43, 16, 4, 0.9756279], [47, 18, 2, 0.7079811], [47, 20, 2, 1.0], [40, 22, 1, 0.40266454]], [[48, 1, 4, 1.0], [47, 4, 2, 0.5242619], [45, 15, 2, 0.4700651], [43, 18, 2, 0.5672099], [43, 22, 1, 0.65260047]], [[52, 5, 2, 1.0], [55, 7, 1, 0.39694184]], [[48, 1, 4, 1.0], [45, 6, 3, 0.49657995]], [[47, 0, 2, 0.7813598], [54, 3, 2, 0.7881102], [54, 9, 6, 1.0], [52, 12, 2, 0.76510817], [54, 15, 2, 0.8066344], [52, 18, 1, 0.4534384]], [[48, 5, 3, 1.0]], [[48, 1, 2, 0.5751238], [43, 14, 2, 1.0], [45, 21, 2, 0.4210436]], [[48, 2, 2, 0.4459234], [52, 7, 2, 1.0]], [[48, 0, 3, 0.3570115], [52, 5, 2, 0.6919292], [55, 7, 1, 1.0]]]\n",
            "repeatingG#  generate done!\n",
            "info is \n",
            " [[[48, 1, 3, 1.0], [48, 4, 1, 0.565339], [48, 7, 1, 0.7447383], [48, 18, 3, 0.81231797], [49, 21, 2, 0.6170763]], [[51, 0, 1, 0.3573043], [61, 2, 1, 0.38721684], [63, 4, 2, 0.4661671], [63, 15, 3, 1.0], [63, 21, 2, 0.9090632]], [[53, 7, 2, 0.59780717], [53, 9, 3, 1.0], [51, 14, 1, 0.42012554], [49, 16, 3, 0.3389707], [49, 19, 1, 0.4991931]], [[51, 0, 1, 0.35433373], [61, 2, 1, 0.39102772], [63, 4, 2, 0.48291132], [63, 15, 3, 1.0], [63, 21, 2, 0.91067356]], [[51, 0, 2, 0.6001055], [58, 3, 2, 1.0], [58, 9, 3, 0.9753683], [56, 12, 1, 0.62502515], [58, 15, 2, 0.8892998]], [[51, 0, 1, 0.3442079], [61, 2, 1, 0.39599165], [63, 4, 2, 0.5009847], [63, 15, 3, 1.0], [63, 21, 2, 0.9064319]], [[49, 1, 4, 1.0], [44, 7, 4, 0.9381171]], [[41, 0, 2, 1.0], [48, 3, 2, 0.42573243], [41, 4, 3, 0.5142717], [41, 7, 1, 0.77301586], [43, 8, 2, 0.48772013], [34, 9, 4, 0.976191], [36, 10, 4, 0.78526163], [36, 11, 2, 0.804129], [36, 13, 1, 0.8083971], [48, 14, 3, 0.38930622], [49, 16, 2, 0.3404831], [46, 18, 1, 0.5137262]], [[51, 0, 1, 0.53804016], [61, 2, 1, 0.4922035], [63, 4, 2, 0.4604404], [60, 9, 3, 0.6810346], [63, 15, 3, 1.0], [63, 21, 2, 0.7072673]], [[49, 5, 3, 1.0]], [[46, 0, 4, 0.65347743], [46, 4, 1, 0.37921426], [44, 16, 4, 0.9348235], [48, 20, 2, 1.0]], [[53, 0, 1, 0.48120835], [60, 3, 2, 0.99058944], [60, 9, 3, 1.0], [58, 12, 1, 0.7456691], [60, 15, 2, 0.5285539], [56, 17, 1, 0.4117014]], [[53, 5, 3, 1.0], [56, 7, 3, 0.67526186], [56, 10, 1, 0.35167766]], [[49, 1, 4, 1.0], [44, 7, 2, 0.83478934], [44, 9, 2, 0.7136134]], [[44, 0, 1, 0.6828716], [44, 4, 1, 1.0], [44, 6, 2, 0.45440662], [37, 9, 3, 0.94679713], [43, 13, 1, 0.8746469], [44, 16, 4, 0.7111412], [44, 20, 1, 0.87842053]], [[51, 0, 1, 0.4665753], [61, 2, 1, 0.38448584], [63, 4, 2, 0.39889196], [60, 9, 4, 1.0], [63, 15, 3, 0.81356263], [63, 21, 2, 0.49753976]]]\n",
            "repeatingA  generate done!\n",
            "info is \n",
            " [[[49, 1, 2, 0.98942643], [49, 3, 2, 0.89885193], [49, 7, 1, 0.7731139], [49, 11, 2, 0.8629164], [49, 13, 5, 0.8788499], [49, 18, 3, 1.0], [50, 20, 3, 0.62976897]], [[50, 2, 1, 0.3968309], [52, 3, 4, 0.78853995], [52, 7, 1, 1.0]], [[50, 0, 4, 0.5388981], [50, 4, 1, 0.5392628], [50, 7, 3, 1.0], [45, 8, 2, 0.3638078], [50, 10, 4, 0.60258406]], [[50, 0, 4, 0.7291949], [50, 4, 1, 0.6396657], [50, 7, 3, 1.0], [45, 8, 2, 0.73607576], [50, 10, 4, 0.6615048]], [[49, 7, 2, 0.66556966], [49, 9, 4, 1.0], [47, 14, 1, 0.353759], [45, 19, 1, 0.49894962]], [[50, 1, 3, 1.0], [50, 4, 1, 0.97189355], [50, 7, 1, 0.8521244], [50, 11, 3, 0.890085]], [[49, 7, 2, 0.803276], [49, 9, 5, 1.0], [45, 16, 3, 0.4498473], [45, 19, 1, 0.53622216]], [[56, 1, 3, 0.59793454], [57, 3, 4, 0.41291037], [54, 8, 2, 0.6903695], [54, 10, 2, 1.0]], [[49, 2, 2, 0.63137573], [49, 4, 4, 0.6248313], [49, 8, 3, 0.6279326], [50, 15, 1, 1.0], [52, 21, 2, 0.4693721]], [[56, 1, 2, 1.0], [56, 3, 2, 0.88539654], [56, 7, 1, 0.7607659], [56, 11, 2, 0.8158227], [56, 13, 5, 0.848074], [56, 18, 3, 0.98245883], [57, 20, 3, 0.63669133]], [[50, 3, 4, 0.3676726], [50, 7, 2, 1.0], [50, 9, 2, 0.9941727], [52, 18, 2, 0.555965]], [[54, 2, 4, 0.38252738], [44, 5, 2, 0.45920306], [54, 9, 4, 0.45474744], [50, 15, 2, 0.7547014], [50, 17, 1, 0.6168089], [56, 21, 3, 1.0]], [[56, 1, 4, 0.9754808], [57, 4, 3, 1.0], [57, 7, 2, 0.72659695]], [[47, 2, 4, 0.78399616], [45, 15, 3, 0.6194758], [49, 18, 2, 0.74817324], [49, 20, 2, 1.0]], [[52, 0, 3, 0.5334964], [50, 6, 1, 1.0], [47, 15, 2, 0.54844], [47, 19, 3, 0.5871677], [47, 22, 1, 0.8169203]], [[50, 1, 3, 1.0], [50, 4, 1, 0.9430481], [50, 7, 1, 0.8496066], [50, 13, 1, 0.96087265], [50, 18, 2, 0.84304386]]]\n",
            "repeatingA#  generate done!\n",
            "info is \n",
            " [[[50, 1, 3, 1.0], [50, 4, 1, 0.51509356], [50, 7, 1, 0.8131117], [50, 18, 3, 0.9020357], [51, 21, 2, 0.6716152]], [[53, 0, 1, 0.3885704], [62, 9, 2, 1.0], [62, 11, 2, 0.76120627], [58, 16, 3, 0.52999645], [58, 19, 1, 0.5893533]], [[53, 0, 1, 0.4043439], [63, 2, 1, 0.37020603], [65, 4, 2, 0.38417348], [65, 15, 3, 1.0], [65, 21, 2, 0.9608455]], [[51, 1, 4, 1.0], [50, 4, 1, 0.94707763], [46, 7, 2, 0.9605661], [46, 9, 2, 0.80323493]], [[51, 0, 1, 0.3838661], [60, 2, 1, 0.33740988], [60, 9, 4, 1.0], [63, 15, 1, 0.33378163]], [[48, 0, 2, 0.47019368], [48, 2, 3, 0.58220714], [46, 15, 2, 0.49094707], [50, 18, 2, 1.0], [50, 20, 2, 0.98013943]], [[51, 3, 2, 0.45679593], [53, 7, 2, 0.4056257], [48, 19, 1, 0.520974]], [[57, 1, 4, 0.9505126], [58, 4, 4, 1.0], [58, 8, 1, 0.83717537]], [[51, 1, 3, 1.0], [51, 4, 1, 0.9734619], [51, 7, 1, 0.8495133], [51, 11, 2, 0.8142427]], [[50, 0, 1, 0.4856005], [60, 2, 1, 0.40072966], [62, 4, 2, 0.4182907], [63, 12, 1, 0.3813594], [62, 15, 3, 0.85962176], [62, 21, 2, 0.5290988]], [[51, 0, 1, 0.41817427], [60, 9, 4, 1.0], [63, 15, 2, 0.5274055]], [[57, 1, 4, 0.9558296], [58, 4, 3, 1.0], [58, 7, 2, 0.76018184]], [[50, 0, 1, 0.372144], [60, 2, 1, 0.42681366], [62, 4, 2, 0.63701767], [63, 11, 2, 0.37406242], [62, 15, 3, 1.0], [62, 21, 2, 0.92242557]], [[53, 0, 1, 0.5117736], [63, 2, 1, 0.4763437], [65, 4, 2, 0.44310552], [62, 9, 4, 0.7554751], [65, 15, 3, 1.0], [65, 21, 2, 0.67035323]], [[53, 0, 2, 0.7450671], [50, 9, 4, 1.0], [46, 19, 1, 0.62500924]], [[55, 1, 3, 0.43707517], [45, 5, 3, 0.568311], [55, 9, 4, 0.4642897], [51, 15, 2, 0.7952673], [51, 17, 1, 0.6697204], [57, 21, 3, 1.0]]]\n",
            "repeatingB  generate done!\n",
            "info is \n",
            " [[[51, 1, 3, 1.0], [51, 4, 1, 0.617529], [51, 7, 1, 0.6374132], [51, 13, 2, 0.63510287], [51, 15, 3, 0.70784503], [51, 18, 3, 0.86161226], [52, 21, 2, 0.54516536]], [[52, 1, 3, 0.8186664], [52, 4, 1, 0.72829795], [52, 7, 1, 0.6504276], [52, 11, 2, 0.7308173], [52, 13, 1, 0.77324855], [52, 18, 3, 1.0]], [[54, 0, 1, 0.42319077], [63, 7, 2, 0.90395814], [63, 9, 2, 1.0], [63, 11, 2, 0.8053844], [59, 16, 3, 0.5532577], [59, 19, 1, 0.48502955]], [[52, 2, 1, 0.3551106], [54, 3, 4, 0.51645994], [54, 7, 2, 1.0], [54, 9, 2, 0.8177941]], [[51, 7, 2, 0.65874815], [51, 9, 4, 1.0], [49, 14, 1, 0.3597561], [47, 19, 1, 0.49677792]], [[52, 0, 1, 0.7734394], [61, 2, 2, 0.6447542], [64, 4, 2, 0.8131271], [61, 9, 5, 1.0], [64, 15, 3, 0.95936614], [64, 21, 2, 0.98821026]], [[52, 1, 2, 1.0], [52, 3, 2, 0.61993736], [49, 6, 3, 0.73120636]], [[51, 0, 1, 0.59378177], [47, 3, 2, 0.49426177], [44, 19, 1, 0.5663367]], [[54, 1, 2, 0.4266129], [52, 6, 1, 1.0], [49, 15, 2, 0.40757486], [49, 18, 2, 0.50586385], [49, 22, 1, 0.579799]], [[54, 2, 4, 0.7326891], [52, 15, 3, 0.5934274], [56, 18, 2, 0.98075706], [56, 20, 2, 1.0]], [[54, 0, 1, 0.40443653], [64, 2, 1, 0.37473217], [66, 4, 2, 0.3942006], [66, 15, 3, 1.0], [66, 21, 2, 0.9776467]], [[54, 0, 2, 0.55639374], [52, 6, 2, 1.0], [49, 15, 2, 0.57149476], [49, 19, 3, 0.5919831], [49, 22, 1, 0.8234262]], [[52, 1, 2, 0.82383156], [47, 5, 2, 0.3861817], [47, 7, 2, 0.8587562], [47, 9, 2, 0.95005953], [52, 13, 1, 0.7384339], [51, 15, 2, 0.8242898], [51, 17, 1, 0.6333226], [51, 21, 2, 1.0]], [[54, 0, 2, 1.0], [51, 9, 3, 0.6265324], [47, 19, 1, 0.5975132]], [[56, 7, 2, 0.6622624], [56, 9, 4, 1.0], [54, 13, 2, 0.36631206], [52, 16, 3, 0.36059895], [52, 19, 1, 0.54576284]], [[52, 1, 2, 0.42875725], [56, 3, 2, 0.3836665], [47, 14, 2, 1.0]]]\n",
            "staccatoC  generate done!\n",
            "info is \n",
            " [[[52, 0, 1, 0.41628236], [62, 2, 1, 0.43954498], [64, 4, 2, 0.66275305], [65, 11, 2, 0.43710592], [64, 15, 3, 1.0], [64, 21, 2, 0.9350755]], [[67, 1, 3, 0.44865867], [69, 3, 3, 0.36977112], [67, 4, 1, 0.41405904], [69, 9, 2, 0.35643196], [67, 13, 3, 0.96467733], [77, 15, 2, 0.6238548], [74, 16, 1, 0.37428412], [77, 17, 1, 0.7635309], [83, 21, 3, 1.0]], [[64, 0, 1, 0.5525834], [71, 3, 2, 1.0], [71, 9, 3, 0.94707847], [69, 12, 1, 0.6873628], [71, 15, 2, 0.7343097]], [[67, 0, 1, 0.4714743], [76, 7, 2, 0.98631585], [76, 9, 2, 1.0], [76, 11, 2, 0.8733774], [72, 16, 4, 0.55260634], [79, 21, 2, 0.46208775]], [[64, 1, 3, 1.0], [64, 4, 1, 0.53104526], [59, 7, 2, 0.8517423], [59, 9, 2, 0.7523019]], [[62, 1, 2, 0.4642862], [57, 7, 3, 0.54735094], [57, 10, 4, 0.631273], [57, 14, 2, 1.0], [59, 21, 2, 0.40043047]], [[69, 7, 2, 0.65811795], [69, 9, 4, 1.0], [67, 13, 2, 0.3643106], [65, 16, 3, 0.35829824], [65, 19, 1, 0.54074156]], [[67, 0, 4, 0.85663295], [67, 4, 2, 0.46850458], [65, 16, 4, 0.9873045], [69, 18, 2, 0.7082086], [69, 20, 2, 1.0], [62, 22, 1, 0.41590884]], [[67, 0, 4, 1.0], [67, 4, 2, 0.3509532], [65, 15, 5, 0.7903791], [69, 20, 2, 0.476859], [62, 22, 1, 0.6483068]], [[64, 2, 2, 0.7285215], [64, 4, 2, 0.6489145], [67, 12, 1, 0.51433814], [65, 15, 1, 0.8219702], [67, 21, 2, 1.0]], [[64, 0, 4, 0.55626786], [64, 4, 1, 0.5269643], [62, 16, 3, 0.83123404], [60, 18, 2, 0.37577462], [62, 19, 2, 1.0], [59, 22, 2, 0.78743464]], [[64, 1, 3, 1.0], [64, 4, 1, 0.9691104], [64, 7, 1, 0.8436094], [64, 11, 2, 0.75557667]], [[64, 1, 3, 0.81802815], [64, 4, 1, 0.72846335], [64, 7, 1, 0.6557611], [64, 13, 1, 0.78057235], [64, 18, 3, 1.0]], [[64, 7, 2, 1.0], [64, 9, 2, 0.9639751], [65, 21, 2, 0.65701574]], [[65, 2, 1, 0.3553605], [67, 3, 4, 0.57321006], [67, 7, 2, 1.0], [67, 9, 2, 0.7418734]], [[62, 1, 3, 0.936619], [62, 4, 2, 0.4924635], [60, 16, 4, 0.9997061], [64, 18, 2, 0.6402585], [64, 20, 2, 1.0], [57, 22, 1, 0.51070684]]]\n",
            "staccatoC#  generate done!\n",
            "info is \n",
            " [[[49, 3, 2, 0.45819297], [51, 7, 2, 0.5446832], [46, 16, 3, 0.5206099], [46, 19, 1, 0.6078348]], [[46, 1, 2, 0.8397418], [44, 2, 1, 0.46005327], [36, 5, 2, 0.6722578], [46, 8, 3, 0.48620644], [42, 15, 2, 0.9589722], [42, 17, 1, 0.75022715], [48, 21, 2, 1.0]], [[49, 0, 1, 0.3979668], [58, 9, 2, 1.0], [58, 11, 2, 0.77849066], [54, 16, 3, 0.5197709], [54, 19, 1, 0.53240806]], [[49, 3, 2, 0.62398726], [49, 12, 3, 0.5237669], [46, 16, 3, 0.37724206], [46, 19, 1, 0.5276438]], [[46, 1, 2, 0.42612198], [44, 6, 1, 1.0], [41, 15, 2, 0.4424842], [41, 18, 2, 0.496138], [41, 22, 1, 0.5766209]], [[48, 0, 1, 0.6512323], [58, 2, 1, 0.4030845], [60, 4, 2, 0.6015619], [58, 10, 1, 0.3648183], [61, 11, 2, 0.5756518], [60, 15, 2, 0.96192217], [60, 17, 1, 0.8117728], [60, 21, 2, 1.0]], [[46, 0, 2, 0.9647698], [53, 3, 2, 0.44328943], [46, 4, 3, 0.46342605], [46, 7, 1, 0.67342037], [48, 8, 2, 0.42824578], [39, 9, 4, 1.0], [41, 10, 4, 0.7929188], [41, 11, 2, 0.6701188], [51, 13, 2, 0.6396076], [53, 14, 3, 0.3405999], [51, 18, 1, 0.5202723]], [[46, 0, 2, 0.57399285], [53, 3, 2, 1.0], [53, 9, 3, 0.96000814], [51, 12, 1, 0.6546581], [53, 15, 2, 0.8222656]], [[48, 1, 3, 1.0], [48, 4, 1, 0.5612813], [48, 7, 1, 0.75251704], [48, 18, 3, 0.8239961], [49, 21, 2, 0.623543]], [[46, 0, 2, 0.58375555], [46, 7, 1, 0.57314557], [39, 9, 3, 0.4624971], [41, 11, 3, 1.0], [46, 15, 2, 0.34145984], [49, 20, 1, 0.632312]], [[49, 0, 1, 0.38010976], [58, 2, 2, 0.3766364], [58, 9, 2, 1.0], [58, 11, 2, 0.7611091]], [[46, 0, 2, 0.5610466], [44, 6, 2, 1.0], [41, 15, 2, 0.44951642], [41, 18, 2, 0.5083082], [41, 22, 1, 0.7225226]], [[48, 1, 3, 1.0], [48, 4, 1, 0.7704872], [48, 7, 1, 0.67468387], [48, 11, 2, 0.7273546], [48, 13, 2, 0.7789997], [48, 15, 3, 0.63180476], [48, 18, 3, 0.97359496], [49, 22, 1, 0.55020475]], [[46, 2, 2, 0.8606642], [46, 4, 6, 0.8765832], [46, 10, 2, 1.0]], [[46, 1, 2, 0.7328078], [44, 2, 1, 0.49821812], [36, 5, 2, 0.5993985], [46, 8, 2, 0.48556212], [42, 15, 3, 1.0], [48, 21, 2, 0.9747761]], [[46, 1, 2, 1.0], [46, 3, 2, 0.84473646], [46, 7, 1, 0.7178356], [46, 11, 2, 0.7640557], [46, 13, 5, 0.815107], [46, 18, 3, 0.98818386]]]\n",
            "staccatoD  generate done!\n",
            "info is \n",
            " [[[50, 0, 1, 0.37635905], [59, 2, 1, 0.3600323], [59, 9, 2, 1.0], [59, 11, 2, 0.7338907]], [[55, 3, 2, 0.8878315], [57, 7, 2, 0.663333], [54, 14, 1, 0.48346543], [52, 16, 3, 0.43243748], [52, 19, 1, 0.53873134]], [[61, 0, 1, 0.6844434], [71, 2, 1, 0.43062568], [73, 4, 2, 0.6221241], [71, 10, 1, 0.45039082], [74, 11, 2, 0.48638278], [73, 15, 2, 0.9605481], [73, 17, 1, 0.7945739], [73, 21, 2, 1.0]], [[62, 7, 2, 0.6459929], [61, 9, 5, 1.0], [57, 16, 3, 0.52909786], [57, 19, 1, 0.48253083]], [[61, 7, 2, 0.6594473], [61, 9, 3, 1.0], [59, 14, 1, 0.3736909], [57, 19, 1, 0.49505895]], [[62, 0, 2, 1.0], [59, 9, 3, 0.40653124], [55, 19, 1, 0.49560583]], [[61, 0, 1, 0.4929404], [71, 2, 1, 0.45360973], [73, 4, 2, 0.6862991], [74, 11, 2, 0.5707257], [73, 15, 3, 1.0], [73, 21, 2, 0.92103887]], [[59, 1, 2, 0.7003076], [49, 4, 2, 0.494492], [59, 8, 2, 0.49888504], [55, 16, 2, 0.7751408], [61, 21, 2, 1.0]], [[61, 0, 1, 0.5012779], [71, 2, 1, 0.45635012], [73, 4, 2, 0.6851254], [74, 11, 2, 0.5846958], [73, 15, 3, 1.0], [73, 21, 2, 0.91691333]], [[59, 0, 2, 1.0], [55, 3, 2, 0.40791768], [52, 19, 1, 0.6784441]], [[59, 0, 3, 0.6038134], [57, 6, 1, 1.0], [54, 16, 1, 0.667055], [54, 19, 3, 0.7044843], [54, 22, 1, 0.8969788]], [[59, 9, 5, 1.0], [55, 16, 3, 0.4850509], [55, 19, 1, 0.39805603]], [[59, 1, 2, 0.71664685], [57, 6, 1, 1.0], [54, 18, 2, 0.59049565], [54, 21, 2, 0.6443897]], [[59, 1, 2, 0.5694058], [57, 6, 1, 1.0], [54, 18, 2, 0.5599513], [54, 21, 2, 0.617607]], [[61, 1, 3, 0.79715216], [62, 5, 2, 0.563873], [59, 10, 2, 1.0]], [[57, 0, 1, 0.67869323], [66, 2, 2, 0.615742], [69, 4, 2, 0.7508642], [66, 9, 4, 1.0], [69, 15, 3, 0.8195631], [69, 21, 2, 0.881102]]]\n",
            "staccatoD#  generate done!\n",
            "info is \n",
            " [[[51, 0, 1, 0.37474823], [60, 2, 1, 0.35690263], [60, 9, 2, 1.0], [60, 11, 2, 0.7228162]], [[56, 1, 2, 0.8371195], [51, 5, 2, 0.3840302], [51, 7, 2, 0.87385315], [51, 9, 2, 0.9539992], [56, 13, 1, 0.765837], [55, 15, 2, 0.8266596], [55, 17, 1, 0.6793588], [55, 21, 2, 1.0]], [[63, 0, 1, 0.74268585], [72, 2, 2, 0.64005494], [75, 4, 2, 0.7968059], [72, 9, 5, 1.0], [75, 15, 3, 0.93669343], [75, 21, 2, 0.9508583]], [[60, 0, 2, 0.7045553], [67, 3, 2, 0.77342606], [67, 9, 6, 1.0], [65, 12, 2, 0.79627335], [67, 15, 2, 0.91409117], [65, 18, 1, 0.4017372]], [[60, 5, 2, 1.0], [63, 7, 1, 0.59558946]], [[60, 7, 2, 0.65685624], [60, 9, 3, 1.0], [58, 14, 1, 0.38187107], [56, 19, 1, 0.49335602]], [[62, 0, 1, 0.42711216], [74, 4, 2, 0.56782776], [75, 11, 2, 0.61068255], [74, 15, 2, 1.0], [74, 17, 1, 0.80032605], [74, 21, 2, 0.9289729]], [[62, 1, 3, 1.0], [63, 4, 5, 0.6781021], [62, 8, 2, 0.9766976]], [[58, 1, 2, 0.45306388], [53, 7, 3, 0.5508597], [53, 10, 4, 0.6336484], [53, 14, 2, 1.0], [55, 21, 2, 0.37858996]], [[62, 1, 3, 0.70801556], [63, 4, 2, 0.5909531], [60, 7, 3, 1.0], [60, 10, 2, 0.5505442]], [[55, 1, 3, 0.5984046], [56, 4, 2, 0.4932755], [53, 8, 2, 0.67377365], [53, 10, 2, 1.0]], [[60, 0, 2, 0.5690587], [58, 6, 2, 1.0], [55, 15, 2, 0.5837599], [55, 19, 1, 0.59014726], [55, 22, 1, 0.8406293]], [[62, 1, 3, 1.0], [63, 3, 3, 0.69483894], [63, 6, 3, 0.66782963], [62, 8, 1, 0.653632]], [[60, 0, 5, 0.5900278], [58, 16, 3, 0.90830296], [58, 19, 2, 1.0], [55, 22, 2, 0.91130096]], [[60, 0, 4, 0.7799713], [60, 4, 2, 0.41950077], [58, 16, 4, 0.948724], [62, 18, 2, 0.7030201], [62, 20, 2, 1.0], [55, 22, 1, 0.3358938]], [[60, 1, 3, 0.85709214], [60, 4, 1, 0.7814518], [60, 7, 1, 0.6920367], [60, 11, 2, 0.77451205], [60, 13, 5, 0.7955684], [60, 18, 3, 1.0]]]\n",
            "staccatoE  generate done!\n",
            "info is \n",
            " [[[51, 0, 1, 0.5130852], [61, 2, 1, 0.47793925], [63, 4, 2, 0.43791655], [64, 11, 2, 0.43647996], [63, 15, 3, 1.0], [63, 21, 2, 0.6862585]], [[64, 0, 1, 0.45168728], [76, 4, 2, 0.3352194], [73, 7, 2, 0.86347336], [73, 9, 2, 1.0], [73, 11, 3, 0.8850998], [76, 15, 3, 0.44317952], [69, 16, 2, 0.48704454], [76, 21, 2, 0.5107962]], [[63, 0, 1, 0.41632038], [75, 4, 2, 0.57317823], [76, 11, 2, 0.59796315], [75, 15, 2, 1.0], [75, 17, 1, 0.7275298], [75, 21, 2, 0.8360738]], [[63, 1, 3, 1.0], [64, 4, 4, 0.9406257], [64, 8, 1, 0.7702401]], [[64, 7, 2, 0.4755062], [63, 9, 5, 1.0], [59, 16, 3, 0.43494827], [59, 19, 1, 0.56951684]], [[64, 3, 2, 0.47316512], [66, 7, 2, 0.6248081], [61, 16, 3, 0.5558705], [61, 19, 1, 0.5133541]], [[63, 0, 1, 0.41761267], [75, 4, 2, 0.5725508], [76, 11, 2, 0.5940466], [75, 15, 2, 1.0], [75, 17, 1, 0.75515753], [75, 21, 2, 0.8767421]], [[66, 0, 4, 1.0], [66, 4, 2, 0.5259416], [64, 15, 4, 0.59953916], [64, 19, 1, 0.3456247], [61, 22, 1, 0.68494254]], [[64, 3, 2, 0.4213854], [66, 7, 2, 0.6507363], [61, 16, 3, 0.51395553], [61, 19, 1, 0.46170452]], [[64, 1, 1, 0.3998848], [59, 10, 4, 0.5318534], [59, 14, 2, 1.0], [61, 21, 2, 0.44816628]], [[64, 1, 2, 0.60345703], [68, 3, 2, 0.3349217], [59, 10, 1, 0.33939296], [59, 14, 2, 1.0], [61, 21, 2, 0.46681076]], [[64, 0, 1, 0.3904605], [73, 2, 1, 0.35202545], [73, 9, 4, 1.0]], [[61, 1, 3, 1.0], [61, 4, 2, 0.6312032], [56, 7, 2, 0.90910476], [56, 9, 3, 0.7766018]], [[59, 1, 2, 0.5633785], [54, 10, 1, 0.38802445], [54, 14, 2, 1.0], [56, 21, 2, 0.4903704]], [[64, 0, 2, 0.57794005], [71, 3, 2, 0.90664995], [71, 9, 3, 0.94952506], [69, 12, 1, 0.5643943], [71, 15, 2, 1.0]], [[64, 1, 3, 0.97678727], [64, 4, 2, 0.6089893], [59, 7, 3, 1.0], [59, 10, 2, 0.8982487]]]\n",
            "staccatoF  generate done!\n",
            "info is \n",
            " [[[48, 0, 2, 1.0], [45, 9, 3, 0.5950026], [41, 19, 1, 0.5940109]], [[45, 0, 1, 0.5314179], [55, 2, 1, 0.35086438], [57, 4, 2, 0.6073281], [58, 11, 2, 0.69673926], [57, 15, 2, 0.9547826], [57, 17, 1, 0.8334849], [57, 21, 2, 1.0]], [[43, 0, 1, 0.5451472], [53, 2, 1, 0.5066882], [55, 4, 2, 0.4741967], [52, 9, 3, 0.5729766], [55, 15, 3, 1.0], [55, 21, 2, 0.7418663]], [[41, 1, 3, 0.81772023], [41, 4, 1, 0.721228], [41, 7, 1, 0.6478496], [41, 13, 1, 0.7739841], [41, 18, 3, 1.0]], [[50, 1, 2, 0.7145853], [48, 2, 1, 0.4820493], [40, 5, 1, 0.5454367], [50, 8, 2, 0.482726], [46, 15, 3, 1.0], [52, 21, 2, 0.9807449]], [[41, 0, 2, 0.8271039], [34, 4, 1, 0.61120653], [34, 7, 5, 0.6607736], [29, 8, 3, 1.0]], [[40, 5, 3, 1.0], [43, 7, 3, 0.5819075], [43, 10, 1, 0.35244915]], [[38, 0, 2, 0.5850689], [36, 6, 1, 1.0], [33, 16, 1, 0.65602916], [33, 19, 3, 0.68498707], [33, 22, 1, 0.8980523]], [[43, 0, 2, 0.45557714], [43, 2, 3, 0.52526927], [41, 15, 2, 0.38177213], [45, 18, 4, 1.0]], [[45, 0, 1, 0.70797914], [55, 2, 1, 0.45698047], [57, 4, 2, 0.65129906], [55, 10, 1, 0.5179876], [58, 11, 2, 0.48185828], [57, 15, 2, 0.9848966], [57, 17, 1, 0.8000619], [57, 21, 2, 1.0]], [[43, 5, 3, 1.0], [46, 7, 3, 0.70602125], [46, 10, 1, 0.36971536]], [[40, 1, 3, 1.0], [41, 3, 3, 0.7111095], [41, 6, 3, 0.6413912]], [[40, 1, 4, 0.9603828], [41, 4, 3, 1.0], [41, 7, 2, 0.7873668]], [[40, 0, 1, 0.35019478], [50, 2, 1, 0.39423877], [52, 4, 2, 0.4896479], [52, 15, 3, 1.0], [52, 21, 2, 0.90163964]], [[48, 1, 3, 0.5767964], [48, 4, 1, 0.3341243], [46, 7, 2, 0.5851049], [43, 9, 2, 0.63828117], [48, 13, 3, 1.0], [58, 15, 2, 0.42937005], [55, 16, 1, 0.74295664], [58, 17, 1, 0.632707], [64, 21, 2, 0.6995007]], [[41, 0, 2, 0.71298254], [34, 1, 2, 0.5642204], [34, 3, 2, 0.63937724], [29, 8, 3, 1.0]]]\n",
            "staccatoF#  generate done!\n",
            "info is \n",
            " [[[53, 0, 1, 0.35271388], [63, 2, 1, 0.4238266], [65, 4, 2, 0.6178042], [66, 11, 2, 0.34710318], [65, 15, 3, 1.0], [65, 21, 2, 0.9546261]], [[66, 0, 1, 0.47016263], [78, 4, 2, 0.3336473], [75, 7, 2, 0.9645795], [75, 9, 2, 1.0], [75, 11, 3, 0.893436], [71, 16, 4, 0.5324591], [78, 21, 2, 0.5174746]], [[68, 0, 3, 0.4365524], [66, 6, 1, 1.0], [63, 15, 2, 0.37940738], [66, 16, 1, 0.7742681], [63, 18, 3, 0.76180536], [63, 21, 2, 0.672393]], [[65, 2, 2, 0.8624506], [65, 4, 6, 0.8780366], [65, 10, 2, 1.0]], [[61, 1, 1, 0.49351487], [56, 10, 2, 0.4357993], [56, 14, 2, 1.0], [58, 21, 2, 0.5368562]], [[65, 3, 4, 0.41257054], [65, 7, 2, 1.0], [65, 9, 2, 0.9765384], [66, 21, 2, 0.50923204]], [[70, 0, 2, 0.992635], [77, 3, 2, 0.65420943], [70, 4, 3, 0.3543675], [70, 7, 1, 0.36625707], [63, 9, 3, 1.0], [65, 10, 7, 0.9466576], [63, 12, 1, 0.81017786], [75, 13, 2, 0.39826596], [78, 16, 2, 0.38300318], [75, 18, 1, 0.7355797]], [[66, 3, 2, 0.46474302], [68, 7, 2, 0.63325644], [63, 16, 3, 0.5477549], [63, 19, 1, 0.50247973]], [[65, 1, 3, 0.59420204], [66, 3, 3, 0.44196627], [63, 8, 2, 0.67551976], [63, 10, 2, 1.0]], [[61, 0, 1, 0.33698463], [70, 9, 2, 1.0], [70, 11, 3, 0.83075774], [66, 16, 4, 0.56180537]], [[66, 1, 2, 0.82293826], [61, 5, 2, 0.4696757], [61, 9, 2, 0.8916472], [66, 13, 3, 1.0], [65, 15, 2, 0.6488581], [61, 16, 1, 0.88717943], [65, 17, 1, 0.7547953], [65, 21, 2, 0.6531784]], [[66, 2, 5, 0.43260446], [70, 7, 3, 1.0]], [[61, 0, 1, 0.44681028], [70, 2, 2, 0.38958567], [73, 4, 2, 0.34346732], [70, 9, 5, 1.0], [73, 15, 3, 0.64356726], [66, 16, 2, 0.46005377], [73, 21, 2, 0.4970918]], [[66, 1, 4, 0.9636613], [61, 7, 4, 1.0]], [[65, 2, 2, 0.59755045], [65, 4, 4, 0.63006085], [65, 8, 3, 0.5422615], [66, 15, 1, 1.0], [68, 21, 2, 0.7498784]], [[65, 1, 1, 1.0], [68, 4, 1, 0.36511558], [65, 7, 1, 0.91229546], [65, 16, 2, 0.7484543], [65, 18, 3, 0.92830217], [66, 20, 3, 0.6534949]]]\n",
            "staccatoG  generate done!\n",
            "info is \n",
            " [[[48, 3, 2, 0.47503033], [50, 7, 2, 0.629433], [45, 16, 3, 0.5557405], [45, 19, 1, 0.51430184]], [[45, 0, 1, 0.6777056], [54, 2, 2, 0.61776036], [57, 4, 2, 0.74842906], [54, 9, 4, 1.0], [57, 15, 3, 0.8413958], [57, 21, 2, 0.8927463]], [[47, 0, 1, 0.54439366], [57, 2, 1, 0.45400172], [59, 4, 2, 0.5819267], [60, 11, 2, 0.6611122], [59, 15, 3, 1.0], [59, 21, 2, 0.8662012]], [[45, 1, 3, 1.0], [45, 4, 1, 0.5812216], [40, 7, 2, 0.8957307], [40, 9, 2, 0.78893113]], [[45, 0, 3, 0.5866265], [45, 3, 2, 0.6964773], [43, 16, 3, 0.86325616], [40, 18, 2, 0.49356622], [43, 19, 2, 1.0], [40, 22, 2, 0.788084]], [[45, 0, 3, 0.7429012], [43, 4, 3, 0.5677537], [43, 7, 2, 0.7145633], [40, 10, 3, 0.8378407], [40, 13, 1, 1.0]], [[43, 0, 1, 0.7098617], [43, 4, 1, 1.0], [43, 6, 2, 0.48560628], [36, 9, 3, 0.92670965], [42, 13, 2, 0.75812435], [43, 16, 2, 0.7264779], [43, 18, 2, 0.85643715], [43, 20, 1, 0.8250313]], [[45, 0, 1, 0.3895844], [55, 2, 1, 0.38375303], [57, 4, 2, 0.39795935], [57, 15, 2, 1.0], [57, 17, 1, 0.8075991], [57, 21, 2, 0.9410749]], [[45, 0, 2, 0.6009412], [52, 3, 2, 1.0], [52, 9, 3, 0.9656533], [50, 12, 1, 0.6189521], [52, 15, 2, 0.8910118]], [[45, 5, 3, 1.0], [48, 7, 3, 0.7227022], [48, 10, 1, 0.3691301]], [[45, 0, 3, 0.41630736], [43, 6, 1, 1.0], [40, 15, 2, 0.36060447], [43, 16, 1, 0.6952819], [40, 18, 3, 0.7303507], [40, 21, 2, 0.6449396]], [[45, 5, 3, 1.0]], [[45, 1, 2, 0.5867429], [45, 3, 3, 0.5921607], [42, 7, 2, 1.0]], [[42, 2, 2, 0.601952], [42, 4, 4, 0.6324492], [42, 8, 3, 0.5311127], [43, 15, 1, 1.0], [45, 21, 2, 0.7697878]], [[45, 1, 4, 0.8757516], [40, 7, 3, 1.0]], [[45, 1, 3, 1.0], [45, 4, 1, 0.67423606], [45, 7, 1, 0.62420857], [45, 11, 2, 0.70633876], [45, 13, 2, 0.72502124], [45, 15, 3, 0.6936673], [45, 18, 3, 0.9242505]]]\n",
            "staccatoG#  generate done!\n",
            "info is \n",
            " [[[48, 9, 2, 1.0], [48, 11, 3, 0.77329665], [44, 16, 3, 0.53660524], [44, 19, 1, 0.3424181]], [[44, 0, 1, 0.43012482], [53, 7, 2, 0.9090803], [53, 9, 2, 1.0], [53, 11, 2, 0.7985254], [49, 16, 3, 0.5499555], [49, 19, 1, 0.48155668]], [[48, 0, 2, 0.9846083], [55, 3, 2, 0.6403487], [48, 4, 3, 0.34260938], [48, 7, 1, 0.34572026], [41, 9, 3, 1.0], [43, 10, 7, 0.92532057], [41, 12, 1, 0.7846162], [53, 13, 2, 0.3817076], [56, 16, 2, 0.37217188], [53, 18, 1, 0.7149871]], [[44, 0, 1, 0.74446225], [44, 4, 1, 0.9828069], [44, 6, 2, 0.4224826], [37, 9, 3, 1.0], [43, 13, 1, 0.93493044], [44, 16, 4, 0.69741315], [44, 20, 1, 0.9619918]], [[48, 1, 3, 1.0], [49, 3, 5, 0.9420603], [49, 8, 1, 0.83191717]], [[44, 2, 1, 0.34028625], [46, 3, 4, 0.6664507], [46, 7, 2, 1.0], [46, 9, 2, 0.63547707]], [[43, 1, 3, 1.0], [44, 5, 4, 0.66537976], [43, 8, 2, 0.9942587]], [[44, 1, 3, 0.83837515], [44, 4, 1, 0.7551072], [44, 7, 1, 0.68002707], [44, 13, 1, 0.8001105], [44, 18, 3, 1.0]], [[44, 1, 4, 1.0], [43, 4, 1, 0.6618807], [39, 7, 2, 0.801495], [39, 9, 2, 0.7242374]], [[44, 3, 2, 0.43127826], [46, 7, 2, 0.4270608], [41, 16, 3, 0.3684302], [41, 19, 1, 0.53067833]], [[44, 0, 1, 0.42027807], [53, 9, 4, 1.0], [56, 15, 2, 0.5022995]], [[46, 0, 3, 0.48402375], [44, 6, 1, 1.0], [41, 15, 2, 0.7907748], [41, 18, 4, 0.7443054], [41, 22, 1, 0.7049635]], [[44, 4, 4, 1.0]], [[44, 0, 1, 0.37159407], [53, 7, 2, 0.94640404], [53, 9, 2, 1.0], [53, 11, 2, 0.8711681], [49, 16, 4, 0.5687546]], [[44, 0, 1, 0.37512133], [53, 2, 1, 0.3567232], [53, 9, 2, 1.0], [53, 11, 2, 0.7311243]], [[41, 0, 3, 0.45345363], [39, 6, 1, 1.0], [36, 15, 2, 0.51982164], [36, 18, 4, 0.51221377], [36, 22, 1, 0.6391569]]]\n",
            "staccatoA  generate done!\n",
            "info is \n",
            " [[[49, 0, 1, 0.54381603], [59, 2, 1, 0.49012202], [61, 4, 2, 0.47205952], [62, 11, 2, 0.49666983], [61, 15, 3, 1.0], [61, 21, 2, 0.7636439]], [[62, 3, 2, 0.5008551], [64, 7, 2, 0.63314205], [59, 16, 3, 0.55549145], [59, 19, 1, 0.5269948]], [[61, 1, 4, 1.0], [56, 7, 2, 0.85811484], [56, 9, 2, 0.67372334]], [[59, 0, 1, 0.37711883], [68, 2, 2, 0.36976954], [68, 7, 2, 0.8794597], [68, 9, 2, 1.0], [68, 11, 2, 0.78614795], [64, 16, 2, 0.44716734]], [[61, 0, 1, 0.6862484], [71, 2, 1, 0.425296], [73, 4, 2, 0.6205298], [71, 10, 1, 0.4456307], [74, 11, 2, 0.48828846], [73, 15, 2, 0.96142334], [73, 17, 1, 0.7946642], [73, 21, 2, 1.0]], [[61, 9, 5, 1.0], [57, 16, 3, 0.49261922], [57, 19, 1, 0.3738566]], [[61, 0, 1, 0.51333064], [71, 2, 1, 0.453552], [73, 4, 2, 0.6807341], [74, 11, 2, 0.6365279], [73, 15, 3, 1.0], [73, 21, 2, 0.9122569]], [[62, 2, 1, 0.3973605], [64, 4, 2, 0.5489272], [64, 15, 2, 1.0], [64, 17, 1, 0.89902633], [64, 21, 2, 0.9095961]], [[61, 1, 2, 0.9238722], [61, 3, 2, 0.84020936], [61, 7, 1, 0.72897714], [61, 11, 2, 0.8196552], [61, 13, 5, 0.83489484], [61, 18, 3, 1.0]], [[62, 0, 1, 0.41092154], [71, 2, 1, 0.3390768], [71, 9, 4, 1.0], [74, 15, 2, 0.43156812]], [[59, 0, 5, 0.64499056], [57, 16, 3, 1.0], [57, 19, 2, 0.9152334], [61, 20, 2, 0.45019746], [54, 22, 2, 0.91251135]], [[61, 0, 1, 0.5113044], [71, 2, 1, 0.4635282], [73, 4, 2, 0.44239068], [74, 12, 1, 0.4737056], [73, 15, 3, 1.0], [73, 21, 2, 0.6412746]], [[64, 1, 3, 1.0], [64, 4, 2, 0.4412134], [62, 15, 5, 0.90161115], [66, 20, 2, 0.7636702], [59, 22, 1, 0.59303087]], [[61, 1, 3, 1.0], [61, 4, 1, 0.79491246], [61, 7, 1, 0.68287027], [61, 11, 2, 0.7352196], [61, 13, 2, 0.7907522], [61, 15, 3, 0.6136057], [61, 18, 3, 0.97935396]], [[62, 2, 2, 0.45827395], [66, 7, 2, 1.0]], [[57, 1, 4, 1.0], [56, 4, 1, 0.52669746], [52, 7, 2, 0.6934732], [52, 9, 2, 0.67826045]]]\n",
            "staccatoA#  generate done!\n",
            "info is \n",
            " [[[48, 3, 2, 0.45405936], [50, 7, 2, 0.4237929], [45, 16, 3, 0.36031407], [45, 19, 1, 0.5316192]], [[45, 1, 3, 1.0], [46, 5, 3, 0.71507347], [45, 8, 1, 0.5368981], [43, 10, 2, 0.95986104]], [[41, 0, 1, 0.7534896], [50, 2, 2, 0.6376711], [53, 4, 2, 0.80577433], [50, 9, 5, 1.0], [53, 15, 3, 0.9952704], [53, 21, 2, 0.98253083]], [[45, 2, 2, 0.7950367], [45, 4, 6, 0.8183281], [45, 10, 2, 1.0]], [[45, 5, 3, 1.0]], [[45, 0, 2, 0.75049406], [38, 3, 2, 0.54210806], [33, 8, 3, 1.0]], [[45, 1, 3, 0.97293675], [46, 5, 4, 0.6586594], [45, 8, 2, 1.0]], [[43, 1, 4, 0.97501945], [41, 7, 2, 1.0], [38, 10, 3, 0.89197284], [38, 13, 1, 0.36984968]], [[43, 0, 4, 0.5574542], [43, 4, 1, 0.3505354], [41, 16, 4, 1.0], [45, 20, 2, 0.96602345], [38, 22, 1, 0.48124698]], [[45, 2, 2, 1.0], [45, 4, 4, 0.9199004], [45, 8, 2, 0.9760789], [45, 10, 2, 0.94205636], [46, 15, 1, 0.59025806]], [[46, 0, 2, 1.0], [43, 9, 3, 0.4421766], [39, 19, 1, 0.51494384]], [[48, 0, 4, 1.0], [48, 4, 2, 0.51287335], [46, 15, 4, 0.6366301], [46, 19, 1, 0.35974744], [43, 22, 1, 0.6988182]], [[45, 1, 3, 1.0], [46, 4, 4, 0.95108896], [46, 8, 1, 0.75612676]], [[45, 2, 2, 0.82590663], [45, 4, 6, 0.847358], [45, 10, 2, 1.0]], [[43, 3, 1, 0.4484023], [45, 4, 1, 0.6951462], [57, 9, 3, 1.0], [55, 12, 1, 0.83219725], [53, 17, 1, 0.95211625]], [[45, 5, 3, 1.0], [48, 7, 3, 0.82617515], [48, 10, 1, 0.43515182]]]\n",
            "staccatoB  generate done!\n",
            "info is \n",
            " [[[49, 0, 1, 0.4123916], [58, 2, 1, 0.34035134], [58, 9, 4, 1.0], [61, 15, 2, 0.44812593]], [[56, 1, 2, 0.7168981], [54, 2, 1, 0.47994423], [46, 4, 2, 0.52908045], [56, 8, 2, 0.49002934], [52, 15, 3, 0.93282294], [58, 21, 2, 1.0]], [[61, 0, 2, 0.5928157], [68, 3, 2, 0.91977423], [68, 9, 3, 0.9637686], [66, 12, 1, 0.5447042], [68, 15, 2, 1.0]], [[68, 1, 3, 0.4342542], [58, 5, 3, 0.57693464], [68, 9, 2, 0.4472376], [64, 15, 2, 0.802065], [64, 17, 1, 0.6792546], [70, 21, 2, 1.0]], [[63, 0, 1, 0.46619406], [75, 4, 2, 0.5989281], [76, 11, 2, 0.6408219], [75, 15, 2, 1.0], [75, 17, 1, 0.8269975], [75, 21, 2, 0.9873765]], [[63, 1, 1, 1.0], [66, 4, 1, 0.3809449], [63, 7, 1, 0.9085705], [63, 16, 2, 0.747829], [63, 18, 3, 0.9283395], [64, 20, 3, 0.6582819]], [[61, 0, 1, 0.5686272], [70, 2, 2, 0.54897094], [73, 4, 2, 0.50967723], [70, 9, 5, 1.0], [73, 15, 3, 0.78361666], [66, 16, 2, 0.35535154], [73, 21, 2, 0.743202]], [[61, 0, 1, 0.7695847], [70, 2, 2, 0.6434226], [73, 4, 2, 0.811966], [70, 9, 5, 1.0], [73, 15, 3, 0.9872296], [73, 21, 2, 0.99263126]], [[63, 1, 4, 0.8092256], [64, 4, 2, 0.7598895], [61, 7, 3, 1.0], [61, 10, 2, 0.9718061]], [[61, 0, 2, 0.7215058], [54, 1, 2, 0.60147816], [54, 3, 2, 0.7302072], [49, 8, 3, 1.0]], [[59, 1, 4, 0.92981267], [58, 4, 1, 0.95496255], [54, 7, 2, 1.0], [54, 9, 2, 0.80869025]], [[56, 1, 2, 0.537297], [46, 5, 2, 0.62687296], [56, 8, 3, 0.3647327], [52, 15, 2, 0.8123283], [52, 17, 1, 0.750941], [58, 21, 2, 1.0]], [[61, 1, 2, 0.68712705], [61, 3, 3, 0.6504664], [58, 7, 2, 1.0]], [[61, 0, 2, 0.48515978], [61, 2, 3, 0.61906093], [59, 15, 2, 0.49900076], [63, 18, 2, 1.0], [63, 20, 2, 0.9850273]], [[61, 1, 2, 1.0], [61, 3, 2, 0.7365301], [58, 6, 3, 0.85248965]], [[61, 3, 2, 0.5330951], [63, 7, 2, 0.6371551], [58, 16, 3, 0.56642145], [58, 19, 1, 0.58873624]]]\n",
            "steping_twistingC  generate done!\n",
            "info is \n",
            " [[[48, 1, 2, 0.6157252], [48, 3, 3, 0.59247303], [45, 7, 2, 1.0]], [[43, 0, 1, 0.6705884], [52, 2, 2, 0.61649096], [55, 4, 2, 0.7406202], [52, 9, 4, 1.0], [55, 15, 3, 0.86326563], [55, 21, 2, 0.8886549]], [[47, 0, 1, 0.53944206], [57, 2, 1, 0.4550298], [59, 4, 2, 0.61727893], [60, 11, 2, 0.660022], [59, 15, 3, 1.0], [59, 21, 2, 0.8877761]], [[47, 9, 5, 1.0], [43, 16, 3, 0.4836572], [43, 19, 1, 0.41424254]], [[48, 0, 1, 0.595315], [57, 2, 2, 0.5690076], [60, 4, 2, 0.60568416], [57, 9, 4, 1.0], [60, 15, 3, 0.78643656], [60, 21, 2, 0.7925972]], [[45, 0, 2, 0.7090821], [41, 3, 2, 0.49067765], [38, 19, 1, 0.6146406]], [[48, 7, 2, 0.5730653], [47, 9, 4, 1.0], [45, 13, 2, 0.5883334], [43, 16, 3, 0.4194105], [43, 19, 1, 0.5103611]], [[47, 1, 4, 1.0], [48, 4, 4, 0.9994801], [48, 8, 1, 0.72959125]], [[45, 0, 1, 0.44874293], [41, 3, 2, 0.4892937], [38, 19, 1, 0.53056717]], [[48, 1, 4, 1.0], [47, 4, 1, 0.6106747], [43, 7, 2, 0.63773626], [43, 9, 2, 0.682871]], [[43, 3, 2, 0.48158705], [45, 7, 2, 0.37963694], [40, 19, 1, 0.51962584]], [[55, 1, 3, 0.54529434], [55, 4, 1, 0.36950043], [53, 7, 2, 0.5208882], [50, 9, 2, 0.572108], [55, 13, 3, 1.0], [65, 15, 2, 0.46358874], [62, 16, 1, 0.5869618], [65, 17, 1, 0.68454623], [71, 21, 2, 0.8087177]], [[45, 1, 4, 1.0], [40, 7, 4, 0.91472095]], [[43, 0, 1, 0.46573517], [52, 7, 2, 0.9453918], [52, 9, 2, 1.0], [52, 11, 3, 0.8962155], [48, 16, 4, 0.5173542], [55, 21, 2, 0.51282674]], [[47, 1, 3, 1.0], [48, 3, 6, 0.6921901], [47, 8, 2, 0.83437854]], [[43, 2, 2, 0.46126643], [47, 7, 3, 1.0]]]\n",
            "steping_twistingC#  generate done!\n",
            "info is \n",
            " [[[48, 1, 3, 0.6526089], [49, 4, 2, 0.56849337], [46, 8, 2, 0.7000447], [46, 10, 2, 1.0]], [[41, 1, 2, 1.0], [41, 3, 2, 0.8738157], [41, 7, 1, 0.7536055], [41, 11, 2, 0.8013046], [41, 13, 5, 0.8379308], [41, 18, 3, 0.9859673], [42, 20, 3, 0.6297867]], [[46, 0, 4, 0.5513308], [46, 4, 1, 0.545992], [46, 7, 3, 1.0], [41, 8, 2, 0.36313146], [46, 10, 2, 0.59816706]], [[44, 0, 1, 0.3742021], [53, 9, 2, 1.0], [53, 11, 3, 0.74707264], [49, 16, 3, 0.5238264], [49, 19, 1, 0.5899905]], [[53, 0, 3, 0.8106905], [54, 2, 1, 0.55573064], [51, 4, 3, 0.5319499], [51, 7, 2, 0.636994], [49, 10, 4, 0.7375264], [48, 13, 1, 1.0]], [[44, 0, 1, 0.38575256], [53, 9, 2, 1.0], [53, 11, 3, 0.7495224], [49, 16, 3, 0.51937383], [49, 19, 1, 0.5874815]], [[48, 0, 1, 0.60890305], [58, 2, 1, 0.37521663], [60, 4, 2, 0.5955817], [61, 11, 2, 0.6328062], [60, 15, 2, 0.9266952], [60, 17, 1, 0.805454], [60, 21, 2, 1.0]], [[46, 1, 3, 0.92609155], [46, 4, 1, 0.8565904], [46, 7, 1, 0.7713889], [46, 13, 1, 0.88813317], [46, 18, 2, 1.0]], [[46, 1, 3, 0.7321396], [46, 4, 2, 0.38470733], [44, 16, 2, 0.78295416], [48, 18, 2, 0.6520277], [48, 20, 2, 1.0]], [[46, 1, 3, 1.0], [46, 4, 1, 0.6476356], [46, 7, 1, 0.61950034], [46, 11, 2, 0.691834], [46, 13, 2, 0.70588404], [46, 15, 3, 0.69908434], [46, 18, 3, 0.9020654]], [[48, 1, 1, 0.9843062], [48, 4, 1, 0.4664598], [48, 7, 1, 0.9231185], [48, 18, 3, 1.0], [49, 20, 3, 0.7433088]], [[49, 7, 2, 0.51890415], [48, 9, 5, 1.0], [44, 16, 3, 0.48366877], [44, 19, 1, 0.59194803]], [[48, 7, 2, 0.6606837], [48, 9, 4, 1.0], [46, 13, 2, 0.34470192], [44, 19, 1, 0.51530164]], [[46, 5, 3, 1.0]], [[46, 2, 1, 0.4524477], [48, 3, 3, 0.82692593], [48, 6, 2, 1.0]], [[44, 1, 3, 0.6082624], [44, 4, 1, 0.36125907], [42, 7, 2, 0.58028805], [39, 9, 2, 0.63212144], [44, 13, 3, 1.0], [54, 15, 2, 0.45336086], [51, 16, 1, 0.70549923], [54, 17, 1, 0.676022], [60, 21, 2, 0.7606673]]]\n",
            "steping_twistingD  generate done!\n",
            "info is \n",
            " [[[49, 1, 3, 1.0], [50, 5, 4, 0.69449836], [49, 8, 1, 0.6197497], [47, 10, 2, 0.8227039]], [[45, 0, 1, 0.42191732], [54, 7, 2, 0.89904857], [54, 9, 2, 1.0], [54, 11, 2, 0.81024516], [50, 16, 3, 0.5364768], [50, 19, 1, 0.47718146]], [[47, 0, 5, 0.582775], [45, 16, 3, 1.0], [45, 19, 2, 0.5442503], [49, 20, 2, 0.9514313], [42, 22, 2, 0.7481893]], [[47, 2, 1, 0.3537395], [49, 3, 4, 0.6074602], [49, 7, 2, 1.0], [49, 9, 2, 0.68288845]], [[45, 0, 1, 0.67526096], [54, 2, 2, 0.6147614], [57, 4, 2, 0.74382347], [54, 9, 4, 1.0], [57, 15, 3, 0.8200163], [57, 21, 2, 0.87841034]], [[50, 0, 1, 0.43444294], [59, 2, 2, 0.36219564], [62, 4, 2, 0.3356704], [59, 9, 2, 1.0], [59, 11, 3, 0.8488491], [62, 15, 3, 0.57367635], [55, 16, 2, 0.46451274], [62, 21, 2, 0.4910933]], [[49, 7, 2, 0.815108], [49, 9, 2, 1.0], [49, 11, 3, 0.6481182], [45, 16, 3, 0.47674164], [45, 19, 1, 0.5577118]], [[47, 1, 2, 0.5326799], [45, 6, 1, 1.0], [42, 15, 2, 0.37550938], [42, 18, 2, 0.5455607], [42, 21, 2, 0.5953291]], [[47, 2, 1, 0.34062856], [49, 3, 4, 0.48599827], [49, 7, 2, 1.0], [49, 9, 2, 0.831663]], [[42, 1, 3, 0.6114523], [43, 4, 2, 0.52537394], [40, 8, 2, 0.6786728], [40, 10, 2, 1.0]], [[47, 2, 4, 0.8230325], [45, 15, 3, 0.63620687], [49, 18, 2, 0.8235826], [49, 20, 2, 1.0]], [[49, 0, 1, 0.60419995], [59, 2, 1, 0.37378773], [61, 4, 2, 0.60400814], [62, 11, 2, 0.6568269], [61, 15, 2, 0.9257773], [61, 17, 1, 0.81147027], [61, 21, 2, 1.0]], [[49, 9, 5, 1.0], [45, 16, 3, 0.48914126], [45, 19, 1, 0.4132249]], [[49, 0, 1, 0.6005989], [59, 2, 1, 0.3713755], [61, 4, 2, 0.5986144], [62, 11, 2, 0.6812649], [61, 15, 2, 0.94094366], [61, 17, 1, 0.8236725], [61, 21, 2, 1.0]], [[47, 0, 1, 0.33395356], [54, 3, 2, 0.86286664], [54, 9, 3, 1.0], [52, 12, 1, 0.76261896], [50, 17, 1, 0.6244858]], [[47, 2, 1, 0.4311386], [49, 3, 3, 0.83358574], [49, 6, 2, 1.0]]]\n",
            "steping_twistingD#  generate done!\n",
            "info is \n",
            " [[[50, 1, 3, 0.6881163], [51, 5, 2, 0.4366135], [48, 8, 2, 0.7578564], [48, 10, 2, 1.0]], [[48, 2, 4, 0.8410239], [46, 15, 3, 0.6248172], [50, 18, 2, 0.7861834], [50, 20, 2, 1.0]], [[50, 1, 3, 1.0], [51, 5, 4, 0.70156735], [50, 8, 1, 0.67396194], [48, 10, 2, 0.8217571]], [[43, 0, 1, 0.52602464], [53, 2, 1, 0.3437675], [55, 4, 2, 0.60679895], [56, 11, 2, 0.6735754], [55, 15, 2, 0.9479412], [55, 17, 1, 0.8195331], [55, 21, 2, 1.0]], [[50, 1, 3, 1.0], [51, 3, 5, 0.93549615], [51, 8, 1, 0.8221977]], [[48, 0, 1, 0.37967932], [58, 2, 1, 0.38041943], [60, 4, 2, 0.43169746], [60, 15, 3, 1.0], [60, 21, 2, 0.92576337]], [[51, 0, 1, 0.37797067], [60, 7, 2, 0.96073735], [60, 9, 2, 1.0], [60, 11, 2, 0.8724773], [56, 16, 4, 0.56608826]], [[51, 7, 2, 0.6832912], [50, 9, 3, 1.0], [48, 14, 1, 0.52706003], [46, 16, 3, 0.447618], [46, 19, 1, 0.53886014]], [[50, 1, 3, 1.0], [50, 4, 1, 0.52308], [50, 7, 1, 0.7930481], [50, 18, 3, 0.8825202], [51, 21, 2, 0.66618514]], [[48, 1, 2, 0.46272272], [46, 6, 1, 1.0], [43, 15, 2, 0.40819082], [43, 18, 2, 0.5146321], [43, 22, 1, 0.57734996]], [[50, 0, 1, 0.53170437], [60, 2, 1, 0.45053548], [62, 4, 2, 0.6171592], [63, 11, 2, 0.6712287], [62, 15, 3, 1.0], [62, 21, 2, 0.8767248]], [[48, 1, 2, 0.60774356], [38, 5, 2, 0.64079976], [48, 8, 2, 0.39064172], [44, 15, 2, 0.87410825], [44, 17, 1, 0.75166285], [50, 21, 2, 1.0]], [[48, 0, 3, 0.4206492], [46, 6, 1, 1.0], [43, 15, 2, 0.49163526], [43, 18, 2, 0.5089603], [43, 22, 1, 0.6096225]], [[51, 1, 4, 0.9271948], [50, 4, 1, 1.0], [46, 7, 2, 0.92977506], [46, 9, 2, 0.7375232]], [[48, 5, 3, 1.0]], [[48, 2, 4, 0.8124648], [46, 15, 3, 0.608043], [50, 18, 2, 0.7337041], [50, 20, 2, 1.0]]]\n",
            "steping_twistingE  generate done!\n",
            "info is \n",
            " [[[51, 1, 3, 1.0], [52, 5, 4, 0.65542746], [51, 8, 2, 0.9843052]], [[47, 0, 1, 0.75153404], [56, 2, 1, 0.54680043], [59, 4, 2, 0.7301519], [56, 9, 5, 0.7629348], [59, 15, 3, 1.0], [59, 21, 2, 0.9810593]], [[51, 0, 1, 0.3962168], [61, 2, 1, 0.38390794], [63, 4, 2, 0.4065919], [63, 15, 2, 1.0], [63, 17, 1, 0.8113689], [63, 21, 2, 0.9746709]], [[52, 2, 1, 0.35231242], [54, 3, 4, 0.5295235], [54, 7, 2, 1.0], [54, 9, 2, 0.85383606]], [[49, 1, 3, 0.52401626], [39, 5, 2, 0.6117172], [49, 8, 3, 0.36803436], [45, 15, 2, 0.8022546], [45, 17, 1, 0.7571571], [51, 21, 2, 1.0]], [[52, 0, 1, 0.4150137], [61, 7, 2, 0.89241713], [61, 9, 2, 1.0], [61, 11, 2, 0.8044797], [57, 16, 3, 0.54637563], [57, 19, 1, 0.48144022]], [[51, 1, 3, 1.0], [51, 4, 1, 0.9480849], [51, 7, 1, 0.85453624], [51, 13, 1, 0.9612234], [51, 18, 2, 0.74423087]], [[51, 0, 1, 0.7082295], [61, 2, 1, 0.4642357], [63, 4, 2, 0.65000165], [61, 10, 1, 0.5192364], [64, 11, 2, 0.4744055], [63, 15, 2, 0.98274845], [63, 17, 1, 0.8033105], [63, 21, 2, 1.0]], [[54, 2, 4, 0.8084266], [52, 15, 3, 0.6318866], [56, 18, 2, 0.77308905], [56, 20, 2, 1.0]], [[51, 0, 2, 0.91379], [47, 3, 2, 0.47919777], [44, 16, 3, 0.3471547], [44, 19, 1, 0.6974121]], [[52, 1, 4, 0.8615153], [51, 4, 1, 1.0], [47, 7, 2, 0.87676156], [47, 9, 2, 0.7178313]], [[49, 2, 1, 0.39082578], [51, 4, 2, 0.55913705], [51, 15, 3, 1.0], [51, 21, 2, 0.90374213]], [[52, 0, 1, 0.82151306], [52, 3, 2, 0.9827785], [51, 6, 1, 0.37154323], [45, 9, 3, 1.0], [51, 13, 1, 0.9071304], [52, 16, 3, 0.6353833], [52, 19, 2, 0.9949206]], [[51, 1, 3, 1.0], [52, 3, 5, 0.79763854], [52, 8, 1, 0.6696798]], [[49, 1, 3, 1.0], [47, 6, 1, 0.7810546], [47, 16, 1, 0.47222477], [44, 18, 2, 0.64744747], [44, 22, 1, 0.69944495]], [[52, 0, 2, 0.55857706], [59, 3, 2, 0.76471686], [59, 9, 3, 1.0], [57, 12, 2, 0.64023], [59, 15, 2, 0.96868235]]]\n",
            "steping_twistingF  generate done!\n",
            "info is \n",
            " [[[52, 1, 3, 0.63556904], [53, 3, 2, 0.39680445], [53, 5, 2, 0.39168137], [50, 8, 2, 0.7310041], [50, 10, 2, 1.0]], [[50, 1, 3, 0.46562222], [40, 5, 2, 0.6014537], [50, 8, 3, 0.41002348], [46, 15, 2, 0.81251645], [46, 17, 1, 0.7115056], [52, 21, 2, 1.0]], [[50, 2, 1, 0.46740204], [52, 3, 3, 0.85539097], [52, 6, 2, 1.0]], [[50, 7, 2, 0.66511804], [50, 9, 3, 1.0], [48, 14, 1, 0.36889166], [46, 19, 1, 0.4962028]], [[50, 1, 4, 1.0], [45, 7, 4, 0.9433566]], [[50, 0, 4, 0.6620961], [50, 4, 1, 0.40101856], [48, 16, 4, 0.9728271], [52, 20, 2, 1.0]], [[50, 1, 4, 1.0], [45, 7, 2, 0.864326], [45, 9, 2, 0.6900264]], [[45, 1, 3, 0.63101923], [46, 3, 3, 0.5374211], [43, 7, 4, 1.0]], [[45, 1, 1, 1.0], [48, 4, 1, 0.38136494], [45, 7, 1, 0.90775114], [45, 18, 3, 0.9393079], [46, 20, 3, 0.6740108]], [[50, 5, 2, 1.0], [53, 7, 1, 0.6943402]], [[50, 1, 4, 1.0], [48, 4, 3, 0.67386615], [48, 7, 1, 0.7920648], [45, 10, 2, 0.8238325]], [[50, 1, 3, 0.98765415], [50, 4, 1, 0.9669113], [50, 7, 1, 0.876525], [50, 11, 3, 1.0]], [[50, 0, 2, 0.6682285], [57, 3, 2, 0.7512767], [57, 9, 6, 1.0], [55, 12, 2, 0.7631738], [57, 15, 2, 0.93521696], [55, 18, 1, 0.37699932]], [[50, 5, 2, 1.0], [53, 7, 1, 0.405145]], [[50, 1, 3, 1.0], [50, 4, 1, 0.79354244], [50, 7, 1, 0.68387514], [50, 11, 2, 0.7355425], [50, 13, 2, 0.7890538], [50, 15, 3, 0.61111015], [50, 18, 3, 0.9778598]], [[50, 0, 5, 0.939595], [48, 7, 2, 0.9915793], [45, 10, 3, 1.0], [45, 13, 1, 0.88926744]]]\n",
            "steping_twistingF#  generate done!\n",
            "info is \n",
            " [[[49, 1, 2, 0.6705668], [49, 3, 3, 0.63601434], [46, 7, 2, 1.0]], [[44, 0, 1, 0.48228115], [53, 2, 2, 0.44595197], [56, 4, 2, 0.367291], [53, 9, 5, 1.0], [56, 15, 3, 0.72102314], [49, 16, 2, 0.45929283], [56, 21, 2, 0.53819555]], [[51, 7, 2, 0.63785714], [51, 9, 3, 1.0], [49, 14, 1, 0.40364113], [47, 19, 1, 0.49253452]], [[46, 1, 3, 0.7906376], [47, 5, 2, 0.55599123], [44, 10, 2, 1.0]], [[44, 0, 1, 0.7756003], [53, 2, 1, 0.6004208], [56, 4, 2, 0.78174615], [53, 9, 5, 0.89701486], [56, 15, 3, 0.9957494], [56, 21, 2, 1.0]], [[47, 0, 1, 0.40294382], [56, 2, 1, 0.33771205], [56, 9, 4, 1.0], [59, 15, 2, 0.43511683]], [[46, 7, 2, 0.64821094], [46, 9, 3, 1.0], [44, 14, 1, 0.39191198], [42, 19, 1, 0.49328294]], [[47, 2, 1, 0.43573335], [49, 3, 3, 0.82104427], [49, 6, 2, 1.0]], [[46, 0, 3, 0.5659967], [46, 3, 2, 0.6665142], [44, 16, 3, 0.86641115], [41, 18, 2, 0.47173175], [44, 19, 2, 1.0], [41, 22, 2, 0.76455134]], [[46, 0, 1, 0.46588615], [42, 3, 2, 0.4847257], [39, 19, 1, 0.5392689]], [[46, 0, 1, 0.5957966], [42, 3, 2, 0.4837693], [39, 19, 1, 0.5679027]], [[47, 3, 2, 0.47875878], [49, 7, 2, 0.3820199], [44, 19, 1, 0.51282865]], [[47, 1, 2, 0.5986337], [47, 3, 3, 0.5902652], [44, 7, 2, 1.0]], [[47, 7, 2, 0.6289148], [46, 9, 5, 1.0], [42, 16, 3, 0.5294216], [42, 19, 1, 0.48234466]], [[47, 1, 2, 0.86152965], [42, 5, 2, 0.37680092], [42, 7, 2, 0.84860045], [42, 9, 2, 0.8949226], [47, 13, 1, 0.8330851], [46, 15, 2, 0.77131844], [46, 17, 1, 0.747031], [46, 21, 2, 1.0]], [[49, 0, 1, 0.38694665], [58, 2, 2, 0.34215367], [58, 7, 2, 0.9836058], [58, 9, 2, 1.0], [58, 11, 2, 0.81252587], [54, 16, 4, 0.5038802]]]\n",
            "steping_twistingG  generate done!\n",
            "info is \n",
            " [[[54, 1, 3, 0.64432096], [55, 3, 3, 0.5447176], [52, 7, 3, 1.0], [52, 10, 1, 0.3419262]], [[52, 2, 4, 0.38065165], [52, 9, 2, 0.41797873], [48, 15, 2, 0.74363387], [48, 17, 1, 0.61231035], [54, 21, 3, 1.0]], [[52, 2, 1, 0.3508107], [54, 3, 4, 0.6149606], [54, 7, 2, 1.0], [54, 9, 2, 0.71506196]], [[50, 0, 1, 0.53223306], [59, 2, 2, 0.5025316], [62, 4, 2, 0.4190299], [59, 9, 5, 1.0], [62, 15, 3, 0.8039016], [55, 16, 2, 0.44595438], [62, 21, 2, 0.63408595]], [[52, 1, 4, 0.92466116], [47, 7, 3, 1.0]], [[50, 1, 4, 1.0], [47, 6, 3, 0.5660822]], [[52, 1, 4, 0.9525804], [47, 7, 4, 1.0]], [[52, 2, 1, 0.36585382], [54, 3, 4, 0.55063665], [54, 7, 2, 1.0], [54, 9, 2, 0.77493393]], [[47, 1, 3, 1.0], [47, 4, 1, 0.6112118], [47, 7, 1, 0.646588], [47, 13, 2, 0.5762588], [47, 15, 3, 0.702225], [47, 18, 3, 0.8483748], [48, 21, 2, 0.54463786]], [[55, 7, 2, 1.0], [55, 9, 2, 0.9438836], [54, 15, 1, 0.36207905], [57, 18, 2, 0.58669114]], [[52, 0, 2, 0.94507784], [48, 3, 2, 0.46735847], [45, 16, 3, 0.3425093], [45, 19, 1, 0.7025727]], [[55, 1, 4, 1.0], [54, 4, 1, 0.9590237], [50, 7, 2, 0.9745552], [50, 9, 2, 0.75469697]], [[47, 1, 3, 0.59170294], [48, 3, 3, 0.4690802], [45, 8, 2, 0.6668524], [45, 10, 2, 1.0]], [[52, 0, 3, 0.45003334], [52, 3, 2, 0.49956143], [50, 16, 2, 0.7619861], [54, 18, 2, 0.72510934], [54, 20, 2, 1.0]], [[52, 1, 3, 0.686399], [50, 6, 1, 0.99651694], [50, 16, 1, 0.80256456], [47, 18, 3, 1.0], [47, 21, 2, 0.9188835]], [[55, 1, 2, 0.60347193], [59, 3, 2, 0.34723932], [50, 14, 2, 1.0], [52, 21, 2, 0.47584227]]]\n",
            "steping_twistingG#  generate done!\n",
            "info is \n",
            " [[[48, 1, 3, 1.0], [49, 3, 3, 0.70598865], [49, 6, 3, 0.69906175]], [[48, 0, 1, 0.62827075], [58, 2, 1, 0.38671586], [60, 4, 2, 0.5941673], [61, 11, 2, 0.60735255], [60, 15, 2, 0.9306491], [60, 17, 1, 0.8120669], [60, 21, 2, 1.0]], [[49, 1, 4, 1.0], [44, 7, 4, 0.93156976]], [[49, 2, 2, 0.87164533], [49, 4, 6, 0.8879175], [49, 10, 2, 1.0]], [[49, 1, 3, 0.8486905], [49, 4, 1, 0.77226585], [49, 7, 1, 0.6952031], [49, 13, 1, 0.8131425], [49, 18, 3, 1.0]], [[53, 2, 2, 0.70062464], [53, 4, 2, 0.6117632], [55, 9, 2, 1.0], [56, 12, 1, 0.53962886], [56, 21, 2, 0.96170825]], [[55, 1, 3, 1.0], [55, 4, 1, 0.6313305], [55, 7, 1, 0.6205919], [55, 13, 2, 0.69161284], [55, 15, 3, 0.70145154], [55, 18, 3, 0.8889116], [56, 21, 2, 0.53735244]], [[49, 1, 4, 0.86595976], [48, 4, 1, 1.0], [44, 7, 2, 0.8757952], [44, 9, 2, 0.7121034]], [[49, 1, 3, 1.0], [49, 4, 1, 0.96141523], [49, 7, 1, 0.83546424], [49, 11, 2, 0.5684185]], [[48, 1, 3, 0.77591723], [49, 4, 2, 0.6914274], [46, 7, 3, 0.91014725], [46, 10, 2, 1.0]], [[49, 1, 3, 1.0], [49, 4, 1, 0.42858046], [46, 15, 2, 0.5565134], [44, 18, 2, 0.439154], [44, 22, 1, 0.6413495]], [[55, 1, 1, 0.95797276], [55, 4, 1, 0.4244997], [55, 7, 1, 0.9382864], [55, 18, 3, 1.0], [56, 20, 3, 0.73949975]], [[49, 3, 2, 0.842739], [51, 6, 3, 0.6161228], [48, 14, 1, 0.45355248], [46, 16, 3, 0.39314622], [46, 19, 1, 0.5178245]], [[55, 1, 3, 1.0], [56, 4, 4, 0.9537432], [56, 8, 1, 0.7791721]], [[49, 0, 1, 0.7742397], [58, 2, 1, 0.623041], [61, 4, 2, 0.8008541], [58, 9, 5, 0.941055], [61, 15, 3, 0.9844109], [61, 21, 2, 1.0]], [[51, 0, 4, 0.5641241], [51, 4, 1, 0.62166077], [49, 16, 3, 0.8455029], [46, 18, 2, 0.42028797], [49, 19, 2, 1.0], [46, 22, 2, 0.7753464]]]\n",
            "steping_twistingA  generate done!\n",
            "info is \n",
            " [[[49, 1, 3, 1.0], [50, 5, 4, 0.6766931], [49, 8, 1, 0.7431891], [47, 10, 2, 0.6756658]], [[47, 3, 2, 0.65317076], [47, 12, 3, 0.44929], [44, 16, 3, 0.36967385], [44, 19, 1, 0.535462]], [[47, 0, 1, 0.5765312], [56, 2, 2, 0.55566883], [59, 4, 2, 0.5465291], [56, 9, 4, 1.0], [59, 15, 3, 0.7842841], [59, 21, 2, 0.75899893]], [[47, 2, 1, 0.3775938], [49, 3, 4, 0.7572938], [49, 7, 1, 1.0]], [[47, 1, 4, 1.0], [45, 7, 1, 0.46644664], [42, 10, 2, 0.78628874]], [[47, 0, 4, 0.5452851], [47, 4, 1, 0.54777884], [47, 7, 3, 1.0], [42, 8, 2, 0.4039695], [47, 10, 4, 0.6295957]], [[47, 1, 3, 1.0], [47, 4, 1, 0.7881323], [47, 7, 1, 0.6818616], [47, 11, 2, 0.73273134], [47, 13, 2, 0.7873094], [47, 15, 3, 0.61588985], [47, 18, 3, 0.97803396]], [[47, 0, 5, 0.76260495], [45, 4, 3, 0.53714436], [45, 7, 2, 0.84425884], [42, 10, 3, 0.9236128], [42, 13, 1, 1.0]], [[47, 3, 4, 0.37833852], [47, 7, 2, 1.0], [47, 9, 2, 0.97618246], [49, 18, 2, 0.55162305]], [[49, 1, 3, 1.0], [50, 3, 4, 0.7388982], [50, 7, 2, 0.6057044]], [[44, 1, 1, 1.0], [47, 4, 1, 0.3751501], [44, 7, 1, 0.92132866], [44, 16, 2, 0.7541049], [44, 18, 3, 0.9313191], [45, 20, 3, 0.6548693]], [[47, 1, 2, 0.47043583], [42, 7, 3, 0.5816545], [42, 10, 4, 0.6430186], [42, 14, 2, 1.0], [44, 21, 2, 0.3928358]], [[47, 0, 3, 0.52566326], [45, 6, 1, 1.0], [42, 15, 2, 0.52634984], [42, 19, 3, 0.58229256], [42, 22, 1, 0.79073936]], [[47, 2, 1, 0.37798697], [47, 5, 1, 0.46530536], [49, 7, 2, 0.7910373], [49, 9, 2, 1.0], [50, 12, 2, 0.60174143], [50, 21, 2, 0.87134045]], [[47, 1, 3, 1.0], [47, 4, 1, 0.9694035], [47, 7, 1, 0.87836635], [47, 11, 3, 0.9778328]], [[47, 1, 3, 1.0], [47, 4, 1, 0.39171937], [42, 7, 2, 0.82189023], [42, 9, 2, 0.70292705]]]\n",
            "steping_twistingA#  generate done!\n",
            "info is \n",
            " [[[50, 1, 3, 0.6364143], [51, 4, 2, 0.56476307], [48, 8, 2, 0.6964459], [48, 10, 2, 1.0]], [[41, 1, 4, 0.3800639], [43, 2, 4, 0.37135932], [55, 9, 2, 0.36765927], [53, 13, 2, 0.67207], [51, 15, 2, 0.6994911], [51, 17, 1, 0.71897465], [57, 21, 3, 1.0]], [[48, 2, 1, 0.3894241], [50, 3, 4, 0.76376593], [50, 7, 1, 1.0]], [[45, 0, 1, 0.62469953], [55, 2, 1, 0.387425], [57, 4, 2, 0.5969835], [58, 11, 2, 0.6139124], [57, 15, 2, 0.94542205], [57, 17, 1, 0.8154048], [57, 21, 2, 1.0]], [[48, 2, 1, 0.44322866], [50, 3, 3, 0.8196358], [50, 6, 2, 1.0]], [[46, 2, 5, 0.4387442], [50, 7, 3, 1.0]], [[46, 2, 3, 0.4231818], [50, 7, 3, 1.0]], [[45, 7, 2, 0.6659126], [45, 9, 4, 1.0], [41, 16, 3, 0.35785565], [41, 19, 1, 0.5411656]], [[51, 1, 3, 0.98807454], [51, 4, 1, 0.3648527], [46, 5, 2, 0.47800347], [46, 7, 2, 0.78777486], [46, 9, 2, 0.95355123], [51, 13, 2, 0.9353343], [50, 15, 2, 0.857396], [46, 16, 1, 0.3488262], [50, 17, 1, 0.6219626], [50, 21, 2, 1.0]], [[48, 1, 3, 1.0], [48, 4, 1, 0.68475246], [48, 7, 1, 0.6330936], [48, 11, 2, 0.7122547], [48, 13, 2, 0.73467195], [48, 15, 3, 0.6919725], [48, 18, 3, 0.9345793]], [[55, 1, 3, 0.46285373], [45, 5, 2, 0.5977822], [55, 9, 2, 0.4335798], [51, 15, 2, 0.80045706], [51, 17, 1, 0.6876889], [57, 21, 2, 1.0]], [[48, 1, 2, 0.43187323], [43, 14, 2, 1.0]], [[51, 1, 4, 1.0], [50, 4, 1, 0.9995893], [46, 7, 2, 0.96651375], [46, 9, 2, 0.75066715]], [[43, 1, 2, 0.5318976], [33, 5, 2, 0.6057172], [43, 8, 2, 0.3619427], [39, 15, 2, 0.8134055], [39, 17, 1, 0.7538308], [45, 21, 2, 1.0]], [[48, 2, 2, 0.9075773], [48, 4, 6, 0.8911334], [48, 10, 2, 1.0]], [[46, 0, 1, 0.7468465], [46, 4, 1, 0.8214573], [46, 7, 1, 0.73453325], [39, 9, 3, 0.8931779], [41, 11, 2, 0.80564743], [45, 13, 2, 0.6108833], [46, 15, 3, 1.0], [46, 18, 3, 0.8502033]]]\n",
            "steping_twistingB  generate done!\n",
            "info is \n",
            " [[[51, 1, 3, 0.8071468], [52, 5, 2, 0.5749563], [49, 10, 2, 1.0]], [[49, 2, 2, 0.7376958], [49, 4, 2, 0.6446691], [51, 10, 1, 1.0], [52, 12, 1, 0.5397936], [52, 21, 2, 0.9905]], [[49, 0, 1, 0.62244666], [58, 2, 2, 0.59356225], [61, 4, 2, 0.65759045], [58, 9, 4, 1.0], [61, 15, 3, 0.8200505], [61, 21, 2, 0.8217519]], [[49, 0, 1, 0.52989393], [59, 2, 1, 0.49432263], [61, 4, 2, 0.45607737], [58, 9, 3, 0.6797002], [61, 15, 3, 1.0], [61, 21, 2, 0.7023847]], [[49, 2, 2, 0.82783496], [49, 4, 6, 0.85456544], [49, 10, 2, 1.0]], [[49, 0, 2, 0.4747724], [49, 2, 3, 0.5247234], [51, 18, 4, 1.0]], [[51, 3, 2, 0.7540255], [51, 9, 3, 1.0], [49, 12, 1, 0.7748018], [47, 17, 1, 0.80808103]], [[49, 1, 2, 0.7581788], [49, 3, 3, 0.68704665], [46, 6, 3, 1.0]], [[49, 5, 3, 1.0], [52, 7, 3, 0.4712902], [52, 10, 1, 0.37795264]], [[49, 0, 2, 0.7656031], [42, 1, 2, 0.7000086], [42, 3, 2, 0.7030355], [37, 5, 3, 0.95225996], [37, 8, 2, 1.0]], [[49, 0, 4, 1.0], [49, 4, 2, 0.5926126], [47, 15, 4, 0.57595843], [47, 19, 1, 0.35813323], [44, 22, 1, 0.69335747]], [[51, 1, 3, 0.5892279], [52, 3, 3, 0.46427467], [49, 8, 2, 0.6721366], [49, 10, 2, 1.0]], [[49, 5, 3, 1.0], [52, 7, 3, 0.76020455], [52, 10, 1, 0.39955205]], [[49, 0, 3, 0.4704889], [47, 6, 2, 1.0], [44, 15, 2, 0.51861995], [44, 19, 3, 0.51458114], [44, 22, 1, 0.6748885]], [[49, 3, 4, 0.46390662], [49, 7, 2, 1.0], [49, 9, 2, 0.95542264]], [[42, 1, 3, 0.5270813], [42, 4, 1, 0.37624934], [40, 7, 2, 0.5035564], [37, 9, 2, 0.5522325], [42, 13, 3, 1.0], [52, 15, 2, 0.4763598], [49, 16, 1, 0.5622552], [52, 17, 1, 0.6870439], [58, 21, 2, 0.8367786]]]\n",
            "tripletC  generate done!\n",
            "info is \n",
            " [[[50, 0, 1, 0.54037136], [48, 6, 2, 1.0], [45, 15, 2, 0.387189], [45, 18, 2, 0.5020038], [45, 22, 1, 0.6768026]], [[45, 1, 3, 0.46100718], [35, 5, 2, 0.58904314], [45, 9, 2, 0.44249412], [41, 15, 2, 0.7885942], [41, 17, 1, 0.68187755], [47, 21, 2, 1.0]], [[45, 0, 2, 0.7248088], [38, 3, 2, 0.9267181], [33, 5, 2, 0.9135432], [33, 7, 3, 1.0]], [[40, 0, 1, 0.41280302], [52, 4, 2, 0.57056797], [53, 11, 2, 0.59413916], [52, 15, 2, 1.0], [52, 17, 1, 0.7429538], [52, 21, 2, 0.86789185]], [[48, 0, 1, 0.55987954], [57, 2, 2, 0.53939074], [60, 4, 2, 0.46881825], [57, 9, 5, 1.0], [60, 15, 3, 0.79558015], [53, 16, 2, 0.40324003], [60, 21, 2, 0.711886]], [[47, 1, 4, 0.968859], [48, 4, 3, 1.0], [48, 7, 2, 0.7549247]], [[45, 1, 3, 0.39705536], [35, 5, 3, 0.53622484], [45, 9, 4, 0.45100853], [41, 15, 2, 0.77340776], [41, 17, 1, 0.65032387], [47, 21, 3, 1.0]], [[48, 1, 4, 0.8724396], [47, 4, 1, 1.0], [43, 7, 2, 0.88411075], [43, 9, 2, 0.72183496]], [[45, 0, 7, 0.45831856], [45, 7, 2, 1.0]], [[45, 2, 2, 0.77718246], [45, 4, 6, 0.8065751], [45, 10, 2, 1.0]], [[45, 0, 2, 0.45191488], [45, 2, 3, 0.5182114], [43, 15, 2, 0.37981576], [47, 18, 4, 1.0]], [[45, 0, 2, 0.7314696], [38, 1, 2, 0.63084614], [38, 3, 2, 0.7256453], [33, 8, 3, 1.0]], [[45, 0, 3, 0.56159264], [43, 6, 1, 1.0], [40, 16, 1, 0.69190675], [40, 19, 3, 0.7182798], [40, 22, 1, 0.81789255]], [[48, 1, 4, 1.0], [47, 4, 2, 0.39173788], [45, 15, 2, 0.6273509], [43, 18, 2, 0.50227886], [43, 22, 1, 0.6363631]], [[47, 1, 1, 1.0], [50, 4, 1, 0.36507106], [47, 7, 1, 0.9239319], [47, 16, 2, 0.7474187], [47, 18, 3, 0.9264561], [48, 20, 3, 0.64021486]], [[45, 0, 1, 0.37831983], [41, 3, 2, 0.48468143], [38, 19, 1, 0.51601124]]]\n",
            "tripletC#  generate done!\n",
            "info is \n",
            " [[[51, 0, 1, 0.5359022], [49, 6, 2, 1.0], [46, 18, 2, 0.49077266], [46, 22, 1, 0.6354802]], [[56, 1, 3, 0.544055], [56, 4, 1, 0.38150916], [54, 7, 2, 0.5187655], [51, 9, 2, 0.5578842], [56, 13, 3, 1.0], [66, 15, 2, 0.47581562], [63, 16, 1, 0.5738372], [66, 17, 1, 0.6889136], [72, 21, 2, 0.8315877]], [[46, 2, 1, 0.34288946], [48, 3, 4, 0.6626335], [48, 7, 2, 1.0], [48, 9, 2, 0.65296704]], [[41, 1, 3, 0.70371705], [42, 5, 2, 0.46226057], [39, 8, 2, 0.7644878], [39, 10, 2, 1.0]], [[41, 0, 1, 0.5165985], [51, 2, 1, 0.3431872], [53, 4, 2, 0.6079267], [54, 11, 2, 0.6836049], [53, 15, 2, 0.9633544], [53, 17, 1, 0.83418715], [53, 21, 2, 1.0]], [[46, 2, 2, 0.7345332], [46, 4, 2, 0.40108553], [44, 16, 2, 0.6636685], [48, 18, 2, 0.7150079], [48, 20, 2, 1.0]], [[48, 0, 1, 0.3635038], [58, 2, 1, 0.42229173], [60, 4, 2, 0.62769955], [61, 11, 2, 0.3554455], [60, 15, 3, 1.0], [60, 21, 2, 0.92905945]], [[48, 1, 3, 0.679856], [49, 4, 2, 0.5702836], [46, 7, 3, 1.0], [46, 10, 2, 0.52313256]], [[46, 1, 4, 1.0], [42, 7, 4, 0.68515545], [41, 10, 1, 0.662403]], [[44, 1, 2, 0.8152343], [44, 3, 3, 0.70778114], [41, 6, 3, 1.0]], [[42, 7, 2, 1.0], [42, 9, 2, 0.9566645], [41, 15, 1, 0.36584145], [44, 18, 2, 0.58801216]], [[46, 0, 2, 0.5491724], [53, 3, 2, 0.74768305], [53, 9, 3, 1.0], [51, 12, 2, 0.6355973], [53, 15, 2, 0.93693423]], [[49, 1, 4, 1.0], [46, 6, 3, 0.6579324]], [[46, 0, 4, 0.5476118], [46, 4, 1, 0.4420016], [44, 16, 3, 0.831838], [44, 19, 2, 1.0], [41, 22, 2, 0.80851394]], [[49, 0, 1, 0.42789936], [58, 7, 2, 0.9066775], [58, 9, 2, 1.0], [58, 11, 2, 0.8073495], [54, 16, 3, 0.5568513], [54, 19, 1, 0.4902034]], [[46, 5, 3, 1.0], [49, 7, 3, 0.56629187], [49, 10, 1, 0.34074184]]]\n",
            "tripletD  generate done!\n",
            "info is \n",
            " [[[50, 1, 4, 1.0], [49, 4, 2, 0.43533865], [47, 15, 2, 0.5955044], [45, 18, 2, 0.5145653], [45, 22, 1, 0.6214029]], [[49, 0, 1, 0.53953314], [59, 2, 1, 0.35121426], [61, 4, 2, 0.60463744], [62, 11, 2, 0.69946647], [61, 15, 2, 0.94921887], [61, 17, 1, 0.8318116], [61, 21, 2, 1.0]], [[47, 2, 1, 0.3424948], [47, 5, 1, 0.37678546], [49, 7, 2, 0.9828827], [49, 9, 2, 1.0], [50, 12, 1, 0.3838948], [50, 21, 2, 0.8287368]], [[47, 7, 2, 0.6576909], [47, 9, 4, 1.0], [45, 13, 2, 0.3666812], [43, 16, 3, 0.349649], [43, 19, 1, 0.53933656]], [[45, 0, 2, 0.74519503], [52, 3, 2, 0.77405465], [52, 9, 6, 1.0], [50, 12, 2, 0.77307117], [52, 15, 2, 0.8585854], [50, 18, 1, 0.42597637]], [[50, 1, 4, 0.93545824], [49, 4, 1, 0.9267621], [45, 7, 2, 1.0], [45, 9, 2, 0.7913608]], [[45, 0, 4, 0.41723895], [45, 4, 2, 0.5006346], [43, 16, 2, 0.72194993], [47, 18, 2, 0.7296377], [47, 20, 2, 1.0]], [[47, 3, 2, 0.77826655], [47, 9, 3, 1.0], [45, 12, 1, 0.8186351], [43, 17, 1, 0.79520637]], [[45, 0, 1, 0.5476588], [43, 6, 2, 1.0], [40, 15, 2, 0.4348509], [40, 18, 2, 0.5105569], [40, 22, 1, 0.70961547]], [[45, 1, 3, 1.0], [45, 4, 1, 0.9768351], [45, 7, 1, 0.8643546], [45, 11, 3, 0.9585022]], [[40, 2, 1, 0.39914694], [40, 5, 1, 0.5057061], [42, 7, 3, 0.6593043], [42, 10, 1, 1.0], [43, 12, 2, 0.7629866], [43, 21, 2, 0.8946993]], [[45, 2, 1, 0.39617336], [47, 3, 4, 0.78624666], [47, 7, 1, 1.0]], [[45, 1, 1, 0.4694973], [40, 10, 4, 0.44381642], [40, 14, 2, 1.0], [42, 21, 2, 0.54056126]], [[45, 0, 2, 0.75612205], [38, 1, 2, 0.70438504], [38, 3, 2, 0.68762684], [33, 5, 3, 0.94072], [33, 8, 2, 1.0]], [[42, 0, 1, 0.33499947], [49, 3, 2, 0.8391339], [49, 9, 3, 1.0], [47, 12, 1, 0.74156773], [45, 17, 1, 0.61126256]], [[45, 1, 3, 1.0], [45, 4, 1, 0.9654668], [45, 7, 1, 0.8412162], [45, 11, 2, 0.71617556]]]\n",
            "tripletD#  generate done!\n",
            "info is \n",
            " [[[48, 0, 1, 0.5816109], [46, 6, 2, 1.0], [43, 18, 2, 0.53958845], [43, 22, 1, 0.74858415]], [[44, 1, 2, 0.8779173], [39, 5, 2, 0.38612902], [39, 7, 2, 0.86936927], [39, 9, 2, 0.9093099], [44, 13, 1, 0.83240086], [43, 15, 2, 0.78222626], [43, 17, 1, 0.76362056], [43, 21, 2, 1.0]], [[44, 0, 1, 0.5834637], [53, 2, 2, 0.5611878], [56, 4, 2, 0.53947663], [53, 9, 5, 1.0], [56, 15, 3, 0.7947883], [56, 21, 2, 0.76316726]], [[43, 0, 1, 0.55990714], [43, 4, 1, 0.40255204], [43, 7, 1, 0.67259747], [36, 9, 3, 0.49339733], [38, 11, 3, 1.0], [43, 15, 6, 0.563481], [46, 20, 1, 0.6000373]], [[43, 0, 1, 0.4157675], [55, 4, 2, 0.5723276], [56, 11, 2, 0.5925091], [55, 15, 2, 1.0], [55, 17, 1, 0.7498098], [55, 21, 2, 0.8776358]], [[46, 0, 1, 0.559448], [55, 2, 2, 0.5373754], [58, 4, 2, 0.47165808], [55, 9, 5, 1.0], [58, 15, 3, 0.78178686], [51, 16, 2, 0.40210244], [58, 21, 2, 0.7080422]], [[43, 0, 2, 0.7277405], [50, 3, 2, 0.7692139], [55, 6, 1, 0.3344058], [50, 9, 6, 1.0], [48, 12, 2, 0.8071033], [50, 15, 2, 0.8757209], [48, 18, 1, 0.41771397]], [[43, 5, 3, 1.0]], [[43, 0, 2, 0.5492444], [50, 3, 2, 0.8236109], [50, 9, 3, 0.92806494], [48, 12, 1, 0.51041096], [50, 15, 2, 1.0]], [[43, 0, 2, 1.0], [50, 3, 2, 0.75018185], [50, 9, 6, 0.9321324], [48, 12, 1, 0.81050074], [50, 15, 2, 0.3953039], [48, 18, 1, 0.7158121]], [[43, 2, 2, 0.76011664], [43, 4, 6, 0.7964886], [43, 10, 2, 1.0]], [[43, 1, 1, 0.99804115], [46, 4, 1, 0.43091938], [43, 6, 2, 1.0], [43, 18, 3, 0.9480366], [44, 20, 3, 0.5465875]], [[43, 0, 2, 0.5651681], [50, 3, 2, 1.0], [50, 9, 3, 0.9480379], [48, 12, 1, 0.67074376], [50, 15, 2, 0.79310125]], [[43, 1, 3, 1.0], [43, 4, 1, 0.90669686], [43, 7, 1, 0.7984458]], [[36, 1, 2, 0.8466988], [34, 2, 1, 0.4722143], [26, 5, 2, 0.68487656], [36, 8, 3, 0.48221502], [32, 15, 2, 0.952983], [32, 17, 1, 0.73210704], [38, 21, 2, 1.0]], [[43, 1, 3, 1.0], [43, 4, 1, 0.9481674], [43, 7, 1, 0.8543071], [43, 13, 1, 0.9621523], [43, 18, 2, 0.8075795]]]\n",
            "tripletE  generate done!\n",
            "info is \n",
            " [[[49, 1, 3, 1.0], [49, 4, 2, 0.49720478], [47, 16, 4, 0.92746425], [51, 18, 2, 0.5335152], [51, 20, 2, 0.9379444], [44, 22, 1, 0.5413082]], [[47, 0, 1, 0.39805984], [56, 9, 2, 1.0], [56, 11, 2, 0.7683047], [52, 16, 3, 0.5201634], [52, 19, 1, 0.5524637]], [[44, 1, 3, 1.0], [44, 4, 1, 0.96285945], [44, 7, 1, 0.8686472], [44, 12, 2, 0.9670558], [44, 18, 2, 0.37425753]], [[44, 0, 1, 0.66024095], [54, 2, 1, 0.4107158], [56, 4, 2, 0.601647], [54, 10, 1, 0.3768736], [57, 11, 2, 0.5468738], [56, 15, 2, 0.9578028], [56, 17, 1, 0.8101566], [56, 21, 2, 1.0]], [[45, 1, 2, 0.82642007], [40, 5, 2, 0.49637058], [40, 9, 2, 0.9189345], [45, 13, 2, 0.97054005], [44, 15, 2, 0.46131608], [40, 16, 1, 1.0], [44, 17, 1, 0.5028937], [44, 21, 2, 0.6488254]], [[45, 1, 2, 0.8435026], [40, 5, 2, 0.47145814], [40, 9, 2, 0.91825694], [45, 13, 3, 1.0], [44, 15, 2, 0.64277095], [40, 16, 1, 0.8907501], [44, 17, 2, 0.7890485], [44, 21, 2, 0.6685128]], [[44, 0, 1, 0.43123427], [54, 2, 1, 0.4470529], [56, 4, 2, 0.6642284], [57, 11, 2, 0.4469782], [56, 15, 3, 1.0], [56, 21, 2, 0.9460839]], [[44, 5, 2, 1.0], [47, 7, 1, 0.75523657]], [[44, 1, 3, 0.646038], [45, 4, 2, 0.55996424], [42, 8, 2, 0.6938966], [42, 10, 2, 1.0]], [[44, 2, 2, 0.7479298], [44, 4, 6, 0.7801807], [44, 10, 2, 1.0]], [[44, 0, 2, 0.58509374], [44, 7, 1, 0.57217956], [37, 9, 3, 0.4645125], [39, 11, 3, 1.0], [47, 20, 1, 0.6298706]], [[44, 1, 3, 1.0], [45, 5, 3, 0.72254145], [44, 8, 1, 0.5239661], [42, 10, 2, 0.9980621]], [[44, 0, 1, 0.5777968], [54, 2, 1, 0.36029068], [56, 4, 2, 0.6008052], [57, 11, 2, 0.6873929], [56, 15, 2, 0.9337919], [56, 17, 1, 0.81667936], [56, 21, 2, 1.0]], [[45, 3, 2, 0.45880565], [47, 7, 2, 0.40448907], [42, 16, 3, 0.33958504], [42, 19, 1, 0.5242316]], [[44, 2, 2, 0.7739845], [44, 4, 6, 0.81004494], [44, 10, 2, 1.0]], [[44, 1, 2, 0.7863926], [39, 5, 2, 0.484745], [42, 7, 1, 0.63299555], [39, 9, 2, 0.87480253], [44, 13, 2, 0.8910019], [39, 16, 1, 1.0], [42, 17, 1, 0.4994388]]]\n",
            "tripletF  generate done!\n",
            "info is \n",
            " [[[48, 1, 2, 0.6697881], [46, 6, 1, 1.0], [43, 18, 2, 0.57823324], [43, 21, 2, 0.6245987]], [[43, 3, 2, 0.5042825], [45, 7, 2, 0.6020453], [40, 16, 3, 0.5603754], [40, 19, 1, 0.6156867]], [[45, 1, 3, 0.5912098], [46, 3, 3, 0.4401477], [43, 8, 2, 0.66961414], [43, 10, 2, 1.0]], [[43, 1, 4, 1.0], [40, 6, 3, 0.5366354]], [[43, 0, 3, 0.4957274], [41, 6, 2, 1.0], [38, 15, 2, 0.5136347], [38, 19, 1, 0.5288288], [38, 22, 1, 0.69743496]], [[43, 1, 2, 0.6567225], [43, 3, 3, 0.63962615], [40, 7, 2, 1.0]], [[40, 0, 1, 0.5116], [50, 2, 1, 0.44762972], [52, 4, 2, 0.6718619], [53, 11, 2, 0.6526625], [52, 15, 3, 1.0], [52, 21, 2, 0.9081535]], [[43, 0, 2, 0.65855724], [43, 7, 1, 0.5559367], [36, 9, 4, 0.5401114], [38, 11, 3, 1.0], [46, 20, 1, 0.63995063]], [[43, 0, 5, 0.7530602], [41, 4, 3, 0.5185576], [41, 7, 2, 0.84224105], [38, 10, 3, 0.92612267], [38, 13, 1, 1.0]], [[40, 3, 2, 0.72212124], [40, 9, 3, 1.0], [38, 12, 1, 0.7936436], [36, 17, 1, 0.8768754]], [[45, 1, 3, 1.0], [46, 3, 6, 0.6878962], [45, 8, 2, 0.8971656]], [[41, 1, 2, 0.36171117], [45, 3, 2, 0.35978502], [36, 14, 2, 1.0]], [[43, 1, 2, 0.8932049], [43, 3, 3, 0.77726525], [40, 6, 3, 1.0]], [[43, 0, 1, 0.3943278], [52, 9, 2, 1.0], [52, 11, 2, 0.75906974], [48, 16, 3, 0.523664], [48, 19, 1, 0.5763528]], [[43, 1, 1, 0.4224647], [38, 10, 4, 0.4736219], [38, 14, 2, 1.0], [40, 21, 2, 0.52055645]], [[43, 0, 1, 0.52149343], [53, 2, 1, 0.46948633], [55, 4, 2, 0.44433933], [52, 9, 4, 0.84842396], [55, 15, 3, 1.0], [55, 21, 2, 0.64658344]]]\n",
            "tripletF#  generate done!\n",
            "info is \n",
            " [[[49, 0, 1, 0.5585183], [47, 6, 2, 1.0], [44, 18, 2, 0.500567], [44, 22, 1, 0.6599216]], [[44, 3, 4, 0.4561303], [44, 7, 2, 1.0], [44, 9, 2, 0.94975823]], [[44, 0, 1, 0.40101933], [54, 2, 1, 0.37791005], [56, 4, 2, 0.39204845], [56, 15, 3, 1.0], [56, 21, 2, 0.9563453]], [[44, 0, 1, 0.6966773], [53, 2, 2, 0.62404555], [56, 4, 2, 0.767203], [53, 9, 4, 1.0], [56, 15, 3, 0.86435086], [56, 21, 2, 0.90938336]], [[44, 0, 2, 0.75630164], [51, 3, 2, 0.775782], [51, 9, 6, 1.0], [49, 12, 2, 0.756126], [51, 15, 2, 0.8510662], [49, 18, 1, 0.43239042]], [[47, 1, 4, 0.9460455], [46, 4, 1, 1.0], [42, 7, 2, 0.93759215], [42, 9, 2, 0.74963987]], [[44, 0, 1, 0.36618847], [53, 9, 2, 1.0], [53, 11, 3, 0.7463527], [49, 16, 3, 0.52348757], [49, 19, 1, 0.58973044]], [[44, 2, 2, 0.64395833], [44, 4, 4, 0.66120917], [44, 8, 3, 0.5049707], [46, 10, 1, 0.52089924], [47, 21, 2, 0.8964379]], [[44, 1, 2, 0.33672208], [39, 14, 2, 1.0]], [[44, 1, 3, 1.0], [44, 4, 1, 0.6936855], [44, 7, 1, 0.63397336], [44, 11, 2, 0.7124146], [44, 13, 2, 0.73850346], [44, 15, 3, 0.6835209], [44, 18, 3, 0.93717164]], [[44, 1, 2, 0.7347931], [44, 3, 3, 0.66708463], [41, 7, 2, 1.0]], [[39, 0, 3, 0.8779966], [37, 4, 3, 0.8570711], [37, 7, 2, 0.7422127], [35, 10, 4, 0.6207716], [34, 13, 1, 1.0]], [[44, 5, 3, 1.0], [47, 7, 3, 0.8479118], [47, 10, 1, 0.4368303]], [[42, 3, 2, 0.88995457], [44, 7, 2, 0.6721175], [41, 14, 1, 0.49339494], [39, 16, 3, 0.43911144], [39, 19, 1, 0.53968555]], [[44, 1, 2, 1.0], [44, 3, 2, 0.8181318], [44, 7, 1, 0.70460254], [44, 11, 2, 0.7493237], [44, 13, 5, 0.8020611], [44, 18, 3, 0.9825351]], [[44, 2, 1, 0.3401918], [46, 3, 4, 0.65936065], [46, 7, 2, 1.0], [46, 9, 2, 0.66573]]]\n",
            "tripletG  generate done!\n",
            "info is \n",
            " [[[50, 1, 3, 0.7429749], [50, 4, 2, 0.3925345], [48, 16, 2, 0.77016395], [52, 18, 2, 0.6513189], [52, 20, 2, 1.0]], [[52, 2, 1, 0.49345067], [54, 3, 3, 0.9306701], [54, 6, 2, 1.0]], [[50, 0, 1, 0.5462306], [59, 2, 2, 0.5273819], [62, 4, 2, 0.44728398], [59, 9, 5, 1.0], [62, 15, 3, 0.7866612], [55, 16, 2, 0.43366587], [62, 21, 2, 0.6793718]], [[52, 0, 1, 0.38959438], [62, 2, 1, 0.38136888], [64, 4, 2, 0.43278262], [64, 15, 3, 1.0], [64, 21, 2, 0.9488081]], [[52, 1, 2, 1.0], [52, 3, 2, 0.82242197], [52, 7, 1, 0.7112268], [52, 11, 2, 0.75291306], [52, 13, 5, 0.8029269], [52, 18, 3, 0.9823541]], [[54, 0, 1, 0.39161453], [64, 2, 1, 0.43940598], [66, 4, 2, 0.6592901], [67, 11, 2, 0.3805974], [66, 15, 3, 1.0], [66, 21, 2, 0.937645]], [[55, 0, 1, 0.38183987], [64, 2, 2, 0.35383204], [64, 7, 2, 0.9617923], [64, 9, 2, 1.0], [64, 11, 2, 0.79236484], [60, 16, 2, 0.48670876]], [[52, 0, 3, 0.8882516], [50, 4, 3, 0.74523073], [50, 7, 2, 0.68720347], [48, 10, 4, 0.7360522], [47, 13, 1, 1.0]], [[52, 2, 3, 1.0], [50, 16, 3, 0.6785751], [47, 18, 2, 0.98151153], [50, 19, 1, 0.35458353], [47, 22, 1, 0.82408804]], [[52, 0, 1, 0.35344967], [62, 2, 1, 0.39342776], [64, 4, 2, 0.5048663], [64, 15, 3, 1.0], [64, 21, 2, 0.90091556]], [[55, 0, 1, 0.38091224], [64, 7, 2, 0.96743035], [64, 9, 2, 1.0], [64, 11, 2, 0.8665211], [60, 16, 4, 0.55385315]], [[52, 2, 1, 0.37893307], [52, 5, 1, 0.47501874], [54, 7, 2, 0.7651769], [54, 9, 2, 1.0], [55, 12, 2, 0.63874686], [55, 21, 2, 0.873458]], [[52, 2, 1, 0.35551995], [54, 3, 4, 0.57039344], [54, 7, 2, 1.0], [54, 9, 2, 0.78167754]], [[52, 1, 3, 1.0], [52, 4, 1, 0.6851881], [52, 7, 1, 0.6291423], [52, 11, 2, 0.7127839], [52, 13, 2, 0.7341122], [52, 15, 3, 0.6930932], [52, 18, 3, 0.9342348]], [[52, 1, 2, 0.66862935], [42, 5, 2, 0.64974797], [52, 8, 2, 0.41548607], [48, 15, 2, 0.92238116], [48, 17, 1, 0.76247954], [54, 21, 2, 1.0]], [[52, 0, 5, 0.9284417], [50, 7, 2, 0.9795121], [47, 10, 3, 1.0], [47, 13, 1, 0.90446734]]]\n",
            "tripletG#  generate done!\n",
            "info is \n",
            " [[[48, 0, 1, 0.5374857], [46, 6, 2, 1.0], [43, 18, 2, 0.50107706], [43, 22, 1, 0.6931885]], [[44, 3, 2, 0.8817844], [46, 7, 2, 0.6566425], [43, 14, 1, 0.48406285], [41, 16, 3, 0.43156126], [41, 19, 1, 0.5354152]], [[43, 3, 2, 0.7568502], [43, 9, 3, 1.0], [41, 12, 1, 0.7745839], [39, 17, 1, 0.7853732]], [[43, 0, 7, 0.45236683], [43, 7, 1, 1.0]], [[43, 0, 4, 0.5155881], [43, 4, 1, 0.5202747], [43, 7, 3, 1.0], [43, 10, 2, 0.540966]], [[43, 1, 3, 1.0], [44, 3, 3, 0.6897396], [44, 6, 3, 0.6979915]], [[41, 0, 2, 1.0], [41, 4, 3, 0.50999594], [41, 7, 1, 0.8197549], [43, 8, 2, 0.5461931], [34, 9, 2, 0.8989079], [36, 10, 4, 0.6720448], [36, 11, 2, 0.97447836], [36, 13, 2, 0.97365427], [48, 14, 3, 0.41912675], [44, 20, 1, 0.60752404]], [[44, 1, 2, 0.42709413], [39, 14, 2, 1.0]], [[44, 1, 3, 1.0], [44, 4, 2, 0.6360763], [39, 7, 3, 0.9854905], [39, 10, 2, 0.8744089]], [[43, 0, 2, 0.6348628], [36, 3, 2, 0.9292185], [31, 5, 2, 0.7695964], [31, 7, 3, 1.0]], [[41, 1, 4, 1.0], [37, 7, 4, 0.57056713], [36, 10, 2, 0.7807379]], [[43, 5, 2, 1.0], [46, 7, 1, 0.55757695]], [[43, 2, 2, 0.6183236], [43, 4, 4, 0.6244797], [43, 8, 3, 0.6057217], [44, 15, 1, 1.0], [46, 21, 2, 0.5151587]], [[44, 0, 1, 0.40115252], [53, 9, 2, 1.0], [53, 11, 2, 0.7806606], [49, 16, 3, 0.5239865], [49, 19, 1, 0.5218362]], [[46, 0, 2, 0.9058823], [46, 4, 3, 0.40923476], [46, 7, 1, 0.7378631], [48, 8, 2, 0.5024408], [39, 9, 2, 0.80717987], [41, 10, 2, 0.501309], [41, 11, 2, 1.0], [41, 13, 2, 0.93713737], [53, 14, 2, 0.36468333], [49, 20, 1, 0.7363951]], [[44, 1, 2, 0.35025713], [39, 14, 2, 1.0]]]\n",
            "tripletA  generate done!\n",
            "info is \n",
            " [[[49, 0, 3, 0.49069828], [47, 6, 2, 1.0], [44, 15, 2, 0.51238996], [44, 19, 1, 0.5077277], [44, 22, 1, 0.6680602]], [[45, 0, 1, 0.61691743], [54, 2, 2, 0.5858143], [57, 4, 2, 0.6415032], [54, 9, 4, 1.0], [57, 15, 3, 0.8061579], [57, 21, 2, 0.81500936]], [[49, 7, 2, 0.6652083], [49, 9, 4, 1.0], [47, 14, 1, 0.3440227], [45, 19, 1, 0.50811833]], [[45, 1, 4, 1.0], [44, 4, 1, 0.9707463], [40, 7, 2, 0.96005523], [40, 9, 2, 0.801896]], [[42, 0, 3, 0.50057435], [40, 6, 1, 1.0], [37, 15, 2, 0.52157605], [37, 19, 1, 0.5526321], [37, 22, 1, 0.72145545]], [[44, 1, 3, 1.0], [45, 3, 5, 0.8560316], [45, 8, 1, 0.73923194]], [[40, 3, 2, 0.60820484], [40, 12, 3, 0.54978305], [37, 16, 3, 0.3818718], [37, 19, 1, 0.5270169]], [[44, 1, 3, 0.6472372], [45, 3, 2, 0.39411741], [45, 5, 2, 0.39795777], [42, 8, 2, 0.7332767], [42, 10, 2, 1.0]], [[42, 0, 2, 0.5776542], [49, 3, 2, 0.89524543], [49, 9, 3, 0.9505564], [47, 12, 1, 0.5336216], [49, 15, 2, 1.0]], [[45, 1, 3, 0.92486954], [45, 4, 2, 0.58299464], [40, 7, 3, 1.0], [40, 10, 2, 0.94339454]], [[40, 1, 2, 1.0], [40, 3, 2, 0.71940607], [37, 6, 3, 0.8332117]], [[42, 0, 3, 0.5266703], [40, 6, 1, 1.0], [37, 15, 2, 0.73228705], [37, 19, 3, 0.71539503], [37, 22, 1, 0.75242734]], [[44, 1, 3, 1.0], [45, 3, 5, 0.8406339], [45, 8, 1, 0.7336412]], [[42, 1, 4, 1.0], [38, 7, 4, 0.59707713], [37, 10, 2, 0.78862363]], [[42, 0, 5, 0.58209187], [40, 16, 3, 0.8631474], [40, 19, 2, 1.0], [37, 22, 2, 0.8721623]], [[45, 0, 4, 1.0], [45, 4, 1, 0.4935263], [42, 15, 2, 0.46931863], [40, 18, 2, 0.37651774], [40, 22, 1, 0.6885326]]]\n",
            "tripletA#  generate done!\n",
            "info is \n",
            " [[[48, 0, 4, 0.87360066], [48, 4, 2, 0.47001716], [46, 16, 4, 0.986856], [50, 18, 2, 0.6840842], [50, 20, 2, 1.0], [43, 22, 1, 0.45160872]], [[45, 0, 1, 0.4850958], [55, 2, 1, 0.4163246], [57, 4, 2, 0.42195648], [58, 12, 1, 0.41412866], [57, 15, 3, 0.89797163], [57, 21, 2, 0.5497741]], [[43, 1, 3, 1.0], [43, 4, 2, 0.45336512], [41, 15, 5, 0.9151332], [45, 20, 2, 0.7383724], [38, 22, 1, 0.5878349]], [[45, 1, 1, 1.0], [48, 4, 1, 0.3942429], [45, 7, 1, 0.9450559], [45, 18, 3, 0.9116384], [46, 20, 3, 0.5696523]], [[45, 1, 3, 1.0], [46, 5, 4, 0.6494442], [45, 8, 2, 0.9733242]], [[39, 1, 3, 0.9889422], [39, 4, 1, 0.35167253], [34, 5, 2, 0.48650116], [34, 9, 2, 0.92919755], [39, 13, 2, 1.0], [38, 15, 2, 0.8529959], [34, 16, 1, 0.43589693], [38, 17, 1, 0.67556655], [38, 21, 2, 0.9669596]], [[46, 0, 1, 0.3894363], [55, 2, 2, 0.38171467], [55, 7, 2, 0.6926509], [55, 9, 2, 1.0], [55, 11, 2, 0.7733475], [51, 16, 2, 0.3466721]], [[41, 1, 4, 1.0], [38, 6, 3, 0.5765174]], [[41, 0, 1, 0.5704392], [51, 2, 1, 0.5192247], [53, 4, 2, 0.4937863], [50, 9, 3, 0.4950576], [53, 15, 3, 1.0], [53, 21, 2, 0.7827939]], [[46, 7, 2, 0.42225444], [45, 9, 5, 1.0], [41, 16, 3, 0.34918895], [41, 19, 1, 0.5305692]], [[45, 0, 1, 0.46866804], [55, 2, 1, 0.3871479], [57, 4, 2, 0.394825], [58, 12, 1, 0.37219635], [57, 15, 3, 0.8376271], [57, 21, 2, 0.5028327]], [[46, 7, 2, 0.52783716], [45, 9, 5, 1.0], [41, 16, 3, 0.50583255], [41, 19, 1, 0.5992665]], [[45, 1, 3, 1.0], [46, 5, 4, 0.65779126], [45, 8, 2, 0.8426609], [43, 10, 2, 0.5058985]], [[41, 0, 1, 0.41512093], [50, 9, 4, 1.0], [53, 15, 2, 0.47838327]], [[46, 7, 2, 0.46319604], [45, 9, 5, 1.0], [41, 16, 3, 0.40985736], [41, 19, 1, 0.5531438]], [[45, 1, 1, 1.0], [48, 4, 1, 0.37568438], [45, 7, 1, 0.9386298], [45, 18, 3, 0.91281915], [46, 20, 3, 0.60241973]]]\n",
            "tripletB  generate done!\n",
            "info is \n",
            " [[[49, 1, 3, 1.0], [49, 4, 2, 0.41406697], [47, 15, 5, 0.92753315], [51, 20, 2, 0.8016967], [44, 22, 1, 0.6272658]], [[47, 6, 3, 0.58277714], [46, 9, 3, 1.0], [44, 14, 1, 0.42844984], [42, 16, 3, 0.34883493], [42, 19, 1, 0.49816018]], [[44, 2, 3, 0.8626365], [42, 16, 3, 0.9421013], [39, 18, 2, 0.7810134], [42, 19, 2, 1.0], [39, 22, 2, 0.8956093]], [[47, 1, 4, 1.0], [44, 6, 3, 0.7253105]], [[44, 0, 4, 0.51911163], [44, 4, 1, 0.50079024], [42, 16, 2, 0.8159052], [46, 18, 2, 0.72008514], [46, 20, 2, 1.0]], [[46, 0, 1, 0.48572886], [56, 2, 1, 0.45652616], [58, 4, 2, 0.69786173], [59, 11, 2, 0.5415647], [58, 15, 3, 1.0], [58, 21, 2, 0.9487641]], [[44, 1, 4, 1.0], [39, 7, 2, 0.90955245], [39, 9, 2, 0.6740008]], [[42, 3, 2, 0.5182683], [44, 7, 2, 0.6303191], [39, 16, 3, 0.5646142], [39, 19, 1, 0.5616526]], [[44, 2, 4, 0.7638128], [42, 16, 2, 0.65591663], [46, 18, 2, 0.7134632], [46, 20, 2, 1.0]], [[47, 1, 2, 1.0], [47, 3, 2, 0.6773876], [44, 6, 3, 0.78182614]], [[39, 2, 2, 0.5983221], [39, 4, 4, 0.6311667], [39, 8, 3, 0.55432355], [40, 15, 1, 1.0], [42, 21, 2, 0.6761549]], [[47, 7, 2, 0.6654971], [46, 9, 3, 1.0], [44, 14, 1, 0.4900394], [42, 16, 3, 0.434693], [42, 19, 1, 0.5409114]], [[46, 0, 1, 0.5331478], [56, 2, 1, 0.48207384], [58, 4, 2, 0.4565546], [59, 12, 1, 0.4484025], [58, 15, 3, 1.0], [58, 21, 2, 0.68286425]], [[44, 1, 4, 1.0], [40, 7, 4, 0.6449572], [39, 10, 2, 0.74273264]], [[44, 0, 1, 0.5291834], [42, 6, 2, 1.0], [39, 18, 2, 0.4771241], [39, 22, 1, 0.640546]], [[46, 0, 1, 0.58188796], [56, 2, 1, 0.36628637], [58, 4, 2, 0.6072929], [59, 11, 2, 0.68083453], [58, 15, 2, 0.92667407], [58, 17, 1, 0.8145438], [58, 21, 2, 1.0]]]\n",
            "up_leapingC  generate done!\n",
            "info is \n",
            " [[[50, 5, 3, 1.0], [53, 7, 3, 0.60858476], [53, 10, 1, 0.3448469]], [[52, 0, 1, 0.65032744], [62, 2, 1, 0.397386], [64, 4, 2, 0.5925254], [62, 10, 1, 0.3517972], [65, 11, 2, 0.54211235], [64, 15, 2, 0.94910824], [64, 17, 1, 0.80355155], [64, 21, 2, 1.0]], [[59, 0, 1, 0.36841193], [69, 2, 1, 0.42463368], [71, 4, 2, 0.63624275], [72, 11, 2, 0.3603874], [71, 15, 3, 1.0], [71, 21, 2, 0.9247468]], [[53, 1, 4, 0.8868668], [48, 7, 3, 1.0]], [[53, 1, 3, 0.87361246], [53, 4, 2, 0.5574493], [48, 7, 3, 1.0], [48, 10, 4, 0.97321296], [48, 14, 2, 0.53644776]], [[52, 1, 3, 1.0], [52, 4, 1, 0.6191305], [52, 7, 1, 0.62308913], [52, 13, 2, 0.6619995], [52, 15, 3, 0.7001264], [52, 18, 3, 0.87099105], [53, 21, 2, 0.535614]], [[53, 2, 3, 1.0], [50, 15, 2, 0.6595551], [48, 18, 4, 0.9649452], [48, 22, 1, 0.78711826]], [[57, 0, 2, 0.69182664], [57, 7, 1, 0.57101375], [50, 9, 2, 0.5798686], [52, 11, 3, 1.0], [60, 20, 1, 0.66479135]], [[60, 0, 1, 0.75872654], [60, 4, 1, 0.9561775], [60, 6, 2, 0.5447453], [53, 9, 3, 1.0], [55, 11, 2, 0.6797134], [59, 13, 2, 0.65483314], [60, 15, 3, 0.91882414], [60, 18, 2, 0.9587128], [60, 20, 1, 0.8290533]], [[60, 0, 1, 0.76810026], [60, 3, 2, 0.9660038], [60, 6, 2, 0.39324668], [53, 9, 3, 1.0], [59, 13, 1, 0.93342376], [60, 16, 3, 0.68386114], [60, 19, 2, 0.98038846]], [[57, 5, 2, 1.0], [60, 7, 1, 0.72109425]], [[52, 0, 1, 0.5167372], [62, 2, 1, 0.44815427], [64, 4, 2, 0.44375288], [65, 12, 1, 0.45955837], [64, 15, 3, 0.97406], [64, 21, 2, 0.5852818]], [[55, 0, 2, 0.6214117], [62, 3, 2, 0.99463034], [62, 9, 3, 1.0], [60, 12, 1, 0.58448], [62, 15, 2, 0.9931797]], [[55, 0, 4, 0.55823153], [55, 4, 1, 0.34845048], [53, 16, 4, 1.0], [57, 20, 2, 0.9413534], [50, 22, 1, 0.4322251]], [[55, 0, 2, 0.56681573], [62, 3, 2, 1.0], [62, 9, 3, 0.93995357], [60, 12, 1, 0.66563606], [62, 15, 2, 0.7529323]], [[55, 0, 4, 0.6262422], [55, 4, 1, 0.33966944], [53, 16, 3, 0.91216666], [57, 18, 2, 0.6279186], [57, 20, 2, 1.0]]]\n",
            "up_leapingC#  generate done!\n",
            "info is \n",
            " [[[48, 5, 3, 1.0], [51, 7, 3, 0.76607347], [51, 10, 1, 0.40659317]], [[48, 0, 1, 0.59205276], [58, 2, 1, 0.37409124], [60, 4, 2, 0.6069132], [61, 11, 2, 0.66993475], [60, 15, 2, 0.9321545], [60, 17, 1, 0.8198566], [60, 21, 2, 1.0]], [[53, 1, 4, 1.0], [49, 7, 4, 0.5544068], [48, 10, 2, 0.7760883]], [[51, 0, 1, 0.4518913], [63, 4, 2, 0.33439595], [60, 7, 2, 0.89656526], [60, 9, 2, 1.0], [60, 11, 3, 0.89433867], [63, 15, 3, 0.37773618], [56, 16, 2, 0.5065876], [63, 21, 2, 0.5147637]], [[54, 2, 3, 0.43551916], [58, 7, 3, 1.0]], [[51, 4, 1, 0.5900403], [51, 12, 3, 0.5883405], [48, 16, 3, 0.38992146], [48, 19, 1, 0.52172023]], [[51, 0, 2, 0.71500814], [44, 1, 2, 0.5181137], [44, 3, 2, 0.57383317], [39, 8, 3, 1.0]], [[51, 0, 1, 0.57944804], [51, 7, 1, 0.6214736], [44, 9, 3, 0.46776477], [46, 11, 3, 1.0], [51, 15, 3, 0.46185935], [54, 20, 1, 0.6332249]], [[54, 1, 4, 1.0], [53, 4, 1, 0.98283494], [49, 7, 2, 0.98233455], [49, 9, 2, 0.80671215]], [[51, 0, 7, 0.4772551], [51, 7, 1, 1.0]], [[51, 0, 2, 0.97320944], [51, 4, 3, 0.48426035], [51, 7, 1, 0.81795645], [53, 8, 2, 0.5393075], [44, 9, 2, 0.870784], [46, 10, 4, 0.6350872], [46, 11, 2, 1.0], [46, 13, 2, 0.99101365], [58, 14, 3, 0.41497734], [54, 20, 1, 0.6432418]], [[56, 1, 3, 0.38436443], [58, 2, 4, 0.3695901], [56, 4, 1, 0.35111308], [58, 9, 2, 0.37086266], [56, 13, 2, 0.7491587], [66, 15, 2, 0.69018865], [66, 17, 1, 0.7449175], [72, 21, 3, 1.0]], [[51, 0, 5, 0.77394867], [49, 4, 3, 0.52551174], [49, 7, 2, 0.86492324], [46, 10, 3, 0.940809], [46, 13, 1, 1.0]], [[48, 7, 2, 0.8457115], [48, 9, 2, 1.0], [48, 11, 3, 0.6961091], [44, 16, 3, 0.5012298], [44, 19, 1, 0.5755466]], [[51, 0, 1, 0.38518536], [60, 2, 1, 0.3577651], [60, 9, 4, 1.0]], [[41, 0, 3, 0.7812169], [42, 2, 1, 0.5549004], [39, 4, 3, 0.53719133], [39, 7, 2, 0.6438086], [36, 10, 3, 0.7388486], [36, 13, 1, 1.0]]]\n",
            "up_leapingD  generate done!\n",
            "info is \n",
            " [[[49, 0, 4, 0.47919497], [49, 4, 3, 0.48261702], [49, 7, 3, 1.0], [49, 10, 2, 0.4626562]], [[47, 0, 2, 0.8059429], [54, 3, 2, 0.78573865], [54, 9, 6, 1.0], [52, 12, 2, 0.76934886], [54, 15, 2, 0.7728775], [52, 18, 1, 0.4716285]], [[49, 1, 3, 0.84870327], [49, 4, 1, 0.7735361], [49, 7, 1, 0.68539906], [49, 11, 2, 0.76691943], [49, 13, 5, 0.79056716], [49, 18, 3, 1.0]], [[50, 0, 1, 0.46617624], [59, 7, 2, 0.96984434], [59, 9, 2, 1.0], [59, 11, 2, 0.8601648], [55, 16, 4, 0.5543336], [62, 21, 2, 0.4656936]], [[50, 0, 1, 0.82634693], [50, 3, 2, 0.9808235], [49, 6, 1, 0.35703757], [43, 9, 3, 1.0], [49, 13, 1, 0.90363973], [50, 16, 3, 0.6235619], [50, 19, 2, 0.98486036]], [[54, 0, 3, 0.8604848], [52, 4, 3, 0.86960644], [52, 7, 2, 0.74788785], [50, 10, 4, 0.55978787], [49, 13, 1, 1.0]], [[49, 1, 3, 1.0], [49, 4, 1, 0.90103287], [49, 7, 1, 0.79311687]], [[49, 1, 3, 1.0], [49, 4, 1, 0.60806715], [49, 7, 1, 0.6544601], [49, 13, 2, 0.5482526], [49, 15, 3, 0.6985241], [49, 18, 3, 0.84275234], [50, 21, 2, 0.55861735]], [[50, 3, 2, 0.4334674], [52, 7, 2, 0.493334], [47, 16, 3, 0.45683104], [47, 19, 1, 0.57558006]], [[49, 1, 1, 0.9944549], [49, 4, 1, 0.3854886], [49, 7, 1, 0.941417], [49, 18, 3, 1.0], [50, 20, 3, 0.74861556]], [[49, 3, 4, 0.46843135], [49, 7, 2, 1.0], [49, 9, 2, 0.8970138]], [[49, 5, 2, 1.0], [52, 7, 1, 0.6249196]], [[47, 2, 1, 0.48529804], [49, 3, 3, 0.91374385], [49, 6, 2, 1.0]], [[47, 2, 1, 0.3473811], [49, 3, 4, 0.6480197], [49, 7, 2, 1.0], [49, 9, 2, 0.65914553]], [[47, 2, 1, 0.4158975], [47, 5, 1, 0.5148462], [49, 7, 3, 0.5144733], [49, 10, 1, 1.0], [50, 12, 2, 0.83979297], [50, 21, 2, 0.87578917]], [[50, 2, 2, 0.43978646], [54, 6, 3, 1.0]]]\n",
            "up_leapingD#  generate done!\n",
            "info is \n",
            " [[[48, 0, 2, 0.7236416], [41, 1, 2, 0.54455835], [41, 3, 2, 0.6173265], [36, 8, 3, 1.0]], [[38, 7, 2, 0.6622156], [38, 9, 4, 1.0], [36, 13, 2, 0.36859483], [34, 16, 3, 0.3391339], [34, 19, 1, 0.53842336]], [[38, 0, 1, 0.52251554], [48, 2, 1, 0.44953018], [50, 4, 2, 0.6674563], [51, 11, 2, 0.6763177], [50, 15, 3, 1.0], [50, 21, 2, 0.8952825]], [[46, 1, 3, 0.48739892], [48, 3, 3, 0.3852711], [46, 4, 1, 0.42069256], [48, 9, 2, 0.35435784], [46, 13, 3, 0.97807676], [56, 15, 2, 0.59614915], [53, 16, 1, 0.42865968], [56, 17, 1, 0.760288], [62, 21, 3, 1.0]], [[38, 0, 1, 0.60132575], [48, 2, 1, 0.37013692], [50, 4, 2, 0.5965997], [51, 11, 2, 0.67141706], [50, 15, 2, 0.9346476], [50, 17, 1, 0.8184615], [50, 21, 2, 1.0]], [[39, 2, 2, 0.4673264], [43, 7, 2, 1.0]], [[36, 3, 2, 0.82589716], [36, 9, 3, 1.0], [34, 12, 1, 0.7257064], [32, 17, 1, 0.6117882]], [[36, 0, 2, 1.0], [43, 3, 2, 0.7767015], [43, 9, 6, 0.9696174], [41, 12, 1, 0.8099362], [43, 15, 2, 0.46504703], [41, 18, 1, 0.68247265]], [[36, 0, 2, 0.55601364], [43, 3, 2, 0.7902352], [43, 9, 3, 0.97923255], [41, 12, 1, 0.55831164], [43, 15, 2, 1.0]], [[36, 0, 2, 0.97644323], [43, 3, 2, 0.627135], [36, 4, 3, 0.35225567], [36, 7, 1, 0.39453864], [29, 9, 3, 1.0], [31, 10, 7, 0.9345636], [29, 12, 1, 0.80475324], [41, 13, 2, 0.41624963], [44, 16, 2, 0.37655538], [41, 18, 1, 0.72519433]], [[39, 2, 2, 0.4542456], [43, 7, 2, 1.0]], [[36, 1, 3, 1.0], [36, 4, 1, 0.93942416], [36, 7, 1, 0.84591144], [36, 13, 1, 0.9589637], [36, 18, 2, 0.92881274]], [[38, 1, 1, 1.0], [41, 4, 1, 0.39932477], [38, 7, 1, 0.93146116], [38, 18, 3, 0.97696775], [39, 20, 3, 0.722933]], [[36, 0, 2, 0.58440995], [43, 3, 2, 1.0], [43, 9, 3, 0.95526373], [41, 12, 1, 0.6378827], [43, 15, 2, 0.8532143]], [[36, 1, 4, 1.0], [32, 7, 4, 0.51162606], [31, 10, 2, 0.822076]], [[36, 0, 3, 0.6024167], [34, 6, 1, 1.0], [31, 16, 1, 0.64575833], [31, 19, 3, 0.6994044], [31, 22, 1, 0.8849116]]]\n",
            "up_leapingE  generate done!\n",
            "info is \n",
            " [[[49, 0, 2, 0.72185874], [42, 1, 2, 0.60477567], [42, 3, 2, 0.7253187], [37, 8, 3, 1.0]], [[40, 7, 2, 0.68834794], [39, 9, 3, 1.0], [37, 14, 1, 0.5205883], [35, 16, 3, 0.4498539], [35, 19, 1, 0.5399995]], [[40, 1, 2, 0.94362736], [35, 5, 2, 0.3900145], [35, 7, 2, 0.733846], [35, 9, 2, 0.79968965], [40, 13, 1, 0.83257836], [39, 15, 2, 0.68325686], [39, 17, 2, 0.68129677], [39, 21, 2, 1.0]], [[39, 0, 1, 0.6233797], [49, 2, 1, 0.38021988], [51, 4, 2, 0.5889622], [52, 11, 2, 0.6162118], [51, 15, 2, 0.95235497], [51, 17, 1, 0.8126932], [51, 21, 2, 1.0]], [[40, 0, 1, 0.4561886], [49, 7, 2, 0.9496571], [49, 9, 2, 1.0], [49, 11, 2, 0.84156346], [45, 16, 3, 0.56668335], [45, 19, 1, 0.42262846], [52, 21, 2, 0.40530142]], [[37, 5, 3, 1.0], [40, 7, 3, 0.51324475], [40, 10, 1, 0.34895146]], [[37, 0, 2, 0.90768045], [33, 3, 2, 0.4922026], [30, 16, 3, 0.34103942], [30, 19, 1, 0.6893506]], [[39, 1, 3, 1.0], [40, 3, 5, 0.9288396], [40, 8, 1, 0.8113002]], [[39, 0, 1, 0.54070103], [49, 2, 1, 0.4495587], [51, 4, 2, 0.5354457], [52, 11, 2, 0.6139461], [51, 15, 3, 1.0], [51, 21, 2, 0.83447015]], [[39, 1, 3, 1.0], [39, 4, 1, 0.5735685], [39, 7, 1, 0.73427844], [39, 18, 3, 0.8081645], [40, 21, 2, 0.6084964]], [[37, 1, 3, 0.9455514], [37, 4, 2, 0.59712386], [32, 7, 3, 1.0], [32, 10, 2, 0.918511]], [[39, 1, 1, 1.0], [42, 4, 1, 0.36855465], [39, 7, 1, 0.92485255], [39, 16, 2, 0.7484022], [39, 18, 3, 0.9207256], [40, 20, 3, 0.6329744]], [[40, 2, 2, 0.42663544], [44, 7, 2, 1.0]], [[40, 1, 4, 1.0], [39, 4, 1, 0.5960588], [35, 7, 2, 0.749949], [35, 9, 2, 0.70320624]], [[37, 0, 2, 0.71174526], [30, 1, 2, 0.5333272], [30, 3, 2, 0.59047073], [25, 8, 3, 1.0]], [[40, 0, 1, 0.4204735], [49, 2, 1, 0.337044], [49, 9, 4, 1.0], [52, 15, 2, 0.48202646]]]\n",
            "up_leapingF  generate done!\n",
            "info is \n",
            " [[[48, 5, 3, 1.0]], [[48, 0, 4, 0.5959341], [48, 4, 1, 0.37002522], [46, 16, 4, 1.0], [50, 20, 2, 0.96585804], [43, 22, 1, 0.37209505]], [[48, 1, 3, 0.99301106], [48, 4, 1, 0.9726414], [48, 7, 1, 0.8817938], [48, 11, 3, 1.0]], [[48, 3, 2, 0.6683034], [48, 12, 3, 0.42641512], [45, 16, 3, 0.3699893], [45, 19, 1, 0.5353909]], [[48, 0, 2, 0.77307826], [46, 6, 1, 1.0], [43, 15, 2, 0.88861024], [43, 18, 4, 0.7553726], [43, 22, 1, 0.999906]], [[48, 1, 3, 0.99089587], [48, 4, 1, 0.96823066], [48, 7, 1, 0.87488276], [48, 11, 3, 1.0]], [[48, 1, 3, 1.0], [48, 4, 1, 0.94008887], [48, 7, 1, 0.8477499], [48, 13, 1, 0.95903534], [48, 18, 2, 0.8428842]], [[53, 1, 4, 0.96360075], [52, 4, 1, 0.9719857], [48, 7, 2, 1.0], [48, 9, 2, 0.8159947]], [[48, 1, 3, 1.0], [48, 4, 1, 0.7956363], [48, 7, 1, 0.6877073], [48, 11, 2, 0.7372296], [48, 13, 2, 0.7929851], [48, 15, 3, 0.60837126], [48, 18, 3, 0.9804898]], [[48, 1, 3, 1.0], [48, 4, 1, 0.94497967], [48, 7, 1, 0.82006896]], [[48, 0, 4, 0.52560455], [48, 4, 2, 0.52927244], [46, 16, 2, 0.8149224], [50, 18, 2, 0.71650416], [50, 20, 2, 1.0]], [[50, 5, 3, 1.0], [53, 7, 3, 0.56179506], [53, 10, 1, 0.35055655]], [[48, 1, 4, 1.0], [45, 6, 3, 0.5986829]], [[48, 0, 2, 0.57389784], [46, 6, 2, 1.0], [43, 15, 2, 0.50469124], [43, 18, 2, 0.51760644], [43, 22, 1, 0.7648487]], [[52, 1, 3, 0.61890644], [53, 3, 4, 0.40887123], [50, 8, 2, 0.703244], [50, 10, 2, 1.0]], [[45, 5, 2, 0.35731176], [48, 7, 1, 0.4064623], [36, 14, 2, 1.0]]]\n",
            "up_leapingF#  generate done!\n",
            "info is \n",
            " [[[51, 5, 3, 1.0], [54, 7, 3, 0.46996653], [54, 10, 1, 0.36935234]], [[53, 2, 3, 0.5202463], [53, 5, 1, 0.5505789], [56, 12, 1, 0.6669104], [54, 15, 1, 0.72809285], [56, 21, 2, 0.87178355]], [[54, 3, 2, 0.87041205], [56, 7, 2, 0.6399662], [53, 14, 1, 0.47122386], [51, 16, 3, 0.4173264], [51, 19, 1, 0.5284206]], [[54, 0, 4, 0.45444643], [54, 4, 3, 0.43582758], [54, 7, 3, 1.0], [54, 10, 2, 0.40414673]], [[53, 2, 2, 1.0], [53, 4, 4, 0.9101964], [53, 8, 5, 0.9739505], [54, 15, 1, 0.89802915]], [[63, 1, 3, 0.4151192], [53, 5, 3, 0.5661054], [63, 9, 2, 0.4478541], [59, 15, 2, 0.7845608], [59, 17, 1, 0.66730595], [65, 21, 3, 1.0]], [[54, 2, 1, 0.35974047], [56, 3, 4, 0.5375898], [56, 7, 2, 1.0], [56, 9, 2, 0.8179649]], [[51, 0, 2, 0.5605995], [49, 6, 2, 1.0], [46, 15, 2, 0.4874185], [46, 18, 2, 0.5164959], [46, 22, 1, 0.7448702]], [[54, 0, 4, 0.65347064], [54, 4, 1, 0.4008453], [53, 18, 3, 0.34476686], [56, 20, 2, 1.0]], [[56, 0, 4, 0.7232402], [54, 4, 3, 0.5433061], [54, 7, 2, 0.7691607], [51, 10, 3, 0.88028175], [51, 13, 1, 1.0]], [[49, 1, 3, 0.5166865], [49, 4, 1, 0.38702172], [47, 7, 2, 0.46813422], [44, 9, 2, 0.51605916], [49, 13, 3, 1.0], [59, 15, 2, 0.4929769], [56, 16, 1, 0.5337605], [59, 17, 1, 0.69865406], [65, 21, 3, 0.86815697]], [[54, 1, 1, 0.42725557], [49, 10, 4, 0.45364484], [49, 14, 2, 1.0], [51, 21, 2, 0.52533716]], [[63, 1, 3, 0.49663073], [53, 5, 2, 0.59168786], [63, 8, 3, 0.37039897], [59, 15, 2, 0.800824], [59, 17, 1, 0.7453233], [65, 21, 2, 1.0]], [[58, 1, 3, 1.0], [58, 4, 1, 0.6158044], [58, 7, 1, 0.63252026], [58, 13, 2, 0.6332594], [58, 15, 3, 0.70306534], [58, 18, 3, 0.8593641], [59, 21, 2, 0.54599184]], [[56, 2, 3, 0.49040246], [56, 5, 1, 0.538897], [58, 10, 1, 1.0], [59, 12, 1, 0.71608454], [59, 21, 2, 0.8712776]], [[54, 1, 2, 0.41243082], [58, 3, 2, 0.35816872], [49, 14, 2, 1.0]]]\n",
            "up_leapingG  generate done!\n",
            "info is \n",
            " [[[50, 0, 2, 0.6937674], [43, 1, 2, 0.5418746], [43, 3, 2, 0.6400137], [38, 8, 3, 1.0]], [[38, 0, 1, 0.44535333], [50, 4, 2, 0.3384478], [47, 7, 2, 0.846805], [47, 9, 2, 1.0], [47, 11, 3, 0.8891172], [50, 15, 3, 0.42794827], [43, 16, 2, 0.49842468], [50, 21, 2, 0.5141683]], [[42, 0, 1, 0.7139705], [52, 2, 1, 0.46606934], [54, 4, 2, 0.6494318], [52, 10, 1, 0.51931113], [55, 11, 2, 0.49066302], [54, 15, 2, 0.99142414], [54, 17, 1, 0.8043746], [54, 21, 2, 1.0]], [[38, 0, 1, 0.3457578], [47, 9, 2, 1.0], [47, 11, 3, 0.7213295], [43, 16, 3, 0.5129882], [43, 19, 1, 0.583666]], [[40, 5, 3, 1.0], [43, 7, 3, 0.7459127], [43, 10, 1, 0.3788283]], [[40, 1, 3, 0.50883293], [30, 5, 2, 0.6003728], [40, 8, 3, 0.3706158], [36, 15, 2, 0.79901135], [36, 17, 1, 0.74614894], [42, 21, 2, 1.0]], [[38, 0, 2, 0.7341421], [45, 3, 2, 0.7779722], [45, 9, 6, 1.0], [43, 12, 2, 0.7668063], [45, 15, 2, 0.8815494], [43, 18, 1, 0.42085272]], [[43, 0, 1, 0.6760639], [43, 4, 1, 0.71095735], [43, 7, 1, 0.8465695], [36, 9, 3, 0.70606256], [38, 11, 2, 1.0], [42, 13, 1, 0.61244726], [43, 15, 3, 0.87976485], [43, 18, 3, 0.5953146]], [[38, 0, 2, 1.0], [35, 10, 2, 0.5361548], [31, 19, 1, 0.5698531]], [[38, 0, 3, 0.548904], [36, 6, 1, 1.0], [33, 16, 1, 0.71091926], [33, 19, 3, 0.7180816], [33, 22, 1, 0.7957386]], [[42, 1, 3, 1.0], [43, 3, 3, 0.70970124], [43, 6, 3, 0.6623875]], [[43, 1, 2, 0.90131], [38, 5, 2, 0.37381196], [38, 7, 2, 0.70456606], [38, 9, 2, 0.7822898], [43, 13, 1, 0.81936413], [42, 15, 2, 0.6612102], [42, 17, 2, 0.65370256], [42, 21, 2, 1.0]], [[38, 0, 3, 0.5024541], [36, 6, 2, 1.0], [33, 15, 2, 0.5212668], [33, 19, 1, 0.5449394], [33, 22, 1, 0.7169598]], [[38, 0, 4, 0.7374634], [36, 4, 3, 0.5801574], [36, 7, 2, 0.7441312], [33, 10, 3, 0.8538277], [33, 13, 1, 1.0]], [[38, 0, 4, 0.5656286], [38, 4, 1, 0.41353345], [36, 16, 3, 0.83750135], [36, 19, 2, 1.0], [33, 22, 2, 0.8192667]], [[38, 0, 3, 0.56026727], [36, 6, 1, 1.0], [36, 16, 1, 0.7946661], [33, 18, 3, 0.8987969], [33, 21, 2, 0.81720346]]]\n",
            "up_leapingG#  generate done!\n",
            "info is \n",
            " [[[48, 5, 3, 1.0], [51, 7, 3, 0.7010661], [51, 10, 1, 0.37270033]], [[48, 0, 1, 0.41154656], [60, 4, 2, 0.570667], [61, 11, 2, 0.598108], [60, 15, 2, 1.0], [60, 17, 1, 0.74894637], [60, 21, 2, 0.85514265]], [[55, 1, 1, 1.0], [58, 4, 1, 0.40226743], [55, 7, 1, 0.94036007], [55, 18, 3, 0.9109253], [56, 20, 3, 0.56881475]], [[55, 0, 1, 0.54970795], [65, 2, 1, 0.35656187], [67, 4, 2, 0.6098718], [68, 11, 2, 0.6968556], [67, 15, 2, 0.938406], [67, 17, 1, 0.82584953], [67, 21, 2, 1.0]], [[51, 7, 2, 1.0], [51, 9, 2, 0.9676151], [53, 18, 2, 0.59380764]], [[51, 0, 1, 0.3473058], [49, 7, 2, 0.3347642], [48, 9, 4, 1.0], [44, 19, 1, 0.5211993]], [[51, 0, 4, 0.73601866], [49, 4, 3, 0.5656678], [49, 7, 2, 0.7377918], [46, 10, 3, 0.8522966], [46, 13, 1, 1.0]], [[51, 0, 2, 1.0], [58, 3, 2, 0.78436154], [58, 9, 6, 0.9716351], [56, 12, 1, 0.80407715], [58, 15, 2, 0.4663947], [56, 18, 1, 0.6835243]], [[51, 0, 1, 0.37848094], [60, 2, 2, 0.36804104], [60, 9, 2, 1.0], [60, 11, 2, 0.7517321]], [[51, 0, 1, 0.69833267], [60, 2, 2, 0.6203877], [63, 4, 2, 0.7646198], [60, 9, 4, 1.0], [63, 15, 3, 0.8484146], [63, 21, 2, 0.904589]], [[51, 0, 4, 0.5513239], [51, 4, 1, 0.35688367], [49, 16, 3, 0.8368969], [49, 19, 2, 1.0], [46, 22, 2, 0.84018284]], [[51, 0, 3, 0.4800112], [49, 6, 2, 1.0], [46, 15, 2, 0.5096179], [46, 19, 1, 0.49947175], [46, 22, 1, 0.6579309]], [[51, 0, 1, 0.38394463], [60, 7, 2, 0.9671005], [60, 9, 2, 1.0], [60, 11, 2, 0.86775166], [56, 16, 4, 0.5347921]], [[51, 0, 3, 0.4066482], [49, 6, 1, 1.0], [46, 15, 2, 0.43563035], [46, 18, 2, 0.4971077], [46, 22, 1, 0.57677776]], [[53, 5, 2, 1.0], [56, 7, 1, 0.4017424]], [[51, 1, 3, 0.98940885], [51, 4, 1, 0.970898], [51, 7, 1, 0.8791653], [51, 11, 3, 1.0]]]\n",
            "up_leapingA  generate done!\n",
            "info is \n",
            " [[[49, 0, 4, 0.56732917], [49, 4, 1, 0.55729926], [49, 7, 3, 1.0], [44, 8, 2, 0.4153421], [49, 10, 4, 0.63882977]], [[49, 0, 4, 1.0], [49, 4, 1, 0.9705152], [49, 7, 1, 0.8517897], [49, 11, 2, 0.8655618]], [[49, 0, 1, 0.41347775], [61, 4, 2, 0.5668317], [62, 11, 2, 0.5940533], [61, 15, 2, 1.0], [61, 17, 1, 0.75162804], [61, 21, 2, 0.88313526]], [[49, 1, 3, 0.82910556], [49, 4, 1, 0.742776], [49, 7, 1, 0.6685727], [49, 13, 1, 0.7891349], [49, 18, 3, 1.0]], [[49, 1, 3, 1.0], [50, 3, 3, 0.7121174], [50, 6, 3, 0.66114664]], [[47, 0, 5, 0.5981349], [45, 16, 3, 1.0], [45, 19, 2, 0.66816247], [49, 20, 2, 0.81973195], [42, 22, 2, 0.8322662]], [[49, 2, 2, 0.6115784], [49, 4, 4, 0.6409019], [49, 8, 3, 0.52854985], [50, 15, 1, 1.0], [52, 21, 2, 0.81451505]], [[49, 0, 2, 0.54336524], [47, 6, 1, 1.0], [44, 15, 2, 0.54276854], [44, 19, 3, 0.5851456], [44, 22, 1, 0.81387675]], [[52, 1, 3, 0.75406426], [52, 4, 2, 0.41307145], [50, 16, 3, 0.9165897], [54, 18, 2, 0.6607839], [54, 20, 2, 1.0]], [[49, 0, 1, 0.52706623], [59, 2, 1, 0.46961015], [61, 4, 2, 0.4540904], [62, 12, 1, 0.4591676], [61, 15, 3, 1.0], [61, 21, 2, 0.64840925]], [[49, 5, 3, 1.0], [52, 7, 3, 0.56011224], [52, 10, 1, 0.3468731]], [[49, 0, 1, 0.5783982], [59, 2, 1, 0.48387396], [61, 4, 2, 0.5607657], [62, 11, 2, 0.57543504], [61, 15, 3, 1.0], [61, 21, 2, 0.87407994]], [[50, 2, 1, 0.33956495], [52, 3, 4, 0.486234], [52, 7, 2, 1.0], [52, 9, 2, 0.8433521]], [[49, 9, 5, 1.0], [45, 16, 3, 0.48823285], [45, 19, 1, 0.39334705]], [[50, 2, 1, 0.39674786], [52, 4, 2, 0.55542123], [52, 15, 2, 1.0], [52, 17, 1, 0.88810444], [52, 21, 2, 0.9005234]], [[54, 2, 1, 0.35490704], [54, 5, 1, 0.4098753], [56, 7, 2, 0.93369], [56, 9, 2, 1.0], [57, 12, 1, 0.44960427], [57, 21, 2, 0.84653264]]]\n",
            "up_leapingA#  generate done!\n",
            "info is \n",
            " [[[51, 2, 3, 0.41411567], [55, 7, 3, 1.0]], [[53, 0, 1, 0.37525466], [62, 9, 2, 1.0], [62, 11, 3, 0.74208456], [58, 16, 3, 0.51871073], [58, 19, 1, 0.58158046]], [[55, 0, 2, 0.45326892], [55, 2, 3, 0.48680833], [57, 18, 4, 1.0]], [[57, 7, 2, 0.66379166], [57, 9, 4, 1.0], [55, 13, 2, 0.35319474], [53, 19, 1, 0.5218897]], [[55, 0, 2, 0.6514593], [48, 3, 2, 0.94271], [43, 5, 2, 0.8260114], [43, 7, 3, 1.0]], [[55, 0, 2, 0.95665246], [55, 4, 3, 0.46234894], [55, 7, 1, 0.7926574], [57, 8, 2, 0.5310785], [48, 9, 2, 0.843002], [50, 10, 2, 0.6048538], [50, 11, 2, 1.0], [50, 13, 2, 0.9738657], [62, 14, 3, 0.40436503], [58, 20, 1, 0.6868486]], [[55, 0, 1, 0.6187854], [55, 4, 1, 0.6085107], [55, 7, 1, 0.7776117], [48, 9, 3, 0.6044365], [50, 11, 2, 1.0], [55, 15, 3, 0.7791161], [55, 18, 3, 0.43982106], [58, 20, 1, 0.3979343]], [[58, 0, 1, 0.68494636], [58, 4, 1, 1.0], [58, 6, 2, 0.4628417], [51, 9, 3, 0.9425288], [57, 13, 2, 0.8371371], [58, 16, 2, 0.7311063], [58, 18, 2, 0.84773767], [58, 20, 1, 0.85978866]], [[58, 1, 4, 1.0], [55, 6, 3, 0.5148493]], [[55, 7, 2, 0.66766965], [55, 9, 3, 1.0], [53, 14, 1, 0.37342036], [51, 19, 1, 0.49522957]], [[57, 1, 1, 1.0], [60, 4, 1, 0.4385763], [57, 6, 2, 0.98198885], [57, 18, 3, 0.94076926], [58, 20, 3, 0.5535546]], [[55, 1, 4, 1.0], [51, 7, 4, 0.6873942], [50, 10, 1, 0.712143]], [[50, 1, 3, 1.0], [50, 4, 1, 0.57082033], [50, 7, 1, 0.73976034], [50, 18, 3, 0.8083336], [51, 21, 2, 0.6105969]], [[58, 2, 3, 1.0], [57, 4, 2, 0.4863525], [55, 15, 2, 0.6917755], [53, 18, 4, 0.9914463], [53, 22, 1, 0.82565266]], [[55, 1, 3, 1.0], [55, 4, 1, 0.978161], [55, 7, 1, 0.88732105], [55, 11, 3, 0.9972035]], [[55, 0, 7, 0.45751974], [55, 7, 2, 1.0]]]\n",
            "up_leapingB  generate done!\n",
            "info is \n",
            " [[[49, 0, 4, 0.4478594], [49, 4, 3, 0.35924578], [49, 7, 5, 1.0]], [[47, 3, 2, 0.87882507], [49, 7, 2, 0.68407017], [46, 13, 2, 0.54072547], [44, 16, 3, 0.44832414], [44, 19, 1, 0.540412]], [[59, 0, 1, 0.7586495], [59, 4, 2, 1.0], [59, 6, 2, 0.52601236], [52, 9, 3, 0.9949814], [54, 11, 2, 0.63171834], [58, 13, 2, 0.69040847], [59, 15, 3, 0.8514854], [59, 18, 2, 0.9463464], [59, 20, 1, 0.8401823]], [[51, 7, 2, 0.659387], [51, 9, 4, 1.0], [49, 13, 2, 0.37147033], [47, 16, 3, 0.34207395], [47, 19, 1, 0.54292715]], [[56, 1, 2, 0.8346154], [54, 2, 1, 0.4747997], [46, 5, 2, 0.6573783], [56, 8, 3, 0.51075834], [52, 15, 2, 0.95999104], [52, 17, 1, 0.71077603], [58, 21, 2, 1.0]], [[59, 0, 1, 0.75707966], [59, 4, 1, 0.9732722], [59, 6, 2, 0.4166324], [52, 9, 3, 1.0], [58, 13, 1, 0.9424184], [59, 16, 3, 0.6990113], [59, 19, 2, 0.9637153]], [[49, 0, 2, 0.54362833], [56, 3, 2, 0.7129891], [56, 9, 3, 1.0], [54, 12, 2, 0.7196676], [56, 15, 2, 0.9025527]], [[49, 0, 1, 0.57767904], [49, 4, 1, 0.41429853], [49, 7, 1, 0.67993355], [42, 9, 3, 0.5000974], [44, 11, 3, 1.0], [49, 15, 6, 0.5782051], [52, 20, 1, 0.5958145]], [[49, 0, 2, 0.69478095], [42, 1, 2, 0.571212], [42, 3, 2, 0.6750315], [37, 8, 3, 1.0]], [[49, 0, 4, 0.7449057], [47, 4, 3, 0.5346513], [47, 7, 2, 0.78906745], [44, 10, 3, 0.8928406], [44, 13, 1, 1.0]], [[47, 0, 1, 0.75003123], [47, 4, 1, 0.99131376], [47, 6, 2, 0.5316468], [40, 9, 3, 1.0], [42, 11, 2, 0.6448515], [46, 13, 2, 0.69156736], [47, 15, 3, 0.86191267], [47, 18, 2, 0.94931024], [47, 20, 1, 0.84569967]], [[52, 2, 2, 0.46421003], [56, 7, 2, 1.0]], [[46, 1, 3, 1.0], [46, 4, 1, 0.72681326], [46, 7, 1, 0.64307284], [46, 11, 2, 0.71718836], [46, 13, 2, 0.7535798], [46, 15, 3, 0.6666801], [46, 18, 3, 0.95302933], [47, 22, 1, 0.5541984]], [[54, 1, 2, 0.7387194], [49, 5, 4, 0.4716467], [52, 7, 1, 0.60467386], [49, 9, 2, 0.8371578], [54, 13, 2, 0.83706933], [49, 16, 1, 1.0], [52, 17, 1, 0.54096353], [58, 21, 2, 0.5712794]], [[49, 0, 2, 1.0], [46, 9, 3, 0.7027474], [42, 19, 1, 0.6157566]], [[51, 0, 4, 0.5558641], [51, 4, 1, 0.5295239], [49, 16, 3, 0.8308547], [47, 18, 2, 0.37559977], [49, 19, 2, 1.0], [46, 22, 2, 0.7875711]]]\n"
          ],
          "name": "stdout"
        }
      ]
    }
  ]
}